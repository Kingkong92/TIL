{
 "cells": [
  {
   "cell_type": "code",
   "execution_count": 1,
   "metadata": {},
   "outputs": [
    {
     "data": {
      "text/plain": [
       "'\\n클래스: 객체(캐릭터)를 표현하기 위한 개념\\n게임에서 기사, 궁수, 마법사 등 직업별로 클래스가 생성됨.\\n웹브라우저-스크롤바, 버튼, 체크박스 등 구성요소 모두 클래스임.\\n\\n1) 기사 클래스로 홍길동 객체(캐릭터)를 생성\\n2) 체력, 마나, 공격력... 초기값 설정 - 속성\\n3) 달리기, 베기, 찌르기... 동작 스킬 - 메서드\\n\\n* 클래스는 속성과 메서드로 구성됨.\\n\\ne.g., 계산기 3 +4 -> 7 + 3 => 10\\n\\n'"
      ]
     },
     "execution_count": 1,
     "metadata": {},
     "output_type": "execute_result"
    }
   ],
   "source": [
    "\"\"\"\n",
    "클래스: 객체(캐릭터)를 표현하기 위한 개념\n",
    "게임에서 기사, 궁수, 마법사 등 직업별로 클래스가 생성됨.\n",
    "웹브라우저-스크롤바, 버튼, 체크박스 등 구성요소 모두 클래스임.\n",
    "\n",
    "1) 기사 클래스로 홍길동 객체(캐릭터)를 생성\n",
    "2) 체력, 마나, 공격력... 초기값 설정 - 속성\n",
    "3) 달리기, 베기, 찌르기... 동작 스킬 - 메서드\n",
    "\n",
    "* 클래스는 속성과 메서드로 구성됨.\n",
    "\n",
    "e.g., 계산기 3 +4 -> 7 + 3 => 10\n",
    "\n",
    "\"\"\"\n"
   ]
  },
  {
   "cell_type": "code",
   "execution_count": 3,
   "metadata": {},
   "outputs": [
    {
     "name": "stdout",
     "output_type": "stream",
     "text": [
      "3\n",
      "7\n"
     ]
    }
   ],
   "source": [
    "res=0\n",
    "def add(num):\n",
    "    global res\n",
    "    res += num\n",
    "    return res\n",
    "    \n",
    "print(add(3)) #첫번째 3을 호출\n",
    "print(add(4)) #두번째 4를 호출\n"
   ]
  },
  {
   "cell_type": "code",
   "execution_count": 4,
   "metadata": {},
   "outputs": [
    {
     "name": "stdout",
     "output_type": "stream",
     "text": [
      "3\n",
      "4\n"
     ]
    }
   ],
   "source": [
    "#res=0\n",
    "def add(num):\n",
    "    #global res\n",
    "    res =0\n",
    "    res += num\n",
    "    return res\n",
    "\n",
    "print(add(3)) \n",
    "print(add(4))\n",
    "#전역변수를 사용하는 이유\n",
    "#결과값을 누적하는 경우 전역변수 사용해야한다. "
   ]
  },
  {
   "cell_type": "code",
   "execution_count": 5,
   "metadata": {},
   "outputs": [
    {
     "name": "stdout",
     "output_type": "stream",
     "text": [
      "3\n",
      "7\n",
      "3\n",
      "7\n"
     ]
    }
   ],
   "source": [
    "#계산기 2대\n",
    "#def 1개당 계산기 1개\n",
    "res1=0\n",
    "res2=0\n",
    "\n",
    "def add1(num):\n",
    "    global res1\n",
    "    res1 += num\n",
    "    return res1\n",
    "\n",
    "def add2(num):\n",
    "    global res2\n",
    "    res2 += num\n",
    "    return res2\n",
    "\n",
    "print(add1(3)) \n",
    "print(add1(4))\n",
    "print(add2(3)) \n",
    "print(add2(4))"
   ]
  },
  {
   "cell_type": "code",
   "execution_count": 14,
   "metadata": {},
   "outputs": [],
   "source": [
    "#클래스를 사용하는 이유, 앞선 계산기 여러대가 필요할때 코드가 많이 길어지므로.\n",
    "class Calc: #변수 이름 규칙과 같음\n",
    "#     def greeting(seㅣf): #모든메서드는 첫번째 함수에는 self를 줘야한다.\n",
    "#         print(\"hello\")\n",
    "    def __init__(self): #객체를 초기화하는 역할, 객체가 만들어지는 시점에.\n",
    "        self.res=0\n",
    "        #print(\"초기화\")\n",
    "        \n",
    "    def add(self,num):\n",
    "        self.res+=num\n",
    "        return self.res\n",
    "    \n",
    "    def sub(self,num):\n",
    "        self.res-=num\n",
    "        return self.res    "
   ]
  },
  {
   "cell_type": "code",
   "execution_count": 12,
   "metadata": {},
   "outputs": [
    {
     "name": "stdout",
     "output_type": "stream",
     "text": [
      "초기화\n",
      "초기화\n",
      "3\n",
      "7\n",
      "3\n",
      "10\n"
     ]
    }
   ],
   "source": [
    "# hgd=Calc() #객체=클래스(), 클래스명 뒤에 괄호를 둬야 여러가가 생긴다\n",
    "# hgd.greeting()\n",
    "\n",
    "cal1= Calc() #계산기 1, 캐릭터 생성\n",
    "cal2= Calc() #계산기 2\n",
    "\n",
    "print(cal1.add(3))\n",
    "print(cal1.add(4))\n",
    "print(cal2.add(3))\n",
    "print(cal2.add(7))\n",
    "#독립적으로 객체 생성, 코드 추가 필요 없음. "
   ]
  },
  {
   "cell_type": "code",
   "execution_count": null,
   "metadata": {},
   "outputs": [],
   "source": [
    "# 붕어빵 기계 -> 클래스(class), 내용물-속성(특징)과 메서드(동작)\n",
    "# 붕어빵 -> 객체(object), 독립적\n",
    "\n"
   ]
  },
  {
   "cell_type": "code",
   "execution_count": null,
   "metadata": {},
   "outputs": [],
   "source": [
    "class FishBread:\n",
    "    pass\n",
    "#아무 기능도 없는 클래스 정의 가능."
   ]
  },
  {
   "cell_type": "code",
   "execution_count": 8,
   "metadata": {},
   "outputs": [],
   "source": [
    "class FourCal:\n",
    "    def add(self):\n",
    "        res = self.first+self.second\n",
    "        return res\n",
    "    \n",
    "    def sub(self):\n",
    "        res = self.first-self.second\n",
    "        return res\n",
    "    \n",
    "    def mul(self):\n",
    "        res = self.first*self.second\n",
    "        return res\n",
    "    \n",
    "    def div(self):\n",
    "        res = self.first/self.second\n",
    "        return res\n",
    "    \n",
    "    def setData(self, first, second): \n",
    "        self.first=first #self.first =4\n",
    "        self.second=second #self.second =2\n",
    "#self:지금(현재) 만들어지고 있는 객체\n",
    "#self.first:지금 만들어지고 있는 객체의 first속성\n",
    "#self.first:지금 만들어지고 있는 객체의 first속성\n",
    "\n",
    "    "
   ]
  },
  {
   "cell_type": "code",
   "execution_count": 9,
   "metadata": {},
   "outputs": [
    {
     "name": "stdout",
     "output_type": "stream",
     "text": [
      "<class '__main__.FourCal'>\n",
      "6\n",
      "3\n"
     ]
    }
   ],
   "source": [
    "#사칙 연산 클래스\n",
    "\n",
    "a=FourCal() #FourCal 클래스로부터 객체 생성(a)\n",
    "print(type(a))\n",
    "a.setData(4,2) #숫자 4,2를 a에 지정\n",
    "print(a.add()) #4+2= 6리턴\n",
    "\n",
    "b=FourCal()\n",
    "b.setData(1,2)\n",
    "print(b.add())\n"
   ]
  },
  {
   "cell_type": "code",
   "execution_count": 10,
   "metadata": {},
   "outputs": [
    {
     "name": "stdout",
     "output_type": "stream",
     "text": [
      "2\n",
      "2.0\n",
      "8\n"
     ]
    }
   ],
   "source": [
    "print(a.sub())\n",
    "print(a.div())\n",
    "print(a.mul())"
   ]
  },
  {
   "cell_type": "code",
   "execution_count": 20,
   "metadata": {},
   "outputs": [],
   "source": [
    "# class MoreFourCal(FourCal):\n",
    "#     pass\n",
    "#상속 => class 자식클래스명(부모클래스명):\n",
    "#MoreFourCal클랙스는 FourCal 클래스를 상속했으므로\n",
    "#FourCal 클래스의 모든 기능을 사용할 수 있음.\n",
    "class MoreFourCal(FourCal):\n",
    "    def pow(self):\n",
    "        res= self.first ** self.second # 2 ** 3= 2^3 = 8 제곱.\n",
    "        return res"
   ]
  },
  {
   "cell_type": "code",
   "execution_count": 21,
   "metadata": {},
   "outputs": [
    {
     "name": "stdout",
     "output_type": "stream",
     "text": [
      "16\n"
     ]
    }
   ],
   "source": [
    "a= MoreFourCal()\n",
    "a.setData(4,2)\n",
    "print(a.pow())\n",
    "#a.add() - 6\n",
    "#상속은 기본적으로 물려받는것인데, 자식이 부모의 속성을 추가 및 수정. "
   ]
  },
  {
   "cell_type": "code",
   "execution_count": 23,
   "metadata": {},
   "outputs": [
    {
     "name": "stdout",
     "output_type": "stream",
     "text": [
      "2.0\n",
      "2.0\n"
     ]
    }
   ],
   "source": [
    "#메서드 오버라이딩(Overriding):부모 클래스로부터 \n",
    "#상속받은 메서드를 자식이 변경한것.\n",
    "myObj= FourCal()\n",
    "myObj.setData(4,2)\n",
    "print(myObj.div())\n",
    "\n",
    "myObj2= FourCal()\n",
    "myObj2.setData(4,2)\n",
    "print(myObj2.div())\n"
   ]
  },
  {
   "cell_type": "code",
   "execution_count": 30,
   "metadata": {},
   "outputs": [],
   "source": [
    "class SafeFourCal(FourCal):\n",
    "    def div(self):\n",
    "        if self.second ==1: \n",
    "            print(\"1로 나누지ㅏ마세요!\")\n",
    "            return\n",
    "        else:\n",
    "            return self.first/self.second\n",
    "        "
   ]
  },
  {
   "cell_type": "code",
   "execution_count": 31,
   "metadata": {},
   "outputs": [
    {
     "ename": "AttributeError",
     "evalue": "'SafeFourCal' object has no attribute 'dvi'",
     "output_type": "error",
     "traceback": [
      "\u001b[1;31m---------------------------------------------------------------------------\u001b[0m",
      "\u001b[1;31mAttributeError\u001b[0m                            Traceback (most recent call last)",
      "\u001b[1;32m<ipython-input-31-0a68d4163028>\u001b[0m in \u001b[0;36m<module>\u001b[1;34m\u001b[0m\n\u001b[0;32m      1\u001b[0m \u001b[0msfc\u001b[0m\u001b[1;33m=\u001b[0m\u001b[0mSafeFourCal\u001b[0m\u001b[1;33m(\u001b[0m\u001b[1;33m)\u001b[0m\u001b[1;33m\u001b[0m\u001b[1;33m\u001b[0m\u001b[0m\n\u001b[0;32m      2\u001b[0m \u001b[0msfc\u001b[0m\u001b[1;33m.\u001b[0m\u001b[0msetData\u001b[0m\u001b[1;33m(\u001b[0m\u001b[1;36m4\u001b[0m\u001b[1;33m,\u001b[0m\u001b[1;36m1\u001b[0m\u001b[1;33m)\u001b[0m\u001b[1;33m\u001b[0m\u001b[1;33m\u001b[0m\u001b[0m\n\u001b[1;32m----> 3\u001b[1;33m \u001b[0mprint\u001b[0m\u001b[1;33m(\u001b[0m\u001b[0msfc\u001b[0m\u001b[1;33m.\u001b[0m\u001b[0mdvi\u001b[0m\u001b[1;33m(\u001b[0m\u001b[1;33m)\u001b[0m\u001b[1;33m)\u001b[0m\u001b[1;33m\u001b[0m\u001b[1;33m\u001b[0m\u001b[0m\n\u001b[0m",
      "\u001b[1;31mAttributeError\u001b[0m: 'SafeFourCal' object has no attribute 'dvi'"
     ]
    }
   ],
   "source": [
    "sfc=SafeFourCal()\n",
    "sfc.setData(4,1)\n",
    "print(sfc.dvi())"
   ]
  },
  {
   "cell_type": "code",
   "execution_count": 7,
   "metadata": {},
   "outputs": [
    {
     "name": "stdout",
     "output_type": "stream",
     "text": [
      "안녕하세요. 나는 홍길동입니다\n",
      "이름: 홍길동\n",
      "나이: 25\n",
      "사는곳: 서울시 역삼동\n"
     ]
    }
   ],
   "source": [
    "class Person:\n",
    "    def __init__(self, na, ag, ad): #\"홍길동\", 25, \"서울시 역삼동\"\n",
    "        self.name=na\n",
    "        self.age=ag\n",
    "        self.addr=ad\n",
    "      \n",
    "    def greeting(self):\n",
    "        print(\"안녕하세요. 나는 {0}입니다\".format(self.name))\n",
    "      \n",
    "\n",
    "ps=Person(\"홍길동\", 25, \"서울시 역삼동\")\n",
    "ps.greeting()#안녕하세요. 나는 홍길동입니다.\n",
    "print(\"이름:\", ps.name) #홍길동\n",
    "print(\"나이:\", ps.age) #25\n",
    "print(\"사는곳:\", ps.addr) #역삼동\n",
    "      \n"
   ]
  },
  {
   "cell_type": "code",
   "execution_count": 8,
   "metadata": {},
   "outputs": [
    {
     "name": "stdout",
     "output_type": "stream",
     "text": [
      "안녕하세요. 나는 홍길동입니다\n",
      "이름: 홍길동\n",
      "나이: 25\n",
      "사는곳: 서울시 역삼동\n"
     ]
    }
   ],
   "source": [
    "class Person:\n",
    "    def __init__(self, *args): #\"홍길동\", 25, \"서울시 역삼동\"\n",
    "        self.name=args[0]\n",
    "        self.age=args[1]\n",
    "        self.addr=args[2]\n",
    "      \n",
    "    def greeting(self):\n",
    "        print(\"안녕하세요. 나는 {0}입니다\".format(self.name))\n",
    "      \n",
    "\n",
    "ps=Person(\"홍길동\", 25, \"서울시 역삼동\")\n",
    "ps.greeting()#안녕하세요. 나는 홍길동입니다.\n",
    "print(\"이름:\", ps.name) #홍길동\n",
    "print(\"나이:\", ps.age) #25\n",
    "print(\"사는곳:\", ps.addr) #역삼동\n",
    "      \n"
   ]
  },
  {
   "cell_type": "code",
   "execution_count": null,
   "metadata": {},
   "outputs": [],
   "source": [
    "#내장함수:import가 필요없음. 자주 사용하는것들 모아놓은것들(바로 사용가능)\n",
    "#외장함수:import가 필요함."
   ]
  },
  {
   "cell_type": "code",
   "execution_count": 11,
   "metadata": {},
   "outputs": [
    {
     "name": "stdout",
     "output_type": "stream",
     "text": [
      "3\n",
      "1.2\n"
     ]
    }
   ],
   "source": [
    "print(abs(3))\n",
    "print(abs(-1.2))"
   ]
  },
  {
   "cell_type": "code",
   "execution_count": 14,
   "metadata": {},
   "outputs": [
    {
     "data": {
      "text/plain": [
       "False"
      ]
     },
     "execution_count": 14,
     "metadata": {},
     "output_type": "execute_result"
    }
   ],
   "source": [
    "all([-1,1,2,-2])#모두가 참 -> 참\n",
    "#0:거짓, 0이 아닌 숫자는 모두 참\n",
    "all([-1,0,1]) #0이 거짓 -> 거짓\n"
   ]
  },
  {
   "cell_type": "code",
   "execution_count": 17,
   "metadata": {},
   "outputs": [
    {
     "data": {
      "text/plain": [
       "False"
      ]
     },
     "execution_count": 17,
     "metadata": {},
     "output_type": "execute_result"
    }
   ],
   "source": [
    "any([1,2,3,0]) #True\n",
    "#하나라도 참이면 참 출력\n",
    "#모두 거짓인 경우에만 거짓 출력\n",
    "any([0,0]) #False\n",
    "any([\"\",None, 0]) #False "
   ]
  },
  {
   "cell_type": "code",
   "execution_count": 22,
   "metadata": {},
   "outputs": [
    {
     "name": "stdout",
     "output_type": "stream",
     "text": [
      "1\n"
     ]
    }
   ],
   "source": [
    "chr(65) #0~127까지\n",
    "#아스키 코드(7bit, 2^7=128가지)를 입력받아 해당 문자를 출력\n",
    "#ASCII(American Standard Code for Information Interchange)\n",
    "res= divmod(6,4) #6/4 => 몫:1, 나머지:2 , 튜플형태(1, 2)\n",
    "print(res[0]) # 몫만 취하는 연산 가능\n"
   ]
  },
  {
   "cell_type": "code",
   "execution_count": 25,
   "metadata": {},
   "outputs": [
    {
     "name": "stdout",
     "output_type": "stream",
     "text": [
      "0 test\n",
      "1 test\n",
      "2 body\n"
     ]
    }
   ],
   "source": [
    "#enumerate() #순서가 있는 자료형(리스트, 튜플, 문자열)을 입력 받아서\n",
    "#인덱스와 함께 자료를 리턴해주는 함수. \n",
    "for idx, name in enumerate(['test', 'test', 'body']):\n",
    "    print(idx, name)\n",
    "\n",
    "# 0 test\n",
    "# 1 test\n",
    "# 2 body"
   ]
  },
  {
   "cell_type": "code",
   "execution_count": 29,
   "metadata": {},
   "outputs": [
    {
     "name": "stdout",
     "output_type": "stream",
     "text": [
      "(0, 'test')\n",
      "(1, 'test')\n",
      "(2, 'body')\n"
     ]
    }
   ],
   "source": [
    "for data in enumerate(['test', 'test', 'body']):\n",
    "    #print(data[0],data[1])\n",
    "# 0 test\n",
    "# 1 test\n",
    "# 2 body\n",
    "    print(data)\n",
    "# (0, 'test')\n",
    "# (1, 'test')\n",
    "# (2, 'body')\n",
    "\n",
    "#for문에서 인덱스나 자료를 가지고 나올때 사용하면 매우 유용한 함수"
   ]
  },
  {
   "cell_type": "code",
   "execution_count": 32,
   "metadata": {},
   "outputs": [
    {
     "data": {
      "text/plain": [
       "3"
      ]
     },
     "execution_count": 32,
     "metadata": {},
     "output_type": "execute_result"
    }
   ],
   "source": [
    "#eval함수: 실행 가능한 문자열에 대해 실행한 결과를 리턴\n",
    "1+2 #숫자들의 덧셈 연산 #3\n",
    "\"1+2\"#실행 가능한 문자열\n",
    "eval(\"1+2\") #3\n"
   ]
  },
  {
   "cell_type": "code",
   "execution_count": 37,
   "metadata": {},
   "outputs": [
    {
     "data": {
      "text/plain": [
       "\"'hi'+'hello'\""
      ]
     },
     "execution_count": 37,
     "metadata": {},
     "output_type": "execute_result"
    }
   ],
   "source": [
    "#\"hi\"+\"hello\" #'hihello'\n",
    "\"'hi'+'hello'\" #\"'hi'+'hello'\"\n",
    "#eval(\"'hi'+'hello'\") #'hihello'"
   ]
  },
  {
   "cell_type": "code",
   "execution_count": 39,
   "metadata": {},
   "outputs": [
    {
     "data": {
      "text/plain": [
       "(1, 2)"
      ]
     },
     "execution_count": 39,
     "metadata": {},
     "output_type": "execute_result"
    }
   ],
   "source": [
    "\"divmod(6,4)\"\n",
    "eval(\"divmod(6,4)\") #(1, 2)"
   ]
  },
  {
   "cell_type": "code",
   "execution_count": 30,
   "metadata": {},
   "outputs": [
    {
     "name": "stdout",
     "output_type": "stream",
     "text": [
      "Life is too short. you need python\n"
     ]
    }
   ],
   "source": [
    "#문제 1번 -> replace 함수 사용\n",
    "f =open(\"C:/Users/student/Downloads/Park_Jupyter/test.txt\",\"r\")\n",
    "line=f.readline() \n",
    "a= line.replace(\"java\",\"python\")\n",
    "print(a)\n",
    "f = open(\"C:/Users/student/Downloads/Park_Jupyter/test.txt\",\"w\")\n",
    "f.write(a)\n",
    "f.close()"
   ]
  },
  {
   "cell_type": "code",
   "execution_count": 5,
   "metadata": {},
   "outputs": [
    {
     "name": "stdout",
     "output_type": "stream",
     "text": [
      "actually Life is not short\n"
     ]
    }
   ],
   "source": [
    "#문제 2번-> append 함수 사용\n",
    "f =open(\"C:/Users/student/Downloads/Park_Jupyter/test.txt\",\"a\")\n",
    "newLine= input()\n",
    "f.write(newLine+'\\n')\n",
    "f.close()\n"
   ]
  },
  {
   "cell_type": "code",
   "execution_count": 6,
   "metadata": {},
   "outputs": [
    {
     "name": "stdout",
     "output_type": "stream",
     "text": [
      "3\n"
     ]
    }
   ],
   "source": [
    "#문제 3번\n",
    "class Calculator:\n",
    "    def __init__(self):\n",
    "        self.value = 0\n",
    "\n",
    "    def add(self, val):\n",
    "        self.value += val\n",
    "        return self.value\n",
    "    \n",
    "class UpgradeCalculator(Calculator):\n",
    "    def minus(self, val):\n",
    "        self.value -= val\n",
    "        return self.value\n",
    "    def value(self, val):\n",
    "        self.value = cal.add - calminus\n",
    "\n",
    "cal =UpgradeCalculator()\n",
    "cal.add(10)\n",
    "cal.minus(7)\n",
    "print(cal.value)"
   ]
  },
  {
   "cell_type": "code",
   "execution_count": 34,
   "metadata": {},
   "outputs": [
    {
     "name": "stdout",
     "output_type": "stream",
     "text": [
      "100\n"
     ]
    }
   ],
   "source": [
    "#문제 4번\n",
    "class Calculator:\n",
    "    def __init__(self):\n",
    "        self.value = 0\n",
    "        \n",
    "    def add(self, val):\n",
    "        self.value += val\n",
    "        return self.value\n",
    "        \n",
    "class MaxLimitCalculator(Calculator):\n",
    "     def add(self, val):\n",
    "        self.value += val\n",
    "    \n",
    "        if self.value >= 100:\n",
    "            self.value=100\n",
    "            \n",
    "    \n",
    "cal = MaxLimitCalculator()\n",
    "cal.add(50)\n",
    "cal.add(60)\n",
    "print(cal.value)"
   ]
  },
  {
   "cell_type": "code",
   "execution_count": 28,
   "metadata": {},
   "outputs": [
    {
     "data": {
      "text/plain": [
       "[3, 6, 9, 12]"
      ]
     },
     "execution_count": 28,
     "metadata": {},
     "output_type": "execute_result"
    }
   ],
   "source": [
    "#문제 5번 \n",
    "list(map(lambda x : x*3,[1,2,3,4]))\n"
   ]
  },
  {
   "cell_type": "code",
   "execution_count": null,
   "metadata": {},
   "outputs": [],
   "source": [
    "#맵핑하는 함수\n",
    "#map(함수, 자료) #자료에 대해 함수를 수행한 결과가 출력\n",
    "#print(list(map(int,[3.14])))\n",
    "#map(함수에 lambda를 쓰는 경우가 많다)\n",
    "def pten(x):\n",
    "    return x+10\n",
    "\n",
    "res=list(map(pten,[1,2,3])) #map 함수는 리스트로 바꿔줘야 한다\n",
    "print(res)\n",
    "\n",
    "list(map(lambda x:x+10,[1,2,3]))"
   ]
  },
  {
   "cell_type": "code",
   "execution_count": 27,
   "metadata": {},
   "outputs": [
    {
     "data": {
      "text/plain": [
       "<map at 0x27863ffa888>"
      ]
     },
     "execution_count": 27,
     "metadata": {},
     "output_type": "execute_result"
    }
   ],
   "source": [
    "def pten(x):\n",
    "    return x+10\n",
    "\n",
    "res=list(map(pten,[1,2,3])) #map 함수는 리스트로 바꿔줘야 한다\n",
    "print(res)"
   ]
  },
  {
   "cell_type": "code",
   "execution_count": 4,
   "metadata": {},
   "outputs": [
    {
     "name": "stdout",
     "output_type": "stream",
     "text": [
      "행의 값을 입력해주세요 : 4\n",
      "열의 값을 입력해주세요 : 4\n",
      "\n",
      "\n",
      "*.**\n",
      "..**\n",
      "*..*\n",
      "***.\n",
      "\n",
      "\n"
     ]
    },
    {
     "ename": "NameError",
     "evalue": "name 'n_matrix' is not defined",
     "output_type": "error",
     "traceback": [
      "\u001b[1;31m---------------------------------------------------------------------------\u001b[0m",
      "\u001b[1;31mNameError\u001b[0m                                 Traceback (most recent call last)",
      "\u001b[1;32m<ipython-input-4-a6083dfa0028>\u001b[0m in \u001b[0;36m<module>\u001b[1;34m\u001b[0m\n\u001b[0;32m     49\u001b[0m     \u001b[0mlast_matrix\u001b[0m \u001b[1;33m=\u001b[0m \u001b[0mfind_bomb\u001b[0m\u001b[1;33m(\u001b[0m\u001b[0mm\u001b[0m\u001b[1;33m,\u001b[0m\u001b[0mn\u001b[0m\u001b[1;33m,\u001b[0m\u001b[0mnew_matrix\u001b[0m\u001b[1;33m)\u001b[0m \u001b[1;31m# 근접한 지뢰 카운팅 함수\u001b[0m\u001b[1;33m\u001b[0m\u001b[1;33m\u001b[0m\u001b[0m\n\u001b[0;32m     50\u001b[0m \u001b[1;33m\u001b[0m\u001b[0m\n\u001b[1;32m---> 51\u001b[1;33m     \u001b[1;32mfor\u001b[0m \u001b[0mi\u001b[0m \u001b[1;32min\u001b[0m \u001b[0mn_matrix\u001b[0m\u001b[1;33m:\u001b[0m\u001b[1;33m\u001b[0m\u001b[1;33m\u001b[0m\u001b[0m\n\u001b[0m\u001b[0;32m     52\u001b[0m         \u001b[0mprint\u001b[0m\u001b[1;33m(\u001b[0m\u001b[1;34m\"\"\u001b[0m\u001b[1;33m.\u001b[0m\u001b[0mjoin\u001b[0m\u001b[1;33m(\u001b[0m\u001b[0mi\u001b[0m\u001b[1;33m)\u001b[0m\u001b[1;33m)\u001b[0m \u001b[1;31m# 보기 좋게 print\u001b[0m\u001b[1;33m\u001b[0m\u001b[1;33m\u001b[0m\u001b[0m\n",
      "\u001b[1;31mNameError\u001b[0m: name 'n_matrix' is not defined"
     ]
    }
   ],
   "source": [
    "import random\n",
    "def make_matrix(m,n): # 주어진 행*열 m*n값을 가지고 무작위로 지뢰 만드는 함수\n",
    "    bomb = ['.','*']\n",
    "    n_matrix = []\n",
    "    for x in range(0,n):\n",
    "        n_matrix.append(['*']*m) # '*'으로 구성된 n_matrix 생성\n",
    "\n",
    "    for x in range(0,n):\n",
    "        for y in range(0,m):\n",
    "            n_matrix[x][y] = random.choice(bomb) # '*'자리에 랜덤으로 '.' 대체 후 지뢰가 있는 n_matrix 완성\n",
    "    for i in n_matrix:\n",
    "        print(\"\".join(i)) # 보기 좋은 형태로 출력\n",
    "    print('\\n')\n",
    "    return n_matrix\n",
    "\n",
    "def find_bomb(m,n,n_matrix): # m,n과 생성된 매트릭스 값을 가지고 근접한 지뢰를 찾아내는 함수\n",
    "    for x in range(0,n):\n",
    "        for y in range(0,m):\n",
    "            bomb_count = 0 # 근접한 지뢰 수 세는 변수 생성\n",
    "            if n_matrix[x][y] != '*': # 지뢰가 아니면 근접한 지뢰 수를 카운트하기 시작\n",
    "                bomb_count_li = [(x-1,y-1), (x-1,y), (x-1,y+1), (x, y-1),(x,y+1),(x+1,y-1),(x+1,y), (x+1,y+1)]\n",
    "                # 근접한 곳의 좌표\n",
    "                for i in bomb_count_li :\n",
    "                    try: # 근접한 곳 8곳이 모두 있지 않을 수 있으므로 오류문구 무시하는 try-except 문 설정\n",
    "                        a = n_matrix[i[0]][i[1]]\n",
    "                        if a == '*':\n",
    "                            bomb_count += 1 # 해당 좌표에 '*'지뢰가 있으면 bomb_count 1씩 증가\n",
    "                        else : pass\n",
    "                    except :\n",
    "                        bomb_count = 0\n",
    "                n_matrix[x][y] = str(bomb_count) # 좌표에 '.'대신 bomb_count 넣기\n",
    "            else :\n",
    "                pass\n",
    "    return n_matrix # 매트릭스 완성\n",
    "\n",
    "\n",
    "if __name__ == \"__main__\":\n",
    "    \n",
    "    M = input('행의 값을 입력해주세요 : ')\n",
    "    N = input('열의 값을 입력해주세요 : ')\n",
    "    m = int(M)\n",
    "    n = int(N)\n",
    "    \n",
    "    print('\\n')\n",
    "\n",
    "    new_matrix = make_matrix(m,n) # 랜덤 지뢰 생성 함수\n",
    "#    new_matrix = [['*','.','.','.'],['.','.','.','.'],['.','*','.','.'],['.','.','.','.']]\n",
    "# 예시 출력 matrix\n",
    "    last_matrix = find_bomb(m,n,new_matrix) # 근접한 지뢰 카운팅 함수\n",
    "    \n",
    "    for i in n_matrix:\n",
    "        print(\"\".join(i)) # 보기 좋게 print"
   ]
  },
  {
   "cell_type": "code",
   "execution_count": null,
   "metadata": {},
   "outputs": [],
   "source": []
  }
 ],
 "metadata": {
  "kernelspec": {
   "display_name": "Python 3",
   "language": "python",
   "name": "python3"
  },
  "language_info": {
   "codemirror_mode": {
    "name": "ipython",
    "version": 3
   },
   "file_extension": ".py",
   "mimetype": "text/x-python",
   "name": "python",
   "nbconvert_exporter": "python",
   "pygments_lexer": "ipython3",
   "version": "3.7.4"
  }
 },
 "nbformat": 4,
 "nbformat_minor": 2
}
