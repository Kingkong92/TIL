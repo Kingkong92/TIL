{
 "cells": [
  {
   "cell_type": "code",
   "execution_count": 1,
   "metadata": {},
   "outputs": [],
   "source": [
    "\"\"\"\n",
    "x= 5\n",
    "대소문자 구분가능, 소문자로 시작. 특수문자, 예약어(for, if,...) 사용금지\n",
    "\"\"\"\n",
    "x,y =1,2\n"
   ]
  },
  {
   "cell_type": "code",
   "execution_count": 2,
   "metadata": {},
   "outputs": [],
   "source": [
    "del x # 변수가 메모리에서 제거, 변수 초기화"
   ]
  },
  {
   "cell_type": "code",
   "execution_count": 3,
   "metadata": {
    "scrolled": true
   },
   "outputs": [
    {
     "ename": "NameError",
     "evalue": "name 'x' is not defined",
     "output_type": "error",
     "traceback": [
      "\u001b[1;31m---------------------------------------------------------------------------\u001b[0m",
      "\u001b[1;31mNameError\u001b[0m                                 Traceback (most recent call last)",
      "\u001b[1;32m<ipython-input-3-6fcf9dfbd479>\u001b[0m in \u001b[0;36m<module>\u001b[1;34m\u001b[0m\n\u001b[1;32m----> 1\u001b[1;33m \u001b[0mx\u001b[0m\u001b[1;33m\u001b[0m\u001b[1;33m\u001b[0m\u001b[0m\n\u001b[0m",
      "\u001b[1;31mNameError\u001b[0m: name 'x' is not defined"
     ]
    }
   ],
   "source": [
    "x"
   ]
  },
  {
   "cell_type": "code",
   "execution_count": null,
   "metadata": {},
   "outputs": [],
   "source": [
    "#빈 변수 \n",
    "x = None #변수는 만들어졌지만 값은 들어있지 않은 상태, Null\n",
    "x"
   ]
  },
  {
   "cell_type": "code",
   "execution_count": null,
   "metadata": {},
   "outputs": [],
   "source": [
    "x= 10\n",
    "x= x+5 # 컴퓨터 구조적 관점: CPU에서 연산, RAM 메모리에 x, 5 값들이 저장되어있다.\n",
    "#연산을 2번한다. 값불러와서 더하기 연산하고 다시 저장하는 연산\n",
    "x+=5 #동일한 연산. 연산을 한번만 한다. \n",
    "x #위에 두 연산 방법에서 연산 속도가 발생할수 있다. 두번째 것이 조금 더 효율적."
   ]
  },
  {
   "cell_type": "code",
   "execution_count": null,
   "metadata": {},
   "outputs": [],
   "source": [
    "#x = input() #함수 input은 입력받는 유도, 주의! 문자열로 받는다. \n",
    "#x=input('입력:') #연산을 할려면 int 함수를 통해 바꿔줘야 연산가능.\n",
    "#x=int(input('입력:'))"
   ]
  },
  {
   "cell_type": "code",
   "execution_count": null,
   "metadata": {},
   "outputs": [],
   "source": [
    "int(x)\n",
    "x"
   ]
  },
  {
   "cell_type": "code",
   "execution_count": null,
   "metadata": {},
   "outputs": [
    {
     "name": "stdout",
     "output_type": "stream",
     "text": [
      "문자열 두개 입력:2 3\n"
     ]
    }
   ],
   "source": [
    "#input에서 여러개 입력 -> split함수 사용(공백으로 구분)\n",
    "x,y = input(\"문자열 두개 입력:\").split()\n",
    "x= int(x)\n",
    "y= int(y)\n",
    "print(x)\n",
    "print(y)\n",
    "print(x + y) #15가 아니라 문자열로 받아서 510으로 나온다. 연산시 숫자로 변환. "
   ]
  },
  {
   "cell_type": "raw",
   "metadata": {},
   "source": [
    "#x,y = input(\"문자열 두개 입력:\").split()\n",
    "#print(type(x,y = input(\"문자열 두개 입력:\").split()))\n",
    "x,y= map(int , input(\"문자열 두개 입력:\").split())\n",
    "print(x+y)\n",
    "#형식 : map(함수, 데이터)"
   ]
  },
  {
   "cell_type": "code",
   "execution_count": null,
   "metadata": {},
   "outputs": [],
   "source": [
    "x,y=map(int,input(\"문자열 두개 입력:\").split(\",\"))\n",
    "print(x+y)"
   ]
  },
  {
   "cell_type": "code",
   "execution_count": null,
   "metadata": {},
   "outputs": [],
   "source": [
    "print(1,2,3,4)\n",
    "print(\"hi\",\"hello\")\n",
    "print(1,2,3,4, sep=\",\")\n",
    "print(1,2,3,4, sep=\",,,\")\n",
    "print(1,2,3,4, sep=\"\")#1234\n",
    "print(1,2,3,4, sep=\" \")\n",
    "print(1,2,3,4, sep=\"\\n\")# \\n:제어문자(화면에 출력x), 역슬래쉬\n",
    "print(\"1\\n2\\n3\")"
   ]
  },
  {
   "cell_type": "code",
   "execution_count": 1,
   "metadata": {},
   "outputs": [
    {
     "name": "stdout",
     "output_type": "stream",
     "text": [
      "1\t2\t3\n"
     ]
    }
   ],
   "source": [
    "print(\"1\\t2\\t3\") # \\t:tap "
   ]
  },
  {
   "cell_type": "code",
   "execution_count": null,
   "metadata": {},
   "outputs": [],
   "source": [
    "print(\"1\\2\")#\\: 특수문자, 제어를 알려주는것, 단독으로 사용불가 "
   ]
  },
  {
   "cell_type": "code",
   "execution_count": null,
   "metadata": {},
   "outputs": [],
   "source": [
    "print(\"1\\\\2\") # \\기호는 \\\\ 두번 작성해서 출력"
   ]
  },
  {
   "cell_type": "code",
   "execution_count": null,
   "metadata": {},
   "outputs": [],
   "source": [
    "print(1, end=' ') # end옵션: \\n을 ''로 대체해라, 공백도 나온다.\n",
    "print(2, end=' ')\n",
    "print(3), # 줄이 바뀌면서 1, 2, 3 나오는데 \n",
    "print(1,2,3) #입력과 출력"
   ]
  },
  {
   "cell_type": "code",
   "execution_count": null,
   "metadata": {},
   "outputs": [],
   "source": [
    "\"\"\"\n",
    "불린(Boolean): 참 Ture or 거짓 False ->논리값 by 논리 연산자\n",
    "\n",
    "\"\"\"\n",
    "2>1\n",
    "2==1 #False\n",
    "2!=1 # 같지 않다 Not: 1=\n",
    "\"text\" == \"text\"#문자열도 같은지 다른지 비교 가능\n",
    "\"python\" ==\"Python\" #False\n",
    "1==1.0 #정수와 실수 비교. 직접적으로 비교연산이 안되므로, 정수가 실수로 형 변환후 비교\n",
    "# 1->1.0 == 1.0 => True\n",
    "1 is 1.0 # 정수 1 개게 == 실수 1.0 객체 => 다르다\n",
    "1 is not 1.0"
   ]
  },
  {
   "cell_type": "code",
   "execution_count": null,
   "metadata": {},
   "outputs": [],
   "source": [
    "\"\"\"\n",
    "클래스; 건축 설계도 / 붕어빵 기계 / 자동차 공장\n",
    "객체: 건물 / 붕어빵 / 자동차\n",
    "속성:건물의 특성(층, 평수, ... ) / 붕어빵의 특성(내용물, 크기, ...) / 자동차 특성\n",
    "메서드: 건물의 동작(???) / 붕어빵의 동작(???) / 달린다, 멈춘다\n",
    "상속: 유사한 건물 설계시, 기존 건축설계도의 재사용\n",
    "\n",
    "\"\"\"\n",
    "\n",
    "\"\"\"\n",
    "아빠 -> 코골이 -> 자식(+이를 간다) -> 손자(코골이+이가는것+잠꼬대)\n",
    "물려 받고(상속), 버릇 추가(메소드 추가)\n",
    "Overriding 메소드 제정, 상속 거부 가능.\n",
    "\"\"\""
   ]
  },
  {
   "cell_type": "code",
   "execution_count": null,
   "metadata": {},
   "outputs": [],
   "source": [
    "#논리연산: and, or, not\n",
    "#and: 모두 참 => 참\n",
    "True and True\n",
    "True and False\n",
    "#or : 적어도 하나 이상 참 => 참\n",
    "False or False\n",
    "False or True\n",
    "#not : 논리값 반대로 뒤집는 연산자\n",
    "not True #False\n",
    "not True and False or not False #여러개의 논리연산자를 사용할 경우, () 사용.\n",
    "#주석 잘 달아주고, 괄호를 사용하기.\n",
    "((not True) and False) or (not False) #이런 식으로 "
   ]
  },
  {
   "cell_type": "code",
   "execution_count": null,
   "metadata": {},
   "outputs": [],
   "source": [
    "#비교 연산자\n",
    "1 == 1 and 10 != 9 #true and true\n",
    "not 1 > 0 #not true => False\n",
    "not 10 > 5\n",
    "not 1 is 1.0"
   ]
  },
  {
   "cell_type": "code",
   "execution_count": null,
   "metadata": {},
   "outputs": [],
   "source": [
    "#bool 함수: 정수, 실수,문자열 => 불린 타입 변환\n",
    "bool(1)#True\n",
    "bool(0)#False\n",
    "bool(-1)#True #정수 0을 제외한 모든 정수는 참\n",
    "\n",
    "bool(3.14)#True\n",
    "bool(0.0)#False #실수 0.0을 제외한 모든 정수는 참\n",
    "bool(-3.14)#True\n",
    "\n",
    "bool(\"Hi\")#True\n",
    "bool(\"\")#False \n",
    "bool('')#False #빈 문자열(\"\", '')는 False\n"
   ]
  },
  {
   "cell_type": "code",
   "execution_count": null,
   "metadata": {},
   "outputs": [],
   "source": [
    "False and True #False 이므로 and 뒤에 있는 True는 실행 안함.\n",
    "True or False #True이므로 or 뒤에 있는 False는 실행 안함. "
   ]
  },
  {
   "cell_type": "code",
   "execution_count": null,
   "metadata": {},
   "outputs": [],
   "source": [
    " False and not True "
   ]
  },
  {
   "cell_type": "code",
   "execution_count": null,
   "metadata": {},
   "outputs": [],
   "source": [
    "number = 3\n",
    "day = \"two\"\n",
    "\"I eat %d apples. \" %3 # 숫자: %d 포맷팅 문자. d:decive 10, 문자열을 주고 %d를 주면 입력된다.\n",
    "#\"I eat %d apples. \" %\"three\" # TypeError: %d format: a number is required\n",
    "\"I eat %s apples. \" % \"three\"# 문자열에선 %s\n",
    "\"I eat %d apples.\" % number #'I eat 3 apples.'\n",
    "\"I ate %d apples. so I was sick for %s days.\" % (number,day)\n",
    "#두 개 이상의 값을 전달하려면 괄호로 묶어서 표현해야 한다."
   ]
  },
  {
   "cell_type": "code",
   "execution_count": 3,
   "metadata": {},
   "outputs": [
    {
     "data": {
      "text/plain": [
       "'I eat 3.14 apples.'"
      ]
     },
     "execution_count": 3,
     "metadata": {},
     "output_type": "execute_result"
    }
   ],
   "source": [
    "\"I eat %s apples.\" % \"three\"\n",
    "\"I eat %s apples.\" % 3 #3\n",
    "\"I eat %s apples.\" % 3.14 #'I eat 3.14 apples.'\n",
    "# %s는 타입과 관련없이 전달 받아서 출력해준다."
   ]
  },
  {
   "cell_type": "code",
   "execution_count": null,
   "metadata": {},
   "outputs": [],
   "source": [
    "\"Error is %d\" % 90\n",
    "\"Error is %d%%\" % 90 # %기호 출력 => %%"
   ]
  },
  {
   "cell_type": "code",
   "execution_count": 2,
   "metadata": {},
   "outputs": [
    {
     "name": "stdout",
     "output_type": "stream",
     "text": [
      "        higd\n",
      "     hellogd\n",
      "hi        gd\n",
      "hello     gd\n"
     ]
    }
   ],
   "source": [
    "# %10s : 10자리를 확보한 후, 오른쪽 정렬 출력\n",
    "print(\"%10sgd\" % \"hi\")\n",
    "print(\"%10sgd\" % \"hello\")\n",
    "# #-10s: 10자리 확보한 후, 왼쪽 정렬 출력\n",
    "print(\"%-10sgd\" % \"hi\")\n",
    "print(\"%-10sgd\" % \"hello\")"
   ]
  },
  {
   "cell_type": "code",
   "execution_count": null,
   "metadata": {},
   "outputs": [],
   "source": [
    "\"%f\" % 3.14 #'3.140000' # %f 실수 \n",
    "\"%.2f\" % 3.14 #'3.14' 소수점 2째 자리까지.\n",
    "\"%10.2f\" %3.14 #10자리를 확보한 후, 소수 이하 둘째짜리까지 #'      3.14'\n"
   ]
  },
  {
   "cell_type": "code",
   "execution_count": 4,
   "metadata": {},
   "outputs": [
    {
     "data": {
      "text/plain": [
       "'I eat 3 apples. so I was sick for three days.'"
      ]
     },
     "execution_count": 4,
     "metadata": {},
     "output_type": "execute_result"
    }
   ],
   "source": [
    "#format 함수를 이용한 포매팅\n",
    "#I eat %d apples\" %3\n",
    "\"I eat {0} apples\".format(3) #{}, format함수 안에 있는 데이터를 {}로 출력.\n",
    "#{0} 숫자 0은 인덱스 번호. \n",
    "\"I eat {0} apples\".format(\"three\") #'I eat three apples'\n",
    "num = 3\n",
    "\"I eat {0} apples\".format(num) #변수를 해도 괜찮다.\n",
    "\"I eat {0} apples. so I was sick for {1} days.\".format(3,\"three\")\n",
    "\"I eat {1} apples. so I was sick for {0} days.\".format(3,\"three\")\n",
    "\"I eat {num} apples. so I was sick for {day} days.\".format(num=3,day=\"three\") #가독성이 높다. 이런 방식이 좋다.\n",
    "\"I eat {0} apples. so I was sick for {day} days.\".format(3,day=\"three\") #혼용 가능"
   ]
  },
  {
   "cell_type": "code",
   "execution_count": null,
   "metadata": {},
   "outputs": [],
   "source": [
    "\"{1} {0}\".format(\"hi\",\"hello\")\n",
    "\n",
    "#정렬 옵션\n",
    "\"{0}\".format(\"hello\")\n",
    "\"{0:<10}\".format(\"hello\")#10자리 확보, 왼쪽 정렬\n",
    "\"{0:>10}\".format(\"hello\")#10자리 확보, 오른족 정렬\n",
    "\"{0:^10}\".format(\"hello\")#10자리 확보, 가운데 정렬\n",
    "\"{0:*^10}\".format(\"hello\")#10자리 확보, 가운데 정렬, 빈칸 *로 채워짐.\n",
    "\"{0:=^10}\".format(\"hello\")#10자리 확보, 가운데 정렬, '==hello===' \n",
    "\n",
    "\n"
   ]
  },
  {
   "cell_type": "code",
   "execution_count": null,
   "metadata": {
    "scrolled": true
   },
   "outputs": [],
   "source": [
    "a= \"hello\"\n",
    "a.count('l') # l 문자의 갯수 출력.\n",
    "a.count('a') # a 문자의 개수 출력\n",
    "\n",
    "b=\"Python is very easy.\"\n",
    "b.find('y') #가장 왼쪽에서부터 찾아가므로 1,\n",
    "b.find('k') #문자를 못찾는 경우에는 -1. 에러 발생"
   ]
  },
  {
   "cell_type": "code",
   "execution_count": 7,
   "metadata": {},
   "outputs": [
    {
     "data": {
      "text/plain": [
       "'m$u$l$t$i'"
      ]
     },
     "execution_count": 7,
     "metadata": {},
     "output_type": "execute_result"
    }
   ],
   "source": [
    "\"#\".join(\"hello\") \n",
    "#리스트: 대괄호([]로 표현, 자료를 나열하고자 할때 사용)\n",
    "\"$\".join(['m','u','l','t','i']) "
   ]
  },
  {
   "cell_type": "code",
   "execution_count": 8,
   "metadata": {},
   "outputs": [
    {
     "data": {
      "text/plain": [
       "'TEST'"
      ]
     },
     "execution_count": 8,
     "metadata": {},
     "output_type": "execute_result"
    }
   ],
   "source": [
    "#자연어처리에서 'test','TEST', 'Test'=> 일괄적으로 치환\n",
    "a= 'Test'\n",
    "a.lower() #소문자로 변환\n",
    "a.upper() #대문자로 변환"
   ]
  },
  {
   "cell_type": "code",
   "execution_count": null,
   "metadata": {},
   "outputs": [],
   "source": [
    "#strip : 양쪽 공백 제거\n",
    "#lstrip: 왼쪽 공백 제거\n",
    "#rstrip: 오른쪽 공백 제거\n",
    "word = \"  hello    \"\n",
    "word\n",
    "word.strip() #'hello'\n",
    "word.lstrip() #'hello    '\n",
    "word.rstrip() #'  hello'"
   ]
  },
  {
   "cell_type": "code",
   "execution_count": 9,
   "metadata": {},
   "outputs": [
    {
     "data": {
      "text/plain": [
       "'대한민국 대한민국 코리아'"
      ]
     },
     "execution_count": 9,
     "metadata": {},
     "output_type": "execute_result"
    }
   ],
   "source": [
    "#repalce: 문자열을 대체\n",
    "#자연어에서 많이 사용된다.문자열 전처리\n",
    "#대한민국, 한국, 코리아, 조선, 고려, 우리나라, ... => 대한민국\n",
    "x = \"대한민국 한국 코리아\" #\n",
    "x.replace(\"한국\", \"대한민국\")# 지금 하나만 가능한데, 자연어처리에 관련된 함수가 따로 존재. 반복적인 처리할때. 패키지가 존재."
   ]
  },
  {
   "cell_type": "code",
   "execution_count": null,
   "metadata": {},
   "outputs": [],
   "source": [
    "x=\"a?b$c?d\"\n",
    "#x.split(\"?\") #split함수는 문자열을 구분하는데 리스트 형태로 #['a', 'b', 'c', 'd']\n",
    "x.split(\"$\") #['a?b?c?d'] #['a?b', 'c?d'] 안에 들어있는 문자로 구분. "
   ]
  },
  {
   "cell_type": "code",
   "execution_count": null,
   "metadata": {},
   "outputs": [],
   "source": [
    "\"\"\"\n",
    "*자료구조*\n",
    "리스트: 데이터 타입에 관계없이 저장\n",
    "배열과 비슷하다. \n",
    "\"\"\"\n",
    "\n",
    "x1=[] #빈 리스트\n",
    "x1\n",
    "x2=[1,2,3]\n",
    "x2\n",
    "x3=['programming','is','very', 'easy']\n",
    "x3\n",
    "x4=[1,2,'is','very']\n",
    "x4\n",
    "x5=[1,2,['is','very']]#리스트의 요소로 리스트가 올 수 있다.\n",
    "x5 #리스트 내부에는 어떠한 자료형도 모두 포함될 수 있다.\n",
    "a=list() #a=[]\n",
    "a\n",
    "a=[1,2,3]\n",
    "a[0] + a[2]\n",
    "a[-1] #-1 : 마지막 요소, -2: 맨 마지막에서 2번째 위치에 있는 요소.\n"
   ]
  },
  {
   "cell_type": "code",
   "execution_count": null,
   "metadata": {
    "scrolled": true
   },
   "outputs": [],
   "source": [
    "x=[1,2,3,['a','b','c']]\n",
    "\n",
    "\"\"\"\n",
    "x리스트에서 1을 참조하여 출력\n",
    "x리스트에서 'a','b','c'을 참조하여 출력\n",
    "\"\"\"\n",
    "x[0]#1\n",
    "x[3]#['a', 'b', 'c']\n",
    "x[-1]#['a', 'b', 'c']\n",
    "x[-2]\n",
    "\n",
    "#리스트의 리스트를 참조\n",
    "#a를 참조\n",
    "x[3][0]#'a' #[1,2,3]에서 0번째 index 데이터 추출\n",
    "\n",
    "#c를 참조\n",
    "x[3][2] #'c'\n",
    "x[3][-1]#'c'\n",
    "x[-1][-1]#'c'\n",
    "x[-1][2]#'c'"
   ]
  },
  {
   "cell_type": "code",
   "execution_count": null,
   "metadata": {},
   "outputs": [],
   "source": [
    "#삼중 리스트\n",
    "x=[1,2,['a,','b',['Python','is']]]\n",
    "#\"Python\" 추출\n",
    "x[2][2][0] #'Python'\n",
    "x[2][-1][0] #'Python'\n",
    "x[-1][-1][0] #'Python'\n",
    "# 삼중 리스트를 작성하는 경우는 매우 드물다. 하지만 할줄은 알아야 한다.\n",
    "#데이터 분석하거나 코딩할때 어려울 수 있다.\n",
    "x[0:3] #x변수에 저장된 데이터의 0번 ~ 3-1번의 indexm 데이터 추출\n",
    "x[0:2]\n",
    "x[2:]"
   ]
  },
  {
   "cell_type": "code",
   "execution_count": null,
   "metadata": {},
   "outputs": [],
   "source": [
    "x2=[1,2,3,['a','b','c'],4,5]\n",
    "x2\n",
    "# 3,['a','b','c'],4,5\n",
    "#['a','b']\n",
    "x2[2:] #[3, ['a', 'b,', 'c'], 4, 5]\n",
    "x2[-4:] #[3, ['a', 'b,', 'c'], 4, 5]\n",
    "x2[2:6] #[3, ['a', 'b', 'c'], 4, 5]\n",
    "x2[3][0:2] #['a', 'b']\n",
    "x2[-3][0:2] #['a', 'b']\n"
   ]
  },
  {
   "cell_type": "code",
   "execution_count": null,
   "metadata": {},
   "outputs": [],
   "source": [
    "x=[1,2,3]\n",
    "y=[4,5,6]\n",
    "x+y #[1, 2, 3, 4, 5, 6] #리스트 더하기 => 2개의 리스트가 연결되어 1개의 리스트\n",
    "\"hi\"+\"hello\"\n",
    "x=[9,8,7]\n",
    "x*3#[9, 8, 7, 9, 8, 7, 9, 8, 7]\n",
    "\"hello\"*10\n",
    "\"ㅋ\"*10\n",
    "#궁금, 리스트 값들 연산 가능한지, 합, 곱, "
   ]
  },
  {
   "cell_type": "code",
   "execution_count": null,
   "metadata": {},
   "outputs": [],
   "source": [
    "x=[1,2,3]\n",
    "len(x)\n"
   ]
  },
  {
   "cell_type": "code",
   "execution_count": null,
   "metadata": {},
   "outputs": [],
   "source": [
    "a=[1,2,3]# 3hi\n",
    "#a[2]+ \"hi\"\n",
    "str(a[2]) + \"hi\""
   ]
  },
  {
   "cell_type": "code",
   "execution_count": 2,
   "metadata": {},
   "outputs": [
    {
     "data": {
      "text/plain": [
       "[5, 3, 1, -1, -3]"
      ]
     },
     "execution_count": 2,
     "metadata": {},
     "output_type": "execute_result"
    }
   ],
   "source": [
    "#a= [0,1,2,...9]\n",
    "range(5) #0~4까지 연속된 숫자 생성. \n",
    "list(range(5)) #해당 숫자 전까지 #[0, 1, 2, 3, 4]\n",
    "list(range(3,12)) #[3, 4, 5, 6, 7, 8, 9, 10, 11]\n",
    "list(range(3,12, 2)) #[3, 5, 7, 9, 11] #2씩 건너뛰면서 \n",
    "list(range(-3,12,2)) #[-3, -1, 1, 3, 5, 7, 9, 11]\n",
    "list(range(13,2, -1)) #[13, 12, 11, 10, 9, 8, 7, 6, 5, 4, 3]\n",
    "list(range(5,-4, -2))\n"
   ]
  },
  {
   "cell_type": "code",
   "execution_count": null,
   "metadata": {},
   "outputs": [],
   "source": [
    "a=[1,2,3]\n",
    "a\n",
    "a[2]=10 # 리스트에서 해당 요소를 직접 바꿀 수 있다. \n",
    "a #cf., 어제한 문자열에서 요소 교체는 되지 않았다. \n",
    "del a[1]\n",
    "a"
   ]
  },
  {
   "cell_type": "code",
   "execution_count": null,
   "metadata": {},
   "outputs": [],
   "source": [
    "#range() #1~10까지 숫자가 저장된 리스트를 생성\n",
    "a=list(range(1,11)) #[1, 2, 3, 4, 5, 6, 7, 8, 9, 10]\n",
    "#list(range(1,11,1)) #[1, 2, 3, 4, 5, 6, 7, 8, 9, 10]\n",
    "a\n"
   ]
  },
  {
   "cell_type": "code",
   "execution_count": null,
   "metadata": {},
   "outputs": [],
   "source": [
    "del a[6:]\n",
    "a"
   ]
  },
  {
   "cell_type": "code",
   "execution_count": null,
   "metadata": {},
   "outputs": [],
   "source": [
    "del a[2:4]\n",
    "a"
   ]
  },
  {
   "cell_type": "code",
   "execution_count": null,
   "metadata": {},
   "outputs": [],
   "source": [
    "#리스트변수명.함수명()\n",
    "a=[1,2,3]\n",
    "x=5\n",
    "a.append(x) #a tap 누르면 나오는거, append-붙이다\n",
    "a\n",
    "\n",
    "b=[6,7]\n",
    "a.append(b)\n",
    "a\n",
    "\n",
    "a.sort() # 정렬하는 함수 sort\n",
    "a\n",
    "#x. #x tap 누르면 나오는거 다르다.\n",
    "\n",
    "#자료구조(리스트, 튜플, 딕셔너리, 셋)에 따라 사용 가능한 함수가 다름\n",
    "#(공통 사용 가능함수도 일부 있음)\n",
    "#python.org\n",
    "\n",
    "#리스트(객체).함수()\n",
    "#딕셔너리(객체).함수()\n",
    "#문자열(객체).함수()\n",
    "\n",
    "#\"test\". #문자열인데도 나온다.\n",
    "#자동차객체.달린다(), 멈춘다(), ...\n",
    "\n",
    "#클래스 : 사람\n",
    "#홍길동객체.먹는다(), 잔다(), ...\n",
    "#홍길순객체.먹는다(), 잔다(), ..."
   ]
  },
  {
   "cell_type": "code",
   "execution_count": null,
   "metadata": {},
   "outputs": [],
   "source": [
    "a=[2,1,4,3]\n",
    "a.sort() #[1, 2, 3, 4] 오름차순\n",
    "a.reverse() #[4, 3, 2, 1] 내림차순\n",
    "a\n",
    "\n",
    "a=['k','a','z']\n",
    "a.sort() #['a', 'k', 'z']\n",
    "a\n",
    "a.reverse() #['z', 'k', 'a'] #reverse는 반대로 뒤집어 주는 함수다. \n",
    "a"
   ]
  },
  {
   "cell_type": "code",
   "execution_count": 10,
   "metadata": {},
   "outputs": [
    {
     "data": {
      "text/plain": [
       "1"
      ]
     },
     "execution_count": 10,
     "metadata": {},
     "output_type": "execute_result"
    }
   ],
   "source": [
    "a=[10,20,30]\n",
    "a.index(20) #20이 저장되어 있는 요소의 위치\n",
    "#a.find(20) #문자열에선 find 함수\n",
    "#a.index(10) #리스트에선 요소가 있는경우 index 함수\n"
   ]
  },
  {
   "cell_type": "code",
   "execution_count": null,
   "metadata": {},
   "outputs": [],
   "source": [
    "#insert: 리스트 요소 추가(원하는 위치)\n",
    "a=[1,2,3]\n",
    "a.insert(0, 100) #인수가 2개 필요하다. 값, 위치#0번 인덱스 위치에 100추가\n",
    "a\n",
    "a.insert(3, 5)\n",
    "a"
   ]
  },
  {
   "cell_type": "code",
   "execution_count": null,
   "metadata": {
    "scrolled": false
   },
   "outputs": [],
   "source": [
    "#두 배열의 각자리 합 리스트, sum of list factor each other \n",
    "a=[1,2,3]\n",
    "b=[2,3,4]\n",
    "#c=[x+y for x,y in zip(a,b)] #[3, 5, 7]\n",
    "c=[a[i]+b[i] for i in range(len(a))] #[3, 5, 7]\n",
    "c"
   ]
  },
  {
   "cell_type": "code",
   "execution_count": null,
   "metadata": {},
   "outputs": [],
   "source": [
    "a=[1,2,3,1,2,3]\n",
    "#a.remove(4) #ValueError: list.remove(x): x not in list\n",
    "a.remove(3) #remove 작업을 할수록 뒤에 3이 계속 없어진다. a 값이 계속변한다."
   ]
  },
  {
   "cell_type": "code",
   "execution_count": null,
   "metadata": {},
   "outputs": [],
   "source": [
    "a"
   ]
  },
  {
   "cell_type": "code",
   "execution_count": null,
   "metadata": {},
   "outputs": [],
   "source": [
    "a=[10,20,30,40]\n",
    "a.pop() #가장 마지막 저장된 요소를 제거(꺼내는) 작업.=> 데이터를 꺼낸다.  "
   ]
  },
  {
   "cell_type": "code",
   "execution_count": null,
   "metadata": {},
   "outputs": [],
   "source": [
    "a"
   ]
  },
  {
   "cell_type": "code",
   "execution_count": null,
   "metadata": {},
   "outputs": [],
   "source": [
    "a.pop(1) #1번 index에 저장되어 있는 자료가 꺼내짐"
   ]
  },
  {
   "cell_type": "code",
   "execution_count": null,
   "metadata": {},
   "outputs": [],
   "source": [
    "a"
   ]
  },
  {
   "cell_type": "code",
   "execution_count": null,
   "metadata": {},
   "outputs": [],
   "source": [
    "a=[1,2,3,1]\n",
    "#a.count() #TypeError: count() takes exactly one argument (0 given)\n",
    "a.count(1) #2\n",
    "a.count(0) #0 #특정데이터가 몇개인지 조사해 주는거 함수(중요)."
   ]
  },
  {
   "cell_type": "code",
   "execution_count": null,
   "metadata": {},
   "outputs": [],
   "source": [
    "a=[1,2,3]\n",
    "b=[4,5]\n",
    "#a.append(b)# [1, 2, 3, [4, 5]]\n",
    "a.extend(b) #[1, 2, 3, 4, 5] # 동일한 리스트로 적용.\n",
    "a"
   ]
  },
  {
   "cell_type": "code",
   "execution_count": null,
   "metadata": {},
   "outputs": [],
   "source": [
    "a.extend([6,7]) #[1, 2, 3, 4, 5, 6, 7, 6, 7]\n",
    "a"
   ]
  },
  {
   "cell_type": "code",
   "execution_count": null,
   "metadata": {},
   "outputs": [],
   "source": [
    "#a+=[8,9] # [1, 2, 3, 4, 5, 6, 7, 6, 7, 8, 9]\n",
    "a\n",
    "a-=[8,9]\n",
    "a"
   ]
  },
  {
   "cell_type": "code",
   "execution_count": 5,
   "metadata": {},
   "outputs": [
    {
     "name": "stdout",
     "output_type": "stream",
     "text": [
      "입력921101-1231234\n"
     ]
    },
    {
     "data": {
      "text/plain": [
       "\"['921101', '1231234']\""
      ]
     },
     "execution_count": 5,
     "metadata": {},
     "output_type": "execute_result"
    }
   ],
   "source": [
    "#문제 1번 => 입력 받은후 split(고급)\n",
    "x=str(input(\"입력\").split(\"-\"))\n",
    "x"
   ]
  },
  {
   "cell_type": "code",
   "execution_count": 4,
   "metadata": {},
   "outputs": [
    {
     "data": {
      "text/plain": [
       "1"
      ]
     },
     "execution_count": 4,
     "metadata": {},
     "output_type": "execute_result"
    }
   ],
   "source": [
    "#문제 2번 => 리스트화\n",
    "x=[9,2,1,1,0,1,'-',1,2,3,1,2,3,4]\n",
    "x[7]\n"
   ]
  },
  {
   "cell_type": "code",
   "execution_count": 6,
   "metadata": {},
   "outputs": [
    {
     "name": "stdout",
     "output_type": "stream",
     "text": [
      "주민등록번호입력:921101-1231234\n",
      "921101 1231234\n"
     ]
    }
   ],
   "source": [
    "#문제 1번 => 처음부터 2개로 받아서 split \"-\"으로 \n",
    "x,y = input(\"주민등록번호입력:\").split(\"-\")\n",
    "x= int(x)\n",
    "y= int(y)\n",
    "print(x, y)"
   ]
  },
  {
   "cell_type": "code",
   "execution_count": 21,
   "metadata": {},
   "outputs": [
    {
     "ename": "TypeError",
     "evalue": "'type' object is not subscriptable",
     "output_type": "error",
     "traceback": [
      "\u001b[1;31m---------------------------------------------------------------------------\u001b[0m",
      "\u001b[1;31mTypeError\u001b[0m                                 Traceback (most recent call last)",
      "\u001b[1;32m<ipython-input-21-88853aeb37ce>\u001b[0m in \u001b[0;36m<module>\u001b[1;34m\u001b[0m\n\u001b[0;32m      1\u001b[0m \u001b[1;31m#문제 3번\u001b[0m\u001b[1;33m\u001b[0m\u001b[1;33m\u001b[0m\u001b[1;33m\u001b[0m\u001b[0m\n\u001b[1;32m----> 2\u001b[1;33m \u001b[0mx\u001b[0m \u001b[1;33m=\u001b[0m\u001b[0mlist\u001b[0m\u001b[1;33m[\u001b[0m\u001b[1;34m\"a:b:c:d\"\u001b[0m\u001b[1;33m]\u001b[0m\u001b[1;33m\u001b[0m\u001b[1;33m\u001b[0m\u001b[0m\n\u001b[0m\u001b[0;32m      3\u001b[0m \u001b[0mx\u001b[0m\u001b[1;33m.\u001b[0m\u001b[0mremove\u001b[0m\u001b[1;33m(\u001b[0m\u001b[1;34m\":\"\u001b[0m\u001b[1;33m)\u001b[0m\u001b[1;33m\u001b[0m\u001b[1;33m\u001b[0m\u001b[0m\n\u001b[0;32m      4\u001b[0m \u001b[0mx\u001b[0m\u001b[1;33m\u001b[0m\u001b[1;33m\u001b[0m\u001b[0m\n",
      "\u001b[1;31mTypeError\u001b[0m: 'type' object is not subscriptable"
     ]
    }
   ],
   "source": [
    "#문제 3번\n",
    "x =list[\"a:b:c:d\"]\n",
    "x.remove(\":\")\n",
    "x"
   ]
  },
  {
   "cell_type": "code",
   "execution_count": 10,
   "metadata": {},
   "outputs": [
    {
     "data": {
      "text/plain": [
       "'How are you'"
      ]
     },
     "execution_count": 10,
     "metadata": {},
     "output_type": "execute_result"
    }
   ],
   "source": [
    "#문제 4\n",
    "\" \".join([\"How\",\"are\",\"you\"])"
   ]
  },
  {
   "cell_type": "code",
   "execution_count": 13,
   "metadata": {},
   "outputs": [
    {
     "name": "stdout",
     "output_type": "stream",
     "text": [
      "How are you\n"
     ]
    }
   ],
   "source": [
    "#문제 4\n",
    "print(\"How\",\"are\", \"you\", sep=\" \")"
   ]
  },
  {
   "cell_type": "code",
   "execution_count": 24,
   "metadata": {},
   "outputs": [
    {
     "data": {
      "text/plain": [
       "'a#b#c#d'"
      ]
     },
     "execution_count": 24,
     "metadata": {},
     "output_type": "execute_result"
    }
   ],
   "source": [
    "#문제 3 replace 사용(문자열)\n",
    "x=(\"a:b:c:d\")\n",
    "x.replace(\":\", \"#\")"
   ]
  },
  {
   "cell_type": "code",
   "execution_count": 3,
   "metadata": {},
   "outputs": [
    {
     "data": {
      "text/plain": [
       "[5, 3, 1, -1, -3]"
      ]
     },
     "execution_count": 3,
     "metadata": {},
     "output_type": "execute_result"
    }
   ],
   "source": [
    "# 문제 5번 range 함수 적용\n",
    "list(range(5,-4, -2))\n"
   ]
  },
  {
   "cell_type": "code",
   "execution_count": 4,
   "metadata": {},
   "outputs": [
    {
     "data": {
      "text/plain": [
       "4000"
      ]
     },
     "execution_count": 4,
     "metadata": {},
     "output_type": "execute_result"
    }
   ],
   "source": [
    "#문제 6번\n",
    "x=str(list(range(10001)))\n",
    "x.count('8')\n"
   ]
  },
  {
   "cell_type": "code",
   "execution_count": 9,
   "metadata": {},
   "outputs": [
    {
     "data": {
      "text/plain": [
       "4000"
      ]
     },
     "execution_count": 9,
     "metadata": {},
     "output_type": "execute_result"
    }
   ],
   "source": [
    "#문제 6\n",
    "\"\"\"\n",
    "1~10000\n",
    "0000\n",
    " ~\n",
    "9999\n",
    "\n",
    "xxx8:1000\n",
    "xx8x:1000\n",
    "x8xx:1000\n",
    "8xxx;1000\n",
    "\"\"\"\n",
    "\n",
    "#list(range(1,10001)).count('8')# 이렇게 하면 8 하나 밖에 안나온다. \"1\" #왜냐, 그냥 리스트로 숫자만 생성\n",
    "#str(list(range(1,10001)))# 강제로 문자화시켜서 8이 포함된걸 찾아내라.\n",
    "str(list(range(1,10001))).count('8')\n",
    "    "
   ]
  },
  {
   "cell_type": "code",
   "execution_count": null,
   "metadata": {},
   "outputs": [],
   "source": []
  }
 ],
 "metadata": {
  "kernelspec": {
   "display_name": "Python 3",
   "language": "python",
   "name": "python3"
  },
  "language_info": {
   "codemirror_mode": {
    "name": "ipython",
    "version": 3
   },
   "file_extension": ".py",
   "mimetype": "text/x-python",
   "name": "python",
   "nbconvert_exporter": "python",
   "pygments_lexer": "ipython3",
   "version": "3.7.4"
  }
 },
 "nbformat": 4,
 "nbformat_minor": 2
}
