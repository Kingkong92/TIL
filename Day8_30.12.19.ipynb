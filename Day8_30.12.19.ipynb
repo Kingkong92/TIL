{
 "cells": [
  {
   "cell_type": "code",
   "execution_count": null,
   "metadata": {},
   "outputs": [],
   "source": [
    "\"\"\"\n",
    "이러한 문제들이 삼성이나 그런 기업에서 나온다.\n",
    "\n",
    "동전종류: 10, 50, 100\n",
    "최소의 동전을 사용하여 거스름돈 반환\n",
    "ex) 120원 반환:10-12, 50-2/10-2, 100-1/10-2, ...\n",
    "정답: 100원 1개, 10원 2개 => 총 3개\n",
    "1)\n",
    "임의의 금액 입력-> 최소 개수 동전 -> 큰 단위 화폐부터 교환해 나간다.\n",
    "\n",
    "동전종류: 10, 60, 100\n",
    "2)\n",
    "최소의 동전을 사용하여 거스름돈 반환\n",
    "ex) 120원 반환:10-12, 60-2, 100-1/10-2, ...\n",
    "정답: 60원 2개 => 총 2개\n",
    "=> soultion: 완전탐색(backtracking(되추적), DP(dynamic planning, 동적 계획법))\n",
    "=>\n",
    "알파고 - 몬테카를로 기법-> 가지치기\n",
    "\n",
    "\n",
    "\"\"\""
   ]
  },
  {
   "cell_type": "code",
   "execution_count": null,
   "metadata": {},
   "outputs": [],
   "source": [
    "\"\"\"\n",
    "지난 시간 정규표현식에서 메타문자는 특별한 의미를 가진다.\n",
    "\n",
    "\"\"\""
   ]
  },
  {
   "cell_type": "code",
   "execution_count": null,
   "metadata": {},
   "outputs": [],
   "source": [
    "1. []\n",
    "[]: [] 사이의 문자들과 매치. [A-K]: A부터 K까지 가능. [0-9], [^0-9]\n",
    "정규식: [ABCDE]\n",
    "문자열 A: 매치, BLUE: 매치(문자열 왼쪽에서부터 읽는것, B가 존재) DRY: 매치, SKY: 매치안됨 \n",
    "\n",
    "2.\n",
    "\\d: <=> [0-9], \\D <=> [^0-9]\n",
    "\\w <=> [a-zA-Z0-9_], \\W <=> [^a-zA-Z0-9_]\n",
    "\n",
    "3.\n",
    ".(dot): 모든 문자\n",
    "정규식: a.b <=> a + 모든문자(but 한개 문자만) + b   \n",
    "문자열 aab: 매치, abb: 매치, a0b: 매치\n",
    "\n",
    "            \n",
    "*(0번 이상 반복)\n",
    "정규식: ca*t\n",
    "문자열 ct: 매치, cat: 매치, caaaaat:매치\n",
    "            \n",
    "+(1번 이상 반복)\n",
    "정규식: ca+t <-> a가 1번 이상 반복\n",
    "문자열 ct: 매치 x, cat: 매치, caaat: 매치\n",
    "\n",
    "ca{2}t <=> c + a는 반드시 2번 반복 + t\n",
    "문자열 cat: 매치x, caat: 매치\n",
    "        \n",
    "{2,5} : 2~5번 반복\n",
    "ca{2,5}t <=> c + a는 2번 이상 5번 이하 + t\n",
    "문자열 cat: 매치x, caaat: 매치\n",
    "        \n",
    "ca?t <=> c + a(있어도 없어도 됨) + t\n",
    "\n",
    "            \n",
    "            "
   ]
  },
  {
   "cell_type": "code",
   "execution_count": 3,
   "metadata": {},
   "outputs": [
    {
     "data": {
      "text/plain": [
       "<re.Match object; span=(0, 3), match='abb'>"
      ]
     },
     "execution_count": 3,
     "metadata": {},
     "output_type": "execute_result"
    }
   ],
   "source": [
    "import re\n",
    "re.match(\"a.b\",\"abb\")"
   ]
  },
  {
   "cell_type": "code",
   "execution_count": 18,
   "metadata": {},
   "outputs": [
    {
     "name": "stdout",
     "output_type": "stream",
     "text": [
      "<re.Match object; span=(0, 1), match='h'>\n",
      "<re.Match object; span=(0, 7), match='hellohi'>\n",
      "<re.Match object; span=(0, 7), match='hellohi'>\n",
      "<re.Match object; span=(0, 10), match='hellohi123'>\n",
      "<re.Match object; span=(0, 3), match='반가워'>\n",
      "<re.Match object; span=(0, 5), match='반가워안녕'>\n",
      "None\n",
      "<re.Match object; span=(0, 1), match='H'>\n",
      "<re.Match object; span=(0, 3), match='123'>\n",
      "<re.Match object; span=(0, 3), match='123'>\n",
      "None\n",
      "<re.Match object; span=(6, 9), match='456'>\n"
     ]
    }
   ],
   "source": [
    "print(re.match(\"[a-zA-Z]\", \"hellohi123\"))\n",
    "print(re.match(\"[a-zA-Z]*\", \"hellohi123\"))\n",
    "print(re.match(\"[a-zA-Z]+\", \"hellohi123\"))\n",
    "print(re.match(\"[a-zA-Z0-9]+\", \"hellohi123\"))\n",
    "print(re.match(\"[가-힣]+\", \"반가워 안녕 ㅋㅋㅋ ㅎㅎ\"))\n",
    "print(re.match(\"[가-힣]+\", \"반가워안녕ㅋㅋㅋㅎㅎ\"))\n",
    "\n",
    "# print(re.match(\"[^a-zA-Z]+\", \"hellohi123\"))#None #대괄호 안에 꺽세가 있는 경우에는 Not\n",
    "# print(re.match(\"^[a-zA-Z]+\", \"hellohi123\"))#대괄호 밖에 꺽쇠가 있는 경우에는 패턴 문자로 시작하면 매치가 되어 진다.\n",
    "print(re.match(\"[^A-Z]\", \"Hello\"))\n",
    "print(re.match(\"^[A-Z]\", \"Hello\")) #re.Match object; span=(0, 1), match='H'>\n",
    "\n",
    "print(re.match(\"[0-9]+\", \"123abc456\")) #123\n",
    "print(re.match(\"^[0-9]+\", \"123abc456\"))#123\n",
    "\n",
    "print(re.match(\"[0-9]+$\", \"123abc456\")) #None\n",
    "print(re.search(\"[0-9]+$\", \"123abc456\"))#match='456'\n",
    "\n"
   ]
  },
  {
   "cell_type": "code",
   "execution_count": 30,
   "metadata": {},
   "outputs": [
    {
     "name": "stdout",
     "output_type": "stream",
     "text": [
      "None\n",
      "<re.Match object; span=(1, 3), match='**'>\n",
      "<re.Match object; span=(0, 3), match='aB가'>\n",
      "<re.Match object; span=(0, 5), match='aB가10'>\n",
      "<re.Match object; span=(0, 6), match='aB가_10'>\n",
      "<re.Match object; span=(0, 4), match='(#:)'>\n",
      "None\n",
      "<re.Match object; span=(0, 1), match=' '>\n",
      "<re.Match object; span=(0, 2), match='  '>\n",
      "<re.Match object; span=(0, 11), match='test HI 99 '>\n"
     ]
    }
   ],
   "source": [
    "#특수문자는 앞에 역슬래쉬를 붙여야 함\n",
    "\n",
    "#수식에서 제곱(**)이 사용됐는지 여부 확인\n",
    "print(re.match( \"\\*+\"  ,\"3**8\"))#3의 8승 #None\n",
    "print(re.search( \"\\*+\"  ,\"3**8\"))#match='**'\n",
    "\n",
    "#중간이나 맨뒤를 찾을려면 Search 함수를 사용해야 한다.\n",
    "\n",
    "print(re.match(\"\\D+\", \"aB가10\")) #\\D:숫자가 아님\n",
    "print(re.match(\"\\w+\", \"aB가10\"))#\\w: 숫자 +문자 #<re.Match object; span=(0, 5), match='aB가10'>\n",
    "print(re.match(\"\\w+\", \"aB가_10\"))#<re.Match object; span=(0, 6), match='aB가_10'>\n",
    "\n",
    "print(re.match(\"\\W+\", \"(#:)\")) #\\W: not(숫자 + 문자 + _) #<re.Match object; span=(0, 4), match='(#:)'>\n",
    "\n",
    "#\\s:whitespace문자, \\n\\r\\f\\t\n",
    "#공백 유무(\\s)\n",
    "print(re.match(\"\\s+\", \"test\"))\n",
    "print(re.match(\"\\s+\", \" test\"))\n",
    "print(re.match(\"\\s+\", \"  test\"))\n",
    "print(re.match(\"[a-zA-Z0-9\\s]+\", \"test HI 99 안녕\")) \n",
    "#순서에 상관없이 조건하나에만. 대괄호는 하나로 본다. \n",
    "\n",
    "\n"
   ]
  },
  {
   "cell_type": "code",
   "execution_count": 33,
   "metadata": {},
   "outputs": [
    {
     "data": {
      "text/plain": [
       "<re.Match object; span=(0, 2), match='12'>"
      ]
     },
     "execution_count": 33,
     "metadata": {},
     "output_type": "execute_result"
    }
   ],
   "source": [
    "#re.compile() #정규식을 저장 => 객체(패턴식을 저장해 두고 재사용을 하기위해)\n",
    "\n",
    "pat = re.compile(\"[0-9]+\")\n",
    "pat.match(\"123\")\n",
    "pat.match(\"abc\")\n",
    "pat.match(\"12가나다\")\n",
    "\n"
   ]
  },
  {
   "cell_type": "code",
   "execution_count": null,
   "metadata": {},
   "outputs": [],
   "source": [
    "\"\"\"\n",
    "정규식을 작성하는 일반적인 형식\n",
    "1) 패턴을 저장(re.compile 함수)\n",
    "2) 패턴을 사용하여 문자열 검색을 수행(match, search, findall, finditer 함수 사용)\n",
    "\n",
    "match: 문자열의 처음부터 정규식과 매치되는지 조사\n",
    "search: match: 문자열의 전체에 대해 정규식과 매치되는지 조사\n",
    "findall: 정규식과 매치되는 모든 문자열을 리스트로 리턴\n",
    "finditer: 정규식과 매치되는 모든 문자열을 반복가능객체로 리턴\n",
    "데이터 분석책 page.298~\n",
    "\n",
    "\"\"\""
   ]
  },
  {
   "cell_type": "code",
   "execution_count": 35,
   "metadata": {},
   "outputs": [],
   "source": [
    "p=re.compile(\"[a-z]+\") #패턴 저장"
   ]
  },
  {
   "cell_type": "code",
   "execution_count": 37,
   "metadata": {},
   "outputs": [
    {
     "name": "stdout",
     "output_type": "stream",
     "text": [
      "<re.Match object; span=(0, 6), match='python'>\n"
     ]
    }
   ],
   "source": [
    "#match:문자열의 처음부터 ~ 정규식과 매치\n",
    "m=p.match(\"python\")\n",
    "print(m)"
   ]
  },
  {
   "cell_type": "code",
   "execution_count": 40,
   "metadata": {},
   "outputs": [
    {
     "name": "stdout",
     "output_type": "stream",
     "text": [
      "매치됨 python\n",
      "<re.Match object; span=(0, 6), match='python'>\n"
     ]
    }
   ],
   "source": [
    "m=p.match(\"python\")\n",
    "if m: \n",
    "    print(\"매치됨\", m.group()) #매치된 문자열 출력\n",
    "else:\n",
    "    print(\"매치안됨\")\n",
    "\n",
    "print(m)"
   ]
  },
  {
   "cell_type": "code",
   "execution_count": 42,
   "metadata": {},
   "outputs": [
    {
     "name": "stdout",
     "output_type": "stream",
     "text": [
      "<re.Match object; span=(0, 6), match='python'>\n",
      "<re.Match object; span=(2, 8), match='python'>\n"
     ]
    }
   ],
   "source": [
    "#search는 문자열 전체에 대해 검색\n",
    "m=p.search(\"python\")\n",
    "print(m)\n",
    "\n",
    "m=p.search(\"9 python 7 java\")\n",
    "print(m)"
   ]
  },
  {
   "cell_type": "code",
   "execution_count": null,
   "metadata": {},
   "outputs": [],
   "source": []
  },
  {
   "cell_type": "code",
   "execution_count": 48,
   "metadata": {},
   "outputs": [
    {
     "ename": "AttributeError",
     "evalue": "'re.Pattern' object has no attribute 'recompile'",
     "output_type": "error",
     "traceback": [
      "\u001b[1;31m---------------------------------------------------------------------------\u001b[0m",
      "\u001b[1;31mAttributeError\u001b[0m                            Traceback (most recent call last)",
      "\u001b[1;32m<ipython-input-48-f3829ee47a3b>\u001b[0m in \u001b[0;36m<module>\u001b[1;34m\u001b[0m\n\u001b[1;32m----> 1\u001b[1;33m \u001b[0mp\u001b[0m\u001b[1;33m.\u001b[0m\u001b[0mrecompile\u001b[0m\u001b[1;33m(\u001b[0m\u001b[1;33m)\u001b[0m\u001b[1;33m\u001b[0m\u001b[1;33m\u001b[0m\u001b[0m\n\u001b[0m",
      "\u001b[1;31mAttributeError\u001b[0m: 're.Pattern' object has no attribute 'recompile'"
     ]
    }
   ],
   "source": [
    "p.recompile()"
   ]
  },
  {
   "cell_type": "code",
   "execution_count": 53,
   "metadata": {},
   "outputs": [
    {
     "name": "stdout",
     "output_type": "stream",
     "text": [
      "1\n",
      "4\n",
      "ife\n",
      "(1, 4)\n",
      "5\n",
      "7\n",
      "is\n",
      "(5, 7)\n",
      "8\n",
      "11\n",
      "too\n",
      "(8, 11)\n",
      "12\n",
      "17\n",
      "short\n",
      "(12, 17)\n"
     ]
    }
   ],
   "source": [
    "res=p.finditer(\"Life is too short\") #[a-z]+\n",
    "for r in res:\n",
    "    print(r.start()) #매치 시작 위치\n",
    "    print(r.end()) #매치 끝 위치\n",
    "    print(r.group()) #매치 문자열\n",
    "    print(r.span())#(시작, 끝)\n",
    "    \n",
    "    \n",
    "    "
   ]
  },
  {
   "cell_type": "code",
   "execution_count": 55,
   "metadata": {},
   "outputs": [
    {
     "data": {
      "text/plain": [
       "<re.Match object; span=(0, 5), match='multi'>"
      ]
     },
     "execution_count": 55,
     "metadata": {},
     "output_type": "execute_result"
    }
   ],
   "source": [
    "# p=re.compile(\"[a-z]+\")\n",
    "# m=p.match(\"multi\")\n",
    "# <=> 같은 의미\n",
    "# re.match(\"[a-z]+\", \"multi\")\n"
   ]
  },
  {
   "cell_type": "code",
   "execution_count": 60,
   "metadata": {},
   "outputs": [
    {
     "name": "stdout",
     "output_type": "stream",
     "text": [
      "<re.Match object; span=(0, 3), match='acb'>\n",
      "<re.Match object; span=(0, 3), match='acb'>\n",
      "<re.Match object; span=(0, 1), match='p'>\n",
      "<re.Match object; span=(0, 1), match='p'>\n"
     ]
    }
   ],
   "source": [
    "#정규식 컴파일 옵션\n",
    "\n",
    "p=re.compile(\"a.b\")#.은 모든 문자와 매치(\\n 문자 제외)\n",
    "#m=p.match('acb')\n",
    "m=p.match(\"acb\")\n",
    "print(m)\n",
    "\n",
    "# DOTALL 옵션:.을 사용할때 \\n 문자도 포함햐고자 하는 경우\n",
    "\n",
    "p=re.compile(\"a.b\", re.DOTALL)#.은 모든 문자와 매치(\\n 문자 제외)\n",
    "#m=p.match('acb')\n",
    "m=p.match(\"acb\")\n",
    "print(m)\n",
    "\n",
    "#re.I 옵션: ignorecase는 대소문자 구분 없이 수행\n",
    "p=re.compile(\"[a-z]\")\n",
    "print(p.match(\"python\"))\n",
    "p=re.compile(\"[a-zA]\",re.I)# \"[a-z][A-Z]\"과 같음\n",
    "print(p.match(\"python\"))"
   ]
  },
  {
   "cell_type": "code",
   "execution_count": 24,
   "metadata": {},
   "outputs": [
    {
     "name": "stdout",
     "output_type": "stream",
     "text": [
      "<re.Match object; span=(0, 10), match='python one'>\n",
      "<re.Match object; span=(0, 10), match='python one'>\n",
      "['python one']\n",
      "['python one', 'python two']\n"
     ]
    }
   ],
   "source": [
    "#MULTILINE 옵션\\\n",
    "\n",
    "text = \"\"\"python one\n",
    "python two\n",
    "you need python\n",
    "\"\"\"\n",
    "\n",
    "p = re.compile(\"^python\\s\\w+\")\n",
    "print(p.match(text))\n",
    "print(p.search(text))\n",
    "print(p.findall(text)) #^를 문자열 전체의 처음에 대해서 적용\n",
    "\n",
    "#그런데, 내가 원하는 것은 문자열 전체가 아니라\n",
    "#문자열의 각 라인 단위로 정규식(^)를 적용 =>multiline\n",
    "\n",
    "p = re.compile(\"^python\\s\\w+\", re.MULTILINE)\n",
    "print(p.findall(text))\n",
    "\n"
   ]
  },
  {
   "cell_type": "code",
   "execution_count": 67,
   "metadata": {},
   "outputs": [
    {
     "name": "stdout",
     "output_type": "stream",
     "text": [
      "None\n"
     ]
    }
   ],
   "source": [
    "pat=re.compile(\"Bye|Hi\")\n",
    "#m=pat.match(\"ByeHello\")\n",
    "#m=pat.match(\"HiHello\")\n",
    "m=pat.match(\"Hello\")\n",
    "print(m)"
   ]
  },
  {
   "cell_type": "code",
   "execution_count": 69,
   "metadata": {},
   "outputs": [
    {
     "name": "stdout",
     "output_type": "stream",
     "text": [
      "<re.Match object; span=(0, 4), match='Life'>\n",
      "<re.Match object; span=(12, 17), match='short'>\n"
     ]
    }
   ],
   "source": [
    "#pat = re.compile(\"\")\n",
    "print(re.search(\"^Life\", \"Life is too short\"))\n",
    "#Life로 시작하는 문자열 패턴식을 지정\n",
    "\n",
    "\n",
    "print(re.search(\"short$\", \"Life is too short\"))\n",
    "#short로 끝나는 문자열 패턴식을 지정\n",
    "\n"
   ]
  },
  {
   "cell_type": "code",
   "execution_count": null,
   "metadata": {},
   "outputs": [],
   "source": [
    "#국립국어원 korean.go.kr\n",
    "#이걸 공부하는 이유, 자연어처리할때 데이터 전처리시 사용."
   ]
  },
  {
   "cell_type": "code",
   "execution_count": 75,
   "metadata": {},
   "outputs": [
    {
     "name": "stdout",
     "output_type": "stream",
     "text": [
      "xyzxyzxyz\n"
     ]
    }
   ],
   "source": [
    "#그루핑: 패턴식 내부에 괄호로 묶어서 표현\n",
    "#괄호로 묶인 부분이 그룹이 됨\n",
    "#xyz 문자열이 계속해서 반복되는지 확인 정규식\n",
    "#(xyz)+\n",
    "pat=re.compile(\"(xyz)+\")\n",
    "m=pat.search(\"xyzxyzxyz ok\")\n",
    "print(m.group()) #실제 매칭된 문자열을 알려면 group함수를 쓰면 확인할 수 있다.\n",
    "\n",
    "\n"
   ]
  },
  {
   "cell_type": "code",
   "execution_count": 90,
   "metadata": {},
   "outputs": [
    {
     "name": "stdout",
     "output_type": "stream",
     "text": [
      "None\n"
     ]
    }
   ],
   "source": [
    "\"\"\"\n",
    "kim 010-2345-6789\n",
    "hong 02-1234-5678\n",
    "lee seoul     (x)\n",
    "park 010 1234 5656 (x)\n",
    "\"\"\"\n",
    "pat=re.compile(\"\\w+\\s+\\d+[-]\\d+[-]\\d+\")\n",
    "#m=pat.search(\"kim 010-2345-6789\")\n",
    "#m=pat.search(\"hong 02-1234-5678\")\n",
    "#m=pat.search(\"lee seoul\")\n",
    "m=pat.search(\"park 010 1234 5656\")\n",
    "\n",
    "print(m)\n"
   ]
  },
  {
   "cell_type": "code",
   "execution_count": 93,
   "metadata": {},
   "outputs": [],
   "source": [
    "pat=re.compile(\"(\\w+)\\s+\\d+[-]\\d+[-]\\d+\")\n",
    "m=pat.search(\"kim 010-2345-6789\")"
   ]
  },
  {
   "cell_type": "code",
   "execution_count": 97,
   "metadata": {},
   "outputs": [
    {
     "name": "stdout",
     "output_type": "stream",
     "text": [
      "kim 010-2345-6789\n",
      "kim\n",
      "kim 010-2345-6789\n"
     ]
    }
   ],
   "source": [
    "print(m.group())\n",
    "# ():그루핑 기호\n",
    "# 이름 그루핑 (\\w+)\n",
    "print(m.group(1)) #첫번째 그룹에 해당하되는 문자열\n",
    "#print(m.group(2)) #그룹이 없으므로 에러\n",
    "print(m.group(0)) #매칭된 전체 문자열\n",
    "\n",
    "\n",
    "\n",
    "\n"
   ]
  },
  {
   "cell_type": "code",
   "execution_count": 99,
   "metadata": {},
   "outputs": [
    {
     "name": "stdout",
     "output_type": "stream",
     "text": [
      "kim 010-2345-6789\n",
      "kim\n",
      "010\n",
      "2345\n",
      "6789\n"
     ]
    }
   ],
   "source": [
    "pat=re.compile(\"(\\w+)\\s+(\\d+)[-](\\d+)[-](\\d+)\")\n",
    "m=pat.search(\"kim 010-2345-6789\")\n",
    "\n",
    "print(m.group(0))\n",
    "print(m.group(1))\n",
    "print(m.group(2))\n",
    "print(m.group(3))\n",
    "print(m.group(4))\n",
    "\n"
   ]
  },
  {
   "cell_type": "code",
   "execution_count": 98,
   "metadata": {},
   "outputs": [
    {
     "name": "stdout",
     "output_type": "stream",
     "text": [
      "kim 010-2345-6789\n",
      "kim\n",
      "010\n",
      "2345-6789\n",
      "2345\n",
      "6789\n"
     ]
    }
   ],
   "source": [
    "pat=re.compile(\"(\\w+)\\s+(\\d+)[-]((\\d+)[-](\\d+))\")\n",
    "m=pat.search(\"kim 010-2345-6789\")\n",
    "\n",
    "print(m.group(0))\n",
    "print(m.group(1))\n",
    "print(m.group(2))\n",
    "print(m.group(3))\n",
    "print(m.group(4))\n",
    "print(m.group(5))"
   ]
  },
  {
   "cell_type": "code",
   "execution_count": 104,
   "metadata": {},
   "outputs": [
    {
     "name": "stdout",
     "output_type": "stream",
     "text": [
      "kim 010-2345-6789\n",
      "kim\n",
      "kim\n"
     ]
    }
   ],
   "source": [
    "#그루핑시 이름을 부여\n",
    "#pat=re.compile(\"(\\w+)\\s+(\\d+)[-]((\\d+)[-](\\d+))\")\n",
    "#(\\w+) => (?P<name>\\w+)\n",
    "pat=re.compile(\"(?P<name>\\w+)\\s+(\\d+)[-]((\\d+)[-](\\d+))\")\n",
    "m=pat.search(\"kim 010-2345-6789\")\n",
    "\n",
    "print(m.group(0))\n",
    "print(m.group(1))\n",
    "print(m.group(\"name\"))\n",
    "\n"
   ]
  },
  {
   "cell_type": "code",
   "execution_count": null,
   "metadata": {},
   "outputs": [],
   "source": [
    "#텍스트 수집 -> 데이터 전처리 -> 워드임베딩(숫자 변환(인코딩)) 단어를 배포화시키는것-ㅣ.\n",
    "#워드 트랙 #-> 얕은(<->깊은) 신경망(SNN/DNN-Deep) 모델 설계 -> 모델링 ->분류/예측 등"
   ]
  },
  {
   "cell_type": "code",
   "execution_count": 116,
   "metadata": {},
   "outputs": [
    {
     "data": {
      "text/plain": [
       "'color socsk and color shoes'"
      ]
     },
     "execution_count": 116,
     "metadata": {},
     "output_type": "execute_result"
    }
   ],
   "source": [
    "pat=re.compile(\"red\") #패턴\n",
    "pat.sub(\"color\",\"blue socsk and red shoes\") #치환\n",
    "\n",
    "pat=re.compile(\"red|blue\")\n",
    "pat.sub(\"color\",\"blue socsk and red shoes\")\n",
    "#pat.sub(바꿀문자열, 대상문자열)\n",
    "#해석? 대상문자열에서 패턴이 바결되면 바꿀 문자열로 변겨경해라.\n",
    "\n",
    "#blue 또는 red는 모두 color로 변경하시오.\n",
    "#치환 결과 => ''blue socsk and color shoes'"
   ]
  },
  {
   "cell_type": "code",
   "execution_count": 124,
   "metadata": {},
   "outputs": [
    {
     "data": {
      "text/plain": [
       "'대한민국 좋은 나라 대한민국 대한민국 대한민국'"
      ]
     },
     "execution_count": 124,
     "metadata": {},
     "output_type": "execute_result"
    }
   ],
   "source": [
    "pat=re.compile(\"are\") #패턴\n",
    "pat.sub(\"R\",\"You are dozing off. I;m so sleepy\")\n",
    "\n",
    "#\"You are dozing off. I;m so sleepy\" 문자열에서 \n",
    "#\"are\" 패턴이 발견되면, \"R\"로 치환\n",
    "\n",
    "pat=re.compile(\"우리나라|한국|코리아|대한민국\")\n",
    "pat.sub(\"대한민국\", \"우리나라 좋은 나라 한국 코리아 대한민국\")"
   ]
  },
  {
   "cell_type": "code",
   "execution_count": 152,
   "metadata": {},
   "outputs": [
    {
     "name": "stdout",
     "output_type": "stream",
     "text": [
      "<re.Match object; span=(0, 7), match='100 200'>\n",
      "<re.Match object; span=(0, 7), match='100 200'>\n",
      "<re.Match object; span=(0, 7), match='100 200'>\n",
      "<re.Match object; span=(0, 7), match='100 200'>\n"
     ]
    }
   ],
   "source": [
    "g=re.match(\"[0-9]+ [0-9]+\", \"100 200\")\n",
    "print(g)\n",
    "g=re.match(\"([0-9]+) ([0-9]+)\", \"100 200\")\n",
    "print(g)\n",
    "g=re.match(\"\\d+ \\d+\", \"100 200\")\n",
    "print(g)\n",
    "g=re.match(\"(\\d+) (\\d+)\", \"100 200\")\n",
    "print(g)"
   ]
  },
  {
   "cell_type": "code",
   "execution_count": 139,
   "metadata": {},
   "outputs": [
    {
     "name": "stdout",
     "output_type": "stream",
     "text": [
      "sumPrice\n",
      "50\n"
     ]
    }
   ],
   "source": [
    "#함수에서 '이름', '인수' 추출하는 패턴식\n",
    "#ex)\n",
    "#함수 구문: sumPrice(50)\n",
    "#함수명: sumPrice, 인수50\n",
    "#함수명:첫번째 글자는 반드시 소문자로 시작,ㄴ\n",
    "#두번째 글자부터 소/대문자, 숫자, - 올수 있음\n",
    "\n",
    "\n",
    "# g=re.match(\"(함수명)\\((인수)\\)\", \"sumPrice(50)\"}\n",
    "#re.match(\"정규식\",  \"sumPrice(50)\")\n",
    "g=re.match(\"(?P<func>[a-z[a-zA-Z0-9_]+)\\((?P<arg>\\w+)\\)\", \"sumPrice(50)\")\n",
    "print(g.group(\"func\"))#sumPrice\n",
    "print(g.group(\"arg\")) #50"
   ]
  },
  {
   "cell_type": "code",
   "execution_count": 140,
   "metadata": {},
   "outputs": [
    {
     "name": "stdout",
     "output_type": "stream",
     "text": [
      "['10', '20', '40']\n"
     ]
    }
   ],
   "source": [
    "print(re.findall(\"[0-9]+\", \"10 20 th 40\"))"
   ]
  },
  {
   "cell_type": "code",
   "execution_count": 154,
   "metadata": {},
   "outputs": [
    {
     "name": "stdout",
     "output_type": "stream",
     "text": [
      "대한민국 좋은 나라 대한민국 대한민국 대한민국\n",
      "010-1234-5678 park\n"
     ]
    }
   ],
   "source": [
    "pat=re.compile(\"우리나라|한국|코리아|대한민국\")\n",
    "pat.sub(\"대한민국\", \"우리나라 좋은 나라 한국 코리아 대한민국\")\n",
    "\n",
    "print(re.sub(\"우리나라|한국|코리아|대한민국\",\n",
    "             \"대한민국\", \n",
    "             \"우리나라 좋은 나라 한국 코리아 대한민국\"))\n",
    "\n",
    "#re.compile(\"패턴\")\n",
    "#re.sub(\"바꿀 문자열\", \"문자열\")\n",
    "#문자열에서 패턴에 매칭되는 부분은 바꿀 문자열로\n",
    "\n",
    "#re.sub(\"패턴\", \"바꿀문자열\", \"문자열\") 과 같은 식으로 있다.\n",
    "\n",
    "\n",
    "#sub함수 활용, 그루핑 활용\n",
    "#park x010-1234-2345 => 010-1234-2345 park\n",
    "\n",
    "# p=re.compile(\"패턴\")\n",
    "# pat=re.sub(\"바꿀문자열\", \"문자열\")\n",
    "#문자열에서 패턴에 매칭되는 부분을 바꿀 문자열로 변경\n",
    "\n",
    "p=re.compile(\"(?P<name>\\w+)\\s+(?P<phone>(\\d+)[-](\\d+)[-](\\d+))\")\n",
    "print(p.sub(\"\\g<2> \\g<1>\",\"park 010-1234-5678\"))\n",
    "\n",
    "\n"
   ]
  },
  {
   "cell_type": "code",
   "execution_count": 149,
   "metadata": {},
   "outputs": [],
   "source": [
    "def toHex(mat):\n",
    "    val=int(mat.group())\n",
    "    return hex(val)"
   ]
  },
  {
   "cell_type": "code",
   "execution_count": 151,
   "metadata": {},
   "outputs": [
    {
     "data": {
      "text/plain": [
       "'call 0x72, 0x63 for user code'"
      ]
     },
     "execution_count": 151,
     "metadata": {},
     "output_type": "execute_result"
    }
   ],
   "source": [
    "pat=re.compile(\"\\d+\")\n",
    "pat.sub(toHex, \"call 114, 99 for user code\")\n",
    "#패턴에 함수를 직접 사용할 수도 있다.\n"
   ]
  },
  {
   "cell_type": "code",
   "execution_count": null,
   "metadata": {},
   "outputs": [],
   "source": []
  },
  {
   "cell_type": "code",
   "execution_count": 23,
   "metadata": {},
   "outputs": [
    {
     "name": "stdout",
     "output_type": "stream",
     "text": [
      "Id@domain.com or co.kr 올바른 형식으로 이메일을 입력하세요.rudgh1235@nav.doc\n",
      "올바른 이메일 형식입니다.\n"
     ]
    }
   ],
   "source": [
    "#문제 1번 이메일 형식\n",
    "import re\n",
    "\n",
    "email_addr=str(input(\"Id@domain.com or co.kr 올바른 형식으로 이메일을 입력하세요.\"))\n",
    "m=re.match(\"\\w+[.]*[-]*[_]*[+]*@\\w+[.]+\\w+\",email_addr)\n",
    "\n",
    "if m:\n",
    "    print(\"올바른 이메일 형식입니다.\")\n",
    "    \n",
    "else:\n",
    "    print(\"올바르지 못한 이메일 형식입니다.\")\n",
    "\n",
    "        "
   ]
  },
  {
   "cell_type": "code",
   "execution_count": 2,
   "metadata": {},
   "outputs": [
    {
     "name": "stdout",
     "output_type": "stream",
     "text": [
      "please write your e-mail address.\n",
      "Example) Id@domain.com or .co.kr\n",
      "saeda\n",
      "올바르지 못한 이메일 형식입니다.\n"
     ]
    }
   ],
   "source": [
    "#문제 1번 이메일 형식\n",
    "import re\n",
    "\n",
    "# emails = [\n",
    "#     'python@mail.example.com', 'python+kr@example.com',              # correct form\n",
    "#     'python-dojang@example.co.kr', 'python_10@example.info',         # correct form\n",
    "#     'python.dojang@e-xample.com',                                    # correct form\n",
    "    \n",
    "#     '@example.com', 'python@example', 'python@example-com']          # incorrect form\n",
    "\n",
    "email=input(\"please write your e-mail address.\\nExample) Id@domain.com or .co.kr\\n\")\n",
    "p=re.compile(\"\\w+[.]*[-]*[_]*[+]*@\\w+[.]+\\w+\")\n",
    "\n",
    "if p.match(email):\n",
    "    print(\"Vaild email address\")\n",
    "    \n",
    "else:\n",
    "    print(\"Invaild email address\")\n",
    "\n",
    "        "
   ]
  },
  {
   "cell_type": "code",
   "execution_count": 20,
   "metadata": {},
   "outputs": [
    {
     "name": "stdout",
     "output_type": "stream",
     "text": [
      "박경리\n"
     ]
    }
   ],
   "source": [
    "#문제 2번 토지 파일 읽어와서 정규식으로 처리\n",
    "import re\n",
    "#<author>\n",
    "with open(\"C:/Users/student/Downloads/BEXX0003.txt\",\"r\",encoding = \"UTF-16\") as f:\n",
    "    for line in f.readline():\n",
    "        line+=f.readline() #  \n",
    "        pat=re.search(\"<author>([가-힣]+)</author>\",line)\n",
    "        if pat:\n",
    "            print(pat.group(1))\n",
    "            break\n",
    "        if not line: break\n",
    "\n",
    "\n",
    "f.close()"
   ]
  },
  {
   "cell_type": "code",
   "execution_count": 21,
   "metadata": {},
   "outputs": [
    {
     "name": "stdout",
     "output_type": "stream",
     "text": [
      "박경리\n"
     ]
    }
   ],
   "source": [
    "import re\n",
    "#<author>\n",
    "with open(\"C:/Users/student/Downloads/BEXX0003.txt\",\"r\",encoding = \"UTF-16\") as f:\n",
    "    while True:\n",
    "        line=f.readline() #  \n",
    "        pat=re.search(\"<author>([가-힣]+)</author>\",line)\n",
    "        if pat:\n",
    "            print(pat.group(1))\n",
    "            break\n",
    "        if not line: break\n",
    "\n",
    "\n",
    "f.close()"
   ]
  },
  {
   "cell_type": "code",
   "execution_count": null,
   "metadata": {},
   "outputs": [],
   "source": []
  },
  {
   "cell_type": "code",
   "execution_count": null,
   "metadata": {},
   "outputs": [],
   "source": []
  },
  {
   "cell_type": "code",
   "execution_count": null,
   "metadata": {},
   "outputs": [],
   "source": []
  },
  {
   "cell_type": "code",
   "execution_count": null,
   "metadata": {},
   "outputs": [],
   "source": []
  },
  {
   "cell_type": "code",
   "execution_count": null,
   "metadata": {},
   "outputs": [],
   "source": []
  }
 ],
 "metadata": {
  "kernelspec": {
   "display_name": "Python 3",
   "language": "python",
   "name": "python3"
  },
  "language_info": {
   "codemirror_mode": {
    "name": "ipython",
    "version": 3
   },
   "file_extension": ".py",
   "mimetype": "text/x-python",
   "name": "python",
   "nbconvert_exporter": "python",
   "pygments_lexer": "ipython3",
   "version": "3.7.4"
  }
 },
 "nbformat": 4,
 "nbformat_minor": 2
}
