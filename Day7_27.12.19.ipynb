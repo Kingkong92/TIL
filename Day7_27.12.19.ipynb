{
 "cells": [
  {
   "cell_type": "code",
   "execution_count": 33,
   "metadata": {},
   "outputs": [
    {
     "name": "stdout",
     "output_type": "stream",
     "text": [
      "[1, 2]\n",
      "[1, 2]\n"
     ]
    }
   ],
   "source": [
    "\"\"\"\n",
    "filter(함수, 반복가능자료형): 반복가능자료형 요소가 첫번째 \n",
    "인수인 함수에 입력이 되었을때\n",
    "변환 값이 참인 경우에 대해서만 필터링 해주는 함수\n",
    "map함수랑 filter 함수랑 비슷하다. \n",
    "차이점:map은 함수 전체에, filter는 조건에 맞는거만.\n",
    "\n",
    "\"\"\"\n",
    "\n",
    "def positive(p):\n",
    "    res=[]\n",
    "    for i in p:\n",
    "        if i > 0:\n",
    "            res.append(i)\n",
    "    return res\n",
    "\n",
    "print(positive([1,-3, 2,-5]))\n",
    "\n",
    "print(list(filter(lambda x: x>0, [1,-3, 2,-5])))"
   ]
  },
  {
   "cell_type": "code",
   "execution_count": 19,
   "metadata": {},
   "outputs": [
    {
     "name": "stdout",
     "output_type": "stream",
     "text": [
      "[2, 3, 4, 5]\n",
      "[2, 3, 4, 5]\n",
      "[2, 3, 4, 5]\n",
      "['1', '2', '3', '4']\n"
     ]
    }
   ],
   "source": [
    "target=[1,2,3,4]\n",
    "res=[]\n",
    "def add1(n):\n",
    "    return n+1\n",
    "for v in target:\n",
    "    res.append(add1(v))\n",
    "print(res)\n",
    "\n",
    "print(list(map(add1, target))) #함수를 사용하는 이유는 재 사용하기 위해.계속 부를수 있다.\n",
    "print(list(map(lambda x: x+1, target))) #lambda 함수는 한번만 쓰고 버리는. 재사용 불가\n",
    "\n",
    "print(list(map(str,target)))"
   ]
  },
  {
   "cell_type": "code",
   "execution_count": 28,
   "metadata": {},
   "outputs": [
    {
     "name": "stdout",
     "output_type": "stream",
     "text": [
      "[2, 4, 6, 8, 10]\n"
     ]
    }
   ],
   "source": [
    "#짝수만 출력하는 거 함수를 사용해서\n",
    "\n",
    "target= list(range(1,11))\n",
    "res=[]\n",
    "\n",
    "def is_even(n):\n",
    "    return True if n%2 ==0 else False\n",
    "#res=filter(is_even, target) \n",
    "#[2, 4, 6, 8, 10] for문 안돌리고 함수만 알아도 편리하게 풀수 있다.\n",
    "\n",
    "#filter +lambda 조합\n",
    "res =list(filter(lambda x: x%2==0, target))\n",
    "print(res) #[2, 4, 6, 8, 10]\n",
    "#한문장 \n",
    "#print(list(filter(lambda x: x%2==0, target)))\n",
    "\n",
    "\n",
    "#for문으로 출력하는 방법\n",
    "# for v in target:\n",
    "#     if is_even(v):\n",
    "#         res.append(v) #[2, 4, 6, 8, 10]\n",
    "#print(list(res))"
   ]
  },
  {
   "cell_type": "code",
   "execution_count": 32,
   "metadata": {},
   "outputs": [
    {
     "name": "stdout",
     "output_type": "stream",
     "text": [
      "[1, 3]\n"
     ]
    }
   ],
   "source": [
    "#[1,3,-2,-5] 양수만 필터링\n",
    "target=[1,3,-2,-5]\n",
    "res=[]\n",
    "\n",
    "# def odd_number(x):\n",
    "    \n",
    "\n",
    "# filter()\n",
    "\n",
    "print(list(filter(lambda x: x>0, [1,3,-2,-5])))\n"
   ]
  },
  {
   "cell_type": "code",
   "execution_count": 34,
   "metadata": {},
   "outputs": [
    {
     "ename": "TypeError",
     "evalue": "'list' object is not callable",
     "output_type": "error",
     "traceback": [
      "\u001b[1;31m---------------------------------------------------------------------------\u001b[0m",
      "\u001b[1;31mTypeError\u001b[0m                                 Traceback (most recent call last)",
      "\u001b[1;32m<ipython-input-34-4de4cbabee2d>\u001b[0m in \u001b[0;36m<module>\u001b[1;34m\u001b[0m\n\u001b[0;32m      2\u001b[0m \u001b[1;31m#변수명과 함수명이 중복\u001b[0m\u001b[1;33m\u001b[0m\u001b[1;33m\u001b[0m\u001b[1;33m\u001b[0m\u001b[0m\n\u001b[0;32m      3\u001b[0m \u001b[0minput\u001b[0m\u001b[1;33m=\u001b[0m\u001b[1;33m[\u001b[0m\u001b[1;36m1\u001b[0m\u001b[1;33m,\u001b[0m\u001b[1;36m2\u001b[0m\u001b[1;33m,\u001b[0m\u001b[1;36m3\u001b[0m\u001b[1;33m]\u001b[0m\u001b[1;33m\u001b[0m\u001b[1;33m\u001b[0m\u001b[0m\n\u001b[1;32m----> 4\u001b[1;33m \u001b[0minput\u001b[0m\u001b[1;33m(\u001b[0m\u001b[1;33m)\u001b[0m\u001b[1;33m\u001b[0m\u001b[1;33m\u001b[0m\u001b[0m\n\u001b[0m",
      "\u001b[1;31mTypeError\u001b[0m: 'list' object is not callable"
     ]
    }
   ],
   "source": [
    "#list object is not callable\n",
    "#변수명과 함수명이 중복\n",
    "# input=[1,2,3]\n",
    "# input() #TypeError: 'list' object is not callable\n"
   ]
  },
  {
   "cell_type": "code",
   "execution_count": 35,
   "metadata": {},
   "outputs": [
    {
     "data": {
      "text/plain": [
       "'0xfe'"
      ]
     },
     "execution_count": 35,
     "metadata": {},
     "output_type": "execute_result"
    }
   ],
   "source": [
    "#정수 -> 16진수\n",
    "hex(254)"
   ]
  },
  {
   "cell_type": "code",
   "execution_count": 37,
   "metadata": {},
   "outputs": [
    {
     "name": "stdout",
     "output_type": "stream",
     "text": [
      "140703978398160\n",
      "140703978398160\n"
     ]
    }
   ],
   "source": [
    "a=3 #3이 저장된 주소를 a가 갖고 있다는 의미\n",
    "print(id(3))#140703978398160\n",
    "print(id(a))#140703978398160\n",
    "#id(객체) 객체의 메모리 주소 값을 돌려주는 함수\n"
   ]
  },
  {
   "cell_type": "code",
   "execution_count": 44,
   "metadata": {},
   "outputs": [
    {
     "data": {
      "text/plain": [
       "5"
      ]
     },
     "execution_count": 44,
     "metadata": {},
     "output_type": "execute_result"
    }
   ],
   "source": [
    "int('3')\n",
    "int(3.14)\n",
    "int(\"101\",2) #2진수 101에 대한 10진수 값 #5\n",
    "int(\"FA\" ,16) #16진수 FA에 대한 10진수 값 #250\n"
   ]
  },
  {
   "cell_type": "code",
   "execution_count": 46,
   "metadata": {},
   "outputs": [
    {
     "name": "stdout",
     "output_type": "stream",
     "text": [
      "True\n",
      "False\n"
     ]
    }
   ],
   "source": [
    "#class(붕어빵기계) -> 객체(인스턴스, 붕어빵)\n",
    "#isinstance 클래스안에 있는게 맞는지 아닌지 확인할때, isinstance 사용\n",
    "#붕어빵 isinstance 붕어빵기계 => True\n",
    "#꽃게빵 isinstance 붕어빵기계 => False\n",
    "class 붕어빵기계:\n",
    "    pass\n",
    "class 꽃게빵기계:\n",
    "    pass\n",
    "꽃게빵 = 꽃게빵기계()\n",
    "붕어빵 = 붕어빵기계()\n",
    "print(isinstance(붕어빵, 붕어빵기계))#True\n",
    "print(isinstance(꽃게빵, 붕어빵기계))#False\n",
    "\n",
    "\n"
   ]
  },
  {
   "cell_type": "code",
   "execution_count": 50,
   "metadata": {},
   "outputs": [
    {
     "data": {
      "text/plain": [
       "[1, 2, 3, 4, 5, 6, 7, 8, 9]"
      ]
     },
     "execution_count": 50,
     "metadata": {},
     "output_type": "execute_result"
    }
   ],
   "source": [
    "list(\"test\") #=> ['t','e','s','t']\n",
    "list((1,2,3))\n",
    "list(range(1,10)) #반복가능한 자료형을 리스트 안에 주게 되면 리스트로 변환.\n"
   ]
  },
  {
   "cell_type": "code",
   "execution_count": 57,
   "metadata": {},
   "outputs": [
    {
     "name": "stdout",
     "output_type": "stream",
     "text": [
      "[2, 4, 6]\n",
      "[2, 4, 6]\n"
     ]
    }
   ],
   "source": [
    "#1.일반적인 함수 구현\n",
    "def two_times(num):\n",
    "    #구현부분\n",
    "    res=[]\n",
    "    for n in num:\n",
    "        res.append(n*2)\n",
    "    return res\n",
    "    \n",
    "res=two_times([1,2,3])\n",
    "print(res)# [2,4,6]\n",
    "\n",
    "\n",
    "#2. lambda함수로 구현\n",
    "print(list(map(lambda x: x*2, [1,2,3])))\n",
    "#print(list(map(two_times, [1,2,3])))"
   ]
  },
  {
   "cell_type": "code",
   "execution_count": 58,
   "metadata": {},
   "outputs": [
    {
     "name": "stdout",
     "output_type": "stream",
     "text": [
      "[2, 4, 6]\n"
     ]
    }
   ],
   "source": [
    "#3. map함수로 구현\n",
    "def two_times(x):\n",
    "    return x*2\n",
    "\n",
    "print(list(map(two_times, [1,2,3])))"
   ]
  },
  {
   "cell_type": "code",
   "execution_count": 63,
   "metadata": {},
   "outputs": [
    {
     "data": {
      "text/plain": [
       "'e'"
      ]
     },
     "execution_count": 63,
     "metadata": {},
     "output_type": "execute_result"
    }
   ],
   "source": [
    "max([1,2,3]) #3\n",
    "max(\"test\") #'t' 아스키 코드값이 가장 큰 문자. \n",
    "min([1,2,3]) #1\n",
    "min(\"test\") #'e' 아스키 코드값이 가장 작은 문자. \n"
   ]
  },
  {
   "cell_type": "code",
   "execution_count": 71,
   "metadata": {},
   "outputs": [
    {
     "data": {
      "text/plain": [
       "3.46"
      ]
     },
     "execution_count": 71,
     "metadata": {},
     "output_type": "execute_result"
    }
   ],
   "source": [
    "oct(8) #10진수 8 -> 8진수 10 #'0o10'\n",
    "chr(97) # ord함수의 반대 #'a'\n",
    "ord('a')# 97\n",
    "pow(2,4) #16 => 2^4 제곱\n",
    "round(4.6) # 반올림 함수 #5 #이상하게 6부터 반올림\n",
    "round(4.5) # 반올림 함수 #4 #이상하게 5까진 반올림 안됨\n",
    "round(3.4567 ,2) #3.46 #자리수 선정해서 반올림 가능\n",
    "\n"
   ]
  },
  {
   "cell_type": "code",
   "execution_count": 74,
   "metadata": {},
   "outputs": [
    {
     "name": "stdout",
     "output_type": "stream",
     "text": [
      "None\n",
      "[1, 2, 3]\n"
     ]
    }
   ],
   "source": [
    "#list.sort(), sorted(list)\n",
    "#list.sort():리스트를 정렬, 반환값은 None\n",
    "#리스트의 순서가 변경\n",
    "li=[1,3,2]\n",
    "print(li.sort())# 출력값 None\n",
    "print(li) #내부적으로 순서 바뀐다. [1, 2, 3]\n"
   ]
  },
  {
   "cell_type": "code",
   "execution_count": 77,
   "metadata": {},
   "outputs": [
    {
     "name": "stdout",
     "output_type": "stream",
     "text": [
      "[1, 2, 3]\n",
      "[1, 3, 2]\n"
     ]
    }
   ],
   "source": [
    "#sorted(list): 정렬된 새로운 리스트를 반환.\n",
    "#원본 리스트에는 영향없음\n",
    "li2=[1,3,2]\n",
    "print(sorted(li2)) #[1, 2, 3]\n",
    "print(li2) #[1, 3, 2] 원본 리스트에는 그대로 나옴\n",
    "\n",
    "#두 함수의 차이점 정리\n",
    "#sort는 원본 리스트 순서가 변경됨\n",
    "#sorted 원본 리스트 순서가 변경 안됨.\n",
    "#sort sorted 상황에 맞춰써 써야한다.\n",
    "#속도: sort > sorted 이유: sorted는 사본 리스트가 생성 되기 때문에(정렬 전,후)"
   ]
  },
  {
   "cell_type": "code",
   "execution_count": 81,
   "metadata": {},
   "outputs": [
    {
     "data": {
      "text/plain": [
       "[1, 2, 3]"
      ]
     },
     "execution_count": 81,
     "metadata": {},
     "output_type": "execute_result"
    }
   ],
   "source": [
    "sorted(['a','c','b']) #['a', 'b', 'c']\n",
    "sorted(\"today\") #['a', 'd', 'o', 't', 'y']\n",
    "sorted((1,3,2)) #[1, 2, 3] 튜플이 리스트로 나온다."
   ]
  },
  {
   "cell_type": "code",
   "execution_count": 84,
   "metadata": {},
   "outputs": [
    {
     "data": {
      "text/plain": [
       "'HI'"
      ]
     },
     "execution_count": 84,
     "metadata": {},
     "output_type": "execute_result"
    }
   ],
   "source": [
    "str(3) #'3' 숫자가 문자로 나옴\n",
    "str(\"hi\") #'hi'# 문자열로 출력\n",
    "str(\"hi\".upper()) #'HI' #대, 소문자 변경 가능\n"
   ]
  },
  {
   "cell_type": "code",
   "execution_count": 86,
   "metadata": {},
   "outputs": [
    {
     "data": {
      "text/plain": [
       "6"
      ]
     },
     "execution_count": 86,
     "metadata": {},
     "output_type": "execute_result"
    }
   ],
   "source": [
    "sum([1,2]) #3 #리스트 자료형 가능\n",
    "sum((1,2,3)) #6 #튜플 자료형 가능"
   ]
  },
  {
   "cell_type": "code",
   "execution_count": 92,
   "metadata": {},
   "outputs": [
    {
     "data": {
      "text/plain": [
       "[('a', 'd', 'g'), ('b', 'e', 'h'), ('c', 'f', 'i')]"
      ]
     },
     "execution_count": 92,
     "metadata": {},
     "output_type": "execute_result"
    }
   ],
   "source": [
    "#자료를 묶어주는 함수\n",
    "list(zip(\"abc\", \"def\")) #[('a', 'd'), ('b', 'e'), ('c', 'f')]\n",
    "list(zip(\"abc\", \"defg\")) #[('a', 'd'), ('b', 'e'), ('c', 'f')] #g가 버려짐\n",
    "list(zip(\"abc\", \"de\")) #[('a', 'd'), ('b', 'e')] #c가 버려짐\n",
    "list(zip(\"abc\",\"def\",'ghi')) #[('a', 'd', 'g'), ('b', 'e', 'h'), ('c', 'f', 'i')]"
   ]
  },
  {
   "cell_type": "code",
   "execution_count": 98,
   "metadata": {},
   "outputs": [],
   "source": [
    "#외장함수 => import 사용\n",
    "#pickle:객체 상태 그래도 저장/불러오기 모듈\n",
    "import pickle\n",
    "f= open('test.txt','wb')\n",
    "#wb는 binary 형태로 쓰기. 객체는 binary로 저장해야한다.\n",
    "data = {1:'python', 2:'java'} #객체 #딕셔너리 형태\n",
    "pickle.dump(data, f) #파일로 저장\n",
    "f.close()"
   ]
  },
  {
   "cell_type": "code",
   "execution_count": 100,
   "metadata": {},
   "outputs": [
    {
     "name": "stdout",
     "output_type": "stream",
     "text": [
      "{1: 'python', 2: 'java'}\n"
     ]
    }
   ],
   "source": [
    "f= open(\"test.txt\",\"rb\") #rb #read binary\n",
    "data = pickle.load(f)\n",
    "print(data)"
   ]
  },
  {
   "cell_type": "code",
   "execution_count": 101,
   "metadata": {
    "scrolled": true
   },
   "outputs": [
    {
     "data": {
      "text/plain": [
       "'test2.txt'"
      ]
     },
     "execution_count": 101,
     "metadata": {},
     "output_type": "execute_result"
    }
   ],
   "source": [
    "import shutil #파일 복사\n",
    "shutil.copy(\"test.txt\", \"test2.txt\")"
   ]
  },
  {
   "cell_type": "code",
   "execution_count": 104,
   "metadata": {},
   "outputs": [
    {
     "data": {
      "text/plain": [
       "['c:/windows\\\\addins',\n",
       " 'c:/windows\\\\appcompat',\n",
       " 'c:/windows\\\\apppatch',\n",
       " 'c:/windows\\\\AppReadiness',\n",
       " 'c:/windows\\\\assembly',\n",
       " 'c:/windows\\\\bcastdvr',\n",
       " 'c:/windows\\\\bfsvc.exe',\n",
       " 'c:/windows\\\\BitLockerDiscoveryVolumeContents',\n",
       " 'c:/windows\\\\Boot',\n",
       " 'c:/windows\\\\bootstat.dat',\n",
       " 'c:/windows\\\\Branding',\n",
       " 'c:/windows\\\\CbsTemp',\n",
       " 'c:/windows\\\\Containers',\n",
       " 'c:/windows\\\\CSC',\n",
       " 'c:/windows\\\\Cursors',\n",
       " 'c:/windows\\\\debug',\n",
       " 'c:/windows\\\\diagnostics',\n",
       " 'c:/windows\\\\DiagTrack',\n",
       " 'c:/windows\\\\DigitalLocker',\n",
       " 'c:/windows\\\\Downloaded Program Files',\n",
       " 'c:/windows\\\\Education.xml',\n",
       " 'c:/windows\\\\ELAMBKUP',\n",
       " 'c:/windows\\\\en-US',\n",
       " 'c:/windows\\\\Enterprise.xml',\n",
       " 'c:/windows\\\\explorer.exe',\n",
       " 'c:/windows\\\\Fonts',\n",
       " 'c:/windows\\\\GameBarPresenceWriter',\n",
       " 'c:/windows\\\\Globalization',\n",
       " 'c:/windows\\\\Help',\n",
       " 'c:/windows\\\\HelpPane.exe',\n",
       " 'c:/windows\\\\hh.exe',\n",
       " 'c:/windows\\\\hjimesv.ini',\n",
       " 'c:/windows\\\\IdentityCRL',\n",
       " 'c:/windows\\\\IME',\n",
       " 'c:/windows\\\\ImmersiveControlPanel',\n",
       " 'c:/windows\\\\INF',\n",
       " 'c:/windows\\\\InputMethod',\n",
       " 'c:/windows\\\\Installer',\n",
       " 'c:/windows\\\\ko-KR',\n",
       " 'c:/windows\\\\L2Schemas',\n",
       " 'c:/windows\\\\LanguageOverlayCache',\n",
       " 'c:/windows\\\\LiveKernelReports',\n",
       " 'c:/windows\\\\Logs',\n",
       " 'c:/windows\\\\Media',\n",
       " 'c:/windows\\\\mib.bin',\n",
       " 'c:/windows\\\\Microsoft.NET',\n",
       " 'c:/windows\\\\Migration',\n",
       " 'c:/windows\\\\minidump',\n",
       " 'c:/windows\\\\ModemLogs',\n",
       " 'c:/windows\\\\notepad.exe',\n",
       " 'c:/windows\\\\OCR',\n",
       " 'c:/windows\\\\Offline Web Pages',\n",
       " 'c:/windows\\\\Panther',\n",
       " 'c:/windows\\\\PCHEALTH',\n",
       " 'c:/windows\\\\Performance',\n",
       " 'c:/windows\\\\PFRO.log',\n",
       " 'c:/windows\\\\PLA',\n",
       " 'c:/windows\\\\PolicyDefinitions',\n",
       " 'c:/windows\\\\Prefetch',\n",
       " 'c:/windows\\\\PrintDialog',\n",
       " 'c:/windows\\\\Professional.xml',\n",
       " 'c:/windows\\\\ProfessionalEducation.xml',\n",
       " 'c:/windows\\\\ProfessionalWorkstation.xml',\n",
       " 'c:/windows\\\\Provisioning',\n",
       " 'c:/windows\\\\regedit.exe',\n",
       " 'c:/windows\\\\Registration',\n",
       " 'c:/windows\\\\RemotePackages',\n",
       " 'c:/windows\\\\rescache',\n",
       " 'c:/windows\\\\Resources',\n",
       " 'c:/windows\\\\SchCache',\n",
       " 'c:/windows\\\\schemas',\n",
       " 'c:/windows\\\\security',\n",
       " 'c:/windows\\\\ServerRdsh.xml',\n",
       " 'c:/windows\\\\ServiceProfiles',\n",
       " 'c:/windows\\\\ServiceState',\n",
       " 'c:/windows\\\\servicing',\n",
       " 'c:/windows\\\\Setup',\n",
       " 'c:/windows\\\\setupact.log',\n",
       " 'c:/windows\\\\setuperr.log',\n",
       " 'c:/windows\\\\ShellComponents',\n",
       " 'c:/windows\\\\ShellExperiences',\n",
       " 'c:/windows\\\\SHELLNEW',\n",
       " 'c:/windows\\\\SKB',\n",
       " 'c:/windows\\\\SoftwareDistribution',\n",
       " 'c:/windows\\\\Speech',\n",
       " 'c:/windows\\\\Speech_OneCore',\n",
       " 'c:/windows\\\\splwow64.exe',\n",
       " 'c:/windows\\\\System',\n",
       " 'c:/windows\\\\system.ini',\n",
       " 'c:/windows\\\\System32',\n",
       " 'c:/windows\\\\SystemApps',\n",
       " 'c:/windows\\\\SystemResources',\n",
       " 'c:/windows\\\\SysWOW64',\n",
       " 'c:/windows\\\\TAPI',\n",
       " 'c:/windows\\\\Tasks',\n",
       " 'c:/windows\\\\Temp',\n",
       " 'c:/windows\\\\TextInput',\n",
       " 'c:/windows\\\\tracing',\n",
       " 'c:/windows\\\\twain_32',\n",
       " 'c:/windows\\\\twain_32.dll',\n",
       " 'c:/windows\\\\Vss',\n",
       " 'c:/windows\\\\WaaS',\n",
       " 'c:/windows\\\\Web',\n",
       " 'c:/windows\\\\win.ini',\n",
       " 'c:/windows\\\\WindowsShell.Manifest',\n",
       " 'c:/windows\\\\WindowsUpdate.log',\n",
       " 'c:/windows\\\\winhlp32.exe',\n",
       " 'c:/windows\\\\WinSxS',\n",
       " 'c:/windows\\\\WMSysPr9.prx',\n",
       " 'c:/windows\\\\write.exe']"
      ]
     },
     "execution_count": 104,
     "metadata": {},
     "output_type": "execute_result"
    }
   ],
   "source": [
    "import glob #폴더 안에(특정경로) 파일 가져올때\n",
    "glob.glob(\"c:/windows/*\") # * 해당 폴더 모든 파일 #문법이 다르다. \n",
    "#컴퓨터에선 \\ 역슬래쉬를 쓰지만, 프로그래밍에선 /를 쓴다."
   ]
  },
  {
   "cell_type": "code",
   "execution_count": 108,
   "metadata": {},
   "outputs": [
    {
     "data": {
      "text/plain": [
       "True"
      ]
     },
     "execution_count": 108,
     "metadata": {},
     "output_type": "execute_result"
    }
   ],
   "source": [
    "import webbrowser #특정 웹브라우저 오픈\n",
    "webbrowser.open(\"http://www,google.com\") #http 안써도 내부적으로 만든다. 원칙적으로는 써야 한다.\n",
    "webbrowser.open_new(\"http://www,google.com\")"
   ]
  },
  {
   "cell_type": "code",
   "execution_count": 112,
   "metadata": {},
   "outputs": [
    {
     "name": "stdout",
     "output_type": "stream",
     "text": [
      "p1:30 20\n",
      "p2:50 40\n",
      "28.284271247461902\n"
     ]
    }
   ],
   "source": [
    "#2차원 평면에서 위치를 나타내는 클래스\n",
    "import math\n",
    "class Point2D:\n",
    "    def __init__(self,x,y): #class 만들때 초기 설정값\n",
    "        self.x=x\n",
    "        self.y=y\n",
    "      #__init__ : 객체가 만들어지는 시점에 객체를 초기화하는 역할\n",
    "    \n",
    "p1= Point2D(x=30, y=20) #객체 생성.#점1(x=30, y=20)\n",
    "p2= Point2D(x=50, y=40) #점2(x=50, y=40)\n",
    "print(\"p1:{} {}\".format(p1.x, p1.y))\n",
    "print(\"p2:{} {}\".format(p2.x, p2.y))\n",
    "\n",
    "#두 점 사이의 거리 출력(피타고라스 정리)\n",
    "x_dis = p2.x-p1.x \n",
    "y_dis= p2.y-p1.y\n",
    "x_squr= pow(x_dis,2)\n",
    "y_squr= pow(x_dis,2)\n",
    "d=math.sqrt(x_squr +y_squr) #import math.sqrt 이게 루트.\n",
    "print(d)\n",
    "#한문장 #d=math.sqrt(pow(p2.y-p1.y,2)+ pow(p2.x-p1.x,2)) \n"
   ]
  },
  {
   "cell_type": "code",
   "execution_count": 113,
   "metadata": {},
   "outputs": [
    {
     "data": {
      "text/plain": [
       "['__add__',\n",
       " '__class__',\n",
       " '__contains__',\n",
       " '__delattr__',\n",
       " '__delitem__',\n",
       " '__dir__',\n",
       " '__doc__',\n",
       " '__eq__',\n",
       " '__format__',\n",
       " '__ge__',\n",
       " '__getattribute__',\n",
       " '__getitem__',\n",
       " '__gt__',\n",
       " '__hash__',\n",
       " '__iadd__',\n",
       " '__imul__',\n",
       " '__init__',\n",
       " '__init_subclass__',\n",
       " '__iter__',\n",
       " '__le__',\n",
       " '__len__',\n",
       " '__lt__',\n",
       " '__mul__',\n",
       " '__ne__',\n",
       " '__new__',\n",
       " '__reduce__',\n",
       " '__reduce_ex__',\n",
       " '__repr__',\n",
       " '__reversed__',\n",
       " '__rmul__',\n",
       " '__setattr__',\n",
       " '__setitem__',\n",
       " '__sizeof__',\n",
       " '__str__',\n",
       " '__subclasshook__',\n",
       " 'append',\n",
       " 'clear',\n",
       " 'copy',\n",
       " 'count',\n",
       " 'extend',\n",
       " 'index',\n",
       " 'insert',\n",
       " 'pop',\n",
       " 'remove',\n",
       " 'reverse',\n",
       " 'sort']"
      ]
     },
     "execution_count": 113,
     "metadata": {},
     "output_type": "execute_result"
    }
   ],
   "source": [
    "\"\"\"\n",
    "이터레이터(iterator, 반복자):데이터를 차례대로 꺼낼 수 있는 객체\n",
    "\n",
    "for i in range(10) #0부터 9까지 연속된 숫자 생성.\n",
    "-> 숫자 0~9까지를 차례대로 꺼내는 이터레이터가 있음. 이터레이터에 의해서\n",
    "0~9까지의 수가 생성\n",
    "\n",
    "이터러블(iterable, 반복 가능한 객체)\n",
    "-> 문자열, 리스트, 튜플, ... \n",
    "\n",
    "\n",
    "\"\"\"\n",
    "#dir(): 데이터가 이터러블 한지 확인\n",
    "#dir(객체)\n",
    "dir([1,2,3]) #반복가능한: __iter__가 포함.\n"
   ]
  },
  {
   "cell_type": "code",
   "execution_count": 117,
   "metadata": {},
   "outputs": [
    {
     "name": "stdout",
     "output_type": "stream",
     "text": [
      "1\n",
      "2\n",
      "3\n"
     ]
    },
    {
     "ename": "StopIteration",
     "evalue": "",
     "output_type": "error",
     "traceback": [
      "\u001b[1;31m---------------------------------------------------------------------------\u001b[0m",
      "\u001b[1;31mStopIteration\u001b[0m                             Traceback (most recent call last)",
      "\u001b[1;32m<ipython-input-117-d3d736ca75fe>\u001b[0m in \u001b[0;36m<module>\u001b[1;34m\u001b[0m\n\u001b[0;32m      7\u001b[0m \u001b[0mprint\u001b[0m\u001b[1;33m(\u001b[0m\u001b[0mit\u001b[0m\u001b[1;33m.\u001b[0m\u001b[0m__next__\u001b[0m\u001b[1;33m(\u001b[0m\u001b[1;33m)\u001b[0m\u001b[1;33m)\u001b[0m\u001b[1;33m\u001b[0m\u001b[1;33m\u001b[0m\u001b[0m\n\u001b[0;32m      8\u001b[0m \u001b[0mprint\u001b[0m\u001b[1;33m(\u001b[0m\u001b[0mit\u001b[0m\u001b[1;33m.\u001b[0m\u001b[0m__next__\u001b[0m\u001b[1;33m(\u001b[0m\u001b[1;33m)\u001b[0m\u001b[1;33m)\u001b[0m\u001b[1;33m\u001b[0m\u001b[1;33m\u001b[0m\u001b[0m\n\u001b[1;32m----> 9\u001b[1;33m \u001b[0mprint\u001b[0m\u001b[1;33m(\u001b[0m\u001b[0mit\u001b[0m\u001b[1;33m.\u001b[0m\u001b[0m__next__\u001b[0m\u001b[1;33m(\u001b[0m\u001b[1;33m)\u001b[0m\u001b[1;33m)\u001b[0m\u001b[1;33m\u001b[0m\u001b[1;33m\u001b[0m\u001b[0m\n\u001b[0m",
      "\u001b[1;31mStopIteration\u001b[0m: "
     ]
    }
   ],
   "source": [
    "it = [1,2,3].__iter__() #<list_iterator at 0x2b89efb8208>\n",
    "\n",
    "# for문안에 도는 내부적인 구조 \n",
    "\n",
    "# for i in [1,2,3]:\n",
    "#     print(i) \n",
    "\n",
    "print(it.__next__())\n",
    "print(it.__next__())\n",
    "print(it.__next__())\n",
    "#print(it.__next__())\n",
    "\n",
    "#iter & next 라는 함수를 사용해서 가지고 오는 구조\n",
    "\n",
    "for i in range(1,4):\n"
   ]
  },
  {
   "cell_type": "code",
   "execution_count": null,
   "metadata": {},
   "outputs": [],
   "source": [
    "\"\"\"     1) __iter__() 호출\n",
    "        2) __next__() 호출 -> i 변수에 1저장\n",
    "        3) __next__() 호출 -> i 변수에 2저장\n",
    "        4) __next__() 호출 -> 에러 발생\n",
    "        \n",
    "for i in range(3):\n",
    "    print(i)\n",
    "\n",
    "\"\"\""
   ]
  },
  {
   "cell_type": "code",
   "execution_count": 127,
   "metadata": {},
   "outputs": [
    {
     "name": "stdout",
     "output_type": "stream",
     "text": [
      "\n",
      "950101-*******\n",
      "970202-*******\n",
      "\n"
     ]
    }
   ],
   "source": [
    "\"\"\"\n",
    "정규표현식: 문자열을 규칙에 맞춰 정리\n",
    "데이터 수집 -> 데이터 전처리 -> 데이터분석\n",
    "텍스트 데이터(대문자, 소문자 바꾸거나 정렬)\n",
    "전화번호 수집\n",
    "010-1234-5678\n",
    "3자리 - 4자리 - 4자리 패턴 \n",
    "\n",
    "텍스트 수집 -> 주민번호 -> 뒷자리를 *로 변경\n",
    "\"\"\"\n",
    "\n",
    "data = \"\"\"\n",
    "kim 950101-1234567\n",
    "lee 970202-2345678\n",
    "\"\"\"\n",
    "result=[]\n",
    "for line in data.split(\"\\n\"):\n",
    "    word_res=[]\n",
    "    for word in line.split(\" \"):\n",
    "        if len(word) ==14 and word[:6].isdigit() and word[7:].isdigit(): #isdigit(): 숫자인지 아닌지 판별 함수\n",
    "            w=word[0:6]+ \"-\" + \"*******\"\n",
    "            word_res.append(w)\n",
    "    result.append(\" \".join(word_res))\n",
    "print(\"\\n\".join(result))\n"
   ]
  },
  {
   "cell_type": "code",
   "execution_count": 130,
   "metadata": {},
   "outputs": [
    {
     "name": "stdout",
     "output_type": "stream",
     "text": [
      "\n",
      "kim 950101-*******\n",
      "lee 970202-*******\n",
      "\n",
      "<re.Match object; span=(0, 5), match='hello'>\n",
      "None\n"
     ]
    }
   ],
   "source": [
    "data = \"\"\"\n",
    "kim 950101-1234567\n",
    "lee 970202-2345678\n",
    "\"\"\"\n",
    "\n",
    "import re #정규표현식 regular equation\n",
    "patten = re.compile(\"(\\d{6})[-]\\d{7}\")\n",
    "print(patten.sub(\"\\g<1>-*******\",data))\n",
    "\n",
    "#정규표현식을 사용하면 2줄이면 된다. 똑같은 작업이라도 편한게 할수 있다.\n",
    "#파이썬말고 다른 언어에도 다 존재한다.\n",
    "#정규표현식 작성방법\n",
    "#re.match(\"패턴\", \"문자열\") : 문자열에 패턴이 있는지 여부를 확인\n",
    "\n",
    "print(re.match(\"hello\", \"hello, world\")) #<re.Match object; span=(0, 5), match='hello'>\n",
    "print(re.match(\"hi\", \"hello, world\")) #None #match된 단어가 없다. \n",
    "\n",
    "\n"
   ]
  },
  {
   "cell_type": "code",
   "execution_count": 9,
   "metadata": {
    "scrolled": true
   },
   "outputs": [
    {
     "name": "stdout",
     "output_type": "stream",
     "text": [
      "<re.Match object; span=(0, 1), match='1'>\n",
      "None\n",
      "<re.Match object; span=(0, 1), match='대'>\n",
      "<re.Match object; span=(0, 1), match='대'>\n",
      "None\n"
     ]
    }
   ],
   "source": [
    "import re\n",
    "\"\"\"\n",
    "정규표현식 메타문자(문자의 본래 의미가 아닌, 특정 의미를 갖는 문자) \n",
    "=> () {} [] \\ | ? + * $ ^ ...\n",
    "\n",
    "1. [] 메타문자: 문자와 관련된 정규식(정규표현식) 사용. \n",
    "[] 대괄호 사이에는 어떤 문자든 올 수 있다. \n",
    "\n",
    "E.g., 정규표현식: [abcdef]\n",
    "의미: a,b,c,d,e,f 문자 중에서 한 개의 문자와 매치\n",
    "\"a\"는 정규식에 일치하는 문자가 있으므로 -> 매치\n",
    "\"\"\"\n",
    "\n",
    "# print(re.match(\"[abcdef]\", \"a\")) #<re.Match object; span=(0, 1), match='a'>\n",
    "# print(re.match(\"[abcdef]\", \"z\")) #None\n",
    "# print(re.match(\"[abcdef]\", \"all\")) #<re.Match object; span=(0, 1), match='a'>\n",
    "# print(re.match(\"[abcdef]\", \"sky\"))#None\n",
    "# print(re.match(\"[abcdef]\", \"best\"))#<re.Match object; span=(0, 1), match='b'> #맨앞 b만 나옴\n",
    "# print(re.match(\"[abcdef]\", \"fgha\"))#<re.Match object; span=(0, 1), match='f'>\n",
    "# print(re.match(\"[a-z]\", \"fgha\"))#<re.Match object; span=(0, 1), match='f'>\n",
    "# #[a-z]:알파벳 소문자 모두\n",
    "# print(re.match(\"[a-z]\", \"ABC\")) #None\n",
    "# print(re.match(\"[A-Z]\", \"ABC\"))#<re.Match object; span=(0, 1), match='A'>\n",
    "# print(re.match(\"[a-zA-Z]\", \"ABC\")) \n",
    "# #[a-zA-Z]:알파벳 대,소문자 모두\n",
    "# print(re.match(\"[0-9]\", \"119\")) #<re.Match object; span=(0, 1), match='1'>\n",
    "# #span=(0, 1) 첫번째 위치 글자에서 매치된걸 표시\n",
    "# #[0-9] :모든 숫자를 나타낸것\n",
    "# #[^0-9]: 숫자를 제외한 모두\n",
    "# print(re.match(\"[^0-9]\", \"119\")) #None\n",
    "\n",
    "# print(re.match(\"\\d\", \"119\"))\n",
    "# #\\d: 숫자와 매치됨. [0-9]과 같음\n",
    "\n",
    "# print(re.match(\"\\D\", \"119\"))\n",
    "# #\\D: 숫자가 아닌 모든것과 매치. [^0-9]과 같음\n",
    "# print(re.match(\"\\w\", \"test\"))#[0-9a-zA-Z]\n",
    "#\\w:숫자+문자 매치 = [0-9a-zA-Z]\n",
    "print(re.match(\"[0-9a-zA-Z]\",\"119\"))\n",
    "print(re.match(\"[0-9a-zA-Z]\",\"대한민국\"))\n",
    "print(re.match(\"[^0-9a-zA-Z]\",\"대한민국\"))#<re.Match object; span=(0, 1), match='대'>\n",
    "print(re.match(\"[가-핳]\",\"대한민국\"))#<re.Match object; span=(0, 1), match='대'>\n",
    "\n",
    "print(re.match(\"\\W\", \"test\")) #None\n",
    "#\\W: 숫자+영문자가 아닌 나머지"
   ]
  },
  {
   "cell_type": "code",
   "execution_count": 151,
   "metadata": {},
   "outputs": [
    {
     "name": "stdout",
     "output_type": "stream",
     "text": [
      "None\n",
      "<re.Match object; span=(7, 9), match='hi'>\n"
     ]
    }
   ],
   "source": [
    "\"\"\"\n",
    "^문자열: 문자열이 맨 앞에 오는지 판단\n",
    "문자열$: 문자열이 맨 뒤에 오는지 판단\n",
    "search함수에서 사용됨\n",
    "\"\"\"\n",
    "\n",
    "print(re.search(\"^hi\",\"hello, hi\"))#None\n",
    "#hi문자열이 맨 앞에 오는지 판단\n",
    "print(re.search(\"hi$\",\"hello, hi\"))#<re.Match object; span=(7, 9), match='hi'>\n",
    "#hi문자열이 맨 뒤에 오는지 판단\n",
    "\n"
   ]
  },
  {
   "cell_type": "code",
   "execution_count": 155,
   "metadata": {},
   "outputs": [
    {
     "name": "stdout",
     "output_type": "stream",
     "text": [
      "<re.Match object; span=(0, 2), match='hi'>\n",
      "None\n",
      "<re.Match object; span=(0, 5), match='hello'>\n"
     ]
    }
   ],
   "source": [
    "print(re.match(\"hello|hi|good\",\"hi\"))# <re.Match object; span=(0, 2), match='hi'>\n",
    "#|(bar)기호는 '또는' 의미\n",
    "print(re.match(\"hello|hi|good\",\"goo\"))#None\n",
    "print(re.match(\"hello|hi|good\",\"hello\"))#<re.Match object; span=(0, 5), match='hello'>\n",
    "\n",
    "\n",
    "\n"
   ]
  },
  {
   "cell_type": "code",
   "execution_count": null,
   "metadata": {},
   "outputs": [],
   "source": [
    "# []]사이의 문자들과 매치\n",
    "\"\"\"\n",
    "정규식:[abc]\n",
    "의미: a,b,c 중에서 한 개의 문자와 매치\n",
    "a문자 - 매치, before - 매치, kick - 매치x \n",
    "\n",
    "\"\"\"\n",
    "\n"
   ]
  },
  {
   "cell_type": "code",
   "execution_count": 162,
   "metadata": {},
   "outputs": [
    {
     "name": "stdout",
     "output_type": "stream",
     "text": [
      "<re.Match object; span=(0, 1), match='1'>\n",
      "<re.Match object; span=(0, 2), match='12'>\n",
      "<re.Match object; span=(0, 2), match='12'>\n",
      "<re.Match object; span=(0, 0), match=''>\n",
      "None\n"
     ]
    }
   ],
   "source": [
    "print(re.match(\"[0-9]\", \"123\"))#<re.Match object; span=(0, 1), match='1'>\n",
    "#               패턴, 문자열\n",
    "#패턴이 문자열에 있는지 확인\n",
    "#span=(0, 1) 패턴이 매치되는 문자열의 위치\n",
    "\n",
    "print(re.match(\"[0-9]*\", \"12a3\"))#<re.Match object; span=(0, 3), match='123'>\n",
    "#               패턴, 문자열\n",
    "# *은 숫자가 0개 이상 있는지 판단.\n",
    "# 위 코드에서는 숫자가 3개가 매치됨.\n",
    "\n",
    "print(re.match(\"[0-9]*\", \"12a3\"))#<re.Match object; span=(0, 2), match='12'>\n",
    "#2개만 매치 되어진것\n",
    "\n",
    "print(re.match(\"[0-9]*\", \"x12a3\"))#<re.Match object; span=(0, 0), match=''>\n",
    "print(re.match(\"[0-9]\", \"x12a3\"))#None # 0개 매치"
   ]
  },
  {
   "cell_type": "code",
   "execution_count": 166,
   "metadata": {},
   "outputs": [
    {
     "name": "stdout",
     "output_type": "stream",
     "text": [
      "<re.Match object; span=(0, 0), match=''>\n",
      "None\n",
      "<re.Match object; span=(0, 3), match='abc'>\n",
      "None\n"
     ]
    }
   ],
   "source": [
    "print(re.match(\"[a-z]*\", \"12a3bc\"))#<re.Match object; span=(0, 0), match=''>\n",
    "print(re.match(\"[a-z]+\", \"12a3bc\"))#None\n",
    "print(re.match(\"[a-z]+\", \"abc123def\"))#<re.Match object; span=(0, 3), match='abc'>\n",
    "# +: 문자가 1개 이상 있는지 판단\n",
    "# *: 문자가 0개 이상 있는지 판단\n",
    "print(re.match(\"[a-z]+\",\"9abc123def\"))"
   ]
  },
  {
   "cell_type": "code",
   "execution_count": 175,
   "metadata": {},
   "outputs": [
    {
     "name": "stdout",
     "output_type": "stream",
     "text": [
      "<re.Match object; span=(0, 1), match='a'>\n",
      "<re.Match object; span=(0, 0), match=''>\n",
      "<re.Match object; span=(0, 3), match='aaa'>\n",
      "<re.Match object; span=(0, 1), match='b'>\n",
      "None\n",
      "<re.Match object; span=(0, 2), match='ab'>\n",
      "<re.Match object; span=(0, 3), match='aab'>\n",
      "None\n"
     ]
    }
   ],
   "source": [
    "print(re.match(\"a*\", \"a\")) #a가 0개 이상이라서 나온다.#<re.Match object; span=(0, 1), match='a'>\n",
    "#(\"패턴\", \"문자열\"):문자열에 패턴이 있는지?\n",
    "print(re.match(\"a*\", \"b\"))#<re.Match object; span=(0, 0), match=''>\n",
    "print(re.match(\"a*\", \"aaab\"))#<re.Match object; span=(0, 3), match='aaa'>\n",
    "print(re.match(\"a*b\",\"b\"))#<re.Match object; span=(0, 1), match='b'>\n",
    "#a가 0개 이상 있으면서 b로 이어진다면 매치\n",
    "print(re.match(\"a+b\",\"b\"))#None #a가 1개 이상 조건이기 때문에 나오지 않는다.\n",
    "print(re.match(\"a+b\",\"ab\"))#<re.Match object; span=(0, 2), match='ab'>\n",
    "print(re.match(\"a+b\",\"aab\"))#<re.Match object; span=(0, 3), match='aab'>\n",
    "print(re.match(\"a+b\",\"aacb\"))#None #c 때문에 나오지 않는다. "
   ]
  },
  {
   "cell_type": "code",
   "execution_count": 179,
   "metadata": {},
   "outputs": [
    {
     "name": "stdout",
     "output_type": "stream",
     "text": [
      "<re.Match object; span=(0, 6), match='aaaaaa'>\n",
      "<re.Match object; span=(0, 7), match='aaaaaab'>\n",
      "<re.Match object; span=(0, 7), match='aaaaaab'>\n",
      "<re.Match object; span=(0, 7), match='aaaaaab'>\n"
     ]
    }
   ],
   "source": [
    "print(re.match(\"a*\", \"aaaaaab\"))\n",
    "#패턴이 문자열에 있는지 확인\n",
    "print(re.match(\"a+b\",\"aaaaaab\"))\n",
    "print(re.match(\"a+b\",\"aaaaaabcc\"))\n",
    "print(re.match(\"a+b*\",\"aaaaaabcc\"))\n"
   ]
  },
  {
   "cell_type": "code",
   "execution_count": 187,
   "metadata": {},
   "outputs": [
    {
     "name": "stdout",
     "output_type": "stream",
     "text": [
      "<re.Match object; span=(0, 5), match='aabbc'>\n",
      "None\n",
      "<re.Match object; span=(0, 9), match='aabbccccb'>\n"
     ]
    }
   ],
   "source": [
    "# print(re.match(\"a*b\",\"aab\"))\n",
    "# print(re.match(\"a*b\",\"aabc\"))\n",
    "# print(re.match(\"a*b\",\"aabbc\"))\n",
    "# print(re.match(\"a*b+\",\"aabbc\"))\n",
    "# print(re.match(\"a*b*\",\"aabbc\"))\n",
    "print(re.match(\"a*b*c\",\"aabbc\"))\n",
    "print(re.match(\"a*b*c+b\",\"aabbc\"))#None\n",
    "print(re.match(\"a*b*c+b\",\"aabbccccb\"))\n"
   ]
  },
  {
   "cell_type": "code",
   "execution_count": 193,
   "metadata": {},
   "outputs": [
    {
     "name": "stdout",
     "output_type": "stream",
     "text": [
      "<re.Match object; span=(0, 1), match='h'>\n",
      "<re.Match object; span=(0, 1), match='h'>\n",
      "<re.Match object; span=(0, 1), match='h'>\n",
      "<re.Match object; span=(0, 0), match=''>\n",
      "<re.Match object; span=(0, 1), match='h'>\n",
      "<re.Match object; span=(0, 0), match=''>\n"
     ]
    }
   ],
   "source": [
    "print(re.match(\"h?\",\"h\"))\n",
    "print(re.match(\"h?\",\"hi\"))\n",
    "print(re.match(\"h?\",\"hello\"))\n",
    "#?는 문자가 0개 또는 1개 있으면 매치됨\n",
    "print(re.match(\"h?\",\"ello\"))\n",
    "#h?는 h문자가 0개 또는1개 있으면 매치됨\n",
    "print(re.match(\"h?\",\"hhhhhello\"))\n",
    "print(re.match(\"h?\",\"ellho\"))\n",
    "\n"
   ]
  },
  {
   "cell_type": "code",
   "execution_count": 202,
   "metadata": {
    "scrolled": true
   },
   "outputs": [
    {
     "name": "stdout",
     "output_type": "stream",
     "text": [
      "<re.Match object; span=(0, 3), match='dog'>\n",
      "None\n",
      "<re.Match object; span=(0, 2), match='dg'>\n",
      "<re.Match object; span=(0, 2), match='dg'>\n",
      "<re.Match object; span=(0, 10), match='dggggggggg'>\n"
     ]
    }
   ],
   "source": [
    "# .은 문자가 0개 또는 1개 있으면 매치됨\n",
    "# h. 은 h문자 다음에 문자가 1개 있으면 매치됨\n",
    "\n",
    "# print(re.match(\"h.\", \"hello\"))\n",
    "# print(re.match(\"h.l\", \"hello\"))\n",
    "# #h문자 + 모든문자 + l문자\n",
    "# print(re.match('a.b','ab')) #None\n",
    "# #a와 b 사이에 문자가 1개 있어야만 매치됨.\n",
    "# print(re.match('a.b','acb')) #<re.Match object; span=(0, 3), match='acb'>\n",
    "# print(re.match('a.b','acccb'))# None #a와 b 사이에 문자가 1개 이상이라서 매칭안됨\n",
    "\n",
    "print(re.match('do*g','dog')) #<re.Match object; span=(0, 3), match='dog'>\n",
    "print(re.match('do*g','dokg')) #None\n",
    "print(re.match('do*g','dg'))#<re.Match object; span=(0, 2), match='dg'> # o가 0개 이상\n",
    "print(re.match('do*g','dggggggggg'))#<re.Match object; span=(0, 2), match='dg'>\n",
    "print(re.match('do*g+','dggggggggg'))"
   ]
  },
  {
   "cell_type": "code",
   "execution_count": 217,
   "metadata": {},
   "outputs": [
    {
     "name": "stdout",
     "output_type": "stream",
     "text": [
      "<re.Match object; span=(0, 2), match='hi'>\n",
      "None\n",
      "<re.Match object; span=(0, 3), match='hii'>\n",
      "<re.Match object; span=(0, 3), match='hii'>\n",
      "None\n",
      "<re.Match object; span=(0, 8), match='hihihehe'>\n"
     ]
    }
   ],
   "source": [
    "#a{3}: a가 3개 있는지?\n",
    "# print(re.match(\"a{3}\", \"aaabbbccc\"))\n",
    "# print(re.match(\"a{3}b\", \"aaabbbccc\"))\n",
    "# print(re.match(\"a{3}b*\", \"aaabbbccc\"))\n",
    "# print(re.match(\"a{3}b+\", \"aaabbbccc\"))\n",
    "# print(re.match(\"a{3}b+c\", \"aaabbbccc\"))\n",
    "# print(re.match(\"a{3}b+c*\", \"aaabbbccc\"))\n",
    "# print(re.match(\"a{3}\", \"aaaaaaabbbccc\")) #<re.Match object; span=(0, 3), match='aaa'>\n",
    "# print(re.match(\"hellohi\", \"hello'\"))\n",
    "# print(re.match(\"a{3}\", \"aabbbccc\")) #None\n",
    "#문자{횟수} : 문자가 지정된 횟수만큼 반복\n",
    "\n",
    "#(문자열){횟수}:문자열이 지정된 횟수만큼 반복\n",
    "print(re.match(\"hi\", \"hi\")) #<re.Match object; span=(0, 2), match='hi'>\n",
    "print(re.match(\"hi{2}\", \"hi\")) #None #h+i 2번\n",
    "print(re.match(\"hi{2}\", \"hii\"))\n",
    "print(re.match(\"hi{2}\", \"hiiiii\"))\n",
    "\n",
    "# print(re.match(\"(hi){1}\", \"hii\"))\n",
    "# print(re.match(\"(hi){1}\", \"hihi\"))\n",
    "# print(re.match(\"(hi){2}\", \"hihi\"))\n",
    "# print(re.match(\"(hi){2}\", \"hihihi\"))\n",
    "print(re.match(\"(hi){2}\", \"hibyeihi\")) #None\n",
    "print(re.match(\"(hi){2}(he){2}\", \"hihihehe\")) #<re.Match object; span=(0, 8), match='hihihehe'>\n",
    "\n",
    "\n"
   ]
  },
  {
   "cell_type": "code",
   "execution_count": null,
   "metadata": {},
   "outputs": [],
   "source": [
    "#a.b => a + 모든 문자 + b \n",
    "#abc는 매치안됨\n",
    "#주의사항 a[.]b => a + 점(.)+ b  실제 . 이 와야 한다\n",
    "#[]\n",
    "#이런거 할줄 알면 이메일 판별할때 사용가능하다.\n",
    "# \"[a-z]+[.][a-z]+[.]+com\"\n",
    "# test.abc.com\n"
   ]
  },
  {
   "cell_type": "code",
   "execution_count": 227,
   "metadata": {},
   "outputs": [
    {
     "name": "stdout",
     "output_type": "stream",
     "text": [
      "<re.Match object; span=(0, 13), match='010-1234-5678'>\n",
      "None\n",
      "<re.Match object; span=(0, 12), match='02-1234-5678'>\n",
      "<re.Match object; span=(0, 13), match='010-1234-5678'>\n",
      "<re.Match object; span=(0, 12), match='02-1234-5678'>\n",
      "정상 번호\n"
     ]
    }
   ],
   "source": [
    "tel1=\"010-1234-5678\"\n",
    "tel2=\"02-1234-5678\"\n",
    "print(re.match(\"[0-9]{3}-[0-9]{4}-[0-9]{4}\",tel1))\n",
    "print(re.match(\"[0-9]{3}-[0-9]{4}-[0-9]{4}\",tel2))\n",
    "\n",
    "print(re.match(\"[0-9]{2,3}-[0-9]{4}-[0-9]{4}\",tel2))\n",
    "print(re.match(\"[0-9]{2,3}-[0-9]{4}-[0-9]{4}\",tel1))\n",
    "#{2,3} 숫자가 최소 2개 ~ 최대 3개 매치될 수 있다.\n",
    "print(re.match(\"[0-9]{2,3}-[0-9]{3,4}-[0-9]{4}\",tel2))\n",
    "\n",
    "jm=\"990101-1234567\"\n",
    "check= re.match(\"[0-9]{6}-[0-9]{7}\",jm)\n",
    "if check:\n",
    "    print(\"정상 번호\")\n",
    "else:\n",
    "    print(\"비정상 번호\")\n"
   ]
  },
  {
   "cell_type": "code",
   "execution_count": null,
   "metadata": {},
   "outputs": [],
   "source": [
    "#파이선 프로그래밍(주말동안 만들어보기_커피자판기처럼)\n",
    "커피 자판기 만들기\n",
    "금액 투입\n",
    "커피 선택\n",
    "커피 출력(품절)\n",
    "잔액 출력\n",
    "동전: 500, 100, 50, 1000등등\n",
    "*관리자 / 사용자 기능 구현\n",
    "\n",
    "예시) \n",
    "1) 관리자\n",
    "- 커피 재료(10잔 입력)\n",
    "- 동전 투입(500:20, 100:50, 1000:30)\n",
    "2) 사용자\n",
    "- 금액 투입\n",
    "- 커피 선택\n",
    "- 잔액 출금 / 커피를 추가적으로 선택\n",
    "\n",
    "실행 예시)\n",
    "\n",
    "\n",
    "- step 1\n",
    "선택하세요?\n",
    "(1) 관리자 모드 (2) 사용자 모드 (3) 종료\n",
    "입력 : 1\n",
    "    \n",
    "* 관리자 모드 일때\n",
    "\n",
    "- step 2\n",
    "(1) 커피 재료 (2) 동전 투입 (3) 종료\n",
    "입력 : 3\n",
    "원래는 전 스텝으로 가는게 좋다. 안되면 처음 스텝으로 이동    \n",
    "\n",
    "- step 3\n",
    "chare of coffee=[]\n",
    "list(input(\"충전할 커피 횟수를 입력하세요:\"+\"\\n\")\n",
    "\n",
    "커피 충전 : 10\n",
    "10잔이 충전되었습니다.\n",
    "\n",
    "* 사용자 모드 일때\n",
    "\n",
    "- step 2\n",
    "(1) 금액 투입 \n",
    "- step 3\n",
    "(1) 커피 선택 (2) 잔액 출금\n",
    "- step 4\n"
   ]
  },
  {
   "cell_type": "code",
   "execution_count": null,
   "metadata": {},
   "outputs": [],
   "source": [
    "\n",
    "    \n",
    "class Administor():\n",
    "        def \n",
    "    \n",
    "class User():\n",
    "\n",
    "print(\"Coffee Vending Machine\")\n",
    "\n",
    "step 1\n",
    "Mode_Selection = input(\"숫자를 넣어 모드를 선택하세요 \")\n",
    "if Mode_Selection ==1:\n",
    "    \n",
    "    elif "
   ]
  },
  {
   "cell_type": "code",
   "execution_count": 3,
   "metadata": {},
   "outputs": [
    {
     "name": "stdout",
     "output_type": "stream",
     "text": [
      "돈을 넣어주시오.300\n",
      "\"원하는 음료를 고르시오. 1:커피(200원) ,2:라떼(300원) 3:생수(100원) 0:종료 \" : 2\n",
      "라떼 나왔습니다.\n",
      "잔돈 0원 있습니다.\n",
      "\n",
      "\n",
      "잔액이 부족합니다 \n",
      "추가금액을 입력하세요(종료:0):  600\n",
      "잔돈 : 600\n",
      "\"원하는 음료를 고르시오. 1:커피(200원) ,2:라떼(300원) 3:생수(100원) 0:종료 \" : 1\n",
      "커피 나왔습니다.\n",
      "잔돈 400원 있습니다.\n",
      "\n",
      "\n",
      "\"원하는 음료를 고르시오. 1:커피(200원) ,2:라떼(300원) 3:생수(100원) 0:종료 \" : 3\n",
      "생수 나왔습니다.\n",
      "잔돈 300원 있습니다.\n",
      "\n",
      "\n",
      "\"원하는 음료를 고르시오. 1:커피(200원) ,2:라떼(300원) 3:생수(100원) 0:종료 \" : 0\n",
      "\n",
      "잔돈 300원 있습니다.\n",
      "\n",
      "\n",
      "300원을 반환합니다.\n",
      "커피는 1잔, 200원 어치 판매되었습니다.\n",
      "라떼는 1잔, 300원 어치 판매되었습니다.\n",
      "생수는 1잔, 400원 어치 판매되었습니다.\n"
     ]
    }
   ],
   "source": [
    "class vending_machine:\n",
    "    def __init__(self):\n",
    "        self.total_money=0\n",
    "        self.in_money = 0  \n",
    "        self.product = ('커피','라떼','생수')\n",
    "        self.sel = 0\n",
    "        self.price = ('200','300','100')\n",
    "        self.coffee_count = 0\n",
    "        self.latte_count = 0\n",
    "        self.water_count = 0\n",
    "    \n",
    "    def input_money(self):\n",
    "        self.in_money = int(input('돈을 넣어주시오.'))\n",
    "    \n",
    "    def get_drink(self):\n",
    "        if sel == 1 and self.in_money >= 200:\n",
    "            print(\"%s 나왔습니다.\" % self.product[sel-1])\n",
    "            self.in_money = self.in_money - int(self.price[sel-1])           \n",
    "            self.coffee_count = self.coffee_count + 1\n",
    "\n",
    "\n",
    "\n",
    "        elif sel == 2 and self.in_money >= 300:\n",
    "            print(\"%s 나왔습니다.\" % self.product[sel-1])\n",
    "            self.in_money = self.in_money - int(self.price[sel-1])         \n",
    "            self.latte_count = self.latte_count + 1\n",
    "\n",
    "\n",
    "\n",
    "        elif sel == 3 and self.in_money >= 100:\n",
    "            print(\"%s 나왔습니다.\" % self.product[sel-1])\n",
    "            self.in_money = self.in_money - int(self.price[sel-1])         \n",
    "            self.water_count = self.water_count + 1\n",
    "\n",
    "\n",
    "        else :\n",
    "            if sel ==  0 :\n",
    "                print()\n",
    "                    \n",
    "            \n",
    "            else :\n",
    "                print(\"잘못된 선택입니다.\")\n",
    "\n",
    "\n",
    "\n",
    "        print(\"잔돈 %d원 있습니다.\" % self.in_money)\n",
    "        print()\n",
    "\n",
    "\n",
    "            \n",
    "    \n",
    "    def get_describe(self):\n",
    "        print('커피는 %s잔, %s원 어치 판매되었습니다.' %(self.coffee_count,self.coffee_count*200))\n",
    "        print('라떼는 %s잔, %s원 어치 판매되었습니다.' %(self.latte_count,self.latte_count*300))\n",
    "        print('생수는 %s잔, %s원 어치 판매되었습니다.' %(self.water_count,self.water_count*400))\n",
    "        \n",
    "        \n",
    "    def more_money(self):\n",
    "        if 0<=int(vm.in_money) <int(min(vm.price)) : \n",
    "            vm.input_money= int(input(\"잔액이 부족합니다 \\n추가금액을 입력하세요(종료:0):  \"))\n",
    "            if vm.input_money!=0:\n",
    "                vm.in_money += vm.input_money\n",
    "                if int(vm.in_money) >= int(min(vm.price)) :\n",
    "                    print(\"잔돈 : %d\" %int(vm.in_money))\n",
    "                else:\n",
    "                    print(\"%d원을 반환합니다.\" %vm.in_money)\n",
    "                    vm.get_describe() \n",
    "\n",
    "#제어문 \n",
    "vm = vending_machine()\n",
    "vm.input_money()\n",
    "if int(vm.in_money) < int(min(vm.price)) :\n",
    "    print(\"돈이 부족합니다.\")\n",
    "    y_or_no = (input(\"돈을 더 넣으시겠습니다.?(yes : y , no : n) \"))\n",
    "    if y_or_no == 'y':\n",
    "        in_money1 = int(input('돈을 넣어주시오.'))\n",
    "        vm.in_money += in_money1\n",
    "        print(\"잔돈 : %d\" %vm.in_money)\n",
    "        \n",
    "\n",
    "        while True :\n",
    "            sel = int(input('\"원하는 음료를 고르시오. 1:커피(200원) ,2:라떼(300원) 3:생수(100원) 0:종료 \" : '))\n",
    "            if int(vm.in_money) >= int(min(vm.price)) :\n",
    "                vm.get_drink()\n",
    "                print()\n",
    "                vm.more_money()\n",
    "                               \n",
    "                if sel == 0 :\n",
    "                    print(\"%d원을 반환합니다.\" %vm.in_money)\n",
    "                    vm.get_describe()\n",
    "                    break\n",
    "                    \n",
    "                if vm.input_money==0 :\n",
    "                    vm.get_describe()\n",
    "                    break\n",
    "\n",
    "            else : \n",
    "                print(\"%d원을 반환합니다.\" %vm.in_money)\n",
    "                vm.get_describe()\n",
    "                break\n",
    "    \n",
    "    \n",
    "        \n",
    "    \n",
    "else :\n",
    "    while True :\n",
    "        sel = int(input('\"원하는 음료를 고르시오. 1:커피(200원) ,2:라떼(300원) 3:생수(100원) 0:종료 \" : '))\n",
    "        if int(vm.in_money) >= int(min(vm.price)) :\n",
    "            vm.get_drink()\n",
    "            print()\n",
    "            vm.more_money()\n",
    "            if sel == 0 :\n",
    "                print(\"%d원을 반환합니다.\" %vm.in_money)\n",
    "                vm.get_describe()\n",
    "                break\n",
    "                \n",
    "            if vm.input_money==0 :\n",
    "                vm.get_describe()\n",
    "                break\n",
    "                \n",
    "        else :\n",
    "            print(\"%d원을 반환합니다.\" %vm.in_money)\n",
    "            vm.get_describe()\n",
    "            break"
   ]
  },
  {
   "cell_type": "code",
   "execution_count": null,
   "metadata": {},
   "outputs": [],
   "source": [
    "class vending_machine:\n",
    "    def__init__"
   ]
  },
  {
   "cell_type": "code",
   "execution_count": null,
   "metadata": {},
   "outputs": [],
   "source": []
  },
  {
   "cell_type": "code",
   "execution_count": null,
   "metadata": {},
   "outputs": [],
   "source": []
  }
 ],
 "metadata": {
  "kernelspec": {
   "display_name": "Python 3",
   "language": "python",
   "name": "python3"
  },
  "language_info": {
   "codemirror_mode": {
    "name": "ipython",
    "version": 3
   },
   "file_extension": ".py",
   "mimetype": "text/x-python",
   "name": "python",
   "nbconvert_exporter": "python",
   "pygments_lexer": "ipython3",
   "version": "3.7.4"
  }
 },
 "nbformat": 4,
 "nbformat_minor": 2
}
