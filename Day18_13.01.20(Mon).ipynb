{
 "cells": [
  {
   "cell_type": "code",
   "execution_count": 5,
   "metadata": {},
   "outputs": [],
   "source": [
    "#결측값에 대해 계속 공부\n",
    "import pandas as pd\n",
    "import numpy as np\n",
    "from pandas import DataFrame"
   ]
  },
  {
   "cell_type": "code",
   "execution_count": 6,
   "metadata": {},
   "outputs": [
    {
     "name": "stderr",
     "output_type": "stream",
     "text": [
      "C:\\Users\\student\\Anaconda3\\lib\\site-packages\\ipykernel_launcher.py:3: FutureWarning: \n",
      ".ix is deprecated. Please use\n",
      ".loc for label based indexing or\n",
      ".iloc for positional indexing\n",
      "\n",
      "See the documentation here:\n",
      "http://pandas.pydata.org/pandas-docs/stable/user_guide/indexing.html#ix-indexer-is-deprecated\n",
      "  This is separate from the ipykernel package so we can avoid doing imports until\n"
     ]
    },
    {
     "data": {
      "text/html": [
       "<div>\n",
       "<style scoped>\n",
       "    .dataframe tbody tr th:only-of-type {\n",
       "        vertical-align: middle;\n",
       "    }\n",
       "\n",
       "    .dataframe tbody tr th {\n",
       "        vertical-align: top;\n",
       "    }\n",
       "\n",
       "    .dataframe thead th {\n",
       "        text-align: right;\n",
       "    }\n",
       "</style>\n",
       "<table border=\"1\" class=\"dataframe\">\n",
       "  <thead>\n",
       "    <tr style=\"text-align: right;\">\n",
       "      <th></th>\n",
       "      <th>c1</th>\n",
       "      <th>c2</th>\n",
       "      <th>c3</th>\n",
       "    </tr>\n",
       "  </thead>\n",
       "  <tbody>\n",
       "    <tr>\n",
       "      <td>0</td>\n",
       "      <td>NaN</td>\n",
       "      <td>-0.852403</td>\n",
       "      <td>2.075051</td>\n",
       "    </tr>\n",
       "    <tr>\n",
       "      <td>1</td>\n",
       "      <td>-0.332987</td>\n",
       "      <td>0.648999</td>\n",
       "      <td>1.653954</td>\n",
       "    </tr>\n",
       "    <tr>\n",
       "      <td>2</td>\n",
       "      <td>-0.281188</td>\n",
       "      <td>-0.985340</td>\n",
       "      <td>-0.181560</td>\n",
       "    </tr>\n",
       "    <tr>\n",
       "      <td>3</td>\n",
       "      <td>-2.664560</td>\n",
       "      <td>-0.038247</td>\n",
       "      <td>2.152786</td>\n",
       "    </tr>\n",
       "    <tr>\n",
       "      <td>4</td>\n",
       "      <td>-1.202554</td>\n",
       "      <td>-0.032936</td>\n",
       "      <td>0.290433</td>\n",
       "    </tr>\n",
       "  </tbody>\n",
       "</table>\n",
       "</div>"
      ],
      "text/plain": [
       "         c1        c2        c3\n",
       "0       NaN -0.852403  2.075051\n",
       "1 -0.332987  0.648999  1.653954\n",
       "2 -0.281188 -0.985340 -0.181560\n",
       "3 -2.664560 -0.038247  2.152786\n",
       "4 -1.202554 -0.032936  0.290433"
      ]
     },
     "execution_count": 6,
     "metadata": {},
     "output_type": "execute_result"
    }
   ],
   "source": [
    "df=pd.DataFrame(np.random.randn(5,3), columns=['c1','c2','c3'])\n",
    "df\n",
    "df.ix[0,0]=np.nan #None\n",
    "df"
   ]
  },
  {
   "cell_type": "code",
   "execution_count": 36,
   "metadata": {},
   "outputs": [
    {
     "data": {
      "text/html": [
       "<div>\n",
       "<style scoped>\n",
       "    .dataframe tbody tr th:only-of-type {\n",
       "        vertical-align: middle;\n",
       "    }\n",
       "\n",
       "    .dataframe tbody tr th {\n",
       "        vertical-align: top;\n",
       "    }\n",
       "\n",
       "    .dataframe thead th {\n",
       "        text-align: right;\n",
       "    }\n",
       "</style>\n",
       "<table border=\"1\" class=\"dataframe\">\n",
       "  <thead>\n",
       "    <tr style=\"text-align: right;\">\n",
       "      <th></th>\n",
       "      <th>c1</th>\n",
       "      <th>c2</th>\n",
       "      <th>c3</th>\n",
       "    </tr>\n",
       "  </thead>\n",
       "  <tbody>\n",
       "    <tr>\n",
       "      <td>0</td>\n",
       "      <td>NaN</td>\n",
       "      <td>0.607380</td>\n",
       "      <td>0.976479</td>\n",
       "    </tr>\n",
       "    <tr>\n",
       "      <td>1</td>\n",
       "      <td>NaN</td>\n",
       "      <td>-0.048485</td>\n",
       "      <td>NaN</td>\n",
       "    </tr>\n",
       "    <tr>\n",
       "      <td>2</td>\n",
       "      <td>0.631123</td>\n",
       "      <td>NaN</td>\n",
       "      <td>-1.434357</td>\n",
       "    </tr>\n",
       "    <tr>\n",
       "      <td>3</td>\n",
       "      <td>-0.766249</td>\n",
       "      <td>0.561580</td>\n",
       "      <td>NaN</td>\n",
       "    </tr>\n",
       "    <tr>\n",
       "      <td>4</td>\n",
       "      <td>0.618963</td>\n",
       "      <td>-0.801292</td>\n",
       "      <td>NaN</td>\n",
       "    </tr>\n",
       "  </tbody>\n",
       "</table>\n",
       "</div>"
      ],
      "text/plain": [
       "         c1        c2        c3\n",
       "0       NaN  0.607380  0.976479\n",
       "1       NaN -0.048485       NaN\n",
       "2  0.631123       NaN -1.434357\n",
       "3 -0.766249  0.561580       NaN\n",
       "4  0.618963 -0.801292       NaN"
      ]
     },
     "execution_count": 36,
     "metadata": {},
     "output_type": "execute_result"
    }
   ],
   "source": [
    "df.ix[1,['c1','c3']]=np.nan\n",
    "df\n",
    "df.ix[2,['c2']]=None\n",
    "df.ix[3,['c3']]=None\n",
    "df.ix[4,['c3']]=None\n",
    "df"
   ]
  },
  {
   "cell_type": "code",
   "execution_count": 32,
   "metadata": {},
   "outputs": [],
   "source": [
    "import warnings\n",
    "warnings.filterwarnings(action='ignore')"
   ]
  },
  {
   "cell_type": "code",
   "execution_count": 35,
   "metadata": {},
   "outputs": [
    {
     "data": {
      "text/html": [
       "<div>\n",
       "<style scoped>\n",
       "    .dataframe tbody tr th:only-of-type {\n",
       "        vertical-align: middle;\n",
       "    }\n",
       "\n",
       "    .dataframe tbody tr th {\n",
       "        vertical-align: top;\n",
       "    }\n",
       "\n",
       "    .dataframe thead th {\n",
       "        text-align: right;\n",
       "    }\n",
       "</style>\n",
       "<table border=\"1\" class=\"dataframe\">\n",
       "  <thead>\n",
       "    <tr style=\"text-align: right;\">\n",
       "      <th></th>\n",
       "      <th>c1</th>\n",
       "      <th>c2</th>\n",
       "      <th>c3</th>\n",
       "    </tr>\n",
       "  </thead>\n",
       "  <tbody>\n",
       "    <tr>\n",
       "      <td>0</td>\n",
       "      <td>0.000000</td>\n",
       "      <td>0.607380</td>\n",
       "      <td>0.976479</td>\n",
       "    </tr>\n",
       "    <tr>\n",
       "      <td>1</td>\n",
       "      <td>0.000000</td>\n",
       "      <td>-0.048485</td>\n",
       "      <td>0.000000</td>\n",
       "    </tr>\n",
       "    <tr>\n",
       "      <td>2</td>\n",
       "      <td>0.631123</td>\n",
       "      <td>0.000000</td>\n",
       "      <td>-1.434357</td>\n",
       "    </tr>\n",
       "    <tr>\n",
       "      <td>3</td>\n",
       "      <td>-0.766249</td>\n",
       "      <td>0.561580</td>\n",
       "      <td>0.000000</td>\n",
       "    </tr>\n",
       "    <tr>\n",
       "      <td>4</td>\n",
       "      <td>0.618963</td>\n",
       "      <td>-0.801292</td>\n",
       "      <td>0.000000</td>\n",
       "    </tr>\n",
       "  </tbody>\n",
       "</table>\n",
       "</div>"
      ],
      "text/plain": [
       "         c1        c2        c3\n",
       "0  0.000000  0.607380  0.976479\n",
       "1  0.000000 -0.048485  0.000000\n",
       "2  0.631123  0.000000 -1.434357\n",
       "3 -0.766249  0.561580  0.000000\n",
       "4  0.618963 -0.801292  0.000000"
      ]
     },
     "execution_count": 35,
     "metadata": {},
     "output_type": "execute_result"
    }
   ],
   "source": [
    "#Nan을 0으로 대체, na = not avilable\n",
    "df.fillna(0)\n",
    "# df.fillna(method=\"ffill\")\n",
    "# df.fillna(method=\"bfill\")"
   ]
  },
  {
   "cell_type": "code",
   "execution_count": 38,
   "metadata": {},
   "outputs": [
    {
     "data": {
      "text/html": [
       "<div>\n",
       "<style scoped>\n",
       "    .dataframe tbody tr th:only-of-type {\n",
       "        vertical-align: middle;\n",
       "    }\n",
       "\n",
       "    .dataframe tbody tr th {\n",
       "        vertical-align: top;\n",
       "    }\n",
       "\n",
       "    .dataframe thead th {\n",
       "        text-align: right;\n",
       "    }\n",
       "</style>\n",
       "<table border=\"1\" class=\"dataframe\">\n",
       "  <thead>\n",
       "    <tr style=\"text-align: right;\">\n",
       "      <th></th>\n",
       "      <th>c1</th>\n",
       "      <th>c2</th>\n",
       "      <th>c3</th>\n",
       "    </tr>\n",
       "  </thead>\n",
       "  <tbody>\n",
       "    <tr>\n",
       "      <td>0</td>\n",
       "      <td>0.161279</td>\n",
       "      <td>0.607380</td>\n",
       "      <td>0.976479</td>\n",
       "    </tr>\n",
       "    <tr>\n",
       "      <td>1</td>\n",
       "      <td>0.161279</td>\n",
       "      <td>-0.048485</td>\n",
       "      <td>-0.228939</td>\n",
       "    </tr>\n",
       "    <tr>\n",
       "      <td>2</td>\n",
       "      <td>0.631123</td>\n",
       "      <td>0.079796</td>\n",
       "      <td>-1.434357</td>\n",
       "    </tr>\n",
       "    <tr>\n",
       "      <td>3</td>\n",
       "      <td>-0.766249</td>\n",
       "      <td>0.561580</td>\n",
       "      <td>-0.228939</td>\n",
       "    </tr>\n",
       "    <tr>\n",
       "      <td>4</td>\n",
       "      <td>0.618963</td>\n",
       "      <td>-0.801292</td>\n",
       "      <td>-0.228939</td>\n",
       "    </tr>\n",
       "  </tbody>\n",
       "</table>\n",
       "</div>"
      ],
      "text/plain": [
       "         c1        c2        c3\n",
       "0  0.161279  0.607380  0.976479\n",
       "1  0.161279 -0.048485 -0.228939\n",
       "2  0.631123  0.079796 -1.434357\n",
       "3 -0.766249  0.561580 -0.228939\n",
       "4  0.618963 -0.801292 -0.228939"
      ]
     },
     "execution_count": 38,
     "metadata": {},
     "output_type": "execute_result"
    }
   ],
   "source": [
    "df\n",
    "#Nan을 평균값으로 대체\n",
    "df.fillna(df.mean())"
   ]
  },
  {
   "cell_type": "code",
   "execution_count": 40,
   "metadata": {},
   "outputs": [
    {
     "data": {
      "text/plain": [
       "c1    0.161279\n",
       "c2    0.079796\n",
       "c3   -0.228939\n",
       "dtype: float64"
      ]
     },
     "execution_count": 40,
     "metadata": {},
     "output_type": "execute_result"
    }
   ],
   "source": [
    "df.mean()"
   ]
  },
  {
   "cell_type": "code",
   "execution_count": 111,
   "metadata": {},
   "outputs": [
    {
     "data": {
      "text/html": [
       "<div>\n",
       "<style scoped>\n",
       "    .dataframe tbody tr th:only-of-type {\n",
       "        vertical-align: middle;\n",
       "    }\n",
       "\n",
       "    .dataframe tbody tr th {\n",
       "        vertical-align: top;\n",
       "    }\n",
       "\n",
       "    .dataframe thead th {\n",
       "        text-align: right;\n",
       "    }\n",
       "</style>\n",
       "<table border=\"1\" class=\"dataframe\">\n",
       "  <thead>\n",
       "    <tr style=\"text-align: right;\">\n",
       "      <th></th>\n",
       "      <th>c1</th>\n",
       "      <th>c2</th>\n",
       "      <th>c3</th>\n",
       "    </tr>\n",
       "  </thead>\n",
       "  <tbody>\n",
       "    <tr>\n",
       "      <td>0</td>\n",
       "      <td>-0.040803</td>\n",
       "      <td>0.995350</td>\n",
       "      <td>-1.052852</td>\n",
       "    </tr>\n",
       "    <tr>\n",
       "      <td>1</td>\n",
       "      <td>-1.222863</td>\n",
       "      <td>1.150229</td>\n",
       "      <td>0.759840</td>\n",
       "    </tr>\n",
       "    <tr>\n",
       "      <td>2</td>\n",
       "      <td>-0.659529</td>\n",
       "      <td>0.181331</td>\n",
       "      <td>0.951149</td>\n",
       "    </tr>\n",
       "    <tr>\n",
       "      <td>3</td>\n",
       "      <td>-0.254506</td>\n",
       "      <td>0.992100</td>\n",
       "      <td>-1.584498</td>\n",
       "    </tr>\n",
       "    <tr>\n",
       "      <td>4</td>\n",
       "      <td>1.973686</td>\n",
       "      <td>-1.586709</td>\n",
       "      <td>0.644006</td>\n",
       "    </tr>\n",
       "  </tbody>\n",
       "</table>\n",
       "</div>"
      ],
      "text/plain": [
       "         c1        c2        c3\n",
       "0 -0.040803  0.995350 -1.052852\n",
       "1 -1.222863  1.150229  0.759840\n",
       "2 -0.659529  0.181331  0.951149\n",
       "3 -0.254506  0.992100 -1.584498\n",
       "4  1.973686 -1.586709  0.644006"
      ]
     },
     "execution_count": 111,
     "metadata": {},
     "output_type": "execute_result"
    }
   ],
   "source": [
    "#numpy where function\n",
    "df.where(pd.notnull(df), df.mean(),axis='columns') #where다음에 조건 설정)\n",
    "df.fillna(df.mean()['c1'])"
   ]
  },
  {
   "cell_type": "code",
   "execution_count": 114,
   "metadata": {},
   "outputs": [
    {
     "data": {
      "text/plain": [
       "array([1. , 2. , 3. , 0. , 0. , 0. , 0.1, 0.2])"
      ]
     },
     "execution_count": 114,
     "metadata": {},
     "output_type": "execute_result"
    }
   ],
   "source": [
    "arr=np.array([1,2,3,10,20,30,0.1,0.2])\n",
    "#arr.min() #최소값0.1\n",
    "np.min(arr)#최소값0.1\n",
    "np.argmin(arr) # 최소값의 위치, index\n",
    "np.max(arr)#최대값\n",
    "np.argmax(arr)#최대값의 index\n",
    "np.where(arr<1)#(array([6, 7], dtype=int64),)\n",
    "#where함수는 조건문 사용-> 출력값:인덱스\n",
    "np.where(arr>=10) #(array([3, 4, 5], dtype=int64),)\n",
    "np.where(arr>=10,0,arr) #array([1. , 2. , 3. , 0. , 0. , 0. , 0.1, 0.2])\n",
    "#np.where(조건, 참, 거짓)\n",
    "np.where(arr>=10,0,1) #10보다 크면 0, 작으면 1\n",
    "np.where(arr>=10,arr*0.1, arr)"
   ]
  },
  {
   "cell_type": "code",
   "execution_count": 115,
   "metadata": {},
   "outputs": [
    {
     "data": {
      "text/html": [
       "<div>\n",
       "<style scoped>\n",
       "    .dataframe tbody tr th:only-of-type {\n",
       "        vertical-align: middle;\n",
       "    }\n",
       "\n",
       "    .dataframe tbody tr th {\n",
       "        vertical-align: top;\n",
       "    }\n",
       "\n",
       "    .dataframe thead th {\n",
       "        text-align: right;\n",
       "    }\n",
       "</style>\n",
       "<table border=\"1\" class=\"dataframe\">\n",
       "  <thead>\n",
       "    <tr style=\"text-align: right;\">\n",
       "      <th></th>\n",
       "      <th>c1</th>\n",
       "      <th>c2</th>\n",
       "      <th>c3</th>\n",
       "    </tr>\n",
       "  </thead>\n",
       "  <tbody>\n",
       "    <tr>\n",
       "      <td>0</td>\n",
       "      <td>-0.040803</td>\n",
       "      <td>0.995350</td>\n",
       "      <td>-1.052852</td>\n",
       "    </tr>\n",
       "    <tr>\n",
       "      <td>1</td>\n",
       "      <td>-1.222863</td>\n",
       "      <td>1.150229</td>\n",
       "      <td>0.759840</td>\n",
       "    </tr>\n",
       "    <tr>\n",
       "      <td>2</td>\n",
       "      <td>-0.659529</td>\n",
       "      <td>0.181331</td>\n",
       "      <td>0.951149</td>\n",
       "    </tr>\n",
       "    <tr>\n",
       "      <td>3</td>\n",
       "      <td>-0.254506</td>\n",
       "      <td>0.992100</td>\n",
       "      <td>-1.584498</td>\n",
       "    </tr>\n",
       "    <tr>\n",
       "      <td>4</td>\n",
       "      <td>1.973686</td>\n",
       "      <td>-1.586709</td>\n",
       "      <td>0.644006</td>\n",
       "    </tr>\n",
       "  </tbody>\n",
       "</table>\n",
       "</div>"
      ],
      "text/plain": [
       "         c1        c2        c3\n",
       "0 -0.040803  0.995350 -1.052852\n",
       "1 -1.222863  1.150229  0.759840\n",
       "2 -0.659529  0.181331  0.951149\n",
       "3 -0.254506  0.992100 -1.584498\n",
       "4  1.973686 -1.586709  0.644006"
      ]
     },
     "execution_count": 115,
     "metadata": {},
     "output_type": "execute_result"
    }
   ],
   "source": [
    "df.mean()['c1':'c2']\n",
    "\n",
    "# c1    0.161279\n",
    "# c2    0.079796\n",
    "# dtype: float64\n",
    "\n",
    "df.fillna(df.mean()['c1':'c2'])"
   ]
  },
  {
   "cell_type": "code",
   "execution_count": 93,
   "metadata": {},
   "outputs": [
    {
     "data": {
      "text/html": [
       "<div>\n",
       "<style scoped>\n",
       "    .dataframe tbody tr th:only-of-type {\n",
       "        vertical-align: middle;\n",
       "    }\n",
       "\n",
       "    .dataframe tbody tr th {\n",
       "        vertical-align: top;\n",
       "    }\n",
       "\n",
       "    .dataframe thead th {\n",
       "        text-align: right;\n",
       "    }\n",
       "</style>\n",
       "<table border=\"1\" class=\"dataframe\">\n",
       "  <thead>\n",
       "    <tr style=\"text-align: right;\">\n",
       "      <th></th>\n",
       "      <th>c1</th>\n",
       "      <th>c2</th>\n",
       "      <th>c2p</th>\n",
       "    </tr>\n",
       "  </thead>\n",
       "  <tbody>\n",
       "    <tr>\n",
       "      <td>0</td>\n",
       "      <td>1</td>\n",
       "      <td>6.0</td>\n",
       "      <td>6.0</td>\n",
       "    </tr>\n",
       "    <tr>\n",
       "      <td>1</td>\n",
       "      <td>2</td>\n",
       "      <td>NaN</td>\n",
       "      <td>2.0</td>\n",
       "    </tr>\n",
       "    <tr>\n",
       "      <td>2</td>\n",
       "      <td>3</td>\n",
       "      <td>8.0</td>\n",
       "      <td>8.0</td>\n",
       "    </tr>\n",
       "    <tr>\n",
       "      <td>3</td>\n",
       "      <td>4</td>\n",
       "      <td>NaN</td>\n",
       "      <td>4.0</td>\n",
       "    </tr>\n",
       "    <tr>\n",
       "      <td>4</td>\n",
       "      <td>5</td>\n",
       "      <td>10.0</td>\n",
       "      <td>10.0</td>\n",
       "    </tr>\n",
       "  </tbody>\n",
       "</table>\n",
       "</div>"
      ],
      "text/plain": [
       "   c1    c2   c2p\n",
       "0   1   6.0   6.0\n",
       "1   2   NaN   2.0\n",
       "2   3   8.0   8.0\n",
       "3   4   NaN   4.0\n",
       "4   5  10.0  10.0"
      ]
     },
     "execution_count": 93,
     "metadata": {},
     "output_type": "execute_result"
    }
   ],
   "source": [
    "df2=pd.DataFrame({'c1':[1,2,3,4,5],'c2':[6,7,8,9,10]})\n",
    "df2.ix[[1,3], ['c2']] = np.nan\n",
    "#c2p 열에는 c2열 값이 notnull이면 c2열 값을\n",
    "#c2열 값이 null이면 c1열 값으로 채우고자 함\n",
    "df2['c2p']=np.where(pd.notnull(df2['c2'])==True, \n",
    "                    df2['c2'],df2['c1'])\n",
    "df2\n",
    "\n",
    "for i in df2.index:\n",
    "    if pd.notnull(df2.ix[i,'c2'])==True:\n",
    "        df2.ix[i,'c2p']=df2.ix[i,'c2']\n",
    "    else:\n",
    "        df2.ix[i,'c2p']=df2.ix[i,'c1']\n",
    "df2"
   ]
  },
  {
   "cell_type": "code",
   "execution_count": 98,
   "metadata": {},
   "outputs": [
    {
     "data": {
      "text/html": [
       "<div>\n",
       "<style scoped>\n",
       "    .dataframe tbody tr th:only-of-type {\n",
       "        vertical-align: middle;\n",
       "    }\n",
       "\n",
       "    .dataframe tbody tr th {\n",
       "        vertical-align: top;\n",
       "    }\n",
       "\n",
       "    .dataframe thead th {\n",
       "        text-align: right;\n",
       "    }\n",
       "</style>\n",
       "<table border=\"1\" class=\"dataframe\">\n",
       "  <thead>\n",
       "    <tr style=\"text-align: right;\">\n",
       "      <th></th>\n",
       "      <th>c1</th>\n",
       "      <th>c2</th>\n",
       "    </tr>\n",
       "  </thead>\n",
       "  <tbody>\n",
       "    <tr>\n",
       "      <td>0</td>\n",
       "      <td>1</td>\n",
       "      <td>6.0</td>\n",
       "    </tr>\n",
       "    <tr>\n",
       "      <td>1</td>\n",
       "      <td>2</td>\n",
       "      <td>NaN</td>\n",
       "    </tr>\n",
       "    <tr>\n",
       "      <td>2</td>\n",
       "      <td>3</td>\n",
       "      <td>8.0</td>\n",
       "    </tr>\n",
       "    <tr>\n",
       "      <td>3</td>\n",
       "      <td>4</td>\n",
       "      <td>NaN</td>\n",
       "    </tr>\n",
       "    <tr>\n",
       "      <td>4</td>\n",
       "      <td>5</td>\n",
       "      <td>10.0</td>\n",
       "    </tr>\n",
       "  </tbody>\n",
       "</table>\n",
       "</div>"
      ],
      "text/plain": [
       "   c1    c2\n",
       "0   1   6.0\n",
       "1   2   NaN\n",
       "2   3   8.0\n",
       "3   4   NaN\n",
       "4   5  10.0"
      ]
     },
     "execution_count": 98,
     "metadata": {},
     "output_type": "execute_result"
    }
   ],
   "source": [
    "#dropna 메서드: 열(axis=1)/행(axis=0) 제거\n",
    "\n",
    "df3=pd.DataFrame({'c1':[1,2,3,4,5],'c2':[6,7,8,9,10]})\n",
    "df3.ix[[1,3], ['c2']] = np.nan\n",
    "df3\n"
   ]
  },
  {
   "cell_type": "code",
   "execution_count": 104,
   "metadata": {},
   "outputs": [
    {
     "data": {
      "text/html": [
       "<div>\n",
       "<style scoped>\n",
       "    .dataframe tbody tr th:only-of-type {\n",
       "        vertical-align: middle;\n",
       "    }\n",
       "\n",
       "    .dataframe tbody tr th {\n",
       "        vertical-align: top;\n",
       "    }\n",
       "\n",
       "    .dataframe thead th {\n",
       "        text-align: right;\n",
       "    }\n",
       "</style>\n",
       "<table border=\"1\" class=\"dataframe\">\n",
       "  <thead>\n",
       "    <tr style=\"text-align: right;\">\n",
       "      <th></th>\n",
       "      <th>c1</th>\n",
       "      <th>c2</th>\n",
       "    </tr>\n",
       "  </thead>\n",
       "  <tbody>\n",
       "    <tr>\n",
       "      <td>0</td>\n",
       "      <td>1</td>\n",
       "      <td>6.0</td>\n",
       "    </tr>\n",
       "    <tr>\n",
       "      <td>2</td>\n",
       "      <td>3</td>\n",
       "      <td>8.0</td>\n",
       "    </tr>\n",
       "    <tr>\n",
       "      <td>4</td>\n",
       "      <td>5</td>\n",
       "      <td>10.0</td>\n",
       "    </tr>\n",
       "  </tbody>\n",
       "</table>\n",
       "</div>"
      ],
      "text/plain": [
       "   c1    c2\n",
       "0   1   6.0\n",
       "2   3   8.0\n",
       "4   5  10.0"
      ]
     },
     "execution_count": 104,
     "metadata": {},
     "output_type": "execute_result"
    }
   ],
   "source": [
    "#dropna 행, 열 제거\n",
    "df3.dropna(axis=0)#결측값이 있는 행 전체 제거\n",
    "df3.dropna(axis=1)#결측값이 있는 열 전체 제거\n",
    "df3[['c1','c2']].dropna()#해당 열에 대해 dropna 적용 #dr.dropna(axis=0)\n",
    "#axis=0 default\n"
   ]
  },
  {
   "cell_type": "code",
   "execution_count": 115,
   "metadata": {},
   "outputs": [
    {
     "data": {
      "text/plain": [
       "DatetimeIndex(['2020-01-13', '2020-01-16', '2020-01-17', '2020-01-20'], dtype='datetime64[ns]', freq=None)"
      ]
     },
     "execution_count": 115,
     "metadata": {},
     "output_type": "execute_result"
    }
   ],
   "source": [
    "#결측값 보간(interpolate)\n",
    "\"\"\"\n",
    "1) 시계열 데이터에 대해 선형적으로 비례하는 값\n",
    "2) 이미지 보간: 그라데이션과 비슷\n",
    "-> 추이를 보고 비슷하게 맞추는 것\n",
    "\"\"\"\n",
    "from datetime import datetime\n",
    "#datetime 모듈에 있는 datetime 함수\n",
    "#시간이나 날짜 -> 시계열 데이터\n",
    "dateStr=['1/13/2020', '1/16/2020', '1/17/2020', '1/20/2020']\n",
    "dates=pd.to_datetime(dateStr)\n",
    "dates"
   ]
  },
  {
   "cell_type": "code",
   "execution_count": 116,
   "metadata": {},
   "outputs": [
    {
     "data": {
      "text/plain": [
       "2020-01-13     1.0\n",
       "2020-01-16     NaN\n",
       "2020-01-17     NaN\n",
       "2020-01-20    10.0\n",
       "dtype: float64"
      ]
     },
     "execution_count": 116,
     "metadata": {},
     "output_type": "execute_result"
    }
   ],
   "source": [
    "ts=pd.Series([1,np.nan, np.nan, 10], index=dates)\n",
    "ts"
   ]
  },
  {
   "cell_type": "code",
   "execution_count": 119,
   "metadata": {},
   "outputs": [
    {
     "data": {
      "text/plain": [
       "2020-01-13     1.000000\n",
       "2020-01-16     4.857143\n",
       "2020-01-17     6.142857\n",
       "2020-01-20    10.000000\n",
       "dtype: float64"
      ]
     },
     "execution_count": 119,
     "metadata": {},
     "output_type": "execute_result"
    }
   ],
   "source": [
    "tslr=ts.interpolate(method='values') #method='values' default\n",
    "#method='values': 선형적으로 비례하게 결측값 보간\n",
    "tslr"
   ]
  },
  {
   "cell_type": "code",
   "execution_count": 125,
   "metadata": {},
   "outputs": [
    {
     "data": {
      "text/plain": [
       "2020-01-13     1.000000\n",
       "2020-01-16     4.857143\n",
       "2020-01-17     6.142857\n",
       "2020-01-20    10.000000\n",
       "dtype: float64"
      ]
     },
     "execution_count": 125,
     "metadata": {},
     "output_type": "execute_result"
    }
   ],
   "source": [
    "tsTime=ts.interpolate(method='time') # limit=1) #1개만 보간하고 싶을때\n",
    "tsTime\n",
    "#날짜의 크기에 따라 선형적으로 값을 보간.\n",
    "\n"
   ]
  },
  {
   "cell_type": "code",
   "execution_count": null,
   "metadata": {},
   "outputs": [],
   "source": [
    "#na를 대체: fillna, replace \n",
    "#fillna(na값들 다른것을 대체):na를 다른 값으로 대체\n",
    "#replace:na뿐만아니라 다른 모든 값에 대해서 대체 가능.(광범위)\n",
    "#결측값/실측값 대상 데이터 교체\n"
   ]
  },
  {
   "cell_type": "code",
   "execution_count": 133,
   "metadata": {},
   "outputs": [
    {
     "data": {
      "text/plain": [
       "0     5.0\n",
       "1     2.0\n",
       "2    30.0\n",
       "3     4.0\n",
       "4    99.0\n",
       "dtype: float64"
      ]
     },
     "execution_count": 133,
     "metadata": {},
     "output_type": "execute_result"
    }
   ],
   "source": [
    "s=pd.Series([1,2,3,4,np.nan])\n",
    "s\n",
    "\n",
    "#replace: 결측값/실측값 변경\n",
    "s.replace(3,9) #실측값 변경. 값 3 -> 값 9\n",
    "s\n",
    "s.replace(np.nan, 5)#nan의 값을 5로\n",
    "\n",
    "s.replace([1,2,3],[6,7,8]) #1대1 매칭 된다. 인덱스 1번 - 6, 각각의 대응도 가능.\n",
    "s.replace([1,2,3,np.nan],[10,20,30,99]) #리스트로 나타내서 고칠수도 있다.\n",
    "\n",
    "s.replace({1:5, 3:30, np.nan:99})#딕셔너리 형태 #{원래값: 변경값}\n",
    "\n"
   ]
  },
  {
   "cell_type": "code",
   "execution_count": 135,
   "metadata": {},
   "outputs": [
    {
     "data": {
      "text/html": [
       "<div>\n",
       "<style scoped>\n",
       "    .dataframe tbody tr th:only-of-type {\n",
       "        vertical-align: middle;\n",
       "    }\n",
       "\n",
       "    .dataframe tbody tr th {\n",
       "        vertical-align: top;\n",
       "    }\n",
       "\n",
       "    .dataframe thead th {\n",
       "        text-align: right;\n",
       "    }\n",
       "</style>\n",
       "<table border=\"1\" class=\"dataframe\">\n",
       "  <thead>\n",
       "    <tr style=\"text-align: right;\">\n",
       "      <th></th>\n",
       "      <th>c1</th>\n",
       "      <th>c2</th>\n",
       "      <th>c3</th>\n",
       "    </tr>\n",
       "  </thead>\n",
       "  <tbody>\n",
       "    <tr>\n",
       "      <td>0</td>\n",
       "      <td>aaa</td>\n",
       "      <td>1</td>\n",
       "      <td>5.0</td>\n",
       "    </tr>\n",
       "    <tr>\n",
       "      <td>1</td>\n",
       "      <td>b</td>\n",
       "      <td>2</td>\n",
       "      <td>6.0</td>\n",
       "    </tr>\n",
       "    <tr>\n",
       "      <td>2</td>\n",
       "      <td>c</td>\n",
       "      <td>3</td>\n",
       "      <td>7.0</td>\n",
       "    </tr>\n",
       "    <tr>\n",
       "      <td>3</td>\n",
       "      <td>d</td>\n",
       "      <td>4</td>\n",
       "      <td>NaN</td>\n",
       "    </tr>\n",
       "  </tbody>\n",
       "</table>\n",
       "</div>"
      ],
      "text/plain": [
       "    c1  c2   c3\n",
       "0  aaa   1  5.0\n",
       "1    b   2  6.0\n",
       "2    c   3  7.0\n",
       "3    d   4  NaN"
      ]
     },
     "execution_count": 135,
     "metadata": {},
     "output_type": "execute_result"
    }
   ],
   "source": [
    "#데이터프레임에서 replace 적용\n",
    "df4=pd.DataFrame({'c1':['aaa','b','c','d'], \n",
    "                  'c2':[1,2,3,4],\n",
    "                  'c3': [5,6,7,np.nan]})\n",
    "df4"
   ]
  },
  {
   "cell_type": "code",
   "execution_count": 137,
   "metadata": {},
   "outputs": [
    {
     "data": {
      "text/html": [
       "<div>\n",
       "<style scoped>\n",
       "    .dataframe tbody tr th:only-of-type {\n",
       "        vertical-align: middle;\n",
       "    }\n",
       "\n",
       "    .dataframe tbody tr th {\n",
       "        vertical-align: top;\n",
       "    }\n",
       "\n",
       "    .dataframe thead th {\n",
       "        text-align: right;\n",
       "    }\n",
       "</style>\n",
       "<table border=\"1\" class=\"dataframe\">\n",
       "  <thead>\n",
       "    <tr style=\"text-align: right;\">\n",
       "      <th></th>\n",
       "      <th>c1</th>\n",
       "      <th>c2</th>\n",
       "      <th>c3</th>\n",
       "    </tr>\n",
       "  </thead>\n",
       "  <tbody>\n",
       "    <tr>\n",
       "      <td>0</td>\n",
       "      <td>aaa</td>\n",
       "      <td>1</td>\n",
       "      <td>5.0</td>\n",
       "    </tr>\n",
       "    <tr>\n",
       "      <td>1</td>\n",
       "      <td>b</td>\n",
       "      <td>2</td>\n",
       "      <td>6.0</td>\n",
       "    </tr>\n",
       "    <tr>\n",
       "      <td>2</td>\n",
       "      <td>c</td>\n",
       "      <td>3</td>\n",
       "      <td>7.0</td>\n",
       "    </tr>\n",
       "    <tr>\n",
       "      <td>3</td>\n",
       "      <td>d</td>\n",
       "      <td>4</td>\n",
       "      <td>99.0</td>\n",
       "    </tr>\n",
       "  </tbody>\n",
       "</table>\n",
       "</div>"
      ],
      "text/plain": [
       "    c1  c2    c3\n",
       "0  aaa   1   5.0\n",
       "1    b   2   6.0\n",
       "2    c   3   7.0\n",
       "3    d   4  99.0"
      ]
     },
     "execution_count": 137,
     "metadata": {},
     "output_type": "execute_result"
    }
   ],
   "source": [
    "df4.replace({'c1':'aaa'},{'c1':'bbb'})\n",
    "df4.replace({'c3':np.nan},{'c3':99})\n",
    "\n",
    "\n"
   ]
  },
  {
   "cell_type": "code",
   "execution_count": null,
   "metadata": {},
   "outputs": [],
   "source": [
    "#병합;중복데이터가 발생. 정확도가 떨어진다\n",
    "#중복데이터 여부: duplicated()\n",
    "#중복데이터 처리: drop_duplicates() 한개만 남겨두고 제거해라\n"
   ]
  },
  {
   "cell_type": "code",
   "execution_count": 5,
   "metadata": {},
   "outputs": [
    {
     "data": {
      "text/html": [
       "<div>\n",
       "<style scoped>\n",
       "    .dataframe tbody tr th:only-of-type {\n",
       "        vertical-align: middle;\n",
       "    }\n",
       "\n",
       "    .dataframe tbody tr th {\n",
       "        vertical-align: top;\n",
       "    }\n",
       "\n",
       "    .dataframe thead th {\n",
       "        text-align: right;\n",
       "    }\n",
       "</style>\n",
       "<table border=\"1\" class=\"dataframe\">\n",
       "  <thead>\n",
       "    <tr style=\"text-align: right;\">\n",
       "      <th></th>\n",
       "      <th>k1</th>\n",
       "      <th>k2</th>\n",
       "      <th>col</th>\n",
       "    </tr>\n",
       "  </thead>\n",
       "  <tbody>\n",
       "    <tr>\n",
       "      <td>0</td>\n",
       "      <td>a</td>\n",
       "      <td>x</td>\n",
       "      <td>10</td>\n",
       "    </tr>\n",
       "    <tr>\n",
       "      <td>1</td>\n",
       "      <td>b</td>\n",
       "      <td>y</td>\n",
       "      <td>20</td>\n",
       "    </tr>\n",
       "    <tr>\n",
       "      <td>2</td>\n",
       "      <td>b</td>\n",
       "      <td>y</td>\n",
       "      <td>30</td>\n",
       "    </tr>\n",
       "    <tr>\n",
       "      <td>3</td>\n",
       "      <td>c</td>\n",
       "      <td>x</td>\n",
       "      <td>40</td>\n",
       "    </tr>\n",
       "    <tr>\n",
       "      <td>4</td>\n",
       "      <td>c</td>\n",
       "      <td>z</td>\n",
       "      <td>50</td>\n",
       "    </tr>\n",
       "  </tbody>\n",
       "</table>\n",
       "</div>"
      ],
      "text/plain": [
       "  k1 k2  col\n",
       "0  a  x   10\n",
       "1  b  y   20\n",
       "2  b  y   30\n",
       "3  c  x   40\n",
       "4  c  z   50"
      ]
     },
     "execution_count": 5,
     "metadata": {},
     "output_type": "execute_result"
    }
   ],
   "source": [
    "df5= pd.DataFrame({'k1':['a','b','b','c','c'],\n",
    "                   'k2':['x','y','y','x','z'],\n",
    "                   'col':[10,20,30,40,50]\n",
    "                  })\n",
    "df5"
   ]
  },
  {
   "cell_type": "code",
   "execution_count": 118,
   "metadata": {
    "scrolled": false
   },
   "outputs": [
    {
     "data": {
      "text/plain": [
       "0    False\n",
       "1    False\n",
       "2     True\n",
       "3    False\n",
       "4    False\n",
       "dtype: bool"
      ]
     },
     "execution_count": 118,
     "metadata": {},
     "output_type": "execute_result"
    }
   ],
   "source": [
    "df5.duplicated(['k1'])\n",
    "df5.duplicated(['k2'])\n",
    "df5.duplicated(['k1','k2'])\n",
    "\n"
   ]
  },
  {
   "cell_type": "code",
   "execution_count": 121,
   "metadata": {},
   "outputs": [
    {
     "data": {
      "text/plain": [
       "0    False\n",
       "1     True\n",
       "2     True\n",
       "3     True\n",
       "4     True\n",
       "dtype: bool"
      ]
     },
     "execution_count": 121,
     "metadata": {},
     "output_type": "execute_result"
    }
   ],
   "source": [
    "df5.duplicated(['k1'],keep='first') #first 첫번째꺼만 중복으로 안보고 나머진 중복처리 #keep='first' default\n",
    "df5.duplicated(['k1'],keep='last')# last는 중복 시작된 첫번째껄 나타냄\n",
    "df5.duplicated(['k1'],keep=False)#w중복은 모두 True"
   ]
  },
  {
   "cell_type": "code",
   "execution_count": 125,
   "metadata": {},
   "outputs": [
    {
     "data": {
      "text/html": [
       "<div>\n",
       "<style scoped>\n",
       "    .dataframe tbody tr th:only-of-type {\n",
       "        vertical-align: middle;\n",
       "    }\n",
       "\n",
       "    .dataframe tbody tr th {\n",
       "        vertical-align: top;\n",
       "    }\n",
       "\n",
       "    .dataframe thead th {\n",
       "        text-align: right;\n",
       "    }\n",
       "</style>\n",
       "<table border=\"1\" class=\"dataframe\">\n",
       "  <thead>\n",
       "    <tr style=\"text-align: right;\">\n",
       "      <th></th>\n",
       "      <th>k1</th>\n",
       "      <th>k2</th>\n",
       "      <th>col</th>\n",
       "    </tr>\n",
       "  </thead>\n",
       "  <tbody>\n",
       "    <tr>\n",
       "      <td>0</td>\n",
       "      <td>a</td>\n",
       "      <td>x</td>\n",
       "      <td>10</td>\n",
       "    </tr>\n",
       "  </tbody>\n",
       "</table>\n",
       "</div>"
      ],
      "text/plain": [
       "  k1 k2  col\n",
       "0  a  x   10"
      ]
     },
     "execution_count": 125,
     "metadata": {},
     "output_type": "execute_result"
    }
   ],
   "source": [
    "#중복값 제거(1개만 살리고 나머진 중복은 제거.)\n",
    "df5.drop_duplicates(['k1'], keep=\"first\")\n",
    "df5.drop_duplicates(['k1'], keep=\"last\")\n",
    "df5.drop_duplicates(['k1'], keep=False)\n"
   ]
  },
  {
   "cell_type": "code",
   "execution_count": 9,
   "metadata": {},
   "outputs": [],
   "source": [
    "#유일한 값: unique()\n",
    "#유일한 값 개수 세기: value_counts()\n"
   ]
  },
  {
   "cell_type": "code",
   "execution_count": 128,
   "metadata": {},
   "outputs": [
    {
     "data": {
      "text/plain": [
       "array([1, 3, 4], dtype=int64)"
      ]
     },
     "execution_count": 128,
     "metadata": {},
     "output_type": "execute_result"
    }
   ],
   "source": [
    "df6=pd.DataFrame({\n",
    "    'a':['a1','a1','a2','a2','a3'],\n",
    "    'b':['b1','b1','b2','b2',np.nan],\n",
    "    'c':[1,1,3,4,4]\n",
    "})\n",
    "df6['a'].unique()\n",
    "df6['b'].unique()\n",
    "df6['c'].unique()\n",
    "\n"
   ]
  },
  {
   "cell_type": "code",
   "execution_count": 14,
   "metadata": {},
   "outputs": [
    {
     "name": "stdout",
     "output_type": "stream",
     "text": [
      "Help on function unique in module pandas.core.series:\n",
      "\n",
      "unique(self)\n",
      "    Return unique values of Series object.\n",
      "    \n",
      "    Uniques are returned in order of appearance. Hash table-based unique,\n",
      "    therefore does NOT sort.\n",
      "    \n",
      "    Returns\n",
      "    -------\n",
      "    ndarray or ExtensionArray\n",
      "        The unique values returned as a NumPy array. See Notes.\n",
      "    \n",
      "    See Also\n",
      "    --------\n",
      "    unique : Top-level unique method for any 1-d array-like object.\n",
      "    Index.unique : Return Index with unique values from an Index object.\n",
      "    \n",
      "    Notes\n",
      "    -----\n",
      "    Returns the unique values as a NumPy array. In case of an\n",
      "    extension-array backed Series, a new\n",
      "    :class:`~api.extensions.ExtensionArray` of that type with just\n",
      "    the unique values is returned. This includes\n",
      "    \n",
      "        * Categorical\n",
      "        * Period\n",
      "        * Datetime with Timezone\n",
      "        * Interval\n",
      "        * Sparse\n",
      "        * IntegerNA\n",
      "    \n",
      "    See Examples section.\n",
      "    \n",
      "    Examples\n",
      "    --------\n",
      "    >>> pd.Series([2, 1, 3, 3], name='A').unique()\n",
      "    array([2, 1, 3])\n",
      "    \n",
      "    >>> pd.Series([pd.Timestamp('2016-01-01') for _ in range(3)]).unique()\n",
      "    array(['2016-01-01T00:00:00.000000000'], dtype='datetime64[ns]')\n",
      "    \n",
      "    >>> pd.Series([pd.Timestamp('2016-01-01', tz='US/Eastern')\n",
      "    ...            for _ in range(3)]).unique()\n",
      "    <DatetimeArray>\n",
      "    ['2016-01-01 00:00:00-05:00']\n",
      "    Length: 1, dtype: datetime64[ns, US/Eastern]\n",
      "    \n",
      "    An unordered Categorical will return categories in the order of\n",
      "    appearance.\n",
      "    \n",
      "    >>> pd.Series(pd.Categorical(list('baabc'))).unique()\n",
      "    [b, a, c]\n",
      "    Categories (3, object): [b, a, c]\n",
      "    \n",
      "    An ordered Categorical preserves the category ordering.\n",
      "    \n",
      "    >>> pd.Series(pd.Categorical(list('baabc'), categories=list('abc'),\n",
      "    ...                          ordered=True)).unique()\n",
      "    [b, a, c]\n",
      "    Categories (3, object): [a < b < c]\n",
      "\n"
     ]
    }
   ],
   "source": [
    "help(pd.Series.unique)"
   ]
  },
  {
   "cell_type": "code",
   "execution_count": 131,
   "metadata": {},
   "outputs": [
    {
     "data": {
      "text/plain": [
       "a2    2\n",
       "a1    2\n",
       "a3    1\n",
       "Name: a, dtype: int64"
      ]
     },
     "execution_count": 131,
     "metadata": {},
     "output_type": "execute_result"
    }
   ],
   "source": [
    "#유일값 개수 세기\n",
    "#help(pd.Series.value_counts)\n",
    "#normalize=디폴트(False):개수, True: 상대비율\n",
    "#df6['a'].value_counts(normalize=False)\n",
    "#normalize=False:디폴트\n",
    "#sort=True: 개수 기준 정렬\n",
    "df6['a'].value_counts(normalize=False, sort=True, ascending=False)\n",
    "\n"
   ]
  },
  {
   "cell_type": "code",
   "execution_count": 19,
   "metadata": {},
   "outputs": [
    {
     "data": {
      "text/plain": [
       "a2    0.4\n",
       "a1    0.4\n",
       "a3    0.2\n",
       "Name: a, dtype: float64"
      ]
     },
     "execution_count": 19,
     "metadata": {},
     "output_type": "execute_result"
    }
   ],
   "source": [
    "df6['a'].value_counts(normalize=True)\n",
    "#normalize=디폴트(False):개수, True:상대비율\n",
    "#df['a'].value_counts(normalize=False)"
   ]
  },
  {
   "cell_type": "code",
   "execution_count": 22,
   "metadata": {},
   "outputs": [
    {
     "data": {
      "text/html": [
       "<div>\n",
       "<style scoped>\n",
       "    .dataframe tbody tr th:only-of-type {\n",
       "        vertical-align: middle;\n",
       "    }\n",
       "\n",
       "    .dataframe tbody tr th {\n",
       "        vertical-align: top;\n",
       "    }\n",
       "\n",
       "    .dataframe thead th {\n",
       "        text-align: right;\n",
       "    }\n",
       "</style>\n",
       "<table border=\"1\" class=\"dataframe\">\n",
       "  <thead>\n",
       "    <tr style=\"text-align: right;\">\n",
       "      <th></th>\n",
       "      <th>a</th>\n",
       "      <th>b</th>\n",
       "      <th>c</th>\n",
       "    </tr>\n",
       "  </thead>\n",
       "  <tbody>\n",
       "    <tr>\n",
       "      <td>0</td>\n",
       "      <td>a1</td>\n",
       "      <td>b1</td>\n",
       "      <td>1</td>\n",
       "    </tr>\n",
       "    <tr>\n",
       "      <td>1</td>\n",
       "      <td>a1</td>\n",
       "      <td>b1</td>\n",
       "      <td>1</td>\n",
       "    </tr>\n",
       "    <tr>\n",
       "      <td>2</td>\n",
       "      <td>a2</td>\n",
       "      <td>b2</td>\n",
       "      <td>3</td>\n",
       "    </tr>\n",
       "    <tr>\n",
       "      <td>3</td>\n",
       "      <td>a2</td>\n",
       "      <td>b2</td>\n",
       "      <td>4</td>\n",
       "    </tr>\n",
       "    <tr>\n",
       "      <td>4</td>\n",
       "      <td>a3</td>\n",
       "      <td>NaN</td>\n",
       "      <td>4</td>\n",
       "    </tr>\n",
       "  </tbody>\n",
       "</table>\n",
       "</div>"
      ],
      "text/plain": [
       "    a    b  c\n",
       "0  a1   b1  1\n",
       "1  a1   b1  1\n",
       "2  a2   b2  3\n",
       "3  a2   b2  4\n",
       "4  a3  NaN  4"
      ]
     },
     "execution_count": 22,
     "metadata": {},
     "output_type": "execute_result"
    }
   ],
   "source": [
    "df6"
   ]
  },
  {
   "cell_type": "code",
   "execution_count": 23,
   "metadata": {},
   "outputs": [
    {
     "data": {
      "text/plain": [
       "4    2\n",
       "1    2\n",
       "3    1\n",
       "Name: c, dtype: int64"
      ]
     },
     "execution_count": 23,
     "metadata": {},
     "output_type": "execute_result"
    }
   ],
   "source": [
    "df6['c'].value_counts(sort=True, ascending=False)\n",
    "#default: sort=True, ascending=False\n",
    "#유일한 값의 개수를 기준으로 내림차순\n",
    "\n"
   ]
  },
  {
   "cell_type": "code",
   "execution_count": 24,
   "metadata": {},
   "outputs": [
    {
     "data": {
      "text/plain": [
       "3    1\n",
       "1    2\n",
       "4    2\n",
       "Name: c, dtype: int64"
      ]
     },
     "execution_count": 24,
     "metadata": {},
     "output_type": "execute_result"
    }
   ],
   "source": [
    "#유일한 값의 개수를 기준으로 오름차순\n",
    "df6['c'].value_counts(sort=True, ascending=True)\n"
   ]
  },
  {
   "cell_type": "code",
   "execution_count": 25,
   "metadata": {},
   "outputs": [
    {
     "data": {
      "text/plain": [
       "1    2\n",
       "3    1\n",
       "4    2\n",
       "Name: c, dtype: int64"
      ]
     },
     "execution_count": 25,
     "metadata": {},
     "output_type": "execute_result"
    }
   ],
   "source": [
    "#정렬 기준이 없음\n",
    "df6['c'].value_counts(sort=False)"
   ]
  },
  {
   "cell_type": "code",
   "execution_count": 134,
   "metadata": {},
   "outputs": [
    {
     "data": {
      "text/plain": [
       "(-0.001, 1.0]    2\n",
       "(1.0, 2.0]       0\n",
       "(2.0, 3.0]       1\n",
       "(3.0, 4.0]       2\n",
       "(4.0, 5.0]       0\n",
       "Name: c, dtype: int64"
      ]
     },
     "execution_count": 134,
     "metadata": {},
     "output_type": "execute_result"
    }
   ],
   "source": [
    "df6['b'].value_counts()\n",
    "#default: dropna=True. na를 제외한 값들을 Count\n",
    "df6['b'].value_counts(dropna=False)\n",
    "\n",
    "df6['c'] #1 1 3 4 4\n",
    "#group 별 데이터 개수 세기\n",
    "df6['c'].value_counts(bins=[0,1,2,3,4,5] ,sort=False)\n",
    "\n",
    "# (): 개구간(포함안됨), []:폐구간(포함됨)\n",
    "#bins 구간 나누는 옵션.\n",
    "\n",
    "#동일한 결과를 도출하는 코드\n",
    "#res=pd.cut(df6['c'], bins=[0,1,2,3,4,5])\n",
    "#pd.value_counts(res)"
   ]
  },
  {
   "cell_type": "code",
   "execution_count": null,
   "metadata": {},
   "outputs": [],
   "source": [
    "#변수들 간 척도가 다른 경우 데이터 표준화\n",
    "#변수들의 척도에 의해 모델링시 왜곡이 많다. \n",
    "#모집단:전체 집단\n",
    "#모집단에서 표본추출-> 표본집단 평균, 표준편차\n",
    "#-> 통계랑 => 모평균, 모분산(모수, parameter) 추정\n",
    "\n",
    "\n",
    "\"\"\"\n",
    "모수적방법\n",
    "중심 극한 정리:무작위 복원 추출하면, 연속형\n",
    "자료의 평균에 대한 분포는 정규분포를 띈다면\n",
    "- 30개 이상의 표본의 경우에 정규분포를 따른다. 가정\n",
    "\n",
    "\n",
    "비모수적방법\n",
    "-10개 미만의 표본의 경우에는 모수적 방법을 사용하지 못함\n",
    "-자료 크기로 나열->순위 매김=> 차이 비교\n",
    "\n",
    "\n",
    "\"\"\"\n"
   ]
  },
  {
   "cell_type": "code",
   "execution_count": null,
   "metadata": {},
   "outputs": [],
   "source": [
    "\"\"\"\n",
    "표준화: (각 데이터 - 평균) / 표준편차\n",
    "모집단이 정규분포를 따르는 경우에,\n",
    "평균:0, 표준편차:1인 표준정규분포로 표준화하는작업\n",
    "1)numpy 2)scipy.stats:zscore 3)sklearn.preprocessing\n",
    "\n",
    "\n",
    "\n",
    "\"\"\""
   ]
  },
  {
   "cell_type": "code",
   "execution_count": 52,
   "metadata": {},
   "outputs": [],
   "source": [
    "from numpy import *# numpy안에 있는 모든 모듈 불러오기"
   ]
  },
  {
   "cell_type": "code",
   "execution_count": 40,
   "metadata": {},
   "outputs": [
    {
     "data": {
      "text/plain": [
       "25"
      ]
     },
     "execution_count": 40,
     "metadata": {},
     "output_type": "execute_result"
    }
   ],
   "source": [
    "np.random.randint(30) # 0~29까지 integ하게 int 값 생성,"
   ]
  },
  {
   "cell_type": "code",
   "execution_count": 7,
   "metadata": {},
   "outputs": [
    {
     "data": {
      "text/plain": [
       "array([[ 9, 27, 17, 14, 27],\n",
       "       [ 7,  5, 25, 20,  7],\n",
       "       [23,  5, 26, 11, 21],\n",
       "       [24, 19,  4,  9, 21],\n",
       "       [20,  5,  7, 13, 20],\n",
       "       [20,  2, 19, 18,  1]])"
      ]
     },
     "execution_count": 7,
     "metadata": {},
     "output_type": "execute_result"
    }
   ],
   "source": [
    "data=np.random.randint(30,size=(6,5))\n",
    "data"
   ]
  },
  {
   "cell_type": "code",
   "execution_count": null,
   "metadata": {},
   "outputs": [],
   "source": [
    "#유클리디안 거리(다 차원)\n",
    "#피타고라스 정리(2 차원)"
   ]
  },
  {
   "cell_type": "code",
   "execution_count": null,
   "metadata": {},
   "outputs": [],
   "source": [
    "#data_std=squrt{{}\n",
    "#표준편차:np.std()"
   ]
  },
  {
   "cell_type": "code",
   "execution_count": 153,
   "metadata": {},
   "outputs": [
    {
     "name": "stdout",
     "output_type": "stream",
     "text": [
      "[[ 1.80893651  0.71312238  1.10227038 -2.17262047 -1.78443563]\n",
      " [-1.01300445  1.2265705  -0.12247449  0.28968273 -0.81110711]\n",
      " [-0.57885968 -1.16952071 -1.59216833  0.86904819  0.64888568]\n",
      " [-1.01300445  0.19967427 -0.9797959   0.14484136  0.16222142]\n",
      " [ 0.50650222 -1.51181945  0.85732141  0.28968273  0.64888568]\n",
      " [ 0.28942984  0.54197301  0.73484692  0.57936546  1.13554995]]\n"
     ]
    }
   ],
   "source": [
    "#표준화=(각 데이터-평균 (각 열)) / std(각 열)\n",
    "# np.mean(data)\n",
    "# np.mean(data,axis=0) #각 열 평균\n",
    "# np.mean(data,axis=1) #각 행 평균\n",
    "# print(np.mean(data, axis=0))\n",
    "# print('='*30)\n",
    "# print(np.mean(data, axis=1))\n",
    "# print('='*30)\n",
    "# print(data-np.mean(data, axis=0))\n",
    "      \n",
    "      \n",
    "np.std(data) #8.288479 #전체 data에 대한 표준편차\n",
    "np.std(data, axis=0) # 각 열에 대한 표준편차\n",
    "std_data=(data-np.mean(data, axis=0))/np.std(data,axis=0)\n",
    "print(std_data)      \n",
    "#std_mean -> 평균 0, std 표준편차 -> 1\n",
    "      "
   ]
  },
  {
   "cell_type": "code",
   "execution_count": 155,
   "metadata": {},
   "outputs": [
    {
     "name": "stdout",
     "output_type": "stream",
     "text": [
      "[-2.59052039e-16 -9.25185854e-17  0.00000000e+00 -1.85037171e-17\n",
      "  3.33066907e-16]\n",
      "[1. 1. 1. 1. 1.]\n",
      "[1. 1. 1. 1. 1.]\n"
     ]
    }
   ],
   "source": [
    "#print(std_data)\n",
    "print(np.mean(std_data, axis=0))#평균\n",
    "print(np.std(std_data, axis=0))#표준편차\n",
    "print(np.var(std_data, axis=0)) #분산"
   ]
  },
  {
   "cell_type": "code",
   "execution_count": 53,
   "metadata": {},
   "outputs": [],
   "source": [
    "import scipy.stats as ss"
   ]
  },
  {
   "cell_type": "code",
   "execution_count": 156,
   "metadata": {},
   "outputs": [
    {
     "data": {
      "text/plain": [
       "array([[ 1.80893651,  0.71312238,  1.10227038, -2.17262047, -1.78443563],\n",
       "       [-1.01300445,  1.2265705 , -0.12247449,  0.28968273, -0.81110711],\n",
       "       [-0.57885968, -1.16952071, -1.59216833,  0.86904819,  0.64888568],\n",
       "       [-1.01300445,  0.19967427, -0.9797959 ,  0.14484136,  0.16222142],\n",
       "       [ 0.50650222, -1.51181945,  0.85732141,  0.28968273,  0.64888568],\n",
       "       [ 0.28942984,  0.54197301,  0.73484692,  0.57936546,  1.13554995]])"
      ]
     },
     "execution_count": 156,
     "metadata": {},
     "output_type": "execute_result"
    }
   ],
   "source": [
    "#scipy 안에 stats 통계 모듈\n",
    "# 왜 쓰는지에 대해 알아야 한다. 어떻게 쓰는지\n",
    "#2번째 방법\n",
    "data_ss=ss.zscore(data)\n",
    "data_ss"
   ]
  },
  {
   "cell_type": "code",
   "execution_count": 8,
   "metadata": {},
   "outputs": [],
   "source": [
    "#3번째 방법\n",
    "from sklearn.preprocessing import * "
   ]
  },
  {
   "cell_type": "code",
   "execution_count": 9,
   "metadata": {},
   "outputs": [
    {
     "data": {
      "text/plain": [
       "array([[-1.22461737,  1.79407893,  0.08012831, -0.0438108 ,  1.19532966],\n",
       "       [-1.52452366, -0.59802631,  1.041668  ,  1.53337784, -1.01143279],\n",
       "       [ 0.87472669, -0.59802631,  1.16186047, -0.83240511,  0.53330092],\n",
       "       [ 1.02467984,  0.92422248, -1.4823737 , -1.35813466,  0.53330092],\n",
       "       [ 0.42486725, -0.59802631, -1.12179631, -0.30667557,  0.4229628 ],\n",
       "       [ 0.42486725, -0.92422248,  0.32051323,  1.00764829, -1.67346152]])"
      ]
     },
     "execution_count": 9,
     "metadata": {},
     "output_type": "execute_result"
    }
   ],
   "source": [
    "ss_data=StandardScaler().fit_transform(data) # scalling 한다.\n",
    "ss_data"
   ]
  },
  {
   "cell_type": "code",
   "execution_count": null,
   "metadata": {},
   "outputs": [],
   "source": [
    "#예외적인 값(이상치, 특이값, outlier)이 들어있는 데이터 표준화\n",
    "#표준정규분포로의 표준화:이상치, 특이값이 없어야 한다는 가정 필요\n",
    "##z=(x-mean)/std\n",
    "\n",
    "#이상치가 데이터에 포함되어 있는 경우에는\n",
    "#표준화를 어떻게?\n",
    "#1) 이상치, 특이값을 찾아서 제거- 조건문생성, 수식 만들어야 한다.\n",
    "#이상치, 특이값에서 \n",
    "#2)중앙값(median), IQR을 이용하여 스케일링\n"
   ]
  },
  {
   "cell_type": "code",
   "execution_count": null,
   "metadata": {},
   "outputs": [],
   "source": [
    "#RobustScaler(): 이상치가 있는 데이터 표준화\n",
    "\n"
   ]
  },
  {
   "cell_type": "code",
   "execution_count": 10,
   "metadata": {},
   "outputs": [],
   "source": [
    "from sklearn.preprocessing import StandardScaler, RobustScaler\n",
    "import matplotlib.pyplot as plt"
   ]
  },
  {
   "cell_type": "code",
   "execution_count": 11,
   "metadata": {},
   "outputs": [
    {
     "data": {
      "text/plain": [
       "array([ 2.68447525,  3.41812967,  7.19217488,  6.23322863,  5.23708472,\n",
       "        7.38498668,  6.41693968,  6.57324507,  7.61289113,  2.13514856,\n",
       "        8.65641247,  3.99002803,  5.90427583,  3.51428471,  5.66899497,\n",
       "        5.86776701,  5.7876785 ,  6.93884394,  7.22114107,  7.61287461,\n",
       "        4.23421881,  8.30206542,  3.26171501,  4.34819956,  6.47733576,\n",
       "        5.19956131,  7.12831925,  2.28976974,  6.96433117,  4.61739963,\n",
       "        5.83199727,  4.12704926,  4.33791748,  5.40824318,  8.91303774,\n",
       "        3.49834567,  3.21813676,  8.67217854,  3.87762662,  6.63289073,\n",
       "        8.30304588,  8.86814423,  5.58973303,  6.52083564,  4.05383959,\n",
       "       -0.01609399,  5.04844735,  4.06205632,  4.85483497,  6.15078158,\n",
       "        4.90751243,  2.00203957,  3.78862438,  6.24619476,  6.03402706,\n",
       "        3.39985968,  3.77521215,  5.27572307,  1.97307366,  5.41252821,\n",
       "        7.49752109,  5.3156672 ,  3.73500487,  6.07227898,  7.36879947,\n",
       "        8.52033922,  3.32106735,  5.52196311,  7.20239191,  6.96016338,\n",
       "        5.30361215,  6.71267141,  3.86787238,  4.40878181,  5.05698314,\n",
       "        4.69693556,  6.17003776,  4.2853732 ,  3.14566786,  5.07873871,\n",
       "        4.13662555,  3.72973552,  2.44143107,  4.51709822,  2.04121246,\n",
       "        5.31949398,  3.69146547,  5.50481355,  3.25650481,  4.8078234 ,\n",
       "        6.50550064,  4.28685621,  3.50788295,  7.23635641,  5.52620515,\n",
       "        5.54218855,  7.32442319,  5.83503946,  5.65632942,  4.06258238])"
      ]
     },
     "execution_count": 11,
     "metadata": {},
     "output_type": "execute_result"
    }
   ],
   "source": [
    "mu, sigma=5,2\n",
    "x=mu+sigma*np.random.randn(100)\n",
    "x"
   ]
  },
  {
   "cell_type": "code",
   "execution_count": 14,
   "metadata": {},
   "outputs": [
    {
     "data": {
      "text/plain": [
       "1.7738308920162056"
      ]
     },
     "execution_count": 14,
     "metadata": {},
     "output_type": "execute_result"
    },
    {
     "data": {
      "image/png": "[encoded data removed]",
      "text/plain": [
       "<Figure size 432x288 with 1 Axes>"
      ]
     },
     "metadata": {
      "needs_background": "light"
     },
     "output_type": "display_data"
    }
   ],
   "source": [
    "plt.hist(x)\n",
    "np.mean(x)\n",
    "np.std(x)"
   ]
  },
  {
   "cell_type": "code",
   "execution_count": 15,
   "metadata": {},
   "outputs": [
    {
     "data": {
      "text/plain": [
       "array([ 2.68447525e+00,  3.41812967e+00,  7.19217488e+00,  6.23322863e+00,\n",
       "        5.23708472e+00,  7.38498668e+00,  6.41693968e+00,  6.57324507e+00,\n",
       "        7.61289113e+00,  2.13514856e+00,  8.65641247e+00,  3.99002803e+00,\n",
       "        5.90427583e+00,  3.51428471e+00,  5.66899497e+00,  5.86776701e+00,\n",
       "        5.78767850e+00,  6.93884394e+00,  7.22114107e+00,  7.61287461e+00,\n",
       "        4.23421881e+00,  8.30206542e+00,  3.26171501e+00,  4.34819956e+00,\n",
       "        6.47733576e+00,  5.19956131e+00,  7.12831925e+00,  2.28976974e+00,\n",
       "        6.96433117e+00,  4.61739963e+00,  5.83199727e+00,  4.12704926e+00,\n",
       "        4.33791748e+00,  5.40824318e+00,  8.91303774e+00,  3.49834567e+00,\n",
       "        3.21813676e+00,  8.67217854e+00,  3.87762662e+00,  6.63289073e+00,\n",
       "        8.30304588e+00,  8.86814423e+00,  5.58973303e+00,  6.52083564e+00,\n",
       "        4.05383959e+00, -1.60939945e-02,  5.04844735e+00,  4.06205632e+00,\n",
       "        4.85483497e+00,  6.15078158e+00,  4.90751243e+00,  2.00203957e+00,\n",
       "        3.78862438e+00,  6.24619476e+00,  6.03402706e+00,  3.39985968e+00,\n",
       "        3.77521215e+00,  5.27572307e+00,  1.97307366e+00,  5.41252821e+00,\n",
       "        7.49752109e+00,  5.31566720e+00,  3.73500487e+00,  6.07227898e+00,\n",
       "        7.36879947e+00,  8.52033922e+00,  3.32106735e+00,  5.52196311e+00,\n",
       "        7.20239191e+00,  6.96016338e+00,  5.30361215e+00,  6.71267141e+00,\n",
       "        3.86787238e+00,  4.40878181e+00,  5.05698314e+00,  4.69693556e+00,\n",
       "        6.17003776e+00,  4.28537320e+00,  3.14566786e+00,  5.07873871e+00,\n",
       "        4.13662555e+00,  3.72973552e+00,  2.44143107e+00,  4.51709822e+00,\n",
       "        2.04121246e+00,  5.31949398e+00,  3.69146547e+00,  5.50481355e+00,\n",
       "        3.25650481e+00,  4.80782340e+00,  6.50550064e+00,  4.28685621e+00,\n",
       "        3.50788295e+00,  7.23635641e+00,  5.52620515e+00,  5.54218855e+00,\n",
       "        7.32442319e+00,  5.83503946e+00,  1.00000000e+02,  1.00000000e+02])"
      ]
     },
     "execution_count": 15,
     "metadata": {},
     "output_type": "execute_result"
    }
   ],
   "source": [
    "x[98:100] =100\n",
    "x"
   ]
  },
  {
   "cell_type": "code",
   "execution_count": 19,
   "metadata": {},
   "outputs": [
    {
     "data": {
      "text/plain": [
       "(array([ 1., 24., 38., 27.,  7.,  0.,  0.,  0.,  0.,  0.,  0.,  0.,  0.,\n",
       "         0.,  0.,  0.,  0.,  0.,  0.,  0.,  0.,  0.,  0.,  0.,  0.,  0.,\n",
       "         0.,  0.,  0.,  0.,  0.,  0.,  0.,  0.,  0.,  0.,  0.,  0.,  0.,\n",
       "         0.,  0.,  0.,  0.,  0.,  0.,  0.,  0.,  0.,  0.,  2.]),\n",
       " array([  0,   2,   4,   6,   8,  10,  12,  14,  16,  18,  20,  22,  24,\n",
       "         26,  28,  30,  32,  34,  36,  38,  40,  42,  44,  46,  48,  50,\n",
       "         52,  54,  56,  58,  60,  62,  64,  66,  68,  70,  72,  74,  76,\n",
       "         78,  80,  82,  84,  86,  88,  90,  92,  94,  96,  98, 100]),\n",
       " <a list of 50 Patch objects>)"
      ]
     },
     "execution_count": 19,
     "metadata": {},
     "output_type": "execute_result"
    },
    {
     "data": {
      "image/png": "[encoded data removed]",
      "text/plain": [
       "<Figure size 432x288 with 1 Axes>"
      ]
     },
     "metadata": {
      "needs_background": "light"
     },
     "output_type": "display_data"
    }
   ],
   "source": [
    "np.mean(x)\n",
    "#np.std(x) #13.422687450667636\n",
    "#plt.hist(x)\n",
    "plt.hist(x, bins=np.arange(0, 102, 2))"
   ]
  },
  {
   "cell_type": "code",
   "execution_count": 20,
   "metadata": {},
   "outputs": [
    {
     "data": {
      "text/plain": [
       "(array([98.,  0.,  0.,  0.,  0.,  0.,  0.,  0.,  0.,  2.]),\n",
       " array([-0.53558685,  0.21182572,  0.9592383 ,  1.70665087,  2.45406345,\n",
       "         3.20147602,  3.9488886 ,  4.69630117,  5.44371375,  6.19112633,\n",
       "         6.9385389 ]),\n",
       " <a list of 10 Patch objects>)"
      ]
     },
     "execution_count": 20,
     "metadata": {},
     "output_type": "execute_result"
    },
    {
     "data": {
      "image/png": "[encoded data removed]",
      "text/plain": [
       "<Figure size 432x288 with 1 Axes>"
      ]
     },
     "metadata": {
      "needs_background": "light"
     },
     "output_type": "display_data"
    }
   ],
   "source": [
    "#type(x)  # array\n",
    "#x가 1차원이다.\n",
    "#x=x.reshape(100,1) #(100,) -> (100,1) 열은 1로 고정\n",
    "x=x.reshape(-1,1) # 내가 행을 모를때, 자동으로 할땐 -1. \n",
    "x.shape\n",
    "\n",
    "ss_x=StandardScaler().fit_transform(x)# 2D만 사용 가능하다.\n",
    "#모양을 2D로 바꿔줬다.\n",
    "np.mean(ss_x)\n",
    "np.std(ss_x)\n",
    "plt.hist(ss_x)\n"
   ]
  },
  {
   "cell_type": "code",
   "execution_count": 29,
   "metadata": {},
   "outputs": [
    {
     "data": {
      "text/plain": [
       "(array([ 0.,  0.,  0.,  0.,  1.,  0.,  7., 28., 24., 21., 12.,  5.,  0.,\n",
       "         0.,  0.,  0.,  0.,  0.,  0.]),\n",
       " array([-1.00000000e+00, -9.00000000e-01, -8.00000000e-01, -7.00000000e-01,\n",
       "        -6.00000000e-01, -5.00000000e-01, -4.00000000e-01, -3.00000000e-01,\n",
       "        -2.00000000e-01, -1.00000000e-01, -2.22044605e-16,  1.00000000e-01,\n",
       "         2.00000000e-01,  3.00000000e-01,  4.00000000e-01,  5.00000000e-01,\n",
       "         6.00000000e-01,  7.00000000e-01,  8.00000000e-01,  9.00000000e-01]),\n",
       " <a list of 19 Patch objects>)"
      ]
     },
     "execution_count": 29,
     "metadata": {},
     "output_type": "execute_result"
    },
    {
     "data": {
      "image/png": "[encoded data removed]",
      "text/plain": [
       "<Figure size 432x288 with 1 Axes>"
      ]
     },
     "metadata": {
      "needs_background": "light"
     },
     "output_type": "display_data"
    }
   ],
   "source": [
    "ss_x_z=ss_x[ss_x<5]\n",
    "plt.hist(ss_x_z, bins=np.arange(-1,1,0.1))\n",
    "#plt.hist(ss_x_z)\n"
   ]
  },
  {
   "cell_type": "code",
   "execution_count": 101,
   "metadata": {},
   "outputs": [
    {
     "data": {
      "text/plain": [
       "2.5922359742480108"
      ]
     },
     "execution_count": 101,
     "metadata": {},
     "output_type": "execute_result"
    }
   ],
   "source": [
    "#이상치 포함 데이터의 중앙값, IQR을 이용 -> 표준화\n",
    "np.median(x)\n",
    "x\n",
    "q1=np.percentile(x,25)#1사분위수, 3.87832\n",
    "q3=np.percentile(x,75) #3사분위수, 6.470561\n",
    "iqr=q3-q1 #2.59223\n",
    "iqr\n",
    "#q3"
   ]
  },
  {
   "cell_type": "code",
   "execution_count": 30,
   "metadata": {},
   "outputs": [
    {
     "data": {
      "text/plain": [
       "(array([0., 1., 6., 6., 5., 5., 6., 2., 4., 7., 7., 5., 4., 4., 5., 2., 4.,\n",
       "        7., 3.]),\n",
       " array([-1.00000000e+00, -9.00000000e-01, -8.00000000e-01, -7.00000000e-01,\n",
       "        -6.00000000e-01, -5.00000000e-01, -4.00000000e-01, -3.00000000e-01,\n",
       "        -2.00000000e-01, -1.00000000e-01, -2.22044605e-16,  1.00000000e-01,\n",
       "         2.00000000e-01,  3.00000000e-01,  4.00000000e-01,  5.00000000e-01,\n",
       "         6.00000000e-01,  7.00000000e-01,  8.00000000e-01,  9.00000000e-01]),\n",
       " <a list of 19 Patch objects>)"
      ]
     },
     "execution_count": 30,
     "metadata": {},
     "output_type": "execute_result"
    },
    {
     "data": {
      "image/png": "[encoded data removed]",
      "text/plain": [
       "<Figure size 432x288 with 1 Axes>"
      ]
     },
     "metadata": {
      "needs_background": "light"
     },
     "output_type": "display_data"
    }
   ],
   "source": [
    "import matplotlib.pyplot as plt\n",
    "x_rs=RobustScaler().fit_transform(x) # Robuster-> 중의수, IQR이 표준편차\n",
    "x_rs\n",
    "np.median(x_rs)# 0.0\n",
    "np.mean(x_rs)#0.677\n",
    "np.std(x_rs)#5.17803\n",
    "#plt.hist(x_rs)\n",
    "\n",
    "x_rs_z=x_rs[x_rs<10]\n",
    "plt.hist(x_rs_z, bins=np.arange(-1,1,0.1))\n",
    "\n"
   ]
  },
  {
   "cell_type": "code",
   "execution_count": 33,
   "metadata": {},
   "outputs": [
    {
     "data": {
      "text/plain": [
       "array([[10, 20, 30, 40],\n",
       "       [50, 60, 70, 80]])"
      ]
     },
     "execution_count": 33,
     "metadata": {},
     "output_type": "execute_result"
    }
   ],
   "source": [
    "#문제 1번 \n",
    "import numpy as np\n",
    "arr=np.array([[10,20,30,40],[50,60,70,80]])\n",
    "arr"
   ]
  },
  {
   "cell_type": "code",
   "execution_count": 49,
   "metadata": {},
   "outputs": [
    {
     "data": {
      "text/plain": [
       "array([[3, 4],\n",
       "       [8, 9]])"
      ]
     },
     "execution_count": 49,
     "metadata": {},
     "output_type": "execute_result"
    }
   ],
   "source": [
    "#문제 2번\n",
    "m = np.array([[ 0,  1,  2,  3,  4],\n",
    "              [ 5,  6,  7,  8,  9],\n",
    "              [10, 11, 12, 13, 14]])\n",
    "m[1,2] #7\n",
    "m[2,4] #14\n",
    "m[1,[1,2]] #array([6, 7])\n",
    "m[[1,2],2] #array([ 7, 12])\n",
    "m[0:2,[3,4]]#array([[3, 4],[8, 9]])\n",
    "\n"
   ]
  },
  {
   "cell_type": "code",
   "execution_count": 58,
   "metadata": {
    "scrolled": false
   },
   "outputs": [
    {
     "data": {
      "text/plain": [
       "array([9])"
      ]
     },
     "execution_count": 58,
     "metadata": {},
     "output_type": "execute_result"
    }
   ],
   "source": [
    "# 문제 3번\n",
    "x = np.array([1, 2, 3, 4, 5, 6, 7, 8, 9, 10,\n",
    "              11, 12, 13, 14, 15, 16, 17, 18, 19, 20])\n",
    "x[x%3 ==0] #array([ 3,  6,  9, 12, 15, 18])\n",
    "x[x%4==1] #array([ 1,  5,  9, 13, 17])\n",
    "a=x%3 ==0\n",
    "b=x%4==1\n",
    "x[a & b] #array([9])\n",
    "\n"
   ]
  },
  {
   "cell_type": "code",
   "execution_count": null,
   "metadata": {},
   "outputs": [],
   "source": [
    "#4. 타이타닉 데이터셋에서 Age , sibsp, parch, fare 컬럼에 대해 표준화 하시오.\n",
    "#-누락값에 대해서는 Age열은 평균 나이로 대체,\n",
    "\n",
    "\n"
   ]
  },
  {
   "cell_type": "code",
   "execution_count": 59,
   "metadata": {
    "scrolled": true
   },
   "outputs": [
    {
     "name": "stdout",
     "output_type": "stream",
     "text": [
      "Reverse list: df123\n",
      "3 2 1 f d "
     ]
    }
   ],
   "source": [
    "re_list4=list(map(str,input(\"Reverse list: \")))\n",
    "for char in range(len(re_list4)-1, -1,-1):\n",
    "    print(re_list4[char],end=\" \")"
   ]
  },
  {
   "cell_type": "code",
   "execution_count": null,
   "metadata": {},
   "outputs": [],
   "source": []
  }
 ],
 "metadata": {
  "kernelspec": {
   "display_name": "Python 3",
   "language": "python",
   "name": "python3"
  },
  "language_info": {
   "codemirror_mode": {
    "name": "ipython",
    "version": 3
   },
   "file_extension": ".py",
   "mimetype": "text/x-python",
   "name": "python",
   "nbconvert_exporter": "python",
   "pygments_lexer": "ipython3",
   "version": "3.7.4"
  }
 },
 "nbformat": 4,
 "nbformat_minor": 2
}
