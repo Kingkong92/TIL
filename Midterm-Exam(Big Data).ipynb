{
 "cells": [
  {
   "cell_type": "code",
   "execution_count": 55,
   "metadata": {},
   "outputs": [
    {
     "data": {
      "text/html": [
       "<div>\n",
       "<style scoped>\n",
       "    .dataframe tbody tr th:only-of-type {\n",
       "        vertical-align: middle;\n",
       "    }\n",
       "\n",
       "    .dataframe tbody tr th {\n",
       "        vertical-align: top;\n",
       "    }\n",
       "\n",
       "    .dataframe thead th {\n",
       "        text-align: right;\n",
       "    }\n",
       "</style>\n",
       "<table border=\"1\" class=\"dataframe\">\n",
       "  <thead>\n",
       "    <tr style=\"text-align: right;\">\n",
       "      <th></th>\n",
       "      <th>Class_1</th>\n",
       "      <th>Class_2</th>\n",
       "      <th>Class_3</th>\n",
       "    </tr>\n",
       "  </thead>\n",
       "  <tbody>\n",
       "    <tr>\n",
       "      <td>0</td>\n",
       "      <td>0</td>\n",
       "      <td>0</td>\n",
       "      <td>1</td>\n",
       "    </tr>\n",
       "    <tr>\n",
       "      <td>1</td>\n",
       "      <td>1</td>\n",
       "      <td>0</td>\n",
       "      <td>0</td>\n",
       "    </tr>\n",
       "    <tr>\n",
       "      <td>2</td>\n",
       "      <td>0</td>\n",
       "      <td>0</td>\n",
       "      <td>1</td>\n",
       "    </tr>\n",
       "    <tr>\n",
       "      <td>3</td>\n",
       "      <td>1</td>\n",
       "      <td>0</td>\n",
       "      <td>0</td>\n",
       "    </tr>\n",
       "    <tr>\n",
       "      <td>4</td>\n",
       "      <td>0</td>\n",
       "      <td>0</td>\n",
       "      <td>1</td>\n",
       "    </tr>\n",
       "    <tr>\n",
       "      <td>...</td>\n",
       "      <td>...</td>\n",
       "      <td>...</td>\n",
       "      <td>...</td>\n",
       "    </tr>\n",
       "    <tr>\n",
       "      <td>886</td>\n",
       "      <td>0</td>\n",
       "      <td>1</td>\n",
       "      <td>0</td>\n",
       "    </tr>\n",
       "    <tr>\n",
       "      <td>887</td>\n",
       "      <td>1</td>\n",
       "      <td>0</td>\n",
       "      <td>0</td>\n",
       "    </tr>\n",
       "    <tr>\n",
       "      <td>888</td>\n",
       "      <td>0</td>\n",
       "      <td>0</td>\n",
       "      <td>1</td>\n",
       "    </tr>\n",
       "    <tr>\n",
       "      <td>889</td>\n",
       "      <td>1</td>\n",
       "      <td>0</td>\n",
       "      <td>0</td>\n",
       "    </tr>\n",
       "    <tr>\n",
       "      <td>890</td>\n",
       "      <td>0</td>\n",
       "      <td>0</td>\n",
       "      <td>1</td>\n",
       "    </tr>\n",
       "  </tbody>\n",
       "</table>\n",
       "<p>891 rows × 3 columns</p>\n",
       "</div>"
      ],
      "text/plain": [
       "     Class_1  Class_2  Class_3\n",
       "0          0        0        1\n",
       "1          1        0        0\n",
       "2          0        0        1\n",
       "3          1        0        0\n",
       "4          0        0        1\n",
       "..       ...      ...      ...\n",
       "886        0        1        0\n",
       "887        1        0        0\n",
       "888        0        0        1\n",
       "889        1        0        0\n",
       "890        0        0        1\n",
       "\n",
       "[891 rows x 3 columns]"
      ]
     },
     "execution_count": 55,
     "metadata": {},
     "output_type": "execute_result"
    }
   ],
   "source": [
    "# [데이터모델링, SQL응용]\n",
    "#문제 1번.\n",
    "#1-1) Pclass OneHotEncoding\n",
    "import pandas as pd\n",
    "train=pd.read_csv('train.csv')\n",
    "train\n",
    "pd.get_dummies(train['Pclass'],prefix='Class')"
   ]
  },
  {
   "cell_type": "code",
   "execution_count": 64,
   "metadata": {},
   "outputs": [
    {
     "data": {
      "text/html": [
       "<div>\n",
       "<style scoped>\n",
       "    .dataframe tbody tr th:only-of-type {\n",
       "        vertical-align: middle;\n",
       "    }\n",
       "\n",
       "    .dataframe tbody tr th {\n",
       "        vertical-align: top;\n",
       "    }\n",
       "\n",
       "    .dataframe thead th {\n",
       "        text-align: right;\n",
       "    }\n",
       "</style>\n",
       "<table border=\"1\" class=\"dataframe\">\n",
       "  <thead>\n",
       "    <tr style=\"text-align: right;\">\n",
       "      <th></th>\n",
       "      <th>PassengerId</th>\n",
       "      <th>Survived</th>\n",
       "      <th>Pclass</th>\n",
       "      <th>Name</th>\n",
       "      <th>Sex</th>\n",
       "      <th>Age</th>\n",
       "      <th>SibSp</th>\n",
       "      <th>Parch</th>\n",
       "      <th>Ticket</th>\n",
       "      <th>Fare</th>\n",
       "      <th>Cabin</th>\n",
       "      <th>Embarked</th>\n",
       "      <th>Ages</th>\n",
       "    </tr>\n",
       "  </thead>\n",
       "  <tbody>\n",
       "    <tr>\n",
       "      <td>0</td>\n",
       "      <td>1</td>\n",
       "      <td>0</td>\n",
       "      <td>3</td>\n",
       "      <td>Braund, Mr. Owen Harris</td>\n",
       "      <td>male</td>\n",
       "      <td>22.0</td>\n",
       "      <td>1</td>\n",
       "      <td>0</td>\n",
       "      <td>A/5 21171</td>\n",
       "      <td>7.2500</td>\n",
       "      <td>NaN</td>\n",
       "      <td>S</td>\n",
       "      <td>2</td>\n",
       "    </tr>\n",
       "    <tr>\n",
       "      <td>1</td>\n",
       "      <td>2</td>\n",
       "      <td>1</td>\n",
       "      <td>1</td>\n",
       "      <td>Cumings, Mrs. John Bradley (Florence Briggs Th...</td>\n",
       "      <td>female</td>\n",
       "      <td>38.0</td>\n",
       "      <td>1</td>\n",
       "      <td>0</td>\n",
       "      <td>PC 17599</td>\n",
       "      <td>71.2833</td>\n",
       "      <td>C85</td>\n",
       "      <td>C</td>\n",
       "      <td>2</td>\n",
       "    </tr>\n",
       "    <tr>\n",
       "      <td>2</td>\n",
       "      <td>3</td>\n",
       "      <td>1</td>\n",
       "      <td>3</td>\n",
       "      <td>Heikkinen, Miss. Laina</td>\n",
       "      <td>female</td>\n",
       "      <td>26.0</td>\n",
       "      <td>0</td>\n",
       "      <td>0</td>\n",
       "      <td>STON/O2. 3101282</td>\n",
       "      <td>7.9250</td>\n",
       "      <td>NaN</td>\n",
       "      <td>S</td>\n",
       "      <td>2</td>\n",
       "    </tr>\n",
       "  </tbody>\n",
       "</table>\n",
       "</div>"
      ],
      "text/plain": [
       "   PassengerId  Survived  Pclass  \\\n",
       "0            1         0       3   \n",
       "1            2         1       1   \n",
       "2            3         1       3   \n",
       "\n",
       "                                                Name     Sex   Age  SibSp  \\\n",
       "0                            Braund, Mr. Owen Harris    male  22.0      1   \n",
       "1  Cumings, Mrs. John Bradley (Florence Briggs Th...  female  38.0      1   \n",
       "2                             Heikkinen, Miss. Laina  female  26.0      0   \n",
       "\n",
       "   Parch            Ticket     Fare Cabin Embarked  Ages  \n",
       "0      0         A/5 21171   7.2500   NaN        S     2  \n",
       "1      0          PC 17599  71.2833   C85        C     2  \n",
       "2      0  STON/O2. 3101282   7.9250   NaN        S     2  "
      ]
     },
     "execution_count": 64,
     "metadata": {},
     "output_type": "execute_result"
    }
   ],
   "source": [
    "# 1-2) Age를 이산화(5개 구간으로 나눔)\n",
    "train['Age']\n",
    "train['Age'].max()\n",
    "train['Age'].min()\n",
    "bins=np.linspace(train['Age'].min(), train['Age'].max(), 5)\n",
    "train['Ages']=np.digitize(train['Age'], bins)\n",
    "train.head(3)"
   ]
  },
  {
   "cell_type": "code",
   "execution_count": 66,
   "metadata": {},
   "outputs": [
    {
     "data": {
      "text/html": [
       "<div>\n",
       "<style scoped>\n",
       "    .dataframe tbody tr th:only-of-type {\n",
       "        vertical-align: middle;\n",
       "    }\n",
       "\n",
       "    .dataframe tbody tr th {\n",
       "        vertical-align: top;\n",
       "    }\n",
       "\n",
       "    .dataframe thead th {\n",
       "        text-align: right;\n",
       "    }\n",
       "</style>\n",
       "<table border=\"1\" class=\"dataframe\">\n",
       "  <thead>\n",
       "    <tr style=\"text-align: right;\">\n",
       "      <th></th>\n",
       "      <th>Port_C</th>\n",
       "      <th>Port_Q</th>\n",
       "      <th>Port_S</th>\n",
       "    </tr>\n",
       "  </thead>\n",
       "  <tbody>\n",
       "    <tr>\n",
       "      <td>0</td>\n",
       "      <td>0</td>\n",
       "      <td>0</td>\n",
       "      <td>1</td>\n",
       "    </tr>\n",
       "    <tr>\n",
       "      <td>1</td>\n",
       "      <td>1</td>\n",
       "      <td>0</td>\n",
       "      <td>0</td>\n",
       "    </tr>\n",
       "    <tr>\n",
       "      <td>2</td>\n",
       "      <td>0</td>\n",
       "      <td>0</td>\n",
       "      <td>1</td>\n",
       "    </tr>\n",
       "    <tr>\n",
       "      <td>3</td>\n",
       "      <td>0</td>\n",
       "      <td>0</td>\n",
       "      <td>1</td>\n",
       "    </tr>\n",
       "    <tr>\n",
       "      <td>4</td>\n",
       "      <td>0</td>\n",
       "      <td>0</td>\n",
       "      <td>1</td>\n",
       "    </tr>\n",
       "    <tr>\n",
       "      <td>...</td>\n",
       "      <td>...</td>\n",
       "      <td>...</td>\n",
       "      <td>...</td>\n",
       "    </tr>\n",
       "    <tr>\n",
       "      <td>886</td>\n",
       "      <td>0</td>\n",
       "      <td>0</td>\n",
       "      <td>1</td>\n",
       "    </tr>\n",
       "    <tr>\n",
       "      <td>887</td>\n",
       "      <td>0</td>\n",
       "      <td>0</td>\n",
       "      <td>1</td>\n",
       "    </tr>\n",
       "    <tr>\n",
       "      <td>888</td>\n",
       "      <td>0</td>\n",
       "      <td>0</td>\n",
       "      <td>1</td>\n",
       "    </tr>\n",
       "    <tr>\n",
       "      <td>889</td>\n",
       "      <td>1</td>\n",
       "      <td>0</td>\n",
       "      <td>0</td>\n",
       "    </tr>\n",
       "    <tr>\n",
       "      <td>890</td>\n",
       "      <td>0</td>\n",
       "      <td>1</td>\n",
       "      <td>0</td>\n",
       "    </tr>\n",
       "  </tbody>\n",
       "</table>\n",
       "<p>891 rows × 3 columns</p>\n",
       "</div>"
      ],
      "text/plain": [
       "     Port_C  Port_Q  Port_S\n",
       "0         0       0       1\n",
       "1         1       0       0\n",
       "2         0       0       1\n",
       "3         0       0       1\n",
       "4         0       0       1\n",
       "..      ...     ...     ...\n",
       "886       0       0       1\n",
       "887       0       0       1\n",
       "888       0       0       1\n",
       "889       1       0       0\n",
       "890       0       1       0\n",
       "\n",
       "[891 rows x 3 columns]"
      ]
     },
     "execution_count": 66,
     "metadata": {},
     "output_type": "execute_result"
    }
   ],
   "source": [
    "# 1-3) Embarked OneHotEncoding\n",
    "pd.get_dummies(train['Embarked'],prefix='Port') #get_dummies 함수 사용\n"
   ]
  },
  {
   "cell_type": "code",
   "execution_count": 93,
   "metadata": {
    "scrolled": true
   },
   "outputs": [
    {
     "data": {
      "text/plain": [
       "1.0"
      ]
     },
     "execution_count": 93,
     "metadata": {},
     "output_type": "execute_result"
    }
   ],
   "source": [
    "# 문제2. 타이타닉호 승객을 사망자와 생존자 그룹으로 나누고\n",
    "# 각 그룹에 대해 '미성년자', '청년', '중년', '장년', '노년' 승객의 비율을 구한다. \n",
    "# 각 그룹 별로 비율의 전체 합은 1이 되어야 한다.\n",
    "\n",
    "bins = [5, 20, 30, 40, 60, 90]\n",
    "labels = [\"미성년자\", \"청년\", \"중년\", \"장년\", \"노년\"]\n",
    "\n",
    "#died: 사망자 그룹, live: 생존자 그룹\n",
    "died=train[train['Survived']==0]\n",
    "live=train[train['Survived']==1]\n",
    "\n",
    "#사망자, 생존자 각 나이별 그룹화 & value.counts로 null값 해결\n",
    "died_age_group=pd.cut(died['Age'], bins, labels=labels).value_counts()\n",
    "live_age_group=pd.cut(live['Age'], bins, labels=labels).value_counts()\n",
    "died_age_group\n",
    "live_age_group\n",
    "\n",
    "#각 그룹별 비율의 합 확인\n",
    "died_ratio=died_age_group/died_age_group.sum()\n",
    "live_ratio=live_age_group/live_age_group.sum()\n",
    "\n",
    "died_ratio.sum() #0.9999999999999999\n",
    "live_ratio.sum() #1.0\n",
    "\n",
    "#Null 값 확인 -> value.counts()로 해결 \n",
    "# died_age_group.isnull().sum() # 사망자 나이 null값 138\n",
    "# live_age_group.isnull().sum() # 생존자 나이 null값 83"
   ]
  },
  {
   "cell_type": "code",
   "execution_count": null,
   "metadata": {},
   "outputs": [],
   "source": []
  },
  {
   "cell_type": "code",
   "execution_count": 19,
   "metadata": {
    "scrolled": false
   },
   "outputs": [
    {
     "data": {
      "text/plain": [
       "array([1., 1., 1., 1., 1., 1., 1., 1., 1., 1.])"
      ]
     },
     "execution_count": 19,
     "metadata": {},
     "output_type": "execute_result"
    }
   ],
   "source": [
    "# 문제1. 길이가 10인 1-벡터를 만드세요.\n",
    "import numpy as np\n",
    "arr=np.ones(10)\n",
    "arr"
   ]
  },
  {
   "cell_type": "code",
   "execution_count": 18,
   "metadata": {},
   "outputs": [
    {
     "data": {
      "text/plain": [
       "array([0., 0., 0., 0., 1., 0., 0., 0., 0., 0.])"
      ]
     },
     "execution_count": 18,
     "metadata": {},
     "output_type": "execute_result"
    }
   ],
   "source": [
    "# 문제 2. 문제 1에서 만든 벡터에 대해 다섯번째 원소만 1이고 나머지 원소는 모두 0인 벡터를 만드세요.\n",
    "zero=np.zeros(10)\n",
    "zero[4]=1\n",
    "zero"
   ]
  },
  {
   "cell_type": "code",
   "execution_count": 4,
   "metadata": {},
   "outputs": [
    {
     "data": {
      "text/plain": [
       "array([10, 11, 12, 13, 14, 15, 16, 17, 18, 19, 20])"
      ]
     },
     "execution_count": 4,
     "metadata": {},
     "output_type": "execute_result"
    }
   ],
   "source": [
    "# 문제 3. 10 부터 20까지의 값을 가지는 벡터를 만드세요.\n",
    "s=np.arange(10,21)\n",
    "s"
   ]
  },
  {
   "cell_type": "code",
   "execution_count": 27,
   "metadata": {},
   "outputs": [
    {
     "data": {
      "text/plain": [
       "[20, 19, 18, 17, 16, 15, 14, 13, 12, 11, 10]"
      ]
     },
     "execution_count": 27,
     "metadata": {},
     "output_type": "execute_result"
    }
   ],
   "source": [
    "# 문제 4.위 벡터의 순서를 바꾸세요.\n",
    "np.flip(s) #flip함수 사용\n",
    "sorted(s,reverse=True) #sorted 함수 사용"
   ]
  },
  {
   "cell_type": "code",
   "execution_count": 6,
   "metadata": {},
   "outputs": [
    {
     "data": {
      "text/plain": [
       "array([[0, 1, 2, 3],\n",
       "       [4, 5, 6, 7]])"
      ]
     },
     "execution_count": 6,
     "metadata": {},
     "output_type": "execute_result"
    }
   ],
   "source": [
    "# 문제 5.0부터 7까지의 값을 가지는 2x4 행렬을 만드세요.\n",
    "np.arange(8).reshape(2,4)"
   ]
  },
  {
   "cell_type": "code",
   "execution_count": 10,
   "metadata": {
    "scrolled": false
   },
   "outputs": [
    {
     "data": {
      "text/plain": [
       "array([2, 0, 0, 4, 0])"
      ]
     },
     "execution_count": 10,
     "metadata": {},
     "output_type": "execute_result"
    }
   ],
   "source": [
    "# 문제 6.벡터 [1,2,0,0,4,0] 에서 원소의 값이 짝수인 원소만 선택한 벡터를 만드세요.\n",
    "arr=np.array([1,2,0,0,4,0])\n",
    "arr[arr%2==0]"
   ]
  },
  {
   "cell_type": "code",
   "execution_count": 32,
   "metadata": {},
   "outputs": [
    {
     "data": {
      "text/plain": [
       "array([[1., 0.],\n",
       "       [0., 1.]])"
      ]
     },
     "execution_count": 32,
     "metadata": {},
     "output_type": "execute_result"
    }
   ],
   "source": [
    "# 문제 7. 2x2 단위 행렬(identity matrix)을 만드세요\n",
    "np.eye(2)\n",
    "np.identity(2)"
   ]
  },
  {
   "cell_type": "code",
   "execution_count": 43,
   "metadata": {},
   "outputs": [
    {
     "data": {
      "text/plain": [
       "array([[0.00703843, 0.14987001, 0.4277477 ],\n",
       "       [0.52724171, 0.61503852, 0.14727186],\n",
       "       [0.97362728, 0.64518728, 0.56822858]])"
      ]
     },
     "execution_count": 43,
     "metadata": {},
     "output_type": "execute_result"
    }
   ],
   "source": [
    "# 문제 8.난수 원소를 가지는 3x3 행렬을 만드세요\n",
    "random.seed(777)\n",
    "ran=np.random.rand(3,3)\n",
    "ran"
   ]
  },
  {
   "cell_type": "code",
   "execution_count": 50,
   "metadata": {},
   "outputs": [
    {
     "data": {
      "text/plain": [
       "0.007038434340201127"
      ]
     },
     "execution_count": 50,
     "metadata": {},
     "output_type": "execute_result"
    }
   ],
   "source": [
    "# 문제 9.위에서 만든 난수 행렬에서 최대값 / 최소값 원소를 찾으세요.\n",
    "ran.max()\n",
    "ran.min()\n"
   ]
  },
  {
   "cell_type": "code",
   "execution_count": 48,
   "metadata": {},
   "outputs": [
    {
     "data": {
      "text/plain": [
       "array([0.50263581, 0.47003194, 0.38108271])"
      ]
     },
     "execution_count": 48,
     "metadata": {},
     "output_type": "execute_result"
    }
   ],
   "source": [
    "# 문제 10.위에서 만든 난수 행렬에서 행 평균, 열 평균을 계산하세요.\n",
    "#열 평균\n",
    "ran.mean(axis=0)"
   ]
  },
  {
   "cell_type": "code",
   "execution_count": 47,
   "metadata": {},
   "outputs": [
    {
     "data": {
      "text/plain": [
       "array([0.19488538, 0.4298507 , 0.72901438])"
      ]
     },
     "execution_count": 47,
     "metadata": {},
     "output_type": "execute_result"
    }
   ],
   "source": [
    "#행 평균\n",
    "ran.mean(axis=1)"
   ]
  },
  {
   "cell_type": "code",
   "execution_count": 153,
   "metadata": {
    "scrolled": true
   },
   "outputs": [
    {
     "name": "stdout",
     "output_type": "stream",
     "text": [
      "<class 'pandas.core.frame.DataFrame'>\n",
      "RangeIndex: 244 entries, 0 to 243\n",
      "Data columns (total 7 columns):\n",
      "total_bill    244 non-null float64\n",
      "tip           244 non-null float64\n",
      "sex           244 non-null object\n",
      "smoker        244 non-null category\n",
      "day           244 non-null category\n",
      "time          244 non-null category\n",
      "size          244 non-null int64\n",
      "dtypes: category(3), float64(2), int64(1), object(1)\n",
      "memory usage: 8.8+ KB\n"
     ]
    }
   ],
   "source": [
    "# [Microsoft R 서버를 활용한 빅데이터 분석]\n",
    "import pandas as pd\n",
    "import seaborn as sns\n",
    "tips = sns.load_dataset(\"tips\") \n",
    "# 1. 위 문장을 모두 수행한 후, 아래와 같은 요구사항을 구현하시오.\n",
    "# 1) tips의 'sex‘ 컬럼의 타입을 문자열로 변환한 다음,\n",
    "# info함수를 호출하여 결과를 확인하시오.\n",
    "#tips.info()\n",
    "#tips.describe\n",
    "\n",
    "#null값 확인 \n",
    "#tips.isnull().sum() \n",
    "\n",
    "tips['sex']=tips['sex'].astype('object')\n",
    "tips.info()"
   ]
  },
  {
   "cell_type": "code",
   "execution_count": 174,
   "metadata": {},
   "outputs": [
    {
     "data": {
      "text/html": [
       "<div>\n",
       "<style scoped>\n",
       "    .dataframe tbody tr th:only-of-type {\n",
       "        vertical-align: middle;\n",
       "    }\n",
       "\n",
       "    .dataframe tbody tr th {\n",
       "        vertical-align: top;\n",
       "    }\n",
       "\n",
       "    .dataframe thead th {\n",
       "        text-align: right;\n",
       "    }\n",
       "</style>\n",
       "<table border=\"1\" class=\"dataframe\">\n",
       "  <thead>\n",
       "    <tr style=\"text-align: right;\">\n",
       "      <th></th>\n",
       "      <th>total_bill</th>\n",
       "      <th>tip</th>\n",
       "      <th>sex</th>\n",
       "      <th>smoker</th>\n",
       "      <th>day</th>\n",
       "      <th>time</th>\n",
       "      <th>size</th>\n",
       "    </tr>\n",
       "  </thead>\n",
       "  <tbody>\n",
       "    <tr>\n",
       "      <td>0</td>\n",
       "      <td>16.99</td>\n",
       "      <td>1.01</td>\n",
       "      <td>Female</td>\n",
       "      <td>No</td>\n",
       "      <td>Sun</td>\n",
       "      <td>Dinner</td>\n",
       "      <td>2</td>\n",
       "    </tr>\n",
       "    <tr>\n",
       "      <td>1</td>\n",
       "      <td>missing</td>\n",
       "      <td>missing</td>\n",
       "      <td>missing</td>\n",
       "      <td>No</td>\n",
       "      <td>Sun</td>\n",
       "      <td>Dinner</td>\n",
       "      <td>3</td>\n",
       "    </tr>\n",
       "    <tr>\n",
       "      <td>2</td>\n",
       "      <td>21.01</td>\n",
       "      <td>3.5</td>\n",
       "      <td>Male</td>\n",
       "      <td>No</td>\n",
       "      <td>Sun</td>\n",
       "      <td>Dinner</td>\n",
       "      <td>3</td>\n",
       "    </tr>\n",
       "    <tr>\n",
       "      <td>3</td>\n",
       "      <td>missing</td>\n",
       "      <td>missing</td>\n",
       "      <td>missing</td>\n",
       "      <td>No</td>\n",
       "      <td>Sun</td>\n",
       "      <td>Dinner</td>\n",
       "      <td>2</td>\n",
       "    </tr>\n",
       "    <tr>\n",
       "      <td>4</td>\n",
       "      <td>24.59</td>\n",
       "      <td>3.61</td>\n",
       "      <td>Female</td>\n",
       "      <td>No</td>\n",
       "      <td>Sun</td>\n",
       "      <td>Dinner</td>\n",
       "      <td>4</td>\n",
       "    </tr>\n",
       "    <tr>\n",
       "      <td>...</td>\n",
       "      <td>...</td>\n",
       "      <td>...</td>\n",
       "      <td>...</td>\n",
       "      <td>...</td>\n",
       "      <td>...</td>\n",
       "      <td>...</td>\n",
       "      <td>...</td>\n",
       "    </tr>\n",
       "    <tr>\n",
       "      <td>239</td>\n",
       "      <td>29.03</td>\n",
       "      <td>5.92</td>\n",
       "      <td>Male</td>\n",
       "      <td>No</td>\n",
       "      <td>Sat</td>\n",
       "      <td>Dinner</td>\n",
       "      <td>3</td>\n",
       "    </tr>\n",
       "    <tr>\n",
       "      <td>240</td>\n",
       "      <td>27.18</td>\n",
       "      <td>2</td>\n",
       "      <td>Female</td>\n",
       "      <td>Yes</td>\n",
       "      <td>Sat</td>\n",
       "      <td>Dinner</td>\n",
       "      <td>2</td>\n",
       "    </tr>\n",
       "    <tr>\n",
       "      <td>241</td>\n",
       "      <td>22.67</td>\n",
       "      <td>2</td>\n",
       "      <td>Male</td>\n",
       "      <td>Yes</td>\n",
       "      <td>Sat</td>\n",
       "      <td>Dinner</td>\n",
       "      <td>2</td>\n",
       "    </tr>\n",
       "    <tr>\n",
       "      <td>242</td>\n",
       "      <td>17.82</td>\n",
       "      <td>1.75</td>\n",
       "      <td>Male</td>\n",
       "      <td>No</td>\n",
       "      <td>Sat</td>\n",
       "      <td>Dinner</td>\n",
       "      <td>2</td>\n",
       "    </tr>\n",
       "    <tr>\n",
       "      <td>243</td>\n",
       "      <td>18.78</td>\n",
       "      <td>3</td>\n",
       "      <td>Female</td>\n",
       "      <td>No</td>\n",
       "      <td>Thur</td>\n",
       "      <td>Dinner</td>\n",
       "      <td>2</td>\n",
       "    </tr>\n",
       "  </tbody>\n",
       "</table>\n",
       "<p>244 rows × 7 columns</p>\n",
       "</div>"
      ],
      "text/plain": [
       "    total_bill      tip      sex smoker   day    time  size\n",
       "0        16.99     1.01   Female     No   Sun  Dinner     2\n",
       "1      missing  missing  missing     No   Sun  Dinner     3\n",
       "2        21.01      3.5     Male     No   Sun  Dinner     3\n",
       "3      missing  missing  missing     No   Sun  Dinner     2\n",
       "4        24.59     3.61   Female     No   Sun  Dinner     4\n",
       "..         ...      ...      ...    ...   ...     ...   ...\n",
       "239      29.03     5.92     Male     No   Sat  Dinner     3\n",
       "240      27.18        2   Female    Yes   Sat  Dinner     2\n",
       "241      22.67        2     Male    Yes   Sat  Dinner     2\n",
       "242      17.82     1.75     Male     No   Sat  Dinner     2\n",
       "243      18.78        3   Female     No  Thur  Dinner     2\n",
       "\n",
       "[244 rows x 7 columns]"
      ]
     },
     "execution_count": 174,
     "metadata": {},
     "output_type": "execute_result"
    }
   ],
   "source": [
    "# 2) tips의 1,3,5,7번 index행에 저장된 tip 컬럼의 값을 모두 ‘missing'으로 변경하시오\n",
    "\n",
    "#tips.loc[[1,3,5,7]]\n",
    "\n",
    "tips.iloc[[1,3,5,7],1] ='missing'\n",
    "tips\n",
    "\n",
    "tips.loc[[1,3,5,7],['tip']] = 'missing'\n",
    "tips"
   ]
  },
  {
   "cell_type": "code",
   "execution_count": null,
   "metadata": {},
   "outputs": [],
   "source": [
    "# 3) scikitlearn에 있는 preprocessing 모듈중 표준화 및 정규화와 관련된 함수를 모두 기술하시오\n",
    "scikitlearn에서 preprocessing\n",
    "StandardScaler(x): 평균이 0과 표준편차가 1이 되도록 변환\n",
    "RobustScaler(x): 중앙값(median)이 0, IQR(Interquartile range)이 1이 되도록 변환.\n",
    "MinMaxScaler(x): 최대값이 각각 1, 최소값이 0이 되도록 변환.\n",
    "MaxAbsScaler(x): 0을 기준으로 절대값이 가장 큰 수가 1또는 -1이 되도록 변환    \n",
    "\n"
   ]
  },
  {
   "cell_type": "code",
   "execution_count": null,
   "metadata": {},
   "outputs": [],
   "source": [
    "# 2. 표준화와 정규화의 차이점을 설명하시오.\n",
    "표준화(Standardization): 데이터가 평균으로부터 얼마나 떨어져 잇는지 나타내는 값으로,\n",
    "특정 범위를 벗어난 데이터는 outlier로 간주, 제거\n",
    "값의 범위: +-1.96(또는 +-2) 사이의 범위.\n",
    "=> 데이터 표준화를 통해 Outlier를 제거한다.\n",
    "공식: 데이터 - 평균 / 표준편차\n",
    "\n",
    "\n",
    "정규화(Normalization): \"0~1\"사이의 범위로 데이터를 표준화\n",
    "=> 데이터의 상대적인 크기 차이를 scale하기 위해.(데이터 상대적 크기 통일) \n",
    "공식: 각 데이터 - 데이터의 최솟값 / 데이터의 최댓값 - 데이터의 최솟값\n",
    "방법: 1)손 공식(공식을 직접 코딩하는 방법). \n",
    "    2) MinMaxScaler 함수 사용.\n",
    "    3) sklearn.preprocessing 패키지 사용.(from sklearn.preprocessing import minmax_scale)"
   ]
  },
  {
   "cell_type": "code",
   "execution_count": null,
   "metadata": {},
   "outputs": [],
   "source": [
    "# 3. 데이터 분석을 위해 필요로 하는 라이브러리 및 용도를 기술하시오.\n",
    "라이브러리: pandas\n",
    "용도: pandas 이용하여 결측값 처리, 평균이나 중앙치로 대체, 이상치 처리, \n",
    "    또한 표준화 작업, 정규화 작업을 통해 데이터 전처리를 할 수있다.\n"
   ]
  },
  {
   "cell_type": "code",
   "execution_count": null,
   "metadata": {},
   "outputs": [],
   "source": [
    "# [파이썬 기본문법과 통계기초]\n",
    "# 다음 실행 예시처럼 교환할 돈을 입력받아서, 최소한의 동전의 개수로 교환해 주는 파이썬 코드를 작성하시오.\n",
    "# 바꿀 돈 -->7777\n",
    "# 500원: 15 , 100원: 2 , 50원: 1 , 10원 2 , 나머지: 7\n",
    "\n",
    "def change_current():\n",
    "    \n",
    "    original_price= int(input(\"교환할 돈 입력: \"))\n",
    "    k=[]\n",
    "    for j in original_price:\n",
    "        if j//500 =k:\n",
    "\n",
    "            print(\"500원: \"+{0}+\" 100원: \"+{1}+\" 50원: \"+{2}+\"\".format(k))\n",
    "        "
   ]
  },
  {
   "cell_type": "code",
   "execution_count": 179,
   "metadata": {},
   "outputs": [
    {
     "name": "stdout",
     "output_type": "stream",
     "text": [
      "500원: 1 100원: 2 50원: 3\n"
     ]
    }
   ],
   "source": [
    "print(\"500원: {0} 100원: {1} 50원: {2}\".format(1,2,3))"
   ]
  },
  {
   "cell_type": "code",
   "execution_count": 186,
   "metadata": {},
   "outputs": [
    {
     "name": "stdout",
     "output_type": "stream",
     "text": [
      "금액을 입력하세요:777\n",
      "cash= 777  500원: 1  100원: 2  10원: 7  1원: 7\n"
     ]
    }
   ],
   "source": [
    "# [파이썬 기본문법과 통계기초]\n",
    "# 다음 실행 예시처럼 교환할 돈을 입력받아서, 최소한의 동전의 개수로 교환해 주는 파이썬 코드를 작성하시오.\n",
    "# 바꿀 돈 -->7777\n",
    "# 500원: 15 , 100원: 2 , 50원: 1 , 10원 2 , 나머지: 7\n",
    "\n",
    "cash=int(input(\"금액을 입력하세요:\"));\n",
    "\n",
    "#기존 화폐 저장\n",
    "cash_org=cash;\n",
    "\n",
    "#금액별 화폐수 분류\n",
    "c500=cash//500;\n",
    "cash=cash-c500*500;\n",
    "c100=cash//100;\n",
    "cash=cash-c100*100;\n",
    "c10=cash//10;\n",
    "cash=cash-c10*10;\n",
    "c1=cash//1;\n",
    "cash=cash-c1*1;\n",
    "print(\"cash=\",cash_org,\" 500원:\",c500,\" 100원:\",c100,\" 10원:\",c10,\" 1원:\",c1)"
   ]
  },
  {
   "cell_type": "code",
   "execution_count": 180,
   "metadata": {},
   "outputs": [
    {
     "name": "stdout",
     "output_type": "stream",
     "text": [
      "거스름돈 입력 : 300\n",
      "500원\t: 0 개\n",
      "100원\t: 3 개\n",
      "50원\t: 0 개\n",
      "10원\t: 0 개\n",
      "1원\t: 0 개\n"
     ]
    }
   ],
   "source": [
    "x = int( input('거스름돈 입력 : ') )\n",
    " \n",
    "if x <= 0:\n",
    "    print('거스름돈 없음')\n",
    "    \n",
    "y500 = x//500; x %= 500\n",
    "y100 = x//100; x %= 100\n",
    "y50 = x//50; x %= 50\n",
    "y10 = x//10; x %= 10\n",
    "y1 = x\n",
    " \n",
    "print('500원\\t:', y500, '개')\n",
    "print('100원\\t:', y100, '개')\n",
    "print('50원\\t:', y50, '개')\n",
    "print('10원\\t:', y10, '개')\n",
    "print('1원\\t:', y1, '개')"
   ]
  },
  {
   "cell_type": "code",
   "execution_count": 110,
   "metadata": {},
   "outputs": [
    {
     "data": {
      "text/plain": [
       "<matplotlib.axes._subplots.AxesSubplot at 0x20da2f5da88>"
      ]
     },
     "execution_count": 110,
     "metadata": {},
     "output_type": "execute_result"
    },
    {
     "data": {
      "image/png": "[encoded data removed]",
      "text/plain": [
       "<Figure size 1296x1080 with 2 Axes>"
      ]
     },
     "metadata": {
      "needs_background": "light"
     },
     "output_type": "display_data"
    }
   ],
   "source": [
    "# [파이썬 기본문법과 통계기초]\n",
    "# bike sharing command 데이터를 불러온 후, \n",
    "# workingday 및 dayofweek에 대한 \n",
    "# 시간대별 자전거 이용자 수(count)를 시각화하는 프로그램을 작성하시오.\n",
    "import pandas as pd\n",
    "import matplotlib.pyplot as plt\n",
    "import seaborn as sns\n",
    "from scipy import stats\n",
    "train=pd.read_csv('bk_train.csv',parse_dates=[\"datetime\"]) #object-> datetime64[ns]\n",
    "\n",
    "train['year']=train['datetime'].dt.year\n",
    "train['month']=train['datetime'].dt.month\n",
    "train['day']=train['datetime'].dt.day\n",
    "train['hour']=train['datetime'].dt.hour\n",
    "train['minute']=train['datetime'].dt.minute\n",
    "train['second']=train['datetime'].dt.second\n",
    "train['dayofweek']=train['datetime'].dt.dayofweek\n",
    "\n",
    "fig,(ax1, ax2)=plt.subplots(nrows=2)\n",
    "fig.set_size_inches(18,15)\n",
    "sns.pointplot(data=train, x='hour', y='count', hue='workingday', ax=ax1)\n",
    "sns.pointplot(data=train, x='hour', y='count', hue='dayofweek',ax=ax2)\n"
   ]
  },
  {
   "cell_type": "code",
   "execution_count": null,
   "metadata": {},
   "outputs": [],
   "source": []
  }
 ],
 "metadata": {
  "kernelspec": {
   "display_name": "Python 3",
   "language": "python",
   "name": "python3"
  },
  "language_info": {
   "codemirror_mode": {
    "name": "ipython",
    "version": 3
   },
   "file_extension": ".py",
   "mimetype": "text/x-python",
   "name": "python",
   "nbconvert_exporter": "python",
   "pygments_lexer": "ipython3",
   "version": "3.7.4"
  }
 },
 "nbformat": 4,
 "nbformat_minor": 2
}
