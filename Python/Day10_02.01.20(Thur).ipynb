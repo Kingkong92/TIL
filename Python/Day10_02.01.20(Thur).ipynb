{
 "cells": [
  {
   "cell_type": "code",
   "execution_count": 11,
   "metadata": {},
   "outputs": [],
   "source": [
    "#scraping uses BeautifulSoup \n",
    "from bs4 import BeautifulSoup"
   ]
  },
  {
   "cell_type": "code",
   "execution_count": 4,
   "metadata": {},
   "outputs": [],
   "source": [
    "html=\"\"\"\n",
    "<html><body>\n",
    "<h1>스크래핑</h1>\n",
    "<p>웹 페이지 분석</p>\n",
    "<p>원하는 부분 추출</p>\n",
    "</body></html>\n",
    "\"\"\"\n",
    "soup= BeautifulSoup(html, 'html.parser') #parser가 분석해준다.\n",
    "#html 문서 분석\n",
    "\n"
   ]
  },
  {
   "cell_type": "code",
   "execution_count": 16,
   "metadata": {},
   "outputs": [],
   "source": [
    "h1=soup.html.body.h1 #단계적으로 내려간다.\n",
    "p1=soup.html.body.p # 가장 처음으로 만나는 p태그만 나온다. \n",
    "#print(p1.next_sibling.next_sibling)# p1-> Enter(\\n) -> next_sibling\n",
    "#soup.html.body.p # 원하는 부분 추출(같은 태그로 감싸져있는것-> 형제 태그) 하려고 하면 \n",
    "p2=p1.next_sibling.next_sibling"
   ]
  },
  {
   "cell_type": "code",
   "execution_count": 20,
   "metadata": {},
   "outputs": [
    {
     "data": {
      "text/plain": [
       "'원하는 부분 추출'"
      ]
     },
     "execution_count": 20,
     "metadata": {},
     "output_type": "execute_result"
    }
   ],
   "source": [
    "#< > 없애려면 \".string\" 해준다\n",
    "p1.string\n",
    "p2.string"
   ]
  },
  {
   "cell_type": "code",
   "execution_count": 23,
   "metadata": {},
   "outputs": [],
   "source": [
    "#find함수: Id를 이용하여 직접 접근\n",
    "\n",
    "html=\"\"\"\n",
    "<html><body>\n",
    "<h1 id=\"title\">스크래핑</h1>\n",
    "<p id=\"body\">웹 페이지 분석</p>\n",
    "<p>원하는 부분 추출</p>\n",
    "</body></html>\n",
    "\"\"\"\n",
    "soup= BeautifulSoup(html, 'html.parser') #parser가 분석해준다.\n",
    "#html 문서 분석\n"
   ]
  },
  {
   "cell_type": "code",
   "execution_count": 29,
   "metadata": {},
   "outputs": [
    {
     "name": "stdout",
     "output_type": "stream",
     "text": [
      "title=스크래핑\n",
      "body=웹 페이지 분석\n"
     ]
    }
   ],
   "source": [
    "title= soup.find(id=\"title\")\n",
    "body= soup.find(id=\"body\")\n",
    "\n",
    "print(\"title=\"+title.string)\n",
    "print(\"body=\"+body.string)"
   ]
  },
  {
   "cell_type": "code",
   "execution_count": 31,
   "metadata": {},
   "outputs": [],
   "source": [
    "#find_all():여러 개의 태그를 한번에 추출\n",
    "html=\"\"\"\n",
    "<html><body>\n",
    "<ul> \n",
    "<li><a href=\"http://www.naver.com\">naver</a></li>\n",
    "<li><a href=\"http://www.daum.net\">daum</a></li>\n",
    "</ul>\n",
    "</body></html>\n",
    "\"\"\"\n",
    "#ul - unordered list, ol-ordered list\n",
    "#a - anchor 닻\n",
    "#href ->attribute, 속성"
   ]
  },
  {
   "cell_type": "code",
   "execution_count": 174,
   "metadata": {},
   "outputs": [
    {
     "name": "stdout",
     "output_type": "stream",
     "text": [
      "test -> test.html\n",
      "test2 -> https://test.html\n",
      "test3 -> https://test.html\n",
      "test4 -> http://test.html\n"
     ]
    },
    {
     "data": {
      "text/plain": [
       "\n",
       "<li><a href=\"test.html\">test</a></li>\n",
       "<li><a href=\"https://test.html\">test2</a></li>\n",
       "<li><a href=\"https://test.html\">test3</a></li>\n",
       "<li><a href=\"http://test.html\">test4</a></li>"
      ]
     },
     "execution_count": 174,
     "metadata": {},
     "output_type": "execute_result"
    }
   ],
   "source": [
    "soup=BeautifulSoup(html, \"html.parser\")\n",
    "links=soup.find_all(\"a\") #특정 태그를 찾을때 find_all함수 사용해서 찾을 수 있다.\n",
    "#결과값 리스트로 나온다.\n",
    "\n",
    "for a in links:\n",
    "    #if 'href' in a.attrs: # a태그에서 href 속성이 존재하는지 파악하기 위해.\n",
    "    href=a.attrs['href']\n",
    "    text=a.string\n",
    "    print(text, \"->\", href)\n",
    "    #print(href) #링크나와서 바로 연결 가능\n",
    "    \n",
    "soup    \n",
    "# naver -> http://www.naver.com\n",
    "# daum -> http://www.daum.net    \n",
    "    "
   ]
  },
  {
   "cell_type": "code",
   "execution_count": 8,
   "metadata": {},
   "outputs": [],
   "source": [
    "#기상예보에서 특정 내용 추출\n",
    "\n"
   ]
  },
  {
   "cell_type": "code",
   "execution_count": 14,
   "metadata": {},
   "outputs": [],
   "source": [
    "import urllib.request as req\n",
    "\n",
    "url=\"http://www.kma.go.kr/weather/forecast/mid-term-rss3.jsp\""
   ]
  },
  {
   "cell_type": "code",
   "execution_count": 17,
   "metadata": {},
   "outputs": [
    {
     "data": {
      "text/plain": [
       "'기압골의 영향으로 6일부터 8일 사이에 전국에 비 또는 눈이 오겠고, 제주도는 10~11일에도 비가 오겠습니다. <br />한편, 동풍의 영향으로 9일은 강원영동에 비 또는 눈이 오겠습니다. 그 밖의 날은 고기압의 가장자리에 들어 가끔 구름많겠습니다.<br />기온은 평년(최저기온: -12~0℃, 최고기온: 0~8℃)보다 높겠습니다.<br />강수량은 평년(0~3mm)보다 많겠습니다.'"
      ]
     },
     "execution_count": 17,
     "metadata": {},
     "output_type": "execute_result"
    }
   ],
   "source": [
    "res=req.urlopen(url)\n",
    "soup=BeautifulSoup(res, 'html.parser')\n",
    "soup\n",
    "\n",
    "#title검색\n",
    "# soup.title\n",
    "# soup.title.string\n",
    "# title= soup.find(\"title\")\n",
    "# title= soup.find(\"title\").string\n",
    "# print(\"title=\"+title.string)\n",
    "\n",
    "#wf태그값 추출\n",
    "soup.find('wf').string #string 붙이면 문자열로 추출(전처리)\n",
    "#자연어 처리(한글은 형태소 분류- 자리 형태소, 의존 형태소. 영어랑 다르다.)\n",
    "#데이터 전처리할때 불필요한것들 빼는것들 지금 연습했었다.\n",
    "\n",
    "#오후: 영문, 숫자 포함하여 특수문자 모두 제거(한글 제외)\n"
   ]
  },
  {
   "cell_type": "code",
   "execution_count": 60,
   "metadata": {},
   "outputs": [],
   "source": [
    "#CSS 선택자(크롬->개발자도구->객체선택->copy selector) 사용하기\n",
    "# soup.select_one(선택자):선택자로 지정된 요소 하나를 추출\n",
    "# soup.select(선택자):선택자로 지정된 여러 개 요소를 추출\n",
    "\n",
    "html=\"\"\"\n",
    "<html>\n",
    "    <body>\n",
    "        <div id=\"myid\">\n",
    "            <h1>2020년</h1>\n",
    "            <ul class ='day'>\n",
    "                <li>월요일/<li>\n",
    "                <li>화요일/<li>\n",
    "                <li>수요일/<li>\n",
    "            </ul>\n",
    "        </div>\n",
    "    </body>\n",
    "</html>\n",
    "\"\"\"\n"
   ]
  },
  {
   "cell_type": "code",
   "execution_count": 61,
   "metadata": {
    "scrolled": true
   },
   "outputs": [
    {
     "name": "stdout",
     "output_type": "stream",
     "text": [
      "2020년\n",
      "None\n"
     ]
    }
   ],
   "source": [
    "soup= BeautifulSoup(html, 'html.parser')\n",
    "#print(soup.select_one(\"div#myid h1\")) #div tag가 여러개일 경우, id로 구분\n",
    "# print(soup.select_one(\"div#myid > h1\")) #div tag 밑에 하위는 공백이나, 꺽새로 구분해도 된다.\n",
    "print(soup.select_one(\"div#myid h1\").string)\n",
    "# print(soup.select(\"div#myid ul.day >li\"))\n",
    "\n",
    "myList= soup.select(\"div#myid > ul.day >li\")\n",
    "for a in myList:\n",
    "    print(a.string)\n",
    "    "
   ]
  },
  {
   "cell_type": "markdown",
   "metadata": {},
   "source": [
    "import urllib.request as req\n",
    "\n",
    "url=\"https://finance.yahoo.com/quote/005930.KS?p=005930.KS&.tsrc=fin-srch\"\n",
    "res=req.urlopen(url)\n",
    "soup=BeautifulSoup(res, 'html.parser')\n",
    "print(soup.select(\"span\"))"
   ]
  },
  {
   "cell_type": "code",
   "execution_count": 68,
   "metadata": {},
   "outputs": [
    {
     "data": {
      "text/plain": [
       "'55,400.00'"
      ]
     },
     "execution_count": 68,
     "metadata": {},
     "output_type": "execute_result"
    }
   ],
   "source": [
    "import urllib.request as reqrtphone_Mt\\(6px\\) > div > span').string\n",
    "\n",
    "url=\"https://finance.yahoo.com/quote/005930.KS?p=005930.KS&.tsrc=fin-srch\"\n",
    "res=req.urlopen(url)\n",
    "soup=BeautifulSoup(res, 'html.parser')\n",
    "#soup.select(\"quote-header-info >div\")[2]\n",
    "soup.select_one(\"#quote-header-info > div.My\\(6px\\).Pos\\(r\\).smartphone_Mt\\(6px\\) > div > span\").string\n"
   ]
  },
  {
   "cell_type": "code",
   "execution_count": 110,
   "metadata": {},
   "outputs": [
    {
     "name": "stdout",
     "output_type": "stream",
     "text": [
      "서시\n",
      "자화상\n",
      "소년\n",
      "눈 오는 지도\n",
      "돌아와 보는 밤\n",
      "병원\n",
      "새로운 길\n",
      "간판 없는 거리\n",
      "태초의 아침\n",
      "또 태초의 아침\n",
      "새벽이 올 때까지\n",
      "무서운 시간\n",
      "십자가\n",
      "바람이 불어\n",
      "슬픈 족속\n",
      "눈감고 간다\n",
      "또 다른 고향\n",
      "길\n",
      "별 헤는 밤\n"
     ]
    }
   ],
   "source": [
    "url=\"https://ko.wikisource.org/wiki/%EC%A0%80%EC%9E%90:%EC%9C%A4%EB%8F%99%EC%A3%BC\"\n",
    "res=req.urlopen(url)\n",
    "soup=BeautifulSoup(res, 'html.parser')\n",
    "#print(soup.select_one(\"#mw-content-text > div > ul:nth-child(6) > li\").text)\n",
    "myList =soup.select(\"#mw-content-text > div > ul:nth-child(6) > li > ul > li > a\")\n",
    "myList\n",
    "for a in myList:\n",
    "    print(a.string)"
   ]
  },
  {
   "cell_type": "code",
   "execution_count": 111,
   "metadata": {
    "scrolled": false
   },
   "outputs": [
    {
     "data": {
      "text/plain": [
       "[<li><b><a href=\"/wiki/%ED%95%98%EB%8A%98%EA%B3%BC_%EB%B0%94%EB%9E%8C%EA%B3%BC_%EB%B3%84%EA%B3%BC_%EC%8B%9C\" title=\"하늘과 바람과 별과 시\">하늘과 바람과 별과 시</a></b> (<a href=\"/wiki/%ED%95%98%EB%8A%98%EA%B3%BC_%EB%B0%94%EB%9E%8C%EA%B3%BC_%EB%B3%84%EA%B3%BC_%EC%8B%9C_(1955%EB%85%84)\" title=\"하늘과 바람과 별과 시 (1955년)\">증보판</a>)\n",
       " <ul><li><a href=\"/wiki/%ED%95%98%EB%8A%98%EA%B3%BC_%EB%B0%94%EB%9E%8C%EA%B3%BC_%EB%B3%84%EA%B3%BC_%EC%8B%9C/%EC%84%9C%EC%8B%9C\" title=\"하늘과 바람과 별과 시/서시\">서시</a></li>\n",
       " <li><a href=\"/wiki/%ED%95%98%EB%8A%98%EA%B3%BC_%EB%B0%94%EB%9E%8C%EA%B3%BC_%EB%B3%84%EA%B3%BC_%EC%8B%9C/%EC%9E%90%ED%99%94%EC%83%81\" title=\"하늘과 바람과 별과 시/자화상\">자화상</a></li>\n",
       " <li><a href=\"/wiki/%ED%95%98%EB%8A%98%EA%B3%BC_%EB%B0%94%EB%9E%8C%EA%B3%BC_%EB%B3%84%EA%B3%BC_%EC%8B%9C/%EC%86%8C%EB%85%84\" title=\"하늘과 바람과 별과 시/소년\">소년</a></li>\n",
       " <li><a href=\"/wiki/%ED%95%98%EB%8A%98%EA%B3%BC_%EB%B0%94%EB%9E%8C%EA%B3%BC_%EB%B3%84%EA%B3%BC_%EC%8B%9C/%EB%88%88_%EC%98%A4%EB%8A%94_%EC%A7%80%EB%8F%84\" title=\"하늘과 바람과 별과 시/눈 오는 지도\">눈 오는 지도</a></li>\n",
       " <li><a href=\"/wiki/%ED%95%98%EB%8A%98%EA%B3%BC_%EB%B0%94%EB%9E%8C%EA%B3%BC_%EB%B3%84%EA%B3%BC_%EC%8B%9C/%EB%8F%8C%EC%95%84%EC%99%80_%EB%B3%B4%EB%8A%94_%EB%B0%A4\" title=\"하늘과 바람과 별과 시/돌아와 보는 밤\">돌아와 보는 밤</a></li>\n",
       " <li><a href=\"/wiki/%ED%95%98%EB%8A%98%EA%B3%BC_%EB%B0%94%EB%9E%8C%EA%B3%BC_%EB%B3%84%EA%B3%BC_%EC%8B%9C/%EB%B3%91%EC%9B%90\" title=\"하늘과 바람과 별과 시/병원\">병원</a></li>\n",
       " <li><a href=\"/wiki/%ED%95%98%EB%8A%98%EA%B3%BC_%EB%B0%94%EB%9E%8C%EA%B3%BC_%EB%B3%84%EA%B3%BC_%EC%8B%9C/%EC%83%88%EB%A1%9C%EC%9A%B4_%EA%B8%B8\" title=\"하늘과 바람과 별과 시/새로운 길\">새로운 길</a></li>\n",
       " <li><a href=\"/wiki/%ED%95%98%EB%8A%98%EA%B3%BC_%EB%B0%94%EB%9E%8C%EA%B3%BC_%EB%B3%84%EA%B3%BC_%EC%8B%9C/%EA%B0%84%ED%8C%90_%EC%97%86%EB%8A%94_%EA%B1%B0%EB%A6%AC\" title=\"하늘과 바람과 별과 시/간판 없는 거리\">간판 없는 거리</a></li>\n",
       " <li><a href=\"/wiki/%ED%95%98%EB%8A%98%EA%B3%BC_%EB%B0%94%EB%9E%8C%EA%B3%BC_%EB%B3%84%EA%B3%BC_%EC%8B%9C/%ED%83%9C%EC%B4%88%EC%9D%98_%EC%95%84%EC%B9%A8\" title=\"하늘과 바람과 별과 시/태초의 아침\">태초의 아침</a></li>\n",
       " <li><a href=\"/wiki/%ED%95%98%EB%8A%98%EA%B3%BC_%EB%B0%94%EB%9E%8C%EA%B3%BC_%EB%B3%84%EA%B3%BC_%EC%8B%9C/%EB%98%90_%ED%83%9C%EC%B4%88%EC%9D%98_%EC%95%84%EC%B9%A8\" title=\"하늘과 바람과 별과 시/또 태초의 아침\">또 태초의 아침</a></li>\n",
       " <li><a href=\"/wiki/%ED%95%98%EB%8A%98%EA%B3%BC_%EB%B0%94%EB%9E%8C%EA%B3%BC_%EB%B3%84%EA%B3%BC_%EC%8B%9C/%EC%83%88%EB%B2%BD%EC%9D%B4_%EC%98%AC_%EB%95%8C%EA%B9%8C%EC%A7%80\" title=\"하늘과 바람과 별과 시/새벽이 올 때까지\">새벽이 올 때까지</a></li>\n",
       " <li><a href=\"/wiki/%ED%95%98%EB%8A%98%EA%B3%BC_%EB%B0%94%EB%9E%8C%EA%B3%BC_%EB%B3%84%EA%B3%BC_%EC%8B%9C/%EB%AC%B4%EC%84%9C%EC%9A%B4_%EC%8B%9C%EA%B0%84\" title=\"하늘과 바람과 별과 시/무서운 시간\">무서운 시간</a></li>\n",
       " <li><a href=\"/wiki/%ED%95%98%EB%8A%98%EA%B3%BC_%EB%B0%94%EB%9E%8C%EA%B3%BC_%EB%B3%84%EA%B3%BC_%EC%8B%9C/%EC%8B%AD%EC%9E%90%EA%B0%80\" title=\"하늘과 바람과 별과 시/십자가\">십자가</a></li>\n",
       " <li><a href=\"/wiki/%ED%95%98%EB%8A%98%EA%B3%BC_%EB%B0%94%EB%9E%8C%EA%B3%BC_%EB%B3%84%EA%B3%BC_%EC%8B%9C/%EB%B0%94%EB%9E%8C%EC%9D%B4_%EB%B6%88%EC%96%B4\" title=\"하늘과 바람과 별과 시/바람이 불어\">바람이 불어</a></li>\n",
       " <li><a href=\"/wiki/%ED%95%98%EB%8A%98%EA%B3%BC_%EB%B0%94%EB%9E%8C%EA%B3%BC_%EB%B3%84%EA%B3%BC_%EC%8B%9C/%EC%8A%AC%ED%94%88_%EC%A1%B1%EC%86%8D\" title=\"하늘과 바람과 별과 시/슬픈 족속\">슬픈 족속</a></li>\n",
       " <li><a href=\"/wiki/%ED%95%98%EB%8A%98%EA%B3%BC_%EB%B0%94%EB%9E%8C%EA%B3%BC_%EB%B3%84%EA%B3%BC_%EC%8B%9C/%EB%88%88%EA%B0%90%EA%B3%A0_%EA%B0%84%EB%8B%A4\" title=\"하늘과 바람과 별과 시/눈감고 간다\">눈감고 간다</a></li>\n",
       " <li><a href=\"/wiki/%ED%95%98%EB%8A%98%EA%B3%BC_%EB%B0%94%EB%9E%8C%EA%B3%BC_%EB%B3%84%EA%B3%BC_%EC%8B%9C/%EB%98%90_%EB%8B%A4%EB%A5%B8_%EA%B3%A0%ED%96%A5\" title=\"하늘과 바람과 별과 시/또 다른 고향\">또 다른 고향</a></li>\n",
       " <li><a href=\"/wiki/%ED%95%98%EB%8A%98%EA%B3%BC_%EB%B0%94%EB%9E%8C%EA%B3%BC_%EB%B3%84%EA%B3%BC_%EC%8B%9C/%EA%B8%B8\" title=\"하늘과 바람과 별과 시/길\">길</a></li>\n",
       " <li><a href=\"/wiki/%ED%95%98%EB%8A%98%EA%B3%BC_%EB%B0%94%EB%9E%8C%EA%B3%BC_%EB%B3%84%EA%B3%BC_%EC%8B%9C/%EB%B3%84_%ED%97%A4%EB%8A%94_%EB%B0%A4\" title=\"하늘과 바람과 별과 시/별 헤는 밤\">별 헤는 밤</a></li></ul></li>]"
      ]
     },
     "execution_count": 111,
     "metadata": {},
     "output_type": "execute_result"
    }
   ],
   "source": [
    "# li > a: li태그 내부에 있는 a 태그\n",
    "# li a : 모든 li 태그 내에 있는 a 태그\n",
    "soup.select(\"#mw-content-text > div > ul:nth-child(6) > li \")\n"
   ]
  },
  {
   "cell_type": "code",
   "execution_count": 112,
   "metadata": {},
   "outputs": [],
   "source": [
    "html=\"\"\"\n",
    "<ul id =\"language\">\n",
    "    <li id=\"bas\">Basic</li>\n",
    "    <li id=\"cpp\">C++</li>\n",
    "    <li id=\"ja\">Java</li>\n",
    "    <li id=\"py\">Python</li>\n",
    "    <li id=\"sp\">Spark</li>\n",
    "</ul>\n",
    "\"\"\""
   ]
  },
  {
   "cell_type": "code",
   "execution_count": 113,
   "metadata": {},
   "outputs": [
    {
     "data": {
      "text/plain": [
       "\n",
       "<ul id=\"language\">\n",
       "<li id=\"bas\">Basic</li>\n",
       "<li id=\"cpp\">C++</li>\n",
       "<li id=\"ja\">Java</li>\n",
       "<li id=\"py\">Python</li>\n",
       "<li id=\"sp\">Spark</li>\n",
       "</ul>"
      ]
     },
     "execution_count": 113,
     "metadata": {},
     "output_type": "execute_result"
    }
   ],
   "source": [
    "sel=BeautifulSoup(html, \"html.parser\")\n",
    "sel\n",
    "\n",
    "\n"
   ]
  },
  {
   "cell_type": "code",
   "execution_count": 131,
   "metadata": {
    "scrolled": true
   },
   "outputs": [
    {
     "name": "stdout",
     "output_type": "stream",
     "text": [
      "Python\n",
      "Python\n",
      "Python\n",
      "Python\n",
      "Python\n",
      "Python\n",
      "Python\n",
      "Python\n",
      "Python\n",
      "Python\n"
     ]
    },
    {
     "data": {
      "text/plain": [
       "[<li id=\"bas\">Basic</li>,\n",
       " <li id=\"cpp\">C++</li>,\n",
       " <li id=\"ja\">Java</li>,\n",
       " <li id=\"py\">Python</li>,\n",
       " <li id=\"sp\">Spark</li>]"
      ]
     },
     "execution_count": 131,
     "metadata": {},
     "output_type": "execute_result"
    }
   ],
   "source": [
    "print(sel.select_one(\"#py\").string) #id 참조 #Python\n",
    "\n",
    "myFunc=lambda arg:print(sel. select_one(arg).string)\n",
    "myFunc(\"#py\") #Python\n",
    "myFunc(\"li#py\")  #Python\n",
    "myFunc(\"ul>li#py\") #Python\n",
    "myFunc(\"#language #py\")#Python\n",
    "myFunc(\"#language > #py\")\n",
    "myFunc(\"ul#language > li#py\")\n",
    "myFunc(\"li[id='py']\")\n",
    "myFunc(\"li:nth-of-type(4)\")\n",
    "print(sel.select(\"li\")[3].string)\n",
    "sel.find_all(\"li\")\n"
   ]
  },
  {
   "cell_type": "code",
   "execution_count": 141,
   "metadata": {},
   "outputs": [],
   "source": [
    "fp=open(\"fri-veg.html\",encoding='utf-8')\n"
   ]
  },
  {
   "cell_type": "code",
   "execution_count": 142,
   "metadata": {},
   "outputs": [
    {
     "data": {
      "text/plain": [
       "<!DOCTYPE html>\n",
       "\n",
       "<html lang=\"en\">\n",
       "<head>\n",
       "<meta charset=\"utf-8\"/>\n",
       "<title>Title</title>\n",
       "</head>\n",
       "<body>\n",
       "<div id='main-goods\"' role=\"page\">\n",
       "<h1>과일과 야채</h1>\n",
       "<ul id=\"fr\">\n",
       "<li class=\"red green\" data-lo=\"ko\"> 사과</li>\n",
       "<li class=\"purple\" data-lo=\"us\"> 포도</li>\n",
       "<li class=\"yellow\" data-lo=\"us\"> 레몬</li>\n",
       "<li class=\"yellow\" data-lo=\"ko\"> 오렌지</li>\n",
       "</ul>\n",
       "<ul id=\"ve\">\n",
       "<li class=\"white green\" data-lo=\"ko\"> 무</li>\n",
       "<li class=\"red green\" data-lo=\"us\"> 파프리카</li>\n",
       "<li class=\"black\" data-lo=\"ko\"> 가지</li>\n",
       "<li class=\"black\" data-lo=\"us\"> 아보카도</li>\n",
       "<li class=\"white\" data-lo=\"cn\"> 연근</li>\n",
       "</ul>\n",
       "</div>\n",
       "</body>\n",
       "</html>"
      ]
     },
     "execution_count": 142,
     "metadata": {},
     "output_type": "execute_result"
    }
   ],
   "source": [
    "soup=BeautifulSoup(fp, 'html.parser')\n",
    "soup"
   ]
  },
  {
   "cell_type": "code",
   "execution_count": 170,
   "metadata": {},
   "outputs": [
    {
     "name": "stdout",
     "output_type": "stream",
     "text": [
      " 아보카도\n",
      " 아보카도\n",
      " 아보카도\n",
      " 아보카도\n"
     ]
    },
    {
     "data": {
      "text/plain": [
       "' 아보카도'"
      ]
     },
     "execution_count": 170,
     "metadata": {},
     "output_type": "execute_result"
    }
   ],
   "source": [
    "#아보카도 추출하기\n",
    "# print(soup.select_one(\"li:nth-of-type(8)\").string)\n",
    "print(soup.select_one(\"#ve > li:nth-of-type(4)\").string)\n",
    "print(soup.select(\"#ve > li[data-lo='us']\")[1].string)\n",
    "print(soup.select(\"#ve > li.black\")[1].string) #class를 이용해 참조한 경우.\n",
    "\n",
    "#find 매서드\n",
    "cond={'data-lo': 'us','class':'black'}\n",
    "print(soup.find(\"li\",cond).string)\n",
    "\n",
    "soup.find(id=\"ve\").find(\"li\", cond).string\n"
   ]
  },
  {
   "cell_type": "code",
   "execution_count": 172,
   "metadata": {},
   "outputs": [],
   "source": [
    "#정규표현식과 함께 데이터 추출\n",
    "html=\"\"\"\n",
    "<li><a href=\"test.html\">test</li>\n",
    "<li><a href=\"https://test.html\">test2</li>\n",
    "<li><a href=\"https://test.html\">test3</li>\n",
    "<li><a href=\"http://test.html\">test4</li>\n",
    "\n",
    "\"\"\""
   ]
  },
  {
   "cell_type": "code",
   "execution_count": 173,
   "metadata": {},
   "outputs": [
    {
     "name": "stdout",
     "output_type": "stream",
     "text": [
      "[<a href=\"https://test.html\">test2</a>, <a href=\"https://test.html\">test3</a>]\n"
     ]
    }
   ],
   "source": [
    "import re\n",
    "\n",
    "soup=BeautifulSoup(html, \"html.parser\")\n",
    "li=soup.find_all(href=re.compile(\"https://\"))\n",
    "print(li)\n"
   ]
  },
  {
   "cell_type": "code",
   "execution_count": 3,
   "metadata": {},
   "outputs": [
    {
     "name": "stdout",
     "output_type": "stream",
     "text": [
      "3 2\n",
      "(0, 0)\n"
     ]
    }
   ],
   "source": [
    "#문제 1번 & 2번\n",
    "class Point(): #Point Class generate(포인트 객체 생성)\n",
    "    def __init__(self, x,y): #객체가 생성될때 생성되는 생성자 메서드(self)\n",
    "        self.x = x #self.x 와 x와 다른것이다. 'x'는 지역변수(self,x,y)에 있는 x. self x는 객체가 가지고 있는 고유 속성.\n",
    "        self.y = y\n",
    "    \n",
    "    def setx(self, x):\n",
    "        self.x = x\n",
    "        \n",
    "    def sety(self, y):\n",
    "        self.y = y\n",
    "    \n",
    "    def get(self):\n",
    "        print(self.x,self.y)\n",
    "        return (self.x, self.y)\n",
    "    \n",
    "    def move(self, dx, dy):\n",
    "        x=self.x+ dx\n",
    "        y=self.y+ dy\n",
    "        return (x, y)\n",
    "    \n",
    "p=Point(3,2) # p가 객체, self로 \n",
    "p.get()\n",
    "p.setx(7)\n",
    "p.sety(5)\n",
    "res= p.move(-7,-5)\n",
    "print(res)"
   ]
  },
  {
   "cell_type": "code",
   "execution_count": 89,
   "metadata": {},
   "outputs": [],
   "source": [
    "#문제 3번\n",
    "#1부터 10까지의 숫자를 각 라인 단위로 파일에 출력하는 프로그램을 작성하세요.\n",
    "\n",
    "with open(\"C:/Users/student/Downloads/Park_Jupyter/number.txt\",\"w\") as f:\n",
    "    for i in range(1,11):\n",
    "        f.write(str(i)+\"\\n\")\n",
    "        \n"
   ]
  },
  {
   "cell_type": "code",
   "execution_count": 93,
   "metadata": {},
   "outputs": [
    {
     "name": "stdout",
     "output_type": "stream",
     "text": [
      "insert path address: C:/Users/student/Downloads/Park_Jupyter\n",
      "File generates\n"
     ]
    }
   ],
   "source": [
    "#문제 4번. 사용자에게 경로를 입력받은 후 해당 경로에 있는 디렉터리와 파일 목록을 flist.txt라는 파일로 출력하는 함수를 작성하세요.\n",
    "import glob\n",
    "path=input(\"insert path address: \")\n",
    "file_list= glob.glob(path+\"*\") \n",
    "\n",
    "with open(path+\"/filst.txt\",\"w\") as f:\n",
    "    for i in file_list:\n",
    "        \n",
    "        f.write(i+\"\\n\")\n",
    "print(\"File generates\")"
   ]
  },
  {
   "cell_type": "code",
   "execution_count": 50,
   "metadata": {},
   "outputs": [
    {
     "name": "stdout",
     "output_type": "stream",
     "text": [
      "['1984년 12월 22일']\n",
      "['1988년 3월 1일']\n",
      "['1995년 3월 11일']\n",
      "['2006년 7월 31일', '2006년 8월 7일']\n",
      "['2008년 6~7월']\n",
      "['2009년 8월 15일']\n",
      "['2011년 11월 4일']\n",
      "['2016년 3월 6일']\n"
     ]
    }
   ],
   "source": [
    "#문제 5번. 윤동주 시인 방송 출연\n",
    "import urllib.request as req\n",
    "import re\n",
    "from bs4 import BeautifulSoup\n",
    "\n",
    "url=\"https://ko.wikipedia.org/wiki/%EC%9C%A4%EB%8F%99%EC%A3%BC\"\n",
    "res=req.urlopen(url)\n",
    "soup=BeautifulSoup(res, 'html.parser')\n",
    "myList=soup.select(\"#mw-content-text > div > ul:nth-child(71) >li\")\n",
    "myList\n",
    "\n",
    "for a in myList:\n",
    "    t = a.text\n",
    "    pat=re.compile(\"\\d+년 \\d*[~]*\\d*월\\s*\\d*일*\")\n",
    "    print(pat.findall(t))\n",
    "    \n"
   ]
  },
  {
   "cell_type": "code",
   "execution_count": 78,
   "metadata": {
    "scrolled": false
   },
   "outputs": [
    {
     "name": "stdout",
     "output_type": "stream",
     "text": [
      "기압골의 영향으로 일부터 일 사이에 전국에 비 또는 눈이 오겠고 제주도는 일에도 비가 오겠습니다  한편 동풍의 영향으로 일은 강원영동에 비 또는 눈이 오겠습니다 그 밖의 날은 고기압의 가장자리에 들어 가끔 구름많겠습니다 기온은 평년최저기온  최고기온 보다 높겠습니다 강수량은 평년보다 많겠습니다\n"
     ]
    }
   ],
   "source": [
    "#문제 6번. 기상청 문제 \n",
    "import urllib.request as req\n",
    "import re\n",
    "from bs4 import BeautifulSoup\n",
    "\n",
    "url=\"http://www.weather.go.kr/weather/forecast/mid-term-rss3.jsp\"\n",
    "res=req.urlopen(url)\n",
    "soup=BeautifulSoup(res,'html.parser')\n",
    "#title=soup.find(\"title\").string\n",
    "#print(title)\n",
    "text=soup.find('wf').string\n",
    "\n",
    "# re.sub(\"[^가-힣\\s]*\",'',text)\n",
    "# #print(text)\n",
    "s =re.sub('[-=.#/?:$}]', '',a)\n",
    "# # print(clear_text)\n",
    "print(b)"
   ]
  },
  {
   "cell_type": "code",
   "execution_count": null,
   "metadata": {},
   "outputs": [],
   "source": []
  },
  {
   "cell_type": "code",
   "execution_count": null,
   "metadata": {},
   "outputs": [],
   "source": []
  },
  {
   "cell_type": "code",
   "execution_count": null,
   "metadata": {},
   "outputs": [],
   "source": []
  },
  {
   "cell_type": "code",
   "execution_count": null,
   "metadata": {},
   "outputs": [],
   "source": []
  },
  {
   "cell_type": "code",
   "execution_count": null,
   "metadata": {},
   "outputs": [],
   "source": []
  }
 ],
 "metadata": {
  "kernelspec": {
   "display_name": "Python 3",
   "language": "python",
   "name": "python3"
  },
  "language_info": {
   "codemirror_mode": {
    "name": "ipython",
    "version": 3
   },
   "file_extension": ".py",
   "mimetype": "text/x-python",
   "name": "python",
   "nbconvert_exporter": "python",
   "pygments_lexer": "ipython3",
   "version": "3.7.4"
  }
 },
 "nbformat": 4,
 "nbformat_minor": 2
}
