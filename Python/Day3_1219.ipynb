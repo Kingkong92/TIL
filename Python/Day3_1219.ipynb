{
 "cells": [
  {
   "cell_type": "code",
   "execution_count": 10,
   "metadata": {},
   "outputs": [
    {
     "data": {
      "text/plain": [
       "('john', 25, 180.5, True)"
      ]
     },
     "execution_count": 10,
     "metadata": {},
     "output_type": "execute_result"
    }
   ],
   "source": [
    "# 자료구조: 자료를 저장 및 관리하는 방법\n",
    "# 알고리즘: 문제를 해결하는 방법\n",
    "#자료 구조중 어제 리스트에 관해 배웠다. 이번엔 튜플에 대해 공부해보자.\n",
    "#딕셔너리, 튜플, \n",
    "#Json - 딕셔너리 자료구조랑 비슷하다. \n",
    "#딕셔녀러 가볍고 전송에 용이하다.\n",
    "#전체 주석처리하려면 블록 잡고, Ctrl + \"/\" , 해제 하는법 동일.\n",
    "\n",
    "\"\"\"\n",
    "튜플(): 리스트[]와 비슷. 기호가 다르다 e.g., 튜플( ,  , ) 이런식으로\n",
    "리스트는 생성, 삭제, 수정 가능\n",
    "튜플은 변경을 할 수 없음. 괄호로 묶지 않아도 사용 가능\n",
    "\n",
    "\"\"\"\n",
    "a=(3,2,5,6,1) #튜플 (3,2,5,6,1)\n",
    "a\n",
    "a=3,2,5,6,1 #튜플 (3,2,5,6,1), 가독성을 위해 묶어 주는게 좋다. 구분을 위해\n",
    "a\n",
    "\n",
    "a1=() #빈 튜플 생성\n",
    "a1\n",
    "\n",
    "#a2=5  #a2는 int\n",
    "a2=5, # tuple , 값을 1개 저장한 튜플을 정의할때는 컴마를 써야함.\n",
    "type(a2)\n",
    "\n",
    "a3=('john', 25, 180.5,True) #튜플은 리스트처럼 자료형(실수,문자,boolin)에 \n",
    "#관계없이 자료를 저장할 수 있다.\n",
    "a3\n",
    "#a3[1] =50 에러\n",
    "#튜플은 변경이 안되므로, 데이터가 계속 유지 되어야 할 경우 사용."
   ]
  },
  {
   "cell_type": "code",
   "execution_count": 11,
   "metadata": {},
   "outputs": [
    {
     "data": {
      "text/plain": [
       "(0, 1, 2, 3, 4, 5, 6, 7, 8, 9)"
      ]
     },
     "execution_count": 11,
     "metadata": {},
     "output_type": "execute_result"
    }
   ],
   "source": [
    "a= tuple(range(10))\n",
    "a"
   ]
  },
  {
   "cell_type": "code",
   "execution_count": null,
   "metadata": {},
   "outputs": [],
   "source": []
  },
  {
   "cell_type": "code",
   "execution_count": 22,
   "metadata": {},
   "outputs": [
    {
     "data": {
      "text/plain": [
       "[1, 2, 3]"
      ]
     },
     "execution_count": 22,
     "metadata": {},
     "output_type": "execute_result"
    }
   ],
   "source": [
    "# 튜플 <-> 리스트, 상호 변환이 가능하다. \n",
    "a=[1,2,3] #[1,2,3]\n",
    "a\n",
    "tuple(a) #(1,2,3)\n",
    "a\n",
    "#list(a)  #[1,2,3]\n",
    "a"
   ]
  },
  {
   "cell_type": "code",
   "execution_count": 23,
   "metadata": {},
   "outputs": [
    {
     "data": {
      "text/plain": [
       "['h', 'e', 'l', 'l', 'o']"
      ]
     },
     "execution_count": 23,
     "metadata": {},
     "output_type": "execute_result"
    }
   ],
   "source": [
    "list('hello') #기억! 문자열이 각각의 문자열로 분리되서 리스트된다. #['h', 'e', 'l', 'l', 'o']"
   ]
  },
  {
   "cell_type": "code",
   "execution_count": 24,
   "metadata": {},
   "outputs": [
    {
     "data": {
      "text/plain": [
       "('h', 'e', 'l', 'l', 'o')"
      ]
     },
     "execution_count": 24,
     "metadata": {},
     "output_type": "execute_result"
    }
   ],
   "source": [
    "tuple('hello') #('h', 'e', 'l', 'l', 'o')"
   ]
  },
  {
   "cell_type": "code",
   "execution_count": 33,
   "metadata": {},
   "outputs": [
    {
     "ename": "ValueError",
     "evalue": "too many values to unpack (expected 2)",
     "output_type": "error",
     "traceback": [
      "\u001b[1;31m---------------------------------------------------------------------------\u001b[0m",
      "\u001b[1;31mValueError\u001b[0m                                Traceback (most recent call last)",
      "\u001b[1;32m<ipython-input-33-65241b26e50b>\u001b[0m in \u001b[0;36m<module>\u001b[1;34m\u001b[0m\n\u001b[0;32m      2\u001b[0m \u001b[0mx\u001b[0m\u001b[1;33m\u001b[0m\u001b[1;33m\u001b[0m\u001b[0m\n\u001b[0;32m      3\u001b[0m \u001b[0my\u001b[0m\u001b[1;33m\u001b[0m\u001b[1;33m\u001b[0m\u001b[0m\n\u001b[1;32m----> 4\u001b[1;33m \u001b[0mx\u001b[0m\u001b[1;33m,\u001b[0m\u001b[0my\u001b[0m \u001b[1;33m=\u001b[0m \u001b[1;33m(\u001b[0m\u001b[1;36m1\u001b[0m\u001b[1;33m,\u001b[0m\u001b[1;36m2\u001b[0m\u001b[1;33m,\u001b[0m\u001b[1;36m3\u001b[0m\u001b[1;33m)\u001b[0m\u001b[1;33m\u001b[0m\u001b[1;33m\u001b[0m\u001b[0m\n\u001b[0m\u001b[0;32m      5\u001b[0m \u001b[0mx\u001b[0m\u001b[1;33m\u001b[0m\u001b[1;33m\u001b[0m\u001b[0m\n\u001b[0;32m      6\u001b[0m \u001b[0my\u001b[0m\u001b[1;33m\u001b[0m\u001b[1;33m\u001b[0m\u001b[0m\n",
      "\u001b[1;31mValueError\u001b[0m: too many values to unpack (expected 2)"
     ]
    }
   ],
   "source": [
    "x,y = [1,2]\n",
    "x\n",
    "y\n",
    "x,y = (1,2,3)# ValueError: too many values to unpack (expected 2)\n",
    "x\n",
    "y\n",
    "#unpacking: 리스트(튜플)의 요소를 여러개의 변수에 할당하는 것.\n",
    "#packing: 변수에 리스트 또는 튜플을 할당 하는것. \n",
    "a=[1,2,3,] #리스트 패킹\n",
    "b=(1,2,3) #튜플 패킹"
   ]
  },
  {
   "cell_type": "code",
   "execution_count": 41,
   "metadata": {},
   "outputs": [
    {
     "data": {
      "text/plain": [
       "4"
      ]
     },
     "execution_count": 41,
     "metadata": {},
     "output_type": "execute_result"
    }
   ],
   "source": [
    "t1=(1,2,'x','y')\n",
    "t1\n",
    "#del t1[0] #삭제 불가, TypeError: 'tuple' object doesn't support item deletion\n",
    "#t1[0]=5 #변경 불가,TypeError: 'tuple' object does not support item assignment\n",
    "t1[1:] #(2, 'x', 'y')\n",
    "t2=(3,4)\n",
    "t1+t2 #(1, 2, 'x', 'y', 3, 4)\n",
    "t2*3#(3, 4, 3, 4, 3, 4)\n",
    "len(t1) #4"
   ]
  },
  {
   "cell_type": "code",
   "execution_count": 51,
   "metadata": {},
   "outputs": [
    {
     "data": {
      "text/plain": [
       "True"
      ]
     },
     "execution_count": 51,
     "metadata": {},
     "output_type": "execute_result"
    }
   ],
   "source": [
    "#시퀀스(자료)형: 리스트, 튜플, range, 문자열. 데이터는 연속적으로 표현.\n",
    "#시퀀스형의 자료(객체)에 특정 값이 존재하는지 확인하는법\n",
    "\n",
    "#0~90까지 10씩 증가한 값으로 리스트 생성\n",
    "#a=list(range(0,91,10))\n",
    "a=tuple(range(0,91,10)) #튜플도 가능하다.\n",
    "a #a는 지금 시퀀스 리스트\n",
    "#시퀀스형(리스트, 튜플, range, 문자열 모두)에 대해 in 연산자 사용 가능\n",
    "30 in a #a 변수 안에 (시퀀스형) 안에 30이 있느냐? #True\n",
    "100 in a #False # 굉장히 많이 쓰인다. 이러한 문법\n",
    "30 not in a #not in a # False\n",
    "100 not in a #True "
   ]
  },
  {
   "cell_type": "code",
   "execution_count": 56,
   "metadata": {},
   "outputs": [
    {
     "data": {
      "text/plain": [
       "False"
      ]
     },
     "execution_count": 56,
     "metadata": {},
     "output_type": "execute_result"
    }
   ],
   "source": [
    "'h'in'hello, python' #문자열도 가능 #True\n",
    "'h'not in'hello, python' #'False\n",
    "7 in range(100) #True\n",
    "100 in range(100) #False"
   ]
  },
  {
   "cell_type": "code",
   "execution_count": 70,
   "metadata": {},
   "outputs": [
    {
     "data": {
      "text/plain": [
       "[0, 1, 2, 0, 1, 2, 0, 1, 2]"
      ]
     },
     "execution_count": 70,
     "metadata": {},
     "output_type": "execute_result"
    }
   ],
   "source": [
    "#+연산자로 시퀀스형에 대한 자료 연결이 가능\n",
    "#range만 안된다. \n",
    "a=[1,2]\n",
    "b=[3,4]\n",
    "a+b\n",
    "'hello'+'hi'\n",
    "a=(1,2)\n",
    "b=(3,4)\n",
    "a+b\n",
    "#range(0,3) +range(3,5) #TypeError: unsupported operand type(s) for +: 'range' and 'range'\n",
    "#range는 하나의 객체로 존재하기 때문에 에러발생, +연산 할려면 객체를 풀어줘야한다.\n",
    "#list(range(0,3))+list(range(3,5))#[0, 1, 2, 3, 4]\n",
    "#tuple(range(0,3))+tuple(range(3,5)) #(0, 1, 2, 3, 4)\n",
    "#리스트 + 튜플처럼 자료형이 다른 경우에는 연결이 불가능. \n",
    "#list(range(0,3))+tuple(range(3,5)) #TypeError\n",
    "\n",
    "# 문자에 숫자 연결 안됨.(숫자를 문자로 변환하면 가능)\n",
    "#'hi' + 7 # 에러발생\n",
    "'hi'+ str(7) #'hi7'\n",
    "'hi'+str(3.14) #'hi3.14'\n",
    "#숫자를 문자로 변환. 기억하기! 그래야 연결이 가능.\n",
    "\n",
    "#range(0,3)*3 #에러 발생\n",
    "list(range(0,3))*3 #[0, 1, 2, 0, 1, 2, 0, 1, 2] #list로 변환후 반복 or tuple로 변환 후\n",
    "#range 자체만으로 안되는게 많다."
   ]
  },
  {
   "cell_type": "code",
   "execution_count": 77,
   "metadata": {},
   "outputs": [
    {
     "data": {
      "text/plain": [
       "6"
      ]
     },
     "execution_count": 77,
     "metadata": {},
     "output_type": "execute_result"
    }
   ],
   "source": [
    "#len:시퀀스 자료형에 해당되는 데이터의 길이\n",
    "a=[1,2,3]\n",
    "len(a)\n",
    "a=(1,2,3)\n",
    "len(a)\n",
    "len(range(0,3))\n",
    "len('hello') #5\n",
    "\n",
    "hi='안녕'\n",
    "len(hi) #2 #len은 문자의 개수\n",
    "# utf-8 유니코드-8(1 character-3byte), -16, Universal\n",
    "len(hi.encode('utf-8')) #6"
   ]
  },
  {
   "cell_type": "code",
   "execution_count": 80,
   "metadata": {},
   "outputs": [
    {
     "ename": "IndexError",
     "evalue": "string index out of range",
     "output_type": "error",
     "traceback": [
      "\u001b[1;31m---------------------------------------------------------------------------\u001b[0m",
      "\u001b[1;31mIndexError\u001b[0m                                Traceback (most recent call last)",
      "\u001b[1;32m<ipython-input-80-0a7b83f648fb>\u001b[0m in \u001b[0;36m<module>\u001b[1;34m\u001b[0m\n\u001b[0;32m      3\u001b[0m \u001b[1;31m#x[0] -> x.__getitem__(0) #. tap -> 메소드\u001b[0m\u001b[1;33m\u001b[0m\u001b[1;33m\u001b[0m\u001b[1;33m\u001b[0m\u001b[0m\n\u001b[0;32m      4\u001b[0m \u001b[1;31m#x.__getitem__(0)\u001b[0m\u001b[1;33m\u001b[0m\u001b[1;33m\u001b[0m\u001b[1;33m\u001b[0m\u001b[0m\n\u001b[1;32m----> 5\u001b[1;33m \u001b[0mx\u001b[0m\u001b[1;33m[\u001b[0m\u001b[1;36m10\u001b[0m\u001b[1;33m]\u001b[0m\u001b[1;33m\u001b[0m\u001b[1;33m\u001b[0m\u001b[0m\n\u001b[0m",
      "\u001b[1;31mIndexError\u001b[0m: string index out of range"
     ]
    }
   ],
   "source": [
    "#시퀀스형에 대한 자료 참조는 대괄호 [] 기호를 사용\n",
    "x='HI HELLO'\n",
    "#x[0] -> x.__getitem__(0) #. tap -> 메소드 \n",
    "#x.__getitem__(0) \n",
    "#x[10] # 앞으로 많이 겪게될 에러 #IndexError: string index out of range\n"
   ]
  },
  {
   "cell_type": "code",
   "execution_count": 85,
   "metadata": {},
   "outputs": [
    {
     "data": {
      "text/plain": [
       "'O'"
      ]
     },
     "execution_count": 85,
     "metadata": {},
     "output_type": "execute_result"
    }
   ],
   "source": [
    "x[len(x)-1] # 'O'\n",
    "x[-1] #'O'"
   ]
  },
  {
   "cell_type": "code",
   "execution_count": 106,
   "metadata": {},
   "outputs": [
    {
     "data": {
      "text/plain": [
       "'hlwl'"
      ]
     },
     "execution_count": 106,
     "metadata": {},
     "output_type": "execute_result"
    }
   ],
   "source": [
    "x[2:-1] #인덱스 2번부터 맨 마지막까지\n",
    "x[2:] #' HELLO'\n",
    "x[1:7:2] #인덱스 1부터 2씩 증가하면서 인덱스 6번까지 가져옴 #'IHL'\n",
    "x[:8:2] #'H EL'\n",
    "x[3::2]\n",
    "x[::2]\n",
    "x[::] #전체 출력 # x #'HI HELLO'\n",
    "\n",
    "x[5:1] #'' #5번부터 1번이라서, 기본 defalut가 1씩 증가하는거라서, 참조할게 없다.\n",
    "\n",
    "x[5:1:-1] #5,4,3,2 #'LEH '\n",
    "x[::-1] #역순 #'OLLEH IH'  \n",
    "# 이러한 작업들이 데이터 전처리 할때 많이 쓰인다.\n",
    "\n",
    "x[0:len(x)] #'HI HELLO'\n",
    "x[:len(x)] #'HI HELLO'\n",
    "\n",
    "#튜플도 리스트와 동일\n",
    "\n",
    "x=range(10)\n",
    "x[4:7] #range(4, 7)\n",
    "range(0,7,2) #range(0, 7, 2) 객체가 나온다.\n",
    "list(range(0, 7, 2)) #[0, 2, 4, 6]\n",
    "\n",
    "x=\"hello world\"\n",
    "x[:10:3] #'hlwl'"
   ]
  },
  {
   "cell_type": "code",
   "execution_count": 108,
   "metadata": {},
   "outputs": [
    {
     "data": {
      "text/plain": [
       "[0, 10, 20, 30, 40, 50, 60, 70, 80, 90]"
      ]
     },
     "execution_count": 108,
     "metadata": {},
     "output_type": "execute_result"
    }
   ],
   "source": [
    "a=list(range(0,91,10))\n",
    "a"
   ]
  },
  {
   "cell_type": "code",
   "execution_count": 110,
   "metadata": {},
   "outputs": [
    {
     "data": {
      "text/plain": [
       "[0, 11, 20, 30, 40, 50, 60, 70, 80, 90]"
      ]
     },
     "execution_count": 110,
     "metadata": {},
     "output_type": "execute_result"
    }
   ],
   "source": [
    "a[1] =11\n",
    "a"
   ]
  },
  {
   "cell_type": "code",
   "execution_count": 119,
   "metadata": {},
   "outputs": [
    {
     "ename": "ValueError",
     "evalue": "attempt to assign sequence of size 4 to extended slice of size 1",
     "output_type": "error",
     "traceback": [
      "\u001b[1;31m---------------------------------------------------------------------------\u001b[0m",
      "\u001b[1;31mValueError\u001b[0m                                Traceback (most recent call last)",
      "\u001b[1;32m<ipython-input-119-978d20493176>\u001b[0m in \u001b[0;36m<module>\u001b[1;34m\u001b[0m\n\u001b[0;32m      1\u001b[0m \u001b[0ma\u001b[0m\u001b[1;33m[\u001b[0m\u001b[1;36m2\u001b[0m\u001b[1;33m:\u001b[0m\u001b[1;36m5\u001b[0m\u001b[1;33m]\u001b[0m\u001b[1;33m=\u001b[0m\u001b[1;33m[\u001b[0m\u001b[1;36m21\u001b[0m\u001b[1;33m,\u001b[0m\u001b[1;36m31\u001b[0m\u001b[1;33m,\u001b[0m\u001b[1;34m'x'\u001b[0m\u001b[1;33m]\u001b[0m \u001b[1;31m#리스트는 자료형에 상관없이 수정, 변경이 가능하기에.\u001b[0m\u001b[1;33m\u001b[0m\u001b[1;33m\u001b[0m\u001b[0m\n\u001b[0;32m      2\u001b[0m \u001b[0ma\u001b[0m \u001b[1;31m#[0, 11, 21, 31, 'x', 50, 60, 70, 80, 90]\u001b[0m\u001b[1;33m\u001b[0m\u001b[1;33m\u001b[0m\u001b[0m\n\u001b[1;32m----> 3\u001b[1;33m \u001b[0ma\u001b[0m\u001b[1;33m[\u001b[0m\u001b[1;36m1\u001b[0m\u001b[1;33m:\u001b[0m\u001b[1;36m9\u001b[0m\u001b[1;33m:\u001b[0m\u001b[1;36m2\u001b[0m\u001b[1;33m]\u001b[0m \u001b[1;33m=\u001b[0m \u001b[1;33m[\u001b[0m\u001b[1;34m'a'\u001b[0m\u001b[1;33m,\u001b[0m\u001b[1;34m'b'\u001b[0m\u001b[1;33m,\u001b[0m\u001b[1;34m'c'\u001b[0m\u001b[1;33m,\u001b[0m\u001b[1;34m'd'\u001b[0m\u001b[1;33m]\u001b[0m \u001b[1;31m#[0, 'a', 21, 'b', 'x', 'c', 60, 'd', 80, 90]\u001b[0m\u001b[1;33m\u001b[0m\u001b[1;33m\u001b[0m\u001b[0m\n\u001b[0m\u001b[0;32m      4\u001b[0m \u001b[0ma\u001b[0m\u001b[1;33m\u001b[0m\u001b[1;33m\u001b[0m\u001b[0m\n",
      "\u001b[1;31mValueError\u001b[0m: attempt to assign sequence of size 4 to extended slice of size 1"
     ]
    }
   ],
   "source": [
    "a[2:5]=[21,31,'x'] #리스트는 자료형에 상관없이 수정, 변경이 가능하기에.\n",
    "a #[0, 11, 21, 31, 'x', 50, 60, 70, 80, 90]\n",
    "a[1:9:2] = ['a','b','c','d'] #[0, 'a', 21, 'b', 'x', 'c', 60, 'd', 80, 90]\n",
    "a"
   ]
  },
  {
   "cell_type": "code",
   "execution_count": 118,
   "metadata": {},
   "outputs": [
    {
     "data": {
      "text/plain": [
       "[]"
      ]
     },
     "execution_count": 118,
     "metadata": {},
     "output_type": "execute_result"
    }
   ],
   "source": [
    "a\n",
    "del a[2:6] #2번부터 5번까지 제거\n",
    "a\n",
    "del a[:5:2]\n",
    "a"
   ]
  },
  {
   "cell_type": "code",
   "execution_count": 120,
   "metadata": {},
   "outputs": [
    {
     "data": {
      "text/plain": [
       "\"\\nperson = [180, 70, 'O', '서울']\\n\\nperson2={'키':180, '몸무게':70, '혈액형':'O', '사는곳':'서울'}\\n\\n\""
      ]
     },
     "execution_count": 120,
     "metadata": {},
     "output_type": "execute_result"
    }
   ],
   "source": [
    "#딕셔너리(자료구조): KET(키)와 VALUE(값)으로 자료를 표현. 사용 빈도가 가장 높다. \n",
    "#key : Value , 형식으로 사용.\n",
    "\"\"\"\n",
    "person = [180, 70, 'O', '서울']\n",
    "\n",
    "person2={'키':180, '몸무게':70, '혈액형':'O', '사는곳':'서울'}\n",
    "\n",
    "\"\"\"\n"
   ]
  },
  {
   "cell_type": "code",
   "execution_count": 134,
   "metadata": {},
   "outputs": [],
   "source": [
    "person = [180, 70, 'O', '서울']\n",
    "\n",
    "person2={'키':180, '몸무게': 70, '혈액형':'O', '사는곳':'서울', \n",
    "        False:0, 99: '구구', 3.14:[3.14,'원주율']}\n",
    "#딕셔너리를 다른 언어에서는 맵, 해쉬라고 부른다.\n",
    "# SyntaxError: invalid syntax, key or Value 둘중에 하나만 없어도 나오는 에러.\n",
    "# ['주소','전번']:'서울,02' 리스트는 못온다."
   ]
  },
  {
   "cell_type": "code",
   "execution_count": 122,
   "metadata": {},
   "outputs": [
    {
     "data": {
      "text/plain": [
       "[180, 70, 'O', '서울']"
      ]
     },
     "execution_count": 122,
     "metadata": {},
     "output_type": "execute_result"
    }
   ],
   "source": [
    "person"
   ]
  },
  {
   "cell_type": "code",
   "execution_count": 130,
   "metadata": {},
   "outputs": [
    {
     "data": {
      "text/plain": [
       "{'키': 180,\n",
       " '몸무게': 70,\n",
       " '혈액형': 'O',\n",
       " '사는곳': '서울',\n",
       " False: 0,\n",
       " 99: '구구',\n",
       " 3.14: [3.14, '원주율']}"
      ]
     },
     "execution_count": 130,
     "metadata": {},
     "output_type": "execute_result"
    }
   ],
   "source": [
    "person2 #key가 중복되면 마지막 자료가 저장."
   ]
  },
  {
   "cell_type": "code",
   "execution_count": 136,
   "metadata": {},
   "outputs": [
    {
     "data": {
      "text/plain": [
       "{'키': 180,\n",
       " '몸무게': 70,\n",
       " '혈액형': 'O',\n",
       " '사는곳': '서울',\n",
       " '취미': {'오전': ['수영', '야구'], '오후': '공부'}}"
      ]
     },
     "execution_count": 136,
     "metadata": {},
     "output_type": "execute_result"
    }
   ],
   "source": [
    "person2={'키':180, '몸무게': 70, '혈액형':'O', '사는곳':'서울',\n",
    "         '취미':{'오전':['수영','야구'],'오후':'공부'}}\n",
    "#딕셔너리 (Value안)에 딕셔너리를 넣을 수 있다. \n",
    "#딕셔너리로 표현된곳에 리스트까지 가능.\n",
    "person2"
   ]
  },
  {
   "cell_type": "code",
   "execution_count": null,
   "metadata": {},
   "outputs": [],
   "source": [
    "\"\"\"\n",
    "딕셔너리가 Json과 비슷하다. Key: Value , (빨간책; page 251 참고)\n",
    "NoSQL과 구조가 같다.\n",
    "\n",
    "HTML-> XML 작성하면 컴퓨터가 이해할 수있도록 하는 프로그램을 만들어야 한다.\n",
    "HTML 문서가 무겁고, 컴퓨터가 이해하기 어렵다.\n",
    "Json, xml, 읽어 들이는것 연습- 웹 크롤링\n",
    "\"\"\""
   ]
  },
  {
   "cell_type": "code",
   "execution_count": null,
   "metadata": {},
   "outputs": [],
   "source": [
    "\"\"\" \n",
    "클라우드 공부한걸 남들한테 보여주려면 Github에 자료 정리 잘해서 업로드 해야\n",
    "남들이 보고 알아본다. 나의 가치를\n",
    "\n",
    "\"\"\""
   ]
  },
  {
   "cell_type": "code",
   "execution_count": null,
   "metadata": {},
   "outputs": [],
   "source": [
    "\"\"\"\n",
    "딕셔너리\n",
    "- key, value가 여러 쌍으로 구성\n",
    "- 컴마로 구분\n",
    "- key는 변하지 않는것을 사용\n",
    "- value는 변하는값/변하지 않는 값 모두 사용 가능\n",
    "\n",
    "\"\"\""
   ]
  },
  {
   "cell_type": "code",
   "execution_count": 140,
   "metadata": {},
   "outputs": [
    {
     "data": {
      "text/plain": [
       "{}"
      ]
     },
     "execution_count": 140,
     "metadata": {},
     "output_type": "execute_result"
    }
   ],
   "source": [
    "x= dict() #{} #[] #list() \n",
    "x\n",
    "#type(x) #dict"
   ]
  },
  {
   "cell_type": "code",
   "execution_count": 149,
   "metadata": {},
   "outputs": [
    {
     "data": {
      "text/plain": [
       "{'height': 180, 'weight': 70, 'bt': 'O'}"
      ]
     },
     "execution_count": 149,
     "metadata": {},
     "output_type": "execute_result"
    }
   ],
   "source": [
    "#딕셔너리 생성 1번 #dict(키1: 값1, 키2: 값2, ...)\n",
    "per=dict(height=180, weight=70, bt='O') #{'height': 180, 'weight': 70, 'bt': 'O'}\n",
    "per\n",
    "\n",
    "per=dict(zip(['height', 'weight', 'bt'],[180,70,'O']) )\n",
    "per #{'height': 180, 'weight': 70, 'bt': 'O'} 동일한 결과.\n",
    "\n",
    "per=dict([('height',180), ('weight',70), ('bt','O')])\n",
    "per #{'height': 180, 'weight': 70, 'bt': 'O'}\n",
    "\n",
    "#dict\n",
    "\n",
    "per=dict({'height':180, 'weight':70, 'bt':'O'})\n",
    "per#{'height': 180, 'weight': 70, 'bt': 'O'}"
   ]
  },
  {
   "cell_type": "code",
   "execution_count": 144,
   "metadata": {},
   "outputs": [
    {
     "data": {
      "text/plain": [
       "<zip at 0x23447286148>"
      ]
     },
     "execution_count": 144,
     "metadata": {},
     "output_type": "execute_result"
    }
   ],
   "source": [
    "zip(['height', 'weight', 'bt'],[180,70,'O']) \n",
    "#<zip at 0x23447286148>, 0x -> 16진수\n",
    "# zip 나온 값으로 가면 확인 할 수있다."
   ]
  },
  {
   "cell_type": "code",
   "execution_count": 152,
   "metadata": {},
   "outputs": [
    {
     "data": {
      "text/plain": [
       "{'a': [1, 2, 3]}"
      ]
     },
     "execution_count": 152,
     "metadata": {},
     "output_type": "execute_result"
    }
   ],
   "source": [
    "a={1:'hi'}\n",
    "a\n",
    "a={'a':[1,2,3]}\n",
    "a"
   ]
  },
  {
   "cell_type": "code",
   "execution_count": 155,
   "metadata": {},
   "outputs": [
    {
     "name": "stdout",
     "output_type": "stream",
     "text": [
      "{'a': [1, 2, 3], 2: 'b'}\n",
      "{1: 'a'}\n"
     ]
    },
    {
     "data": {
      "text/plain": [
       "{'a': [1, 2, 3], 2: 'b', 'name': 'hgd'}"
      ]
     },
     "execution_count": 155,
     "metadata": {},
     "output_type": "execute_result"
    }
   ],
   "source": [
    "b={1:'a'}\n",
    "print(a)\n",
    "print(b)\n",
    "a[2]='b'#{'a': [1, 2, 3], 2: 'b'}\n",
    "a\n",
    "a['name'] ='hgd'\n",
    "a"
   ]
  },
  {
   "cell_type": "code",
   "execution_count": 174,
   "metadata": {},
   "outputs": [
    {
     "name": "stdout",
     "output_type": "stream",
     "text": [
      "a\n",
      "2\n",
      "name\n",
      "weight\n",
      "[1, 2, 3]\n",
      "b\n",
      "lss\n",
      "70.5\n",
      "('a', [1, 2, 3])\n",
      "(2, 'b')\n",
      "('name', 'lss')\n",
      "('weight', 70.5)\n"
     ]
    },
    {
     "ename": "NameError",
     "evalue": "name 'tpye' is not defined",
     "output_type": "error",
     "traceback": [
      "\u001b[1;31m---------------------------------------------------------------------------\u001b[0m",
      "\u001b[1;31mNameError\u001b[0m                                 Traceback (most recent call last)",
      "\u001b[1;32m<ipython-input-174-8d1e4820f06a>\u001b[0m in \u001b[0;36m<module>\u001b[1;34m\u001b[0m\n\u001b[0;32m     35\u001b[0m \u001b[1;31m# ('weight', 70.5)\u001b[0m\u001b[1;33m\u001b[0m\u001b[1;33m\u001b[0m\u001b[1;33m\u001b[0m\u001b[0m\n\u001b[0;32m     36\u001b[0m \u001b[1;31m#소괄호로 묶여 있는거 보니깐 tuple로 묶여 있다\u001b[0m\u001b[1;33m\u001b[0m\u001b[1;33m\u001b[0m\u001b[1;33m\u001b[0m\u001b[0m\n\u001b[1;32m---> 37\u001b[1;33m \u001b[0mtpye\u001b[0m\u001b[1;33m(\u001b[0m\u001b[0mi\u001b[0m\u001b[1;33m)\u001b[0m\u001b[1;33m\u001b[0m\u001b[1;33m\u001b[0m\u001b[0m\n\u001b[0m",
      "\u001b[1;31mNameError\u001b[0m: name 'tpye' is not defined"
     ]
    }
   ],
   "source": [
    "#딕셔너리는 콤마로 구분, \n",
    "a['name'] ='lss'\n",
    "a\n",
    "#딕셔너리[키]= '값'.\n",
    "a['weight']=70.5 # {'a': [1, 2, 3], 2: 'b', 'name': 'lss', 'weight': 70.5}\n",
    "a\n",
    "a['name'] #딕셔너리[키] => 값\n",
    "a\n",
    "'weight' in a #True\n",
    "'sky' in a #False\n",
    "'sky' not in a #True\n",
    "\n",
    "len(a) #4\n",
    "a.keys() #dict_keys(['a', 2, 'name', 'weight'])\n",
    "\n",
    "for k in a.keys():\n",
    "    print(k)\n",
    "# a\n",
    "# 2\n",
    "# name\n",
    "# weight\n",
    "for v in a.values():\n",
    "    print(v)\n",
    "# [1, 2, 3]\n",
    "# b\n",
    "# lss\n",
    "# 70.5\n",
    "list(a.values()) #[[1, 2, 3], 'b', 'lss', 70.5]\n",
    "\n",
    "for i in a.items():\n",
    "    print(i)\n",
    "# ('a', [1, 2, 3])\n",
    "# (2, 'b')\n",
    "# ('name', 'lss')\n",
    "# ('weight', 70.5)\n",
    "#소괄호로 묶여 있는거 보니깐 tuple로 묶여 있다\n"
   ]
  },
  {
   "cell_type": "code",
   "execution_count": 166,
   "metadata": {},
   "outputs": [
    {
     "data": {
      "text/plain": [
       "['a', 2, 'name', 'weight']"
      ]
     },
     "execution_count": 166,
     "metadata": {},
     "output_type": "execute_result"
    }
   ],
   "source": [
    "list(a.keys()) #['a', 2, 'name', 'weight'] #리스트로 바꿔서 참조 가능\n",
    "\n"
   ]
  },
  {
   "cell_type": "code",
   "execution_count": 175,
   "metadata": {},
   "outputs": [
    {
     "data": {
      "text/plain": [
       "{'a': [1, 2, 3], 2: 'b', 'name': 'lss', 'weight': 70.5}"
      ]
     },
     "execution_count": 175,
     "metadata": {},
     "output_type": "execute_result"
    }
   ],
   "source": [
    "a"
   ]
  },
  {
   "cell_type": "code",
   "execution_count": 177,
   "metadata": {},
   "outputs": [
    {
     "ename": "KeyError",
     "evalue": "'nn'",
     "output_type": "error",
     "traceback": [
      "\u001b[1;31m---------------------------------------------------------------------------\u001b[0m",
      "\u001b[1;31mKeyError\u001b[0m                                  Traceback (most recent call last)",
      "\u001b[1;32m<ipython-input-177-cb19db63dd86>\u001b[0m in \u001b[0;36m<module>\u001b[1;34m\u001b[0m\n\u001b[0;32m      1\u001b[0m \u001b[0ma\u001b[0m\u001b[1;33m[\u001b[0m\u001b[1;34m'name'\u001b[0m\u001b[1;33m]\u001b[0m\u001b[1;33m\u001b[0m\u001b[1;33m\u001b[0m\u001b[0m\n\u001b[0;32m      2\u001b[0m \u001b[0ma\u001b[0m\u001b[1;33m.\u001b[0m\u001b[0mget\u001b[0m\u001b[1;33m(\u001b[0m\u001b[1;34m'name'\u001b[0m\u001b[1;33m)\u001b[0m \u001b[1;31m#'lss'\u001b[0m\u001b[1;33m\u001b[0m\u001b[1;33m\u001b[0m\u001b[0m\n\u001b[1;32m----> 3\u001b[1;33m \u001b[0ma\u001b[0m\u001b[1;33m[\u001b[0m\u001b[1;34m'nn'\u001b[0m\u001b[1;33m]\u001b[0m\u001b[1;33m\u001b[0m\u001b[1;33m\u001b[0m\u001b[0m\n\u001b[0m",
      "\u001b[1;31mKeyError\u001b[0m: 'nn'"
     ]
    }
   ],
   "source": [
    "a['name']\n",
    "a.get('name') #'lss'\n",
    "a['nn']"
   ]
  },
  {
   "cell_type": "code",
   "execution_count": 179,
   "metadata": {},
   "outputs": [
    {
     "name": "stdout",
     "output_type": "stream",
     "text": [
      "None\n"
     ]
    }
   ],
   "source": [
    "print(a.get('nn')) #None #존재하지 않는 키에 관해 -> 처리해주는 작업.\n",
    "#get함수를 써서 별도의 처리를 해야한다. 안그러면 오류 떠서 작업이 안되게 만듬\n"
   ]
  },
  {
   "cell_type": "code",
   "execution_count": 183,
   "metadata": {},
   "outputs": [],
   "source": [
    "a['id']='test'"
   ]
  },
  {
   "cell_type": "code",
   "execution_count": 186,
   "metadata": {},
   "outputs": [
    {
     "data": {
      "text/plain": [
       "'test'"
      ]
     },
     "execution_count": 186,
     "metadata": {},
     "output_type": "execute_result"
    }
   ],
   "source": [
    "a.get('nn','kim')\n",
    "# 딕셔너리 a에 nn 키가 없다면 'kim'을 출력\n",
    "# 디폴트(기본값) 설정\n",
    "a.get('id','guest') # 'test' #참조시 위에 test값으로 존재하기 때문에. \n",
    "a.get('id2','guest') #'guest'#참조할게 없어 새로운 키 값 부여."
   ]
  },
  {
   "cell_type": "code",
   "execution_count": 198,
   "metadata": {},
   "outputs": [],
   "source": [
    "#set: 집합\n",
    "#x={1,1,2,2,3} => x={1,2,3}\n",
    "#중복이 허용 안되는 자료 구조\n",
    "s=set([1,2,3])\n",
    "s\n",
    "s2=set('hello') #{'e', 'h', 'l', 'o'}\n",
    "s2\n",
    "#set(집합) 자료구조 특징\n",
    "#중복 허용 x, 순서가 없음\n",
    "\n",
    "#s2[1] #자리가 정해져있지 않아서, 1번이 없다. 보장이 안되기 때문에(Error)\n",
    "s=set(['k','i','m'])\n",
    "s #{'i', 'k', 'm'}\n",
    "slist=list(s)\n",
    "slist #이렇게 바꿔놓고 {'i', 'k', 'm'}\n",
    "slist[1] #'k'\n",
    "\n",
    "s=tuple(['k','i','m'])\n",
    "s[0] #'k'\n",
    "\n",
    "#집합 연산을 할때. 베이즈 이론, 교집합 부분.\n",
    "\n"
   ]
  },
  {
   "cell_type": "code",
   "execution_count": 188,
   "metadata": {},
   "outputs": [],
   "source": [
    "#[] -> 리스트, {} -> 딕셔너리, set. ()-> tuple 튜플\n",
    "#set {}, 딕셔너리랑 다른점은 Key, value 모양이 아니다."
   ]
  },
  {
   "cell_type": "code",
   "execution_count": 200,
   "metadata": {},
   "outputs": [],
   "source": [
    "s1=set([1,2,3,4])\n",
    "s2=set([5,6,3,4])"
   ]
  },
  {
   "cell_type": "code",
   "execution_count": 202,
   "metadata": {},
   "outputs": [
    {
     "data": {
      "text/plain": [
       "{3, 4}"
      ]
     },
     "execution_count": 202,
     "metadata": {},
     "output_type": "execute_result"
    }
   ],
   "source": [
    "s1 & s2 #{3, 4}\n",
    "s1.intersection(s2) #(대상)을 적어줘야 교집합 나온다. #{3, 4} "
   ]
  },
  {
   "cell_type": "code",
   "execution_count": 204,
   "metadata": {},
   "outputs": [
    {
     "data": {
      "text/plain": [
       "{1, 2, 3, 4, 5, 6}"
      ]
     },
     "execution_count": 204,
     "metadata": {},
     "output_type": "execute_result"
    }
   ],
   "source": [
    "#힙집합\n",
    "s1 | s2 #{1, 2, 3, 4, 5, 6}\n",
    "s1.union(s2) #{1, 2, 3, 4, 5, 6}"
   ]
  },
  {
   "cell_type": "code",
   "execution_count": 206,
   "metadata": {},
   "outputs": [
    {
     "data": {
      "text/plain": [
       "{1, 2}"
      ]
     },
     "execution_count": 206,
     "metadata": {},
     "output_type": "execute_result"
    }
   ],
   "source": [
    "#차집합\n",
    "s1-s2 #{1, 2}\n",
    "s1.difference(s2) #{1, 2}"
   ]
  },
  {
   "cell_type": "code",
   "execution_count": 207,
   "metadata": {},
   "outputs": [],
   "source": [
    "#함수를 배우는 이유는 검증이 끝났고 에러가 없다. 안전하고 편안하게 만들어주기 때문에 함수를 사용한다.\n",
    "#함수를 많이 알고있는것이 좋다."
   ]
  },
  {
   "cell_type": "code",
   "execution_count": 212,
   "metadata": {},
   "outputs": [
    {
     "data": {
      "text/plain": [
       "{1, 2, 3, 4, 5}"
      ]
     },
     "execution_count": 212,
     "metadata": {},
     "output_type": "execute_result"
    }
   ],
   "source": [
    "s=set([1,2])\n",
    "s\n",
    "s.add(3)\n",
    "s\n",
    "#s.add(4,5) #TypeError: add() takes exactly one argument (2 given)\n",
    "#s.add([4,5]) #TypeError: unhashable type: 'list'\n",
    "s.update([4,5])\n",
    "s #{1, 2, 3, 4, 5}"
   ]
  },
  {
   "cell_type": "code",
   "execution_count": null,
   "metadata": {},
   "outputs": [],
   "source": [
    "\"\"\"\n",
    "참: \"test\" [1,2], (1,2), 1\n",
    "거짓; \"\", [], (), 0, None\n",
    "\n",
    "조건문(explicit programming)\n",
    "\n",
    "if 고양이가 나타나면: #if 조건 : , colon까지 조건. 다른 언어랑 차이점 \n",
    "    브레이크를 밟는다. #들여쓰기 해줘야한다. 문장이 종속 되어야 하기 때문에.\n",
    "    크략션을 울린다.\n",
    "달린다.(별개의 조건-> 무조건 수행한다 => 달린다) #들여쓰기의 조건에 따라.\n",
    "\n",
    "\"\"\"\n"
   ]
  },
  {
   "cell_type": "code",
   "execution_count": null,
   "metadata": {},
   "outputs": [],
   "source": [
    "\"\"\"\n",
    "강화학습에 대한 내용\n",
    "알파고제로 / 알파고 \n",
    "밖에 데이터까지 / 안의 데이터로만 강화 학습\n",
    "\n",
    "\n",
    "자율주행(조건문으로 다 커버할 수없다)\n",
    "각각의 상황에 대해 다 기술하지 못하기 때문에 \n",
    "explicit programming(조건문).\n",
    "모든 경우의 수를 입력할 수 없다.(코딩으로 다 할 수없다)\n",
    "<-> implicit programming => AI 힘(적절한 판단을 할 수 있도록)\n",
    "\n",
    "\"\"\""
   ]
  },
  {
   "cell_type": "code",
   "execution_count": null,
   "metadata": {},
   "outputs": [],
   "source": [
    "#드론시대 \n",
    "#택배(택배창고-> a,b,c,d,e -> 택배창고) 5! 5팩토리얼 경우의 수.\n",
    "#다항시간(현실적 솔루션이 나올 시간)까지 나오지 않는다. \n",
    "#환경적인 요인도 생각. 바람, 그런 것\n",
    "#P NP 난제. AI로 접근. 최적의 솔루션이라고 보장은 아니고 확률적으로 해결하겠다.\n",
    "#AI가 황당한 행동하는걸 줄이는게 관건\n"
   ]
  },
  {
   "cell_type": "code",
   "execution_count": 217,
   "metadata": {},
   "outputs": [
    {
     "name": "stdout",
     "output_type": "stream",
     "text": [
      "10입니다\n",
      "5보다 큽니다\n",
      "문장을 수행합니다\n"
     ]
    }
   ],
   "source": [
    "x=10\n",
    "if x==10: # 10하고 같다면\n",
    "    print(\"10입니다\") # 들여쓰기 안하면 IndentationError: expected an indented block\n",
    "    print(\"5보다 큽니다\")# 띄여쓰기 4칸 = 들여쓰기 tap\n",
    "print(\"문장을 수행합니다\")\n",
    "\n",
    "#비교를 할려면 \"==\" 두번써야한다. '='쓰면 같다라는 뜻.\n",
    "# not => != , "
   ]
  },
  {
   "cell_type": "code",
   "execution_count": 226,
   "metadata": {},
   "outputs": [],
   "source": [
    "# 참: \"test\" [1,2], (1,2), 1\n",
    "# 거짓; \"\", [], (), 0, None\n",
    "\n",
    "if None:\n",
    "    print(\"수행합니다\")\n",
    "    \n",
    "if a.get('nn'):\n",
    "    print(\"해당 키가 없습니다. 확인하세요\") #None으로 나왔을 경우 이런식으로 처리\n",
    "    "
   ]
  },
  {
   "cell_type": "code",
   "execution_count": 234,
   "metadata": {},
   "outputs": [
    {
     "name": "stdout",
     "output_type": "stream",
     "text": [
      "KK\n",
      "안녕\n",
      "하세요\n"
     ]
    }
   ],
   "source": [
    "# Pass를 사용하면 조건문 형식은 갖춰져 있으면서도 조건문 내용을 수행하지 않고 실행.\n",
    "x=10\n",
    "if x==10:\n",
    "    pass\n",
    "print(\"KK\")\n",
    "\n",
    "if x==10:\n",
    "    print(\"안녕\")\n",
    "    if x%2==0: # x%2 => 짝수이면\n",
    "        print(\"하세요\")\n",
    "#indent Error 들여쓰기 관련 에러\n"
   ]
  },
  {
   "cell_type": "code",
   "execution_count": 238,
   "metadata": {},
   "outputs": [
    {
     "name": "stdout",
     "output_type": "stream",
     "text": [
      "x에는\n",
      "5입니다.\n"
     ]
    }
   ],
   "source": [
    "x=5\n",
    "if x==5:\n",
    "    print(\"x에는\")\n",
    "print(\"5입니다.\")"
   ]
  },
  {
   "cell_type": "code",
   "execution_count": 241,
   "metadata": {},
   "outputs": [
    {
     "name": "stdout",
     "output_type": "stream",
     "text": [
      "3이상\n",
      "10미만\n",
      "입니다\n"
     ]
    }
   ],
   "source": [
    "x=5 \n",
    "if x>=3:\n",
    "    print(\"3이상\")\n",
    "    if x<10:\n",
    "        print(\"10미만\")\n",
    "    if x<5:\n",
    "        print(\"5미만\")\n",
    "print(\"입니다\")"
   ]
  },
  {
   "cell_type": "code",
   "execution_count": 243,
   "metadata": {},
   "outputs": [
    {
     "name": "stdout",
     "output_type": "stream",
     "text": [
      "거짓\n",
      "참\n",
      "거짓\n"
     ]
    }
   ],
   "source": [
    "if []:\n",
    "    print(\"참\")\n",
    "else:\n",
    "    print(\"거짓\")\n",
    "    \n",
    "if [1,2]: #참 문장 수행\n",
    "    print(\"참\")\n",
    "else:\n",
    "    print(\"거짓\")\n",
    "    \n",
    "if None: # 거짓 문장 수행\n",
    "    print(\"참\")\n",
    "else:\n",
    "    print(\"거짓\")"
   ]
  },
  {
   "cell_type": "code",
   "execution_count": 247,
   "metadata": {},
   "outputs": [
    {
     "data": {
      "text/plain": [
       "False"
      ]
     },
     "execution_count": 247,
     "metadata": {},
     "output_type": "execute_result"
    }
   ],
   "source": [
    "bool(0) #False\n",
    "bool(10) #True\n",
    "bool('python') #True\n",
    "bool('') #False"
   ]
  },
  {
   "cell_type": "code",
   "execution_count": 250,
   "metadata": {},
   "outputs": [
    {
     "name": "stdout",
     "output_type": "stream",
     "text": [
      "3\n"
     ]
    },
    {
     "data": {
      "text/plain": [
       "[1, 2]"
      ]
     },
     "execution_count": 250,
     "metadata": {},
     "output_type": "execute_result"
    }
   ],
   "source": [
    "a= [1,2,3]\n",
    "if a: #리스트 채워져있으니깐,True. 빈 리스트는 거짓.\n",
    "    print(a.pop()) #중첩함수, 안쪽 함수부터 수행. pop 함수 마지막 입력된 값을 꺼내는것 #3ㅁ\n",
    "a   #[1, 2]"
   ]
  },
  {
   "cell_type": "code",
   "execution_count": 251,
   "metadata": {},
   "outputs": [
    {
     "name": "stdout",
     "output_type": "stream",
     "text": [
      "3\n",
      "2\n",
      "1\n"
     ]
    }
   ],
   "source": [
    "a=[1,2,3] #3 ->[1,2] # 2-> [1]\n",
    "while a: \n",
    "        print(a.pop())\n",
    "    \n",
    "\n",
    "# while(~동안), a 변수 값이 참인 동안에 계속 반복해라.(반복문)\n",
    "#pop 가장 마지막에 입력된 순으로 꺼내고 제거됨."
   ]
  },
  {
   "cell_type": "code",
   "execution_count": 5,
   "metadata": {},
   "outputs": [
    {
     "name": "stdout",
     "output_type": "stream",
     "text": [
      "10\n",
      "10보다 커요\n"
     ]
    }
   ],
   "source": [
    "a=int(input())\n",
    "if a<10:\n",
    "    print(\"10보다 작아요\")\n",
    "else:\n",
    "    print(\"10보다 커요\")"
   ]
  },
  {
   "cell_type": "code",
   "execution_count": 9,
   "metadata": {},
   "outputs": [
    {
     "ename": "SyntaxError",
     "evalue": "unexpected EOF while parsing (<ipython-input-9-c05bc5cb11d0>, line 4)",
     "output_type": "error",
     "traceback": [
      "\u001b[1;36m  File \u001b[1;32m\"<ipython-input-9-c05bc5cb11d0>\"\u001b[1;36m, line \u001b[1;32m4\u001b[0m\n\u001b[1;33m    \u001b[0m\n\u001b[1;37m    ^\u001b[0m\n\u001b[1;31mSyntaxError\u001b[0m\u001b[1;31m:\u001b[0m unexpected EOF while parsing\n"
     ]
    }
   ],
   "source": [
    "#for문 사용 방법\n",
    "\n",
    "for i in range(1,5000): # (10)-> 0~9까지\n",
    "    print()\n"
   ]
  },
  {
   "cell_type": "code",
   "execution_count": 2,
   "metadata": {},
   "outputs": [
    {
     "name": "stdout",
     "output_type": "stream",
     "text": [
      "표준가격: 27000\n",
      "Cash 쿠폰: 3000\n",
      "24000\n"
     ]
    }
   ],
   "source": [
    "#문제 2번\n",
    "p=int(input(\"표준가격: \"))\n",
    "g=int(input(\"Cash 쿠폰: \"))\n",
    "print(int(p-g))\n",
    "\n"
   ]
  },
  {
   "cell_type": "code",
   "execution_count": 1,
   "metadata": {},
   "outputs": [
    {
     "name": "stdout",
     "output_type": "stream",
     "text": [
      "27000\n",
      "3000\n",
      "24000\n"
     ]
    }
   ],
   "source": [
    "#문제 2번\n",
    "x=int(input())\n",
    "y=int(input())\n",
    "print(x-y)\n",
    "     \n"
   ]
  },
  {
   "cell_type": "code",
   "execution_count": 18,
   "metadata": {},
   "outputs": [
    {
     "data": {
      "text/plain": [
       "(-10, -8, -6, -4, -2, 0, 2, 4, 6, 8)"
      ]
     },
     "execution_count": 18,
     "metadata": {},
     "output_type": "execute_result"
    }
   ],
   "source": [
    "#문제 3번\n",
    "\n",
    "a=tuple(range(-10,11,2))\n",
    "a=list(a)\n",
    "a.pop(10)\n",
    "tuple(a)\n"
   ]
  },
  {
   "cell_type": "code",
   "execution_count": 19,
   "metadata": {},
   "outputs": [
    {
     "data": {
      "text/plain": [
       "(-10, -8, -6, -4, -2, 0, 2, 4, 6, 8)"
      ]
     },
     "execution_count": 19,
     "metadata": {},
     "output_type": "execute_result"
    }
   ],
   "source": [
    "#문제 3번\n",
    "a=list(tuple(range(-10,11,2)))\n",
    "a.pop(10)\n",
    "tuple(a)"
   ]
  },
  {
   "cell_type": "code",
   "execution_count": 35,
   "metadata": {},
   "outputs": [
    {
     "data": {
      "text/plain": [
       "(75, 97, 9, -15)"
      ]
     },
     "execution_count": 35,
     "metadata": {},
     "output_type": "execute_result"
    }
   ],
   "source": [
    "#문제 4번\n",
    "n=(-32,75,97,-10,9,32,4,-15,0,76,14,2)\n",
    "list(n)\n",
    "y =[]\n",
    "for x in n:\n",
    "    if x%2 !=0:\n",
    "        y.append(x)\n",
    "tuple(y)\n"
   ]
  },
  {
   "cell_type": "code",
   "execution_count": 38,
   "metadata": {},
   "outputs": [
    {
     "data": {
      "text/plain": [
       "{1, 2, 3, 4, 5}"
      ]
     },
     "execution_count": 38,
     "metadata": {},
     "output_type": "execute_result"
    }
   ],
   "source": [
    "#문제 5 set을 사용\n",
    "a=[1,1,1,2,2,3,3,3,4,4,5]\n",
    "s=set(a)\n",
    "s"
   ]
  },
  {
   "cell_type": "code",
   "execution_count": 41,
   "metadata": {},
   "outputs": [
    {
     "data": {
      "text/plain": [
       "[1,\n",
       " 2,\n",
       " 3,\n",
       " 4,\n",
       " 5,\n",
       " 6,\n",
       " 7,\n",
       " 8,\n",
       " 9,\n",
       " 10,\n",
       " 11,\n",
       " 12,\n",
       " 13,\n",
       " 14,\n",
       " 15,\n",
       " 16,\n",
       " 17,\n",
       " 18,\n",
       " 19,\n",
       " 20,\n",
       " 21,\n",
       " 22,\n",
       " 23,\n",
       " 24,\n",
       " 25,\n",
       " 26,\n",
       " 27,\n",
       " 28,\n",
       " 29,\n",
       " 30,\n",
       " 31,\n",
       " 32,\n",
       " 33,\n",
       " 34,\n",
       " 35,\n",
       " 36,\n",
       " 37,\n",
       " 38,\n",
       " 39,\n",
       " 40,\n",
       " 41,\n",
       " 42,\n",
       " 43,\n",
       " 44,\n",
       " 45,\n",
       " 46,\n",
       " 47,\n",
       " 48,\n",
       " 49,\n",
       " 50,\n",
       " 51,\n",
       " 52,\n",
       " 53,\n",
       " 54,\n",
       " 55,\n",
       " 56,\n",
       " 57,\n",
       " 58,\n",
       " 59,\n",
       " 60,\n",
       " 61,\n",
       " 62,\n",
       " 63,\n",
       " 64,\n",
       " 65,\n",
       " 66,\n",
       " 67,\n",
       " 68,\n",
       " 69,\n",
       " 70,\n",
       " 71,\n",
       " 72,\n",
       " 73,\n",
       " 74,\n",
       " 75,\n",
       " 76,\n",
       " 77,\n",
       " 78,\n",
       " 79,\n",
       " 80,\n",
       " 81,\n",
       " 82,\n",
       " 83,\n",
       " 84,\n",
       " 85,\n",
       " 86,\n",
       " 87,\n",
       " 88,\n",
       " 89,\n",
       " 90,\n",
       " 91,\n",
       " 92,\n",
       " 93,\n",
       " 94,\n",
       " 95,\n",
       " 96,\n",
       " 97,\n",
       " 98,\n",
       " 99,\n",
       " 100,\n",
       " 101,\n",
       " 102,\n",
       " 103,\n",
       " 104,\n",
       " 105,\n",
       " 106,\n",
       " 107,\n",
       " 108,\n",
       " 109,\n",
       " 110,\n",
       " 111,\n",
       " 112,\n",
       " 113,\n",
       " 114,\n",
       " 115,\n",
       " 116,\n",
       " 117,\n",
       " 118,\n",
       " 119,\n",
       " 120,\n",
       " 121,\n",
       " 122,\n",
       " 123,\n",
       " 124,\n",
       " 125,\n",
       " 126,\n",
       " 127,\n",
       " 128,\n",
       " 129,\n",
       " 130,\n",
       " 131,\n",
       " 132,\n",
       " 133,\n",
       " 134,\n",
       " 135,\n",
       " 136,\n",
       " 137,\n",
       " 138,\n",
       " 139,\n",
       " 140,\n",
       " 141,\n",
       " 142,\n",
       " 143,\n",
       " 144,\n",
       " 145,\n",
       " 146,\n",
       " 147,\n",
       " 148,\n",
       " 149,\n",
       " 150,\n",
       " 151,\n",
       " 152,\n",
       " 153,\n",
       " 154,\n",
       " 155,\n",
       " 156,\n",
       " 157,\n",
       " 158,\n",
       " 159,\n",
       " 160,\n",
       " 161,\n",
       " 162,\n",
       " 163,\n",
       " 164,\n",
       " 165,\n",
       " 166,\n",
       " 167,\n",
       " 168,\n",
       " 169,\n",
       " 170,\n",
       " 171,\n",
       " 172,\n",
       " 173,\n",
       " 174,\n",
       " 175,\n",
       " 176,\n",
       " 177,\n",
       " 178,\n",
       " 179,\n",
       " 180,\n",
       " 181,\n",
       " 182,\n",
       " 183,\n",
       " 184,\n",
       " 185,\n",
       " 186,\n",
       " 187,\n",
       " 188,\n",
       " 189,\n",
       " 190,\n",
       " 191,\n",
       " 192,\n",
       " 193,\n",
       " 194,\n",
       " 195,\n",
       " 196,\n",
       " 197,\n",
       " 198,\n",
       " 199,\n",
       " 200,\n",
       " 201,\n",
       " 202,\n",
       " 203,\n",
       " 204,\n",
       " 205,\n",
       " 206,\n",
       " 207,\n",
       " 208,\n",
       " 209,\n",
       " 210,\n",
       " 211,\n",
       " 212,\n",
       " 213,\n",
       " 214,\n",
       " 215,\n",
       " 216,\n",
       " 217,\n",
       " 218,\n",
       " 219,\n",
       " 220,\n",
       " 221,\n",
       " 222,\n",
       " 223,\n",
       " 224,\n",
       " 225,\n",
       " 226,\n",
       " 227,\n",
       " 228,\n",
       " 229,\n",
       " 230,\n",
       " 231,\n",
       " 232,\n",
       " 233,\n",
       " 234,\n",
       " 235,\n",
       " 236,\n",
       " 237,\n",
       " 238,\n",
       " 239,\n",
       " 240,\n",
       " 241,\n",
       " 242,\n",
       " 243,\n",
       " 244,\n",
       " 245,\n",
       " 246,\n",
       " 247,\n",
       " 248,\n",
       " 249,\n",
       " 250,\n",
       " 251,\n",
       " 252,\n",
       " 253,\n",
       " 254,\n",
       " 255,\n",
       " 256,\n",
       " 257,\n",
       " 258,\n",
       " 259,\n",
       " 260,\n",
       " 261,\n",
       " 262,\n",
       " 263,\n",
       " 264,\n",
       " 265,\n",
       " 266,\n",
       " 267,\n",
       " 268,\n",
       " 269,\n",
       " 270,\n",
       " 271,\n",
       " 272,\n",
       " 273,\n",
       " 274,\n",
       " 275,\n",
       " 276,\n",
       " 277,\n",
       " 278,\n",
       " 279,\n",
       " 280,\n",
       " 281,\n",
       " 282,\n",
       " 283,\n",
       " 284,\n",
       " 285,\n",
       " 286,\n",
       " 287,\n",
       " 288,\n",
       " 289,\n",
       " 290,\n",
       " 291,\n",
       " 292,\n",
       " 293,\n",
       " 294,\n",
       " 295,\n",
       " 296,\n",
       " 297,\n",
       " 298,\n",
       " 299,\n",
       " 300,\n",
       " 301,\n",
       " 302,\n",
       " 303,\n",
       " 304,\n",
       " 305,\n",
       " 306,\n",
       " 307,\n",
       " 308,\n",
       " 309,\n",
       " 310,\n",
       " 311,\n",
       " 312,\n",
       " 313,\n",
       " 314,\n",
       " 315,\n",
       " 316,\n",
       " 317,\n",
       " 318,\n",
       " 319,\n",
       " 320,\n",
       " 321,\n",
       " 322,\n",
       " 323,\n",
       " 324,\n",
       " 325,\n",
       " 326,\n",
       " 327,\n",
       " 328,\n",
       " 329,\n",
       " 330,\n",
       " 331,\n",
       " 332,\n",
       " 333,\n",
       " 334,\n",
       " 335,\n",
       " 336,\n",
       " 337,\n",
       " 338,\n",
       " 339,\n",
       " 340,\n",
       " 341,\n",
       " 342,\n",
       " 343,\n",
       " 344,\n",
       " 345,\n",
       " 346,\n",
       " 347,\n",
       " 348,\n",
       " 349,\n",
       " 350,\n",
       " 351,\n",
       " 352,\n",
       " 353,\n",
       " 354,\n",
       " 355,\n",
       " 356,\n",
       " 357,\n",
       " 358,\n",
       " 359,\n",
       " 360,\n",
       " 361,\n",
       " 362,\n",
       " 363,\n",
       " 364,\n",
       " 365,\n",
       " 366,\n",
       " 367,\n",
       " 368,\n",
       " 369,\n",
       " 370,\n",
       " 371,\n",
       " 372,\n",
       " 373,\n",
       " 374,\n",
       " 375,\n",
       " 376,\n",
       " 377,\n",
       " 378,\n",
       " 379,\n",
       " 380,\n",
       " 381,\n",
       " 382,\n",
       " 383,\n",
       " 384,\n",
       " 385,\n",
       " 386,\n",
       " 387,\n",
       " 388,\n",
       " 389,\n",
       " 390,\n",
       " 391,\n",
       " 392,\n",
       " 393,\n",
       " 394,\n",
       " 395,\n",
       " 396,\n",
       " 397,\n",
       " 398,\n",
       " 399,\n",
       " 400,\n",
       " 401,\n",
       " 402,\n",
       " 403,\n",
       " 404,\n",
       " 405,\n",
       " 406,\n",
       " 407,\n",
       " 408,\n",
       " 409,\n",
       " 410,\n",
       " 411,\n",
       " 412,\n",
       " 413,\n",
       " 414,\n",
       " 415,\n",
       " 416,\n",
       " 417,\n",
       " 418,\n",
       " 419,\n",
       " 420,\n",
       " 421,\n",
       " 422,\n",
       " 423,\n",
       " 424,\n",
       " 425,\n",
       " 426,\n",
       " 427,\n",
       " 428,\n",
       " 429,\n",
       " 430,\n",
       " 431,\n",
       " 432,\n",
       " 433,\n",
       " 434,\n",
       " 435,\n",
       " 436,\n",
       " 437,\n",
       " 438,\n",
       " 439,\n",
       " 440,\n",
       " 441,\n",
       " 442,\n",
       " 443,\n",
       " 444,\n",
       " 445,\n",
       " 446,\n",
       " 447,\n",
       " 448,\n",
       " 449,\n",
       " 450,\n",
       " 451,\n",
       " 452,\n",
       " 453,\n",
       " 454,\n",
       " 455,\n",
       " 456,\n",
       " 457,\n",
       " 458,\n",
       " 459,\n",
       " 460,\n",
       " 461,\n",
       " 462,\n",
       " 463,\n",
       " 464,\n",
       " 465,\n",
       " 466,\n",
       " 467,\n",
       " 468,\n",
       " 469,\n",
       " 470,\n",
       " 471,\n",
       " 472,\n",
       " 473,\n",
       " 474,\n",
       " 475,\n",
       " 476,\n",
       " 477,\n",
       " 478,\n",
       " 479,\n",
       " 480,\n",
       " 481,\n",
       " 482,\n",
       " 483,\n",
       " 484,\n",
       " 485,\n",
       " 486,\n",
       " 487,\n",
       " 488,\n",
       " 489,\n",
       " 490,\n",
       " 491,\n",
       " 492,\n",
       " 493,\n",
       " 494,\n",
       " 495,\n",
       " 496,\n",
       " 497,\n",
       " 498,\n",
       " 499,\n",
       " 500,\n",
       " 501,\n",
       " 502,\n",
       " 503,\n",
       " 504,\n",
       " 505,\n",
       " 506,\n",
       " 507,\n",
       " 508,\n",
       " 509,\n",
       " 510,\n",
       " 511,\n",
       " 512,\n",
       " 513,\n",
       " 514,\n",
       " 515,\n",
       " 516,\n",
       " 517,\n",
       " 518,\n",
       " 519,\n",
       " 520,\n",
       " 521,\n",
       " 522,\n",
       " 523,\n",
       " 524,\n",
       " 525,\n",
       " 526,\n",
       " 527,\n",
       " 528,\n",
       " 529,\n",
       " 530,\n",
       " 531,\n",
       " 532,\n",
       " 533,\n",
       " 534,\n",
       " 535,\n",
       " 536,\n",
       " 537,\n",
       " 538,\n",
       " 539,\n",
       " 540,\n",
       " 541,\n",
       " 542,\n",
       " 543,\n",
       " 544,\n",
       " 545,\n",
       " 546,\n",
       " 547,\n",
       " 548,\n",
       " 549,\n",
       " 550,\n",
       " 551,\n",
       " 552,\n",
       " 553,\n",
       " 554,\n",
       " 555,\n",
       " 556,\n",
       " 557,\n",
       " 558,\n",
       " 559,\n",
       " 560,\n",
       " 561,\n",
       " 562,\n",
       " 563,\n",
       " 564,\n",
       " 565,\n",
       " 566,\n",
       " 567,\n",
       " 568,\n",
       " 569,\n",
       " 570,\n",
       " 571,\n",
       " 572,\n",
       " 573,\n",
       " 574,\n",
       " 575,\n",
       " 576,\n",
       " 577,\n",
       " 578,\n",
       " 579,\n",
       " 580,\n",
       " 581,\n",
       " 582,\n",
       " 583,\n",
       " 584,\n",
       " 585,\n",
       " 586,\n",
       " 587,\n",
       " 588,\n",
       " 589,\n",
       " 590,\n",
       " 591,\n",
       " 592,\n",
       " 593,\n",
       " 594,\n",
       " 595,\n",
       " 596,\n",
       " 597,\n",
       " 598,\n",
       " 599,\n",
       " 600,\n",
       " 601,\n",
       " 602,\n",
       " 603,\n",
       " 604,\n",
       " 605,\n",
       " 606,\n",
       " 607,\n",
       " 608,\n",
       " 609,\n",
       " 610,\n",
       " 611,\n",
       " 612,\n",
       " 613,\n",
       " 614,\n",
       " 615,\n",
       " 616,\n",
       " 617,\n",
       " 618,\n",
       " 619,\n",
       " 620,\n",
       " 621,\n",
       " 622,\n",
       " 623,\n",
       " 624,\n",
       " 625,\n",
       " 626,\n",
       " 627,\n",
       " 628,\n",
       " 629,\n",
       " 630,\n",
       " 631,\n",
       " 632,\n",
       " 633,\n",
       " 634,\n",
       " 635,\n",
       " 636,\n",
       " 637,\n",
       " 638,\n",
       " 639,\n",
       " 640,\n",
       " 641,\n",
       " 642,\n",
       " 643,\n",
       " 644,\n",
       " 645,\n",
       " 646,\n",
       " 647,\n",
       " 648,\n",
       " 649,\n",
       " 650,\n",
       " 651,\n",
       " 652,\n",
       " 653,\n",
       " 654,\n",
       " 655,\n",
       " 656,\n",
       " 657,\n",
       " 658,\n",
       " 659,\n",
       " 660,\n",
       " 661,\n",
       " 662,\n",
       " 663,\n",
       " 664,\n",
       " 665,\n",
       " 666,\n",
       " 667,\n",
       " 668,\n",
       " 669,\n",
       " 670,\n",
       " 671,\n",
       " 672,\n",
       " 673,\n",
       " 674,\n",
       " 675,\n",
       " 676,\n",
       " 677,\n",
       " 678,\n",
       " 679,\n",
       " 680,\n",
       " 681,\n",
       " 682,\n",
       " 683,\n",
       " 684,\n",
       " 685,\n",
       " 686,\n",
       " 687,\n",
       " 688,\n",
       " 689,\n",
       " 690,\n",
       " 691,\n",
       " 692,\n",
       " 693,\n",
       " 694,\n",
       " 695,\n",
       " 696,\n",
       " 697,\n",
       " 698,\n",
       " 699,\n",
       " 700,\n",
       " 701,\n",
       " 702,\n",
       " 703,\n",
       " 704,\n",
       " 705,\n",
       " 706,\n",
       " 707,\n",
       " 708,\n",
       " 709,\n",
       " 710,\n",
       " 711,\n",
       " 712,\n",
       " 713,\n",
       " 714,\n",
       " 715,\n",
       " 716,\n",
       " 717,\n",
       " 718,\n",
       " 719,\n",
       " 720,\n",
       " 721,\n",
       " 722,\n",
       " 723,\n",
       " 724,\n",
       " 725,\n",
       " 726,\n",
       " 727,\n",
       " 728,\n",
       " 729,\n",
       " 730,\n",
       " 731,\n",
       " 732,\n",
       " 733,\n",
       " 734,\n",
       " 735,\n",
       " 736,\n",
       " 737,\n",
       " 738,\n",
       " 739,\n",
       " 740,\n",
       " 741,\n",
       " 742,\n",
       " 743,\n",
       " 744,\n",
       " 745,\n",
       " 746,\n",
       " 747,\n",
       " 748,\n",
       " 749,\n",
       " 750,\n",
       " 751,\n",
       " 752,\n",
       " 753,\n",
       " 754,\n",
       " 755,\n",
       " 756,\n",
       " 757,\n",
       " 758,\n",
       " 759,\n",
       " 760,\n",
       " 761,\n",
       " 762,\n",
       " 763,\n",
       " 764,\n",
       " 765,\n",
       " 766,\n",
       " 767,\n",
       " 768,\n",
       " 769,\n",
       " 770,\n",
       " 771,\n",
       " 772,\n",
       " 773,\n",
       " 774,\n",
       " 775,\n",
       " 776,\n",
       " 777,\n",
       " 778,\n",
       " 779,\n",
       " 780,\n",
       " 781,\n",
       " 782,\n",
       " 783,\n",
       " 784,\n",
       " 785,\n",
       " 786,\n",
       " 787,\n",
       " 788,\n",
       " 789,\n",
       " 790,\n",
       " 791,\n",
       " 792,\n",
       " 793,\n",
       " 794,\n",
       " 795,\n",
       " 796,\n",
       " 797,\n",
       " 798,\n",
       " 799,\n",
       " 800,\n",
       " 801,\n",
       " 802,\n",
       " 803,\n",
       " 804,\n",
       " 805,\n",
       " 806,\n",
       " 807,\n",
       " 808,\n",
       " 809,\n",
       " 810,\n",
       " 811,\n",
       " 812,\n",
       " 813,\n",
       " 814,\n",
       " 815,\n",
       " 816,\n",
       " 817,\n",
       " 818,\n",
       " 819,\n",
       " 820,\n",
       " 821,\n",
       " 822,\n",
       " 823,\n",
       " 824,\n",
       " 825,\n",
       " 826,\n",
       " 827,\n",
       " 828,\n",
       " 829,\n",
       " 830,\n",
       " 831,\n",
       " 832,\n",
       " 833,\n",
       " 834,\n",
       " 835,\n",
       " 836,\n",
       " 837,\n",
       " 838,\n",
       " 839,\n",
       " 840,\n",
       " 841,\n",
       " 842,\n",
       " 843,\n",
       " 844,\n",
       " 845,\n",
       " 846,\n",
       " 847,\n",
       " 848,\n",
       " 849,\n",
       " 850,\n",
       " 851,\n",
       " 852,\n",
       " 853,\n",
       " 854,\n",
       " 855,\n",
       " 856,\n",
       " 857,\n",
       " 858,\n",
       " 859,\n",
       " 860,\n",
       " 861,\n",
       " 862,\n",
       " 863,\n",
       " 864,\n",
       " 865,\n",
       " 866,\n",
       " 867,\n",
       " 868,\n",
       " 869,\n",
       " 870,\n",
       " 871,\n",
       " 872,\n",
       " 873,\n",
       " 874,\n",
       " 875,\n",
       " 876,\n",
       " 877,\n",
       " 878,\n",
       " 879,\n",
       " 880,\n",
       " 881,\n",
       " 882,\n",
       " 883,\n",
       " 884,\n",
       " 885,\n",
       " 886,\n",
       " 887,\n",
       " 888,\n",
       " 889,\n",
       " 890,\n",
       " 891,\n",
       " 892,\n",
       " 893,\n",
       " 894,\n",
       " 895,\n",
       " 896,\n",
       " 897,\n",
       " 898,\n",
       " 899,\n",
       " 900,\n",
       " 901,\n",
       " 902,\n",
       " 903,\n",
       " 904,\n",
       " 905,\n",
       " 906,\n",
       " 907,\n",
       " 908,\n",
       " 909,\n",
       " 910,\n",
       " 911,\n",
       " 912,\n",
       " 913,\n",
       " 914,\n",
       " 915,\n",
       " 916,\n",
       " 917,\n",
       " 918,\n",
       " 919,\n",
       " 920,\n",
       " 921,\n",
       " 922,\n",
       " 923,\n",
       " 924,\n",
       " 925,\n",
       " 926,\n",
       " 927,\n",
       " 928,\n",
       " 929,\n",
       " 930,\n",
       " 931,\n",
       " 932,\n",
       " 933,\n",
       " 934,\n",
       " 935,\n",
       " 936,\n",
       " 937,\n",
       " 938,\n",
       " 939,\n",
       " 940,\n",
       " 941,\n",
       " 942,\n",
       " 943,\n",
       " 944,\n",
       " 945,\n",
       " 946,\n",
       " 947,\n",
       " 948,\n",
       " 949,\n",
       " 950,\n",
       " 951,\n",
       " 952,\n",
       " 953,\n",
       " 954,\n",
       " 955,\n",
       " 956,\n",
       " 957,\n",
       " 958,\n",
       " 959,\n",
       " 960,\n",
       " 961,\n",
       " 962,\n",
       " 963,\n",
       " 964,\n",
       " 965,\n",
       " 966,\n",
       " 967,\n",
       " 968,\n",
       " 969,\n",
       " 970,\n",
       " 971,\n",
       " 972,\n",
       " 973,\n",
       " 974,\n",
       " 975,\n",
       " 976,\n",
       " 977,\n",
       " 978,\n",
       " 979,\n",
       " 980,\n",
       " 981,\n",
       " 982,\n",
       " 983,\n",
       " 984,\n",
       " 985,\n",
       " 986,\n",
       " 987,\n",
       " 988,\n",
       " 989,\n",
       " 990,\n",
       " 991,\n",
       " 992,\n",
       " 993,\n",
       " 994,\n",
       " 995,\n",
       " 996,\n",
       " 997,\n",
       " 998,\n",
       " 999,\n",
       " 1000,\n",
       " ...]"
      ]
     },
     "execution_count": 41,
     "metadata": {},
     "output_type": "execute_result"
    }
   ],
   "source": [
    "#문제 1번\n",
    "list(range(1,5001))\n",
    "ts\n",
    "#먼저 숫자들을 스트링으로 변경해서 각자리 더해서 나오는 값이"
   ]
  },
  {
   "cell_type": "code",
   "execution_count": 2,
   "metadata": {},
   "outputs": [
    {
     "name": "stdout",
     "output_type": "stream",
     "text": [
      "12345\n",
      "5000\n"
     ]
    },
    {
     "ename": "ValueError",
     "evalue": "invalid literal for int() with base 10: ''",
     "output_type": "error",
     "traceback": [
      "\u001b[1;31m---------------------------------------------------------------------------\u001b[0m",
      "\u001b[1;31mValueError\u001b[0m                                Traceback (most recent call last)",
      "\u001b[1;32m<ipython-input-2-09c3a0f1889e>\u001b[0m in \u001b[0;36m<module>\u001b[1;34m\u001b[0m\n\u001b[0;32m      1\u001b[0m \u001b[0mpay\u001b[0m \u001b[1;33m=\u001b[0m \u001b[0mint\u001b[0m\u001b[1;33m(\u001b[0m\u001b[0minput\u001b[0m\u001b[1;33m(\u001b[0m\u001b[1;33m)\u001b[0m\u001b[1;33m)\u001b[0m\u001b[1;33m\u001b[0m\u001b[1;33m\u001b[0m\u001b[0m\n\u001b[1;32m----> 2\u001b[1;33m \u001b[0mcoupon\u001b[0m \u001b[1;33m=\u001b[0m \u001b[0mint\u001b[0m\u001b[1;33m(\u001b[0m\u001b[0minput\u001b[0m\u001b[1;33m(\u001b[0m\u001b[1;33m)\u001b[0m\u001b[1;33m[\u001b[0m\u001b[1;36m4\u001b[0m\u001b[1;33m:\u001b[0m\u001b[1;33m]\u001b[0m\u001b[1;33m)\u001b[0m\u001b[1;33m\u001b[0m\u001b[1;33m\u001b[0m\u001b[0m\n\u001b[0m\u001b[0;32m      3\u001b[0m \u001b[0mprint\u001b[0m\u001b[1;33m(\u001b[0m\u001b[0mpay\u001b[0m \u001b[1;33m-\u001b[0m \u001b[0mcoupon\u001b[0m\u001b[1;33m)\u001b[0m\u001b[1;33m\u001b[0m\u001b[1;33m\u001b[0m\u001b[0m\n",
      "\u001b[1;31mValueError\u001b[0m: invalid literal for int() with base 10: ''"
     ]
    }
   ],
   "source": [
    "pay = int(input())\n",
    "coupon = int(input()[4:])\n",
    "print(pay - coupon)"
   ]
  },
  {
   "cell_type": "code",
   "execution_count": null,
   "metadata": {},
   "outputs": [],
   "source": []
  }
 ],
 "metadata": {
  "kernelspec": {
   "display_name": "Python 3",
   "language": "python",
   "name": "python3"
  },
  "language_info": {
   "codemirror_mode": {
    "name": "ipython",
    "version": 3
   },
   "file_extension": ".py",
   "mimetype": "text/x-python",
   "name": "python",
   "nbconvert_exporter": "python",
   "pygments_lexer": "ipython3",
   "version": "3.7.4"
  }
 },
 "nbformat": 4,
 "nbformat_minor": 2
}
