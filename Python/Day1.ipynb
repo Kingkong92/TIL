{
 "cells": [
  {
   "cell_type": "code",
   "execution_count": 2,
   "metadata": {},
   "outputs": [
    {
     "ename": "SyntaxError",
     "evalue": "invalid syntax (<ipython-input-2-081eff66f361>, line 2)",
     "output_type": "error",
     "traceback": [
      "\u001b[1;36m  File \u001b[1;32m\"<ipython-input-2-081eff66f361>\"\u001b[1;36m, line \u001b[1;32m2\u001b[0m\n\u001b[1;33m    안녕?\u001b[0m\n\u001b[1;37m      ^\u001b[0m\n\u001b[1;31mSyntaxError\u001b[0m\u001b[1;31m:\u001b[0m invalid syntax\n"
     ]
    }
   ],
   "source": [
    "print(\"안녕하세요\")\n",
    "안녕?"
   ]
  },
  {
   "cell_type": "code",
   "execution_count": null,
   "metadata": {},
   "outputs": [],
   "source": []
  },
  {
   "cell_type": "code",
   "execution_count": null,
   "metadata": {},
   "outputs": [],
   "source": []
  },
  {
   "cell_type": "code",
   "execution_count": 3,
   "metadata": {},
   "outputs": [
    {
     "ename": "NameError",
     "evalue": "name '안녕' is not defined",
     "output_type": "error",
     "traceback": [
      "\u001b[1;31m---------------------------------------------------------------------------\u001b[0m",
      "\u001b[1;31mNameError\u001b[0m                                 Traceback (most recent call last)",
      "\u001b[1;32m<ipython-input-3-d2999925c400>\u001b[0m in \u001b[0;36m<module>\u001b[1;34m\u001b[0m\n\u001b[1;32m----> 1\u001b[1;33m \u001b[0m안녕\u001b[0m\u001b[1;33m\u001b[0m\u001b[1;33m\u001b[0m\u001b[0m\n\u001b[0m",
      "\u001b[1;31mNameError\u001b[0m: name '안녕' is not defined"
     ]
    }
   ],
   "source": [
    "안녕"
   ]
  },
  {
   "cell_type": "code",
   "execution_count": 4,
   "metadata": {},
   "outputs": [
    {
     "data": {
      "text/plain": [
       "'\\n문자열로 인식, 변수로 인식하지 않는다. 메모를 해야한다면 이렇게 쓰면 된다. \\nPython에서 숫자 자료형: 정수, 실수, 복소수 \\n정수, 실수 위주로 학습.\\n'"
      ]
     },
     "execution_count": 4,
     "metadata": {},
     "output_type": "execute_result"
    }
   ],
   "source": [
    "\"\"\"\n",
    "문자열로 인식, 변수로 인식하지 않는다. 메모를 해야한다면 이렇게 쓰면 된다. \n",
    "Python에서 숫자 자료형: 정수, 실수, 복소수 \n",
    "정수, 실수 위주로 학습.\n",
    "\"\"\""
   ]
  },
  {
   "cell_type": "code",
   "execution_count": 5,
   "metadata": {},
   "outputs": [
    {
     "data": {
      "text/plain": [
       "3"
      ]
     },
     "execution_count": 5,
     "metadata": {},
     "output_type": "execute_result"
    }
   ],
   "source": [
    "1+2 #더하기 연산(주석문: 실행을 하지 않는 문장. 비실행문, 코드 부연 설명)"
   ]
  },
  {
   "cell_type": "code",
   "execution_count": 11,
   "metadata": {},
   "outputs": [
    {
     "data": {
      "text/plain": [
       "2.0"
      ]
     },
     "execution_count": 11,
     "metadata": {},
     "output_type": "execute_result"
    }
   ],
   "source": [
    "1+2 #print(1+2) # 파이참에서는 print함수를 써야함. \n",
    "1/2 #Jupyter에선 print 안써도 된다. \n",
    "# 정수 / 정수(소수점없는거) => 실수(소수점 있는 자리) 파이썬 3버전.\n",
    "#이게 파이썬 3이상 경우 실수(정수/정수=실수), 2버전으로 깔면 정수(정수/정수=정수)\n",
    "4/2"
   ]
  },
  {
   "cell_type": "markdown",
   "metadata": {},
   "source": [
    "5/2"
   ]
  },
  {
   "cell_type": "code",
   "execution_count": 12,
   "metadata": {},
   "outputs": [
    {
     "data": {
      "text/plain": [
       "2.5"
      ]
     },
     "execution_count": 12,
     "metadata": {},
     "output_type": "execute_result"
    }
   ],
   "source": [
    "5/2"
   ]
  },
  {
   "cell_type": "code",
   "execution_count": 13,
   "metadata": {},
   "outputs": [
    {
     "data": {
      "text/plain": [
       "2"
      ]
     },
     "execution_count": 13,
     "metadata": {},
     "output_type": "execute_result"
    }
   ],
   "source": [
    "5//2"
   ]
  },
  {
   "cell_type": "code",
   "execution_count": 18,
   "metadata": {},
   "outputs": [
    {
     "data": {
      "text/plain": [
       "1.0"
      ]
     },
     "execution_count": 18,
     "metadata": {},
     "output_type": "execute_result"
    }
   ],
   "source": [
    "5/2\n",
    "5//2 # // 연산자: 소수점 이하 버림.\n",
    "#한 라인안에 2개를 쓸때, 마지막 라인을 기준으로 연산한다.\n",
    "5.5//2\n",
    "5%3 #5를 3으로 나눈 나머지 -> 2\n",
    "4//2 #2\n",
    "4//2.0 #2.0\n",
    "4.1//2.0 #2.0\n",
    "4.5//2.5 #원래 1.8 -> 1.0, 여기서 나중에 문제가 생길수 있다. "
   ]
  },
  {
   "cell_type": "code",
   "execution_count": 20,
   "metadata": {},
   "outputs": [
    {
     "data": {
      "text/plain": [
       "443470268655863474876428610181325958886999151856548129796491237458499584"
      ]
     },
     "execution_count": 20,
     "metadata": {},
     "output_type": "execute_result"
    }
   ],
   "source": [
    "# 숫자 % 2 -> 2로 나눈 나머지수; 0과 1을 나눌수 있다.\n",
    "x=501145613265126521321556123136512\n",
    "y=884913001166488449745123064153265165132\n",
    "x*y #숫자 범위가 아무리 커도 연산이 된다. 메모리가 받아주면 다 된다. \n",
    "#다른 프로그래밍이랑 다른 차이점. "
   ]
  },
  {
   "cell_type": "code",
   "execution_count": 21,
   "metadata": {},
   "outputs": [
    {
     "data": {
      "text/plain": [
       "1024"
      ]
     },
     "execution_count": 21,
     "metadata": {},
     "output_type": "execute_result"
    }
   ],
   "source": [
    "2**10 #지수값을 구할때. "
   ]
  },
  {
   "cell_type": "code",
   "execution_count": 24,
   "metadata": {
    "scrolled": true
   },
   "outputs": [
    {
     "data": {
      "text/plain": [
       "9"
      ]
     },
     "execution_count": 24,
     "metadata": {},
     "output_type": "execute_result"
    }
   ],
   "source": [
    "#실수 -> 정수 # int 함수 쓰기\n",
    "int(3.14)\n",
    "int(5/2)\n",
    "#문자로된 숫자-> 정수\n",
    "int('9')"
   ]
  },
  {
   "cell_type": "code",
   "execution_count": 25,
   "metadata": {},
   "outputs": [
    {
     "ename": "ValueError",
     "evalue": "invalid literal for int() with base 10: 'A'",
     "output_type": "error",
     "traceback": [
      "\u001b[1;31m---------------------------------------------------------------------------\u001b[0m",
      "\u001b[1;31mValueError\u001b[0m                                Traceback (most recent call last)",
      "\u001b[1;32m<ipython-input-25-58e5992d18f7>\u001b[0m in \u001b[0;36m<module>\u001b[1;34m\u001b[0m\n\u001b[1;32m----> 1\u001b[1;33m \u001b[0mint\u001b[0m\u001b[1;33m(\u001b[0m\u001b[1;34m'A'\u001b[0m\u001b[1;33m)\u001b[0m\u001b[1;33m\u001b[0m\u001b[1;33m\u001b[0m\u001b[0m\n\u001b[0m",
      "\u001b[1;31mValueError\u001b[0m: invalid literal for int() with base 10: 'A'"
     ]
    }
   ],
   "source": [
    "int('A') #문자열을 출력하는데 진짜 문자를 쓰면 오류가 난다."
   ]
  },
  {
   "cell_type": "code",
   "execution_count": 27,
   "metadata": {},
   "outputs": [
    {
     "data": {
      "text/plain": [
       "float"
      ]
     },
     "execution_count": 27,
     "metadata": {},
     "output_type": "execute_result"
    }
   ],
   "source": [
    "type (3.14) #내가 분석하고 있는 자료형을 잘 모를 경우 type함수(object)를 사용."
   ]
  },
  {
   "cell_type": "code",
   "execution_count": 28,
   "metadata": {},
   "outputs": [
    {
     "data": {
      "text/plain": [
       "int"
      ]
     },
     "execution_count": 28,
     "metadata": {},
     "output_type": "execute_result"
    }
   ],
   "source": [
    "type(5)"
   ]
  },
  {
   "cell_type": "code",
   "execution_count": 29,
   "metadata": {},
   "outputs": [
    {
     "data": {
      "text/plain": [
       "str"
      ]
     },
     "execution_count": 29,
     "metadata": {},
     "output_type": "execute_result"
    }
   ],
   "source": [
    "type('a') #str-> string을 나타낸다."
   ]
  },
  {
   "cell_type": "code",
   "execution_count": 30,
   "metadata": {},
   "outputs": [
    {
     "data": {
      "text/plain": [
       "(2, 1)"
      ]
     },
     "execution_count": 30,
     "metadata": {},
     "output_type": "execute_result"
    }
   ],
   "source": [
    "divmod(7,3) #*(2, 1) (몫, 나머지)"
   ]
  },
  {
   "cell_type": "code",
   "execution_count": 35,
   "metadata": {},
   "outputs": [
    {
     "data": {
      "text/plain": [
       "1"
      ]
     },
     "execution_count": 35,
     "metadata": {},
     "output_type": "execute_result"
    }
   ],
   "source": [
    "type(divmod(7,3)) #(2, 1) divmod-> 튜플형태로 몫, 나머지가 나오는 연산.\n",
    "#자료(데이터), 자료형(자료 타입, 데이터 타입)\n",
    "x=divmod(7,3)\n",
    "x[0] #튜플 자료에 대한 접근, 파이썬은 0번부터 시작. \n",
    "x[1]\n",
    "#x[2] 범위를 벗어났으므로 에러. "
   ]
  },
  {
   "cell_type": "code",
   "execution_count": 37,
   "metadata": {},
   "outputs": [],
   "source": [
    "# x=divmod(7,3)\n",
    "\n",
    "a=3#a는 변수(데이터를 저장하는 장소)\n",
    "a=2#덮어쓰기 되어진다. \n",
    "a,b=1,2#이게 가능하다. 수학적으로는 불가능.앞에껀 앞1, 뒤에껀 뒤2"
   ]
  },
  {
   "cell_type": "code",
   "execution_count": 38,
   "metadata": {},
   "outputs": [
    {
     "data": {
      "text/plain": [
       "2"
      ]
     },
     "execution_count": 38,
     "metadata": {},
     "output_type": "execute_result"
    }
   ],
   "source": [
    "b"
   ]
  },
  {
   "cell_type": "code",
   "execution_count": 39,
   "metadata": {},
   "outputs": [
    {
     "ename": "ValueError",
     "evalue": "too many values to unpack (expected 2)",
     "output_type": "error",
     "traceback": [
      "\u001b[1;31m---------------------------------------------------------------------------\u001b[0m",
      "\u001b[1;31mValueError\u001b[0m                                Traceback (most recent call last)",
      "\u001b[1;32m<ipython-input-39-d6ae2d05e2c7>\u001b[0m in \u001b[0;36m<module>\u001b[1;34m\u001b[0m\n\u001b[1;32m----> 1\u001b[1;33m \u001b[0ma\u001b[0m\u001b[1;33m,\u001b[0m\u001b[0mb\u001b[0m\u001b[1;33m=\u001b[0m\u001b[1;36m1\u001b[0m\u001b[1;33m,\u001b[0m\u001b[1;36m2\u001b[0m\u001b[1;33m,\u001b[0m\u001b[1;36m3\u001b[0m\u001b[1;33m\u001b[0m\u001b[1;33m\u001b[0m\u001b[0m\n\u001b[0m",
      "\u001b[1;31mValueError\u001b[0m: too many values to unpack (expected 2)"
     ]
    }
   ],
   "source": [
    "a,b=1,2,3"
   ]
  },
  {
   "cell_type": "code",
   "execution_count": 40,
   "metadata": {},
   "outputs": [
    {
     "ename": "ValueError",
     "evalue": "not enough values to unpack (expected 3, got 2)",
     "output_type": "error",
     "traceback": [
      "\u001b[1;31m---------------------------------------------------------------------------\u001b[0m",
      "\u001b[1;31mValueError\u001b[0m                                Traceback (most recent call last)",
      "\u001b[1;32m<ipython-input-40-dfc132c7dc8e>\u001b[0m in \u001b[0;36m<module>\u001b[1;34m\u001b[0m\n\u001b[1;32m----> 1\u001b[1;33m \u001b[0ma\u001b[0m\u001b[1;33m,\u001b[0m\u001b[0mb\u001b[0m\u001b[1;33m,\u001b[0m\u001b[0mc\u001b[0m\u001b[1;33m=\u001b[0m\u001b[1;36m1\u001b[0m\u001b[1;33m,\u001b[0m\u001b[1;36m2\u001b[0m\u001b[1;33m\u001b[0m\u001b[1;33m\u001b[0m\u001b[0m\n\u001b[0m",
      "\u001b[1;31mValueError\u001b[0m: not enough values to unpack (expected 3, got 2)"
     ]
    }
   ],
   "source": [
    "a,b,c=1,2"
   ]
  },
  {
   "cell_type": "code",
   "execution_count": 41,
   "metadata": {},
   "outputs": [
    {
     "data": {
      "text/plain": [
       "7"
      ]
     },
     "execution_count": 41,
     "metadata": {},
     "output_type": "execute_result"
    }
   ],
   "source": [
    "#참고사항\n",
    "0b111 #0b : 2진수, 숫자 0 + binary\n",
    "0o10 #0o : 8진수. 숫자 0 + octopus\n",
    "0xF #0x : 16진수. 숫자 0 + hex"
   ]
  },
  {
   "cell_type": "code",
   "execution_count": 44,
   "metadata": {},
   "outputs": [
    {
     "data": {
      "text/plain": [
       "1.5999999999999996"
      ]
     },
     "execution_count": 44,
     "metadata": {},
     "output_type": "execute_result"
    }
   ],
   "source": [
    "4.3-2.7 #실수를 표현할때 내부적으로 약간의 오차가 발생. -> 1.6으로 봐야한다."
   ]
  },
  {
   "cell_type": "code",
   "execution_count": 46,
   "metadata": {},
   "outputs": [
    {
     "data": {
      "text/plain": [
       "True"
      ]
     },
     "execution_count": 46,
     "metadata": {},
     "output_type": "execute_result"
    }
   ],
   "source": [
    "4.3-2.7 < 1.6 #컴퓨터 구조에 관한 문제. 가끔 이러한 문제가 생긴다.\n",
    "#Round를 써서 1.6을 만들어 줘야한다. \n",
    "#1.6이 나와야하지만, 1.599999가 나오는 이유는 실수를 표현할때 오차가 있기 때문.\n",
    "#정밀도 떄문에 발생. 어떤 언어든지 있기 발생한다. \n",
    "#C, java는 사전에 처리했기에 1.6으로 나온다. 원래는 1.59999나온다. \n",
    "#오차에 대한 전처리가 필요함"
   ]
  },
  {
   "cell_type": "code",
   "execution_count": 48,
   "metadata": {},
   "outputs": [
    {
     "data": {
      "text/plain": [
       "7.1"
      ]
     },
     "execution_count": 48,
     "metadata": {},
     "output_type": "execute_result"
    }
   ],
   "source": [
    "3+4\n",
    "3+4.1 #표현 범위가 넓은쪽으로 계산(실수에 정수가 포함됨)"
   ]
  },
  {
   "cell_type": "code",
   "execution_count": 53,
   "metadata": {},
   "outputs": [
    {
     "ename": "ValueError",
     "evalue": "invalid literal for int() with base 10: '9.1'",
     "output_type": "error",
     "traceback": [
      "\u001b[1;31m---------------------------------------------------------------------------\u001b[0m",
      "\u001b[1;31mValueError\u001b[0m                                Traceback (most recent call last)",
      "\u001b[1;32m<ipython-input-53-d0059ee45813>\u001b[0m in \u001b[0;36m<module>\u001b[1;34m\u001b[0m\n\u001b[0;32m      1\u001b[0m \u001b[1;31m#문자나 숫자 데이터를 실수로 변환\u001b[0m\u001b[1;33m\u001b[0m\u001b[1;33m\u001b[0m\u001b[1;33m\u001b[0m\u001b[0m\n\u001b[0;32m      2\u001b[0m \u001b[0mint\u001b[0m\u001b[1;33m(\u001b[0m\u001b[1;34m'9'\u001b[0m\u001b[1;33m)\u001b[0m\u001b[1;33m\u001b[0m\u001b[1;33m\u001b[0m\u001b[0m\n\u001b[1;32m----> 3\u001b[1;33m \u001b[0mint\u001b[0m\u001b[1;33m(\u001b[0m\u001b[1;34m'9.1'\u001b[0m\u001b[1;33m)\u001b[0m\u001b[1;33m\u001b[0m\u001b[1;33m\u001b[0m\u001b[0m\n\u001b[0m",
      "\u001b[1;31mValueError\u001b[0m: invalid literal for int() with base 10: '9.1'"
     ]
    }
   ],
   "source": [
    "#문자나 숫자 데이터를 실수로 변환\n",
    "int('9')\n",
    "int('9.1') # 실수문자이므로 int를 적용할 수 없음"
   ]
  },
  {
   "cell_type": "code",
   "execution_count": 58,
   "metadata": {},
   "outputs": [
    {
     "name": "stdout",
     "output_type": "stream",
     "text": [
      "9.1\n",
      "12.1\n",
      "4.0\n"
     ]
    }
   ],
   "source": [
    "print(float('9.1')) #실수문자이므로 float -> 9.1 출력됨\n",
    "print(float('9.1')+3) #12.1\n",
    "print(float(1+3)) #계산된다. \n",
    "#셀 안에있는 모든 것을 출력하고자하면 print로 다 묶어라"
   ]
  },
  {
   "cell_type": "code",
   "execution_count": 61,
   "metadata": {},
   "outputs": [
    {
     "data": {
      "text/plain": [
       "1"
      ]
     },
     "execution_count": 61,
     "metadata": {},
     "output_type": "execute_result"
    }
   ],
   "source": [
    "3/2\n",
    "3//2"
   ]
  },
  {
   "cell_type": "markdown",
   "metadata": {},
   "source": [
    "import math,sys"
   ]
  },
  {
   "cell_type": "code",
   "execution_count": 62,
   "metadata": {},
   "outputs": [],
   "source": [
    "import math,sys # sys 시스템에 관련된 함수"
   ]
  },
  {
   "cell_type": "code",
   "execution_count": 64,
   "metadata": {},
   "outputs": [
    {
     "data": {
      "text/plain": [
       "False"
      ]
     },
     "execution_count": 64,
     "metadata": {},
     "output_type": "execute_result"
    }
   ],
   "source": [
    "0.1+0.2==0.3"
   ]
  },
  {
   "cell_type": "code",
   "execution_count": 71,
   "metadata": {},
   "outputs": [
    {
     "data": {
      "text/plain": [
       "True"
      ]
     },
     "execution_count": 71,
     "metadata": {},
     "output_type": "execute_result"
    }
   ],
   "source": [
    "x=0.1+0.2\n",
    "x #0.30000000000004\n",
    "\n",
    "#1) python 2버전 \n",
    "math.fabs(x-0.3) <= sys.float_info.epsilon #sys가 기준. \n",
    "#math 패키지, fabs 함수\n",
    "#sys.float_info.epsilon #2*10의 -16승. \n",
    "#2.220446049250313e-16\n",
    "\n",
    "#2) python 3.5버전~\n",
    "math.isclose(0.1+0.2, 0.3) #1번처럼 안쓰고 이렇게 적어도 실수값 비교가 된다."
   ]
  },
  {
   "cell_type": "code",
   "execution_count": 2,
   "metadata": {},
   "outputs": [
    {
     "name": "stdout",
     "output_type": "stream",
     "text": [
      "you\n",
      "need\n",
      "python\n"
     ]
    }
   ],
   "source": [
    "x='a'\n",
    "x=\"a\"\n",
    "x #문자열을 나타낼때 3가지 모두 표현 된다. 홀따움표, 겹따움표, 3개 따움표.\n",
    "x=\"\"\"\n",
    "test test2 test3\n",
    "\"\"\"# 묶은 문장 그대로 출력된다. 공백, 줄바꿈\n",
    "x\n",
    "x=\"'Python's favorite food is egg\" #\"'Python's favorite food is egg\"\n",
    "x\n",
    "x= 'Python\"s favorite food is egg' #'Python\"s favorite food is egg'\n",
    "x\n",
    "\n",
    "say ='\"Python is very easy.\" he says.'\n",
    "say #'\"Python is very easy.\" he says.'\n",
    "say =\"\\\"Python is very easy.\\\" he says.\"\n",
    "say #'\"Python is very easy.\" he says.' 처음과 끝\"\"은 문자열이 시작하구나.\n",
    "#\\\" \\\" 그대로 출력해라. 앞에 다가 \\(역슬래쉬)기능을 사용해라.\n",
    "\n",
    "x=\"you need python\"\n",
    "x=\"you\\nneed\\npython\"\n",
    "print(x) #print 함수가 줄바꿈 문자를 처리하기 때문에 바뀐다. "
   ]
  },
  {
   "cell_type": "code",
   "execution_count": 1,
   "metadata": {},
   "outputs": [
    {
     "name": "stdout",
     "output_type": "stream",
     "text": [
      "PythonPython\n",
      "--------------------------------------------------\n"
     ]
    }
   ],
   "source": [
    "x= \"Python\"\n",
    "y=\" is easy\"\n",
    "x+y #두 문자열이 합쳐진다. 'Python is easy'\n",
    "print(x*2)#PythonPython\n",
    "print(\"-\"*50) #--------------------------------------------------"
   ]
  },
  {
   "cell_type": "code",
   "execution_count": 93,
   "metadata": {
    "scrolled": true
   },
   "outputs": [
    {
     "data": {
      "text/plain": [
       "19"
      ]
     },
     "execution_count": 93,
     "metadata": {},
     "output_type": "execute_result"
    }
   ],
   "source": [
    "x=\"my leg is too short\"\n",
    "len(x) #19, 공백까지 포함해서 19라고 표현\n",
    "#() : 함수, len: 함수이름\n",
    "#len함수 기능: 함수에 전달된 값의 길이를 구함\n",
    "\n",
    "#함수: 내장함수(파이썬), 외장함수\n",
    "#패키지(폴더): 함수(파일) 또는 패키지 들의 묶음\n",
    "#외장함수는 패키지에 저장되어 있으므로, 사용하기 위해서는\n",
    "#사전에 가져와야 함(import 패키지이름)\n"
   ]
  },
  {
   "cell_type": "code",
   "execution_count": 94,
   "metadata": {},
   "outputs": [],
   "source": [
    "#인덱싱(영역 참조), 슬라이싱(영역 잘라냄)"
   ]
  },
  {
   "cell_type": "code",
   "execution_count": 3,
   "metadata": {
    "scrolled": true
   },
   "outputs": [
    {
     "data": {
      "text/plain": [
       "'Python is '"
      ]
     },
     "execution_count": 3,
     "metadata": {},
     "output_type": "execute_result"
    }
   ],
   "source": [
    "#인덱싱시 번호가 0번부터 시작.\n",
    "x=\"Python is easy, you need python\"\n",
    "x[0]\n",
    "x[29] #29번 index 문자\n",
    "x[-1] #맨 뒤에 있는 문자 \n",
    "x[-2] #맨 뒤에서 두번째 있는 문자\n",
    "x[5:] #n부터 마지막 문자까지 \n",
    "x[0:30] #0부터 29까지 참조 [시작위치:끝위치-1] 'Python is easy, you need pytho'\n",
    "x[0:31]#'Python is easy, you need python'\n",
    "#esay 단어 인덱싱\n",
    "#x[10:14] 'easy'\n",
    "#x[10]+x[11]+x[12]+x[13] #'easy'\n",
    "x[:10] #0~9번 index"
   ]
  },
  {
   "cell_type": "code",
   "execution_count": 109,
   "metadata": {},
   "outputs": [],
   "source": [
    "a=\"karea\" #a -> o로 바꾸고 싶다"
   ]
  },
  {
   "cell_type": "code",
   "execution_count": 110,
   "metadata": {},
   "outputs": [
    {
     "ename": "TypeError",
     "evalue": "'str' object does not support item assignment",
     "output_type": "error",
     "traceback": [
      "\u001b[1;31m---------------------------------------------------------------------------\u001b[0m",
      "\u001b[1;31mTypeError\u001b[0m                                 Traceback (most recent call last)",
      "\u001b[1;32m<ipython-input-110-4350bf8f6e2b>\u001b[0m in \u001b[0;36m<module>\u001b[1;34m\u001b[0m\n\u001b[1;32m----> 1\u001b[1;33m \u001b[0ma\u001b[0m\u001b[1;33m[\u001b[0m\u001b[1;36m1\u001b[0m\u001b[1;33m]\u001b[0m \u001b[1;33m=\u001b[0m\u001b[1;34m'o'\u001b[0m\u001b[1;33m\u001b[0m\u001b[1;33m\u001b[0m\u001b[0m\n\u001b[0m",
      "\u001b[1;31mTypeError\u001b[0m: 'str' object does not support item assignment"
     ]
    }
   ],
   "source": [
    "a[1] ='o'# a가 문자열이기 때문에 바꿀수가 없다."
   ]
  },
  {
   "cell_type": "code",
   "execution_count": 116,
   "metadata": {},
   "outputs": [
    {
     "data": {
      "text/plain": [
       "'korea'"
      ]
     },
     "execution_count": 116,
     "metadata": {},
     "output_type": "execute_result"
    }
   ],
   "source": [
    "#a[1]='o' a에 저장된 문자열의 특정 문자에 대한 변경시 오류\n",
    "#슬라이싱 방법으로 변경 가능\n",
    "a[0] #'K'\n",
    "a[2:]#'rea'\n",
    "a[0]+'o'+a[2:]\n"
   ]
  },
  {
   "cell_type": "code",
   "execution_count": null,
   "metadata": {},
   "outputs": [],
   "source": []
  }
 ],
 "metadata": {
  "kernelspec": {
   "display_name": "Python 3",
   "language": "python",
   "name": "python3"
  },
  "language_info": {
   "codemirror_mode": {
    "name": "ipython",
    "version": 3
   },
   "file_extension": ".py",
   "mimetype": "text/x-python",
   "name": "python",
   "nbconvert_exporter": "python",
   "pygments_lexer": "ipython3",
   "version": "3.7.4"
  }
 },
 "nbformat": 4,
 "nbformat_minor": 2
}
