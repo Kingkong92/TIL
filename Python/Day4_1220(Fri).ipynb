{
 "cells": [
  {
   "cell_type": "code",
   "execution_count": 1,
   "metadata": {},
   "outputs": [
    {
     "name": "stdout",
     "output_type": "stream",
     "text": [
      "사먹는다\n"
     ]
    }
   ],
   "source": [
    "money = True\n",
    "\n",
    "if money:\n",
    "    print(\"사먹는다\")\n",
    "else: \n",
    "    print(\"...\")"
   ]
  },
  {
   "cell_type": "code",
   "execution_count": 5,
   "metadata": {},
   "outputs": [
    {
     "name": "stdout",
     "output_type": "stream",
     "text": [
      "택시를 탄다\n"
     ]
    }
   ],
   "source": [
    "money=5000\n",
    "card=True\n",
    "if money>=10000 or card:#or:1개 이상 참 -> 참\n",
    "#and:2개 모두 참 -> 참\n",
    "#not 조건식\n",
    "    print(\"택시를 탄다\")\n",
    "else:\n",
    "        print(\"버스를 탄다\")"
   ]
  },
  {
   "cell_type": "code",
   "execution_count": 10,
   "metadata": {},
   "outputs": [
    {
     "name": "stdout",
     "output_type": "stream",
     "text": [
      "동전이 있다\n"
     ]
    }
   ],
   "source": [
    "# x in 리스트 : 리스트 내부에 x가 있느냐?\n",
    "# x in 튜플\n",
    "# x in 문자열\n",
    "1 in [1,2,3] #True\n",
    "1 not in [1,2,3] #False\n",
    "\n",
    "poc=['money', 'cp', 'coin']\n",
    "if 'coin' in poc:\n",
    "    print(\"동전이 있다\")\n",
    "else:\n",
    "    print(\"동전이 없다\")"
   ]
  },
  {
   "cell_type": "code",
   "execution_count": 17,
   "metadata": {},
   "outputs": [
    {
     "name": "stdout",
     "output_type": "stream",
     "text": [
      "참\n"
     ]
    }
   ],
   "source": [
    "if \"문자열\": #None 자체가 거짓 #0xFFFF 16진수, #3.14 #0b1010 2진수 #\"문자열\" => 참\n",
    "    print(\"참\")\n",
    "else:\n",
    "    print(\"거짓\")"
   ]
  },
  {
   "cell_type": "code",
   "execution_count": 20,
   "metadata": {},
   "outputs": [
    {
     "name": "stdout",
     "output_type": "stream",
     "text": [
      "참\n",
      "참\n"
     ]
    }
   ],
   "source": [
    "x=1\n",
    "y=2\n",
    "\n",
    "if x==1 and y==2:\n",
    "    print(\"참\")\n",
    "else:\n",
    "    print(\"거짓\")\n",
    "    \n",
    "if x==1:\n",
    "    if y==2:\n",
    "        print(\"참\")\n",
    "    else:\n",
    "        print(\"거짓\")\n",
    "else:\n",
    "    print(\"거짓\")"
   ]
  },
  {
   "cell_type": "code",
   "execution_count": 22,
   "metadata": {},
   "outputs": [
    {
     "name": "stdout",
     "output_type": "stream",
     "text": [
      "20보다 작은 양수\n",
      "20보다 작은 양수\n"
     ]
    }
   ],
   "source": [
    "x=10\n",
    "if x>0 and x<20:\n",
    "    print(\"20보다 작은 양수\")\n",
    "if 0<x<20:\n",
    "    print(\"20보다 작은 양수\")\n",
    "#다른 언어랑 다른것. if를 묶지 않고 사용가능"
   ]
  },
  {
   "cell_type": "code",
   "execution_count": 23,
   "metadata": {},
   "outputs": [
    {
     "name": "stdout",
     "output_type": "stream",
     "text": [
      "택시탄다\n"
     ]
    }
   ],
   "source": [
    "poc=['cp','paper']\n",
    "card=True\n",
    "if 'money' in poc:\n",
    "    print(\"택시탄다\")\n",
    "else:\n",
    "    if card:\n",
    "        print(\"택시탄다\")\n",
    "    else:\n",
    "        print(\"걸어간다\")\n",
    "        "
   ]
  },
  {
   "cell_type": "code",
   "execution_count": null,
   "metadata": {},
   "outputs": [],
   "source": [
    "poc=['cp','paper']\n",
    "card=True\n",
    "if 'money' in poc:\n",
    "    print(\"택시탄다\")\n",
    "    \n",
    "elif card: #else if 그렇지 않고 만약에\n",
    "        print(\"택시탄다\")\n",
    "else: #if 및 elif 조건을 모두 만족하지 않는 경우\n",
    "        print(\"걸어간다\")\n",
    "        "
   ]
  },
  {
   "cell_type": "code",
   "execution_count": 25,
   "metadata": {},
   "outputs": [
    {
     "name": "stdout",
     "output_type": "stream",
     "text": [
      "카드  사용\n",
      "카드  사용\n"
     ]
    }
   ],
   "source": [
    "if 'money' in poc:\n",
    "    pass\n",
    "else:\n",
    "    print(\"카드  사용\")\n",
    "    \n",
    "if 'money' in poc: pass\n",
    "else: print(\"카드  사용\")"
   ]
  },
  {
   "cell_type": "code",
   "execution_count": 28,
   "metadata": {},
   "outputs": [
    {
     "name": "stdout",
     "output_type": "stream",
     "text": [
      "success\n",
      "success\n"
     ]
    }
   ],
   "source": [
    "score=80\n",
    "if score>=60:\n",
    "    msg=\"success\"\n",
    "else:\n",
    "    msg=\"faulure\"\n",
    "print(msg)\n",
    "\n",
    "#한줄로 표현\n",
    "msg=\"success\" if score>=60 else \"failure\"#이럴땐 if부터 해석\n",
    "print(msg)\n",
    "#조건이 참인경우 if 조건문 else 조건문이 거짓"
   ]
  },
  {
   "cell_type": "code",
   "execution_count": 38,
   "metadata": {
    "scrolled": true
   },
   "outputs": [
    {
     "name": "stdout",
     "output_type": "stream",
     "text": [
      "hi\n",
      "hi\n",
      "hi\n",
      "hi\n",
      "hi\n",
      "hi\n",
      "hi\n",
      "hi\n",
      "hi\n",
      "반복 횟수 입력?3\n",
      "hello 0\n",
      "hello 1\n",
      "hello 2\n"
     ]
    }
   ],
   "source": [
    "# for 변수 in range(범위):\n",
    "#     반복코드\n",
    "\n",
    "for i in range(10, 1, -1): #반복횟수 조절가능, 줄이려면 -1해라. #(1, 10)\n",
    "    print(\"hi\")\n",
    "    \n",
    "cnt=int(input(\"반복 횟수 입력?\")) #input 함수가 문자열로 받아서  \n",
    "        print(\"hello\",i)"
   ]
  },
  {
   "cell_type": "code",
   "execution_count": 7,
   "metadata": {},
   "outputs": [
    {
     "name": "stdout",
     "output_type": "stream",
     "text": [
      "n o h t y p "
     ]
    }
   ],
   "source": [
    "a=[1,2,3]\n",
    "a2=[1,2,3]\n",
    "a3=\"python\"\n",
    "for i in reversed(a3): #for 변수 in 리스트/튜플/문자열/ #n o h t y p \n",
    "    print(i,end=\" \")\n",
    "    "
   ]
  },
  {
   "cell_type": "code",
   "execution_count": 1,
   "metadata": {},
   "outputs": [
    {
     "name": "stdout",
     "output_type": "stream",
     "text": [
      "Hi 0\n",
      "Hi 1\n",
      "Hi 2\n",
      "Hi 3\n",
      "Hi 4\n",
      "Hi 5\n",
      "Hi 6\n",
      "Hi 7\n",
      "Hi 8\n",
      "Hi 9\n"
     ]
    }
   ],
   "source": [
    "# while 조건식:\n",
    "#     수행문장1\n",
    "#     수행문장2\n",
    "#     ...\n",
    "#조건문이 실행되는 동안 반복해라\n",
    "i=0\n",
    "while i<10: # i가 10보다 작다는 조건을 만족하는 동안 반복\n",
    "    print(\"Hi\",i)\n",
    "    i += 1"
   ]
  },
  {
   "cell_type": "code",
   "execution_count": 4,
   "metadata": {},
   "outputs": [],
   "source": [
    "prompt= \"\"\"\n",
    "1. add\n",
    "2. del\n",
    "3. list\n",
    "4. quit\n",
    "\n",
    "enter number:  \"\"\""
   ]
  },
  {
   "cell_type": "code",
   "execution_count": 5,
   "metadata": {},
   "outputs": [
    {
     "name": "stdout",
     "output_type": "stream",
     "text": [
      "\n",
      "1. add\n",
      "2. del\n",
      "3. list\n",
      "4. quit\n",
      "\n",
      "enter number:  \n"
     ]
    }
   ],
   "source": [
    "print(prompt)"
   ]
  },
  {
   "cell_type": "code",
   "execution_count": 8,
   "metadata": {},
   "outputs": [
    {
     "name": "stdout",
     "output_type": "stream",
     "text": [
      "\n",
      "1. add\n",
      "2. del\n",
      "3. list\n",
      "4. quit\n",
      "\n",
      "enter number:  \n",
      "1\n",
      "\n",
      "1. add\n",
      "2. del\n",
      "3. list\n",
      "4. quit\n",
      "\n",
      "enter number:  \n",
      "4\n"
     ]
    }
   ],
   "source": [
    "number=0\n",
    "while number != 4:\n",
    "    print(prompt)\n",
    "    number=int(input())\n",
    "#에러에는 문법에러와 논리에러가 있다. 여기선 논리에러."
   ]
  },
  {
   "cell_type": "code",
   "execution_count": 16,
   "metadata": {},
   "outputs": [
    {
     "name": "stdout",
     "output_type": "stream",
     "text": [
      "38\n",
      "44\n",
      "19\n",
      "20\n",
      "10\n",
      "26\n"
     ]
    }
   ],
   "source": [
    "#난수(random number): 컴퓨터 임의의 수(타이머를 가지고 생성한다) ms(1/1000s)\n",
    "#import random #random 모듈(random.py)을 가지고 오는\n",
    "#random.random() #0<=난수<1\n",
    "#모듈(파일_: 함수들의 묶음(.py or .ipynb)\n",
    "#패키지(폴더): 모듈 또는 서브 패키지의 묶음(하위폴더)\n",
    "#random.randint()\n",
    "\n",
    "i=0\n",
    "while i!=6:\n",
    "    print(random.randint(1,45))\n",
    "    i+=1\n",
    "#오후: 동일한 수가 발생하지 않도록  "
   ]
  },
  {
   "cell_type": "code",
   "execution_count": 20,
   "metadata": {},
   "outputs": [
    {
     "name": "stdout",
     "output_type": "stream",
     "text": [
      "1\n",
      "l\n",
      "13\n"
     ]
    }
   ],
   "source": [
    "#choice함수는 choice(시퀀스형:리스트,문자열,range)와 같은 형식으로\n",
    "#무작위로 추출\n",
    "\n",
    "print(random.choice([1,2,3,4,5,6]))\n",
    "print(random.choice(\"hello\"))\n",
    "print(random.choice(range(10,20)))"
   ]
  },
  {
   "cell_type": "code",
   "execution_count": 22,
   "metadata": {},
   "outputs": [
    {
     "name": "stdout",
     "output_type": "stream",
     "text": [
      "0\n",
      "1\n",
      "2\n",
      "3\n",
      "4\n",
      "5\n",
      "6\n",
      "7\n",
      "8\n",
      "9\n"
     ]
    }
   ],
   "source": [
    "#break, continue문은 반복문에서 제어하는 역할\n",
    "#break: 반복문 종료\n",
    "#continue:특정 반복 문장을 건너뛸때 사용\n",
    "i=0\n",
    "while True: #무한 반복\n",
    "    print(i)\n",
    "    i += 1\n",
    "    if i==10:\n",
    "        break #while문을 종료\n",
    "    "
   ]
  },
  {
   "cell_type": "code",
   "execution_count": 25,
   "metadata": {},
   "outputs": [
    {
     "name": "stdout",
     "output_type": "stream",
     "text": [
      "0\n",
      "1\n",
      "2\n",
      "3\n",
      "4\n",
      "5\n",
      "6\n",
      "7\n",
      "8\n",
      "9\n"
     ]
    }
   ],
   "source": [
    "for i in range(100):\n",
    "    print(i)\n",
    "    if i==9: \n",
    "        break "
   ]
  },
  {
   "cell_type": "code",
   "execution_count": 26,
   "metadata": {},
   "outputs": [
    {
     "name": "stdout",
     "output_type": "stream",
     "text": [
      "1\n",
      "3\n",
      "5\n",
      "7\n",
      "9\n",
      "11\n",
      "13\n",
      "15\n",
      "17\n",
      "19\n",
      "21\n",
      "23\n",
      "25\n",
      "27\n",
      "29\n",
      "31\n",
      "33\n",
      "35\n",
      "37\n",
      "39\n",
      "41\n",
      "43\n",
      "45\n",
      "47\n",
      "49\n",
      "51\n",
      "53\n",
      "55\n",
      "57\n",
      "59\n",
      "61\n",
      "63\n",
      "65\n",
      "67\n",
      "69\n",
      "71\n",
      "73\n",
      "75\n",
      "77\n",
      "79\n",
      "81\n",
      "83\n",
      "85\n",
      "87\n",
      "89\n",
      "91\n",
      "93\n",
      "95\n",
      "97\n",
      "99\n"
     ]
    }
   ],
   "source": [
    "for i in range(100):\n",
    "    if i %2 ==0: #짝수\n",
    "        continue #반복문의 시작위치로 이동(건너뛰기 때문에)\n",
    "        #따라서 continue 아래에 있는 문장들을 실행\n",
    "    print(i)#0을 2로 나누면 짝수로 인식.(프로그래밍에선)\n",
    "    #홀수 뽑아 내는 문제"
   ]
  },
  {
   "cell_type": "code",
   "execution_count": 4,
   "metadata": {},
   "outputs": [
    {
     "name": "stdout",
     "output_type": "stream",
     "text": [
      "2\n",
      "4\n",
      "6\n",
      "8\n",
      "10\n",
      "12\n",
      "14\n",
      "16\n",
      "18\n",
      "20\n",
      "22\n",
      "24\n",
      "26\n",
      "28\n",
      "30\n",
      "32\n",
      "34\n",
      "36\n",
      "38\n",
      "40\n",
      "42\n",
      "44\n",
      "46\n",
      "48\n",
      "50\n",
      "52\n",
      "54\n",
      "56\n",
      "58\n",
      "60\n",
      "62\n",
      "64\n",
      "66\n",
      "68\n",
      "70\n",
      "72\n",
      "74\n",
      "76\n",
      "78\n",
      "80\n",
      "82\n",
      "84\n",
      "86\n",
      "88\n",
      "90\n",
      "92\n",
      "94\n",
      "96\n",
      "98\n",
      "100\n"
     ]
    }
   ],
   "source": [
    "#1~100 사이에 수에 대해 짝수만 출력(while문)\n",
    "i=0\n",
    "while i <100:\n",
    "    i+=1\n",
    "    if i%2 ==1:\n",
    "        continue\n",
    "    print(i)"
   ]
  },
  {
   "cell_type": "code",
   "execution_count": 21,
   "metadata": {},
   "outputs": [
    {
     "name": "stdout",
     "output_type": "stream",
     "text": [
      "커피가 나옵니다\n",
      "남은 커피는 9 잔 입니다\n",
      "잔액은 900원 입니다\n",
      "커피가 나옵니다\n",
      "남은 커피는 8 잔 입니다\n",
      "잔액은 700원 입니다\n",
      "커피가 나옵니다\n",
      "남은 커피는 7 잔 입니다\n",
      "잔액은 500원 입니다\n",
      "커피가 나옵니다\n",
      "남은 커피는 6 잔 입니다\n",
      "잔액은 300원 입니다\n",
      "커피가 나옵니다\n",
      "남은 커피는 5 잔 입니다\n",
      "잔액은 100원 입니다\n",
      "잔액이 부족합니다. 판매중지\n"
     ]
    }
   ],
   "source": [
    "#8번 문제\n",
    "coffee=10 #10잔 커피, 1잔=200원\n",
    "money=1100 #천백원\n",
    "\n",
    "#잔액이 200원 미만이면 판매가 안되도록\n",
    "while money:\n",
    "    print(\"커피가 나옵니다\")\n",
    "    coffee=coffee-1\n",
    "    money=money-200\n",
    "    #print(\"남은 커피는 %d잔 입니다\" %coffee)\n",
    "    print(\"남은 커피는\",coffee,\"잔 입니다\")\n",
    "    print(\"잔액은 %d원 입니다\" %money)\n",
    "    if money < 200:\n",
    "        print(\"잔액이 부족합니다. 판매중지\")\n",
    "        break\n",
    "    elif coffee ==0:\n",
    "        print(\"커피가 떨어졌습니다. 판매중지\")\n",
    "        break\n",
    "        #  ,value, <=> %value "
   ]
  },
  {
   "cell_type": "code",
   "execution_count": 13,
   "metadata": {},
   "outputs": [
    {
     "name": "stdout",
     "output_type": "stream",
     "text": [
      "1\n",
      "2\n",
      "3\n",
      "4\n"
     ]
    }
   ],
   "source": [
    "a=[(1,2),(3,4)] #튜플\n",
    "for (data1, data2) in a:\n",
    "    print(data1)\n",
    "    print(data2)"
   ]
  },
  {
   "cell_type": "code",
   "execution_count": 20,
   "metadata": {},
   "outputs": [
    {
     "name": "stdout",
     "output_type": "stream",
     "text": [
      "9 18 27 36 45 54 63 72 81 "
     ]
    }
   ],
   "source": [
    "# #구구단 2단\n",
    "# i=2\n",
    "# for j in range(1,10):\n",
    "#     print(i*j, end=\" \") #end 이게 옆으로 나오게함\n",
    "    \n",
    "i=9\n",
    "for j in range(1,10):\n",
    "    print(i*j, end= \" \")\n",
    "    "
   ]
  },
  {
   "cell_type": "code",
   "execution_count": 23,
   "metadata": {},
   "outputs": [
    {
     "name": "stdout",
     "output_type": "stream",
     "text": [
      "2 4 6 8 10 12 14 16 18 \n",
      "3 6 9 12 15 18 21 24 27 \n",
      "4 8 12 16 20 24 28 32 36 \n",
      "5 10 15 20 25 30 35 40 45 \n",
      "6 12 18 24 30 36 42 48 54 \n",
      "7 14 21 28 35 42 49 56 63 \n",
      "8 16 24 32 40 48 56 64 72 \n",
      "9 18 27 36 45 54 63 72 81 \n"
     ]
    }
   ],
   "source": [
    "#구구단 완성\n",
    "for i in range(2,10):\n",
    "    for j in range(1,10):\n",
    "        print(i*j, end= \" \")\n",
    "    print()"
   ]
  },
  {
   "cell_type": "code",
   "execution_count": 36,
   "metadata": {},
   "outputs": [
    {
     "name": "stdout",
     "output_type": "stream",
     "text": [
      "*\n",
      "*\n",
      "*\n",
      "*\n",
      "*\n",
      "*\n",
      "*\n",
      "*\n",
      "*\n"
     ]
    }
   ],
   "source": [
    "#줄마다 * 갯수 늘어나는 프로그램\n",
    "\n",
    "for j in range(1,4):\n",
    "    for i in range(1,4):\n",
    "        print(\"*\")"
   ]
  },
  {
   "cell_type": "code",
   "execution_count": 31,
   "metadata": {},
   "outputs": [
    {
     "name": "stdout",
     "output_type": "stream",
     "text": [
      "0 1 2 3 4 \n",
      "0 1 2 3 4 \n",
      "0 1 2 3 4 \n",
      "0 1 2 3 4 \n",
      "0 1 2 3 4 \n"
     ]
    }
   ],
   "source": [
    "for i in range(5):\n",
    "    for j in range(5):\n",
    "        print(j, end=\" \")\n",
    "    print()"
   ]
  },
  {
   "cell_type": "code",
   "execution_count": 37,
   "metadata": {},
   "outputs": [
    {
     "name": "stdout",
     "output_type": "stream",
     "text": [
      "* \n",
      "* * \n",
      "* * * \n",
      "* * * * \n"
     ]
    }
   ],
   "source": [
    "for i in range(4): #줄\n",
    "    for j in range(4): #별의 개수\n",
    "        if j<=i:\n",
    "            print(\"*\", end=\" \")\n",
    "    print()"
   ]
  },
  {
   "cell_type": "code",
   "execution_count": 42,
   "metadata": {},
   "outputs": [
    {
     "name": "stdout",
     "output_type": "stream",
     "text": [
      "* \n",
      "* \n",
      "* \n",
      "* \n"
     ]
    }
   ],
   "source": [
    "for i in range(4): #줄\n",
    "    for j in range(4): #별의 개수\n",
    "        if j<=i:\n",
    "            print(\"*\", end=\" \")\n",
    "            break\n",
    "    print()"
   ]
  },
  {
   "cell_type": "code",
   "execution_count": 45,
   "metadata": {},
   "outputs": [
    {
     "name": "stdout",
     "output_type": "stream",
     "text": [
      "*    \n",
      " *   \n",
      "  *  \n",
      "   * \n"
     ]
    }
   ],
   "source": [
    "# *\n",
    "#  *\n",
    "#   *\n",
    "#    *\n",
    "#규칙을 찾아내야 한다.\n",
    "for i in range(4): #줄\n",
    "    for j in range(4): #별의 개수\n",
    "        if j==i:\n",
    "            print(\"*\",end =\" \")\n",
    "        else:\n",
    "            print(\" \", end=\"\")\n",
    "    print()"
   ]
  },
  {
   "cell_type": "code",
   "execution_count": null,
   "metadata": {},
   "outputs": [],
   "source": [
    "#9번\n",
    "#        *\n",
    "#       ***\n",
    "#      ******\n",
    "for i in range(3): #줄\n",
    "    for j in range(4): #별의 개수\n",
    "        if j==i:\n",
    "            print(\"*\",end =\" \")\n",
    "        e:\n",
    "            print(\" \", end=\"\")\n",
    "    print()\n"
   ]
  },
  {
   "cell_type": "code",
   "execution_count": 52,
   "metadata": {},
   "outputs": [
    {
     "name": "stdout",
     "output_type": "stream",
     "text": [
      "[2, 4, 6]\n"
     ]
    }
   ],
   "source": [
    "#리스트 내포\n",
    "#리스트 내부에 for문을 포함\n",
    "x=[1,2,3]\n",
    "# res=[]\n",
    "# for n in x:\n",
    "#     res.append(2*n)\n",
    "# print(res) #[2, 4, 6]\n",
    "\n",
    "\n",
    "\n",
    "#res=[n for n in x]\n",
    "res=[n*2 for n in x]\n",
    "#x에서 데이터를 n으로 읽어들인 후,\n",
    "#n에 2를 곱한 값으로 리스트에 저장\n",
    "#[표현식 for 변수 in 반복가능형 if 조건문]\n",
    "print(res) #[1, 2, 3]"
   ]
  },
  {
   "cell_type": "code",
   "execution_count": 56,
   "metadata": {},
   "outputs": [
    {
     "name": "stdout",
     "output_type": "stream",
     "text": [
      "[4]\n"
     ]
    }
   ],
   "source": [
    "x=[1,2,3]\n",
    "res=[n*2 for n in x if n%2==0]\n",
    "#[표현식 for 변수 in 반복가능형 if 조건문]\n",
    "#x에서 데이터를 n으로 읽어들인 후,\n",
    "#만약에 n이 짝수이면,\n",
    "#n에 2를 곱한 값으로 리스트에 저장\n",
    "print(res)"
   ]
  },
  {
   "cell_type": "code",
   "execution_count": 60,
   "metadata": {},
   "outputs": [
    {
     "name": "stdout",
     "output_type": "stream",
     "text": [
      "[2, 4, 6, 8, 10, 12, 14, 16, 18, 3, 6, 9, 12, 15, 18, 21, 24, 27, 4, 8, 12, 16, 20, 24, 28, 32, 36, 5, 10, 15, 20, 25, 30, 35, 40, 45, 6, 12, 18, 24, 30, 36, 42, 48, 54, 7, 14, 21, 28, 35, 42, 49, 56, 63, 8, 16, 24, 32, 40, 48, 56, 64, 72, 9, 18, 27, 36, 45, 54, 63, 72, 81]\n"
     ]
    }
   ],
   "source": [
    "#읽는 방법 range(2,10)여기를 1번, 그리고 로 가서 \n",
    "res= [y*x for y in range(2,10) for x in range(1,10)       ]\n",
    "print(res)\n",
    "#[출력: 2, 4, 6, 8, ... ,81]"
   ]
  },
  {
   "cell_type": "code",
   "execution_count": null,
   "metadata": {},
   "outputs": [],
   "source": []
  },
  {
   "cell_type": "code",
   "execution_count": 4,
   "metadata": {},
   "outputs": [
    {
     "data": {
      "text/plain": [
       "[1, 3, 4, 8, 13, 17, 20]"
      ]
     },
     "execution_count": 4,
     "metadata": {},
     "output_type": "execute_result"
    }
   ],
   "source": [
    "#문제 1번\n",
    "list = [1,3,4,8,13,17,20]\n",
    "    for i in range:\n",
    "        "
   ]
  },
  {
   "cell_type": "code",
   "execution_count": null,
   "metadata": {},
   "outputs": [],
   "source": [
    "#답안 문제 1번\n",
    "S=[1,3,4,8,13,17,20]\n"
   ]
  },
  {
   "cell_type": "code",
   "execution_count": null,
   "metadata": {},
   "outputs": [],
   "source": []
  },
  {
   "cell_type": "code",
   "execution_count": 48,
   "metadata": {
    "scrolled": true
   },
   "outputs": [
    {
     "name": "stdout",
     "output_type": "stream",
     "text": [
      "['강상희', '권종표', '김재성', '김지완', '박민호', '박영서', '송정환', '이성연', '이유덕', '이재영', '전경헌', '최승혁']\n"
     ]
    }
   ],
   "source": [
    "#2번 오름차순 정렬 sort, set 중복데이터 \n",
    "data =\"이유덕,이재영,권종표,이재영,박민호,강상희,이재영,김지완,최승혁,이성연,박영서,박민호,전경헌,송정환,김재성,이유덕,전경헌\"\n",
    " \n",
    "data.count(\"이재영\") #3\n",
    "name=data.split(\",\") \n",
    "list(set(name)) #중복제거한 이름 출력\n",
    "a=list(set(name))\n",
    "a.sort()\n",
    "a # 중복한 일므 오름차순 정렬\n",
    "print(a)"
   ]
  },
  {
   "cell_type": "code",
   "execution_count": 47,
   "metadata": {
    "scrolled": true
   },
   "outputs": [
    {
     "name": "stdout",
     "output_type": "stream",
     "text": [
      "[8, 16, 24, 32, 40, 48, 56, 64, 72, 80, 88, 96, 104, 112, 120, 128, 136, 144, 152, 160, 168, 176, 184, 192, 200, 208, 216, 224, 232, 240, 248, 256, 264, 272, 280, 288, 296, 304, 312, 320, 328, 336, 344, 352, 360, 368, 376, 384, 392, 400, 408, 416, 424, 432, 440, 448, 456, 464, 472, 480, 488, 496, 504, 512, 520, 528, 536, 544, 552, 560, 568, 576, 584, 592, 600, 608, 616, 624, 632, 640, 648, 656, 664, 672, 680, 688, 696, 704, 712, 720, 728, 736, 744, 752, 760, 768, 776, 784, 792, 800, 808, 816, 824, 832, 840, 848, 856, 864, 872, 880, 888, 896, 904, 912, 920, 928, 936, 944, 952, 960, 968, 976, 984, 992, 1000, 1008, 1016, 1024, 1032, 1040, 1048, 1056, 1064, 1072, 1080, 1088, 1096, 1104, 1112, 1120, 1128, 1136, 1144, 1152, 1160, 1168, 1176, 1184, 1192, 1200, 1208, 1216, 1224, 1232, 1240, 1248, 1256, 1264, 1272, 1280, 1288, 1296, 1304, 1312, 1320, 1328, 1336, 1344, 1352, 1360, 1368, 1376, 1384, 1392, 1400, 1408, 1416, 1424, 1432, 1440, 1448, 1456, 1464, 1472, 1480, 1488, 1496, 1504, 1512, 1520, 1528, 1536, 1544, 1552, 1560, 1568, 1576, 1584, 1592, 1600]\n"
     ]
    }
   ],
   "source": [
    "#문제 3번\n",
    "n=1\n",
    "sum=[]\n",
    "x=[]\n",
    "y=[]\n",
    "while True:\n",
    "    x=3*n\n",
    "    y=5*n\n",
    "    n+=1\n",
    "    sum.append(x+y)\n",
    "    if x >= 1000 or y >= 1000:\n",
    "        print(sum)\n",
    "        break\n",
    "   \n",
    "\n",
    "\n"
   ]
  },
  {
   "cell_type": "code",
   "execution_count": 82,
   "metadata": {},
   "outputs": [
    {
     "ename": "AttributeError",
     "evalue": "'int' object has no attribute 'append'",
     "output_type": "error",
     "traceback": [
      "\u001b[1;31m---------------------------------------------------------------------------\u001b[0m",
      "\u001b[1;31mAttributeError\u001b[0m                            Traceback (most recent call last)",
      "\u001b[1;32m<ipython-input-82-40c21d6ac5dc>\u001b[0m in \u001b[0;36m<module>\u001b[1;34m\u001b[0m\n\u001b[0;32m      6\u001b[0m     \u001b[1;32mif\u001b[0m \u001b[0mj\u001b[0m\u001b[1;33m>\u001b[0m\u001b[1;36m1000\u001b[0m\u001b[1;33m:\u001b[0m\u001b[1;33m\u001b[0m\u001b[1;33m\u001b[0m\u001b[0m\n\u001b[0;32m      7\u001b[0m         \u001b[1;32mbreak\u001b[0m\u001b[1;33m\u001b[0m\u001b[1;33m\u001b[0m\u001b[0m\n\u001b[1;32m----> 8\u001b[1;33m \u001b[0mj\u001b[0m\u001b[1;33m.\u001b[0m\u001b[0mappend\u001b[0m\u001b[1;33m(\u001b[0m\u001b[0mj\u001b[0m\u001b[1;33m[\u001b[0m\u001b[0mi\u001b[0m\u001b[1;33m]\u001b[0m\u001b[1;33m+\u001b[0m\u001b[0mj\u001b[0m\u001b[1;33m[\u001b[0m\u001b[0mi\u001b[0m\u001b[1;33m+\u001b[0m\u001b[1;36m1\u001b[0m\u001b[1;33m]\u001b[0m\u001b[1;33m)\u001b[0m\u001b[1;33m\u001b[0m\u001b[1;33m\u001b[0m\u001b[0m\n\u001b[0m\u001b[0;32m      9\u001b[0m \u001b[0mprint\u001b[0m\u001b[1;33m(\u001b[0m\u001b[0mj\u001b[0m\u001b[1;33m)\u001b[0m\u001b[1;33m\u001b[0m\u001b[1;33m\u001b[0m\u001b[0m\n",
      "\u001b[1;31mAttributeError\u001b[0m: 'int' object has no attribute 'append'"
     ]
    }
   ],
   "source": [
    "# b=[]\n",
    "# j=[]\n",
    "# for i in range(1000):\n",
    "#     j= 3*i\n",
    "#     k= 5*i\n",
    "#     if j>1000:\n",
    "#         break\n",
    "# j.append(j[]+j[+1])\n",
    "# print(j)"
   ]
  },
  {
   "cell_type": "code",
   "execution_count": 43,
   "metadata": {},
   "outputs": [
    {
     "ename": "SyntaxError",
     "evalue": "invalid syntax (<ipython-input-43-616e75c2f94d>, line 5)",
     "output_type": "error",
     "traceback": [
      "\u001b[1;36m  File \u001b[1;32m\"<ipython-input-43-616e75c2f94d>\"\u001b[1;36m, line \u001b[1;32m5\u001b[0m\n\u001b[1;33m    else: b.append(a[i] + a[i+1])\u001b[0m\n\u001b[1;37m       ^\u001b[0m\n\u001b[1;31mSyntaxError\u001b[0m\u001b[1;31m:\u001b[0m invalid syntax\n"
     ]
    }
   ],
   "source": [
    "b = [] \n",
    "for i in range(0, n, 2): \n",
    "    if (i == n-1): \n",
    "        b.append(a[i]) \n",
    "        else: b.append(a[i] + a[i+1])\n"
   ]
  },
  {
   "cell_type": "code",
   "execution_count": null,
   "metadata": {},
   "outputs": [],
   "source": [
    "#4번 input 받고, "
   ]
  },
  {
   "cell_type": "code",
   "execution_count": null,
   "metadata": {},
   "outputs": [],
   "source": [
    "#답안 문제 4\n"
   ]
  },
  {
   "cell_type": "code",
   "execution_count": null,
   "metadata": {},
   "outputs": [],
   "source": [
    "#6번, run length 압축알고리즘 문제(bmp)\n",
    "run length\n",
    "def encode(message):\n",
    "    count = 0\n",
    "    chatacter = ''\n",
    "    previous_char = message[0]\n",
    "    result = ''\n",
    "    length = len(message) \n",
    "    \n",
    "    i = 0\n",
    "    while (i != length ):\n",
    "        chatacter = message[i]\n",
    "        \n",
    "        if previous_char == chatacter :\n",
    "            count = count + 1\n",
    "        else :\n",
    "            result = result + str(count) + previous_char\n",
    "            count = 1\n",
    "        #print(str(i) + str(chatacter) + str(previous_char) + \"          \" + str(result))\n",
    "        previous_char = chatacter\n",
    "        i = i + 1\n",
    "        \n",
    "    return result + str(count) + str(previous_char)\n",
    "\n",
    "\n",
    "encoded_message=encode(\"ABBBBCCCCCCCCAB\")\n",
    "print(encoded_message)"
   ]
  },
  {
   "cell_type": "code",
   "execution_count": 6,
   "metadata": {},
   "outputs": [
    {
     "name": "stdout",
     "output_type": "stream",
     "text": [
      "0\n",
      "2\n",
      "4\n",
      "6\n",
      "8\n",
      "10\n",
      "12\n",
      "14\n",
      "16\n",
      "18\n",
      "20\n",
      "22\n",
      "24\n",
      "26\n",
      "28\n",
      "30\n",
      "32\n",
      "34\n",
      "36\n",
      "38\n",
      "40\n",
      "42\n",
      "44\n",
      "46\n",
      "48\n",
      "50\n",
      "52\n",
      "54\n",
      "56\n",
      "58\n",
      "60\n",
      "62\n",
      "64\n",
      "66\n",
      "68\n",
      "70\n",
      "72\n",
      "74\n",
      "76\n",
      "78\n",
      "80\n",
      "82\n",
      "84\n",
      "86\n",
      "88\n",
      "90\n",
      "92\n",
      "94\n",
      "96\n",
      "98\n",
      "100\n"
     ]
    }
   ],
   "source": [
    "for i in range(101):\n",
    "    if i %2 ==1: # 홀수\n",
    "        continue #반복문의 시작위치로 이동(건너뛰기 때문에)\n",
    "        #따라서 continue 아래에 있는 문장들을 실행\n",
    "    print(i)#0을 2로 나누면 짝수로 인식.(프로그래밍에선)\n",
    "    #짝수 뽑아내는 문제(0~100까지)"
   ]
  },
  {
   "cell_type": "code",
   "execution_count": null,
   "metadata": {},
   "outputs": [],
   "source": []
  }
 ],
 "metadata": {
  "kernelspec": {
   "display_name": "Python 3",
   "language": "python",
   "name": "python3"
  },
  "language_info": {
   "codemirror_mode": {
    "name": "ipython",
    "version": 3
   },
   "file_extension": ".py",
   "mimetype": "text/x-python",
   "name": "python",
   "nbconvert_exporter": "python",
   "pygments_lexer": "ipython3",
   "version": "3.7.4"
  }
 },
 "nbformat": 4,
 "nbformat_minor": 2
}
