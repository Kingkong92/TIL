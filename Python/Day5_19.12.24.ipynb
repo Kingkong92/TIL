{
 "cells": [
  {
   "cell_type": "code",
   "execution_count": null,
   "metadata": {},
   "outputs": [],
   "source": [
    "\"\"\"\n",
    "함수에 대해 배운다.\n",
    "y=2x+3\n",
    "\n",
    "for문, if문, 함수 이 3가지를 잘 알고 있어야 한다.\n",
    "어떤 값을 return 하는것\n",
    "\n",
    "\n",
    "\"\"\""
   ]
  },
  {
   "cell_type": "code",
   "execution_count": 4,
   "metadata": {},
   "outputs": [
    {
     "name": "stdout",
     "output_type": "stream",
     "text": [
      "7\n"
     ]
    }
   ],
   "source": [
    "# def 함수명(매개변수): #함수명은 내가 호출하는것, #매개변수는 변수 한개가 아니라 여러개도 가능\n",
    "                        # : 사용해야 한다.\n",
    "#     수행문장\n",
    "#     수행문장\n",
    "#     ...\n",
    "#     return\n",
    "\n",
    "#함수명(10)\n",
    "\n",
    "def add(a,b): # 함수명 add, a,b 매개변수. return a+b\n",
    "    return a+b\n",
    "a=3\n",
    "b=4\n",
    "sum=add(a,b)\n",
    "print(sum)"
   ]
  },
  {
   "cell_type": "code",
   "execution_count": 5,
   "metadata": {},
   "outputs": [],
   "source": [
    "def say():\n",
    "    return 'bye'"
   ]
  },
  {
   "cell_type": "code",
   "execution_count": 7,
   "metadata": {},
   "outputs": [
    {
     "name": "stdout",
     "output_type": "stream",
     "text": [
      "bye\n"
     ]
    }
   ],
   "source": [
    "print(say())"
   ]
  },
  {
   "cell_type": "code",
   "execution_count": 12,
   "metadata": {},
   "outputs": [
    {
     "name": "stdout",
     "output_type": "stream",
     "text": [
      "3과 4 합은 7입니다.\n",
      "None\n"
     ]
    }
   ],
   "source": [
    "def add(a,b):\n",
    "    print(\"%d과 %d 합은 %d입니다.\" %(a,b,a+b))\n",
    "    #return a+b\n",
    "    \n",
    "#add(3,4)\n",
    "print(add(3,4))\n",
    "#결과값은 반드시 받을려면 return문을 기술해야 한다. \n",
    "#여기서는 왜 없는지에 대해 생각해야 한다.\n",
    "#add함수에서 return해주는 값이 없기 때문에 None이 나온다. \n",
    "#return a+b 이렇게 적으면 7이라는 값이 나온다. "
   ]
  },
  {
   "cell_type": "code",
   "execution_count": 14,
   "metadata": {},
   "outputs": [],
   "source": [
    "def add(a,b):\n",
    "    return a+b\n"
   ]
  },
  {
   "cell_type": "code",
   "execution_count": 17,
   "metadata": {},
   "outputs": [
    {
     "name": "stdout",
     "output_type": "stream",
     "text": [
      "10\n"
     ]
    }
   ],
   "source": [
    "#res=add(3,7)\n",
    "res=add(b=3,a=7) #이런식으로도 가능하다. 직접 매개변수를 지정하는것 가능\n",
    "print(res)"
   ]
  },
  {
   "cell_type": "code",
   "execution_count": 24,
   "metadata": {},
   "outputs": [
    {
     "name": "stdout",
     "output_type": "stream",
     "text": [
      "6\n",
      "21\n"
     ]
    }
   ],
   "source": [
    "#매개변수가 정해져있지 않는 경우\n",
    "#여러 개의 입력값을 전달 받는 함수(한개, 두개, 100개, 정해져있지 않다)\n",
    "# def 함수명(*매개변수)\n",
    "#     수행문장\n",
    "\n",
    "def add_many(*args):\n",
    "    #수행문장\n",
    "    res=0\n",
    "    for i in args:\n",
    "        res+=i\n",
    "    return res\n",
    "\n",
    "print(add_many(1,2,3))\n",
    "\n",
    "#add_many(1,2,3)\n",
    "# res=add_many(1,2,3)\n",
    "# print(res)\n",
    "\n",
    "res=add_many(1,2,3,4,5,6)\n",
    "print(res)"
   ]
  },
  {
   "cell_type": "code",
   "execution_count": 25,
   "metadata": {},
   "outputs": [
    {
     "name": "stdout",
     "output_type": "stream",
     "text": [
      "6\n",
      "6\n"
     ]
    }
   ],
   "source": [
    "def add_mul(ch, *args): # 첫번째 ch는 인수명, 나머지 *args는 인수 호출\n",
    "    if ch=='add':\n",
    "        res=0\n",
    "        for i in args:\n",
    "             res+=i\n",
    "                \n",
    "    elif ch=='mul':\n",
    "        res=1\n",
    "        for i in args:\n",
    "             res*=i\n",
    "    return res\n",
    "\n",
    "print(add_mul('add', 1,2,3))\n",
    "\n",
    "print(add_mul('mul', 1,2,3))\n",
    "    "
   ]
  },
  {
   "cell_type": "code",
   "execution_count": 29,
   "metadata": {},
   "outputs": [],
   "source": [
    "def dict_args(**args): #**args 별 2개를 사용시 편하게 딕셔너리로 바꿀 수 있다.\n",
    "    print(args) #args 변수는 딕셔너리 변수. "
   ]
  },
  {
   "cell_type": "code",
   "execution_count": 32,
   "metadata": {},
   "outputs": [
    {
     "name": "stdout",
     "output_type": "stream",
     "text": [
      "{'height': 180, 'weight': 70}\n"
     ]
    }
   ],
   "source": [
    "dict_args(height=180, weight=70) #딕셔너리로 나온다."
   ]
  },
  {
   "cell_type": "code",
   "execution_count": null,
   "metadata": {},
   "outputs": [],
   "source": [
    "#함수에서 2개이상의 값을 return하려고 하면 하나의 값으로 표현(튜플 형태)\n",
    "#결과적으로 하나로만 나온다.\n"
   ]
  },
  {
   "cell_type": "code",
   "execution_count": 33,
   "metadata": {},
   "outputs": [],
   "source": [
    "def a_and_m(a,b):\n",
    "    return a+b, a*b"
   ]
  },
  {
   "cell_type": "code",
   "execution_count": 36,
   "metadata": {},
   "outputs": [
    {
     "name": "stdout",
     "output_type": "stream",
     "text": [
      "3\n",
      "2\n"
     ]
    }
   ],
   "source": [
    "# res=a_and_m(1,2)\n",
    "# print(res) #(3, 2) #튜플로 변환해서 return 한다. 그래서 내부적으로 2개 이상의 return일때 튜플로 변환\n",
    "\n",
    "res_add, res_mul=a_and_m(1,2)\n",
    "print(res_add)\n",
    "print(res_mul)\n",
    "#3\n",
    "#2\n",
    "#각각으로 나타낼려면 따로 변수 선언해서 빼내줘야 한다. "
   ]
  },
  {
   "cell_type": "code",
   "execution_count": 38,
   "metadata": {},
   "outputs": [],
   "source": [
    "def a_and_m(a,b):\n",
    "    return a+b\n",
    "    return a*b #수행을 하지 않는다. \n"
   ]
  },
  {
   "cell_type": "code",
   "execution_count": 39,
   "metadata": {},
   "outputs": [
    {
     "name": "stdout",
     "output_type": "stream",
     "text": [
      "3\n"
     ]
    }
   ],
   "source": [
    "res=a_and_m(1,2)\n",
    "print(res) #3 #return을 만나는 순간 그 다음 문장을 수행하지 않는다.\n",
    "#return문을 잘쓰면 코딩하기 편하다. "
   ]
  },
  {
   "cell_type": "code",
   "execution_count": 44,
   "metadata": {},
   "outputs": [],
   "source": [
    "def sn(nick):\n",
    "    if nick == \"바보\":\n",
    "        return #함수를 호출한 위치로 되돌아 가라\n",
    "    print(\"별명은 %s 입니다.\" %nick)"
   ]
  },
  {
   "cell_type": "code",
   "execution_count": 46,
   "metadata": {},
   "outputs": [
    {
     "name": "stdout",
     "output_type": "stream",
     "text": [
      "별명은 천재 입니다.\n"
     ]
    }
   ],
   "source": [
    "sn(\"천재\")\n",
    "sn(\"바보\")"
   ]
  },
  {
   "cell_type": "code",
   "execution_count": 49,
   "metadata": {},
   "outputs": [
    {
     "name": "stdout",
     "output_type": "stream",
     "text": [
      "홍길동 20 True\n",
      "홍갑순 20 False\n"
     ]
    }
   ],
   "source": [
    "def test(name, old, man=True):\n",
    "    print(name, old, man)\n",
    "    \n",
    "    \n",
    "test(\"홍길동\", 20) #홍길동 20 True #man에 관한 값이 없어 defalut값인 True가 들어간다.\n",
    "test(\"홍갑순\", 20, False) #홍갑순 20 False #False로 전달되니깐 False로 나온다. "
   ]
  },
  {
   "cell_type": "code",
   "execution_count": 50,
   "metadata": {},
   "outputs": [
    {
     "ename": "SyntaxError",
     "evalue": "non-default argument follows default argument (<ipython-input-50-2cea43057caf>, line 1)",
     "output_type": "error",
     "traceback": [
      "\u001b[1;36m  File \u001b[1;32m\"<ipython-input-50-2cea43057caf>\"\u001b[1;36m, line \u001b[1;32m1\u001b[0m\n\u001b[1;33m    def test(name, man=True, old):\u001b[0m\n\u001b[1;37m            ^\u001b[0m\n\u001b[1;31mSyntaxError\u001b[0m\u001b[1;31m:\u001b[0m non-default argument follows default argument\n"
     ]
    }
   ],
   "source": [
    "def test(name, man=True, old):\n",
    "    print(name, old, man)\n",
    "\n",
    "test(\"홍길동\", 20) # SyntaxError # defalut 값 쓸거 있으면 제일 뒤로 써라. "
   ]
  },
  {
   "cell_type": "code",
   "execution_count": 53,
   "metadata": {},
   "outputs": [],
   "source": [
    "import turtle as t\n",
    "t.shape('turtle')"
   ]
  },
  {
   "cell_type": "code",
   "execution_count": 54,
   "metadata": {},
   "outputs": [],
   "source": [
    "t.forward(100)"
   ]
  },
  {
   "cell_type": "code",
   "execution_count": 55,
   "metadata": {},
   "outputs": [],
   "source": [
    "t.right(90)"
   ]
  },
  {
   "cell_type": "code",
   "execution_count": 56,
   "metadata": {},
   "outputs": [],
   "source": [
    "t.forward(100)"
   ]
  },
  {
   "cell_type": "code",
   "execution_count": 57,
   "metadata": {},
   "outputs": [],
   "source": [
    "t.right(90)\n",
    "t.forward(100)\n",
    "t.right(90)\n",
    "t.forward(100)"
   ]
  },
  {
   "cell_type": "code",
   "execution_count": 59,
   "metadata": {},
   "outputs": [],
   "source": [
    "# forward\n",
    "# backward\n",
    "# left\n",
    "# right\n",
    "t.right(10)"
   ]
  },
  {
   "cell_type": "code",
   "execution_count": 60,
   "metadata": {},
   "outputs": [],
   "source": [
    "t.forward(100)\n",
    "t.(90)\n",
    "t.backward(100)"
   ]
  },
  {
   "cell_type": "code",
   "execution_count": 61,
   "metadata": {},
   "outputs": [],
   "source": [
    "t.shape('turtle')\n",
    "for i in range(4):\n",
    "    t.forward(100)\n",
    "    t.right(90)"
   ]
  },
  {
   "cell_type": "code",
   "execution_count": 1,
   "metadata": {},
   "outputs": [],
   "source": [
    "import turtle as t\n",
    "t.shape('turtle')"
   ]
  },
  {
   "cell_type": "code",
   "execution_count": 3,
   "metadata": {},
   "outputs": [],
   "source": [
    "for i in range(5):\n",
    "    t.forward(100)\n",
    "    t.left(360/5)\n",
    "#t.clear() #화면 깨끗하게"
   ]
  },
  {
   "cell_type": "code",
   "execution_count": 16,
   "metadata": {},
   "outputs": [
    {
     "name": "stdout",
     "output_type": "stream",
     "text": [
      "9\n"
     ]
    }
   ],
   "source": [
    "n = int(input())\n",
    "for i in range(n):\n",
    "    t.forward(100)\n",
    "    t.right(360/n)"
   ]
  },
  {
   "cell_type": "code",
   "execution_count": 9,
   "metadata": {},
   "outputs": [],
   "source": [
    "t.clear()"
   ]
  },
  {
   "cell_type": "code",
   "execution_count": 19,
   "metadata": {},
   "outputs": [
    {
     "name": "stdout",
     "output_type": "stream",
     "text": [
      "15\n",
      "15\n"
     ]
    }
   ],
   "source": [
    "#lambda 함수 정말 강력하다.\n",
    "#lambda 익명 함수, lambda 표현식\n",
    "#java나 다른 언어에도 사용 가능\n",
    "#lambda 함수 형식 => lambda 매개변수들: 식\n",
    "\n",
    "def p_ten(x):\n",
    "    return x+10\n",
    "print(p_ten(5))\n",
    "\n",
    "p_ten2=lambda x:x+10 #lambda 적고 매개변수 x 적고 :하고 식!\n",
    "print(p_ten2(5)) #lambda 앞에 이름 붙일수 있다."
   ]
  },
  {
   "cell_type": "code",
   "execution_count": 22,
   "metadata": {},
   "outputs": [
    {
     "name": "stdout",
     "output_type": "stream",
     "text": [
      "15\n",
      "7\n"
     ]
    }
   ],
   "source": [
    "print((lambda x:x+10)(5))\n",
    "#(lambda 매개변수들:식)(5)\n",
    " #5가 x에 들어간다\n",
    "#이게 함수 단독으로 실행된다. 원래 함수 선언하고 리턴하고\n",
    "#그래야 하는데, print로 바로 출력 가능하다. 괄호로 값 넣어버리고.\n",
    "#람다표현식 내부에는 변수를 선언할 수 없다.\n",
    "#print((lambda x:y=2; x+y)(5))\n",
    "#에러발생, 아래와 같은 형식으로 작성 가능\n",
    "y=2\n",
    "print((lambda x:x+y)(5))"
   ]
  },
  {
   "cell_type": "code",
   "execution_count": 31,
   "metadata": {},
   "outputs": [
    {
     "name": "stdout",
     "output_type": "stream",
     "text": [
      "[11, 12, 13]\n"
     ]
    },
    {
     "data": {
      "text/plain": [
       "[11, 12, 13]"
      ]
     },
     "execution_count": 31,
     "metadata": {},
     "output_type": "execute_result"
    }
   ],
   "source": [
    "#맵핑하는 함수\n",
    "#map(함수, 자료) #자료에 대해 함수를 수행한 결과가 출력\n",
    "#print(list(map(int,[3.14])))\n",
    "#map(함수에 lambda를 쓰는 경우가 많다)\n",
    "def pten(x):\n",
    "    return x+10\n",
    "\n",
    "res=list(map(pten,[1,2,3])) #map 함수는 리스트로 바꿔줘야 한다\n",
    "print(res)\n",
    "\n",
    "list(map(lambda x:x+10,[1,2,3]))"
   ]
  },
  {
   "cell_type": "code",
   "execution_count": 35,
   "metadata": {},
   "outputs": [
    {
     "name": "stdout",
     "output_type": "stream",
     "text": [
      "1\n",
      "5\n"
     ]
    }
   ],
   "source": [
    "#print((lambda x:x+1)(5)) # 5를 매개변수에 전달, 전달받은 5를 식에 넣어 계산후 출력.\n",
    "print((lambda : 1)()) # ()에서 매개변수로 전달해야 하는데 매개 변수 없어서 전달 못하고 1 출력해라\n",
    "#전달 인수는 없으며 1 출력해라\n",
    "\n",
    "x=5\n",
    "print((lambda : x)())\n"
   ]
  },
  {
   "cell_type": "code",
   "execution_count": 38,
   "metadata": {},
   "outputs": [
    {
     "name": "stdout",
     "output_type": "stream",
     "text": [
      "5\n",
      "5\n"
     ]
    }
   ],
   "source": [
    "def add(x,y):\n",
    "    return x+y\n",
    "res=add(2,3)\n",
    "print(res)\n",
    "\n",
    "#위에 식을 lambda식으로 표현\n",
    "\n",
    "#람다표현식으로 정의한 add함수\n",
    "add2=lambda x,y:x+y \n",
    "res= add2(2,3)\n",
    "print(res)"
   ]
  },
  {
   "cell_type": "code",
   "execution_count": 53,
   "metadata": {},
   "outputs": [
    {
     "name": "stdout",
     "output_type": "stream",
     "text": [
      "[1, 2, 103, 4, 5, 106, 7, 8, 109, 10]\n",
      "[1, 2, 103, 4, 5, 106, 7, 8, 109, 10]\n"
     ]
    }
   ],
   "source": [
    "#람다표현식에 조건부 표현식 적용\n",
    "a=list(range(1,11))\n",
    "#a에 저장된 요소값들중에서 3의 배수는 100을 더해서 출력\n",
    "#[1, 2, 103, 4, 5, 106, 7, 8, 109, 10]\n",
    "\n",
    "for i in range(0,10):\n",
    "    if a[i] % 3 == 0:\n",
    "        a[i] +=100\n",
    "    #a[i]=str(a[i])\n",
    "#인덱스로 바꿔줘야 한다.\n",
    "print(a) #[1, 2, 103, 4, 5, 106, 7, 8, 109, 10]\n",
    "\n",
    "#람다 표현식으로 \n",
    "#map(람다표현식, a)\n",
    "print(list(map(lambda x:str(x)if x%3==0 else x,a)))\n",
    "#lambda 매개변수:식1 if 조건식 else 식2\n",
    "#else가 없으므로 에러 발생\n",
    "#print(list(map(lambda x:str(x)if x%3==0,a)))\n"
   ]
  },
  {
   "cell_type": "code",
   "execution_count": 54,
   "metadata": {},
   "outputs": [
    {
     "ename": "SyntaxError",
     "evalue": "invalid syntax (<ipython-input-54-27e787331533>, line 1)",
     "output_type": "error",
     "traceback": [
      "\u001b[1;36m  File \u001b[1;32m\"<ipython-input-54-27e787331533>\"\u001b[1;36m, line \u001b[1;32m1\u001b[0m\n\u001b[1;33m    print(list(map(lambda x:str(x)if x%3==0,a)))\u001b[0m\n\u001b[1;37m                                           ^\u001b[0m\n\u001b[1;31mSyntaxError\u001b[0m\u001b[1;31m:\u001b[0m invalid syntax\n"
     ]
    }
   ],
   "source": [
    "print(list(map(lambda x:str(x)if x%3==0,a)))"
   ]
  },
  {
   "cell_type": "code",
   "execution_count": 66,
   "metadata": {},
   "outputs": [
    {
     "ename": "SyntaxError",
     "evalue": "invalid syntax (<ipython-input-66-7f8dbabd3fc5>, line 21)",
     "output_type": "error",
     "traceback": [
      "\u001b[1;36m  File \u001b[1;32m\"<ipython-input-66-7f8dbabd3fc5>\"\u001b[1;36m, line \u001b[1;32m21\u001b[0m\n\u001b[1;33m    else a==3:\u001b[0m\n\u001b[1;37m         ^\u001b[0m\n\u001b[1;31mSyntaxError\u001b[0m\u001b[1;31m:\u001b[0m invalid syntax\n"
     ]
    }
   ],
   "source": [
    "#람다식에서 elif를 사용 못함.\n",
    "#식1 if 조건식 1 else 식2 if 조건식2 else 식3\n",
    "\n",
    "#원래 식 방식\n",
    "# if 조건식:\n",
    "#     식1\n",
    "#     elif 조건식:\n",
    "#         식2\n",
    "#     else:\n",
    "#         식3\n",
    "\n",
    "# a에 저장되어 있는 데이터에 대해, 1은 문자열로 변환, 2은 실수로 변환, \n",
    "#나머지는 3이상은 모두 10을 더해서 출력\n",
    "\n",
    "a=list(range(0,11))\n",
    "\n",
    "if a==1:\n",
    "    list(str(a))\n",
    "elif a==2:\n",
    "    list(float(a))\n",
    "else a==3:\n",
    "    a[]+=10\n",
    "    \n",
    "print(list(map(a)))\n",
    "\n"
   ]
  },
  {
   "cell_type": "code",
   "execution_count": 63,
   "metadata": {},
   "outputs": [
    {
     "name": "stdout",
     "output_type": "stream",
     "text": [
      "['1', 2.0, 113, 14, 15, 116, 17, 18, 119, 20]\n",
      "['1', 2.0, 113, 14, 15, 116, 17, 18, 119, 20]\n"
     ]
    }
   ],
   "source": [
    "def fun(x):\n",
    "    if x ==1:\n",
    "        return str(x)\n",
    "    elif x==2:\n",
    "        return float(x)\n",
    "    else:\n",
    "        return x+10\n",
    "    \n",
    "print(list(map(fun, a)))\n",
    "\n",
    "#람다 : 식 1 if 조건식1 else 식2 if 조건식2 else 식3\n",
    "\n",
    "print(list(map(lambda x:str(x) if x==1 else float(x) if x==2 else x+10 ,a)))"
   ]
  },
  {
   "cell_type": "code",
   "execution_count": 69,
   "metadata": {},
   "outputs": [
    {
     "data": {
      "text/plain": [
       "[6, 14, 24, 36, 50]"
      ]
     },
     "execution_count": 69,
     "metadata": {},
     "output_type": "execute_result"
    }
   ],
   "source": [
    "#람다함수의 매개변수가 여러개인 경우\n",
    "a=[1,2,3,4,5]\n",
    "b=[6,7,8,9,10]\n",
    "#a*b=[6,14,..,50]\n",
    "# map(함수, 매개변수)\n",
    "# map(함수, a,b)\n",
    "list(map(lambda x,y: x*y, a,b)) #적용해야 할 함수 lambda x,y: x*y # , 이후  a,b 매개변수"
   ]
  },
  {
   "cell_type": "code",
   "execution_count": 70,
   "metadata": {},
   "outputs": [],
   "source": [
    "a=[7,3,1,4,9,6,2]\n"
   ]
  },
  {
   "cell_type": "code",
   "execution_count": 72,
   "metadata": {},
   "outputs": [
    {
     "name": "stdout",
     "output_type": "stream",
     "text": [
      "[True, False, False, True, True, True, False]\n",
      "[7, 4, 9, 6]\n"
     ]
    }
   ],
   "source": [
    "def fun2(x):\n",
    "    return x>3 and x<10\n",
    "\n",
    "print(list(map(fun2,a))) #map은 리턴값 받은 그대로 출력. map이 바꾸는게 아니다. 출력 결과가 불린형으로 나옴\n",
    "print(list(filter(fun2,a))) #filter는 조건에 만족하는 데이터만 추출. \n",
    "#즉, filter로 지정한 함수의 리턴값이 True일때만 해당 요소를 추출.\n"
   ]
  },
  {
   "cell_type": "code",
   "execution_count": 73,
   "metadata": {},
   "outputs": [],
   "source": [
    "#reduce\n",
    "from functools import reduce"
   ]
  },
  {
   "cell_type": "code",
   "execution_count": 74,
   "metadata": {},
   "outputs": [],
   "source": [
    "def fun3(x,y): #1,2 들어가고 / 리턴된 3, 원래 3 /리턴된 6, 4/ 10, 5\n",
    "    return x+y #리턴 3 / 6 / 10 /15"
   ]
  },
  {
   "cell_type": "code",
   "execution_count": 76,
   "metadata": {},
   "outputs": [
    {
     "name": "stdout",
     "output_type": "stream",
     "text": [
      "15\n"
     ]
    }
   ],
   "source": [
    "a=[1,2,3,4,5]\n",
    "print(reduce(fun3,a))\n",
    "#reduce는 각 요소를 함수로 처리한 다음, 이전 결과와 누적해서 변환하는 함수\n",
    "\n"
   ]
  },
  {
   "cell_type": "code",
   "execution_count": 79,
   "metadata": {},
   "outputs": [
    {
     "name": "stdout",
     "output_type": "stream",
     "text": [
      "15\n",
      "15\n"
     ]
    }
   ],
   "source": [
    "#람다식으로 변환하면\n",
    "print(reduce(lambda x,y : x+y ,a))\n",
    "\n",
    "#위 구문과 같음\n",
    "a=[1,2,3,4,5]\n",
    "x=a[0]\n",
    "for i in range(len(a)-1): #range(5-1=4)=0~3\n",
    "    x=x+a[i+1]\n",
    "print(x)"
   ]
  },
  {
   "cell_type": "code",
   "execution_count": 80,
   "metadata": {},
   "outputs": [
    {
     "name": "stdout",
     "output_type": "stream",
     "text": [
      "1\n",
      "1\n"
     ]
    }
   ],
   "source": [
    "x=1 #전역변수: 함수 바깥에서 선언된 변수, 함수 내/외부에서 모두 접근 가능 변수, 전역 변수\n",
    "\n",
    "def f(): #함수 정의 구문\n",
    "    print(x)\n",
    "f() #함수 호출 구문\n",
    "print(x)"
   ]
  },
  {
   "cell_type": "code",
   "execution_count": 82,
   "metadata": {},
   "outputs": [
    {
     "name": "stdout",
     "output_type": "stream",
     "text": [
      "2\n"
     ]
    },
    {
     "ename": "NameError",
     "evalue": "name 'x2' is not defined",
     "output_type": "error",
     "traceback": [
      "\u001b[1;31m---------------------------------------------------------------------------\u001b[0m",
      "\u001b[1;31mNameError\u001b[0m                                 Traceback (most recent call last)",
      "\u001b[1;32m<ipython-input-82-96c4bc91708a>\u001b[0m in \u001b[0;36m<module>\u001b[1;34m\u001b[0m\n\u001b[0;32m      4\u001b[0m     \u001b[0mprint\u001b[0m\u001b[1;33m(\u001b[0m\u001b[0mx2\u001b[0m\u001b[1;33m)\u001b[0m\u001b[1;33m\u001b[0m\u001b[1;33m\u001b[0m\u001b[0m\n\u001b[0;32m      5\u001b[0m \u001b[0mf2\u001b[0m\u001b[1;33m(\u001b[0m\u001b[1;33m)\u001b[0m\u001b[1;33m\u001b[0m\u001b[1;33m\u001b[0m\u001b[0m\n\u001b[1;32m----> 6\u001b[1;33m \u001b[0mprint\u001b[0m\u001b[1;33m(\u001b[0m\u001b[0mx2\u001b[0m\u001b[1;33m)\u001b[0m\u001b[1;33m\u001b[0m\u001b[1;33m\u001b[0m\u001b[0m\n\u001b[0m",
      "\u001b[1;31mNameError\u001b[0m: name 'x2' is not defined"
     ]
    }
   ],
   "source": [
    "#지역 변수: 함수 내부에서 변수 선언, 함수 내부에서만 접근 가능, 함수 외부에서는 접근 못함. 지역범위\n",
    "def f2():\n",
    "    x2=2\n",
    "    print(x2)\n",
    "f2()\n",
    "print(x2)"
   ]
  },
  {
   "cell_type": "code",
   "execution_count": 85,
   "metadata": {},
   "outputs": [
    {
     "name": "stdout",
     "output_type": "stream",
     "text": [
      "20\n",
      "10\n"
     ]
    }
   ],
   "source": [
    "x=10 #전역변수\n",
    "def f3():\n",
    "    x=20 #지역변수\n",
    "    print(x) #지역변수값 출력(20)\n",
    "f3()\n",
    "print(x) #전역변수값 출력(10)\n"
   ]
  },
  {
   "cell_type": "code",
   "execution_count": 86,
   "metadata": {},
   "outputs": [
    {
     "name": "stdout",
     "output_type": "stream",
     "text": [
      "20\n",
      "20\n"
     ]
    }
   ],
   "source": [
    "x=10 #전역변수\n",
    "def f3():\n",
    "    #함수 내부에서 전역변수 값을 변경하고자 하는 경우\n",
    "    #global: 함수 내부에서 전역변수 값을 변경하고자 하는 경우\n",
    "    #global 뒤에 전역 변수 이름을 지정\n",
    "    global x\n",
    "    x=20 #지역변수 -> global로 바뀌여진다. 전역 10인게 -> x=20으로 전역변수\n",
    "    print(x) #지역변수값-> 지역변수값(20) 출력\n",
    "f3()\n",
    "print(x) #전역변수값-> 출력\n"
   ]
  },
  {
   "cell_type": "code",
   "execution_count": 89,
   "metadata": {},
   "outputs": [
    {
     "name": "stdout",
     "output_type": "stream",
     "text": [
      "20\n",
      "20\n"
     ]
    }
   ],
   "source": [
    "def f4():\n",
    "    global x4 #x4를 전역변수화\n",
    "    x4=20 #지역변수 x4\n",
    "    print(x4)\n",
    "f4()\n",
    "print(x4) #전역변수 x4 => 에러 # 안에 있던 x4를 밖에도 영향"
   ]
  },
  {
   "cell_type": "code",
   "execution_count": 3,
   "metadata": {},
   "outputs": [
    {
     "name": "stdout",
     "output_type": "stream",
     "text": [
      "hello\n"
     ]
    }
   ],
   "source": [
    "#def함수 내부에 def함수 정의\n",
    "#함수를 중첩해서 쓰는게 좋지 않은 습관, 가독성이 떨어진다. 추천하지 않는다. \n",
    "\n",
    "\"\"\"\n",
    "def 함수1():\n",
    "    문장\n",
    "    def 함수2()\n",
    "    문장\n",
    "\n",
    "\"\"\"\n",
    "\n",
    "def outer():\n",
    "    msg=\"hello\"\n",
    "    def inner():\n",
    "        print(msg)\n",
    "    inner()\n",
    "   #여기까지 함수 정의 \n",
    "outer() # 함수 호출, 함수 정의 부분은 실행 안한다. "
   ]
  },
  {
   "cell_type": "code",
   "execution_count": 8,
   "metadata": {},
   "outputs": [
    {
     "name": "stdout",
     "output_type": "stream",
     "text": [
      "10\n"
     ]
    }
   ],
   "source": [
    "def f5():\n",
    "    x=10 #전역변수\n",
    "    def f6():\n",
    "        x=20 #지역변수\n",
    "    f6() \n",
    "    print(x)\n",
    "f5()"
   ]
  },
  {
   "cell_type": "code",
   "execution_count": 13,
   "metadata": {},
   "outputs": [],
   "source": [
    "f= open(\"c:/da/newFile.txt\",\"w\") #열기 모드(쓰기(w)/읽기(r))\n",
    "#파일 내용 작성\n",
    "for i in range(1,11):\n",
    "    data = \"%d번 줄입니다\\n\" % i\n",
    "    f.write(data)\n",
    "\n",
    "\n",
    "f.close() #파일 닫기\n",
    "#파일을 쓰기 모드로 열게 되면, 이미 파일이 존재한 경우 기존 내용이 사라진다. \n",
    "\n"
   ]
  },
  {
   "cell_type": "code",
   "execution_count": 17,
   "metadata": {},
   "outputs": [
    {
     "name": "stdout",
     "output_type": "stream",
     "text": [
      "1번 줄입니다\n",
      "\n"
     ]
    }
   ],
   "source": [
    "#readline 함수\n",
    "f = open(\"c:/da/newFile.txt\",\"r\")\n",
    "line=f.readline()\n",
    "print(line)\n",
    "f.close()"
   ]
  },
  {
   "cell_type": "code",
   "execution_count": 19,
   "metadata": {},
   "outputs": [
    {
     "name": "stdout",
     "output_type": "stream",
     "text": [
      "1번 줄입니다\n",
      "\n",
      "2번 줄입니다\n",
      "\n",
      "3번 줄입니다\n",
      "\n",
      "4번 줄입니다\n",
      "\n",
      "5번 줄입니다\n",
      "\n",
      "6번 줄입니다\n",
      "\n",
      "7번 줄입니다\n",
      "\n",
      "8번 줄입니다\n",
      "\n",
      "9번 줄입니다\n",
      "\n",
      "10번 줄입니다\n",
      "\n"
     ]
    }
   ],
   "source": [
    "#전체 줄을 읽어서 출력\n",
    "f = open(\"c:/da/newFile.txt\",\"r\")\n",
    "while True:\n",
    "    line=f.readline() #  더 이상 읽어들일 줄이 없으면 None을 출력\n",
    "    if not line: break #읽어지는 문장이 없다\n",
    "        \n",
    "    print(line)\n",
    "f.close()"
   ]
  },
  {
   "cell_type": "code",
   "execution_count": 20,
   "metadata": {},
   "outputs": [
    {
     "name": "stdout",
     "output_type": "stream",
     "text": [
      "['1번 줄입니다\\n', '2번 줄입니다\\n', '3번 줄입니다\\n', '4번 줄입니다\\n', '5번 줄입니다\\n', '6번 줄입니다\\n', '7번 줄입니다\\n', '8번 줄입니다\\n', '9번 줄입니다\\n', '10번 줄입니다\\n']\n"
     ]
    }
   ],
   "source": [
    "f= open(\"c:/da/newFile.txt\",\"r\")\n",
    "lines=f.readlines()\n",
    "print(lines) #리스트 구조로 저장 관리 되어 진다. "
   ]
  },
  {
   "cell_type": "code",
   "execution_count": 21,
   "metadata": {},
   "outputs": [],
   "source": [
    "data=f.read()\n",
    "print(data)\n",
    "f.close()\n"
   ]
  },
  {
   "cell_type": "code",
   "execution_count": 28,
   "metadata": {},
   "outputs": [],
   "source": [
    "#파일에 새로운 내용 내용 추가(append)\n",
    "f=open(\"c:/da/newFile.txt\",\"a\")\n",
    "for i in range(11,20):\n",
    "    data=\"%d번쨰 줄입니다\\n\" %i\n",
    "    f.write(data)\n",
    "f.close()"
   ]
  },
  {
   "cell_type": "code",
   "execution_count": 33,
   "metadata": {},
   "outputs": [],
   "source": [
    "#파일을 닫기 위한 구문 없이 생성\n",
    "with open(\"c:/da/newFile.txt\",\"w\") as f:\n",
    "    f.write(\"Life is too short\") \n",
    "    #f.close\n",
    "#with 구문은 함수를 벗어 났을대 자동으로 close를 해준다. "
   ]
  },
  {
   "cell_type": "code",
   "execution_count": null,
   "metadata": {},
   "outputs": [],
   "source": []
  },
  {
   "cell_type": "code",
   "execution_count": 25,
   "metadata": {},
   "outputs": [
    {
     "name": "stdout",
     "output_type": "stream",
     "text": [
      "단어 입력: hello\n",
      "False\n"
     ]
    }
   ],
   "source": [
    "#문제 1번(회문)\n",
    "    \n",
    "a= list(input(\"단어 입력: \") )\n",
    "b=list(reversed(a))\n",
    "a\n",
    "if a == b:\n",
    "    print(True)\n",
    "elif a != b:\n",
    "    print(False)\n",
    "    "
   ]
  },
  {
   "cell_type": "code",
   "execution_count": null,
   "metadata": {},
   "outputs": [],
   "source": [
    "#문제 1번 강사님이 원했던 방법\n",
    "\"\"\"\n",
    "LEVEL\n",
    "i=0~1, j=5-1, 5-2\n",
    "5/2=2(비교횟수)\n",
    "\n",
    "ABCCBA\n",
    "6/2=3\n",
    "바깥에서 부터 안쪽으로 비교 \n",
    "\n",
    "\n",
    "\"\"\""
   ]
  },
  {
   "cell_type": "code",
   "execution_count": 21,
   "metadata": {},
   "outputs": [
    {
     "data": {
      "text/plain": [
       "['c', 'b']"
      ]
     },
     "execution_count": 21,
     "metadata": {},
     "output_type": "execute_result"
    }
   ],
   "source": [
    "a = ['a','b']\n",
    "b = a\n",
    "b[0] = 'c'\n",
    "a"
   ]
  },
  {
   "cell_type": "code",
   "execution_count": 22,
   "metadata": {},
   "outputs": [
    {
     "data": {
      "text/plain": [
       "<list_reverseiterator at 0x190e7cdc2c8>"
      ]
     },
     "execution_count": 22,
     "metadata": {},
     "output_type": "execute_result"
    }
   ],
   "source": [
    "reversed(a)"
   ]
  },
  {
   "cell_type": "code",
   "execution_count": 23,
   "metadata": {},
   "outputs": [
    {
     "data": {
      "text/plain": [
       "['b', 'c']"
      ]
     },
     "execution_count": 23,
     "metadata": {},
     "output_type": "execute_result"
    }
   ],
   "source": [
    "list(reversed(a))"
   ]
  },
  {
   "cell_type": "code",
   "execution_count": 2,
   "metadata": {},
   "outputs": [
    {
     "name": "stdout",
     "output_type": "stream",
     "text": [
      "hello\n",
      "he\n",
      "el\n",
      "ll\n",
      "lo\n"
     ]
    }
   ],
   "source": [
    "#문제 2 n-gram(논문 표절시 찾는 방법)\n",
    "a=list(input())\n",
    "for i in range(len(a)-1):\n",
    "    print(a[i]+a[i+1])\n",
    "        \n"
   ]
  },
  {
   "cell_type": "code",
   "execution_count": 5,
   "metadata": {},
   "outputs": [
    {
     "name": "stdout",
     "output_type": "stream",
     "text": [
      "3개의 jpg파일을 입력하세요 공백으로 구분하시오2.jpg 12.jpg 112.jpg\n",
      "['2.jpg', '12.jpg', '112.jpg']\n"
     ]
    }
   ],
   "source": [
    "print(input( \"3개의 jpg파일을 입력하세요 공백으로 구분하시오\").split())\n",
    "#split() ,split(\",\") 을 사용하면 리스트로 리턴된다.\n",
    "#a=print 이런식으로 하면 에러 나온다. "
   ]
  },
  {
   "cell_type": "code",
   "execution_count": 7,
   "metadata": {},
   "outputs": [
    {
     "name": "stdout",
     "output_type": "stream",
     "text": [
      "입력1,2,3\n"
     ]
    },
    {
     "data": {
      "text/plain": [
       "['1', '2', '3']"
      ]
     },
     "execution_count": 7,
     "metadata": {},
     "output_type": "execute_result"
    }
   ],
   "source": [
    "a=input(\"입력\").split(\",\")\n",
    "a\n"
   ]
  },
  {
   "cell_type": "code",
   "execution_count": 11,
   "metadata": {},
   "outputs": [
    {
     "name": "stdout",
     "output_type": "stream",
     "text": [
      "3개의 jpg파일을 입력하세요 ','으로 구분하시오1,2,3\n"
     ]
    },
    {
     "data": {
      "text/plain": [
       "['1', '2', '3']"
      ]
     },
     "execution_count": 11,
     "metadata": {},
     "output_type": "execute_result"
    }
   ],
   "source": [
    "a= input( \"3개의 jpg파일을 입력하세요 ','으로 구분하시오\").split(\",\")\n",
    "\n",
    "a[0]*is"
   ]
  },
  {
   "cell_type": "code",
   "execution_count": null,
   "metadata": {},
   "outputs": [],
   "source": [
    "# %03d 이런식으로 하면 좋다.\n",
    "#총 3자리인데 빈자리 0으로 채운다.\n"
   ]
  },
  {
   "cell_type": "code",
   "execution_count": null,
   "metadata": {},
   "outputs": [],
   "source": []
  },
  {
   "cell_type": "code",
   "execution_count": null,
   "metadata": {},
   "outputs": [],
   "source": [
    "#문제 4번\n",
    "\"\"\"\n",
    "while len(soldierlist) != 1:\n",
    "killsolder()\n",
    "\n",
    "이럴때 반복문 안에 함수를 호출하는것 보다, 함수정의를 할때 여러번 반복하게 해놓는게 훨씬 좋다.\n",
    "함수안에 반복문을 작성해서 한번만 호출하는것이 좋다. 왜냐, 제한된 공간에서 메모리 관련.\n",
    "\n",
    "\n",
    "\"\"\""
   ]
  },
  {
   "cell_type": "code",
   "execution_count": null,
   "metadata": {},
   "outputs": [],
   "source": []
  },
  {
   "cell_type": "code",
   "execution_count": null,
   "metadata": {},
   "outputs": [],
   "source": []
  },
  {
   "cell_type": "code",
   "execution_count": null,
   "metadata": {},
   "outputs": [],
   "source": []
  }
 ],
 "metadata": {
  "kernelspec": {
   "display_name": "Python 3",
   "language": "python",
   "name": "python3"
  },
  "language_info": {
   "codemirror_mode": {
    "name": "ipython",
    "version": 3
   },
   "file_extension": ".py",
   "mimetype": "text/x-python",
   "name": "python",
   "nbconvert_exporter": "python",
   "pygments_lexer": "ipython3",
   "version": "3.7.4"
  }
 },
 "nbformat": 4,
 "nbformat_minor": 2
}
