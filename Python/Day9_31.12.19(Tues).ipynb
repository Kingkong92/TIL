{
 "cells": [
  {
   "cell_type": "code",
   "execution_count": 1,
   "metadata": {},
   "outputs": [
    {
     "data": {
      "text/plain": [
       "'\\n데이터수집\\n- DB에서 데이터 가져오기\\ncf) DB- 정형데이터, formal data. 일정의 양식으로 규격화된 데이터.\\n- 비정형 데이터(음성, 텍스트- 웹상에 있는 데이터들) 수집\\n\\n파이썬 웹 데이터 추출\\n- urllib 라이브러리(모듈 집합, 패키지) 이용하여 추출.\\n- request 모듈(관련 함수들의 모임, py 파일들). urllib.request로 \\n\\n\\n'"
      ]
     },
     "execution_count": 1,
     "metadata": {},
     "output_type": "execute_result"
    }
   ],
   "source": [
    "\"\"\"\n",
    "데이터수집\n",
    "- DB에서 데이터 가져오기\n",
    "cf) DB- 정형데이터, formal data. 일정의 양식으로 규격화된 데이터.\n",
    "- 비정형 데이터(음성, 텍스트- 웹상에 있는 데이터들) 수집\n",
    "\n",
    "파이썬 웹 데이터 추출\n",
    "- urllib 라이브러리(모듈 집합, 패키지) 이용하여 추출.\n",
    "- request 모듈(관련 함수들의 모임, py 파일들). urllib.request로\n",
    "웹에 있는 데이터에 접근 할 수 있다.\n",
    "- urlretrieve 함수를 이용하여 웹 파일을 다운로드 받을 수 있다.\n",
    "\n",
    "\n",
    "\n",
    "\"\"\""
   ]
  },
  {
   "cell_type": "code",
   "execution_count": 2,
   "metadata": {},
   "outputs": [
    {
     "name": "stdout",
     "output_type": "stream",
     "text": [
      "저장되었습니다\n"
     ]
    }
   ],
   "source": [
    "#url과 저장경로 지정\n",
    "url=\"https://www.multicampus.com/img/saas/main/logo/CUS0001/pc_main.png\"\n",
    "savename=\"test.png\"\n",
    "\n",
    "#다운로드\n",
    "import urllib.request\n",
    "\n",
    "urllib.request.urlretrieve(url,savename)\n",
    "print(\"저장되었습니다\")\n",
    "\n",
    "#다운로드 -> 파일로 저장됨"
   ]
  },
  {
   "cell_type": "code",
   "execution_count": 7,
   "metadata": {},
   "outputs": [
    {
     "name": "stdout",
     "output_type": "stream",
     "text": [
      "저장되었습니다\n"
     ]
    }
   ],
   "source": [
    "#urlopen을 이용한 다운로드시, 바로 파일로 저장되지 않는다.\n",
    "# => 데이터가 메모리(RAM)에 적재\n",
    "\n",
    "savename=\"test2.png\"\n",
    "mem=urllib.request.urlopen(url).read()\n",
    "#print(mem)\n",
    "\n",
    "with open(savename, mode=\"wb\") as f:\n",
    "    f.write(mem)\n",
    "    print(\"저장되었습니다\")"
   ]
  },
  {
   "cell_type": "code",
   "execution_count": null,
   "metadata": {},
   "outputs": [],
   "source": [
    "http://www.kma.go.kr/weather/forecast/mid-term-rss3.jsp"
   ]
  },
  {
   "cell_type": "code",
   "execution_count": 8,
   "metadata": {},
   "outputs": [
    {
     "ename": "SyntaxError",
     "evalue": "EOF while scanning triple-quoted string literal (<ipython-input-8-a88668124922>, line 8)",
     "output_type": "error",
     "traceback": [
      "\u001b[1;36m  File \u001b[1;32m\"<ipython-input-8-a88668124922>\"\u001b[1;36m, line \u001b[1;32m8\u001b[0m\n\u001b[1;33m    최근 JSON 딕셔너리 구조로 규격이 나왔다.\u001b[0m\n\u001b[1;37m                              \n^\u001b[0m\n\u001b[1;31mSyntaxError\u001b[0m\u001b[1;31m:\u001b[0m EOF while scanning triple-quoted string literal\n"
     ]
    }
   ],
   "source": [
    "\"\"\"\n",
    "HTML Vs XML\n",
    "HTML 컴퓨터가 구조를 이해하기가 어렵다(읽어들이기 어렵고 읽더라도 좋은 결과가 나오지 않는다).\n",
    "-> 대안: 문서규격이 XML이 나왔다. \n",
    "다른 종류들도 있다. \n",
    "비구조적 문서(html)-> 구조적 문서(xml)\n",
    "e.g.)<P>오늘의 날씨는 맑음입니다.</P> => <날씨> -> <오늘> 안으로 둘러싸는 형태. \n",
    "구조적이 무엇인가? 계단식으로 구조화된 것.\n",
    "최근 JSON 딕셔너리 구조로 규격이 나왔다. 가볍고 연산 속도 빠르고 전송에 용이하다.\n",
    "{'날씨': {}}\n",
    "\n",
    "\"\"\""
   ]
  },
  {
   "cell_type": "code",
   "execution_count": 25,
   "metadata": {},
   "outputs": [],
   "source": [
    "import urllib.parse\n",
    "\n",
    "addr= \"http://www.weather.go.kr/weather/forecast/mid-term-rss3.jsp\"\n",
    "values={'stnI':'184'}\n",
    "\n",
    "param=urllib.parse.urlencode(values)"
   ]
  },
  {
   "cell_type": "code",
   "execution_count": 26,
   "metadata": {},
   "outputs": [
    {
     "data": {
      "text/plain": [
       "'http://www.weather.go.kr/weather/forecast/mid-term-rss3.jsp?stnI=184'"
      ]
     },
     "execution_count": 26,
     "metadata": {},
     "output_type": "execute_result"
    }
   ],
   "source": [
    "url=addr+\"?\"+param\n",
    "url"
   ]
  },
  {
   "cell_type": "raw",
   "metadata": {},
   "source": []
  },
  {
   "cell_type": "code",
   "execution_count": 28,
   "metadata": {},
   "outputs": [
    {
     "data": {
      "text/plain": [
       "'<?xml version=\"1.0\" encoding=\"utf-8\" ?>\\r\\n<rss version=\"2.0\">\\r\\n<channel>\\r\\n<title>기상청 육상 중기예보</title>\\r\\n<link>http://www.kma.go.kr/weather/forecast/mid-term_01.jsp</link>\\r\\n<description>기상청 날씨 웹서비스</description>\\r\\n<language>ko</language>\\r\\n<generator>기상청</generator>\\r\\n<pubDate>2019년 12월 31일 (화)요일 06:00</pubDate>\\r\\n <item>\\r\\n<author>기상청</author>\\r\\n<category>육상중기예보</category>\\r\\n<title>전국 육상 중기예보 - 2019년 12월 31일 (화)요일 06:00 발표</title>\\r\\n<link>http://www.kma.go.kr/weather/forecast/mid-term_01.jsp</link>\\r\\n<guid>http://www.kma.go.kr/weather/forecast/mid-term_01.jsp</guid>\\r\\n<description>\\r\\n\\t<header>\\r\\n\\t\\t<title>전국 육상중기예보</title>\\r\\n\\t\\t<tm>201912310600</tm>\\r\\n\\t\\t<wf><![CDATA[기압골의 영향으로 1월 6일 충청도와 남부지방에서 비가 시작되어 7~8일은 전국에 비 또는 눈이 오겠습니다.<br />그 밖의 날은 고기압의 영향으로 맑은 날이 많겠습니다. 한편, 동풍의 영향으로 1월 9일 강원영동에 비 또는 눈이 오겠습니다.  <br />기온은 평년(최저기온: -12~0℃, 최고기온: 1~9℃)보다 높겠습니다.<br />강수량은 평년(0~3mm)보다 많겠습니다.]]></wf>\\r\\n\\t</header>\\r\\n\\t<body>\\r\\n\\t\\t\\t\\t\\r\\n\\r\\n\\t\\t<location wl_ver=\"3\">\\r\\n\\t\\t\\t\\t<province>서울ㆍ인천ㆍ경기도</province>\\r\\n\\t\\t\\t\\t<city>서울</city>\\r\\n\\t\\t\\t\\t\\r\\n\\t\\t\\t\\t<data>\\r\\n\\t\\t\\t\\t\\t<mode>A02</mode>\\r\\n\\t\\t\\t\\t\\t<tmEf>2020-01-03 00:00</tmEf>\\r\\n\\t\\t\\t\\t\\t<wf>구름많음</wf>\\r\\n\\t\\t\\t\\t\\t<tmn>-2</tmn>\\r\\n\\t\\t\\t\\t\\t<tmx>5</tmx>\\r\\n\\t\\t\\t\\t\\t<reliability></reliability>\\r\\n\\t\\t\\t\\t\\t<rnSt>30</rnSt>\\r\\n\\t\\t\\t\\t</data>\\r\\n\\r\\n\\t\\t\\t\\t\\r\\n\\t\\t\\t\\t<data>\\r\\n\\t\\t\\t\\t\\t<mode>A02</mode>\\r\\n\\t\\t\\t\\t\\t<tmEf>2020-01-03 12:00</tmEf>\\r\\n\\t\\t\\t\\t\\t<wf>맑음</wf>\\r\\n\\t\\t\\t\\t\\t<tmn>-2</tmn>\\r\\n\\t\\t\\t\\t\\t<tmx>5</tmx>\\r\\n\\t\\t\\t\\t\\t<reliability></reliability>\\r\\n\\t\\t\\t\\t\\t<rnSt>10</rnSt>\\r\\n\\t\\t\\t\\t</data>\\r\\n\\r\\n\\t\\t\\t\\t\\r\\n\\t\\t\\t\\t<data>\\r\\n\\t\\t\\t\\t\\t<mode>A02</mode>\\r\\n\\t\\t\\t\\t\\t<tmEf>2020-01-04 00:00</tmEf>\\r\\n\\t\\t\\t\\t\\t<wf>맑음</wf>\\r\\n\\t\\t\\t\\t\\t<tmn>-1</tmn>\\r\\n\\t\\t\\t\\t\\t<tmx>5</tmx>\\r\\n\\t\\t\\t\\t\\t<reliability></reliability>\\r\\n\\t\\t\\t\\t\\t<rnSt>10</rnSt>\\r\\n\\t\\t\\t\\t</data>\\r\\n\\r\\n\\t\\t\\t\\t\\r\\n\\t\\t\\t\\t<data>\\r\\n\\t\\t\\t\\t\\t<mode>A02</mode>\\r\\n\\t\\t\\t\\t\\t<tmEf>2020-01-04 12:00</tmEf>\\r\\n\\t\\t\\t\\t\\t<wf>맑음</wf>\\r\\n\\t\\t\\t\\t\\t<tmn>-1</tmn>\\r\\n\\t\\t\\t\\t\\t<tmx>5</tmx>\\r\\n\\t\\t\\t\\t\\t<reliability></reliability>\\r\\n\\t\\t\\t\\t\\t<rnSt>0</rnSt>\\r\\n\\t\\t\\t\\t</data>\\r\\n\\r\\n\\t\\t\\t\\t\\r\\n\\t\\t\\t\\t<data>\\r\\n\\t\\t\\t\\t\\t<mode>A02</mode>\\r\\n\\t\\t\\t\\t\\t<tmEf>2020-01-05 00:00</tmEf>\\r\\n\\t\\t\\t\\t\\t<wf>맑음</wf>\\r\\n\\t\\t\\t\\t\\t<tmn>-4</tmn>\\r\\n\\t\\t\\t\\t\\t<tmx>5</tmx>\\r\\n\\t\\t\\t\\t\\t<reliability></reliability>\\r\\n\\t\\t\\t\\t\\t<rnSt>0</rnSt>\\r\\n\\t\\t\\t\\t</data>\\r\\n\\r\\n\\t\\t\\t\\t\\r\\n\\t\\t\\t\\t<data>\\r\\n\\t\\t\\t\\t\\t<mode>A02</mode>\\r\\n\\t\\t\\t\\t\\t<tmEf>2020-01-05 12:00</tmEf>\\r\\n\\t\\t\\t\\t\\t<wf>구름많음</wf>\\r\\n\\t\\t\\t\\t\\t<tmn>-4</tmn>\\r\\n\\t\\t\\t\\t\\t<tmx>5</tmx>\\r\\n\\t\\t\\t\\t\\t<reliability></reliability>\\r\\n\\t\\t\\t\\t\\t<rnSt>30</rnSt>\\r\\n\\t\\t\\t\\t</data>\\r\\n\\r\\n\\t\\t\\t\\t\\r\\n\\t\\t\\t\\t<data>\\r\\n\\t\\t\\t\\t\\t<mode>A02</mode>\\r\\n\\t\\t\\t\\t\\t<tmEf>2020-01-06 00:00</tmEf>\\r\\n\\t\\t\\t\\t\\t<wf>구름많음</wf>\\r\\n\\t\\t\\t\\t\\t<tmn>-2</tmn>\\r\\n\\t\\t\\t\\t\\t<tmx>4</tmx>\\r\\n\\t\\t\\t\\t\\t<reliability></reliability>\\r\\n\\t\\t\\t\\t\\t<rnSt>30</rnSt>\\r\\n\\t\\t\\t\\t</data>\\r\\n\\r\\n\\t\\t\\t\\t\\r\\n\\t\\t\\t\\t<data>\\r\\n\\t\\t\\t\\t\\t<mode>A02</mode>\\r\\n\\t\\t\\t\\t\\t<tmEf>2020-01-06 12:00</tmEf>\\r\\n\\t\\t\\t\\t\\t<wf>흐림</wf>\\r\\n\\t\\t\\t\\t\\t<tmn>-2</tmn>\\r\\n\\t\\t\\t\\t\\t<tmx>4</tmx>\\r\\n\\t\\t\\t\\t\\t<reliability></reliability>\\r\\n\\t\\t\\t\\t\\t<rnSt>40</rnSt>\\r\\n\\t\\t\\t\\t</data>\\r\\n\\r\\n\\t\\t\\t\\t\\r\\n\\t\\t\\t\\t<data>\\r\\n\\t\\t\\t\\t\\t<mode>A02</mode>\\r\\n\\t\\t\\t\\t\\t<tmEf>2020-01-07 00:00</tmEf>\\r\\n\\t\\t\\t\\t\\t<wf>흐리고 비/눈</wf>\\r\\n\\t\\t\\t\\t\\t<tmn>0</tmn>\\r\\n\\t\\t\\t\\t\\t<tmx>5</tmx>\\r\\n\\t\\t\\t\\t\\t<reliability></reliability>\\r\\n\\t\\t\\t\\t\\t<rnSt>70</rnSt>\\r\\n\\t\\t\\t\\t</data>\\r\\n\\r\\n\\t\\t\\t\\t\\r\\n\\t\\t\\t\\t<data>\\r\\n\\t\\t\\t\\t\\t<mode>A02</mode>\\r\\n\\t\\t\\t\\t\\t<tmEf>2020-01-07 12:00</tmEf>\\r\\n\\t\\t\\t\\t\\t<wf>흐리고 비/눈</wf>\\r\\n\\t\\t\\t\\t\\t<tmn>0</tmn>\\r\\n\\t\\t\\t\\t\\t<tmx>5</tmx>\\r\\n\\t\\t\\t\\t\\t<reliability></reliability>\\r\\n\\t\\t\\t\\t\\t<rnSt>70</rnSt>\\r\\n\\t\\t\\t\\t</data>\\r\\n\\r\\n\\t\\t\\t\\t\\r\\n\\t\\t\\t\\t<data>\\r\\n\\t\\t\\t\\t\\t<mode>A01</mode>\\r\\n\\t\\t\\t\\t\\t<tmEf>2020-01-08 00:00</tmEf>\\r\\n\\t\\t\\t\\t\\t<wf>흐리고 비/눈</wf>\\r\\n\\t\\t\\t\\t\\t<tmn>0</tmn>\\r\\n\\t\\t\\t\\t\\t<tmx>4</tmx>\\r\\n\\t\\t\\t\\t\\t<reliability></reliability>\\r\\n\\t\\t\\t\\t\\t<rnSt>60</rnSt>\\r\\n\\t\\t\\t\\t</data>\\r\\n\\r\\n\\t\\t\\t\\t\\r\\n\\t\\t\\t\\t<data>\\r\\n\\t\\t\\t\\t\\t<mode>A01</mode>\\r\\n\\t\\t\\t\\t\\t<tmEf>2020-01-09 00:00</tmEf>\\r\\n\\t\\t\\t\\t\\t<wf>구름많음</wf>\\r\\n\\t\\t\\t\\t\\t<tmn>-1</tmn>\\r\\n\\t\\t\\t\\t\\t<tmx>4</tmx>\\r\\n\\t\\t\\t\\t\\t<reliability></reliability>\\r\\n\\t\\t\\t\\t\\t<rnSt>40</rnSt>\\r\\n\\t\\t\\t\\t</data>\\r\\n\\r\\n\\t\\t\\t\\t\\r\\n\\t\\t\\t\\t<data>\\r\\n\\t\\t\\t\\t\\t<mode>A01</mode>\\r\\n\\t\\t\\t\\t\\t<tmEf>2020-01-10 00:00</tmEf>\\r\\n\\t\\t\\t\\t\\t<wf>구름많음</wf>\\r\\n\\t\\t\\t\\t\\t<tmn>-2</tmn>\\r\\n\\t\\t\\t\\t\\t<tmx>4</tmx>\\r\\n\\t\\t\\t\\t\\t<reliability></reliability>\\r\\n\\t\\t\\t\\t\\t<rnSt>30</rnSt>\\r\\n\\t\\t\\t\\t</data>\\r\\n\\r\\n\\r\\n\\t\\t</location>\\r\\n\\r\\n\\t\\t<location wl_ver=\"3\">\\r\\n\\t\\t\\t\\t<province>서울ㆍ인천ㆍ경기도</province>\\r\\n\\t\\t\\t\\t<city>인천</city>\\r\\n\\t\\t\\t\\t\\r\\n\\t\\t\\t\\t<data>\\r\\n\\t\\t\\t\\t\\t<mode>A02</mode>\\r\\n\\t\\t\\t\\t\\t<tmEf>2020-01-03 00:00</tmEf>\\r\\n\\t\\t\\t\\t\\t<wf>구름많음</wf>\\r\\n\\t\\t\\t\\t\\t<tmn>-1</tmn>\\r\\n\\t\\t\\t\\t\\t<tmx>4</tmx>\\r\\n\\t\\t\\t\\t\\t<reliability></reliability>\\r\\n\\t\\t\\t\\t\\t<rnSt>30</rnSt>\\r\\n\\t\\t\\t\\t</data>\\r\\n\\r\\n\\t\\t\\t\\t\\r\\n\\t\\t\\t\\t<data>\\r\\n\\t\\t\\t\\t\\t<mode>A02</mode>\\r\\n\\t\\t\\t\\t\\t<tmEf>2020-01-03 12:00</tmEf>\\r\\n\\t\\t\\t\\t\\t<wf>맑음</wf>\\r\\n\\t\\t\\t\\t\\t<tmn>-1</tmn>\\r\\n\\t\\t\\t\\t\\t<tmx>4</tmx>\\r\\n\\t\\t\\t\\t\\t<reliability></reliability>\\r\\n\\t\\t\\t\\t\\t<rnSt>10</rnSt>\\r\\n\\t\\t\\t\\t</data>\\r\\n\\r\\n\\t\\t\\t\\t\\r\\n\\t\\t\\t\\t<data>\\r\\n\\t\\t\\t\\t\\t<mode>A02</mode>\\r\\n\\t\\t\\t\\t\\t<tmEf>2020-01-04 00:00</tmEf>\\r\\n\\t\\t\\t\\t\\t<wf>맑음</wf>\\r\\n\\t\\t\\t\\t\\t<tmn>0</tmn>\\r\\n\\t\\t\\t\\t\\t<tmx>5</tmx>\\r\\n\\t\\t\\t\\t\\t<reliability></reliability>\\r\\n\\t\\t\\t\\t\\t<rnSt>10</rnSt>\\r\\n\\t\\t\\t\\t</data>\\r\\n\\r\\n\\t\\t\\t\\t\\r\\n\\t\\t\\t\\t<data>\\r\\n\\t\\t\\t\\t\\t<mode>A02</mode>\\r\\n\\t\\t\\t\\t\\t<tmEf>2020-01-04 12:00</tmEf>\\r\\n\\t\\t\\t\\t\\t<wf>맑음</wf>\\r\\n\\t\\t\\t\\t\\t<tmn>0</tmn>\\r\\n\\t\\t\\t\\t\\t<tmx>5</tmx>\\r\\n\\t\\t\\t\\t\\t<reliability></reliability>\\r\\n\\t\\t\\t\\t\\t<rnSt>0</rnSt>\\r\\n\\t\\t\\t\\t</data>\\r\\n\\r\\n\\t\\t\\t\\t\\r\\n\\t\\t\\t\\t<data>\\r\\n\\t\\t\\t\\t\\t<mode>A02</mode>\\r\\n\\t\\t\\t\\t\\t<tmEf>2020-01-05 00:00</tmEf>\\r\\n\\t\\t\\t\\t\\t<wf>맑음</wf>\\r\\n\\t\\t\\t\\t\\t<tmn>-3</tmn>\\r\\n\\t\\t\\t\\t\\t<tmx>4</tmx>\\r\\n\\t\\t\\t\\t\\t<reliability></reliability>\\r\\n\\t\\t\\t\\t\\t<rnSt>0</rnSt>\\r\\n\\t\\t\\t\\t</data>\\r\\n\\r\\n\\t\\t\\t\\t\\r\\n\\t\\t\\t\\t<data>\\r\\n\\t\\t\\t\\t\\t<mode>A02</mode>\\r\\n\\t\\t\\t\\t\\t<tmEf>2020-01-05 12:00</tmEf>\\r\\n\\t\\t\\t\\t\\t<wf>구름많음</wf>\\r\\n\\t\\t\\t\\t\\t<tmn>-3</tmn>\\r\\n\\t\\t\\t\\t\\t<tmx>4</tmx>\\r\\n\\t\\t\\t\\t\\t<reliability></reliability>\\r\\n\\t\\t\\t\\t\\t<rnSt>30</rnSt>\\r\\n\\t\\t\\t\\t</data>\\r\\n\\r\\n\\t\\t\\t\\t\\r\\n\\t\\t\\t\\t<data>\\r\\n\\t\\t\\t\\t\\t<mode>A02</mode>\\r\\n\\t\\t\\t\\t\\t<tmEf>2020-01-06 00:00</tmEf>\\r\\n\\t\\t\\t\\t\\t<wf>구름많음</wf>\\r\\n\\t\\t\\t\\t\\t<tmn>-1</tmn>\\r\\n\\t\\t\\t\\t\\t<tmx>4</tmx>\\r\\n\\t\\t\\t\\t\\t<reliability></reliability>\\r\\n\\t\\t\\t\\t\\t<rnSt>30</rnSt>\\r\\n\\t\\t\\t\\t</data>\\r\\n\\r\\n\\t\\t\\t\\t\\r\\n\\t\\t\\t\\t<data>\\r\\n\\t\\t\\t\\t\\t<mode>A02</mode>\\r\\n\\t\\t\\t\\t\\t<tmEf>2020-01-06 12:00</tmEf>\\r\\n\\t\\t\\t\\t\\t<wf>흐림</wf>\\r\\n\\t\\t\\t\\t\\t<tmn>-1</tmn>\\r\\n\\t\\t\\t\\t\\t<tmx>4</tmx>\\r\\n\\t\\t\\t\\t\\t<reliability></reliability>\\r\\n\\t\\t\\t\\t\\t<rnSt>40</rnSt>\\r\\n\\t\\t\\t\\t</data>\\r\\n\\r\\n\\t\\t\\t\\t\\r\\n\\t\\t\\t\\t<data>\\r\\n\\t\\t\\t\\t\\t<mode>A02</mode>\\r\\n\\t\\t\\t\\t\\t<tmEf>2020-01-07 00:00</tmEf>\\r\\n\\t\\t\\t\\t\\t<wf>흐리고 비/눈</wf>\\r\\n\\t\\t\\t\\t\\t<tmn>0</tmn>\\r\\n\\t\\t\\t\\t\\t<tmx>4</tmx>\\r\\n\\t\\t\\t\\t\\t<reliability></reliability>\\r\\n\\t\\t\\t\\t\\t<rnSt>70</rnSt>\\r\\n\\t\\t\\t\\t</data>\\r\\n\\r\\n\\t\\t\\t\\t\\r\\n\\t\\t\\t\\t<data>\\r\\n\\t\\t\\t\\t\\t<mode>A02</mode>\\r\\n\\t\\t\\t\\t\\t<tmEf>2020-01-07 12:00</tmEf>\\r\\n\\t\\t\\t\\t\\t<wf>흐리고 비/눈</wf>\\r\\n\\t\\t\\t\\t\\t<tmn>0</tmn>\\r\\n\\t\\t\\t\\t\\t<tmx>4</tmx>\\r\\n\\t\\t\\t\\t\\t<reliability></reliability>\\r\\n\\t\\t\\t\\t\\t<rnSt>70</rnSt>\\r\\n\\t\\t\\t\\t</data>\\r\\n\\r\\n\\t\\t\\t\\t\\r\\n\\t\\t\\t\\t<data>\\r\\n\\t\\t\\t\\t\\t<mode>A01</mode>\\r\\n\\t\\t\\t\\t\\t<tmEf>2020-01-08 00:00</tmEf>\\r\\n\\t\\t\\t\\t\\t<wf>흐리고 비/눈</wf>\\r\\n\\t\\t\\t\\t\\t<tmn>1</tmn>\\r\\n\\t\\t\\t\\t\\t<tmx>4</tmx>\\r\\n\\t\\t\\t\\t\\t<reliability></reliability>\\r\\n\\t\\t\\t\\t\\t<rnSt>60</rnSt>\\r\\n\\t\\t\\t\\t</data>\\r\\n\\r\\n\\t\\t\\t\\t\\r\\n\\t\\t\\t\\t<data>\\r\\n\\t\\t\\t\\t\\t<mode>A01</mode>\\r\\n\\t\\t\\t\\t\\t<tmEf>2020-01-09 00:00</tmEf>\\r\\n\\t\\t\\t\\t\\t<wf>구름많음</wf>\\r\\n\\t\\t\\t\\t\\t<tmn>0</tmn>\\r\\n\\t\\t\\t\\t\\t<tmx>4</tmx>\\r\\n\\t\\t\\t\\t\\t<reliability></reliability>\\r\\n\\t\\t\\t\\t\\t<rnSt>40</rnSt>\\r\\n\\t\\t\\t\\t</data>\\r\\n\\r\\n\\t\\t\\t\\t\\r\\n\\t\\t\\t\\t<data>\\r\\n\\t\\t\\t\\t\\t<mode>A01</mode>\\r\\n\\t\\t\\t\\t\\t<tmEf>2020-01-10 00:00</tmEf>\\r\\n\\t\\t\\t\\t\\t<wf>구름많음</wf>\\r\\n\\t\\t\\t\\t\\t<tmn>-2</tmn>\\r\\n\\t\\t\\t\\t\\t<tmx>4</tmx>\\r\\n\\t\\t\\t\\t\\t<reliability></reliability>\\r\\n\\t\\t\\t\\t\\t<rnSt>30</rnSt>\\r\\n\\t\\t\\t\\t</data>\\r\\n\\r\\n\\r\\n\\t\\t</location>\\r\\n\\r\\n\\t\\t<location wl_ver=\"3\">\\r\\n\\t\\t\\t\\t<province>서울ㆍ인천ㆍ경기도</province>\\r\\n\\t\\t\\t\\t<city>수원</city>\\r\\n\\t\\t\\t\\t\\r\\n\\t\\t\\t\\t<data>\\r\\n\\t\\t\\t\\t\\t<mode>A02</mode>\\r\\n\\t\\t\\t\\t\\t<tmEf>2020-01-03 00:00</tmEf>\\r\\n\\t\\t\\t\\t\\t<wf>구름많음</wf>\\r\\n\\t\\t\\t\\t\\t<tmn>-2</tmn>\\r\\n\\t\\t\\t\\t\\t<tmx>6</tmx>\\r\\n\\t\\t\\t\\t\\t<reliability></reliability>\\r\\n\\t\\t\\t\\t\\t<rnSt>30</rnSt>\\r\\n\\t\\t\\t\\t</data>\\r\\n\\r\\n\\t\\t\\t\\t\\r\\n\\t\\t\\t\\t<data>\\r\\n\\t\\t\\t\\t\\t<mode>A02</mode>\\r\\n\\t\\t\\t\\t\\t<tmEf>2020-01-03 12:00</tmEf>\\r\\n\\t\\t\\t\\t\\t<wf>맑음</wf>\\r\\n\\t\\t\\t\\t\\t<tmn>-2</tmn>\\r\\n\\t\\t\\t\\t\\t<tmx>6</tmx>\\r\\n\\t\\t\\t\\t\\t<reliability></reliability>\\r\\n\\t\\t\\t\\t\\t<rnSt>10</rnSt>\\r\\n\\t\\t\\t\\t</data>\\r\\n\\r\\n\\t\\t\\t\\t\\r\\n\\t\\t\\t\\t<data>\\r\\n\\t\\t\\t\\t\\t<mode>A02</mode>\\r\\n\\t\\t\\t\\t\\t<tmEf>2020-01-04 00:00</tmEf>\\r\\n\\t\\t\\t\\t\\t<wf>맑음</wf>\\r\\n\\t\\t\\t\\t\\t<tmn>-2</tmn>\\r\\n\\t\\t\\t\\t\\t<tmx>6</tmx>\\r\\n\\t\\t\\t\\t\\t<reliability></reliability>\\r\\n\\t\\t\\t\\t\\t<rnSt>10</rnSt>\\r\\n\\t\\t\\t\\t</data>\\r\\n\\r\\n\\t\\t\\t\\t\\r\\n\\t\\t\\t\\t<data>\\r\\n\\t\\t\\t\\t\\t<mode>A02</mode>\\r\\n\\t\\t\\t\\t\\t<tmEf>2020-01-04 12:00</tmEf>\\r\\n\\t\\t\\t\\t\\t<wf>맑음</wf>\\r\\n\\t\\t\\t\\t\\t<tmn>-2</tmn>\\r\\n\\t\\t\\t\\t\\t<tmx>6</tmx>\\r\\n\\t\\t\\t\\t\\t<reliability></reliability>\\r\\n\\t\\t\\t\\t\\t<rnSt>0</rnSt>\\r\\n\\t\\t\\t\\t</data>\\r\\n\\r\\n\\t\\t\\t\\t\\r\\n\\t\\t\\t\\t<data>\\r\\n\\t\\t\\t\\t\\t<mode>A02</mode>\\r\\n\\t\\t\\t\\t\\t<tmEf>2020-01-05 00:00</tmEf>\\r\\n\\t\\t\\t\\t\\t<wf>맑음</wf>\\r\\n\\t\\t\\t\\t\\t<tmn>-4</tmn>\\r\\n\\t\\t\\t\\t\\t<tmx>5</tmx>\\r\\n\\t\\t\\t\\t\\t<reliability></reliability>\\r\\n\\t\\t\\t\\t\\t<rnSt>0</rnSt>\\r\\n\\t\\t\\t\\t</data>\\r\\n\\r\\n\\t\\t\\t\\t\\r\\n\\t\\t\\t\\t<data>\\r\\n\\t\\t\\t\\t\\t<mode>A02</mode>\\r\\n\\t\\t\\t\\t\\t<tmEf>2020-01-05 12:00</tmEf>\\r\\n\\t\\t\\t\\t\\t<wf>구름많음</wf>\\r\\n\\t\\t\\t\\t\\t<tmn>-4</tmn>\\r\\n\\t\\t\\t\\t\\t<tmx>5</tmx>\\r\\n\\t\\t\\t\\t\\t<reliability></reliability>\\r\\n\\t\\t\\t\\t\\t<rnSt>30</rnSt>\\r\\n\\t\\t\\t\\t</data>\\r\\n\\r\\n\\t\\t\\t\\t\\r\\n\\t\\t\\t\\t<data>\\r\\n\\t\\t\\t\\t\\t<mode>A02</mode>\\r\\n\\t\\t\\t\\t\\t<tmEf>2020-01-06 00:00</tmEf>\\r\\n\\t\\t\\t\\t\\t<wf>구름많음</wf>\\r\\n\\t\\t\\t\\t\\t<tmn>-2</tmn>\\r\\n\\t\\t\\t\\t\\t<tmx>4</tmx>\\r\\n\\t\\t\\t\\t\\t<reliability></reliability>\\r\\n\\t\\t\\t\\t\\t<rnSt>30</rnSt>\\r\\n\\t\\t\\t\\t</data>\\r\\n\\r\\n\\t\\t\\t\\t\\r\\n\\t\\t\\t\\t<data>\\r\\n\\t\\t\\t\\t\\t<mode>A02</mode>\\r\\n\\t\\t\\t\\t\\t<tmEf>2020-01-06 12:00</tmEf>\\r\\n\\t\\t\\t\\t\\t<wf>흐림</wf>\\r\\n\\t\\t\\t\\t\\t<tmn>-2</tmn>\\r\\n\\t\\t\\t\\t\\t<tmx>4</tmx>\\r\\n\\t\\t\\t\\t\\t<reliability></reliability>\\r\\n\\t\\t\\t\\t\\t<rnSt>40</rnSt>\\r\\n\\t\\t\\t\\t</data>\\r\\n\\r\\n\\t\\t\\t\\t\\r\\n\\t\\t\\t\\t<data>\\r\\n\\t\\t\\t\\t\\t<mode>A02</mode>\\r\\n\\t\\t\\t\\t\\t<tmEf>2020-01-07 00:00</tmEf>\\r\\n\\t\\t\\t\\t\\t<wf>흐리고 비/눈</wf>\\r\\n\\t\\t\\t\\t\\t<tmn>0</tmn>\\r\\n\\t\\t\\t\\t\\t<tmx>5</tmx>\\r\\n\\t\\t\\t\\t\\t<reliability></reliability>\\r\\n\\t\\t\\t\\t\\t<rnSt>70</rnSt>\\r\\n\\t\\t\\t\\t</data>\\r\\n\\r\\n\\t\\t\\t\\t\\r\\n\\t\\t\\t\\t<data>\\r\\n\\t\\t\\t\\t\\t<mode>A02</mode>\\r\\n\\t\\t\\t\\t\\t<tmEf>2020-01-07 12:00</tmEf>\\r\\n\\t\\t\\t\\t\\t<wf>흐리고 비/눈</wf>\\r\\n\\t\\t\\t\\t\\t<tmn>0</tmn>\\r\\n\\t\\t\\t\\t\\t<tmx>5</tmx>\\r\\n\\t\\t\\t\\t\\t<reliability></reliability>\\r\\n\\t\\t\\t\\t\\t<rnSt>70</rnSt>\\r\\n\\t\\t\\t\\t</data>\\r\\n\\r\\n\\t\\t\\t\\t\\r\\n\\t\\t\\t\\t<data>\\r\\n\\t\\t\\t\\t\\t<mode>A01</mode>\\r\\n\\t\\t\\t\\t\\t<tmEf>2020-01-08 00:00</tmEf>\\r\\n\\t\\t\\t\\t\\t<wf>흐리고 비/눈</wf>\\r\\n\\t\\t\\t\\t\\t<tmn>1</tmn>\\r\\n\\t\\t\\t\\t\\t<tmx>5</tmx>\\r\\n\\t\\t\\t\\t\\t<reliability></reliability>\\r\\n\\t\\t\\t\\t\\t<rnSt>60</rnSt>\\r\\n\\t\\t\\t\\t</data>\\r\\n\\r\\n\\t\\t\\t\\t\\r\\n\\t\\t\\t\\t<data>\\r\\n\\t\\t\\t\\t\\t<mode>A01</mode>\\r\\n\\t\\t\\t\\t\\t<tmEf>2020-01-09 00:00</tmEf>\\r\\n\\t\\t\\t\\t\\t<wf>구름많음</wf>\\r\\n\\t\\t\\t\\t\\t<tmn>-1</tmn>\\r\\n\\t\\t\\t\\t\\t<tmx>5</tmx>\\r\\n\\t\\t\\t\\t\\t<reliability></reliability>\\r\\n\\t\\t\\t\\t\\t<rnSt>40</rnSt>\\r\\n\\t\\t\\t\\t</data>\\r\\n\\r\\n\\t\\t\\t\\t\\r\\n\\t\\t\\t\\t<data>\\r\\n\\t\\t\\t\\t\\t<mode>A01</mode>\\r\\n\\t\\t\\t\\t\\t<tmEf>2020-01-10 00:00</tmEf>\\r\\n\\t\\t\\t\\t\\t<wf>구름많음</wf>\\r\\n\\t\\t\\t\\t\\t<tmn>-3</tmn>\\r\\n\\t\\t\\t\\t\\t<tmx>4</tmx>\\r\\n\\t\\t\\t\\t\\t<reliability></reliability>\\r\\n\\t\\t\\t\\t\\t<rnSt>30</rnSt>\\r\\n\\t\\t\\t\\t</data>\\r\\n\\r\\n\\r\\n\\t\\t</location>\\r\\n\\r\\n\\t\\t<location wl_ver=\"3\">\\r\\n\\t\\t\\t\\t<province>서울ㆍ인천ㆍ경기도</province>\\r\\n\\t\\t\\t\\t<city>파주</city>\\r\\n\\t\\t\\t\\t\\r\\n\\t\\t\\t\\t<data>\\r\\n\\t\\t\\t\\t\\t<mode>A02</mode>\\r\\n\\t\\t\\t\\t\\t<tmEf>2020-01-03 00:00</tmEf>\\r\\n\\t\\t\\t\\t\\t<wf>구름많음</wf>\\r\\n\\t\\t\\t\\t\\t<tmn>-6</tmn>\\r\\n\\t\\t\\t\\t\\t<tmx>4</tmx>\\r\\n\\t\\t\\t\\t\\t<reliability></reliability>\\r\\n\\t\\t\\t\\t\\t<rnSt>30</rnSt>\\r\\n\\t\\t\\t\\t</data>\\r\\n\\r\\n\\t\\t\\t\\t\\r\\n\\t\\t\\t\\t<data>\\r\\n\\t\\t\\t\\t\\t<mode>A02</mode>\\r\\n\\t\\t\\t\\t\\t<tmEf>2020-01-03 12:00</tmEf>\\r\\n\\t\\t\\t\\t\\t<wf>맑음</wf>\\r\\n\\t\\t\\t\\t\\t<tmn>-6</tmn>\\r\\n\\t\\t\\t\\t\\t<tmx>4</tmx>\\r\\n\\t\\t\\t\\t\\t<reliability></reliability>\\r\\n\\t\\t\\t\\t\\t<rnSt>10</rnSt>\\r\\n\\t\\t\\t\\t</data>\\r\\n\\r\\n\\t\\t\\t\\t\\r\\n\\t\\t\\t\\t<data>\\r\\n\\t\\t\\t\\t\\t<mode>A02</mode>\\r\\n\\t\\t\\t\\t\\t<tmEf>2020-01-04 00:00</tmEf>\\r\\n\\t\\t\\t\\t\\t<wf>맑음</wf>\\r\\n\\t\\t\\t\\t\\t<tmn>-5</tmn>\\r\\n\\t\\t\\t\\t\\t<tmx>5</tmx>\\r\\n\\t\\t\\t\\t\\t<reliability></reliability>\\r\\n\\t\\t\\t\\t\\t<rnSt>10</rnSt>\\r\\n\\t\\t\\t\\t</data>\\r\\n\\r\\n\\t\\t\\t\\t\\r\\n\\t\\t\\t\\t<data>\\r\\n\\t\\t\\t\\t\\t<mode>A02</mode>\\r\\n\\t\\t\\t\\t\\t<tmEf>2020-01-04 12:00</tmEf>\\r\\n\\t\\t\\t\\t\\t<wf>맑음</wf>\\r\\n\\t\\t\\t\\t\\t<tmn>-5</tmn>\\r\\n\\t\\t\\t\\t\\t<tmx>5</tmx>\\r\\n\\t\\t\\t\\t\\t<reliability></reliability>\\r\\n\\t\\t\\t\\t\\t<rnSt>0</rnSt>\\r\\n\\t\\t\\t\\t</data>\\r\\n\\r\\n\\t\\t\\t\\t\\r\\n\\t\\t\\t\\t<data>\\r\\n\\t\\t\\t\\t\\t<mode>A02</mode>\\r\\n\\t\\t\\t\\t\\t<tmEf>2020-01-05 00:00</tmEf>\\r\\n\\t\\t\\t\\t\\t<wf>맑음</wf>\\r\\n\\t\\t\\t\\t\\t<tmn>-7</tmn>\\r\\n\\t\\t\\t\\t\\t<tmx>4</tmx>\\r\\n\\t\\t\\t\\t\\t<reliability></reliability>\\r\\n\\t\\t\\t\\t\\t<rnSt>0</rnSt>\\r\\n\\t\\t\\t\\t</data>\\r\\n\\r\\n\\t\\t\\t\\t\\r\\n\\t\\t\\t\\t<data>\\r\\n\\t\\t\\t\\t\\t<mode>A02</mode>\\r\\n\\t\\t\\t\\t\\t<tmEf>2020-01-05 12:00</tmEf>\\r\\n\\t\\t\\t\\t\\t<wf>구름많음</wf>\\r\\n\\t\\t\\t\\t\\t<tmn>-7</tmn>\\r\\n\\t\\t\\t\\t\\t<tmx>4</tmx>\\r\\n\\t\\t\\t\\t\\t<reliability></reliability>\\r\\n\\t\\t\\t\\t\\t<rnSt>30</rnSt>\\r\\n\\t\\t\\t\\t</data>\\r\\n\\r\\n\\t\\t\\t\\t\\r\\n\\t\\t\\t\\t<data>\\r\\n\\t\\t\\t\\t\\t<mode>A02</mode>\\r\\n\\t\\t\\t\\t\\t<tmEf>2020-01-06 00:00</tmEf>\\r\\n\\t\\t\\t\\t\\t<wf>구름많음</wf>\\r\\n\\t\\t\\t\\t\\t<tmn>-5</tmn>\\r\\n\\t\\t\\t\\t\\t<tmx>4</tmx>\\r\\n\\t\\t\\t\\t\\t<reliability></reliability>\\r\\n\\t\\t\\t\\t\\t<rnSt>30</rnSt>\\r\\n\\t\\t\\t\\t</data>\\r\\n\\r\\n\\t\\t\\t\\t\\r\\n\\t\\t\\t\\t<data>\\r\\n\\t\\t\\t\\t\\t<mode>A02</mode>\\r\\n\\t\\t\\t\\t\\t<tmEf>2020-01-06 12:00</tmEf>\\r\\n\\t\\t\\t\\t\\t<wf>흐림</wf>\\r\\n\\t\\t\\t\\t\\t<tmn>-5</tmn>\\r\\n\\t\\t\\t\\t\\t<tmx>4</tmx>\\r\\n\\t\\t\\t\\t\\t<reliability></reliability>\\r\\n\\t\\t\\t\\t\\t<rnSt>40</rnSt>\\r\\n\\t\\t\\t\\t</data>\\r\\n\\r\\n\\t\\t\\t\\t\\r\\n\\t\\t\\t\\t<data>\\r\\n\\t\\t\\t\\t\\t<mode>A02</mode>\\r\\n\\t\\t\\t\\t\\t<tmEf>2020-01-07 00:00</tmEf>\\r\\n\\t\\t\\t\\t\\t<wf>흐리고 비/눈</wf>\\r\\n\\t\\t\\t\\t\\t<tmn>-3</tmn>\\r\\n\\t\\t\\t\\t\\t<tmx>4</tmx>\\r\\n\\t\\t\\t\\t\\t<reliability></reliability>\\r\\n\\t\\t\\t\\t\\t<rnSt>70</rnSt>\\r\\n\\t\\t\\t\\t</data>\\r\\n\\r\\n\\t\\t\\t\\t\\r\\n\\t\\t\\t\\t<data>\\r\\n\\t\\t\\t\\t\\t<mode>A02</mode>\\r\\n\\t\\t\\t\\t\\t<tmEf>2020-01-07 12:00</tmEf>\\r\\n\\t\\t\\t\\t\\t<wf>흐리고 비/눈</wf>\\r\\n\\t\\t\\t\\t\\t<tmn>-3</tmn>\\r\\n\\t\\t\\t\\t\\t<tmx>4</tmx>\\r\\n\\t\\t\\t\\t\\t<reliability></reliability>\\r\\n\\t\\t\\t\\t\\t<rnSt>70</rnSt>\\r\\n\\t\\t\\t\\t</data>\\r\\n\\r\\n\\t\\t\\t\\t\\r\\n\\t\\t\\t\\t<data>\\r\\n\\t\\t\\t\\t\\t<mode>A01</mode>\\r\\n\\t\\t\\t\\t\\t<tmEf>2020-01-08 00:00</tmEf>\\r\\n\\t\\t\\t\\t\\t<wf>흐리고 비/눈</wf>\\r\\n\\t\\t\\t\\t\\t<tmn>-2</tmn>\\r\\n\\t\\t\\t\\t\\t<tmx>3</tmx>\\r\\n\\t\\t\\t\\t\\t<reliability></reliability>\\r\\n\\t\\t\\t\\t\\t<rnSt>60</rnSt>\\r\\n\\t\\t\\t\\t</data>\\r\\n\\r\\n\\t\\t\\t\\t\\r\\n\\t\\t\\t\\t<data>\\r\\n\\t\\t\\t\\t\\t<mode>A01</mode>\\r\\n\\t\\t\\t\\t\\t<tmEf>2020-01-09 00:00</tmEf>\\r\\n\\t\\t\\t\\t\\t<wf>구름많음</wf>\\r\\n\\t\\t\\t\\t\\t<tmn>-4</tmn>\\r\\n\\t\\t\\t\\t\\t<tmx>4</tmx>\\r\\n\\t\\t\\t\\t\\t<reliability></reliability>\\r\\n\\t\\t\\t\\t\\t<rnSt>40</rnSt>\\r\\n\\t\\t\\t\\t</data>\\r\\n\\r\\n\\t\\t\\t\\t\\r\\n\\t\\t\\t\\t<data>\\r\\n\\t\\t\\t\\t\\t<mode>A01</mode>\\r\\n\\t\\t\\t\\t\\t<tmEf>2020-01-10 00:00</tmEf>\\r\\n\\t\\t\\t\\t\\t<wf>구름많음</wf>\\r\\n\\t\\t\\t\\t\\t<tmn>-6</tmn>\\r\\n\\t\\t\\t\\t\\t<tmx>3</tmx>\\r\\n\\t\\t\\t\\t\\t<reliability></reliability>\\r\\n\\t\\t\\t\\t\\t<rnSt>30</rnSt>\\r\\n\\t\\t\\t\\t</data>\\r\\n\\r\\n\\r\\n\\t\\t</location>\\r\\n\\r\\n\\t\\t<location wl_ver=\"3\">\\r\\n\\t\\t\\t\\t<province>서울ㆍ인천ㆍ경기도</province>\\r\\n\\t\\t\\t\\t<city>이천</city>\\r\\n\\t\\t\\t\\t\\r\\n\\t\\t\\t\\t<data>\\r\\n\\t\\t\\t\\t\\t<mode>A02</mode>\\r\\n\\t\\t\\t\\t\\t<tmEf>2020-01-03 00:00</tmEf>\\r\\n\\t\\t\\t\\t\\t<wf>구름많음</wf>\\r\\n\\t\\t\\t\\t\\t<tmn>-4</tmn>\\r\\n\\t\\t\\t\\t\\t<tmx>5</tmx>\\r\\n\\t\\t\\t\\t\\t<reliability></reliability>\\r\\n\\t\\t\\t\\t\\t<rnSt>30</rnSt>\\r\\n\\t\\t\\t\\t</data>\\r\\n\\r\\n\\t\\t\\t\\t\\r\\n\\t\\t\\t\\t<data>\\r\\n\\t\\t\\t\\t\\t<mode>A02</mode>\\r\\n\\t\\t\\t\\t\\t<tmEf>2020-01-03 12:00</tmEf>\\r\\n\\t\\t\\t\\t\\t<wf>맑음</wf>\\r\\n\\t\\t\\t\\t\\t<tmn>-4</tmn>\\r\\n\\t\\t\\t\\t\\t<tmx>5</tmx>\\r\\n\\t\\t\\t\\t\\t<reliability></reliability>\\r\\n\\t\\t\\t\\t\\t<rnSt>10</rnSt>\\r\\n\\t\\t\\t\\t</data>\\r\\n\\r\\n\\t\\t\\t\\t\\r\\n\\t\\t\\t\\t<data>\\r\\n\\t\\t\\t\\t\\t<mode>A02</mode>\\r\\n\\t\\t\\t\\t\\t<tmEf>2020-01-04 00:00</tmEf>\\r\\n\\t\\t\\t\\t\\t<wf>맑음</wf>\\r\\n\\t\\t\\t\\t\\t<tmn>-4</tmn>\\r\\n\\t\\t\\t\\t\\t<tmx>6</tmx>\\r\\n\\t\\t\\t\\t\\t<reliability></reliability>\\r\\n\\t\\t\\t\\t\\t<rnSt>10</rnSt>\\r\\n\\t\\t\\t\\t</data>\\r\\n\\r\\n\\t\\t\\t\\t\\r\\n\\t\\t\\t\\t<data>\\r\\n\\t\\t\\t\\t\\t<mode>A02</mode>\\r\\n\\t\\t\\t\\t\\t<tmEf>2020-01-04 12:00</tmEf>\\r\\n\\t\\t\\t\\t\\t<wf>맑음</wf>\\r\\n\\t\\t\\t\\t\\t<tmn>-4</tmn>\\r\\n\\t\\t\\t\\t\\t<tmx>6</tmx>\\r\\n\\t\\t\\t\\t\\t<reliability></reliability>\\r\\n\\t\\t\\t\\t\\t<rnSt>0</rnSt>\\r\\n\\t\\t\\t\\t</data>\\r\\n\\r\\n\\t\\t\\t\\t\\r\\n\\t\\t\\t\\t<data>\\r\\n\\t\\t\\t\\t\\t<mode>A02</mode>\\r\\n\\t\\t\\t\\t\\t<tmEf>2020-01-05 00:00</tmEf>\\r\\n\\t\\t\\t\\t\\t<wf>맑음</wf>\\r\\n\\t\\t\\t\\t\\t<tmn>-6</tmn>\\r\\n\\t\\t\\t\\t\\t<tmx>5</tmx>\\r\\n\\t\\t\\t\\t\\t<reliability></reliability>\\r\\n\\t\\t\\t\\t\\t<rnSt>0</rnSt>\\r\\n\\t\\t\\t\\t</data>\\r\\n\\r\\n\\t\\t\\t\\t\\r\\n\\t\\t\\t\\t<data>\\r\\n\\t\\t\\t\\t\\t<mode>A02</mode>\\r\\n\\t\\t\\t\\t\\t<tmEf>2020-01-05 12:00</tmEf>\\r\\n\\t\\t\\t\\t\\t<wf>구름많음</wf>\\r\\n\\t\\t\\t\\t\\t<tmn>-6</tmn>\\r\\n\\t\\t\\t\\t\\t<tmx>5</tmx>\\r\\n\\t\\t\\t\\t\\t<reliability></reliability>\\r\\n\\t\\t\\t\\t\\t<rnSt>30</rnSt>\\r\\n\\t\\t\\t\\t</data>\\r\\n\\r\\n\\t\\t\\t\\t\\r\\n\\t\\t\\t\\t<data>\\r\\n\\t\\t\\t\\t\\t<mode>A02</mode>\\r\\n\\t\\t\\t\\t\\t<tmEf>2020-01-06 00:00</tmEf>\\r\\n\\t\\t\\t\\t\\t<wf>구름많음</wf>\\r\\n\\t\\t\\t\\t\\t<tmn>-4</tmn>\\r\\n\\t\\t\\t\\t\\t<tmx>4</tmx>\\r\\n\\t\\t\\t\\t\\t<reliability></reliability>\\r\\n\\t\\t\\t\\t\\t<rnSt>30</rnSt>\\r\\n\\t\\t\\t\\t</data>\\r\\n\\r\\n\\t\\t\\t\\t\\r\\n\\t\\t\\t\\t<data>\\r\\n\\t\\t\\t\\t\\t<mode>A02</mode>\\r\\n\\t\\t\\t\\t\\t<tmEf>2020-01-06 12:00</tmEf>\\r\\n\\t\\t\\t\\t\\t<wf>흐림</wf>\\r\\n\\t\\t\\t\\t\\t<tmn>-4</tmn>\\r\\n\\t\\t\\t\\t\\t<tmx>4</tmx>\\r\\n\\t\\t\\t\\t\\t<reliability></reliability>\\r\\n\\t\\t\\t\\t\\t<rnSt>40</rnSt>\\r\\n\\t\\t\\t\\t</data>\\r\\n\\r\\n\\t\\t\\t\\t\\r\\n\\t\\t\\t\\t<data>\\r\\n\\t\\t\\t\\t\\t<mode>A02</mode>\\r\\n\\t\\t\\t\\t\\t<tmEf>2020-01-07 00:00</tmEf>\\r\\n\\t\\t\\t\\t\\t<wf>흐리고 비/눈</wf>\\r\\n\\t\\t\\t\\t\\t<tmn>-2</tmn>\\r\\n\\t\\t\\t\\t\\t<tmx>5</tmx>\\r\\n\\t\\t\\t\\t\\t<reliability></reliability>\\r\\n\\t\\t\\t\\t\\t<rnSt>70</rnSt>\\r\\n\\t\\t\\t\\t</data>\\r\\n\\r\\n\\t\\t\\t\\t\\r\\n\\t\\t\\t\\t<data>\\r\\n\\t\\t\\t\\t\\t<mode>A02</mode>\\r\\n\\t\\t\\t\\t\\t<tmEf>2020-01-07 12:00</tmEf>\\r\\n\\t\\t\\t\\t\\t<wf>흐리고 비/눈</wf>\\r\\n\\t\\t\\t\\t\\t<tmn>-2</tmn>\\r\\n\\t\\t\\t\\t\\t<tmx>5</tmx>\\r\\n\\t\\t\\t\\t\\t<reliability></reliability>\\r\\n\\t\\t\\t\\t\\t<rnSt>70</rnSt>\\r\\n\\t\\t\\t\\t</data>\\r\\n\\r\\n\\t\\t\\t\\t\\r\\n\\t\\t\\t\\t<data>\\r\\n\\t\\t\\t\\t\\t<mode>A01</mode>\\r\\n\\t\\t\\t\\t\\t<tmEf>2020-01-08 00:00</tmEf>\\r\\n\\t\\t\\t\\t\\t<wf>흐리고 비/눈</wf>\\r\\n\\t\\t\\t\\t\\t<tmn>-1</tmn>\\r\\n\\t\\t\\t\\t\\t<tmx>5</tmx>\\r\\n\\t\\t\\t\\t\\t<reliability></reliability>\\r\\n\\t\\t\\t\\t\\t<rnSt>60</rnSt>\\r\\n\\t\\t\\t\\t</data>\\r\\n\\r\\n\\t\\t\\t\\t\\r\\n\\t\\t\\t\\t<data>\\r\\n\\t\\t\\t\\t\\t<mode>A01</mode>\\r\\n\\t\\t\\t\\t\\t<tmEf>2020-01-09 00:00</tmEf>\\r\\n\\t\\t\\t\\t\\t<wf>구름많음</wf>\\r\\n\\t\\t\\t\\t\\t<tmn>-3</tmn>\\r\\n\\t\\t\\t\\t\\t<tmx>3</tmx>\\r\\n\\t\\t\\t\\t\\t<reliability></reliability>\\r\\n\\t\\t\\t\\t\\t<rnSt>40</rnSt>\\r\\n\\t\\t\\t\\t</data>\\r\\n\\r\\n\\t\\t\\t\\t\\r\\n\\t\\t\\t\\t<data>\\r\\n\\t\\t\\t\\t\\t<mode>A01</mode>\\r\\n\\t\\t\\t\\t\\t<tmEf>2020-01-10 00:00</tmEf>\\r\\n\\t\\t\\t\\t\\t<wf>구름많음</wf>\\r\\n\\t\\t\\t\\t\\t<tmn>-4</tmn>\\r\\n\\t\\t\\t\\t\\t<tmx>4</tmx>\\r\\n\\t\\t\\t\\t\\t<reliability></reliability>\\r\\n\\t\\t\\t\\t\\t<rnSt>30</rnSt>\\r\\n\\t\\t\\t\\t</data>\\r\\n\\r\\n\\r\\n\\t\\t</location>\\r\\n\\r\\n\\t\\t<location wl_ver=\"3\">\\r\\n\\t\\t\\t\\t<province>서울ㆍ인천ㆍ경기도</province>\\r\\n\\t\\t\\t\\t<city>평택</city>\\r\\n\\t\\t\\t\\t\\r\\n\\t\\t\\t\\t<data>\\r\\n\\t\\t\\t\\t\\t<mode>A02</mode>\\r\\n\\t\\t\\t\\t\\t<tmEf>2020-01-03 00:00</tmEf>\\r\\n\\t\\t\\t\\t\\t<wf>구름많음</wf>\\r\\n\\t\\t\\t\\t\\t<tmn>-3</tmn>\\r\\n\\t\\t\\t\\t\\t<tmx>6</tmx>\\r\\n\\t\\t\\t\\t\\t<reliability></reliability>\\r\\n\\t\\t\\t\\t\\t<rnSt>30</rnSt>\\r\\n\\t\\t\\t\\t</data>\\r\\n\\r\\n\\t\\t\\t\\t\\r\\n\\t\\t\\t\\t<data>\\r\\n\\t\\t\\t\\t\\t<mode>A02</mode>\\r\\n\\t\\t\\t\\t\\t<tmEf>2020-01-03 12:00</tmEf>\\r\\n\\t\\t\\t\\t\\t<wf>맑음</wf>\\r\\n\\t\\t\\t\\t\\t<tmn>-3</tmn>\\r\\n\\t\\t\\t\\t\\t<tmx>6</tmx>\\r\\n\\t\\t\\t\\t\\t<reliability></reliability>\\r\\n\\t\\t\\t\\t\\t<rnSt>10</rnSt>\\r\\n\\t\\t\\t\\t</data>\\r\\n\\r\\n\\t\\t\\t\\t\\r\\n\\t\\t\\t\\t<data>\\r\\n\\t\\t\\t\\t\\t<mode>A02</mode>\\r\\n\\t\\t\\t\\t\\t<tmEf>2020-01-04 00:00</tmEf>\\r\\n\\t\\t\\t\\t\\t<wf>맑음</wf>\\r\\n\\t\\t\\t\\t\\t<tmn>-1</tmn>\\r\\n\\t\\t\\t\\t\\t<tmx>6</tmx>\\r\\n\\t\\t\\t\\t\\t<reliability></reliability>\\r\\n\\t\\t\\t\\t\\t<rnSt>10</rnSt>\\r\\n\\t\\t\\t\\t</data>\\r\\n\\r\\n\\t\\t\\t\\t\\r\\n\\t\\t\\t\\t<data>\\r\\n\\t\\t\\t\\t\\t<mode>A02</mode>\\r\\n\\t\\t\\t\\t\\t<tmEf>2020-01-04 12:00</tmEf>\\r\\n\\t\\t\\t\\t\\t<wf>맑음</wf>\\r\\n\\t\\t\\t\\t\\t<tmn>-1</tmn>\\r\\n\\t\\t\\t\\t\\t<tmx>6</tmx>\\r\\n\\t\\t\\t\\t\\t<reliability></reliability>\\r\\n\\t\\t\\t\\t\\t<rnSt>0</rnSt>\\r\\n\\t\\t\\t\\t</data>\\r\\n\\r\\n\\t\\t\\t\\t\\r\\n\\t\\t\\t\\t<data>\\r\\n\\t\\t\\t\\t\\t<mode>A02</mode>\\r\\n\\t\\t\\t\\t\\t<tmEf>2020-01-05 00:00</tmEf>\\r\\n\\t\\t\\t\\t\\t<wf>맑음</wf>\\r\\n\\t\\t\\t\\t\\t<tmn>-5</tmn>\\r\\n\\t\\t\\t\\t\\t<tmx>5</tmx>\\r\\n\\t\\t\\t\\t\\t<reliability></reliability>\\r\\n\\t\\t\\t\\t\\t<rnSt>0</rnSt>\\r\\n\\t\\t\\t\\t</data>\\r\\n\\r\\n\\t\\t\\t\\t\\r\\n\\t\\t\\t\\t<data>\\r\\n\\t\\t\\t\\t\\t<mode>A02</mode>\\r\\n\\t\\t\\t\\t\\t<tmEf>2020-01-05 12:00</tmEf>\\r\\n\\t\\t\\t\\t\\t<wf>구름많음</wf>\\r\\n\\t\\t\\t\\t\\t<tmn>-5</tmn>\\r\\n\\t\\t\\t\\t\\t<tmx>5</tmx>\\r\\n\\t\\t\\t\\t\\t<reliability></reliability>\\r\\n\\t\\t\\t\\t\\t<rnSt>30</rnSt>\\r\\n\\t\\t\\t\\t</data>\\r\\n\\r\\n\\t\\t\\t\\t\\r\\n\\t\\t\\t\\t<data>\\r\\n\\t\\t\\t\\t\\t<mode>A02</mode>\\r\\n\\t\\t\\t\\t\\t<tmEf>2020-01-06 00:00</tmEf>\\r\\n\\t\\t\\t\\t\\t<wf>구름많음</wf>\\r\\n\\t\\t\\t\\t\\t<tmn>-2</tmn>\\r\\n\\t\\t\\t\\t\\t<tmx>5</tmx>\\r\\n\\t\\t\\t\\t\\t<reliability></reliability>\\r\\n\\t\\t\\t\\t\\t<rnSt>30</rnSt>\\r\\n\\t\\t\\t\\t</data>\\r\\n\\r\\n\\t\\t\\t\\t\\r\\n\\t\\t\\t\\t<data>\\r\\n\\t\\t\\t\\t\\t<mode>A02</mode>\\r\\n\\t\\t\\t\\t\\t<tmEf>2020-01-06 12:00</tmEf>\\r\\n\\t\\t\\t\\t\\t<wf>흐림</wf>\\r\\n\\t\\t\\t\\t\\t<tmn>-2</tmn>\\r\\n\\t\\t\\t\\t\\t<tmx>5</tmx>\\r\\n\\t\\t\\t\\t\\t<reliability></reliability>\\r\\n\\t\\t\\t\\t\\t<rnSt>40</rnSt>\\r\\n\\t\\t\\t\\t</data>\\r\\n\\r\\n\\t\\t\\t\\t\\r\\n\\t\\t\\t\\t<data>\\r\\n\\t\\t\\t\\t\\t<mode>A02</mode>\\r\\n\\t\\t\\t\\t\\t<tmEf>2020-01-07 00:00</tmEf>\\r\\n\\t\\t\\t\\t\\t<wf>흐리고 비/눈</wf>\\r\\n\\t\\t\\t\\t\\t<tmn>1</tmn>\\r\\n\\t\\t\\t\\t\\t<tmx>5</tmx>\\r\\n\\t\\t\\t\\t\\t<reliability></reliability>\\r\\n\\t\\t\\t\\t\\t<rnSt>70</rnSt>\\r\\n\\t\\t\\t\\t</data>\\r\\n\\r\\n\\t\\t\\t\\t\\r\\n\\t\\t\\t\\t<data>\\r\\n\\t\\t\\t\\t\\t<mode>A02</mode>\\r\\n\\t\\t\\t\\t\\t<tmEf>2020-01-07 12:00</tmEf>\\r\\n\\t\\t\\t\\t\\t<wf>흐리고 비/눈</wf>\\r\\n\\t\\t\\t\\t\\t<tmn>1</tmn>\\r\\n\\t\\t\\t\\t\\t<tmx>5</tmx>\\r\\n\\t\\t\\t\\t\\t<reliability></reliability>\\r\\n\\t\\t\\t\\t\\t<rnSt>70</rnSt>\\r\\n\\t\\t\\t\\t</data>\\r\\n\\r\\n\\t\\t\\t\\t\\r\\n\\t\\t\\t\\t<data>\\r\\n\\t\\t\\t\\t\\t<mode>A01</mode>\\r\\n\\t\\t\\t\\t\\t<tmEf>2020-01-08 00:00</tmEf>\\r\\n\\t\\t\\t\\t\\t<wf>흐리고 비/눈</wf>\\r\\n\\t\\t\\t\\t\\t<tmn>1</tmn>\\r\\n\\t\\t\\t\\t\\t<tmx>6</tmx>\\r\\n\\t\\t\\t\\t\\t<reliability></reliability>\\r\\n\\t\\t\\t\\t\\t<rnSt>60</rnSt>\\r\\n\\t\\t\\t\\t</data>\\r\\n\\r\\n\\t\\t\\t\\t\\r\\n\\t\\t\\t\\t<data>\\r\\n\\t\\t\\t\\t\\t<mode>A01</mode>\\r\\n\\t\\t\\t\\t\\t<tmEf>2020-01-09 00:00</tmEf>\\r\\n\\t\\t\\t\\t\\t<wf>구름많음</wf>\\r\\n\\t\\t\\t\\t\\t<tmn>-2</tmn>\\r\\n\\t\\t\\t\\t\\t<tmx>4</tmx>\\r\\n\\t\\t\\t\\t\\t<reliability></reliability>\\r\\n\\t\\t\\t\\t\\t<rnSt>40</rnSt>\\r\\n\\t\\t\\t\\t</data>\\r\\n\\r\\n\\t\\t\\t\\t\\r\\n\\t\\t\\t\\t<data>\\r\\n\\t\\t\\t\\t\\t<mode>A01</mode>\\r\\n\\t\\t\\t\\t\\t<tmEf>2020-01-10 00:00</tmEf>\\r\\n\\t\\t\\t\\t\\t<wf>구름많음</wf>\\r\\n\\t\\t\\t\\t\\t<tmn>-4</tmn>\\r\\n\\t\\t\\t\\t\\t<tmx>4</tmx>\\r\\n\\t\\t\\t\\t\\t<reliability></reliability>\\r\\n\\t\\t\\t\\t\\t<rnSt>30</rnSt>\\r\\n\\t\\t\\t\\t</data>\\r\\n\\r\\n\\r\\n\\t\\t</location>\\r\\n\\r\\n\\r\\n\\r\\n\\t\\t<location wl_ver=\"3\">\\r\\n\\t\\t\\t\\t<province>강원도영서</province>\\r\\n\\t\\t\\t\\t<city>춘천</city>\\r\\n\\t\\t\\t\\t\\r\\n\\t\\t\\t\\t<data>\\r\\n\\t\\t\\t\\t\\t<mode>A02</mode>\\r\\n\\t\\t\\t\\t\\t<tmEf>2020-01-03 00:00</tmEf>\\r\\n\\t\\t\\t\\t\\t<wf>구름많음</wf>\\r\\n\\t\\t\\t\\t\\t<tmn>-5</tmn>\\r\\n\\t\\t\\t\\t\\t<tmx>4</tmx>\\r\\n\\t\\t\\t\\t\\t<reliability></reliability>\\r\\n\\t\\t\\t\\t\\t<rnSt>30</rnSt>\\r\\n\\t\\t\\t\\t</data>\\r\\n\\r\\n\\t\\t\\t\\t\\r\\n\\t\\t\\t\\t<data>\\r\\n\\t\\t\\t\\t\\t<mode>A02</mode>\\r\\n\\t\\t\\t\\t\\t<tmEf>2020-01-03 12:00</tmEf>\\r\\n\\t\\t\\t\\t\\t<wf>맑음</wf>\\r\\n\\t\\t\\t\\t\\t<tmn>-5</tmn>\\r\\n\\t\\t\\t\\t\\t<tmx>4</tmx>\\r\\n\\t\\t\\t\\t\\t<reliability></reliability>\\r\\n\\t\\t\\t\\t\\t<rnSt>10</rnSt>\\r\\n\\t\\t\\t\\t</data>\\r\\n\\r\\n\\t\\t\\t\\t\\r\\n\\t\\t\\t\\t<data>\\r\\n\\t\\t\\t\\t\\t<mode>A02</mode>\\r\\n\\t\\t\\t\\t\\t<tmEf>2020-01-04 00:00</tmEf>\\r\\n\\t\\t\\t\\t\\t<wf>맑음</wf>\\r\\n\\t\\t\\t\\t\\t<tmn>-4</tmn>\\r\\n\\t\\t\\t\\t\\t<tmx>6</tmx>\\r\\n\\t\\t\\t\\t\\t<reliability></reliability>\\r\\n\\t\\t\\t\\t\\t<rnSt>10</rnSt>\\r\\n\\t\\t\\t\\t</data>\\r\\n\\r\\n\\t\\t\\t\\t\\r\\n\\t\\t\\t\\t<data>\\r\\n\\t\\t\\t\\t\\t<mode>A02</mode>\\r\\n\\t\\t\\t\\t\\t<tmEf>2020-01-04 12:00</tmEf>\\r\\n\\t\\t\\t\\t\\t<wf>맑음</wf>\\r\\n\\t\\t\\t\\t\\t<tmn>-4</tmn>\\r\\n\\t\\t\\t\\t\\t<tmx>6</tmx>\\r\\n\\t\\t\\t\\t\\t<reliability></reliability>\\r\\n\\t\\t\\t\\t\\t<rnSt>0</rnSt>\\r\\n\\t\\t\\t\\t</data>\\r\\n\\r\\n\\t\\t\\t\\t\\r\\n\\t\\t\\t\\t<data>\\r\\n\\t\\t\\t\\t\\t<mode>A02</mode>\\r\\n\\t\\t\\t\\t\\t<tmEf>2020-01-05 00:00</tmEf>\\r\\n\\t\\t\\t\\t\\t<wf>맑음</wf>\\r\\n\\t\\t\\t\\t\\t<tmn>-6</tmn>\\r\\n\\t\\t\\t\\t\\t<tmx>4</tmx>\\r\\n\\t\\t\\t\\t\\t<reliability></reliability>\\r\\n\\t\\t\\t\\t\\t<rnSt>0</rnSt>\\r\\n\\t\\t\\t\\t</data>\\r\\n\\r\\n\\t\\t\\t\\t\\r\\n\\t\\t\\t\\t<data>\\r\\n\\t\\t\\t\\t\\t<mode>A02</mode>\\r\\n\\t\\t\\t\\t\\t<tmEf>2020-01-05 12:00</tmEf>\\r\\n\\t\\t\\t\\t\\t<wf>구름많음</wf>\\r\\n\\t\\t\\t\\t\\t<tmn>-6</tmn>\\r\\n\\t\\t\\t\\t\\t<tmx>4</tmx>\\r\\n\\t\\t\\t\\t\\t<reliability></reliability>\\r\\n\\t\\t\\t\\t\\t<rnSt>30</rnSt>\\r\\n\\t\\t\\t\\t</data>\\r\\n\\r\\n\\t\\t\\t\\t\\r\\n\\t\\t\\t\\t<data>\\r\\n\\t\\t\\t\\t\\t<mode>A02</mode>\\r\\n\\t\\t\\t\\t\\t<tmEf>2020-01-06 00:00</tmEf>\\r\\n\\t\\t\\t\\t\\t<wf>구름많음</wf>\\r\\n\\t\\t\\t\\t\\t<tmn>-4</tmn>\\r\\n\\t\\t\\t\\t\\t<tmx>4</tmx>\\r\\n\\t\\t\\t\\t\\t<reliability></reliability>\\r\\n\\t\\t\\t\\t\\t<rnSt>30</rnSt>\\r\\n\\t\\t\\t\\t</data>\\r\\n\\r\\n\\t\\t\\t\\t\\r\\n\\t\\t\\t\\t<data>\\r\\n\\t\\t\\t\\t\\t<mode>A02</mode>\\r\\n\\t\\t\\t\\t\\t<tmEf>2020-01-06 12:00</tmEf>\\r\\n\\t\\t\\t\\t\\t<wf>흐림</wf>\\r\\n\\t\\t\\t\\t\\t<tmn>-4</tmn>\\r\\n\\t\\t\\t\\t\\t<tmx>4</tmx>\\r\\n\\t\\t\\t\\t\\t<reliability></reliability>\\r\\n\\t\\t\\t\\t\\t<rnSt>40</rnSt>\\r\\n\\t\\t\\t\\t</data>\\r\\n\\r\\n\\t\\t\\t\\t\\r\\n\\t\\t\\t\\t<data>\\r\\n\\t\\t\\t\\t\\t<mode>A02</mode>\\r\\n\\t\\t\\t\\t\\t<tmEf>2020-01-07 00:00</tmEf>\\r\\n\\t\\t\\t\\t\\t<wf>흐리고 비/눈</wf>\\r\\n\\t\\t\\t\\t\\t<tmn>-2</tmn>\\r\\n\\t\\t\\t\\t\\t<tmx>4</tmx>\\r\\n\\t\\t\\t\\t\\t<reliability></reliability>\\r\\n\\t\\t\\t\\t\\t<rnSt>70</rnSt>\\r\\n\\t\\t\\t\\t</data>\\r\\n\\r\\n\\t\\t\\t\\t\\r\\n\\t\\t\\t\\t<data>\\r\\n\\t\\t\\t\\t\\t<mode>A02</mode>\\r\\n\\t\\t\\t\\t\\t<tmEf>2020-01-07 12:00</tmEf>\\r\\n\\t\\t\\t\\t\\t<wf>흐리고 비/눈</wf>\\r\\n\\t\\t\\t\\t\\t<tmn>-2</tmn>\\r\\n\\t\\t\\t\\t\\t<tmx>4</tmx>\\r\\n\\t\\t\\t\\t\\t<reliability></reliability>\\r\\n\\t\\t\\t\\t\\t<rnSt>70</rnSt>\\r\\n\\t\\t\\t\\t</data>\\r\\n\\r\\n\\t\\t\\t\\t\\r\\n\\t\\t\\t\\t<data>\\r\\n\\t\\t\\t\\t\\t<mode>A01</mode>\\r\\n\\t\\t\\t\\t\\t<tmEf>2020-01-08 00:00</tmEf>\\r\\n\\t\\t\\t\\t\\t<wf>흐리고 비/눈</wf>\\r\\n\\t\\t\\t\\t\\t<tmn>-3</tmn>\\r\\n\\t\\t\\t\\t\\t<tmx>4</tmx>\\r\\n\\t\\t\\t\\t\\t<reliability></reliability>\\r\\n\\t\\t\\t\\t\\t<rnSt>60</rnSt>\\r\\n\\t\\t\\t\\t</data>\\r\\n\\r\\n\\t\\t\\t\\t\\r\\n\\t\\t\\t\\t<data>\\r\\n\\t\\t\\t\\t\\t<mode>A01</mode>\\r\\n\\t\\t\\t\\t\\t<tmEf>2020-01-09 00:00</tmEf>\\r\\n\\t\\t\\t\\t\\t<wf>구름많음</wf>\\r\\n\\t\\t\\t\\t\\t<tmn>-4</tmn>\\r\\n\\t\\t\\t\\t\\t<tmx>3</tmx>\\r\\n\\t\\t\\t\\t\\t<reliability></reliability>\\r\\n\\t\\t\\t\\t\\t<rnSt>40</rnSt>\\r\\n\\t\\t\\t\\t</data>\\r\\n\\r\\n\\t\\t\\t\\t\\r\\n\\t\\t\\t\\t<data>\\r\\n\\t\\t\\t\\t\\t<mode>A01</mode>\\r\\n\\t\\t\\t\\t\\t<tmEf>2020-01-10 00:00</tmEf>\\r\\n\\t\\t\\t\\t\\t<wf>구름많음</wf>\\r\\n\\t\\t\\t\\t\\t<tmn>-3</tmn>\\r\\n\\t\\t\\t\\t\\t<tmx>4</tmx>\\r\\n\\t\\t\\t\\t\\t<reliability></reliability>\\r\\n\\t\\t\\t\\t\\t<rnSt>30</rnSt>\\r\\n\\t\\t\\t\\t</data>\\r\\n\\r\\n\\r\\n\\t\\t</location>\\r\\n\\r\\n\\t\\t<location wl_ver=\"3\">\\r\\n\\t\\t\\t\\t<province>강원도영서</province>\\r\\n\\t\\t\\t\\t<city>원주</city>\\r\\n\\t\\t\\t\\t\\r\\n\\t\\t\\t\\t<data>\\r\\n\\t\\t\\t\\t\\t<mode>A02</mode>\\r\\n\\t\\t\\t\\t\\t<tmEf>2020-01-03 00:00</tmEf>\\r\\n\\t\\t\\t\\t\\t<wf>구름많음</wf>\\r\\n\\t\\t\\t\\t\\t<tmn>-3</tmn>\\r\\n\\t\\t\\t\\t\\t<tmx>5</tmx>\\r\\n\\t\\t\\t\\t\\t<reliability></reliability>\\r\\n\\t\\t\\t\\t\\t<rnSt>30</rnSt>\\r\\n\\t\\t\\t\\t</data>\\r\\n\\r\\n\\t\\t\\t\\t\\r\\n\\t\\t\\t\\t<data>\\r\\n\\t\\t\\t\\t\\t<mode>A02</mode>\\r\\n\\t\\t\\t\\t\\t<tmEf>2020-01-03 12:00</tmEf>\\r\\n\\t\\t\\t\\t\\t<wf>맑음</wf>\\r\\n\\t\\t\\t\\t\\t<tmn>-3</tmn>\\r\\n\\t\\t\\t\\t\\t<tmx>5</tmx>\\r\\n\\t\\t\\t\\t\\t<reliability></reliability>\\r\\n\\t\\t\\t\\t\\t<rnSt>10</rnSt>\\r\\n\\t\\t\\t\\t</data>\\r\\n\\r\\n\\t\\t\\t\\t\\r\\n\\t\\t\\t\\t<data>\\r\\n\\t\\t\\t\\t\\t<mode>A02</mode>\\r\\n\\t\\t\\t\\t\\t<tmEf>2020-01-04 00:00</tmEf>\\r\\n\\t\\t\\t\\t\\t<wf>맑음</wf>\\r\\n\\t\\t\\t\\t\\t<tmn>-2</tmn>\\r\\n\\t\\t\\t\\t\\t<tmx>5</tmx>\\r\\n\\t\\t\\t\\t\\t<reliability></reliability>\\r\\n\\t\\t\\t\\t\\t<rnSt>10</rnSt>\\r\\n\\t\\t\\t\\t</data>\\r\\n\\r\\n\\t\\t\\t\\t\\r\\n\\t\\t\\t\\t<data>\\r\\n\\t\\t\\t\\t\\t<mode>A02</mode>\\r\\n\\t\\t\\t\\t\\t<tmEf>2020-01-04 12:00</tmEf>\\r\\n\\t\\t\\t\\t\\t<wf>맑음</wf>\\r\\n\\t\\t\\t\\t\\t<tmn>-2</tmn>\\r\\n\\t\\t\\t\\t\\t<tmx>5</tmx>\\r\\n\\t\\t\\t\\t\\t<reliability></reliability>\\r\\n\\t\\t\\t\\t\\t<rnSt>0</rnSt>\\r\\n\\t\\t\\t\\t</data>\\r\\n\\r\\n\\t\\t\\t\\t\\r\\n\\t\\t\\t\\t<data>\\r\\n\\t\\t\\t\\t\\t<mode>A02</mode>\\r\\n\\t\\t\\t\\t\\t<tmEf>2020-01-05 00:00</tmEf>\\r\\n\\t\\t\\t\\t\\t<wf>맑음</wf>\\r\\n\\t\\t\\t\\t\\t<tmn>-5</tmn>\\r\\n\\t\\t\\t\\t\\t<tmx>5</tmx>\\r\\n\\t\\t\\t\\t\\t<reliability></reliability>\\r\\n\\t\\t\\t\\t\\t<rnSt>0</rnSt>\\r\\n\\t\\t\\t\\t</data>\\r\\n\\r\\n\\t\\t\\t\\t\\r\\n\\t\\t\\t\\t<data>\\r\\n\\t\\t\\t\\t\\t<mode>A02</mode>\\r\\n\\t\\t\\t\\t\\t<tmEf>2020-01-05 12:00</tmEf>\\r\\n\\t\\t\\t\\t\\t<wf>구름많음</wf>\\r\\n\\t\\t\\t\\t\\t<tmn>-5</tmn>\\r\\n\\t\\t\\t\\t\\t<tmx>5</tmx>\\r\\n\\t\\t\\t\\t\\t<reliability></reliability>\\r\\n\\t\\t\\t\\t\\t<rnSt>30</rnSt>\\r\\n\\t\\t\\t\\t</data>\\r\\n\\r\\n\\t\\t\\t\\t\\r\\n\\t\\t\\t\\t<data>\\r\\n\\t\\t\\t\\t\\t<mode>A02</mode>\\r\\n\\t\\t\\t\\t\\t<tmEf>2020-01-06 00:00</tmEf>\\r\\n\\t\\t\\t\\t\\t<wf>구름많음</wf>\\r\\n\\t\\t\\t\\t\\t<tmn>-3</tmn>\\r\\n\\t\\t\\t\\t\\t<tmx>5</tmx>\\r\\n\\t\\t\\t\\t\\t<reliability></reliability>\\r\\n\\t\\t\\t\\t\\t<rnSt>30</rnSt>\\r\\n\\t\\t\\t\\t</data>\\r\\n\\r\\n\\t\\t\\t\\t\\r\\n\\t\\t\\t\\t<data>\\r\\n\\t\\t\\t\\t\\t<mode>A02</mode>\\r\\n\\t\\t\\t\\t\\t<tmEf>2020-01-06 12:00</tmEf>\\r\\n\\t\\t\\t\\t\\t<wf>흐림</wf>\\r\\n\\t\\t\\t\\t\\t<tmn>-3</tmn>\\r\\n\\t\\t\\t\\t\\t<tmx>5</tmx>\\r\\n\\t\\t\\t\\t\\t<reliability></reliability>\\r\\n\\t\\t\\t\\t\\t<rnSt>40</rnSt>\\r\\n\\t\\t\\t\\t</data>\\r\\n\\r\\n\\t\\t\\t\\t\\r\\n\\t\\t\\t\\t<data>\\r\\n\\t\\t\\t\\t\\t<mode>A02</mode>\\r\\n\\t\\t\\t\\t\\t<tmEf>2020-01-07 00:00</tmEf>\\r\\n\\t\\t\\t\\t\\t<wf>흐리고 비/눈</wf>\\r\\n\\t\\t\\t\\t\\t<tmn>-1</tmn>\\r\\n\\t\\t\\t\\t\\t<tmx>5</tmx>\\r\\n\\t\\t\\t\\t\\t<reliability></reliability>\\r\\n\\t\\t\\t\\t\\t<rnSt>70</rnSt>\\r\\n\\t\\t\\t\\t</data>\\r\\n\\r\\n\\t\\t\\t\\t\\r\\n\\t\\t\\t\\t<data>\\r\\n\\t\\t\\t\\t\\t<mode>A02</mode>\\r\\n\\t\\t\\t\\t\\t<tmEf>2020-01-07 12:00</tmEf>\\r\\n\\t\\t\\t\\t\\t<wf>흐리고 비/눈</wf>\\r\\n\\t\\t\\t\\t\\t<tmn>-1</tmn>\\r\\n\\t\\t\\t\\t\\t<tmx>5</tmx>\\r\\n\\t\\t\\t\\t\\t<reliability></reliability>\\r\\n\\t\\t\\t\\t\\t<rnSt>70</rnSt>\\r\\n\\t\\t\\t\\t</data>\\r\\n\\r\\n\\t\\t\\t\\t\\r\\n\\t\\t\\t\\t<data>\\r\\n\\t\\t\\t\\t\\t<mode>A01</mode>\\r\\n\\t\\t\\t\\t\\t<tmEf>2020-01-08 00:00</tmEf>\\r\\n\\t\\t\\t\\t\\t<wf>흐리고 비/눈</wf>\\r\\n\\t\\t\\t\\t\\t<tmn>-2</tmn>\\r\\n\\t\\t\\t\\t\\t<tmx>5</tmx>\\r\\n\\t\\t\\t\\t\\t<reliability></reliability>\\r\\n\\t\\t\\t\\t\\t<rnSt>60</rnSt>\\r\\n\\t\\t\\t\\t</data>\\r\\n\\r\\n\\t\\t\\t\\t\\r\\n\\t\\t\\t\\t<data>\\r\\n\\t\\t\\t\\t\\t<mode>A01</mode>\\r\\n\\t\\t\\t\\t\\t<tmEf>2020-01-09 00:00</tmEf>\\r\\n\\t\\t\\t\\t\\t<wf>구름많음</wf>\\r\\n\\t\\t\\t\\t\\t<tmn>-3</tmn>\\r\\n\\t\\t\\t\\t\\t<tmx>4</tmx>\\r\\n\\t\\t\\t\\t\\t<reliability></reliability>\\r\\n\\t\\t\\t\\t\\t<rnSt>40</rnSt>\\r\\n\\t\\t\\t\\t</data>\\r\\n\\r\\n\\t\\t\\t\\t\\r\\n\\t\\t\\t\\t<data>\\r\\n\\t\\t\\t\\t\\t<mode>A01</mode>\\r\\n\\t\\t\\t\\t\\t<tmEf>2020-01-10 00:00</tmEf>\\r\\n\\t\\t\\t\\t\\t<wf>구름많음</wf>\\r\\n\\t\\t\\t\\t\\t<tmn>-2</tmn>\\r\\n\\t\\t\\t\\t\\t<tmx>4</tmx>\\r\\n\\t\\t\\t\\t\\t<reliability></reliability>\\r\\n\\t\\t\\t\\t\\t<rnSt>30</rnSt>\\r\\n\\t\\t\\t\\t</data>\\r\\n\\r\\n\\r\\n\\t\\t</location>\\r\\n\\r\\n\\r\\n\\r\\n\\t\\t<location wl_ver=\"3\">\\r\\n\\t\\t\\t\\t<province>강원도영동</province>\\r\\n\\t\\t\\t\\t<city>강릉</city>\\r\\n\\t\\t\\t\\t\\r\\n\\t\\t\\t\\t<data>\\r\\n\\t\\t\\t\\t\\t<mode>A02</mode>\\r\\n\\t\\t\\t\\t\\t<tmEf>2020-01-03 00:00</tmEf>\\r\\n\\t\\t\\t\\t\\t<wf>구름많음</wf>\\r\\n\\t\\t\\t\\t\\t<tmn>2</tmn>\\r\\n\\t\\t\\t\\t\\t<tmx>11</tmx>\\r\\n\\t\\t\\t\\t\\t<reliability></reliability>\\r\\n\\t\\t\\t\\t\\t<rnSt>30</rnSt>\\r\\n\\t\\t\\t\\t</data>\\r\\n\\r\\n\\t\\t\\t\\t\\r\\n\\t\\t\\t\\t<data>\\r\\n\\t\\t\\t\\t\\t<mode>A02</mode>\\r\\n\\t\\t\\t\\t\\t<tmEf>2020-01-03 12:00</tmEf>\\r\\n\\t\\t\\t\\t\\t<wf>맑음</wf>\\r\\n\\t\\t\\t\\t\\t<tmn>2</tmn>\\r\\n\\t\\t\\t\\t\\t<tmx>11</tmx>\\r\\n\\t\\t\\t\\t\\t<reliability></reliability>\\r\\n\\t\\t\\t\\t\\t<rnSt>10</rnSt>\\r\\n\\t\\t\\t\\t</data>\\r\\n\\r\\n\\t\\t\\t\\t\\r\\n\\t\\t\\t\\t<data>\\r\\n\\t\\t\\t\\t\\t<mode>A02</mode>\\r\\n\\t\\t\\t\\t\\t<tmEf>2020-01-04 00:00</tmEf>\\r\\n\\t\\t\\t\\t\\t<wf>맑음</wf>\\r\\n\\t\\t\\t\\t\\t<tmn>2</tmn>\\r\\n\\t\\t\\t\\t\\t<tmx>9</tmx>\\r\\n\\t\\t\\t\\t\\t<reliability></reliability>\\r\\n\\t\\t\\t\\t\\t<rnSt>10</rnSt>\\r\\n\\t\\t\\t\\t</data>\\r\\n\\r\\n\\t\\t\\t\\t\\r\\n\\t\\t\\t\\t<data>\\r\\n\\t\\t\\t\\t\\t<mode>A02</mode>\\r\\n\\t\\t\\t\\t\\t<tmEf>2020-01-04 12:00</tmEf>\\r\\n\\t\\t\\t\\t\\t<wf>맑음</wf>\\r\\n\\t\\t\\t\\t\\t<tmn>2</tmn>\\r\\n\\t\\t\\t\\t\\t<tmx>9</tmx>\\r\\n\\t\\t\\t\\t\\t<reliability></reliability>\\r\\n\\t\\t\\t\\t\\t<rnSt>0</rnSt>\\r\\n\\t\\t\\t\\t</data>\\r\\n\\r\\n\\t\\t\\t\\t\\r\\n\\t\\t\\t\\t<data>\\r\\n\\t\\t\\t\\t\\t<mode>A02</mode>\\r\\n\\t\\t\\t\\t\\t<tmEf>2020-01-05 00:00</tmEf>\\r\\n\\t\\t\\t\\t\\t<wf>맑음</wf>\\r\\n\\t\\t\\t\\t\\t<tmn>0</tmn>\\r\\n\\t\\t\\t\\t\\t<tmx>9</tmx>\\r\\n\\t\\t\\t\\t\\t<reliability></reliability>\\r\\n\\t\\t\\t\\t\\t<rnSt>0</rnSt>\\r\\n\\t\\t\\t\\t</data>\\r\\n\\r\\n\\t\\t\\t\\t\\r\\n\\t\\t\\t\\t<data>\\r\\n\\t\\t\\t\\t\\t<mode>A02</mode>\\r\\n\\t\\t\\t\\t\\t<tmEf>2020-01-05 12:00</tmEf>\\r\\n\\t\\t\\t\\t\\t<wf>구름많음</wf>\\r\\n\\t\\t\\t\\t\\t<tmn>0</tmn>\\r\\n\\t\\t\\t\\t\\t<tmx>9</tmx>\\r\\n\\t\\t\\t\\t\\t<reliability></reliability>\\r\\n\\t\\t\\t\\t\\t<rnSt>30</rnSt>\\r\\n\\t\\t\\t\\t</data>\\r\\n\\r\\n\\t\\t\\t\\t\\r\\n\\t\\t\\t\\t<data>\\r\\n\\t\\t\\t\\t\\t<mode>A02</mode>\\r\\n\\t\\t\\t\\t\\t<tmEf>2020-01-06 00:00</tmEf>\\r\\n\\t\\t\\t\\t\\t<wf>구름많음</wf>\\r\\n\\t\\t\\t\\t\\t<tmn>2</tmn>\\r\\n\\t\\t\\t\\t\\t<tmx>10</tmx>\\r\\n\\t\\t\\t\\t\\t<reliability></reliability>\\r\\n\\t\\t\\t\\t\\t<rnSt>30</rnSt>\\r\\n\\t\\t\\t\\t</data>\\r\\n\\r\\n\\t\\t\\t\\t\\r\\n\\t\\t\\t\\t<data>\\r\\n\\t\\t\\t\\t\\t<mode>A02</mode>\\r\\n\\t\\t\\t\\t\\t<tmEf>2020-01-06 12:00</tmEf>\\r\\n\\t\\t\\t\\t\\t<wf>구름많음</wf>\\r\\n\\t\\t\\t\\t\\t<tmn>2</tmn>\\r\\n\\t\\t\\t\\t\\t<tmx>10</tmx>\\r\\n\\t\\t\\t\\t\\t<reliability></reliability>\\r\\n\\t\\t\\t\\t\\t<rnSt>40</rnSt>\\r\\n\\t\\t\\t\\t</data>\\r\\n\\r\\n\\t\\t\\t\\t\\r\\n\\t\\t\\t\\t<data>\\r\\n\\t\\t\\t\\t\\t<mode>A02</mode>\\r\\n\\t\\t\\t\\t\\t<tmEf>2020-01-07 00:00</tmEf>\\r\\n\\t\\t\\t\\t\\t<wf>흐리고 비</wf>\\r\\n\\t\\t\\t\\t\\t<tmn>4</tmn>\\r\\n\\t\\t\\t\\t\\t<tmx>8</tmx>\\r\\n\\t\\t\\t\\t\\t<reliability></reliability>\\r\\n\\t\\t\\t\\t\\t<rnSt>80</rnSt>\\r\\n\\t\\t\\t\\t</data>\\r\\n\\r\\n\\t\\t\\t\\t\\r\\n\\t\\t\\t\\t<data>\\r\\n\\t\\t\\t\\t\\t<mode>A02</mode>\\r\\n\\t\\t\\t\\t\\t<tmEf>2020-01-07 12:00</tmEf>\\r\\n\\t\\t\\t\\t\\t<wf>흐리고 비</wf>\\r\\n\\t\\t\\t\\t\\t<tmn>4</tmn>\\r\\n\\t\\t\\t\\t\\t<tmx>8</tmx>\\r\\n\\t\\t\\t\\t\\t<reliability></reliability>\\r\\n\\t\\t\\t\\t\\t<rnSt>80</rnSt>\\r\\n\\t\\t\\t\\t</data>\\r\\n\\r\\n\\t\\t\\t\\t\\r\\n\\t\\t\\t\\t<data>\\r\\n\\t\\t\\t\\t\\t<mode>A01</mode>\\r\\n\\t\\t\\t\\t\\t<tmEf>2020-01-08 00:00</tmEf>\\r\\n\\t\\t\\t\\t\\t<wf>흐리고 비</wf>\\r\\n\\t\\t\\t\\t\\t<tmn>2</tmn>\\r\\n\\t\\t\\t\\t\\t<tmx>7</tmx>\\r\\n\\t\\t\\t\\t\\t<reliability></reliability>\\r\\n\\t\\t\\t\\t\\t<rnSt>70</rnSt>\\r\\n\\t\\t\\t\\t</data>\\r\\n\\r\\n\\t\\t\\t\\t\\r\\n\\t\\t\\t\\t<data>\\r\\n\\t\\t\\t\\t\\t<mode>A01</mode>\\r\\n\\t\\t\\t\\t\\t<tmEf>2020-01-09 00:00</tmEf>\\r\\n\\t\\t\\t\\t\\t<wf>흐리고 비/눈</wf>\\r\\n\\t\\t\\t\\t\\t<tmn>1</tmn>\\r\\n\\t\\t\\t\\t\\t<tmx>7</tmx>\\r\\n\\t\\t\\t\\t\\t<reliability></reliability>\\r\\n\\t\\t\\t\\t\\t<rnSt>60</rnSt>\\r\\n\\t\\t\\t\\t</data>\\r\\n\\r\\n\\t\\t\\t\\t\\r\\n\\t\\t\\t\\t<data>\\r\\n\\t\\t\\t\\t\\t<mode>A01</mode>\\r\\n\\t\\t\\t\\t\\t<tmEf>2020-01-10 00:00</tmEf>\\r\\n\\t\\t\\t\\t\\t<wf>구름많음</wf>\\r\\n\\t\\t\\t\\t\\t<tmn>1</tmn>\\r\\n\\t\\t\\t\\t\\t<tmx>9</tmx>\\r\\n\\t\\t\\t\\t\\t<reliability></reliability>\\r\\n\\t\\t\\t\\t\\t<rnSt>30</rnSt>\\r\\n\\t\\t\\t\\t</data>\\r\\n\\r\\n\\r\\n\\t\\t</location>\\r\\n\\r\\n\\r\\n\\r\\n\\t\\t<location wl_ver=\"3\">\\r\\n\\t\\t\\t\\t<province>대전ㆍ세종ㆍ충청남도</province>\\r\\n\\t\\t\\t\\t<city>대전</city>\\r\\n\\t\\t\\t\\t\\r\\n\\t\\t\\t\\t<data>\\r\\n\\t\\t\\t\\t\\t<mode>A02</mode>\\r\\n\\t\\t\\t\\t\\t<tmEf>2020-01-03 00:00</tmEf>\\r\\n\\t\\t\\t\\t\\t<wf>구름많음</wf>\\r\\n\\t\\t\\t\\t\\t<tmn>-2</tmn>\\r\\n\\t\\t\\t\\t\\t<tmx>8</tmx>\\r\\n\\t\\t\\t\\t\\t<reliability></reliability>\\r\\n\\t\\t\\t\\t\\t<rnSt>30</rnSt>\\r\\n\\t\\t\\t\\t</data>\\r\\n\\r\\n\\t\\t\\t\\t\\r\\n\\t\\t\\t\\t<data>\\r\\n\\t\\t\\t\\t\\t<mode>A02</mode>\\r\\n\\t\\t\\t\\t\\t<tmEf>2020-01-03 12:00</tmEf>\\r\\n\\t\\t\\t\\t\\t<wf>구름많음</wf>\\r\\n\\t\\t\\t\\t\\t<tmn>-2</tmn>\\r\\n\\t\\t\\t\\t\\t<tmx>8</tmx>\\r\\n\\t\\t\\t\\t\\t<reliability></reliability>\\r\\n\\t\\t\\t\\t\\t<rnSt>30</rnSt>\\r\\n\\t\\t\\t\\t</data>\\r\\n\\r\\n\\t\\t\\t\\t\\r\\n\\t\\t\\t\\t<data>\\r\\n\\t\\t\\t\\t\\t<mode>A02</mode>\\r\\n\\t\\t\\t\\t\\t<tmEf>2020-01-04 00:00</tmEf>\\r\\n\\t\\t\\t\\t\\t<wf>맑음</wf>\\r\\n\\t\\t\\t\\t\\t<tmn>-1</tmn>\\r\\n\\t\\t\\t\\t\\t<tmx>8</tmx>\\r\\n\\t\\t\\t\\t\\t<reliability></reliability>\\r\\n\\t\\t\\t\\t\\t<rnSt>10</rnSt>\\r\\n\\t\\t\\t\\t</data>\\r\\n\\r\\n\\t\\t\\t\\t\\r\\n\\t\\t\\t\\t<data>\\r\\n\\t\\t\\t\\t\\t<mode>A02</mode>\\r\\n\\t\\t\\t\\t\\t<tmEf>2020-01-04 12:00</tmEf>\\r\\n\\t\\t\\t\\t\\t<wf>맑음</wf>\\r\\n\\t\\t\\t\\t\\t<tmn>-1</tmn>\\r\\n\\t\\t\\t\\t\\t<tmx>8</tmx>\\r\\n\\t\\t\\t\\t\\t<reliability></reliability>\\r\\n\\t\\t\\t\\t\\t<rnSt>0</rnSt>\\r\\n\\t\\t\\t\\t</data>\\r\\n\\r\\n\\t\\t\\t\\t\\r\\n\\t\\t\\t\\t<data>\\r\\n\\t\\t\\t\\t\\t<mode>A02</mode>\\r\\n\\t\\t\\t\\t\\t<tmEf>2020-01-05 00:00</tmEf>\\r\\n\\t\\t\\t\\t\\t<wf>맑음</wf>\\r\\n\\t\\t\\t\\t\\t<tmn>-4</tmn>\\r\\n\\t\\t\\t\\t\\t<tmx>6</tmx>\\r\\n\\t\\t\\t\\t\\t<reliability></reliability>\\r\\n\\t\\t\\t\\t\\t<rnSt>0</rnSt>\\r\\n\\t\\t\\t\\t</data>\\r\\n\\r\\n\\t\\t\\t\\t\\r\\n\\t\\t\\t\\t<data>\\r\\n\\t\\t\\t\\t\\t<mode>A02</mode>\\r\\n\\t\\t\\t\\t\\t<tmEf>2020-01-05 12:00</tmEf>\\r\\n\\t\\t\\t\\t\\t<wf>구름많음</wf>\\r\\n\\t\\t\\t\\t\\t<tmn>-4</tmn>\\r\\n\\t\\t\\t\\t\\t<tmx>6</tmx>\\r\\n\\t\\t\\t\\t\\t<reliability></reliability>\\r\\n\\t\\t\\t\\t\\t<rnSt>30</rnSt>\\r\\n\\t\\t\\t\\t</data>\\r\\n\\r\\n\\t\\t\\t\\t\\r\\n\\t\\t\\t\\t<data>\\r\\n\\t\\t\\t\\t\\t<mode>A02</mode>\\r\\n\\t\\t\\t\\t\\t<tmEf>2020-01-06 00:00</tmEf>\\r\\n\\t\\t\\t\\t\\t<wf>구름많음</wf>\\r\\n\\t\\t\\t\\t\\t<tmn>-1</tmn>\\r\\n\\t\\t\\t\\t\\t<tmx>7</tmx>\\r\\n\\t\\t\\t\\t\\t<reliability></reliability>\\r\\n\\t\\t\\t\\t\\t<rnSt>30</rnSt>\\r\\n\\t\\t\\t\\t</data>\\r\\n\\r\\n\\t\\t\\t\\t\\r\\n\\t\\t\\t\\t<data>\\r\\n\\t\\t\\t\\t\\t<mode>A02</mode>\\r\\n\\t\\t\\t\\t\\t<tmEf>2020-01-06 12:00</tmEf>\\r\\n\\t\\t\\t\\t\\t<wf>흐리고 비</wf>\\r\\n\\t\\t\\t\\t\\t<tmn>-1</tmn>\\r\\n\\t\\t\\t\\t\\t<tmx>7</tmx>\\r\\n\\t\\t\\t\\t\\t<reliability></reliability>\\r\\n\\t\\t\\t\\t\\t<rnSt>60</rnSt>\\r\\n\\t\\t\\t\\t</data>\\r\\n\\r\\n\\t\\t\\t\\t\\r\\n\\t\\t\\t\\t<data>\\r\\n\\t\\t\\t\\t\\t<mode>A02</mode>\\r\\n\\t\\t\\t\\t\\t<tmEf>2020-01-07 00:00</tmEf>\\r\\n\\t\\t\\t\\t\\t<wf>흐리고 비</wf>\\r\\n\\t\\t\\t\\t\\t<tmn>1</tmn>\\r\\n\\t\\t\\t\\t\\t<tmx>8</tmx>\\r\\n\\t\\t\\t\\t\\t<reliability></reliability>\\r\\n\\t\\t\\t\\t\\t<rnSt>70</rnSt>\\r\\n\\t\\t\\t\\t</data>\\r\\n\\r\\n\\t\\t\\t\\t\\r\\n\\t\\t\\t\\t<data>\\r\\n\\t\\t\\t\\t\\t<mode>A02</mode>\\r\\n\\t\\t\\t\\t\\t<tmEf>2020-01-07 12:00</tmEf>\\r\\n\\t\\t\\t\\t\\t<wf>흐리고 비</wf>\\r\\n\\t\\t\\t\\t\\t<tmn>1</tmn>\\r\\n\\t\\t\\t\\t\\t<tmx>8</tmx>\\r\\n\\t\\t\\t\\t\\t<reliability></reliability>\\r\\n\\t\\t\\t\\t\\t<rnSt>70</rnSt>\\r\\n\\t\\t\\t\\t</data>\\r\\n\\r\\n\\t\\t\\t\\t\\r\\n\\t\\t\\t\\t<data>\\r\\n\\t\\t\\t\\t\\t<mode>A01</mode>\\r\\n\\t\\t\\t\\t\\t<tmEf>2020-01-08 00:00</tmEf>\\r\\n\\t\\t\\t\\t\\t<wf>흐리고 비</wf>\\r\\n\\t\\t\\t\\t\\t<tmn>3</tmn>\\r\\n\\t\\t\\t\\t\\t<tmx>8</tmx>\\r\\n\\t\\t\\t\\t\\t<reliability></reliability>\\r\\n\\t\\t\\t\\t\\t<rnSt>70</rnSt>\\r\\n\\t\\t\\t\\t</data>\\r\\n\\r\\n\\t\\t\\t\\t\\r\\n\\t\\t\\t\\t<data>\\r\\n\\t\\t\\t\\t\\t<mode>A01</mode>\\r\\n\\t\\t\\t\\t\\t<tmEf>2020-01-09 00:00</tmEf>\\r\\n\\t\\t\\t\\t\\t<wf>구름많음</wf>\\r\\n\\t\\t\\t\\t\\t<tmn>-1</tmn>\\r\\n\\t\\t\\t\\t\\t<tmx>7</tmx>\\r\\n\\t\\t\\t\\t\\t<reliability></reliability>\\r\\n\\t\\t\\t\\t\\t<rnSt>40</rnSt>\\r\\n\\t\\t\\t\\t</data>\\r\\n\\r\\n\\t\\t\\t\\t\\r\\n\\t\\t\\t\\t<data>\\r\\n\\t\\t\\t\\t\\t<mode>A01</mode>\\r\\n\\t\\t\\t\\t\\t<tmEf>2020-01-10 00:00</tmEf>\\r\\n\\t\\t\\t\\t\\t<wf>구름많음</wf>\\r\\n\\t\\t\\t\\t\\t<tmn>0</tmn>\\r\\n\\t\\t\\t\\t\\t<tmx>7</tmx>\\r\\n\\t\\t\\t\\t\\t<reliability></reliability>\\r\\n\\t\\t\\t\\t\\t<rnSt>30</rnSt>\\r\\n\\t\\t\\t\\t</data>\\r\\n\\r\\n\\r\\n\\t\\t</location>\\r\\n\\r\\n\\t\\t<location wl_ver=\"3\">\\r\\n\\t\\t\\t\\t<province>대전ㆍ세종ㆍ충청남도</province>\\r\\n\\t\\t\\t\\t<city>세종</city>\\r\\n\\t\\t\\t\\t\\r\\n\\t\\t\\t\\t<data>\\r\\n\\t\\t\\t\\t\\t<mode>A02</mode>\\r\\n\\t\\t\\t\\t\\t<tmEf>2020-01-03 00:00</tmEf>\\r\\n\\t\\t\\t\\t\\t<wf>구름많음</wf>\\r\\n\\t\\t\\t\\t\\t<tmn>-5</tmn>\\r\\n\\t\\t\\t\\t\\t<tmx>8</tmx>\\r\\n\\t\\t\\t\\t\\t<reliability></reliability>\\r\\n\\t\\t\\t\\t\\t<rnSt>30</rnSt>\\r\\n\\t\\t\\t\\t</data>\\r\\n\\r\\n\\t\\t\\t\\t\\r\\n\\t\\t\\t\\t<data>\\r\\n\\t\\t\\t\\t\\t<mode>A02</mode>\\r\\n\\t\\t\\t\\t\\t<tmEf>2020-01-03 12:00</tmEf>\\r\\n\\t\\t\\t\\t\\t<wf>구름많음</wf>\\r\\n\\t\\t\\t\\t\\t<tmn>-5</tmn>\\r\\n\\t\\t\\t\\t\\t<tmx>8</tmx>\\r\\n\\t\\t\\t\\t\\t<reliability></reliability>\\r\\n\\t\\t\\t\\t\\t<rnSt>30</rnSt>\\r\\n\\t\\t\\t\\t</data>\\r\\n\\r\\n\\t\\t\\t\\t\\r\\n\\t\\t\\t\\t<data>\\r\\n\\t\\t\\t\\t\\t<mode>A02</mode>\\r\\n\\t\\t\\t\\t\\t<tmEf>2020-01-04 00:00</tmEf>\\r\\n\\t\\t\\t\\t\\t<wf>맑음</wf>\\r\\n\\t\\t\\t\\t\\t<tmn>-3</tmn>\\r\\n\\t\\t\\t\\t\\t<tmx>7</tmx>\\r\\n\\t\\t\\t\\t\\t<reliability></reliability>\\r\\n\\t\\t\\t\\t\\t<rnSt>10</rnSt>\\r\\n\\t\\t\\t\\t</data>\\r\\n\\r\\n\\t\\t\\t\\t\\r\\n\\t\\t\\t\\t<data>\\r\\n\\t\\t\\t\\t\\t<mode>A02</mode>\\r\\n\\t\\t\\t\\t\\t<tmEf>2020-01-04 12:00</tmEf>\\r\\n\\t\\t\\t\\t\\t<wf>맑음</wf>\\r\\n\\t\\t\\t\\t\\t<tmn>-3</tmn>\\r\\n\\t\\t\\t\\t\\t<tmx>7</tmx>\\r\\n\\t\\t\\t\\t\\t<reliability></reliability>\\r\\n\\t\\t\\t\\t\\t<rnSt>0</rnSt>\\r\\n\\t\\t\\t\\t</data>\\r\\n\\r\\n\\t\\t\\t\\t\\r\\n\\t\\t\\t\\t<data>\\r\\n\\t\\t\\t\\t\\t<mode>A02</mode>\\r\\n\\t\\t\\t\\t\\t<tmEf>2020-01-05 00:00</tmEf>\\r\\n\\t\\t\\t\\t\\t<wf>맑음</wf>\\r\\n\\t\\t\\t\\t\\t<tmn>-5</tmn>\\r\\n\\t\\t\\t\\t\\t<tmx>5</tmx>\\r\\n\\t\\t\\t\\t\\t<reliability></reliability>\\r\\n\\t\\t\\t\\t\\t<rnSt>0</rnSt>\\r\\n\\t\\t\\t\\t</data>\\r\\n\\r\\n\\t\\t\\t\\t\\r\\n\\t\\t\\t\\t<data>\\r\\n\\t\\t\\t\\t\\t<mode>A02</mode>\\r\\n\\t\\t\\t\\t\\t<tmEf>2020-01-05 12:00</tmEf>\\r\\n\\t\\t\\t\\t\\t<wf>구름많음</wf>\\r\\n\\t\\t\\t\\t\\t<tmn>-5</tmn>\\r\\n\\t\\t\\t\\t\\t<tmx>5</tmx>\\r\\n\\t\\t\\t\\t\\t<reliability></reliability>\\r\\n\\t\\t\\t\\t\\t<rnSt>30</rnSt>\\r\\n\\t\\t\\t\\t</data>\\r\\n\\r\\n\\t\\t\\t\\t\\r\\n\\t\\t\\t\\t<data>\\r\\n\\t\\t\\t\\t\\t<mode>A02</mode>\\r\\n\\t\\t\\t\\t\\t<tmEf>2020-01-06 00:00</tmEf>\\r\\n\\t\\t\\t\\t\\t<wf>구름많음</wf>\\r\\n\\t\\t\\t\\t\\t<tmn>-2</tmn>\\r\\n\\t\\t\\t\\t\\t<tmx>6</tmx>\\r\\n\\t\\t\\t\\t\\t<reliability></reliability>\\r\\n\\t\\t\\t\\t\\t<rnSt>30</rnSt>\\r\\n\\t\\t\\t\\t</data>\\r\\n\\r\\n\\t\\t\\t\\t\\r\\n\\t\\t\\t\\t<data>\\r\\n\\t\\t\\t\\t\\t<mode>A02</mode>\\r\\n\\t\\t\\t\\t\\t<tmEf>2020-01-06 12:00</tmEf>\\r\\n\\t\\t\\t\\t\\t<wf>흐리고 비</wf>\\r\\n\\t\\t\\t\\t\\t<tmn>-2</tmn>\\r\\n\\t\\t\\t\\t\\t<tmx>6</tmx>\\r\\n\\t\\t\\t\\t\\t<reliability></reliability>\\r\\n\\t\\t\\t\\t\\t<rnSt>60</rnSt>\\r\\n\\t\\t\\t\\t</data>\\r\\n\\r\\n\\t\\t\\t\\t\\r\\n\\t\\t\\t\\t<data>\\r\\n\\t\\t\\t\\t\\t<mode>A02</mode>\\r\\n\\t\\t\\t\\t\\t<tmEf>2020-01-07 00:00</tmEf>\\r\\n\\t\\t\\t\\t\\t<wf>흐리고 비</wf>\\r\\n\\t\\t\\t\\t\\t<tmn>1</tmn>\\r\\n\\t\\t\\t\\t\\t<tmx>6</tmx>\\r\\n\\t\\t\\t\\t\\t<reliability></reliability>\\r\\n\\t\\t\\t\\t\\t<rnSt>70</rnSt>\\r\\n\\t\\t\\t\\t</data>\\r\\n\\r\\n\\t\\t\\t\\t\\r\\n\\t\\t\\t\\t<data>\\r\\n\\t\\t\\t\\t\\t<mode>A02</mode>\\r\\n\\t\\t\\t\\t\\t<tmEf>2020-01-07 12:00</tmEf>\\r\\n\\t\\t\\t\\t\\t<wf>흐리고 비</wf>\\r\\n\\t\\t\\t\\t\\t<tmn>1</tmn>\\r\\n\\t\\t\\t\\t\\t<tmx>6</tmx>\\r\\n\\t\\t\\t\\t\\t<reliability></reliability>\\r\\n\\t\\t\\t\\t\\t<rnSt>70</rnSt>\\r\\n\\t\\t\\t\\t</data>\\r\\n\\r\\n\\t\\t\\t\\t\\r\\n\\t\\t\\t\\t<data>\\r\\n\\t\\t\\t\\t\\t<mode>A01</mode>\\r\\n\\t\\t\\t\\t\\t<tmEf>2020-01-08 00:00</tmEf>\\r\\n\\t\\t\\t\\t\\t<wf>흐리고 비</wf>\\r\\n\\t\\t\\t\\t\\t<tmn>1</tmn>\\r\\n\\t\\t\\t\\t\\t<tmx>7</tmx>\\r\\n\\t\\t\\t\\t\\t<reliability></reliability>\\r\\n\\t\\t\\t\\t\\t<rnSt>70</rnSt>\\r\\n\\t\\t\\t\\t</data>\\r\\n\\r\\n\\t\\t\\t\\t\\r\\n\\t\\t\\t\\t<data>\\r\\n\\t\\t\\t\\t\\t<mode>A01</mode>\\r\\n\\t\\t\\t\\t\\t<tmEf>2020-01-09 00:00</tmEf>\\r\\n\\t\\t\\t\\t\\t<wf>구름많음</wf>\\r\\n\\t\\t\\t\\t\\t<tmn>-4</tmn>\\r\\n\\t\\t\\t\\t\\t<tmx>5</tmx>\\r\\n\\t\\t\\t\\t\\t<reliability></reliability>\\r\\n\\t\\t\\t\\t\\t<rnSt>40</rnSt>\\r\\n\\t\\t\\t\\t</data>\\r\\n\\r\\n\\t\\t\\t\\t\\r\\n\\t\\t\\t\\t<data>\\r\\n\\t\\t\\t\\t\\t<mode>A01</mode>\\r\\n\\t\\t\\t\\t\\t<tmEf>2020-01-10 00:00</tmEf>\\r\\n\\t\\t\\t\\t\\t<wf>구름많음</wf>\\r\\n\\t\\t\\t\\t\\t<tmn>-4</tmn>\\r\\n\\t\\t\\t\\t\\t<tmx>6</tmx>\\r\\n\\t\\t\\t\\t\\t<reliability></reliability>\\r\\n\\t\\t\\t\\t\\t<rnSt>30</rnSt>\\r\\n\\t\\t\\t\\t</data>\\r\\n\\r\\n\\r\\n\\t\\t</location>\\r\\n\\r\\n\\t\\t<location wl_ver=\"3\">\\r\\n\\t\\t\\t\\t<province>대전ㆍ세종ㆍ충청남도</province>\\r\\n\\t\\t\\t\\t<city>홍성</city>\\r\\n\\t\\t\\t\\t\\r\\n\\t\\t\\t\\t<data>\\r\\n\\t\\t\\t\\t\\t<mode>A02</mode>\\r\\n\\t\\t\\t\\t\\t<tmEf>2020-01-03 00:00</tmEf>\\r\\n\\t\\t\\t\\t\\t<wf>구름많음</wf>\\r\\n\\t\\t\\t\\t\\t<tmn>-3</tmn>\\r\\n\\t\\t\\t\\t\\t<tmx>7</tmx>\\r\\n\\t\\t\\t\\t\\t<reliability></reliability>\\r\\n\\t\\t\\t\\t\\t<rnSt>30</rnSt>\\r\\n\\t\\t\\t\\t</data>\\r\\n\\r\\n\\t\\t\\t\\t\\r\\n\\t\\t\\t\\t<data>\\r\\n\\t\\t\\t\\t\\t<mode>A02</mode>\\r\\n\\t\\t\\t\\t\\t<tmEf>2020-01-03 12:00</tmEf>\\r\\n\\t\\t\\t\\t\\t<wf>구름많음</wf>\\r\\n\\t\\t\\t\\t\\t<tmn>-3</tmn>\\r\\n\\t\\t\\t\\t\\t<tmx>7</tmx>\\r\\n\\t\\t\\t\\t\\t<reliability></reliability>\\r\\n\\t\\t\\t\\t\\t<rnSt>30</rnSt>\\r\\n\\t\\t\\t\\t</data>\\r\\n\\r\\n\\t\\t\\t\\t\\r\\n\\t\\t\\t\\t<data>\\r\\n\\t\\t\\t\\t\\t<mode>A02</mode>\\r\\n\\t\\t\\t\\t\\t<tmEf>2020-01-04 00:00</tmEf>\\r\\n\\t\\t\\t\\t\\t<wf>맑음</wf>\\r\\n\\t\\t\\t\\t\\t<tmn>-1</tmn>\\r\\n\\t\\t\\t\\t\\t<tmx>7</tmx>\\r\\n\\t\\t\\t\\t\\t<reliability></reliability>\\r\\n\\t\\t\\t\\t\\t<rnSt>10</rnSt>\\r\\n\\t\\t\\t\\t</data>\\r\\n\\r\\n\\t\\t\\t\\t\\r\\n\\t\\t\\t\\t<data>\\r\\n\\t\\t\\t\\t\\t<mode>A02</mode>\\r\\n\\t\\t\\t\\t\\t<tmEf>2020-01-04 12:00</tmEf>\\r\\n\\t\\t\\t\\t\\t<wf>맑음</wf>\\r\\n\\t\\t\\t\\t\\t<tmn>-1</tmn>\\r\\n\\t\\t\\t\\t\\t<tmx>7</tmx>\\r\\n\\t\\t\\t\\t\\t<reliability></reliability>\\r\\n\\t\\t\\t\\t\\t<rnSt>0</rnSt>\\r\\n\\t\\t\\t\\t</data>\\r\\n\\r\\n\\t\\t\\t\\t\\r\\n\\t\\t\\t\\t<data>\\r\\n\\t\\t\\t\\t\\t<mode>A02</mode>\\r\\n\\t\\t\\t\\t\\t<tmEf>2020-01-05 00:00</tmEf>\\r\\n\\t\\t\\t\\t\\t<wf>맑음</wf>\\r\\n\\t\\t\\t\\t\\t<tmn>-5</tmn>\\r\\n\\t\\t\\t\\t\\t<tmx>5</tmx>\\r\\n\\t\\t\\t\\t\\t<reliability></reliability>\\r\\n\\t\\t\\t\\t\\t<rnSt>0</rnSt>\\r\\n\\t\\t\\t\\t</data>\\r\\n\\r\\n\\t\\t\\t\\t\\r\\n\\t\\t\\t\\t<data>\\r\\n\\t\\t\\t\\t\\t<mode>A02</mode>\\r\\n\\t\\t\\t\\t\\t<tmEf>2020-01-05 12:00</tmEf>\\r\\n\\t\\t\\t\\t\\t<wf>구름많음</wf>\\r\\n\\t\\t\\t\\t\\t<tmn>-5</tmn>\\r\\n\\t\\t\\t\\t\\t<tmx>5</tmx>\\r\\n\\t\\t\\t\\t\\t<reliability></reliability>\\r\\n\\t\\t\\t\\t\\t<rnSt>30</rnSt>\\r\\n\\t\\t\\t\\t</data>\\r\\n\\r\\n\\t\\t\\t\\t\\r\\n\\t\\t\\t\\t<data>\\r\\n\\t\\t\\t\\t\\t<mode>A02</mode>\\r\\n\\t\\t\\t\\t\\t<tmEf>2020-01-06 00:00</tmEf>\\r\\n\\t\\t\\t\\t\\t<wf>구름많음</wf>\\r\\n\\t\\t\\t\\t\\t<tmn>-1</tmn>\\r\\n\\t\\t\\t\\t\\t<tmx>6</tmx>\\r\\n\\t\\t\\t\\t\\t<reliability></reliability>\\r\\n\\t\\t\\t\\t\\t<rnSt>30</rnSt>\\r\\n\\t\\t\\t\\t</data>\\r\\n\\r\\n\\t\\t\\t\\t\\r\\n\\t\\t\\t\\t<data>\\r\\n\\t\\t\\t\\t\\t<mode>A02</mode>\\r\\n\\t\\t\\t\\t\\t<tmEf>2020-01-06 12:00</tmEf>\\r\\n\\t\\t\\t\\t\\t<wf>흐리고 비</wf>\\r\\n\\t\\t\\t\\t\\t<tmn>-1</tmn>\\r\\n\\t\\t\\t\\t\\t<tmx>6</tmx>\\r\\n\\t\\t\\t\\t\\t<reliability></reliability>\\r\\n\\t\\t\\t\\t\\t<rnSt>60</rnSt>\\r\\n\\t\\t\\t\\t</data>\\r\\n\\r\\n\\t\\t\\t\\t\\r\\n\\t\\t\\t\\t<data>\\r\\n\\t\\t\\t\\t\\t<mode>A02</mode>\\r\\n\\t\\t\\t\\t\\t<tmEf>2020-01-07 00:00</tmEf>\\r\\n\\t\\t\\t\\t\\t<wf>흐리고 비</wf>\\r\\n\\t\\t\\t\\t\\t<tmn>1</tmn>\\r\\n\\t\\t\\t\\t\\t<tmx>6</tmx>\\r\\n\\t\\t\\t\\t\\t<reliability></reliability>\\r\\n\\t\\t\\t\\t\\t<rnSt>70</rnSt>\\r\\n\\t\\t\\t\\t</data>\\r\\n\\r\\n\\t\\t\\t\\t\\r\\n\\t\\t\\t\\t<data>\\r\\n\\t\\t\\t\\t\\t<mode>A02</mode>\\r\\n\\t\\t\\t\\t\\t<tmEf>2020-01-07 12:00</tmEf>\\r\\n\\t\\t\\t\\t\\t<wf>흐리고 비</wf>\\r\\n\\t\\t\\t\\t\\t<tmn>1</tmn>\\r\\n\\t\\t\\t\\t\\t<tmx>6</tmx>\\r\\n\\t\\t\\t\\t\\t<reliability></reliability>\\r\\n\\t\\t\\t\\t\\t<rnSt>70</rnSt>\\r\\n\\t\\t\\t\\t</data>\\r\\n\\r\\n\\t\\t\\t\\t\\r\\n\\t\\t\\t\\t<data>\\r\\n\\t\\t\\t\\t\\t<mode>A01</mode>\\r\\n\\t\\t\\t\\t\\t<tmEf>2020-01-08 00:00</tmEf>\\r\\n\\t\\t\\t\\t\\t<wf>흐리고 비</wf>\\r\\n\\t\\t\\t\\t\\t<tmn>1</tmn>\\r\\n\\t\\t\\t\\t\\t<tmx>7</tmx>\\r\\n\\t\\t\\t\\t\\t<reliability></reliability>\\r\\n\\t\\t\\t\\t\\t<rnSt>70</rnSt>\\r\\n\\t\\t\\t\\t</data>\\r\\n\\r\\n\\t\\t\\t\\t\\r\\n\\t\\t\\t\\t<data>\\r\\n\\t\\t\\t\\t\\t<mode>A01</mode>\\r\\n\\t\\t\\t\\t\\t<tmEf>2020-01-09 00:00</tmEf>\\r\\n\\t\\t\\t\\t\\t<wf>구름많음</wf>\\r\\n\\t\\t\\t\\t\\t<tmn>-3</tmn>\\r\\n\\t\\t\\t\\t\\t<tmx>4</tmx>\\r\\n\\t\\t\\t\\t\\t<reliability></reliability>\\r\\n\\t\\t\\t\\t\\t<rnSt>40</rnSt>\\r\\n\\t\\t\\t\\t</data>\\r\\n\\r\\n\\t\\t\\t\\t\\r\\n\\t\\t\\t\\t<data>\\r\\n\\t\\t\\t\\t\\t<mode>A01</mode>\\r\\n\\t\\t\\t\\t\\t<tmEf>2020-01-10 00:00</tmEf>\\r\\n\\t\\t\\t\\t\\t<wf>구름많음</wf>\\r\\n\\t\\t\\t\\t\\t<tmn>-2</tmn>\\r\\n\\t\\t\\t\\t\\t<tmx>4</tmx>\\r\\n\\t\\t\\t\\t\\t<reliability></reliability>\\r\\n\\t\\t\\t\\t\\t<rnSt>30</rnSt>\\r\\n\\t\\t\\t\\t</data>\\r\\n\\r\\n\\r\\n\\t\\t</location>\\r\\n\\r\\n\\r\\n\\r\\n\\t\\t<location wl_ver=\"3\">\\r\\n\\t\\t\\t\\t<province>충청북도</province>\\r\\n\\t\\t\\t\\t<city>청주</city>\\r\\n\\t\\t\\t\\t\\r\\n\\t\\t\\t\\t<data>\\r\\n\\t\\t\\t\\t\\t<mode>A02</mode>\\r\\n\\t\\t\\t\\t\\t<tmEf>2020-01-03 00:00</tmEf>\\r\\n\\t\\t\\t\\t\\t<wf>구름많음</wf>\\r\\n\\t\\t\\t\\t\\t<tmn>-2</tmn>\\r\\n\\t\\t\\t\\t\\t<tmx>6</tmx>\\r\\n\\t\\t\\t\\t\\t<reliability></reliability>\\r\\n\\t\\t\\t\\t\\t<rnSt>30</rnSt>\\r\\n\\t\\t\\t\\t</data>\\r\\n\\r\\n\\t\\t\\t\\t\\r\\n\\t\\t\\t\\t<data>\\r\\n\\t\\t\\t\\t\\t<mode>A02</mode>\\r\\n\\t\\t\\t\\t\\t<tmEf>2020-01-03 12:00</tmEf>\\r\\n\\t\\t\\t\\t\\t<wf>맑음</wf>\\r\\n\\t\\t\\t\\t\\t<tmn>-2</tmn>\\r\\n\\t\\t\\t\\t\\t<tmx>6</tmx>\\r\\n\\t\\t\\t\\t\\t<reliability></reliability>\\r\\n\\t\\t\\t\\t\\t<rnSt>20</rnSt>\\r\\n\\t\\t\\t\\t</data>\\r\\n\\r\\n\\t\\t\\t\\t\\r\\n\\t\\t\\t\\t<data>\\r\\n\\t\\t\\t\\t\\t<mode>A02</mode>\\r\\n\\t\\t\\t\\t\\t<tmEf>2020-01-04 00:00</tmEf>\\r\\n\\t\\t\\t\\t\\t<wf>맑음</wf>\\r\\n\\t\\t\\t\\t\\t<tmn>-1</tmn>\\r\\n\\t\\t\\t\\t\\t<tmx>7</tmx>\\r\\n\\t\\t\\t\\t\\t<reliability></reliability>\\r\\n\\t\\t\\t\\t\\t<rnSt>10</rnSt>\\r\\n\\t\\t\\t\\t</data>\\r\\n\\r\\n\\t\\t\\t\\t\\r\\n\\t\\t\\t\\t<data>\\r\\n\\t\\t\\t\\t\\t<mode>A02</mode>\\r\\n\\t\\t\\t\\t\\t<tmEf>2020-01-04 12:00</tmEf>\\r\\n\\t\\t\\t\\t\\t<wf>맑음</wf>\\r\\n\\t\\t\\t\\t\\t<tmn>-1</tmn>\\r\\n\\t\\t\\t\\t\\t<tmx>7</tmx>\\r\\n\\t\\t\\t\\t\\t<reliability></reliability>\\r\\n\\t\\t\\t\\t\\t<rnSt>0</rnSt>\\r\\n\\t\\t\\t\\t</data>\\r\\n\\r\\n\\t\\t\\t\\t\\r\\n\\t\\t\\t\\t<data>\\r\\n\\t\\t\\t\\t\\t<mode>A02</mode>\\r\\n\\t\\t\\t\\t\\t<tmEf>2020-01-05 00:00</tmEf>\\r\\n\\t\\t\\t\\t\\t<wf>맑음</wf>\\r\\n\\t\\t\\t\\t\\t<tmn>-4</tmn>\\r\\n\\t\\t\\t\\t\\t<tmx>5</tmx>\\r\\n\\t\\t\\t\\t\\t<reliability></reliability>\\r\\n\\t\\t\\t\\t\\t<rnSt>0</rnSt>\\r\\n\\t\\t\\t\\t</data>\\r\\n\\r\\n\\t\\t\\t\\t\\r\\n\\t\\t\\t\\t<data>\\r\\n\\t\\t\\t\\t\\t<mode>A02</mode>\\r\\n\\t\\t\\t\\t\\t<tmEf>2020-01-05 12:00</tmEf>\\r\\n\\t\\t\\t\\t\\t<wf>구름많음</wf>\\r\\n\\t\\t\\t\\t\\t<tmn>-4</tmn>\\r\\n\\t\\t\\t\\t\\t<tmx>5</tmx>\\r\\n\\t\\t\\t\\t\\t<reliability></reliability>\\r\\n\\t\\t\\t\\t\\t<rnSt>30</rnSt>\\r\\n\\t\\t\\t\\t</data>\\r\\n\\r\\n\\t\\t\\t\\t\\r\\n\\t\\t\\t\\t<data>\\r\\n\\t\\t\\t\\t\\t<mode>A02</mode>\\r\\n\\t\\t\\t\\t\\t<tmEf>2020-01-06 00:00</tmEf>\\r\\n\\t\\t\\t\\t\\t<wf>구름많음</wf>\\r\\n\\t\\t\\t\\t\\t<tmn>-1</tmn>\\r\\n\\t\\t\\t\\t\\t<tmx>6</tmx>\\r\\n\\t\\t\\t\\t\\t<reliability></reliability>\\r\\n\\t\\t\\t\\t\\t<rnSt>30</rnSt>\\r\\n\\t\\t\\t\\t</data>\\r\\n\\r\\n\\t\\t\\t\\t\\r\\n\\t\\t\\t\\t<data>\\r\\n\\t\\t\\t\\t\\t<mode>A02</mode>\\r\\n\\t\\t\\t\\t\\t<tmEf>2020-01-06 12:00</tmEf>\\r\\n\\t\\t\\t\\t\\t<wf>흐리고 비</wf>\\r\\n\\t\\t\\t\\t\\t<tmn>-1</tmn>\\r\\n\\t\\t\\t\\t\\t<tmx>6</tmx>\\r\\n\\t\\t\\t\\t\\t<reliability></reliability>\\r\\n\\t\\t\\t\\t\\t<rnSt>60</rnSt>\\r\\n\\t\\t\\t\\t</data>\\r\\n\\r\\n\\t\\t\\t\\t\\r\\n\\t\\t\\t\\t<data>\\r\\n\\t\\t\\t\\t\\t<mode>A02</mode>\\r\\n\\t\\t\\t\\t\\t<tmEf>2020-01-07 00:00</tmEf>\\r\\n\\t\\t\\t\\t\\t<wf>흐리고 비</wf>\\r\\n\\t\\t\\t\\t\\t<tmn>2</tmn>\\r\\n\\t\\t\\t\\t\\t<tmx>6</tmx>\\r\\n\\t\\t\\t\\t\\t<reliability></reliability>\\r\\n\\t\\t\\t\\t\\t<rnSt>70</rnSt>\\r\\n\\t\\t\\t\\t</data>\\r\\n\\r\\n\\t\\t\\t\\t\\r\\n\\t\\t\\t\\t<data>\\r\\n\\t\\t\\t\\t\\t<mode>A02</mode>\\r\\n\\t\\t\\t\\t\\t<tmEf>2020-01-07 12:00</tmEf>\\r\\n\\t\\t\\t\\t\\t<wf>흐리고 비</wf>\\r\\n\\t\\t\\t\\t\\t<tmn>2</tmn>\\r\\n\\t\\t\\t\\t\\t<tmx>6</tmx>\\r\\n\\t\\t\\t\\t\\t<reliability></reliability>\\r\\n\\t\\t\\t\\t\\t<rnSt>70</rnSt>\\r\\n\\t\\t\\t\\t</data>\\r\\n\\r\\n\\t\\t\\t\\t\\r\\n\\t\\t\\t\\t<data>\\r\\n\\t\\t\\t\\t\\t<mode>A01</mode>\\r\\n\\t\\t\\t\\t\\t<tmEf>2020-01-08 00:00</tmEf>\\r\\n\\t\\t\\t\\t\\t<wf>흐리고 비</wf>\\r\\n\\t\\t\\t\\t\\t<tmn>2</tmn>\\r\\n\\t\\t\\t\\t\\t<tmx>6</tmx>\\r\\n\\t\\t\\t\\t\\t<reliability></reliability>\\r\\n\\t\\t\\t\\t\\t<rnSt>70</rnSt>\\r\\n\\t\\t\\t\\t</data>\\r\\n\\r\\n\\t\\t\\t\\t\\r\\n\\t\\t\\t\\t<data>\\r\\n\\t\\t\\t\\t\\t<mode>A01</mode>\\r\\n\\t\\t\\t\\t\\t<tmEf>2020-01-09 00:00</tmEf>\\r\\n\\t\\t\\t\\t\\t<wf>구름많음</wf>\\r\\n\\t\\t\\t\\t\\t<tmn>-1</tmn>\\r\\n\\t\\t\\t\\t\\t<tmx>5</tmx>\\r\\n\\t\\t\\t\\t\\t<reliability></reliability>\\r\\n\\t\\t\\t\\t\\t<rnSt>40</rnSt>\\r\\n\\t\\t\\t\\t</data>\\r\\n\\r\\n\\t\\t\\t\\t\\r\\n\\t\\t\\t\\t<data>\\r\\n\\t\\t\\t\\t\\t<mode>A01</mode>\\r\\n\\t\\t\\t\\t\\t<tmEf>2020-01-10 00:00</tmEf>\\r\\n\\t\\t\\t\\t\\t<wf>구름많음</wf>\\r\\n\\t\\t\\t\\t\\t<tmn>-1</tmn>\\r\\n\\t\\t\\t\\t\\t<tmx>6</tmx>\\r\\n\\t\\t\\t\\t\\t<reliability></reliability>\\r\\n\\t\\t\\t\\t\\t<rnSt>30</rnSt>\\r\\n\\t\\t\\t\\t</data>\\r\\n\\r\\n\\r\\n\\t\\t</location>\\r\\n\\r\\n\\t\\t<location wl_ver=\"3\">\\r\\n\\t\\t\\t\\t<province>충청북도</province>\\r\\n\\t\\t\\t\\t<city>충주</city>\\r\\n\\t\\t\\t\\t\\r\\n\\t\\t\\t\\t<data>\\r\\n\\t\\t\\t\\t\\t<mode>A02</mode>\\r\\n\\t\\t\\t\\t\\t<tmEf>2020-01-03 00:00</tmEf>\\r\\n\\t\\t\\t\\t\\t<wf>구름많음</wf>\\r\\n\\t\\t\\t\\t\\t<tmn>-4</tmn>\\r\\n\\t\\t\\t\\t\\t<tmx>5</tmx>\\r\\n\\t\\t\\t\\t\\t<reliability></reliability>\\r\\n\\t\\t\\t\\t\\t<rnSt>30</rnSt>\\r\\n\\t\\t\\t\\t</data>\\r\\n\\r\\n\\t\\t\\t\\t\\r\\n\\t\\t\\t\\t<data>\\r\\n\\t\\t\\t\\t\\t<mode>A02</mode>\\r\\n\\t\\t\\t\\t\\t<tmEf>2020-01-03 12:00</tmEf>\\r\\n\\t\\t\\t\\t\\t<wf>맑음</wf>\\r\\n\\t\\t\\t\\t\\t<tmn>-4</tmn>\\r\\n\\t\\t\\t\\t\\t<tmx>5</tmx>\\r\\n\\t\\t\\t\\t\\t<reliability></reliability>\\r\\n\\t\\t\\t\\t\\t<rnSt>20</rnSt>\\r\\n\\t\\t\\t\\t</data>\\r\\n\\r\\n\\t\\t\\t\\t\\r\\n\\t\\t\\t\\t<data>\\r\\n\\t\\t\\t\\t\\t<mode>A02</mode>\\r\\n\\t\\t\\t\\t\\t<tmEf>2020-01-04 00:00</tmEf>\\r\\n\\t\\t\\t\\t\\t<wf>맑음</wf>\\r\\n\\t\\t\\t\\t\\t<tmn>-3</tmn>\\r\\n\\t\\t\\t\\t\\t<tmx>5</tmx>\\r\\n\\t\\t\\t\\t\\t<reliability></reliability>\\r\\n\\t\\t\\t\\t\\t<rnSt>10</rnSt>\\r\\n\\t\\t\\t\\t</data>\\r\\n\\r\\n\\t\\t\\t\\t\\r\\n\\t\\t\\t\\t<data>\\r\\n\\t\\t\\t\\t\\t<mode>A02</mode>\\r\\n\\t\\t\\t\\t\\t<tmEf>2020-01-04 12:00</tmEf>\\r\\n\\t\\t\\t\\t\\t<wf>맑음</wf>\\r\\n\\t\\t\\t\\t\\t<tmn>-3</tmn>\\r\\n\\t\\t\\t\\t\\t<tmx>5</tmx>\\r\\n\\t\\t\\t\\t\\t<reliability></reliability>\\r\\n\\t\\t\\t\\t\\t<rnSt>0</rnSt>\\r\\n\\t\\t\\t\\t</data>\\r\\n\\r\\n\\t\\t\\t\\t\\r\\n\\t\\t\\t\\t<data>\\r\\n\\t\\t\\t\\t\\t<mode>A02</mode>\\r\\n\\t\\t\\t\\t\\t<tmEf>2020-01-05 00:00</tmEf>\\r\\n\\t\\t\\t\\t\\t<wf>맑음</wf>\\r\\n\\t\\t\\t\\t\\t<tmn>-6</tmn>\\r\\n\\t\\t\\t\\t\\t<tmx>5</tmx>\\r\\n\\t\\t\\t\\t\\t<reliability></reliability>\\r\\n\\t\\t\\t\\t\\t<rnSt>0</rnSt>\\r\\n\\t\\t\\t\\t</data>\\r\\n\\r\\n\\t\\t\\t\\t\\r\\n\\t\\t\\t\\t<data>\\r\\n\\t\\t\\t\\t\\t<mode>A02</mode>\\r\\n\\t\\t\\t\\t\\t<tmEf>2020-01-05 12:00</tmEf>\\r\\n\\t\\t\\t\\t\\t<wf>구름많음</wf>\\r\\n\\t\\t\\t\\t\\t<tmn>-6</tmn>\\r\\n\\t\\t\\t\\t\\t<tmx>5</tmx>\\r\\n\\t\\t\\t\\t\\t<reliability></reliability>\\r\\n\\t\\t\\t\\t\\t<rnSt>30</rnSt>\\r\\n\\t\\t\\t\\t</data>\\r\\n\\r\\n\\t\\t\\t\\t\\r\\n\\t\\t\\t\\t<data>\\r\\n\\t\\t\\t\\t\\t<mode>A02</mode>\\r\\n\\t\\t\\t\\t\\t<tmEf>2020-01-06 00:00</tmEf>\\r\\n\\t\\t\\t\\t\\t<wf>구름많음</wf>\\r\\n\\t\\t\\t\\t\\t<tmn>-4</tmn>\\r\\n\\t\\t\\t\\t\\t<tmx>5</tmx>\\r\\n\\t\\t\\t\\t\\t<reliability></reliability>\\r\\n\\t\\t\\t\\t\\t<rnSt>30</rnSt>\\r\\n\\t\\t\\t\\t</data>\\r\\n\\r\\n\\t\\t\\t\\t\\r\\n\\t\\t\\t\\t<data>\\r\\n\\t\\t\\t\\t\\t<mode>A02</mode>\\r\\n\\t\\t\\t\\t\\t<tmEf>2020-01-06 12:00</tmEf>\\r\\n\\t\\t\\t\\t\\t<wf>흐리고 비</wf>\\r\\n\\t\\t\\t\\t\\t<tmn>-4</tmn>\\r\\n\\t\\t\\t\\t\\t<tmx>5</tmx>\\r\\n\\t\\t\\t\\t\\t<reliability></reliability>\\r\\n\\t\\t\\t\\t\\t<rnSt>60</rnSt>\\r\\n\\t\\t\\t\\t</data>\\r\\n\\r\\n\\t\\t\\t\\t\\r\\n\\t\\t\\t\\t<data>\\r\\n\\t\\t\\t\\t\\t<mode>A02</mode>\\r\\n\\t\\t\\t\\t\\t<tmEf>2020-01-07 00:00</tmEf>\\r\\n\\t\\t\\t\\t\\t<wf>흐리고 비</wf>\\r\\n\\t\\t\\t\\t\\t<tmn>-1</tmn>\\r\\n\\t\\t\\t\\t\\t<tmx>5</tmx>\\r\\n\\t\\t\\t\\t\\t<reliability></reliability>\\r\\n\\t\\t\\t\\t\\t<rnSt>70</rnSt>\\r\\n\\t\\t\\t\\t</data>\\r\\n\\r\\n\\t\\t\\t\\t\\r\\n\\t\\t\\t\\t<data>\\r\\n\\t\\t\\t\\t\\t<mode>A02</mode>\\r\\n\\t\\t\\t\\t\\t<tmEf>2020-01-07 12:00</tmEf>\\r\\n\\t\\t\\t\\t\\t<wf>흐리고 비</wf>\\r\\n\\t\\t\\t\\t\\t<tmn>-1</tmn>\\r\\n\\t\\t\\t\\t\\t<tmx>5</tmx>\\r\\n\\t\\t\\t\\t\\t<reliability></reliability>\\r\\n\\t\\t\\t\\t\\t<rnSt>70</rnSt>\\r\\n\\t\\t\\t\\t</data>\\r\\n\\r\\n\\t\\t\\t\\t\\r\\n\\t\\t\\t\\t<data>\\r\\n\\t\\t\\t\\t\\t<mode>A01</mode>\\r\\n\\t\\t\\t\\t\\t<tmEf>2020-01-08 00:00</tmEf>\\r\\n\\t\\t\\t\\t\\t<wf>흐리고 비</wf>\\r\\n\\t\\t\\t\\t\\t<tmn>0</tmn>\\r\\n\\t\\t\\t\\t\\t<tmx>5</tmx>\\r\\n\\t\\t\\t\\t\\t<reliability></reliability>\\r\\n\\t\\t\\t\\t\\t<rnSt>70</rnSt>\\r\\n\\t\\t\\t\\t</data>\\r\\n\\r\\n\\t\\t\\t\\t\\r\\n\\t\\t\\t\\t<data>\\r\\n\\t\\t\\t\\t\\t<mode>A01</mode>\\r\\n\\t\\t\\t\\t\\t<tmEf>2020-01-09 00:00</tmEf>\\r\\n\\t\\t\\t\\t\\t<wf>구름많음</wf>\\r\\n\\t\\t\\t\\t\\t<tmn>-3</tmn>\\r\\n\\t\\t\\t\\t\\t<tmx>4</tmx>\\r\\n\\t\\t\\t\\t\\t<reliability></reliability>\\r\\n\\t\\t\\t\\t\\t<rnSt>40</rnSt>\\r\\n\\t\\t\\t\\t</data>\\r\\n\\r\\n\\t\\t\\t\\t\\r\\n\\t\\t\\t\\t<data>\\r\\n\\t\\t\\t\\t\\t<mode>A01</mode>\\r\\n\\t\\t\\t\\t\\t<tmEf>2020-01-10 00:00</tmEf>\\r\\n\\t\\t\\t\\t\\t<wf>구름많음</wf>\\r\\n\\t\\t\\t\\t\\t<tmn>-3</tmn>\\r\\n\\t\\t\\t\\t\\t<tmx>5</tmx>\\r\\n\\t\\t\\t\\t\\t<reliability></reliability>\\r\\n\\t\\t\\t\\t\\t<rnSt>30</rnSt>\\r\\n\\t\\t\\t\\t</data>\\r\\n\\r\\n\\r\\n\\t\\t</location>\\r\\n\\r\\n\\t\\t<location wl_ver=\"3\">\\r\\n\\t\\t\\t\\t<province>충청북도</province>\\r\\n\\t\\t\\t\\t<city>영동</city>\\r\\n\\t\\t\\t\\t\\r\\n\\t\\t\\t\\t<data>\\r\\n\\t\\t\\t\\t\\t<mode>A02</mode>\\r\\n\\t\\t\\t\\t\\t<tmEf>2020-01-03 00:00</tmEf>\\r\\n\\t\\t\\t\\t\\t<wf>구름많음</wf>\\r\\n\\t\\t\\t\\t\\t<tmn>-4</tmn>\\r\\n\\t\\t\\t\\t\\t<tmx>8</tmx>\\r\\n\\t\\t\\t\\t\\t<reliability></reliability>\\r\\n\\t\\t\\t\\t\\t<rnSt>30</rnSt>\\r\\n\\t\\t\\t\\t</data>\\r\\n\\r\\n\\t\\t\\t\\t\\r\\n\\t\\t\\t\\t<data>\\r\\n\\t\\t\\t\\t\\t<mode>A02</mode>\\r\\n\\t\\t\\t\\t\\t<tmEf>2020-01-03 12:00</tmEf>\\r\\n\\t\\t\\t\\t\\t<wf>맑음</wf>\\r\\n\\t\\t\\t\\t\\t<tmn>-4</tmn>\\r\\n\\t\\t\\t\\t\\t<tmx>8</tmx>\\r\\n\\t\\t\\t\\t\\t<reliability></reliability>\\r\\n\\t\\t\\t\\t\\t<rnSt>20</rnSt>\\r\\n\\t\\t\\t\\t</data>\\r\\n\\r\\n\\t\\t\\t\\t\\r\\n\\t\\t\\t\\t<data>\\r\\n\\t\\t\\t\\t\\t<mode>A02</mode>\\r\\n\\t\\t\\t\\t\\t<tmEf>2020-01-04 00:00</tmEf>\\r\\n\\t\\t\\t\\t\\t<wf>맑음</wf>\\r\\n\\t\\t\\t\\t\\t<tmn>-2</tmn>\\r\\n\\t\\t\\t\\t\\t<tmx>8</tmx>\\r\\n\\t\\t\\t\\t\\t<reliability></reliability>\\r\\n\\t\\t\\t\\t\\t<rnSt>10</rnSt>\\r\\n\\t\\t\\t\\t</data>\\r\\n\\r\\n\\t\\t\\t\\t\\r\\n\\t\\t\\t\\t<data>\\r\\n\\t\\t\\t\\t\\t<mode>A02</mode>\\r\\n\\t\\t\\t\\t\\t<tmEf>2020-01-04 12:00</tmEf>\\r\\n\\t\\t\\t\\t\\t<wf>맑음</wf>\\r\\n\\t\\t\\t\\t\\t<tmn>-2</tmn>\\r\\n\\t\\t\\t\\t\\t<tmx>8</tmx>\\r\\n\\t\\t\\t\\t\\t<reliability></reliability>\\r\\n\\t\\t\\t\\t\\t<rnSt>0</rnSt>\\r\\n\\t\\t\\t\\t</data>\\r\\n\\r\\n\\t\\t\\t\\t\\r\\n\\t\\t\\t\\t<data>\\r\\n\\t\\t\\t\\t\\t<mode>A02</mode>\\r\\n\\t\\t\\t\\t\\t<tmEf>2020-01-05 00:00</tmEf>\\r\\n\\t\\t\\t\\t\\t<wf>맑음</wf>\\r\\n\\t\\t\\t\\t\\t<tmn>-7</tmn>\\r\\n\\t\\t\\t\\t\\t<tmx>7</tmx>\\r\\n\\t\\t\\t\\t\\t<reliability></reliability>\\r\\n\\t\\t\\t\\t\\t<rnSt>0</rnSt>\\r\\n\\t\\t\\t\\t</data>\\r\\n\\r\\n\\t\\t\\t\\t\\r\\n\\t\\t\\t\\t<data>\\r\\n\\t\\t\\t\\t\\t<mode>A02</mode>\\r\\n\\t\\t\\t\\t\\t<tmEf>2020-01-05 12:00</tmEf>\\r\\n\\t\\t\\t\\t\\t<wf>구름많음</wf>\\r\\n\\t\\t\\t\\t\\t<tmn>-7</tmn>\\r\\n\\t\\t\\t\\t\\t<tmx>7</tmx>\\r\\n\\t\\t\\t\\t\\t<reliability></reliability>\\r\\n\\t\\t\\t\\t\\t<rnSt>30</rnSt>\\r\\n\\t\\t\\t\\t</data>\\r\\n\\r\\n\\t\\t\\t\\t\\r\\n\\t\\t\\t\\t<data>\\r\\n\\t\\t\\t\\t\\t<mode>A02</mode>\\r\\n\\t\\t\\t\\t\\t<tmEf>2020-01-06 00:00</tmEf>\\r\\n\\t\\t\\t\\t\\t<wf>구름많음</wf>\\r\\n\\t\\t\\t\\t\\t<tmn>-3</tmn>\\r\\n\\t\\t\\t\\t\\t<tmx>7</tmx>\\r\\n\\t\\t\\t\\t\\t<reliability></reliability>\\r\\n\\t\\t\\t\\t\\t<rnSt>30</rnSt>\\r\\n\\t\\t\\t\\t</data>\\r\\n\\r\\n\\t\\t\\t\\t\\r\\n\\t\\t\\t\\t<data>\\r\\n\\t\\t\\t\\t\\t<mode>A02</mode>\\r\\n\\t\\t\\t\\t\\t<tmEf>2020-01-06 12:00</tmEf>\\r\\n\\t\\t\\t\\t\\t<wf>흐리고 비</wf>\\r\\n\\t\\t\\t\\t\\t<tmn>-3</tmn>\\r\\n\\t\\t\\t\\t\\t<tmx>7</tmx>\\r\\n\\t\\t\\t\\t\\t<reliability></reliability>\\r\\n\\t\\t\\t\\t\\t<rnSt>60</rnSt>\\r\\n\\t\\t\\t\\t</data>\\r\\n\\r\\n\\t\\t\\t\\t\\r\\n\\t\\t\\t\\t<data>\\r\\n\\t\\t\\t\\t\\t<mode>A02</mode>\\r\\n\\t\\t\\t\\t\\t<tmEf>2020-01-07 00:00</tmEf>\\r\\n\\t\\t\\t\\t\\t<wf>흐리고 비</wf>\\r\\n\\t\\t\\t\\t\\t<tmn>1</tmn>\\r\\n\\t\\t\\t\\t\\t<tmx>8</tmx>\\r\\n\\t\\t\\t\\t\\t<reliability></reliability>\\r\\n\\t\\t\\t\\t\\t<rnSt>70</rnSt>\\r\\n\\t\\t\\t\\t</data>\\r\\n\\r\\n\\t\\t\\t\\t\\r\\n\\t\\t\\t\\t<data>\\r\\n\\t\\t\\t\\t\\t<mode>A02</mode>\\r\\n\\t\\t\\t\\t\\t<tmEf>2020-01-07 12:00</tmEf>\\r\\n\\t\\t\\t\\t\\t<wf>흐리고 비</wf>\\r\\n\\t\\t\\t\\t\\t<tmn>1</tmn>\\r\\n\\t\\t\\t\\t\\t<tmx>8</tmx>\\r\\n\\t\\t\\t\\t\\t<reliability></reliability>\\r\\n\\t\\t\\t\\t\\t<rnSt>70</rnSt>\\r\\n\\t\\t\\t\\t</data>\\r\\n\\r\\n\\t\\t\\t\\t\\r\\n\\t\\t\\t\\t<data>\\r\\n\\t\\t\\t\\t\\t<mode>A01</mode>\\r\\n\\t\\t\\t\\t\\t<tmEf>2020-01-08 00:00</tmEf>\\r\\n\\t\\t\\t\\t\\t<wf>흐리고 비</wf>\\r\\n\\t\\t\\t\\t\\t<tmn>1</tmn>\\r\\n\\t\\t\\t\\t\\t<tmx>6</tmx>\\r\\n\\t\\t\\t\\t\\t<reliability></reliability>\\r\\n\\t\\t\\t\\t\\t<rnSt>70</rnSt>\\r\\n\\t\\t\\t\\t</data>\\r\\n\\r\\n\\t\\t\\t\\t\\r\\n\\t\\t\\t\\t<data>\\r\\n\\t\\t\\t\\t\\t<mode>A01</mode>\\r\\n\\t\\t\\t\\t\\t<tmEf>2020-01-09 00:00</tmEf>\\r\\n\\t\\t\\t\\t\\t<wf>구름많음</wf>\\r\\n\\t\\t\\t\\t\\t<tmn>-5</tmn>\\r\\n\\t\\t\\t\\t\\t<tmx>4</tmx>\\r\\n\\t\\t\\t\\t\\t<reliability></reliability>\\r\\n\\t\\t\\t\\t\\t<rnSt>40</rnSt>\\r\\n\\t\\t\\t\\t</data>\\r\\n\\r\\n\\t\\t\\t\\t\\r\\n\\t\\t\\t\\t<data>\\r\\n\\t\\t\\t\\t\\t<mode>A01</mode>\\r\\n\\t\\t\\t\\t\\t<tmEf>2020-01-10 00:00</tmEf>\\r\\n\\t\\t\\t\\t\\t<wf>구름많음</wf>\\r\\n\\t\\t\\t\\t\\t<tmn>-4</tmn>\\r\\n\\t\\t\\t\\t\\t<tmx>6</tmx>\\r\\n\\t\\t\\t\\t\\t<reliability></reliability>\\r\\n\\t\\t\\t\\t\\t<rnSt>30</rnSt>\\r\\n\\t\\t\\t\\t</data>\\r\\n\\r\\n\\r\\n\\t\\t</location>\\r\\n\\r\\n\\r\\n\\r\\n\\t\\t<location wl_ver=\"3\">\\r\\n\\t\\t\\t\\t<province>광주ㆍ전라남도</province>\\r\\n\\t\\t\\t\\t<city>광주</city>\\r\\n\\t\\t\\t\\t\\r\\n\\t\\t\\t\\t<data>\\r\\n\\t\\t\\t\\t\\t<mode>A02</mode>\\r\\n\\t\\t\\t\\t\\t<tmEf>2020-01-03 00:00</tmEf>\\r\\n\\t\\t\\t\\t\\t<wf>구름많음</wf>\\r\\n\\t\\t\\t\\t\\t<tmn>1</tmn>\\r\\n\\t\\t\\t\\t\\t<tmx>9</tmx>\\r\\n\\t\\t\\t\\t\\t<reliability></reliability>\\r\\n\\t\\t\\t\\t\\t<rnSt>30</rnSt>\\r\\n\\t\\t\\t\\t</data>\\r\\n\\r\\n\\t\\t\\t\\t\\r\\n\\t\\t\\t\\t<data>\\r\\n\\t\\t\\t\\t\\t<mode>A02</mode>\\r\\n\\t\\t\\t\\t\\t<tmEf>2020-01-03 12:00</tmEf>\\r\\n\\t\\t\\t\\t\\t<wf>구름많음</wf>\\r\\n\\t\\t\\t\\t\\t<tmn>1</tmn>\\r\\n\\t\\t\\t\\t\\t<tmx>9</tmx>\\r\\n\\t\\t\\t\\t\\t<reliability></reliability>\\r\\n\\t\\t\\t\\t\\t<rnSt>30</rnSt>\\r\\n\\t\\t\\t\\t</data>\\r\\n\\r\\n\\t\\t\\t\\t\\r\\n\\t\\t\\t\\t<data>\\r\\n\\t\\t\\t\\t\\t<mode>A02</mode>\\r\\n\\t\\t\\t\\t\\t<tmEf>2020-01-04 00:00</tmEf>\\r\\n\\t\\t\\t\\t\\t<wf>구름많음</wf>\\r\\n\\t\\t\\t\\t\\t<tmn>2</tmn>\\r\\n\\t\\t\\t\\t\\t<tmx>9</tmx>\\r\\n\\t\\t\\t\\t\\t<reliability></reliability>\\r\\n\\t\\t\\t\\t\\t<rnSt>30</rnSt>\\r\\n\\t\\t\\t\\t</data>\\r\\n\\r\\n\\t\\t\\t\\t\\r\\n\\t\\t\\t\\t<data>\\r\\n\\t\\t\\t\\t\\t<mode>A02</mode>\\r\\n\\t\\t\\t\\t\\t<tmEf>2020-01-04 12:00</tmEf>\\r\\n\\t\\t\\t\\t\\t<wf>맑음</wf>\\r\\n\\t\\t\\t\\t\\t<tmn>2</tmn>\\r\\n\\t\\t\\t\\t\\t<tmx>9</tmx>\\r\\n\\t\\t\\t\\t\\t<reliability></reliability>\\r\\n\\t\\t\\t\\t\\t<rnSt>0</rnSt>\\r\\n\\t\\t\\t\\t</data>\\r\\n\\r\\n\\t\\t\\t\\t\\r\\n\\t\\t\\t\\t<data>\\r\\n\\t\\t\\t\\t\\t<mode>A02</mode>\\r\\n\\t\\t\\t\\t\\t<tmEf>2020-01-05 00:00</tmEf>\\r\\n\\t\\t\\t\\t\\t<wf>맑음</wf>\\r\\n\\t\\t\\t\\t\\t<tmn>-1</tmn>\\r\\n\\t\\t\\t\\t\\t<tmx>9</tmx>\\r\\n\\t\\t\\t\\t\\t<reliability></reliability>\\r\\n\\t\\t\\t\\t\\t<rnSt>0</rnSt>\\r\\n\\t\\t\\t\\t</data>\\r\\n\\r\\n\\t\\t\\t\\t\\r\\n\\t\\t\\t\\t<data>\\r\\n\\t\\t\\t\\t\\t<mode>A02</mode>\\r\\n\\t\\t\\t\\t\\t<tmEf>2020-01-05 12:00</tmEf>\\r\\n\\t\\t\\t\\t\\t<wf>구름많음</wf>\\r\\n\\t\\t\\t\\t\\t<tmn>-1</tmn>\\r\\n\\t\\t\\t\\t\\t<tmx>9</tmx>\\r\\n\\t\\t\\t\\t\\t<reliability></reliability>\\r\\n\\t\\t\\t\\t\\t<rnSt>30</rnSt>\\r\\n\\t\\t\\t\\t</data>\\r\\n\\r\\n\\t\\t\\t\\t\\r\\n\\t\\t\\t\\t<data>\\r\\n\\t\\t\\t\\t\\t<mode>A02</mode>\\r\\n\\t\\t\\t\\t\\t<tmEf>2020-01-06 00:00</tmEf>\\r\\n\\t\\t\\t\\t\\t<wf>구름많음</wf>\\r\\n\\t\\t\\t\\t\\t<tmn>2</tmn>\\r\\n\\t\\t\\t\\t\\t<tmx>10</tmx>\\r\\n\\t\\t\\t\\t\\t<reliability></reliability>\\r\\n\\t\\t\\t\\t\\t<rnSt>30</rnSt>\\r\\n\\t\\t\\t\\t</data>\\r\\n\\r\\n\\t\\t\\t\\t\\r\\n\\t\\t\\t\\t<data>\\r\\n\\t\\t\\t\\t\\t<mode>A02</mode>\\r\\n\\t\\t\\t\\t\\t<tmEf>2020-01-06 12:00</tmEf>\\r\\n\\t\\t\\t\\t\\t<wf>흐리고 비</wf>\\r\\n\\t\\t\\t\\t\\t<tmn>2</tmn>\\r\\n\\t\\t\\t\\t\\t<tmx>10</tmx>\\r\\n\\t\\t\\t\\t\\t<reliability></reliability>\\r\\n\\t\\t\\t\\t\\t<rnSt>80</rnSt>\\r\\n\\t\\t\\t\\t</data>\\r\\n\\r\\n\\t\\t\\t\\t\\r\\n\\t\\t\\t\\t<data>\\r\\n\\t\\t\\t\\t\\t<mode>A02</mode>\\r\\n\\t\\t\\t\\t\\t<tmEf>2020-01-07 00:00</tmEf>\\r\\n\\t\\t\\t\\t\\t<wf>흐리고 비</wf>\\r\\n\\t\\t\\t\\t\\t<tmn>6</tmn>\\r\\n\\t\\t\\t\\t\\t<tmx>12</tmx>\\r\\n\\t\\t\\t\\t\\t<reliability></reliability>\\r\\n\\t\\t\\t\\t\\t<rnSt>80</rnSt>\\r\\n\\t\\t\\t\\t</data>\\r\\n\\r\\n\\t\\t\\t\\t\\r\\n\\t\\t\\t\\t<data>\\r\\n\\t\\t\\t\\t\\t<mode>A02</mode>\\r\\n\\t\\t\\t\\t\\t<tmEf>2020-01-07 12:00</tmEf>\\r\\n\\t\\t\\t\\t\\t<wf>흐리고 비</wf>\\r\\n\\t\\t\\t\\t\\t<tmn>6</tmn>\\r\\n\\t\\t\\t\\t\\t<tmx>12</tmx>\\r\\n\\t\\t\\t\\t\\t<reliability></reliability>\\r\\n\\t\\t\\t\\t\\t<rnSt>80</rnSt>\\r\\n\\t\\t\\t\\t</data>\\r\\n\\r\\n\\t\\t\\t\\t\\r\\n\\t\\t\\t\\t<data>\\r\\n\\t\\t\\t\\t\\t<mode>A01</mode>\\r\\n\\t\\t\\t\\t\\t<tmEf>2020-01-08 00:00</tmEf>\\r\\n\\t\\t\\t\\t\\t<wf>흐리고 비</wf>\\r\\n\\t\\t\\t\\t\\t<tmn>6</tmn>\\r\\n\\t\\t\\t\\t\\t<tmx>9</tmx>\\r\\n\\t\\t\\t\\t\\t<reliability></reliability>\\r\\n\\t\\t\\t\\t\\t<rnSt>70</rnSt>\\r\\n\\t\\t\\t\\t</data>\\r\\n\\r\\n\\t\\t\\t\\t\\r\\n\\t\\t\\t\\t<data>\\r\\n\\t\\t\\t\\t\\t<mode>A01</mode>\\r\\n\\t\\t\\t\\t\\t<tmEf>2020-01-09 00:00</tmEf>\\r\\n\\t\\t\\t\\t\\t<wf>구름많음</wf>\\r\\n\\t\\t\\t\\t\\t<tmn>1</tmn>\\r\\n\\t\\t\\t\\t\\t<tmx>7</tmx>\\r\\n\\t\\t\\t\\t\\t<reliability></reliability>\\r\\n\\t\\t\\t\\t\\t<rnSt>40</rnSt>\\r\\n\\t\\t\\t\\t</data>\\r\\n\\r\\n\\t\\t\\t\\t\\r\\n\\t\\t\\t\\t<data>\\r\\n\\t\\t\\t\\t\\t<mode>A01</mode>\\r\\n\\t\\t\\t\\t\\t<tmEf>2020-01-10 00:00</tmEf>\\r\\n\\t\\t\\t\\t\\t<wf>구름많음</wf>\\r\\n\\t\\t\\t\\t\\t<tmn>1</tmn>\\r\\n\\t\\t\\t\\t\\t<tmx>9</tmx>\\r\\n\\t\\t\\t\\t\\t<reliability></reliability>\\r\\n\\t\\t\\t\\t\\t<rnSt>30</rnSt>\\r\\n\\t\\t\\t\\t</data>\\r\\n\\r\\n\\r\\n\\t\\t</location>\\r\\n\\r\\n\\t\\t<location wl_ver=\"3\">\\r\\n\\t\\t\\t\\t<province>광주ㆍ전라남도</province>\\r\\n\\t\\t\\t\\t<city>목포</city>\\r\\n\\t\\t\\t\\t\\r\\n\\t\\t\\t\\t<data>\\r\\n\\t\\t\\t\\t\\t<mode>A02</mode>\\r\\n\\t\\t\\t\\t\\t<tmEf>2020-01-03 00:00</tmEf>\\r\\n\\t\\t\\t\\t\\t<wf>구름많음</wf>\\r\\n\\t\\t\\t\\t\\t<tmn>3</tmn>\\r\\n\\t\\t\\t\\t\\t<tmx>8</tmx>\\r\\n\\t\\t\\t\\t\\t<reliability></reliability>\\r\\n\\t\\t\\t\\t\\t<rnSt>30</rnSt>\\r\\n\\t\\t\\t\\t</data>\\r\\n\\r\\n\\t\\t\\t\\t\\r\\n\\t\\t\\t\\t<data>\\r\\n\\t\\t\\t\\t\\t<mode>A02</mode>\\r\\n\\t\\t\\t\\t\\t<tmEf>2020-01-03 12:00</tmEf>\\r\\n\\t\\t\\t\\t\\t<wf>구름많음</wf>\\r\\n\\t\\t\\t\\t\\t<tmn>3</tmn>\\r\\n\\t\\t\\t\\t\\t<tmx>8</tmx>\\r\\n\\t\\t\\t\\t\\t<reliability></reliability>\\r\\n\\t\\t\\t\\t\\t<rnSt>30</rnSt>\\r\\n\\t\\t\\t\\t</data>\\r\\n\\r\\n\\t\\t\\t\\t\\r\\n\\t\\t\\t\\t<data>\\r\\n\\t\\t\\t\\t\\t<mode>A02</mode>\\r\\n\\t\\t\\t\\t\\t<tmEf>2020-01-04 00:00</tmEf>\\r\\n\\t\\t\\t\\t\\t<wf>구름많음</wf>\\r\\n\\t\\t\\t\\t\\t<tmn>4</tmn>\\r\\n\\t\\t\\t\\t\\t<tmx>8</tmx>\\r\\n\\t\\t\\t\\t\\t<reliability></reliability>\\r\\n\\t\\t\\t\\t\\t<rnSt>30</rnSt>\\r\\n\\t\\t\\t\\t</data>\\r\\n\\r\\n\\t\\t\\t\\t\\r\\n\\t\\t\\t\\t<data>\\r\\n\\t\\t\\t\\t\\t<mode>A02</mode>\\r\\n\\t\\t\\t\\t\\t<tmEf>2020-01-04 12:00</tmEf>\\r\\n\\t\\t\\t\\t\\t<wf>맑음</wf>\\r\\n\\t\\t\\t\\t\\t<tmn>4</tmn>\\r\\n\\t\\t\\t\\t\\t<tmx>8</tmx>\\r\\n\\t\\t\\t\\t\\t<reliability></reliability>\\r\\n\\t\\t\\t\\t\\t<rnSt>0</rnSt>\\r\\n\\t\\t\\t\\t</data>\\r\\n\\r\\n\\t\\t\\t\\t\\r\\n\\t\\t\\t\\t<data>\\r\\n\\t\\t\\t\\t\\t<mode>A02</mode>\\r\\n\\t\\t\\t\\t\\t<tmEf>2020-01-05 00:00</tmEf>\\r\\n\\t\\t\\t\\t\\t<wf>맑음</wf>\\r\\n\\t\\t\\t\\t\\t<tmn>0</tmn>\\r\\n\\t\\t\\t\\t\\t<tmx>7</tmx>\\r\\n\\t\\t\\t\\t\\t<reliability></reliability>\\r\\n\\t\\t\\t\\t\\t<rnSt>0</rnSt>\\r\\n\\t\\t\\t\\t</data>\\r\\n\\r\\n\\t\\t\\t\\t\\r\\n\\t\\t\\t\\t<data>\\r\\n\\t\\t\\t\\t\\t<mode>A02</mode>\\r\\n\\t\\t\\t\\t\\t<tmEf>2020-01-05 12:00</tmEf>\\r\\n\\t\\t\\t\\t\\t<wf>구름많음</wf>\\r\\n\\t\\t\\t\\t\\t<tmn>0</tmn>\\r\\n\\t\\t\\t\\t\\t<tmx>7</tmx>\\r\\n\\t\\t\\t\\t\\t<reliability></reliability>\\r\\n\\t\\t\\t\\t\\t<rnSt>30</rnSt>\\r\\n\\t\\t\\t\\t</data>\\r\\n\\r\\n\\t\\t\\t\\t\\r\\n\\t\\t\\t\\t<data>\\r\\n\\t\\t\\t\\t\\t<mode>A02</mode>\\r\\n\\t\\t\\t\\t\\t<tmEf>2020-01-06 00:00</tmEf>\\r\\n\\t\\t\\t\\t\\t<wf>구름많음</wf>\\r\\n\\t\\t\\t\\t\\t<tmn>3</tmn>\\r\\n\\t\\t\\t\\t\\t<tmx>8</tmx>\\r\\n\\t\\t\\t\\t\\t<reliability></reliability>\\r\\n\\t\\t\\t\\t\\t<rnSt>30</rnSt>\\r\\n\\t\\t\\t\\t</data>\\r\\n\\r\\n\\t\\t\\t\\t\\r\\n\\t\\t\\t\\t<data>\\r\\n\\t\\t\\t\\t\\t<mode>A02</mode>\\r\\n\\t\\t\\t\\t\\t<tmEf>2020-01-06 12:00</tmEf>\\r\\n\\t\\t\\t\\t\\t<wf>흐리고 비</wf>\\r\\n\\t\\t\\t\\t\\t<tmn>3</tmn>\\r\\n\\t\\t\\t\\t\\t<tmx>8</tmx>\\r\\n\\t\\t\\t\\t\\t<reliability></reliability>\\r\\n\\t\\t\\t\\t\\t<rnSt>80</rnSt>\\r\\n\\t\\t\\t\\t</data>\\r\\n\\r\\n\\t\\t\\t\\t\\r\\n\\t\\t\\t\\t<data>\\r\\n\\t\\t\\t\\t\\t<mode>A02</mode>\\r\\n\\t\\t\\t\\t\\t<tmEf>2020-01-07 00:00</tmEf>\\r\\n\\t\\t\\t\\t\\t<wf>흐리고 비</wf>\\r\\n\\t\\t\\t\\t\\t<tmn>6</tmn>\\r\\n\\t\\t\\t\\t\\t<tmx>9</tmx>\\r\\n\\t\\t\\t\\t\\t<reliability></reliability>\\r\\n\\t\\t\\t\\t\\t<rnSt>80</rnSt>\\r\\n\\t\\t\\t\\t</data>\\r\\n\\r\\n\\t\\t\\t\\t\\r\\n\\t\\t\\t\\t<data>\\r\\n\\t\\t\\t\\t\\t<mode>A02</mode>\\r\\n\\t\\t\\t\\t\\t<tmEf>2020-01-07 12:00</tmEf>\\r\\n\\t\\t\\t\\t\\t<wf>흐리고 비</wf>\\r\\n\\t\\t\\t\\t\\t<tmn>6</tmn>\\r\\n\\t\\t\\t\\t\\t<tmx>9</tmx>\\r\\n\\t\\t\\t\\t\\t<reliability></reliability>\\r\\n\\t\\t\\t\\t\\t<rnSt>80</rnSt>\\r\\n\\t\\t\\t\\t</data>\\r\\n\\r\\n\\t\\t\\t\\t\\r\\n\\t\\t\\t\\t<data>\\r\\n\\t\\t\\t\\t\\t<mode>A01</mode>\\r\\n\\t\\t\\t\\t\\t<tmEf>2020-01-08 00:00</tmEf>\\r\\n\\t\\t\\t\\t\\t<wf>흐리고 비</wf>\\r\\n\\t\\t\\t\\t\\t<tmn>5</tmn>\\r\\n\\t\\t\\t\\t\\t<tmx>8</tmx>\\r\\n\\t\\t\\t\\t\\t<reliability></reliability>\\r\\n\\t\\t\\t\\t\\t<rnSt>70</rnSt>\\r\\n\\t\\t\\t\\t</data>\\r\\n\\r\\n\\t\\t\\t\\t\\r\\n\\t\\t\\t\\t<data>\\r\\n\\t\\t\\t\\t\\t<mode>A01</mode>\\r\\n\\t\\t\\t\\t\\t<tmEf>2020-01-09 00:00</tmEf>\\r\\n\\t\\t\\t\\t\\t<wf>구름많음</wf>\\r\\n\\t\\t\\t\\t\\t<tmn>2</tmn>\\r\\n\\t\\t\\t\\t\\t<tmx>6</tmx>\\r\\n\\t\\t\\t\\t\\t<reliability></reliability>\\r\\n\\t\\t\\t\\t\\t<rnSt>40</rnSt>\\r\\n\\t\\t\\t\\t</data>\\r\\n\\r\\n\\t\\t\\t\\t\\r\\n\\t\\t\\t\\t<data>\\r\\n\\t\\t\\t\\t\\t<mode>A01</mode>\\r\\n\\t\\t\\t\\t\\t<tmEf>2020-01-10 00:00</tmEf>\\r\\n\\t\\t\\t\\t\\t<wf>구름많음</wf>\\r\\n\\t\\t\\t\\t\\t<tmn>2</tmn>\\r\\n\\t\\t\\t\\t\\t<tmx>7</tmx>\\r\\n\\t\\t\\t\\t\\t<reliability></reliability>\\r\\n\\t\\t\\t\\t\\t<rnSt>30</rnSt>\\r\\n\\t\\t\\t\\t</data>\\r\\n\\r\\n\\r\\n\\t\\t</location>\\r\\n\\r\\n\\t\\t<location wl_ver=\"3\">\\r\\n\\t\\t\\t\\t<province>광주ㆍ전라남도</province>\\r\\n\\t\\t\\t\\t<city>여수</city>\\r\\n\\t\\t\\t\\t\\r\\n\\t\\t\\t\\t<data>\\r\\n\\t\\t\\t\\t\\t<mode>A02</mode>\\r\\n\\t\\t\\t\\t\\t<tmEf>2020-01-03 00:00</tmEf>\\r\\n\\t\\t\\t\\t\\t<wf>구름많음</wf>\\r\\n\\t\\t\\t\\t\\t<tmn>3</tmn>\\r\\n\\t\\t\\t\\t\\t<tmx>10</tmx>\\r\\n\\t\\t\\t\\t\\t<reliability></reliability>\\r\\n\\t\\t\\t\\t\\t<rnSt>30</rnSt>\\r\\n\\t\\t\\t\\t</data>\\r\\n\\r\\n\\t\\t\\t\\t\\r\\n\\t\\t\\t\\t<data>\\r\\n\\t\\t\\t\\t\\t<mode>A02</mode>\\r\\n\\t\\t\\t\\t\\t<tmEf>2020-01-03 12:00</tmEf>\\r\\n\\t\\t\\t\\t\\t<wf>구름많음</wf>\\r\\n\\t\\t\\t\\t\\t<tmn>3</tmn>\\r\\n\\t\\t\\t\\t\\t<tmx>10</tmx>\\r\\n\\t\\t\\t\\t\\t<reliability></reliability>\\r\\n\\t\\t\\t\\t\\t<rnSt>30</rnSt>\\r\\n\\t\\t\\t\\t</data>\\r\\n\\r\\n\\t\\t\\t\\t\\r\\n\\t\\t\\t\\t<data>\\r\\n\\t\\t\\t\\t\\t<mode>A02</mode>\\r\\n\\t\\t\\t\\t\\t<tmEf>2020-01-04 00:00</tmEf>\\r\\n\\t\\t\\t\\t\\t<wf>구름많음</wf>\\r\\n\\t\\t\\t\\t\\t<tmn>4</tmn>\\r\\n\\t\\t\\t\\t\\t<tmx>10</tmx>\\r\\n\\t\\t\\t\\t\\t<reliability></reliability>\\r\\n\\t\\t\\t\\t\\t<rnSt>30</rnSt>\\r\\n\\t\\t\\t\\t</data>\\r\\n\\r\\n\\t\\t\\t\\t\\r\\n\\t\\t\\t\\t<data>\\r\\n\\t\\t\\t\\t\\t<mode>A02</mode>\\r\\n\\t\\t\\t\\t\\t<tmEf>2020-01-04 12:00</tmEf>\\r\\n\\t\\t\\t\\t\\t<wf>맑음</wf>\\r\\n\\t\\t\\t\\t\\t<tmn>4</tmn>\\r\\n\\t\\t\\t\\t\\t<tmx>10</tmx>\\r\\n\\t\\t\\t\\t\\t<reliability></reliability>\\r\\n\\t\\t\\t\\t\\t<rnSt>0</rnSt>\\r\\n\\t\\t\\t\\t</data>\\r\\n\\r\\n\\t\\t\\t\\t\\r\\n\\t\\t\\t\\t<data>\\r\\n\\t\\t\\t\\t\\t<mode>A02</mode>\\r\\n\\t\\t\\t\\t\\t<tmEf>2020-01-05 00:00</tmEf>\\r\\n\\t\\t\\t\\t\\t<wf>맑음</wf>\\r\\n\\t\\t\\t\\t\\t<tmn>2</tmn>\\r\\n\\t\\t\\t\\t\\t<tmx>9</tmx>\\r\\n\\t\\t\\t\\t\\t<reliability></reliability>\\r\\n\\t\\t\\t\\t\\t<rnSt>0</rnSt>\\r\\n\\t\\t\\t\\t</data>\\r\\n\\r\\n\\t\\t\\t\\t\\r\\n\\t\\t\\t\\t<data>\\r\\n\\t\\t\\t\\t\\t<mode>A02</mode>\\r\\n\\t\\t\\t\\t\\t<tmEf>2020-01-05 12:00</tmEf>\\r\\n\\t\\t\\t\\t\\t<wf>구름많음</wf>\\r\\n\\t\\t\\t\\t\\t<tmn>2</tmn>\\r\\n\\t\\t\\t\\t\\t<tmx>9</tmx>\\r\\n\\t\\t\\t\\t\\t<reliability></reliability>\\r\\n\\t\\t\\t\\t\\t<rnSt>30</rnSt>\\r\\n\\t\\t\\t\\t</data>\\r\\n\\r\\n\\t\\t\\t\\t\\r\\n\\t\\t\\t\\t<data>\\r\\n\\t\\t\\t\\t\\t<mode>A02</mode>\\r\\n\\t\\t\\t\\t\\t<tmEf>2020-01-06 00:00</tmEf>\\r\\n\\t\\t\\t\\t\\t<wf>구름많음</wf>\\r\\n\\t\\t\\t\\t\\t<tmn>4</tmn>\\r\\n\\t\\t\\t\\t\\t<tmx>9</tmx>\\r\\n\\t\\t\\t\\t\\t<reliability></reliability>\\r\\n\\t\\t\\t\\t\\t<rnSt>30</rnSt>\\r\\n\\t\\t\\t\\t</data>\\r\\n\\r\\n\\t\\t\\t\\t\\r\\n\\t\\t\\t\\t<data>\\r\\n\\t\\t\\t\\t\\t<mode>A02</mode>\\r\\n\\t\\t\\t\\t\\t<tmEf>2020-01-06 12:00</tmEf>\\r\\n\\t\\t\\t\\t\\t<wf>흐리고 비</wf>\\r\\n\\t\\t\\t\\t\\t<tmn>4</tmn>\\r\\n\\t\\t\\t\\t\\t<tmx>9</tmx>\\r\\n\\t\\t\\t\\t\\t<reliability></reliability>\\r\\n\\t\\t\\t\\t\\t<rnSt>80</rnSt>\\r\\n\\t\\t\\t\\t</data>\\r\\n\\r\\n\\t\\t\\t\\t\\r\\n\\t\\t\\t\\t<data>\\r\\n\\t\\t\\t\\t\\t<mode>A02</mode>\\r\\n\\t\\t\\t\\t\\t<tmEf>2020-01-07 00:00</tmEf>\\r\\n\\t\\t\\t\\t\\t<wf>흐리고 비</wf>\\r\\n\\t\\t\\t\\t\\t<tmn>7</tmn>\\r\\n\\t\\t\\t\\t\\t<tmx>11</tmx>\\r\\n\\t\\t\\t\\t\\t<reliability></reliability>\\r\\n\\t\\t\\t\\t\\t<rnSt>80</rnSt>\\r\\n\\t\\t\\t\\t</data>\\r\\n\\r\\n\\t\\t\\t\\t\\r\\n\\t\\t\\t\\t<data>\\r\\n\\t\\t\\t\\t\\t<mode>A02</mode>\\r\\n\\t\\t\\t\\t\\t<tmEf>2020-01-07 12:00</tmEf>\\r\\n\\t\\t\\t\\t\\t<wf>흐리고 비</wf>\\r\\n\\t\\t\\t\\t\\t<tmn>7</tmn>\\r\\n\\t\\t\\t\\t\\t<tmx>11</tmx>\\r\\n\\t\\t\\t\\t\\t<reliability></reliability>\\r\\n\\t\\t\\t\\t\\t<rnSt>80</rnSt>\\r\\n\\t\\t\\t\\t</data>\\r\\n\\r\\n\\t\\t\\t\\t\\r\\n\\t\\t\\t\\t<data>\\r\\n\\t\\t\\t\\t\\t<mode>A01</mode>\\r\\n\\t\\t\\t\\t\\t<tmEf>2020-01-08 00:00</tmEf>\\r\\n\\t\\t\\t\\t\\t<wf>흐리고 비</wf>\\r\\n\\t\\t\\t\\t\\t<tmn>7</tmn>\\r\\n\\t\\t\\t\\t\\t<tmx>9</tmx>\\r\\n\\t\\t\\t\\t\\t<reliability></reliability>\\r\\n\\t\\t\\t\\t\\t<rnSt>70</rnSt>\\r\\n\\t\\t\\t\\t</data>\\r\\n\\r\\n\\t\\t\\t\\t\\r\\n\\t\\t\\t\\t<data>\\r\\n\\t\\t\\t\\t\\t<mode>A01</mode>\\r\\n\\t\\t\\t\\t\\t<tmEf>2020-01-09 00:00</tmEf>\\r\\n\\t\\t\\t\\t\\t<wf>구름많음</wf>\\r\\n\\t\\t\\t\\t\\t<tmn>3</tmn>\\r\\n\\t\\t\\t\\t\\t<tmx>8</tmx>\\r\\n\\t\\t\\t\\t\\t<reliability></reliability>\\r\\n\\t\\t\\t\\t\\t<rnSt>40</rnSt>\\r\\n\\t\\t\\t\\t</data>\\r\\n\\r\\n\\t\\t\\t\\t\\r\\n\\t\\t\\t\\t<data>\\r\\n\\t\\t\\t\\t\\t<mode>A01</mode>\\r\\n\\t\\t\\t\\t\\t<tmEf>2020-01-10 00:00</tmEf>\\r\\n\\t\\t\\t\\t\\t<wf>구름많음</wf>\\r\\n\\t\\t\\t\\t\\t<tmn>3</tmn>\\r\\n\\t\\t\\t\\t\\t<tmx>9</tmx>\\r\\n\\t\\t\\t\\t\\t<reliability></reliability>\\r\\n\\t\\t\\t\\t\\t<rnSt>30</rnSt>\\r\\n\\t\\t\\t\\t</data>\\r\\n\\r\\n\\r\\n\\t\\t</location>\\r\\n\\r\\n\\t\\t<location wl_ver=\"3\">\\r\\n\\t\\t\\t\\t<province>광주ㆍ전라남도</province>\\r\\n\\t\\t\\t\\t<city>순천</city>\\r\\n\\t\\t\\t\\t\\r\\n\\t\\t\\t\\t<data>\\r\\n\\t\\t\\t\\t\\t<mode>A02</mode>\\r\\n\\t\\t\\t\\t\\t<tmEf>2020-01-03 00:00</tmEf>\\r\\n\\t\\t\\t\\t\\t<wf>구름많음</wf>\\r\\n\\t\\t\\t\\t\\t<tmn>1</tmn>\\r\\n\\t\\t\\t\\t\\t<tmx>10</tmx>\\r\\n\\t\\t\\t\\t\\t<reliability></reliability>\\r\\n\\t\\t\\t\\t\\t<rnSt>30</rnSt>\\r\\n\\t\\t\\t\\t</data>\\r\\n\\r\\n\\t\\t\\t\\t\\r\\n\\t\\t\\t\\t<data>\\r\\n\\t\\t\\t\\t\\t<mode>A02</mode>\\r\\n\\t\\t\\t\\t\\t<tmEf>2020-01-03 12:00</tmEf>\\r\\n\\t\\t\\t\\t\\t<wf>구름많음</wf>\\r\\n\\t\\t\\t\\t\\t<tmn>1</tmn>\\r\\n\\t\\t\\t\\t\\t<tmx>10</tmx>\\r\\n\\t\\t\\t\\t\\t<reliability></reliability>\\r\\n\\t\\t\\t\\t\\t<rnSt>30</rnSt>\\r\\n\\t\\t\\t\\t</data>\\r\\n\\r\\n\\t\\t\\t\\t\\r\\n\\t\\t\\t\\t<data>\\r\\n\\t\\t\\t\\t\\t<mode>A02</mode>\\r\\n\\t\\t\\t\\t\\t<tmEf>2020-01-04 00:00</tmEf>\\r\\n\\t\\t\\t\\t\\t<wf>구름많음</wf>\\r\\n\\t\\t\\t\\t\\t<tmn>3</tmn>\\r\\n\\t\\t\\t\\t\\t<tmx>11</tmx>\\r\\n\\t\\t\\t\\t\\t<reliability></reliability>\\r\\n\\t\\t\\t\\t\\t<rnSt>30</rnSt>\\r\\n\\t\\t\\t\\t</data>\\r\\n\\r\\n\\t\\t\\t\\t\\r\\n\\t\\t\\t\\t<data>\\r\\n\\t\\t\\t\\t\\t<mode>A02</mode>\\r\\n\\t\\t\\t\\t\\t<tmEf>2020-01-04 12:00</tmEf>\\r\\n\\t\\t\\t\\t\\t<wf>맑음</wf>\\r\\n\\t\\t\\t\\t\\t<tmn>3</tmn>\\r\\n\\t\\t\\t\\t\\t<tmx>11</tmx>\\r\\n\\t\\t\\t\\t\\t<reliability></reliability>\\r\\n\\t\\t\\t\\t\\t<rnSt>0</rnSt>\\r\\n\\t\\t\\t\\t</data>\\r\\n\\r\\n\\t\\t\\t\\t\\r\\n\\t\\t\\t\\t<data>\\r\\n\\t\\t\\t\\t\\t<mode>A02</mode>\\r\\n\\t\\t\\t\\t\\t<tmEf>2020-01-05 00:00</tmEf>\\r\\n\\t\\t\\t\\t\\t<wf>맑음</wf>\\r\\n\\t\\t\\t\\t\\t<tmn>0</tmn>\\r\\n\\t\\t\\t\\t\\t<tmx>10</tmx>\\r\\n\\t\\t\\t\\t\\t<reliability></reliability>\\r\\n\\t\\t\\t\\t\\t<rnSt>0</rnSt>\\r\\n\\t\\t\\t\\t</data>\\r\\n\\r\\n\\t\\t\\t\\t\\r\\n\\t\\t\\t\\t<data>\\r\\n\\t\\t\\t\\t\\t<mode>A02</mode>\\r\\n\\t\\t\\t\\t\\t<tmEf>2020-01-05 12:00</tmEf>\\r\\n\\t\\t\\t\\t\\t<wf>구름많음</wf>\\r\\n\\t\\t\\t\\t\\t<tmn>0</tmn>\\r\\n\\t\\t\\t\\t\\t<tmx>10</tmx>\\r\\n\\t\\t\\t\\t\\t<reliability></reliability>\\r\\n\\t\\t\\t\\t\\t<rnSt>30</rnSt>\\r\\n\\t\\t\\t\\t</data>\\r\\n\\r\\n\\t\\t\\t\\t\\r\\n\\t\\t\\t\\t<data>\\r\\n\\t\\t\\t\\t\\t<mode>A02</mode>\\r\\n\\t\\t\\t\\t\\t<tmEf>2020-01-06 00:00</tmEf>\\r\\n\\t\\t\\t\\t\\t<wf>구름많음</wf>\\r\\n\\t\\t\\t\\t\\t<tmn>1</tmn>\\r\\n\\t\\t\\t\\t\\t<tmx>10</tmx>\\r\\n\\t\\t\\t\\t\\t<reliability></reliability>\\r\\n\\t\\t\\t\\t\\t<rnSt>30</rnSt>\\r\\n\\t\\t\\t\\t</data>\\r\\n\\r\\n\\t\\t\\t\\t\\r\\n\\t\\t\\t\\t<data>\\r\\n\\t\\t\\t\\t\\t<mode>A02</mode>\\r\\n\\t\\t\\t\\t\\t<tmEf>2020-01-06 12:00</tmEf>\\r\\n\\t\\t\\t\\t\\t<wf>흐리고 비</wf>\\r\\n\\t\\t\\t\\t\\t<tmn>1</tmn>\\r\\n\\t\\t\\t\\t\\t<tmx>10</tmx>\\r\\n\\t\\t\\t\\t\\t<reliability></reliability>\\r\\n\\t\\t\\t\\t\\t<rnSt>80</rnSt>\\r\\n\\t\\t\\t\\t</data>\\r\\n\\r\\n\\t\\t\\t\\t\\r\\n\\t\\t\\t\\t<data>\\r\\n\\t\\t\\t\\t\\t<mode>A02</mode>\\r\\n\\t\\t\\t\\t\\t<tmEf>2020-01-07 00:00</tmEf>\\r\\n\\t\\t\\t\\t\\t<wf>흐리고 비</wf>\\r\\n\\t\\t\\t\\t\\t<tmn>5</tmn>\\r\\n\\t\\t\\t\\t\\t<tmx>13</tmx>\\r\\n\\t\\t\\t\\t\\t<reliability></reliability>\\r\\n\\t\\t\\t\\t\\t<rnSt>80</rnSt>\\r\\n\\t\\t\\t\\t</data>\\r\\n\\r\\n\\t\\t\\t\\t\\r\\n\\t\\t\\t\\t<data>\\r\\n\\t\\t\\t\\t\\t<mode>A02</mode>\\r\\n\\t\\t\\t\\t\\t<tmEf>2020-01-07 12:00</tmEf>\\r\\n\\t\\t\\t\\t\\t<wf>흐리고 비</wf>\\r\\n\\t\\t\\t\\t\\t<tmn>5</tmn>\\r\\n\\t\\t\\t\\t\\t<tmx>13</tmx>\\r\\n\\t\\t\\t\\t\\t<reliability></reliability>\\r\\n\\t\\t\\t\\t\\t<rnSt>80</rnSt>\\r\\n\\t\\t\\t\\t</data>\\r\\n\\r\\n\\t\\t\\t\\t\\r\\n\\t\\t\\t\\t<data>\\r\\n\\t\\t\\t\\t\\t<mode>A01</mode>\\r\\n\\t\\t\\t\\t\\t<tmEf>2020-01-08 00:00</tmEf>\\r\\n\\t\\t\\t\\t\\t<wf>흐리고 비</wf>\\r\\n\\t\\t\\t\\t\\t<tmn>6</tmn>\\r\\n\\t\\t\\t\\t\\t<tmx>8</tmx>\\r\\n\\t\\t\\t\\t\\t<reliability></reliability>\\r\\n\\t\\t\\t\\t\\t<rnSt>70</rnSt>\\r\\n\\t\\t\\t\\t</data>\\r\\n\\r\\n\\t\\t\\t\\t\\r\\n\\t\\t\\t\\t<data>\\r\\n\\t\\t\\t\\t\\t<mode>A01</mode>\\r\\n\\t\\t\\t\\t\\t<tmEf>2020-01-09 00:00</tmEf>\\r\\n\\t\\t\\t\\t\\t<wf>구름많음</wf>\\r\\n\\t\\t\\t\\t\\t<tmn>0</tmn>\\r\\n\\t\\t\\t\\t\\t<tmx>6</tmx>\\r\\n\\t\\t\\t\\t\\t<reliability></reliability>\\r\\n\\t\\t\\t\\t\\t<rnSt>40</rnSt>\\r\\n\\t\\t\\t\\t</data>\\r\\n\\r\\n\\t\\t\\t\\t\\r\\n\\t\\t\\t\\t<data>\\r\\n\\t\\t\\t\\t\\t<mode>A01</mode>\\r\\n\\t\\t\\t\\t\\t<tmEf>2020-01-10 00:00</tmEf>\\r\\n\\t\\t\\t\\t\\t<wf>구름많음</wf>\\r\\n\\t\\t\\t\\t\\t<tmn>0</tmn>\\r\\n\\t\\t\\t\\t\\t<tmx>9</tmx>\\r\\n\\t\\t\\t\\t\\t<reliability></reliability>\\r\\n\\t\\t\\t\\t\\t<rnSt>30</rnSt>\\r\\n\\t\\t\\t\\t</data>\\r\\n\\r\\n\\r\\n\\t\\t</location>\\r\\n\\r\\n\\t\\t<location wl_ver=\"3\">\\r\\n\\t\\t\\t\\t<province>광주ㆍ전라남도</province>\\r\\n\\t\\t\\t\\t<city>광양</city>\\r\\n\\t\\t\\t\\t\\r\\n\\t\\t\\t\\t<data>\\r\\n\\t\\t\\t\\t\\t<mode>A02</mode>\\r\\n\\t\\t\\t\\t\\t<tmEf>2020-01-03 00:00</tmEf>\\r\\n\\t\\t\\t\\t\\t<wf>구름많음</wf>\\r\\n\\t\\t\\t\\t\\t<tmn>2</tmn>\\r\\n\\t\\t\\t\\t\\t<tmx>10</tmx>\\r\\n\\t\\t\\t\\t\\t<reliability></reliability>\\r\\n\\t\\t\\t\\t\\t<rnSt>30</rnSt>\\r\\n\\t\\t\\t\\t</data>\\r\\n\\r\\n\\t\\t\\t\\t\\r\\n\\t\\t\\t\\t<data>\\r\\n\\t\\t\\t\\t\\t<mode>A02</mode>\\r\\n\\t\\t\\t\\t\\t<tmEf>2020-01-03 12:00</tmEf>\\r\\n\\t\\t\\t\\t\\t<wf>구름많음</wf>\\r\\n\\t\\t\\t\\t\\t<tmn>2</tmn>\\r\\n\\t\\t\\t\\t\\t<tmx>10</tmx>\\r\\n\\t\\t\\t\\t\\t<reliability></reliability>\\r\\n\\t\\t\\t\\t\\t<rnSt>30</rnSt>\\r\\n\\t\\t\\t\\t</data>\\r\\n\\r\\n\\t\\t\\t\\t\\r\\n\\t\\t\\t\\t<data>\\r\\n\\t\\t\\t\\t\\t<mode>A02</mode>\\r\\n\\t\\t\\t\\t\\t<tmEf>2020-01-04 00:00</tmEf>\\r\\n\\t\\t\\t\\t\\t<wf>구름많음</wf>\\r\\n\\t\\t\\t\\t\\t<tmn>4</tmn>\\r\\n\\t\\t\\t\\t\\t<tmx>11</tmx>\\r\\n\\t\\t\\t\\t\\t<reliability></reliability>\\r\\n\\t\\t\\t\\t\\t<rnSt>30</rnSt>\\r\\n\\t\\t\\t\\t</data>\\r\\n\\r\\n\\t\\t\\t\\t\\r\\n\\t\\t\\t\\t<data>\\r\\n\\t\\t\\t\\t\\t<mode>A02</mode>\\r\\n\\t\\t\\t\\t\\t<tmEf>2020-01-04 12:00</tmEf>\\r\\n\\t\\t\\t\\t\\t<wf>맑음</wf>\\r\\n\\t\\t\\t\\t\\t<tmn>4</tmn>\\r\\n\\t\\t\\t\\t\\t<tmx>11</tmx>\\r\\n\\t\\t\\t\\t\\t<reliability></reliability>\\r\\n\\t\\t\\t\\t\\t<rnSt>0</rnSt>\\r\\n\\t\\t\\t\\t</data>\\r\\n\\r\\n\\t\\t\\t\\t\\r\\n\\t\\t\\t\\t<data>\\r\\n\\t\\t\\t\\t\\t<mode>A02</mode>\\r\\n\\t\\t\\t\\t\\t<tmEf>2020-01-05 00:00</tmEf>\\r\\n\\t\\t\\t\\t\\t<wf>맑음</wf>\\r\\n\\t\\t\\t\\t\\t<tmn>0</tmn>\\r\\n\\t\\t\\t\\t\\t<tmx>11</tmx>\\r\\n\\t\\t\\t\\t\\t<reliability></reliability>\\r\\n\\t\\t\\t\\t\\t<rnSt>0</rnSt>\\r\\n\\t\\t\\t\\t</data>\\r\\n\\r\\n\\t\\t\\t\\t\\r\\n\\t\\t\\t\\t<data>\\r\\n\\t\\t\\t\\t\\t<mode>A02</mode>\\r\\n\\t\\t\\t\\t\\t<tmEf>2020-01-05 12:00</tmEf>\\r\\n\\t\\t\\t\\t\\t<wf>구름많음</wf>\\r\\n\\t\\t\\t\\t\\t<tmn>0</tmn>\\r\\n\\t\\t\\t\\t\\t<tmx>11</tmx>\\r\\n\\t\\t\\t\\t\\t<reliability></reliability>\\r\\n\\t\\t\\t\\t\\t<rnSt>30</rnSt>\\r\\n\\t\\t\\t\\t</data>\\r\\n\\r\\n\\t\\t\\t\\t\\r\\n\\t\\t\\t\\t<data>\\r\\n\\t\\t\\t\\t\\t<mode>A02</mode>\\r\\n\\t\\t\\t\\t\\t<tmEf>2020-01-06 00:00</tmEf>\\r\\n\\t\\t\\t\\t\\t<wf>구름많음</wf>\\r\\n\\t\\t\\t\\t\\t<tmn>3</tmn>\\r\\n\\t\\t\\t\\t\\t<tmx>10</tmx>\\r\\n\\t\\t\\t\\t\\t<reliability></reliability>\\r\\n\\t\\t\\t\\t\\t<rnSt>30</rnSt>\\r\\n\\t\\t\\t\\t</data>\\r\\n\\r\\n\\t\\t\\t\\t\\r\\n\\t\\t\\t\\t<data>\\r\\n\\t\\t\\t\\t\\t<mode>A02</mode>\\r\\n\\t\\t\\t\\t\\t<tmEf>2020-01-06 12:00</tmEf>\\r\\n\\t\\t\\t\\t\\t<wf>흐리고 비</wf>\\r\\n\\t\\t\\t\\t\\t<tmn>3</tmn>\\r\\n\\t\\t\\t\\t\\t<tmx>10</tmx>\\r\\n\\t\\t\\t\\t\\t<reliability></reliability>\\r\\n\\t\\t\\t\\t\\t<rnSt>80</rnSt>\\r\\n\\t\\t\\t\\t</data>\\r\\n\\r\\n\\t\\t\\t\\t\\r\\n\\t\\t\\t\\t<data>\\r\\n\\t\\t\\t\\t\\t<mode>A02</mode>\\r\\n\\t\\t\\t\\t\\t<tmEf>2020-01-07 00:00</tmEf>\\r\\n\\t\\t\\t\\t\\t<wf>흐리고 비</wf>\\r\\n\\t\\t\\t\\t\\t<tmn>7</tmn>\\r\\n\\t\\t\\t\\t\\t<tmx>13</tmx>\\r\\n\\t\\t\\t\\t\\t<reliability></reliability>\\r\\n\\t\\t\\t\\t\\t<rnSt>80</rnSt>\\r\\n\\t\\t\\t\\t</data>\\r\\n\\r\\n\\t\\t\\t\\t\\r\\n\\t\\t\\t\\t<data>\\r\\n\\t\\t\\t\\t\\t<mode>A02</mode>\\r\\n\\t\\t\\t\\t\\t<tmEf>2020-01-07 12:00</tmEf>\\r\\n\\t\\t\\t\\t\\t<wf>흐리고 비</wf>\\r\\n\\t\\t\\t\\t\\t<tmn>7</tmn>\\r\\n\\t\\t\\t\\t\\t<tmx>13</tmx>\\r\\n\\t\\t\\t\\t\\t<reliability></reliability>\\r\\n\\t\\t\\t\\t\\t<rnSt>80</rnSt>\\r\\n\\t\\t\\t\\t</data>\\r\\n\\r\\n\\t\\t\\t\\t\\r\\n\\t\\t\\t\\t<data>\\r\\n\\t\\t\\t\\t\\t<mode>A01</mode>\\r\\n\\t\\t\\t\\t\\t<tmEf>2020-01-08 00:00</tmEf>\\r\\n\\t\\t\\t\\t\\t<wf>흐리고 비</wf>\\r\\n\\t\\t\\t\\t\\t<tmn>7</tmn>\\r\\n\\t\\t\\t\\t\\t<tmx>10</tmx>\\r\\n\\t\\t\\t\\t\\t<reliability></reliability>\\r\\n\\t\\t\\t\\t\\t<rnSt>70</rnSt>\\r\\n\\t\\t\\t\\t</data>\\r\\n\\r\\n\\t\\t\\t\\t\\r\\n\\t\\t\\t\\t<data>\\r\\n\\t\\t\\t\\t\\t<mode>A01</mode>\\r\\n\\t\\t\\t\\t\\t<tmEf>2020-01-09 00:00</tmEf>\\r\\n\\t\\t\\t\\t\\t<wf>구름많음</wf>\\r\\n\\t\\t\\t\\t\\t<tmn>3</tmn>\\r\\n\\t\\t\\t\\t\\t<tmx>9</tmx>\\r\\n\\t\\t\\t\\t\\t<reliability></reliability>\\r\\n\\t\\t\\t\\t\\t<rnSt>40</rnSt>\\r\\n\\t\\t\\t\\t</data>\\r\\n\\r\\n\\t\\t\\t\\t\\r\\n\\t\\t\\t\\t<data>\\r\\n\\t\\t\\t\\t\\t<mode>A01</mode>\\r\\n\\t\\t\\t\\t\\t<tmEf>2020-01-10 00:00</tmEf>\\r\\n\\t\\t\\t\\t\\t<wf>구름많음</wf>\\r\\n\\t\\t\\t\\t\\t<tmn>3</tmn>\\r\\n\\t\\t\\t\\t\\t<tmx>11</tmx>\\r\\n\\t\\t\\t\\t\\t<reliability></reliability>\\r\\n\\t\\t\\t\\t\\t<rnSt>30</rnSt>\\r\\n\\t\\t\\t\\t</data>\\r\\n\\r\\n\\r\\n\\t\\t</location>\\r\\n\\r\\n\\t\\t<location wl_ver=\"3\">\\r\\n\\t\\t\\t\\t<province>광주ㆍ전라남도</province>\\r\\n\\t\\t\\t\\t<city>나주</city>\\r\\n\\t\\t\\t\\t\\r\\n\\t\\t\\t\\t<data>\\r\\n\\t\\t\\t\\t\\t<mode>A02</mode>\\r\\n\\t\\t\\t\\t\\t<tmEf>2020-01-03 00:00</tmEf>\\r\\n\\t\\t\\t\\t\\t<wf>구름많음</wf>\\r\\n\\t\\t\\t\\t\\t<tmn>-1</tmn>\\r\\n\\t\\t\\t\\t\\t<tmx>9</tmx>\\r\\n\\t\\t\\t\\t\\t<reliability></reliability>\\r\\n\\t\\t\\t\\t\\t<rnSt>30</rnSt>\\r\\n\\t\\t\\t\\t</data>\\r\\n\\r\\n\\t\\t\\t\\t\\r\\n\\t\\t\\t\\t<data>\\r\\n\\t\\t\\t\\t\\t<mode>A02</mode>\\r\\n\\t\\t\\t\\t\\t<tmEf>2020-01-03 12:00</tmEf>\\r\\n\\t\\t\\t\\t\\t<wf>구름많음</wf>\\r\\n\\t\\t\\t\\t\\t<tmn>-1</tmn>\\r\\n\\t\\t\\t\\t\\t<tmx>9</tmx>\\r\\n\\t\\t\\t\\t\\t<reliability></reliability>\\r\\n\\t\\t\\t\\t\\t<rnSt>30</rnSt>\\r\\n\\t\\t\\t\\t</data>\\r\\n\\r\\n\\t\\t\\t\\t\\r\\n\\t\\t\\t\\t<data>\\r\\n\\t\\t\\t\\t\\t<mode>A02</mode>\\r\\n\\t\\t\\t\\t\\t<tmEf>2020-01-04 00:00</tmEf>\\r\\n\\t\\t\\t\\t\\t<wf>구름많음</wf>\\r\\n\\t\\t\\t\\t\\t<tmn>0</tmn>\\r\\n\\t\\t\\t\\t\\t<tmx>10</tmx>\\r\\n\\t\\t\\t\\t\\t<reliability></reliability>\\r\\n\\t\\t\\t\\t\\t<rnSt>30</rnSt>\\r\\n\\t\\t\\t\\t</data>\\r\\n\\r\\n\\t\\t\\t\\t\\r\\n\\t\\t\\t\\t<data>\\r\\n\\t\\t\\t\\t\\t<mode>A02</mode>\\r\\n\\t\\t\\t\\t\\t<tmEf>2020-01-04 12:00</tmEf>\\r\\n\\t\\t\\t\\t\\t<wf>맑음</wf>\\r\\n\\t\\t\\t\\t\\t<tmn>0</tmn>\\r\\n\\t\\t\\t\\t\\t<tmx>10</tmx>\\r\\n\\t\\t\\t\\t\\t<reliability></reliability>\\r\\n\\t\\t\\t\\t\\t<rnSt>0</rnSt>\\r\\n\\t\\t\\t\\t</data>\\r\\n\\r\\n\\t\\t\\t\\t\\r\\n\\t\\t\\t\\t<data>\\r\\n\\t\\t\\t\\t\\t<mode>A02</mode>\\r\\n\\t\\t\\t\\t\\t<tmEf>2020-01-05 00:00</tmEf>\\r\\n\\t\\t\\t\\t\\t<wf>맑음</wf>\\r\\n\\t\\t\\t\\t\\t<tmn>-4</tmn>\\r\\n\\t\\t\\t\\t\\t<tmx>8</tmx>\\r\\n\\t\\t\\t\\t\\t<reliability></reliability>\\r\\n\\t\\t\\t\\t\\t<rnSt>0</rnSt>\\r\\n\\t\\t\\t\\t</data>\\r\\n\\r\\n\\t\\t\\t\\t\\r\\n\\t\\t\\t\\t<data>\\r\\n\\t\\t\\t\\t\\t<mode>A02</mode>\\r\\n\\t\\t\\t\\t\\t<tmEf>2020-01-05 12:00</tmEf>\\r\\n\\t\\t\\t\\t\\t<wf>구름많음</wf>\\r\\n\\t\\t\\t\\t\\t<tmn>-4</tmn>\\r\\n\\t\\t\\t\\t\\t<tmx>8</tmx>\\r\\n\\t\\t\\t\\t\\t<reliability></reliability>\\r\\n\\t\\t\\t\\t\\t<rnSt>30</rnSt>\\r\\n\\t\\t\\t\\t</data>\\r\\n\\r\\n\\t\\t\\t\\t\\r\\n\\t\\t\\t\\t<data>\\r\\n\\t\\t\\t\\t\\t<mode>A02</mode>\\r\\n\\t\\t\\t\\t\\t<tmEf>2020-01-06 00:00</tmEf>\\r\\n\\t\\t\\t\\t\\t<wf>구름많음</wf>\\r\\n\\t\\t\\t\\t\\t<tmn>0</tmn>\\r\\n\\t\\t\\t\\t\\t<tmx>9</tmx>\\r\\n\\t\\t\\t\\t\\t<reliability></reliability>\\r\\n\\t\\t\\t\\t\\t<rnSt>30</rnSt>\\r\\n\\t\\t\\t\\t</data>\\r\\n\\r\\n\\t\\t\\t\\t\\r\\n\\t\\t\\t\\t<data>\\r\\n\\t\\t\\t\\t\\t<mode>A02</mode>\\r\\n\\t\\t\\t\\t\\t<tmEf>2020-01-06 12:00</tmEf>\\r\\n\\t\\t\\t\\t\\t<wf>흐리고 비</wf>\\r\\n\\t\\t\\t\\t\\t<tmn>0</tmn>\\r\\n\\t\\t\\t\\t\\t<tmx>9</tmx>\\r\\n\\t\\t\\t\\t\\t<reliability></reliability>\\r\\n\\t\\t\\t\\t\\t<rnSt>80</rnSt>\\r\\n\\t\\t\\t\\t</data>\\r\\n\\r\\n\\t\\t\\t\\t\\r\\n\\t\\t\\t\\t<data>\\r\\n\\t\\t\\t\\t\\t<mode>A02</mode>\\r\\n\\t\\t\\t\\t\\t<tmEf>2020-01-07 00:00</tmEf>\\r\\n\\t\\t\\t\\t\\t<wf>흐리고 비</wf>\\r\\n\\t\\t\\t\\t\\t<tmn>5</tmn>\\r\\n\\t\\t\\t\\t\\t<tmx>12</tmx>\\r\\n\\t\\t\\t\\t\\t<reliability></reliability>\\r\\n\\t\\t\\t\\t\\t<rnSt>80</rnSt>\\r\\n\\t\\t\\t\\t</data>\\r\\n\\r\\n\\t\\t\\t\\t\\r\\n\\t\\t\\t\\t<data>\\r\\n\\t\\t\\t\\t\\t<mode>A02</mode>\\r\\n\\t\\t\\t\\t\\t<tmEf>2020-01-07 12:00</tmEf>\\r\\n\\t\\t\\t\\t\\t<wf>흐리고 비</wf>\\r\\n\\t\\t\\t\\t\\t<tmn>5</tmn>\\r\\n\\t\\t\\t\\t\\t<tmx>12</tmx>\\r\\n\\t\\t\\t\\t\\t<reliability></reliability>\\r\\n\\t\\t\\t\\t\\t<rnSt>80</rnSt>\\r\\n\\t\\t\\t\\t</data>\\r\\n\\r\\n\\t\\t\\t\\t\\r\\n\\t\\t\\t\\t<data>\\r\\n\\t\\t\\t\\t\\t<mode>A01</mode>\\r\\n\\t\\t\\t\\t\\t<tmEf>2020-01-08 00:00</tmEf>\\r\\n\\t\\t\\t\\t\\t<wf>흐리고 비</wf>\\r\\n\\t\\t\\t\\t\\t<tmn>5</tmn>\\r\\n\\t\\t\\t\\t\\t<tmx>8</tmx>\\r\\n\\t\\t\\t\\t\\t<reliability></reliability>\\r\\n\\t\\t\\t\\t\\t<rnSt>70</rnSt>\\r\\n\\t\\t\\t\\t</data>\\r\\n\\r\\n\\t\\t\\t\\t\\r\\n\\t\\t\\t\\t<data>\\r\\n\\t\\t\\t\\t\\t<mode>A01</mode>\\r\\n\\t\\t\\t\\t\\t<tmEf>2020-01-09 00:00</tmEf>\\r\\n\\t\\t\\t\\t\\t<wf>구름많음</wf>\\r\\n\\t\\t\\t\\t\\t<tmn>-1</tmn>\\r\\n\\t\\t\\t\\t\\t<tmx>5</tmx>\\r\\n\\t\\t\\t\\t\\t<reliability></reliability>\\r\\n\\t\\t\\t\\t\\t<rnSt>40</rnSt>\\r\\n\\t\\t\\t\\t</data>\\r\\n\\r\\n\\t\\t\\t\\t\\r\\n\\t\\t\\t\\t<data>\\r\\n\\t\\t\\t\\t\\t<mode>A01</mode>\\r\\n\\t\\t\\t\\t\\t<tmEf>2020-01-10 00:00</tmEf>\\r\\n\\t\\t\\t\\t\\t<wf>구름많음</wf>\\r\\n\\t\\t\\t\\t\\t<tmn>-3</tmn>\\r\\n\\t\\t\\t\\t\\t<tmx>8</tmx>\\r\\n\\t\\t\\t\\t\\t<reliability></reliability>\\r\\n\\t\\t\\t\\t\\t<rnSt>30</rnSt>\\r\\n\\t\\t\\t\\t</data>\\r\\n\\r\\n\\r\\n\\t\\t</location>\\r\\n\\r\\n\\r\\n\\r\\n\\t\\t<location wl_ver=\"3\">\\r\\n\\t\\t\\t\\t<province>전라북도</province>\\r\\n\\t\\t\\t\\t<city>전주</city>\\r\\n\\t\\t\\t\\t\\r\\n\\t\\t\\t\\t<data>\\r\\n\\t\\t\\t\\t\\t<mode>A02</mode>\\r\\n\\t\\t\\t\\t\\t<tmEf>2020-01-03 00:00</tmEf>\\r\\n\\t\\t\\t\\t\\t<wf>구름많음</wf>\\r\\n\\t\\t\\t\\t\\t<tmn>0</tmn>\\r\\n\\t\\t\\t\\t\\t<tmx>8</tmx>\\r\\n\\t\\t\\t\\t\\t<reliability></reliability>\\r\\n\\t\\t\\t\\t\\t<rnSt>30</rnSt>\\r\\n\\t\\t\\t\\t</data>\\r\\n\\r\\n\\t\\t\\t\\t\\r\\n\\t\\t\\t\\t<data>\\r\\n\\t\\t\\t\\t\\t<mode>A02</mode>\\r\\n\\t\\t\\t\\t\\t<tmEf>2020-01-03 12:00</tmEf>\\r\\n\\t\\t\\t\\t\\t<wf>구름많음</wf>\\r\\n\\t\\t\\t\\t\\t<tmn>0</tmn>\\r\\n\\t\\t\\t\\t\\t<tmx>8</tmx>\\r\\n\\t\\t\\t\\t\\t<reliability></reliability>\\r\\n\\t\\t\\t\\t\\t<rnSt>30</rnSt>\\r\\n\\t\\t\\t\\t</data>\\r\\n\\r\\n\\t\\t\\t\\t\\r\\n\\t\\t\\t\\t<data>\\r\\n\\t\\t\\t\\t\\t<mode>A02</mode>\\r\\n\\t\\t\\t\\t\\t<tmEf>2020-01-04 00:00</tmEf>\\r\\n\\t\\t\\t\\t\\t<wf>맑음</wf>\\r\\n\\t\\t\\t\\t\\t<tmn>1</tmn>\\r\\n\\t\\t\\t\\t\\t<tmx>9</tmx>\\r\\n\\t\\t\\t\\t\\t<reliability></reliability>\\r\\n\\t\\t\\t\\t\\t<rnSt>10</rnSt>\\r\\n\\t\\t\\t\\t</data>\\r\\n\\r\\n\\t\\t\\t\\t\\r\\n\\t\\t\\t\\t<data>\\r\\n\\t\\t\\t\\t\\t<mode>A02</mode>\\r\\n\\t\\t\\t\\t\\t<tmEf>2020-01-04 12:00</tmEf>\\r\\n\\t\\t\\t\\t\\t<wf>맑음</wf>\\r\\n\\t\\t\\t\\t\\t<tmn>1</tmn>\\r\\n\\t\\t\\t\\t\\t<tmx>9</tmx>\\r\\n\\t\\t\\t\\t\\t<reliability></reliability>\\r\\n\\t\\t\\t\\t\\t<rnSt>0</rnSt>\\r\\n\\t\\t\\t\\t</data>\\r\\n\\r\\n\\t\\t\\t\\t\\r\\n\\t\\t\\t\\t<data>\\r\\n\\t\\t\\t\\t\\t<mode>A02</mode>\\r\\n\\t\\t\\t\\t\\t<tmEf>2020-01-05 00:00</tmEf>\\r\\n\\t\\t\\t\\t\\t<wf>맑음</wf>\\r\\n\\t\\t\\t\\t\\t<tmn>-3</tmn>\\r\\n\\t\\t\\t\\t\\t<tmx>7</tmx>\\r\\n\\t\\t\\t\\t\\t<reliability></reliability>\\r\\n\\t\\t\\t\\t\\t<rnSt>0</rnSt>\\r\\n\\t\\t\\t\\t</data>\\r\\n\\r\\n\\t\\t\\t\\t\\r\\n\\t\\t\\t\\t<data>\\r\\n\\t\\t\\t\\t\\t<mode>A02</mode>\\r\\n\\t\\t\\t\\t\\t<tmEf>2020-01-05 12:00</tmEf>\\r\\n\\t\\t\\t\\t\\t<wf>구름많음</wf>\\r\\n\\t\\t\\t\\t\\t<tmn>-3</tmn>\\r\\n\\t\\t\\t\\t\\t<tmx>7</tmx>\\r\\n\\t\\t\\t\\t\\t<reliability></reliability>\\r\\n\\t\\t\\t\\t\\t<rnSt>30</rnSt>\\r\\n\\t\\t\\t\\t</data>\\r\\n\\r\\n\\t\\t\\t\\t\\r\\n\\t\\t\\t\\t<data>\\r\\n\\t\\t\\t\\t\\t<mode>A02</mode>\\r\\n\\t\\t\\t\\t\\t<tmEf>2020-01-06 00:00</tmEf>\\r\\n\\t\\t\\t\\t\\t<wf>구름많음</wf>\\r\\n\\t\\t\\t\\t\\t<tmn>0</tmn>\\r\\n\\t\\t\\t\\t\\t<tmx>9</tmx>\\r\\n\\t\\t\\t\\t\\t<reliability></reliability>\\r\\n\\t\\t\\t\\t\\t<rnSt>30</rnSt>\\r\\n\\t\\t\\t\\t</data>\\r\\n\\r\\n\\t\\t\\t\\t\\r\\n\\t\\t\\t\\t<data>\\r\\n\\t\\t\\t\\t\\t<mode>A02</mode>\\r\\n\\t\\t\\t\\t\\t<tmEf>2020-01-06 12:00</tmEf>\\r\\n\\t\\t\\t\\t\\t<wf>흐리고 비</wf>\\r\\n\\t\\t\\t\\t\\t<tmn>0</tmn>\\r\\n\\t\\t\\t\\t\\t<tmx>9</tmx>\\r\\n\\t\\t\\t\\t\\t<reliability></reliability>\\r\\n\\t\\t\\t\\t\\t<rnSt>80</rnSt>\\r\\n\\t\\t\\t\\t</data>\\r\\n\\r\\n\\t\\t\\t\\t\\r\\n\\t\\t\\t\\t<data>\\r\\n\\t\\t\\t\\t\\t<mode>A02</mode>\\r\\n\\t\\t\\t\\t\\t<tmEf>2020-01-07 00:00</tmEf>\\r\\n\\t\\t\\t\\t\\t<wf>흐리고 비</wf>\\r\\n\\t\\t\\t\\t\\t<tmn>5</tmn>\\r\\n\\t\\t\\t\\t\\t<tmx>9</tmx>\\r\\n\\t\\t\\t\\t\\t<reliability></reliability>\\r\\n\\t\\t\\t\\t\\t<rnSt>80</rnSt>\\r\\n\\t\\t\\t\\t</data>\\r\\n\\r\\n\\t\\t\\t\\t\\r\\n\\t\\t\\t\\t<data>\\r\\n\\t\\t\\t\\t\\t<mode>A02</mode>\\r\\n\\t\\t\\t\\t\\t<tmEf>2020-01-07 12:00</tmEf>\\r\\n\\t\\t\\t\\t\\t<wf>흐리고 비</wf>\\r\\n\\t\\t\\t\\t\\t<tmn>5</tmn>\\r\\n\\t\\t\\t\\t\\t<tmx>9</tmx>\\r\\n\\t\\t\\t\\t\\t<reliability></reliability>\\r\\n\\t\\t\\t\\t\\t<rnSt>70</rnSt>\\r\\n\\t\\t\\t\\t</data>\\r\\n\\r\\n\\t\\t\\t\\t\\r\\n\\t\\t\\t\\t<data>\\r\\n\\t\\t\\t\\t\\t<mode>A01</mode>\\r\\n\\t\\t\\t\\t\\t<tmEf>2020-01-08 00:00</tmEf>\\r\\n\\t\\t\\t\\t\\t<wf>흐리고 비</wf>\\r\\n\\t\\t\\t\\t\\t<tmn>3</tmn>\\r\\n\\t\\t\\t\\t\\t<tmx>8</tmx>\\r\\n\\t\\t\\t\\t\\t<reliability></reliability>\\r\\n\\t\\t\\t\\t\\t<rnSt>70</rnSt>\\r\\n\\t\\t\\t\\t</data>\\r\\n\\r\\n\\t\\t\\t\\t\\r\\n\\t\\t\\t\\t<data>\\r\\n\\t\\t\\t\\t\\t<mode>A01</mode>\\r\\n\\t\\t\\t\\t\\t<tmEf>2020-01-09 00:00</tmEf>\\r\\n\\t\\t\\t\\t\\t<wf>구름많음</wf>\\r\\n\\t\\t\\t\\t\\t<tmn>0</tmn>\\r\\n\\t\\t\\t\\t\\t<tmx>6</tmx>\\r\\n\\t\\t\\t\\t\\t<reliability></reliability>\\r\\n\\t\\t\\t\\t\\t<rnSt>40</rnSt>\\r\\n\\t\\t\\t\\t</data>\\r\\n\\r\\n\\t\\t\\t\\t\\r\\n\\t\\t\\t\\t<data>\\r\\n\\t\\t\\t\\t\\t<mode>A01</mode>\\r\\n\\t\\t\\t\\t\\t<tmEf>2020-01-10 00:00</tmEf>\\r\\n\\t\\t\\t\\t\\t<wf>구름많음</wf>\\r\\n\\t\\t\\t\\t\\t<tmn>0</tmn>\\r\\n\\t\\t\\t\\t\\t<tmx>7</tmx>\\r\\n\\t\\t\\t\\t\\t<reliability></reliability>\\r\\n\\t\\t\\t\\t\\t<rnSt>30</rnSt>\\r\\n\\t\\t\\t\\t</data>\\r\\n\\r\\n\\r\\n\\t\\t</location>\\r\\n\\r\\n\\t\\t<location wl_ver=\"3\">\\r\\n\\t\\t\\t\\t<province>전라북도</province>\\r\\n\\t\\t\\t\\t<city>군산</city>\\r\\n\\t\\t\\t\\t\\r\\n\\t\\t\\t\\t<data>\\r\\n\\t\\t\\t\\t\\t<mode>A02</mode>\\r\\n\\t\\t\\t\\t\\t<tmEf>2020-01-03 00:00</tmEf>\\r\\n\\t\\t\\t\\t\\t<wf>구름많음</wf>\\r\\n\\t\\t\\t\\t\\t<tmn>-2</tmn>\\r\\n\\t\\t\\t\\t\\t<tmx>8</tmx>\\r\\n\\t\\t\\t\\t\\t<reliability></reliability>\\r\\n\\t\\t\\t\\t\\t<rnSt>30</rnSt>\\r\\n\\t\\t\\t\\t</data>\\r\\n\\r\\n\\t\\t\\t\\t\\r\\n\\t\\t\\t\\t<data>\\r\\n\\t\\t\\t\\t\\t<mode>A02</mode>\\r\\n\\t\\t\\t\\t\\t<tmEf>2020-01-03 12:00</tmEf>\\r\\n\\t\\t\\t\\t\\t<wf>구름많음</wf>\\r\\n\\t\\t\\t\\t\\t<tmn>-2</tmn>\\r\\n\\t\\t\\t\\t\\t<tmx>8</tmx>\\r\\n\\t\\t\\t\\t\\t<reliability></reliability>\\r\\n\\t\\t\\t\\t\\t<rnSt>30</rnSt>\\r\\n\\t\\t\\t\\t</data>\\r\\n\\r\\n\\t\\t\\t\\t\\r\\n\\t\\t\\t\\t<data>\\r\\n\\t\\t\\t\\t\\t<mode>A02</mode>\\r\\n\\t\\t\\t\\t\\t<tmEf>2020-01-04 00:00</tmEf>\\r\\n\\t\\t\\t\\t\\t<wf>맑음</wf>\\r\\n\\t\\t\\t\\t\\t<tmn>1</tmn>\\r\\n\\t\\t\\t\\t\\t<tmx>9</tmx>\\r\\n\\t\\t\\t\\t\\t<reliability></reliability>\\r\\n\\t\\t\\t\\t\\t<rnSt>10</rnSt>\\r\\n\\t\\t\\t\\t</data>\\r\\n\\r\\n\\t\\t\\t\\t\\r\\n\\t\\t\\t\\t<data>\\r\\n\\t\\t\\t\\t\\t<mode>A02</mode>\\r\\n\\t\\t\\t\\t\\t<tmEf>2020-01-04 12:00</tmEf>\\r\\n\\t\\t\\t\\t\\t<wf>맑음</wf>\\r\\n\\t\\t\\t\\t\\t<tmn>1</tmn>\\r\\n\\t\\t\\t\\t\\t<tmx>9</tmx>\\r\\n\\t\\t\\t\\t\\t<reliability></reliability>\\r\\n\\t\\t\\t\\t\\t<rnSt>0</rnSt>\\r\\n\\t\\t\\t\\t</data>\\r\\n\\r\\n\\t\\t\\t\\t\\r\\n\\t\\t\\t\\t<data>\\r\\n\\t\\t\\t\\t\\t<mode>A02</mode>\\r\\n\\t\\t\\t\\t\\t<tmEf>2020-01-05 00:00</tmEf>\\r\\n\\t\\t\\t\\t\\t<wf>맑음</wf>\\r\\n\\t\\t\\t\\t\\t<tmn>-4</tmn>\\r\\n\\t\\t\\t\\t\\t<tmx>7</tmx>\\r\\n\\t\\t\\t\\t\\t<reliability></reliability>\\r\\n\\t\\t\\t\\t\\t<rnSt>0</rnSt>\\r\\n\\t\\t\\t\\t</data>\\r\\n\\r\\n\\t\\t\\t\\t\\r\\n\\t\\t\\t\\t<data>\\r\\n\\t\\t\\t\\t\\t<mode>A02</mode>\\r\\n\\t\\t\\t\\t\\t<tmEf>2020-01-05 12:00</tmEf>\\r\\n\\t\\t\\t\\t\\t<wf>구름많음</wf>\\r\\n\\t\\t\\t\\t\\t<tmn>-4</tmn>\\r\\n\\t\\t\\t\\t\\t<tmx>7</tmx>\\r\\n\\t\\t\\t\\t\\t<reliability></reliability>\\r\\n\\t\\t\\t\\t\\t<rnSt>30</rnSt>\\r\\n\\t\\t\\t\\t</data>\\r\\n\\r\\n\\t\\t\\t\\t\\r\\n\\t\\t\\t\\t<data>\\r\\n\\t\\t\\t\\t\\t<mode>A02</mode>\\r\\n\\t\\t\\t\\t\\t<tmEf>2020-01-06 00:00</tmEf>\\r\\n\\t\\t\\t\\t\\t<wf>구름많음</wf>\\r\\n\\t\\t\\t\\t\\t<tmn>0</tmn>\\r\\n\\t\\t\\t\\t\\t<tmx>7</tmx>\\r\\n\\t\\t\\t\\t\\t<reliability></reliability>\\r\\n\\t\\t\\t\\t\\t<rnSt>30</rnSt>\\r\\n\\t\\t\\t\\t</data>\\r\\n\\r\\n\\t\\t\\t\\t\\r\\n\\t\\t\\t\\t<data>\\r\\n\\t\\t\\t\\t\\t<mode>A02</mode>\\r\\n\\t\\t\\t\\t\\t<tmEf>2020-01-06 12:00</tmEf>\\r\\n\\t\\t\\t\\t\\t<wf>흐리고 비</wf>\\r\\n\\t\\t\\t\\t\\t<tmn>0</tmn>\\r\\n\\t\\t\\t\\t\\t<tmx>7</tmx>\\r\\n\\t\\t\\t\\t\\t<reliability></reliability>\\r\\n\\t\\t\\t\\t\\t<rnSt>80</rnSt>\\r\\n\\t\\t\\t\\t</data>\\r\\n\\r\\n\\t\\t\\t\\t\\r\\n\\t\\t\\t\\t<data>\\r\\n\\t\\t\\t\\t\\t<mode>A02</mode>\\r\\n\\t\\t\\t\\t\\t<tmEf>2020-01-07 00:00</tmEf>\\r\\n\\t\\t\\t\\t\\t<wf>흐리고 비</wf>\\r\\n\\t\\t\\t\\t\\t<tmn>4</tmn>\\r\\n\\t\\t\\t\\t\\t<tmx>8</tmx>\\r\\n\\t\\t\\t\\t\\t<reliability></reliability>\\r\\n\\t\\t\\t\\t\\t<rnSt>80</rnSt>\\r\\n\\t\\t\\t\\t</data>\\r\\n\\r\\n\\t\\t\\t\\t\\r\\n\\t\\t\\t\\t<data>\\r\\n\\t\\t\\t\\t\\t<mode>A02</mode>\\r\\n\\t\\t\\t\\t\\t<tmEf>2020-01-07 12:00</tmEf>\\r\\n\\t\\t\\t\\t\\t<wf>흐리고 비</wf>\\r\\n\\t\\t\\t\\t\\t<tmn>4</tmn>\\r\\n\\t\\t\\t\\t\\t<tmx>8</tmx>\\r\\n\\t\\t\\t\\t\\t<reliability></reliability>\\r\\n\\t\\t\\t\\t\\t<rnSt>70</rnSt>\\r\\n\\t\\t\\t\\t</data>\\r\\n\\r\\n\\t\\t\\t\\t\\r\\n\\t\\t\\t\\t<data>\\r\\n\\t\\t\\t\\t\\t<mode>A01</mode>\\r\\n\\t\\t\\t\\t\\t<tmEf>2020-01-08 00:00</tmEf>\\r\\n\\t\\t\\t\\t\\t<wf>흐리고 비</wf>\\r\\n\\t\\t\\t\\t\\t<tmn>3</tmn>\\r\\n\\t\\t\\t\\t\\t<tmx>7</tmx>\\r\\n\\t\\t\\t\\t\\t<reliability></reliability>\\r\\n\\t\\t\\t\\t\\t<rnSt>70</rnSt>\\r\\n\\t\\t\\t\\t</data>\\r\\n\\r\\n\\t\\t\\t\\t\\r\\n\\t\\t\\t\\t<data>\\r\\n\\t\\t\\t\\t\\t<mode>A01</mode>\\r\\n\\t\\t\\t\\t\\t<tmEf>2020-01-09 00:00</tmEf>\\r\\n\\t\\t\\t\\t\\t<wf>구름많음</wf>\\r\\n\\t\\t\\t\\t\\t<tmn>-1</tmn>\\r\\n\\t\\t\\t\\t\\t<tmx>6</tmx>\\r\\n\\t\\t\\t\\t\\t<reliability></reliability>\\r\\n\\t\\t\\t\\t\\t<rnSt>40</rnSt>\\r\\n\\t\\t\\t\\t</data>\\r\\n\\r\\n\\t\\t\\t\\t\\r\\n\\t\\t\\t\\t<data>\\r\\n\\t\\t\\t\\t\\t<mode>A01</mode>\\r\\n\\t\\t\\t\\t\\t<tmEf>2020-01-10 00:00</tmEf>\\r\\n\\t\\t\\t\\t\\t<wf>구름많음</wf>\\r\\n\\t\\t\\t\\t\\t<tmn>-1</tmn>\\r\\n\\t\\t\\t\\t\\t<tmx>7</tmx>\\r\\n\\t\\t\\t\\t\\t<reliability></reliability>\\r\\n\\t\\t\\t\\t\\t<rnSt>30</rnSt>\\r\\n\\t\\t\\t\\t</data>\\r\\n\\r\\n\\r\\n\\t\\t</location>\\r\\n\\r\\n\\t\\t<location wl_ver=\"3\">\\r\\n\\t\\t\\t\\t<province>전라북도</province>\\r\\n\\t\\t\\t\\t<city>정읍</city>\\r\\n\\t\\t\\t\\t\\r\\n\\t\\t\\t\\t<data>\\r\\n\\t\\t\\t\\t\\t<mode>A02</mode>\\r\\n\\t\\t\\t\\t\\t<tmEf>2020-01-03 00:00</tmEf>\\r\\n\\t\\t\\t\\t\\t<wf>구름많음</wf>\\r\\n\\t\\t\\t\\t\\t<tmn>0</tmn>\\r\\n\\t\\t\\t\\t\\t<tmx>7</tmx>\\r\\n\\t\\t\\t\\t\\t<reliability></reliability>\\r\\n\\t\\t\\t\\t\\t<rnSt>30</rnSt>\\r\\n\\t\\t\\t\\t</data>\\r\\n\\r\\n\\t\\t\\t\\t\\r\\n\\t\\t\\t\\t<data>\\r\\n\\t\\t\\t\\t\\t<mode>A02</mode>\\r\\n\\t\\t\\t\\t\\t<tmEf>2020-01-03 12:00</tmEf>\\r\\n\\t\\t\\t\\t\\t<wf>구름많음</wf>\\r\\n\\t\\t\\t\\t\\t<tmn>0</tmn>\\r\\n\\t\\t\\t\\t\\t<tmx>7</tmx>\\r\\n\\t\\t\\t\\t\\t<reliability></reliability>\\r\\n\\t\\t\\t\\t\\t<rnSt>30</rnSt>\\r\\n\\t\\t\\t\\t</data>\\r\\n\\r\\n\\t\\t\\t\\t\\r\\n\\t\\t\\t\\t<data>\\r\\n\\t\\t\\t\\t\\t<mode>A02</mode>\\r\\n\\t\\t\\t\\t\\t<tmEf>2020-01-04 00:00</tmEf>\\r\\n\\t\\t\\t\\t\\t<wf>맑음</wf>\\r\\n\\t\\t\\t\\t\\t<tmn>1</tmn>\\r\\n\\t\\t\\t\\t\\t<tmx>8</tmx>\\r\\n\\t\\t\\t\\t\\t<reliability></reliability>\\r\\n\\t\\t\\t\\t\\t<rnSt>10</rnSt>\\r\\n\\t\\t\\t\\t</data>\\r\\n\\r\\n\\t\\t\\t\\t\\r\\n\\t\\t\\t\\t<data>\\r\\n\\t\\t\\t\\t\\t<mode>A02</mode>\\r\\n\\t\\t\\t\\t\\t<tmEf>2020-01-04 12:00</tmEf>\\r\\n\\t\\t\\t\\t\\t<wf>맑음</wf>\\r\\n\\t\\t\\t\\t\\t<tmn>1</tmn>\\r\\n\\t\\t\\t\\t\\t<tmx>8</tmx>\\r\\n\\t\\t\\t\\t\\t<reliability></reliability>\\r\\n\\t\\t\\t\\t\\t<rnSt>0</rnSt>\\r\\n\\t\\t\\t\\t</data>\\r\\n\\r\\n\\t\\t\\t\\t\\r\\n\\t\\t\\t\\t<data>\\r\\n\\t\\t\\t\\t\\t<mode>A02</mode>\\r\\n\\t\\t\\t\\t\\t<tmEf>2020-01-05 00:00</tmEf>\\r\\n\\t\\t\\t\\t\\t<wf>맑음</wf>\\r\\n\\t\\t\\t\\t\\t<tmn>-3</tmn>\\r\\n\\t\\t\\t\\t\\t<tmx>6</tmx>\\r\\n\\t\\t\\t\\t\\t<reliability></reliability>\\r\\n\\t\\t\\t\\t\\t<rnSt>0</rnSt>\\r\\n\\t\\t\\t\\t</data>\\r\\n\\r\\n\\t\\t\\t\\t\\r\\n\\t\\t\\t\\t<data>\\r\\n\\t\\t\\t\\t\\t<mode>A02</mode>\\r\\n\\t\\t\\t\\t\\t<tmEf>2020-01-05 12:00</tmEf>\\r\\n\\t\\t\\t\\t\\t<wf>구름많음</wf>\\r\\n\\t\\t\\t\\t\\t<tmn>-3</tmn>\\r\\n\\t\\t\\t\\t\\t<tmx>6</tmx>\\r\\n\\t\\t\\t\\t\\t<reliability></reliability>\\r\\n\\t\\t\\t\\t\\t<rnSt>30</rnSt>\\r\\n\\t\\t\\t\\t</data>\\r\\n\\r\\n\\t\\t\\t\\t\\r\\n\\t\\t\\t\\t<data>\\r\\n\\t\\t\\t\\t\\t<mode>A02</mode>\\r\\n\\t\\t\\t\\t\\t<tmEf>2020-01-06 00:00</tmEf>\\r\\n\\t\\t\\t\\t\\t<wf>구름많음</wf>\\r\\n\\t\\t\\t\\t\\t<tmn>0</tmn>\\r\\n\\t\\t\\t\\t\\t<tmx>8</tmx>\\r\\n\\t\\t\\t\\t\\t<reliability></reliability>\\r\\n\\t\\t\\t\\t\\t<rnSt>30</rnSt>\\r\\n\\t\\t\\t\\t</data>\\r\\n\\r\\n\\t\\t\\t\\t\\r\\n\\t\\t\\t\\t<data>\\r\\n\\t\\t\\t\\t\\t<mode>A02</mode>\\r\\n\\t\\t\\t\\t\\t<tmEf>2020-01-06 12:00</tmEf>\\r\\n\\t\\t\\t\\t\\t<wf>흐리고 비</wf>\\r\\n\\t\\t\\t\\t\\t<tmn>0</tmn>\\r\\n\\t\\t\\t\\t\\t<tmx>8</tmx>\\r\\n\\t\\t\\t\\t\\t<reliability></reliability>\\r\\n\\t\\t\\t\\t\\t<rnSt>80</rnSt>\\r\\n\\t\\t\\t\\t</data>\\r\\n\\r\\n\\t\\t\\t\\t\\r\\n\\t\\t\\t\\t<data>\\r\\n\\t\\t\\t\\t\\t<mode>A02</mode>\\r\\n\\t\\t\\t\\t\\t<tmEf>2020-01-07 00:00</tmEf>\\r\\n\\t\\t\\t\\t\\t<wf>흐리고 비</wf>\\r\\n\\t\\t\\t\\t\\t<tmn>5</tmn>\\r\\n\\t\\t\\t\\t\\t<tmx>9</tmx>\\r\\n\\t\\t\\t\\t\\t<reliability></reliability>\\r\\n\\t\\t\\t\\t\\t<rnSt>80</rnSt>\\r\\n\\t\\t\\t\\t</data>\\r\\n\\r\\n\\t\\t\\t\\t\\r\\n\\t\\t\\t\\t<data>\\r\\n\\t\\t\\t\\t\\t<mode>A02</mode>\\r\\n\\t\\t\\t\\t\\t<tmEf>2020-01-07 12:00</tmEf>\\r\\n\\t\\t\\t\\t\\t<wf>흐리고 비</wf>\\r\\n\\t\\t\\t\\t\\t<tmn>5</tmn>\\r\\n\\t\\t\\t\\t\\t<tmx>9</tmx>\\r\\n\\t\\t\\t\\t\\t<reliability></reliability>\\r\\n\\t\\t\\t\\t\\t<rnSt>70</rnSt>\\r\\n\\t\\t\\t\\t</data>\\r\\n\\r\\n\\t\\t\\t\\t\\r\\n\\t\\t\\t\\t<data>\\r\\n\\t\\t\\t\\t\\t<mode>A01</mode>\\r\\n\\t\\t\\t\\t\\t<tmEf>2020-01-08 00:00</tmEf>\\r\\n\\t\\t\\t\\t\\t<wf>흐리고 비</wf>\\r\\n\\t\\t\\t\\t\\t<tmn>4</tmn>\\r\\n\\t\\t\\t\\t\\t<tmx>7</tmx>\\r\\n\\t\\t\\t\\t\\t<reliability></reliability>\\r\\n\\t\\t\\t\\t\\t<rnSt>70</rnSt>\\r\\n\\t\\t\\t\\t</data>\\r\\n\\r\\n\\t\\t\\t\\t\\r\\n\\t\\t\\t\\t<data>\\r\\n\\t\\t\\t\\t\\t<mode>A01</mode>\\r\\n\\t\\t\\t\\t\\t<tmEf>2020-01-09 00:00</tmEf>\\r\\n\\t\\t\\t\\t\\t<wf>구름많음</wf>\\r\\n\\t\\t\\t\\t\\t<tmn>0</tmn>\\r\\n\\t\\t\\t\\t\\t<tmx>6</tmx>\\r\\n\\t\\t\\t\\t\\t<reliability></reliability>\\r\\n\\t\\t\\t\\t\\t<rnSt>40</rnSt>\\r\\n\\t\\t\\t\\t</data>\\r\\n\\r\\n\\t\\t\\t\\t\\r\\n\\t\\t\\t\\t<data>\\r\\n\\t\\t\\t\\t\\t<mode>A01</mode>\\r\\n\\t\\t\\t\\t\\t<tmEf>2020-01-10 00:00</tmEf>\\r\\n\\t\\t\\t\\t\\t<wf>구름많음</wf>\\r\\n\\t\\t\\t\\t\\t<tmn>0</tmn>\\r\\n\\t\\t\\t\\t\\t<tmx>7</tmx>\\r\\n\\t\\t\\t\\t\\t<reliability></reliability>\\r\\n\\t\\t\\t\\t\\t<rnSt>30</rnSt>\\r\\n\\t\\t\\t\\t</data>\\r\\n\\r\\n\\r\\n\\t\\t</location>\\r\\n\\r\\n\\t\\t<location wl_ver=\"3\">\\r\\n\\t\\t\\t\\t<province>전라북도</province>\\r\\n\\t\\t\\t\\t<city>남원</city>\\r\\n\\t\\t\\t\\t\\r\\n\\t\\t\\t\\t<data>\\r\\n\\t\\t\\t\\t\\t<mode>A02</mode>\\r\\n\\t\\t\\t\\t\\t<tmEf>2020-01-03 00:00</tmEf>\\r\\n\\t\\t\\t\\t\\t<wf>구름많음</wf>\\r\\n\\t\\t\\t\\t\\t<tmn>-3</tmn>\\r\\n\\t\\t\\t\\t\\t<tmx>8</tmx>\\r\\n\\t\\t\\t\\t\\t<reliability></reliability>\\r\\n\\t\\t\\t\\t\\t<rnSt>30</rnSt>\\r\\n\\t\\t\\t\\t</data>\\r\\n\\r\\n\\t\\t\\t\\t\\r\\n\\t\\t\\t\\t<data>\\r\\n\\t\\t\\t\\t\\t<mode>A02</mode>\\r\\n\\t\\t\\t\\t\\t<tmEf>2020-01-03 12:00</tmEf>\\r\\n\\t\\t\\t\\t\\t<wf>구름많음</wf>\\r\\n\\t\\t\\t\\t\\t<tmn>-3</tmn>\\r\\n\\t\\t\\t\\t\\t<tmx>8</tmx>\\r\\n\\t\\t\\t\\t\\t<reliability></reliability>\\r\\n\\t\\t\\t\\t\\t<rnSt>30</rnSt>\\r\\n\\t\\t\\t\\t</data>\\r\\n\\r\\n\\t\\t\\t\\t\\r\\n\\t\\t\\t\\t<data>\\r\\n\\t\\t\\t\\t\\t<mode>A02</mode>\\r\\n\\t\\t\\t\\t\\t<tmEf>2020-01-04 00:00</tmEf>\\r\\n\\t\\t\\t\\t\\t<wf>맑음</wf>\\r\\n\\t\\t\\t\\t\\t<tmn>-1</tmn>\\r\\n\\t\\t\\t\\t\\t<tmx>9</tmx>\\r\\n\\t\\t\\t\\t\\t<reliability></reliability>\\r\\n\\t\\t\\t\\t\\t<rnSt>10</rnSt>\\r\\n\\t\\t\\t\\t</data>\\r\\n\\r\\n\\t\\t\\t\\t\\r\\n\\t\\t\\t\\t<data>\\r\\n\\t\\t\\t\\t\\t<mode>A02</mode>\\r\\n\\t\\t\\t\\t\\t<tmEf>2020-01-04 12:00</tmEf>\\r\\n\\t\\t\\t\\t\\t<wf>맑음</wf>\\r\\n\\t\\t\\t\\t\\t<tmn>-1</tmn>\\r\\n\\t\\t\\t\\t\\t<tmx>9</tmx>\\r\\n\\t\\t\\t\\t\\t<reliability></reliability>\\r\\n\\t\\t\\t\\t\\t<rnSt>0</rnSt>\\r\\n\\t\\t\\t\\t</data>\\r\\n\\r\\n\\t\\t\\t\\t\\r\\n\\t\\t\\t\\t<data>\\r\\n\\t\\t\\t\\t\\t<mode>A02</mode>\\r\\n\\t\\t\\t\\t\\t<tmEf>2020-01-05 00:00</tmEf>\\r\\n\\t\\t\\t\\t\\t<wf>맑음</wf>\\r\\n\\t\\t\\t\\t\\t<tmn>-4</tmn>\\r\\n\\t\\t\\t\\t\\t<tmx>8</tmx>\\r\\n\\t\\t\\t\\t\\t<reliability></reliability>\\r\\n\\t\\t\\t\\t\\t<rnSt>0</rnSt>\\r\\n\\t\\t\\t\\t</data>\\r\\n\\r\\n\\t\\t\\t\\t\\r\\n\\t\\t\\t\\t<data>\\r\\n\\t\\t\\t\\t\\t<mode>A02</mode>\\r\\n\\t\\t\\t\\t\\t<tmEf>2020-01-05 12:00</tmEf>\\r\\n\\t\\t\\t\\t\\t<wf>구름많음</wf>\\r\\n\\t\\t\\t\\t\\t<tmn>-4</tmn>\\r\\n\\t\\t\\t\\t\\t<tmx>8</tmx>\\r\\n\\t\\t\\t\\t\\t<reliability></reliability>\\r\\n\\t\\t\\t\\t\\t<rnSt>30</rnSt>\\r\\n\\t\\t\\t\\t</data>\\r\\n\\r\\n\\t\\t\\t\\t\\r\\n\\t\\t\\t\\t<data>\\r\\n\\t\\t\\t\\t\\t<mode>A02</mode>\\r\\n\\t\\t\\t\\t\\t<tmEf>2020-01-06 00:00</tmEf>\\r\\n\\t\\t\\t\\t\\t<wf>구름많음</wf>\\r\\n\\t\\t\\t\\t\\t<tmn>-2</tmn>\\r\\n\\t\\t\\t\\t\\t<tmx>9</tmx>\\r\\n\\t\\t\\t\\t\\t<reliability></reliability>\\r\\n\\t\\t\\t\\t\\t<rnSt>30</rnSt>\\r\\n\\t\\t\\t\\t</data>\\r\\n\\r\\n\\t\\t\\t\\t\\r\\n\\t\\t\\t\\t<data>\\r\\n\\t\\t\\t\\t\\t<mode>A02</mode>\\r\\n\\t\\t\\t\\t\\t<tmEf>2020-01-06 12:00</tmEf>\\r\\n\\t\\t\\t\\t\\t<wf>흐리고 비</wf>\\r\\n\\t\\t\\t\\t\\t<tmn>-2</tmn>\\r\\n\\t\\t\\t\\t\\t<tmx>9</tmx>\\r\\n\\t\\t\\t\\t\\t<reliability></reliability>\\r\\n\\t\\t\\t\\t\\t<rnSt>80</rnSt>\\r\\n\\t\\t\\t\\t</data>\\r\\n\\r\\n\\t\\t\\t\\t\\r\\n\\t\\t\\t\\t<data>\\r\\n\\t\\t\\t\\t\\t<mode>A02</mode>\\r\\n\\t\\t\\t\\t\\t<tmEf>2020-01-07 00:00</tmEf>\\r\\n\\t\\t\\t\\t\\t<wf>흐리고 비</wf>\\r\\n\\t\\t\\t\\t\\t<tmn>4</tmn>\\r\\n\\t\\t\\t\\t\\t<tmx>11</tmx>\\r\\n\\t\\t\\t\\t\\t<reliability></reliability>\\r\\n\\t\\t\\t\\t\\t<rnSt>80</rnSt>\\r\\n\\t\\t\\t\\t</data>\\r\\n\\r\\n\\t\\t\\t\\t\\r\\n\\t\\t\\t\\t<data>\\r\\n\\t\\t\\t\\t\\t<mode>A02</mode>\\r\\n\\t\\t\\t\\t\\t<tmEf>2020-01-07 12:00</tmEf>\\r\\n\\t\\t\\t\\t\\t<wf>흐리고 비</wf>\\r\\n\\t\\t\\t\\t\\t<tmn>4</tmn>\\r\\n\\t\\t\\t\\t\\t<tmx>11</tmx>\\r\\n\\t\\t\\t\\t\\t<reliability></reliability>\\r\\n\\t\\t\\t\\t\\t<rnSt>70</rnSt>\\r\\n\\t\\t\\t\\t</data>\\r\\n\\r\\n\\t\\t\\t\\t\\r\\n\\t\\t\\t\\t<data>\\r\\n\\t\\t\\t\\t\\t<mode>A01</mode>\\r\\n\\t\\t\\t\\t\\t<tmEf>2020-01-08 00:00</tmEf>\\r\\n\\t\\t\\t\\t\\t<wf>흐리고 비</wf>\\r\\n\\t\\t\\t\\t\\t<tmn>4</tmn>\\r\\n\\t\\t\\t\\t\\t<tmx>7</tmx>\\r\\n\\t\\t\\t\\t\\t<reliability></reliability>\\r\\n\\t\\t\\t\\t\\t<rnSt>70</rnSt>\\r\\n\\t\\t\\t\\t</data>\\r\\n\\r\\n\\t\\t\\t\\t\\r\\n\\t\\t\\t\\t<data>\\r\\n\\t\\t\\t\\t\\t<mode>A01</mode>\\r\\n\\t\\t\\t\\t\\t<tmEf>2020-01-09 00:00</tmEf>\\r\\n\\t\\t\\t\\t\\t<wf>구름많음</wf>\\r\\n\\t\\t\\t\\t\\t<tmn>-3</tmn>\\r\\n\\t\\t\\t\\t\\t<tmx>5</tmx>\\r\\n\\t\\t\\t\\t\\t<reliability></reliability>\\r\\n\\t\\t\\t\\t\\t<rnSt>40</rnSt>\\r\\n\\t\\t\\t\\t</data>\\r\\n\\r\\n\\t\\t\\t\\t\\r\\n\\t\\t\\t\\t<data>\\r\\n\\t\\t\\t\\t\\t<mode>A01</mode>\\r\\n\\t\\t\\t\\t\\t<tmEf>2020-01-10 00:00</tmEf>\\r\\n\\t\\t\\t\\t\\t<wf>구름많음</wf>\\r\\n\\t\\t\\t\\t\\t<tmn>-2</tmn>\\r\\n\\t\\t\\t\\t\\t<tmx>8</tmx>\\r\\n\\t\\t\\t\\t\\t<reliability></reliability>\\r\\n\\t\\t\\t\\t\\t<rnSt>30</rnSt>\\r\\n\\t\\t\\t\\t</data>\\r\\n\\r\\n\\r\\n\\t\\t</location>\\r\\n\\r\\n\\t\\t<location wl_ver=\"3\">\\r\\n\\t\\t\\t\\t<province>전라북도</province>\\r\\n\\t\\t\\t\\t<city>고창</city>\\r\\n\\t\\t\\t\\t\\r\\n\\t\\t\\t\\t<data>\\r\\n\\t\\t\\t\\t\\t<mode>A02</mode>\\r\\n\\t\\t\\t\\t\\t<tmEf>2020-01-03 00:00</tmEf>\\r\\n\\t\\t\\t\\t\\t<wf>구름많음</wf>\\r\\n\\t\\t\\t\\t\\t<tmn>1</tmn>\\r\\n\\t\\t\\t\\t\\t<tmx>8</tmx>\\r\\n\\t\\t\\t\\t\\t<reliability></reliability>\\r\\n\\t\\t\\t\\t\\t<rnSt>30</rnSt>\\r\\n\\t\\t\\t\\t</data>\\r\\n\\r\\n\\t\\t\\t\\t\\r\\n\\t\\t\\t\\t<data>\\r\\n\\t\\t\\t\\t\\t<mode>A02</mode>\\r\\n\\t\\t\\t\\t\\t<tmEf>2020-01-03 12:00</tmEf>\\r\\n\\t\\t\\t\\t\\t<wf>구름많음</wf>\\r\\n\\t\\t\\t\\t\\t<tmn>1</tmn>\\r\\n\\t\\t\\t\\t\\t<tmx>8</tmx>\\r\\n\\t\\t\\t\\t\\t<reliability></reliability>\\r\\n\\t\\t\\t\\t\\t<rnSt>30</rnSt>\\r\\n\\t\\t\\t\\t</data>\\r\\n\\r\\n\\t\\t\\t\\t\\r\\n\\t\\t\\t\\t<data>\\r\\n\\t\\t\\t\\t\\t<mode>A02</mode>\\r\\n\\t\\t\\t\\t\\t<tmEf>2020-01-04 00:00</tmEf>\\r\\n\\t\\t\\t\\t\\t<wf>맑음</wf>\\r\\n\\t\\t\\t\\t\\t<tmn>2</tmn>\\r\\n\\t\\t\\t\\t\\t<tmx>9</tmx>\\r\\n\\t\\t\\t\\t\\t<reliability></reliability>\\r\\n\\t\\t\\t\\t\\t<rnSt>10</rnSt>\\r\\n\\t\\t\\t\\t</data>\\r\\n\\r\\n\\t\\t\\t\\t\\r\\n\\t\\t\\t\\t<data>\\r\\n\\t\\t\\t\\t\\t<mode>A02</mode>\\r\\n\\t\\t\\t\\t\\t<tmEf>2020-01-04 12:00</tmEf>\\r\\n\\t\\t\\t\\t\\t<wf>맑음</wf>\\r\\n\\t\\t\\t\\t\\t<tmn>2</tmn>\\r\\n\\t\\t\\t\\t\\t<tmx>9</tmx>\\r\\n\\t\\t\\t\\t\\t<reliability></reliability>\\r\\n\\t\\t\\t\\t\\t<rnSt>0</rnSt>\\r\\n\\t\\t\\t\\t</data>\\r\\n\\r\\n\\t\\t\\t\\t\\r\\n\\t\\t\\t\\t<data>\\r\\n\\t\\t\\t\\t\\t<mode>A02</mode>\\r\\n\\t\\t\\t\\t\\t<tmEf>2020-01-05 00:00</tmEf>\\r\\n\\t\\t\\t\\t\\t<wf>맑음</wf>\\r\\n\\t\\t\\t\\t\\t<tmn>-2</tmn>\\r\\n\\t\\t\\t\\t\\t<tmx>7</tmx>\\r\\n\\t\\t\\t\\t\\t<reliability></reliability>\\r\\n\\t\\t\\t\\t\\t<rnSt>0</rnSt>\\r\\n\\t\\t\\t\\t</data>\\r\\n\\r\\n\\t\\t\\t\\t\\r\\n\\t\\t\\t\\t<data>\\r\\n\\t\\t\\t\\t\\t<mode>A02</mode>\\r\\n\\t\\t\\t\\t\\t<tmEf>2020-01-05 12:00</tmEf>\\r\\n\\t\\t\\t\\t\\t<wf>구름많음</wf>\\r\\n\\t\\t\\t\\t\\t<tmn>-2</tmn>\\r\\n\\t\\t\\t\\t\\t<tmx>7</tmx>\\r\\n\\t\\t\\t\\t\\t<reliability></reliability>\\r\\n\\t\\t\\t\\t\\t<rnSt>30</rnSt>\\r\\n\\t\\t\\t\\t</data>\\r\\n\\r\\n\\t\\t\\t\\t\\r\\n\\t\\t\\t\\t<data>\\r\\n\\t\\t\\t\\t\\t<mode>A02</mode>\\r\\n\\t\\t\\t\\t\\t<tmEf>2020-01-06 00:00</tmEf>\\r\\n\\t\\t\\t\\t\\t<wf>구름많음</wf>\\r\\n\\t\\t\\t\\t\\t<tmn>2</tmn>\\r\\n\\t\\t\\t\\t\\t<tmx>9</tmx>\\r\\n\\t\\t\\t\\t\\t<reliability></reliability>\\r\\n\\t\\t\\t\\t\\t<rnSt>30</rnSt>\\r\\n\\t\\t\\t\\t</data>\\r\\n\\r\\n\\t\\t\\t\\t\\r\\n\\t\\t\\t\\t<data>\\r\\n\\t\\t\\t\\t\\t<mode>A02</mode>\\r\\n\\t\\t\\t\\t\\t<tmEf>2020-01-06 12:00</tmEf>\\r\\n\\t\\t\\t\\t\\t<wf>흐리고 비</wf>\\r\\n\\t\\t\\t\\t\\t<tmn>2</tmn>\\r\\n\\t\\t\\t\\t\\t<tmx>9</tmx>\\r\\n\\t\\t\\t\\t\\t<reliability></reliability>\\r\\n\\t\\t\\t\\t\\t<rnSt>80</rnSt>\\r\\n\\t\\t\\t\\t</data>\\r\\n\\r\\n\\t\\t\\t\\t\\r\\n\\t\\t\\t\\t<data>\\r\\n\\t\\t\\t\\t\\t<mode>A02</mode>\\r\\n\\t\\t\\t\\t\\t<tmEf>2020-01-07 00:00</tmEf>\\r\\n\\t\\t\\t\\t\\t<wf>흐리고 비</wf>\\r\\n\\t\\t\\t\\t\\t<tmn>7</tmn>\\r\\n\\t\\t\\t\\t\\t<tmx>10</tmx>\\r\\n\\t\\t\\t\\t\\t<reliability></reliability>\\r\\n\\t\\t\\t\\t\\t<rnSt>80</rnSt>\\r\\n\\t\\t\\t\\t</data>\\r\\n\\r\\n\\t\\t\\t\\t\\r\\n\\t\\t\\t\\t<data>\\r\\n\\t\\t\\t\\t\\t<mode>A02</mode>\\r\\n\\t\\t\\t\\t\\t<tmEf>2020-01-07 12:00</tmEf>\\r\\n\\t\\t\\t\\t\\t<wf>흐리고 비</wf>\\r\\n\\t\\t\\t\\t\\t<tmn>7</tmn>\\r\\n\\t\\t\\t\\t\\t<tmx>10</tmx>\\r\\n\\t\\t\\t\\t\\t<reliability></reliability>\\r\\n\\t\\t\\t\\t\\t<rnSt>70</rnSt>\\r\\n\\t\\t\\t\\t</data>\\r\\n\\r\\n\\t\\t\\t\\t\\r\\n\\t\\t\\t\\t<data>\\r\\n\\t\\t\\t\\t\\t<mode>A01</mode>\\r\\n\\t\\t\\t\\t\\t<tmEf>2020-01-08 00:00</tmEf>\\r\\n\\t\\t\\t\\t\\t<wf>흐리고 비</wf>\\r\\n\\t\\t\\t\\t\\t<tmn>5</tmn>\\r\\n\\t\\t\\t\\t\\t<tmx>8</tmx>\\r\\n\\t\\t\\t\\t\\t<reliability></reliability>\\r\\n\\t\\t\\t\\t\\t<rnSt>70</rnSt>\\r\\n\\t\\t\\t\\t</data>\\r\\n\\r\\n\\t\\t\\t\\t\\r\\n\\t\\t\\t\\t<data>\\r\\n\\t\\t\\t\\t\\t<mode>A01</mode>\\r\\n\\t\\t\\t\\t\\t<tmEf>2020-01-09 00:00</tmEf>\\r\\n\\t\\t\\t\\t\\t<wf>구름많음</wf>\\r\\n\\t\\t\\t\\t\\t<tmn>1</tmn>\\r\\n\\t\\t\\t\\t\\t<tmx>7</tmx>\\r\\n\\t\\t\\t\\t\\t<reliability></reliability>\\r\\n\\t\\t\\t\\t\\t<rnSt>40</rnSt>\\r\\n\\t\\t\\t\\t</data>\\r\\n\\r\\n\\t\\t\\t\\t\\r\\n\\t\\t\\t\\t<data>\\r\\n\\t\\t\\t\\t\\t<mode>A01</mode>\\r\\n\\t\\t\\t\\t\\t<tmEf>2020-01-10 00:00</tmEf>\\r\\n\\t\\t\\t\\t\\t<wf>구름많음</wf>\\r\\n\\t\\t\\t\\t\\t<tmn>1</tmn>\\r\\n\\t\\t\\t\\t\\t<tmx>8</tmx>\\r\\n\\t\\t\\t\\t\\t<reliability></reliability>\\r\\n\\t\\t\\t\\t\\t<rnSt>30</rnSt>\\r\\n\\t\\t\\t\\t</data>\\r\\n\\r\\n\\r\\n\\t\\t</location>\\r\\n\\r\\n\\t\\t<location wl_ver=\"3\">\\r\\n\\t\\t\\t\\t<province>전라북도</province>\\r\\n\\t\\t\\t\\t<city>무주</city>\\r\\n\\t\\t\\t\\t\\r\\n\\t\\t\\t\\t<data>\\r\\n\\t\\t\\t\\t\\t<mode>A02</mode>\\r\\n\\t\\t\\t\\t\\t<tmEf>2020-01-03 00:00</tmEf>\\r\\n\\t\\t\\t\\t\\t<wf>구름많음</wf>\\r\\n\\t\\t\\t\\t\\t<tmn>-4</tmn>\\r\\n\\t\\t\\t\\t\\t<tmx>7</tmx>\\r\\n\\t\\t\\t\\t\\t<reliability></reliability>\\r\\n\\t\\t\\t\\t\\t<rnSt>30</rnSt>\\r\\n\\t\\t\\t\\t</data>\\r\\n\\r\\n\\t\\t\\t\\t\\r\\n\\t\\t\\t\\t<data>\\r\\n\\t\\t\\t\\t\\t<mode>A02</mode>\\r\\n\\t\\t\\t\\t\\t<tmEf>2020-01-03 12:00</tmEf>\\r\\n\\t\\t\\t\\t\\t<wf>구름많음</wf>\\r\\n\\t\\t\\t\\t\\t<tmn>-4</tmn>\\r\\n\\t\\t\\t\\t\\t<tmx>7</tmx>\\r\\n\\t\\t\\t\\t\\t<reliability></reliability>\\r\\n\\t\\t\\t\\t\\t<rnSt>30</rnSt>\\r\\n\\t\\t\\t\\t</data>\\r\\n\\r\\n\\t\\t\\t\\t\\r\\n\\t\\t\\t\\t<data>\\r\\n\\t\\t\\t\\t\\t<mode>A02</mode>\\r\\n\\t\\t\\t\\t\\t<tmEf>2020-01-04 00:00</tmEf>\\r\\n\\t\\t\\t\\t\\t<wf>맑음</wf>\\r\\n\\t\\t\\t\\t\\t<tmn>-1</tmn>\\r\\n\\t\\t\\t\\t\\t<tmx>7</tmx>\\r\\n\\t\\t\\t\\t\\t<reliability></reliability>\\r\\n\\t\\t\\t\\t\\t<rnSt>10</rnSt>\\r\\n\\t\\t\\t\\t</data>\\r\\n\\r\\n\\t\\t\\t\\t\\r\\n\\t\\t\\t\\t<data>\\r\\n\\t\\t\\t\\t\\t<mode>A02</mode>\\r\\n\\t\\t\\t\\t\\t<tmEf>2020-01-04 12:00</tmEf>\\r\\n\\t\\t\\t\\t\\t<wf>맑음</wf>\\r\\n\\t\\t\\t\\t\\t<tmn>-1</tmn>\\r\\n\\t\\t\\t\\t\\t<tmx>7</tmx>\\r\\n\\t\\t\\t\\t\\t<reliability></reliability>\\r\\n\\t\\t\\t\\t\\t<rnSt>0</rnSt>\\r\\n\\t\\t\\t\\t</data>\\r\\n\\r\\n\\t\\t\\t\\t\\r\\n\\t\\t\\t\\t<data>\\r\\n\\t\\t\\t\\t\\t<mode>A02</mode>\\r\\n\\t\\t\\t\\t\\t<tmEf>2020-01-05 00:00</tmEf>\\r\\n\\t\\t\\t\\t\\t<wf>맑음</wf>\\r\\n\\t\\t\\t\\t\\t<tmn>-6</tmn>\\r\\n\\t\\t\\t\\t\\t<tmx>7</tmx>\\r\\n\\t\\t\\t\\t\\t<reliability></reliability>\\r\\n\\t\\t\\t\\t\\t<rnSt>0</rnSt>\\r\\n\\t\\t\\t\\t</data>\\r\\n\\r\\n\\t\\t\\t\\t\\r\\n\\t\\t\\t\\t<data>\\r\\n\\t\\t\\t\\t\\t<mode>A02</mode>\\r\\n\\t\\t\\t\\t\\t<tmEf>2020-01-05 12:00</tmEf>\\r\\n\\t\\t\\t\\t\\t<wf>구름많음</wf>\\r\\n\\t\\t\\t\\t\\t<tmn>-6</tmn>\\r\\n\\t\\t\\t\\t\\t<tmx>7</tmx>\\r\\n\\t\\t\\t\\t\\t<reliability></reliability>\\r\\n\\t\\t\\t\\t\\t<rnSt>30</rnSt>\\r\\n\\t\\t\\t\\t</data>\\r\\n\\r\\n\\t\\t\\t\\t\\r\\n\\t\\t\\t\\t<data>\\r\\n\\t\\t\\t\\t\\t<mode>A02</mode>\\r\\n\\t\\t\\t\\t\\t<tmEf>2020-01-06 00:00</tmEf>\\r\\n\\t\\t\\t\\t\\t<wf>구름많음</wf>\\r\\n\\t\\t\\t\\t\\t<tmn>-3</tmn>\\r\\n\\t\\t\\t\\t\\t<tmx>7</tmx>\\r\\n\\t\\t\\t\\t\\t<reliability></reliability>\\r\\n\\t\\t\\t\\t\\t<rnSt>30</rnSt>\\r\\n\\t\\t\\t\\t</data>\\r\\n\\r\\n\\t\\t\\t\\t\\r\\n\\t\\t\\t\\t<data>\\r\\n\\t\\t\\t\\t\\t<mode>A02</mode>\\r\\n\\t\\t\\t\\t\\t<tmEf>2020-01-06 12:00</tmEf>\\r\\n\\t\\t\\t\\t\\t<wf>흐리고 비</wf>\\r\\n\\t\\t\\t\\t\\t<tmn>-3</tmn>\\r\\n\\t\\t\\t\\t\\t<tmx>7</tmx>\\r\\n\\t\\t\\t\\t\\t<reliability></reliability>\\r\\n\\t\\t\\t\\t\\t<rnSt>80</rnSt>\\r\\n\\t\\t\\t\\t</data>\\r\\n\\r\\n\\t\\t\\t\\t\\r\\n\\t\\t\\t\\t<data>\\r\\n\\t\\t\\t\\t\\t<mode>A02</mode>\\r\\n\\t\\t\\t\\t\\t<tmEf>2020-01-07 00:00</tmEf>\\r\\n\\t\\t\\t\\t\\t<wf>흐리고 비</wf>\\r\\n\\t\\t\\t\\t\\t<tmn>1</tmn>\\r\\n\\t\\t\\t\\t\\t<tmx>9</tmx>\\r\\n\\t\\t\\t\\t\\t<reliability></reliability>\\r\\n\\t\\t\\t\\t\\t<rnSt>80</rnSt>\\r\\n\\t\\t\\t\\t</data>\\r\\n\\r\\n\\t\\t\\t\\t\\r\\n\\t\\t\\t\\t<data>\\r\\n\\t\\t\\t\\t\\t<mode>A02</mode>\\r\\n\\t\\t\\t\\t\\t<tmEf>2020-01-07 12:00</tmEf>\\r\\n\\t\\t\\t\\t\\t<wf>흐리고 비</wf>\\r\\n\\t\\t\\t\\t\\t<tmn>1</tmn>\\r\\n\\t\\t\\t\\t\\t<tmx>9</tmx>\\r\\n\\t\\t\\t\\t\\t<reliability></reliability>\\r\\n\\t\\t\\t\\t\\t<rnSt>70</rnSt>\\r\\n\\t\\t\\t\\t</data>\\r\\n\\r\\n\\t\\t\\t\\t\\r\\n\\t\\t\\t\\t<data>\\r\\n\\t\\t\\t\\t\\t<mode>A01</mode>\\r\\n\\t\\t\\t\\t\\t<tmEf>2020-01-08 00:00</tmEf>\\r\\n\\t\\t\\t\\t\\t<wf>흐리고 비</wf>\\r\\n\\t\\t\\t\\t\\t<tmn>1</tmn>\\r\\n\\t\\t\\t\\t\\t<tmx>5</tmx>\\r\\n\\t\\t\\t\\t\\t<reliability></reliability>\\r\\n\\t\\t\\t\\t\\t<rnSt>70</rnSt>\\r\\n\\t\\t\\t\\t</data>\\r\\n\\r\\n\\t\\t\\t\\t\\r\\n\\t\\t\\t\\t<data>\\r\\n\\t\\t\\t\\t\\t<mode>A01</mode>\\r\\n\\t\\t\\t\\t\\t<tmEf>2020-01-09 00:00</tmEf>\\r\\n\\t\\t\\t\\t\\t<wf>구름많음</wf>\\r\\n\\t\\t\\t\\t\\t<tmn>-5</tmn>\\r\\n\\t\\t\\t\\t\\t<tmx>4</tmx>\\r\\n\\t\\t\\t\\t\\t<reliability></reliability>\\r\\n\\t\\t\\t\\t\\t<rnSt>40</rnSt>\\r\\n\\t\\t\\t\\t</data>\\r\\n\\r\\n\\t\\t\\t\\t\\r\\n\\t\\t\\t\\t<data>\\r\\n\\t\\t\\t\\t\\t<mode>A01</mode>\\r\\n\\t\\t\\t\\t\\t<tmEf>2020-01-10 00:00</tmEf>\\r\\n\\t\\t\\t\\t\\t<wf>구름많음</wf>\\r\\n\\t\\t\\t\\t\\t<tmn>-4</tmn>\\r\\n\\t\\t\\t\\t\\t<tmx>6</tmx>\\r\\n\\t\\t\\t\\t\\t<reliability></reliability>\\r\\n\\t\\t\\t\\t\\t<rnSt>30</rnSt>\\r\\n\\t\\t\\t\\t</data>\\r\\n\\r\\n\\r\\n\\t\\t</location>\\r\\n\\r\\n\\r\\n\\r\\n\\t\\t<location wl_ver=\"3\">\\r\\n\\t\\t\\t\\t<province>부산ㆍ울산ㆍ경상남도</province>\\r\\n\\t\\t\\t\\t<city>부산</city>\\r\\n\\t\\t\\t\\t\\r\\n\\t\\t\\t\\t<data>\\r\\n\\t\\t\\t\\t\\t<mode>A02</mode>\\r\\n\\t\\t\\t\\t\\t<tmEf>2020-01-03 00:00</tmEf>\\r\\n\\t\\t\\t\\t\\t<wf>구름많음</wf>\\r\\n\\t\\t\\t\\t\\t<tmn>2</tmn>\\r\\n\\t\\t\\t\\t\\t<tmx>10</tmx>\\r\\n\\t\\t\\t\\t\\t<reliability></reliability>\\r\\n\\t\\t\\t\\t\\t<rnSt>30</rnSt>\\r\\n\\t\\t\\t\\t</data>\\r\\n\\r\\n\\t\\t\\t\\t\\r\\n\\t\\t\\t\\t<data>\\r\\n\\t\\t\\t\\t\\t<mode>A02</mode>\\r\\n\\t\\t\\t\\t\\t<tmEf>2020-01-03 12:00</tmEf>\\r\\n\\t\\t\\t\\t\\t<wf>구름많음</wf>\\r\\n\\t\\t\\t\\t\\t<tmn>2</tmn>\\r\\n\\t\\t\\t\\t\\t<tmx>10</tmx>\\r\\n\\t\\t\\t\\t\\t<reliability></reliability>\\r\\n\\t\\t\\t\\t\\t<rnSt>30</rnSt>\\r\\n\\t\\t\\t\\t</data>\\r\\n\\r\\n\\t\\t\\t\\t\\r\\n\\t\\t\\t\\t<data>\\r\\n\\t\\t\\t\\t\\t<mode>A02</mode>\\r\\n\\t\\t\\t\\t\\t<tmEf>2020-01-04 00:00</tmEf>\\r\\n\\t\\t\\t\\t\\t<wf>맑음</wf>\\r\\n\\t\\t\\t\\t\\t<tmn>3</tmn>\\r\\n\\t\\t\\t\\t\\t<tmx>11</tmx>\\r\\n\\t\\t\\t\\t\\t<reliability></reliability>\\r\\n\\t\\t\\t\\t\\t<rnSt>0</rnSt>\\r\\n\\t\\t\\t\\t</data>\\r\\n\\r\\n\\t\\t\\t\\t\\r\\n\\t\\t\\t\\t<data>\\r\\n\\t\\t\\t\\t\\t<mode>A02</mode>\\r\\n\\t\\t\\t\\t\\t<tmEf>2020-01-04 12:00</tmEf>\\r\\n\\t\\t\\t\\t\\t<wf>맑음</wf>\\r\\n\\t\\t\\t\\t\\t<tmn>3</tmn>\\r\\n\\t\\t\\t\\t\\t<tmx>11</tmx>\\r\\n\\t\\t\\t\\t\\t<reliability></reliability>\\r\\n\\t\\t\\t\\t\\t<rnSt>0</rnSt>\\r\\n\\t\\t\\t\\t</data>\\r\\n\\r\\n\\t\\t\\t\\t\\r\\n\\t\\t\\t\\t<data>\\r\\n\\t\\t\\t\\t\\t<mode>A02</mode>\\r\\n\\t\\t\\t\\t\\t<tmEf>2020-01-05 00:00</tmEf>\\r\\n\\t\\t\\t\\t\\t<wf>맑음</wf>\\r\\n\\t\\t\\t\\t\\t<tmn>1</tmn>\\r\\n\\t\\t\\t\\t\\t<tmx>12</tmx>\\r\\n\\t\\t\\t\\t\\t<reliability></reliability>\\r\\n\\t\\t\\t\\t\\t<rnSt>0</rnSt>\\r\\n\\t\\t\\t\\t</data>\\r\\n\\r\\n\\t\\t\\t\\t\\r\\n\\t\\t\\t\\t<data>\\r\\n\\t\\t\\t\\t\\t<mode>A02</mode>\\r\\n\\t\\t\\t\\t\\t<tmEf>2020-01-05 12:00</tmEf>\\r\\n\\t\\t\\t\\t\\t<wf>구름많음</wf>\\r\\n\\t\\t\\t\\t\\t<tmn>1</tmn>\\r\\n\\t\\t\\t\\t\\t<tmx>12</tmx>\\r\\n\\t\\t\\t\\t\\t<reliability></reliability>\\r\\n\\t\\t\\t\\t\\t<rnSt>30</rnSt>\\r\\n\\t\\t\\t\\t</data>\\r\\n\\r\\n\\t\\t\\t\\t\\r\\n\\t\\t\\t\\t<data>\\r\\n\\t\\t\\t\\t\\t<mode>A02</mode>\\r\\n\\t\\t\\t\\t\\t<tmEf>2020-01-06 00:00</tmEf>\\r\\n\\t\\t\\t\\t\\t<wf>구름많음</wf>\\r\\n\\t\\t\\t\\t\\t<tmn>5</tmn>\\r\\n\\t\\t\\t\\t\\t<tmx>11</tmx>\\r\\n\\t\\t\\t\\t\\t<reliability></reliability>\\r\\n\\t\\t\\t\\t\\t<rnSt>30</rnSt>\\r\\n\\t\\t\\t\\t</data>\\r\\n\\r\\n\\t\\t\\t\\t\\r\\n\\t\\t\\t\\t<data>\\r\\n\\t\\t\\t\\t\\t<mode>A02</mode>\\r\\n\\t\\t\\t\\t\\t<tmEf>2020-01-06 12:00</tmEf>\\r\\n\\t\\t\\t\\t\\t<wf>흐리고 비</wf>\\r\\n\\t\\t\\t\\t\\t<tmn>5</tmn>\\r\\n\\t\\t\\t\\t\\t<tmx>11</tmx>\\r\\n\\t\\t\\t\\t\\t<reliability></reliability>\\r\\n\\t\\t\\t\\t\\t<rnSt>60</rnSt>\\r\\n\\t\\t\\t\\t</data>\\r\\n\\r\\n\\t\\t\\t\\t\\r\\n\\t\\t\\t\\t<data>\\r\\n\\t\\t\\t\\t\\t<mode>A02</mode>\\r\\n\\t\\t\\t\\t\\t<tmEf>2020-01-07 00:00</tmEf>\\r\\n\\t\\t\\t\\t\\t<wf>흐리고 비</wf>\\r\\n\\t\\t\\t\\t\\t<tmn>8</tmn>\\r\\n\\t\\t\\t\\t\\t<tmx>13</tmx>\\r\\n\\t\\t\\t\\t\\t<reliability></reliability>\\r\\n\\t\\t\\t\\t\\t<rnSt>80</rnSt>\\r\\n\\t\\t\\t\\t</data>\\r\\n\\r\\n\\t\\t\\t\\t\\r\\n\\t\\t\\t\\t<data>\\r\\n\\t\\t\\t\\t\\t<mode>A02</mode>\\r\\n\\t\\t\\t\\t\\t<tmEf>2020-01-07 12:00</tmEf>\\r\\n\\t\\t\\t\\t\\t<wf>흐리고 비</wf>\\r\\n\\t\\t\\t\\t\\t<tmn>8</tmn>\\r\\n\\t\\t\\t\\t\\t<tmx>13</tmx>\\r\\n\\t\\t\\t\\t\\t<reliability></reliability>\\r\\n\\t\\t\\t\\t\\t<rnSt>80</rnSt>\\r\\n\\t\\t\\t\\t</data>\\r\\n\\r\\n\\t\\t\\t\\t\\r\\n\\t\\t\\t\\t<data>\\r\\n\\t\\t\\t\\t\\t<mode>A01</mode>\\r\\n\\t\\t\\t\\t\\t<tmEf>2020-01-08 00:00</tmEf>\\r\\n\\t\\t\\t\\t\\t<wf>흐리고 비</wf>\\r\\n\\t\\t\\t\\t\\t<tmn>8</tmn>\\r\\n\\t\\t\\t\\t\\t<tmx>11</tmx>\\r\\n\\t\\t\\t\\t\\t<reliability></reliability>\\r\\n\\t\\t\\t\\t\\t<rnSt>70</rnSt>\\r\\n\\t\\t\\t\\t</data>\\r\\n\\r\\n\\t\\t\\t\\t\\r\\n\\t\\t\\t\\t<data>\\r\\n\\t\\t\\t\\t\\t<mode>A01</mode>\\r\\n\\t\\t\\t\\t\\t<tmEf>2020-01-09 00:00</tmEf>\\r\\n\\t\\t\\t\\t\\t<wf>구름많음</wf>\\r\\n\\t\\t\\t\\t\\t<tmn>4</tmn>\\r\\n\\t\\t\\t\\t\\t<tmx>10</tmx>\\r\\n\\t\\t\\t\\t\\t<reliability></reliability>\\r\\n\\t\\t\\t\\t\\t<rnSt>40</rnSt>\\r\\n\\t\\t\\t\\t</data>\\r\\n\\r\\n\\t\\t\\t\\t\\r\\n\\t\\t\\t\\t<data>\\r\\n\\t\\t\\t\\t\\t<mode>A01</mode>\\r\\n\\t\\t\\t\\t\\t<tmEf>2020-01-10 00:00</tmEf>\\r\\n\\t\\t\\t\\t\\t<wf>구름많음</wf>\\r\\n\\t\\t\\t\\t\\t<tmn>4</tmn>\\r\\n\\t\\t\\t\\t\\t<tmx>11</tmx>\\r\\n\\t\\t\\t\\t\\t<reliability></reliability>\\r\\n\\t\\t\\t\\t\\t<rnSt>30</rnSt>\\r\\n\\t\\t\\t\\t</data>\\r\\n\\r\\n\\r\\n\\t\\t</location>\\r\\n\\r\\n\\t\\t<location wl_ver=\"3\">\\r\\n\\t\\t\\t\\t<province>부산ㆍ울산ㆍ경상남도</province>\\r\\n\\t\\t\\t\\t<city>울산</city>\\r\\n\\t\\t\\t\\t\\r\\n\\t\\t\\t\\t<data>\\r\\n\\t\\t\\t\\t\\t<mode>A02</mode>\\r\\n\\t\\t\\t\\t\\t<tmEf>2020-01-03 00:00</tmEf>\\r\\n\\t\\t\\t\\t\\t<wf>구름많음</wf>\\r\\n\\t\\t\\t\\t\\t<tmn>0</tmn>\\r\\n\\t\\t\\t\\t\\t<tmx>10</tmx>\\r\\n\\t\\t\\t\\t\\t<reliability></reliability>\\r\\n\\t\\t\\t\\t\\t<rnSt>30</rnSt>\\r\\n\\t\\t\\t\\t</data>\\r\\n\\r\\n\\t\\t\\t\\t\\r\\n\\t\\t\\t\\t<data>\\r\\n\\t\\t\\t\\t\\t<mode>A02</mode>\\r\\n\\t\\t\\t\\t\\t<tmEf>2020-01-03 12:00</tmEf>\\r\\n\\t\\t\\t\\t\\t<wf>구름많음</wf>\\r\\n\\t\\t\\t\\t\\t<tmn>0</tmn>\\r\\n\\t\\t\\t\\t\\t<tmx>10</tmx>\\r\\n\\t\\t\\t\\t\\t<reliability></reliability>\\r\\n\\t\\t\\t\\t\\t<rnSt>30</rnSt>\\r\\n\\t\\t\\t\\t</data>\\r\\n\\r\\n\\t\\t\\t\\t\\r\\n\\t\\t\\t\\t<data>\\r\\n\\t\\t\\t\\t\\t<mode>A02</mode>\\r\\n\\t\\t\\t\\t\\t<tmEf>2020-01-04 00:00</tmEf>\\r\\n\\t\\t\\t\\t\\t<wf>맑음</wf>\\r\\n\\t\\t\\t\\t\\t<tmn>1</tmn>\\r\\n\\t\\t\\t\\t\\t<tmx>10</tmx>\\r\\n\\t\\t\\t\\t\\t<reliability></reliability>\\r\\n\\t\\t\\t\\t\\t<rnSt>0</rnSt>\\r\\n\\t\\t\\t\\t</data>\\r\\n\\r\\n\\t\\t\\t\\t\\r\\n\\t\\t\\t\\t<data>\\r\\n\\t\\t\\t\\t\\t<mode>A02</mode>\\r\\n\\t\\t\\t\\t\\t<tmEf>2020-01-04 12:00</tmEf>\\r\\n\\t\\t\\t\\t\\t<wf>맑음</wf>\\r\\n\\t\\t\\t\\t\\t<tmn>1</tmn>\\r\\n\\t\\t\\t\\t\\t<tmx>10</tmx>\\r\\n\\t\\t\\t\\t\\t<reliability></reliability>\\r\\n\\t\\t\\t\\t\\t<rnSt>0</rnSt>\\r\\n\\t\\t\\t\\t</data>\\r\\n\\r\\n\\t\\t\\t\\t\\r\\n\\t\\t\\t\\t<data>\\r\\n\\t\\t\\t\\t\\t<mode>A02</mode>\\r\\n\\t\\t\\t\\t\\t<tmEf>2020-01-05 00:00</tmEf>\\r\\n\\t\\t\\t\\t\\t<wf>맑음</wf>\\r\\n\\t\\t\\t\\t\\t<tmn>-1</tmn>\\r\\n\\t\\t\\t\\t\\t<tmx>10</tmx>\\r\\n\\t\\t\\t\\t\\t<reliability></reliability>\\r\\n\\t\\t\\t\\t\\t<rnSt>0</rnSt>\\r\\n\\t\\t\\t\\t</data>\\r\\n\\r\\n\\t\\t\\t\\t\\r\\n\\t\\t\\t\\t<data>\\r\\n\\t\\t\\t\\t\\t<mode>A02</mode>\\r\\n\\t\\t\\t\\t\\t<tmEf>2020-01-05 12:00</tmEf>\\r\\n\\t\\t\\t\\t\\t<wf>구름많음</wf>\\r\\n\\t\\t\\t\\t\\t<tmn>-1</tmn>\\r\\n\\t\\t\\t\\t\\t<tmx>10</tmx>\\r\\n\\t\\t\\t\\t\\t<reliability></reliability>\\r\\n\\t\\t\\t\\t\\t<rnSt>30</rnSt>\\r\\n\\t\\t\\t\\t</data>\\r\\n\\r\\n\\t\\t\\t\\t\\r\\n\\t\\t\\t\\t<data>\\r\\n\\t\\t\\t\\t\\t<mode>A02</mode>\\r\\n\\t\\t\\t\\t\\t<tmEf>2020-01-06 00:00</tmEf>\\r\\n\\t\\t\\t\\t\\t<wf>구름많음</wf>\\r\\n\\t\\t\\t\\t\\t<tmn>1</tmn>\\r\\n\\t\\t\\t\\t\\t<tmx>9</tmx>\\r\\n\\t\\t\\t\\t\\t<reliability></reliability>\\r\\n\\t\\t\\t\\t\\t<rnSt>30</rnSt>\\r\\n\\t\\t\\t\\t</data>\\r\\n\\r\\n\\t\\t\\t\\t\\r\\n\\t\\t\\t\\t<data>\\r\\n\\t\\t\\t\\t\\t<mode>A02</mode>\\r\\n\\t\\t\\t\\t\\t<tmEf>2020-01-06 12:00</tmEf>\\r\\n\\t\\t\\t\\t\\t<wf>흐리고 비</wf>\\r\\n\\t\\t\\t\\t\\t<tmn>1</tmn>\\r\\n\\t\\t\\t\\t\\t<tmx>9</tmx>\\r\\n\\t\\t\\t\\t\\t<reliability></reliability>\\r\\n\\t\\t\\t\\t\\t<rnSt>60</rnSt>\\r\\n\\t\\t\\t\\t</data>\\r\\n\\r\\n\\t\\t\\t\\t\\r\\n\\t\\t\\t\\t<data>\\r\\n\\t\\t\\t\\t\\t<mode>A02</mode>\\r\\n\\t\\t\\t\\t\\t<tmEf>2020-01-07 00:00</tmEf>\\r\\n\\t\\t\\t\\t\\t<wf>흐리고 비</wf>\\r\\n\\t\\t\\t\\t\\t<tmn>5</tmn>\\r\\n\\t\\t\\t\\t\\t<tmx>11</tmx>\\r\\n\\t\\t\\t\\t\\t<reliability></reliability>\\r\\n\\t\\t\\t\\t\\t<rnSt>80</rnSt>\\r\\n\\t\\t\\t\\t</data>\\r\\n\\r\\n\\t\\t\\t\\t\\r\\n\\t\\t\\t\\t<data>\\r\\n\\t\\t\\t\\t\\t<mode>A02</mode>\\r\\n\\t\\t\\t\\t\\t<tmEf>2020-01-07 12:00</tmEf>\\r\\n\\t\\t\\t\\t\\t<wf>흐리고 비</wf>\\r\\n\\t\\t\\t\\t\\t<tmn>5</tmn>\\r\\n\\t\\t\\t\\t\\t<tmx>11</tmx>\\r\\n\\t\\t\\t\\t\\t<reliability></reliability>\\r\\n\\t\\t\\t\\t\\t<rnSt>80</rnSt>\\r\\n\\t\\t\\t\\t</data>\\r\\n\\r\\n\\t\\t\\t\\t\\r\\n\\t\\t\\t\\t<data>\\r\\n\\t\\t\\t\\t\\t<mode>A01</mode>\\r\\n\\t\\t\\t\\t\\t<tmEf>2020-01-08 00:00</tmEf>\\r\\n\\t\\t\\t\\t\\t<wf>흐리고 비</wf>\\r\\n\\t\\t\\t\\t\\t<tmn>5</tmn>\\r\\n\\t\\t\\t\\t\\t<tmx>9</tmx>\\r\\n\\t\\t\\t\\t\\t<reliability></reliability>\\r\\n\\t\\t\\t\\t\\t<rnSt>70</rnSt>\\r\\n\\t\\t\\t\\t</data>\\r\\n\\r\\n\\t\\t\\t\\t\\r\\n\\t\\t\\t\\t<data>\\r\\n\\t\\t\\t\\t\\t<mode>A01</mode>\\r\\n\\t\\t\\t\\t\\t<tmEf>2020-01-09 00:00</tmEf>\\r\\n\\t\\t\\t\\t\\t<wf>구름많음</wf>\\r\\n\\t\\t\\t\\t\\t<tmn>2</tmn>\\r\\n\\t\\t\\t\\t\\t<tmx>8</tmx>\\r\\n\\t\\t\\t\\t\\t<reliability></reliability>\\r\\n\\t\\t\\t\\t\\t<rnSt>40</rnSt>\\r\\n\\t\\t\\t\\t</data>\\r\\n\\r\\n\\t\\t\\t\\t\\r\\n\\t\\t\\t\\t<data>\\r\\n\\t\\t\\t\\t\\t<mode>A01</mode>\\r\\n\\t\\t\\t\\t\\t<tmEf>2020-01-10 00:00</tmEf>\\r\\n\\t\\t\\t\\t\\t<wf>구름많음</wf>\\r\\n\\t\\t\\t\\t\\t<tmn>2</tmn>\\r\\n\\t\\t\\t\\t\\t<tmx>10</tmx>\\r\\n\\t\\t\\t\\t\\t<reliability></reliability>\\r\\n\\t\\t\\t\\t\\t<rnSt>30</rnSt>\\r\\n\\t\\t\\t\\t</data>\\r\\n\\r\\n\\r\\n\\t\\t</location>\\r\\n\\r\\n\\t\\t<location wl_ver=\"3\">\\r\\n\\t\\t\\t\\t<province>부산ㆍ울산ㆍ경상남도</province>\\r\\n\\t\\t\\t\\t<city>창원</city>\\r\\n\\t\\t\\t\\t\\r\\n\\t\\t\\t\\t<data>\\r\\n\\t\\t\\t\\t\\t<mode>A02</mode>\\r\\n\\t\\t\\t\\t\\t<tmEf>2020-01-03 00:00</tmEf>\\r\\n\\t\\t\\t\\t\\t<wf>구름많음</wf>\\r\\n\\t\\t\\t\\t\\t<tmn>0</tmn>\\r\\n\\t\\t\\t\\t\\t<tmx>9</tmx>\\r\\n\\t\\t\\t\\t\\t<reliability></reliability>\\r\\n\\t\\t\\t\\t\\t<rnSt>30</rnSt>\\r\\n\\t\\t\\t\\t</data>\\r\\n\\r\\n\\t\\t\\t\\t\\r\\n\\t\\t\\t\\t<data>\\r\\n\\t\\t\\t\\t\\t<mode>A02</mode>\\r\\n\\t\\t\\t\\t\\t<tmEf>2020-01-03 12:00</tmEf>\\r\\n\\t\\t\\t\\t\\t<wf>구름많음</wf>\\r\\n\\t\\t\\t\\t\\t<tmn>0</tmn>\\r\\n\\t\\t\\t\\t\\t<tmx>9</tmx>\\r\\n\\t\\t\\t\\t\\t<reliability></reliability>\\r\\n\\t\\t\\t\\t\\t<rnSt>30</rnSt>\\r\\n\\t\\t\\t\\t</data>\\r\\n\\r\\n\\t\\t\\t\\t\\r\\n\\t\\t\\t\\t<data>\\r\\n\\t\\t\\t\\t\\t<mode>A02</mode>\\r\\n\\t\\t\\t\\t\\t<tmEf>2020-01-04 00:00</tmEf>\\r\\n\\t\\t\\t\\t\\t<wf>맑음</wf>\\r\\n\\t\\t\\t\\t\\t<tmn>1</tmn>\\r\\n\\t\\t\\t\\t\\t<tmx>10</tmx>\\r\\n\\t\\t\\t\\t\\t<reliability></reliability>\\r\\n\\t\\t\\t\\t\\t<rnSt>0</rnSt>\\r\\n\\t\\t\\t\\t</data>\\r\\n\\r\\n\\t\\t\\t\\t\\r\\n\\t\\t\\t\\t<data>\\r\\n\\t\\t\\t\\t\\t<mode>A02</mode>\\r\\n\\t\\t\\t\\t\\t<tmEf>2020-01-04 12:00</tmEf>\\r\\n\\t\\t\\t\\t\\t<wf>맑음</wf>\\r\\n\\t\\t\\t\\t\\t<tmn>1</tmn>\\r\\n\\t\\t\\t\\t\\t<tmx>10</tmx>\\r\\n\\t\\t\\t\\t\\t<reliability></reliability>\\r\\n\\t\\t\\t\\t\\t<rnSt>0</rnSt>\\r\\n\\t\\t\\t\\t</data>\\r\\n\\r\\n\\t\\t\\t\\t\\r\\n\\t\\t\\t\\t<data>\\r\\n\\t\\t\\t\\t\\t<mode>A02</mode>\\r\\n\\t\\t\\t\\t\\t<tmEf>2020-01-05 00:00</tmEf>\\r\\n\\t\\t\\t\\t\\t<wf>맑음</wf>\\r\\n\\t\\t\\t\\t\\t<tmn>-1</tmn>\\r\\n\\t\\t\\t\\t\\t<tmx>9</tmx>\\r\\n\\t\\t\\t\\t\\t<reliability></reliability>\\r\\n\\t\\t\\t\\t\\t<rnSt>0</rnSt>\\r\\n\\t\\t\\t\\t</data>\\r\\n\\r\\n\\t\\t\\t\\t\\r\\n\\t\\t\\t\\t<data>\\r\\n\\t\\t\\t\\t\\t<mode>A02</mode>\\r\\n\\t\\t\\t\\t\\t<tmEf>2020-01-05 12:00</tmEf>\\r\\n\\t\\t\\t\\t\\t<wf>구름많음</wf>\\r\\n\\t\\t\\t\\t\\t<tmn>-1</tmn>\\r\\n\\t\\t\\t\\t\\t<tmx>9</tmx>\\r\\n\\t\\t\\t\\t\\t<reliability></reliability>\\r\\n\\t\\t\\t\\t\\t<rnSt>30</rnSt>\\r\\n\\t\\t\\t\\t</data>\\r\\n\\r\\n\\t\\t\\t\\t\\r\\n\\t\\t\\t\\t<data>\\r\\n\\t\\t\\t\\t\\t<mode>A02</mode>\\r\\n\\t\\t\\t\\t\\t<tmEf>2020-01-06 00:00</tmEf>\\r\\n\\t\\t\\t\\t\\t<wf>구름많음</wf>\\r\\n\\t\\t\\t\\t\\t<tmn>1</tmn>\\r\\n\\t\\t\\t\\t\\t<tmx>8</tmx>\\r\\n\\t\\t\\t\\t\\t<reliability></reliability>\\r\\n\\t\\t\\t\\t\\t<rnSt>30</rnSt>\\r\\n\\t\\t\\t\\t</data>\\r\\n\\r\\n\\t\\t\\t\\t\\r\\n\\t\\t\\t\\t<data>\\r\\n\\t\\t\\t\\t\\t<mode>A02</mode>\\r\\n\\t\\t\\t\\t\\t<tmEf>2020-01-06 12:00</tmEf>\\r\\n\\t\\t\\t\\t\\t<wf>흐리고 비</wf>\\r\\n\\t\\t\\t\\t\\t<tmn>1</tmn>\\r\\n\\t\\t\\t\\t\\t<tmx>8</tmx>\\r\\n\\t\\t\\t\\t\\t<reliability></reliability>\\r\\n\\t\\t\\t\\t\\t<rnSt>60</rnSt>\\r\\n\\t\\t\\t\\t</data>\\r\\n\\r\\n\\t\\t\\t\\t\\r\\n\\t\\t\\t\\t<data>\\r\\n\\t\\t\\t\\t\\t<mode>A02</mode>\\r\\n\\t\\t\\t\\t\\t<tmEf>2020-01-07 00:00</tmEf>\\r\\n\\t\\t\\t\\t\\t<wf>흐리고 비</wf>\\r\\n\\t\\t\\t\\t\\t<tmn>4</tmn>\\r\\n\\t\\t\\t\\t\\t<tmx>10</tmx>\\r\\n\\t\\t\\t\\t\\t<reliability></reliability>\\r\\n\\t\\t\\t\\t\\t<rnSt>80</rnSt>\\r\\n\\t\\t\\t\\t</data>\\r\\n\\r\\n\\t\\t\\t\\t\\r\\n\\t\\t\\t\\t<data>\\r\\n\\t\\t\\t\\t\\t<mode>A02</mode>\\r\\n\\t\\t\\t\\t\\t<tmEf>2020-01-07 12:00</tmEf>\\r\\n\\t\\t\\t\\t\\t<wf>흐리고 비</wf>\\r\\n\\t\\t\\t\\t\\t<tmn>4</tmn>\\r\\n\\t\\t\\t\\t\\t<tmx>10</tmx>\\r\\n\\t\\t\\t\\t\\t<reliability></reliability>\\r\\n\\t\\t\\t\\t\\t<rnSt>80</rnSt>\\r\\n\\t\\t\\t\\t</data>\\r\\n\\r\\n\\t\\t\\t\\t\\r\\n\\t\\t\\t\\t<data>\\r\\n\\t\\t\\t\\t\\t<mode>A01</mode>\\r\\n\\t\\t\\t\\t\\t<tmEf>2020-01-08 00:00</tmEf>\\r\\n\\t\\t\\t\\t\\t<wf>흐리고 비</wf>\\r\\n\\t\\t\\t\\t\\t<tmn>5</tmn>\\r\\n\\t\\t\\t\\t\\t<tmx>9</tmx>\\r\\n\\t\\t\\t\\t\\t<reliability></reliability>\\r\\n\\t\\t\\t\\t\\t<rnSt>70</rnSt>\\r\\n\\t\\t\\t\\t</data>\\r\\n\\r\\n\\t\\t\\t\\t\\r\\n\\t\\t\\t\\t<data>\\r\\n\\t\\t\\t\\t\\t<mode>A01</mode>\\r\\n\\t\\t\\t\\t\\t<tmEf>2020-01-09 00:00</tmEf>\\r\\n\\t\\t\\t\\t\\t<wf>구름많음</wf>\\r\\n\\t\\t\\t\\t\\t<tmn>1</tmn>\\r\\n\\t\\t\\t\\t\\t<tmx>7</tmx>\\r\\n\\t\\t\\t\\t\\t<reliability></reliability>\\r\\n\\t\\t\\t\\t\\t<rnSt>40</rnSt>\\r\\n\\t\\t\\t\\t</data>\\r\\n\\r\\n\\t\\t\\t\\t\\r\\n\\t\\t\\t\\t<data>\\r\\n\\t\\t\\t\\t\\t<mode>A01</mode>\\r\\n\\t\\t\\t\\t\\t<tmEf>2020-01-10 00:00</tmEf>\\r\\n\\t\\t\\t\\t\\t<wf>구름많음</wf>\\r\\n\\t\\t\\t\\t\\t<tmn>1</tmn>\\r\\n\\t\\t\\t\\t\\t<tmx>9</tmx>\\r\\n\\t\\t\\t\\t\\t<reliability></reliability>\\r\\n\\t\\t\\t\\t\\t<rnSt>30</rnSt>\\r\\n\\t\\t\\t\\t</data>\\r\\n\\r\\n\\r\\n\\t\\t</location>\\r\\n\\r\\n\\t\\t<location wl_ver=\"3\">\\r\\n\\t\\t\\t\\t<province>부산ㆍ울산ㆍ경상남도</province>\\r\\n\\t\\t\\t\\t<city>진주</city>\\r\\n\\t\\t\\t\\t\\r\\n\\t\\t\\t\\t<data>\\r\\n\\t\\t\\t\\t\\t<mode>A02</mode>\\r\\n\\t\\t\\t\\t\\t<tmEf>2020-01-03 00:00</tmEf>\\r\\n\\t\\t\\t\\t\\t<wf>구름많음</wf>\\r\\n\\t\\t\\t\\t\\t<tmn>-4</tmn>\\r\\n\\t\\t\\t\\t\\t<tmx>10</tmx>\\r\\n\\t\\t\\t\\t\\t<reliability></reliability>\\r\\n\\t\\t\\t\\t\\t<rnSt>30</rnSt>\\r\\n\\t\\t\\t\\t</data>\\r\\n\\r\\n\\t\\t\\t\\t\\r\\n\\t\\t\\t\\t<data>\\r\\n\\t\\t\\t\\t\\t<mode>A02</mode>\\r\\n\\t\\t\\t\\t\\t<tmEf>2020-01-03 12:00</tmEf>\\r\\n\\t\\t\\t\\t\\t<wf>구름많음</wf>\\r\\n\\t\\t\\t\\t\\t<tmn>-4</tmn>\\r\\n\\t\\t\\t\\t\\t<tmx>10</tmx>\\r\\n\\t\\t\\t\\t\\t<reliability></reliability>\\r\\n\\t\\t\\t\\t\\t<rnSt>30</rnSt>\\r\\n\\t\\t\\t\\t</data>\\r\\n\\r\\n\\t\\t\\t\\t\\r\\n\\t\\t\\t\\t<data>\\r\\n\\t\\t\\t\\t\\t<mode>A02</mode>\\r\\n\\t\\t\\t\\t\\t<tmEf>2020-01-04 00:00</tmEf>\\r\\n\\t\\t\\t\\t\\t<wf>맑음</wf>\\r\\n\\t\\t\\t\\t\\t<tmn>-3</tmn>\\r\\n\\t\\t\\t\\t\\t<tmx>11</tmx>\\r\\n\\t\\t\\t\\t\\t<reliability></reliability>\\r\\n\\t\\t\\t\\t\\t<rnSt>0</rnSt>\\r\\n\\t\\t\\t\\t</data>\\r\\n\\r\\n\\t\\t\\t\\t\\r\\n\\t\\t\\t\\t<data>\\r\\n\\t\\t\\t\\t\\t<mode>A02</mode>\\r\\n\\t\\t\\t\\t\\t<tmEf>2020-01-04 12:00</tmEf>\\r\\n\\t\\t\\t\\t\\t<wf>맑음</wf>\\r\\n\\t\\t\\t\\t\\t<tmn>-3</tmn>\\r\\n\\t\\t\\t\\t\\t<tmx>11</tmx>\\r\\n\\t\\t\\t\\t\\t<reliability></reliability>\\r\\n\\t\\t\\t\\t\\t<rnSt>0</rnSt>\\r\\n\\t\\t\\t\\t</data>\\r\\n\\r\\n\\t\\t\\t\\t\\r\\n\\t\\t\\t\\t<data>\\r\\n\\t\\t\\t\\t\\t<mode>A02</mode>\\r\\n\\t\\t\\t\\t\\t<tmEf>2020-01-05 00:00</tmEf>\\r\\n\\t\\t\\t\\t\\t<wf>맑음</wf>\\r\\n\\t\\t\\t\\t\\t<tmn>-5</tmn>\\r\\n\\t\\t\\t\\t\\t<tmx>10</tmx>\\r\\n\\t\\t\\t\\t\\t<reliability></reliability>\\r\\n\\t\\t\\t\\t\\t<rnSt>0</rnSt>\\r\\n\\t\\t\\t\\t</data>\\r\\n\\r\\n\\t\\t\\t\\t\\r\\n\\t\\t\\t\\t<data>\\r\\n\\t\\t\\t\\t\\t<mode>A02</mode>\\r\\n\\t\\t\\t\\t\\t<tmEf>2020-01-05 12:00</tmEf>\\r\\n\\t\\t\\t\\t\\t<wf>구름많음</wf>\\r\\n\\t\\t\\t\\t\\t<tmn>-5</tmn>\\r\\n\\t\\t\\t\\t\\t<tmx>10</tmx>\\r\\n\\t\\t\\t\\t\\t<reliability></reliability>\\r\\n\\t\\t\\t\\t\\t<rnSt>30</rnSt>\\r\\n\\t\\t\\t\\t</data>\\r\\n\\r\\n\\t\\t\\t\\t\\r\\n\\t\\t\\t\\t<data>\\r\\n\\t\\t\\t\\t\\t<mode>A02</mode>\\r\\n\\t\\t\\t\\t\\t<tmEf>2020-01-06 00:00</tmEf>\\r\\n\\t\\t\\t\\t\\t<wf>구름많음</wf>\\r\\n\\t\\t\\t\\t\\t<tmn>-2</tmn>\\r\\n\\t\\t\\t\\t\\t<tmx>8</tmx>\\r\\n\\t\\t\\t\\t\\t<reliability></reliability>\\r\\n\\t\\t\\t\\t\\t<rnSt>30</rnSt>\\r\\n\\t\\t\\t\\t</data>\\r\\n\\r\\n\\t\\t\\t\\t\\r\\n\\t\\t\\t\\t<data>\\r\\n\\t\\t\\t\\t\\t<mode>A02</mode>\\r\\n\\t\\t\\t\\t\\t<tmEf>2020-01-06 12:00</tmEf>\\r\\n\\t\\t\\t\\t\\t<wf>흐리고 비</wf>\\r\\n\\t\\t\\t\\t\\t<tmn>-2</tmn>\\r\\n\\t\\t\\t\\t\\t<tmx>8</tmx>\\r\\n\\t\\t\\t\\t\\t<reliability></reliability>\\r\\n\\t\\t\\t\\t\\t<rnSt>60</rnSt>\\r\\n\\t\\t\\t\\t</data>\\r\\n\\r\\n\\t\\t\\t\\t\\r\\n\\t\\t\\t\\t<data>\\r\\n\\t\\t\\t\\t\\t<mode>A02</mode>\\r\\n\\t\\t\\t\\t\\t<tmEf>2020-01-07 00:00</tmEf>\\r\\n\\t\\t\\t\\t\\t<wf>흐리고 비</wf>\\r\\n\\t\\t\\t\\t\\t<tmn>2</tmn>\\r\\n\\t\\t\\t\\t\\t<tmx>11</tmx>\\r\\n\\t\\t\\t\\t\\t<reliability></reliability>\\r\\n\\t\\t\\t\\t\\t<rnSt>80</rnSt>\\r\\n\\t\\t\\t\\t</data>\\r\\n\\r\\n\\t\\t\\t\\t\\r\\n\\t\\t\\t\\t<data>\\r\\n\\t\\t\\t\\t\\t<mode>A02</mode>\\r\\n\\t\\t\\t\\t\\t<tmEf>2020-01-07 12:00</tmEf>\\r\\n\\t\\t\\t\\t\\t<wf>흐리고 비</wf>\\r\\n\\t\\t\\t\\t\\t<tmn>2</tmn>\\r\\n\\t\\t\\t\\t\\t<tmx>11</tmx>\\r\\n\\t\\t\\t\\t\\t<reliability></reliability>\\r\\n\\t\\t\\t\\t\\t<rnSt>80</rnSt>\\r\\n\\t\\t\\t\\t</data>\\r\\n\\r\\n\\t\\t\\t\\t\\r\\n\\t\\t\\t\\t<data>\\r\\n\\t\\t\\t\\t\\t<mode>A01</mode>\\r\\n\\t\\t\\t\\t\\t<tmEf>2020-01-08 00:00</tmEf>\\r\\n\\t\\t\\t\\t\\t<wf>흐리고 비</wf>\\r\\n\\t\\t\\t\\t\\t<tmn>3</tmn>\\r\\n\\t\\t\\t\\t\\t<tmx>9</tmx>\\r\\n\\t\\t\\t\\t\\t<reliability></reliability>\\r\\n\\t\\t\\t\\t\\t<rnSt>70</rnSt>\\r\\n\\t\\t\\t\\t</data>\\r\\n\\r\\n\\t\\t\\t\\t\\r\\n\\t\\t\\t\\t<data>\\r\\n\\t\\t\\t\\t\\t<mode>A01</mode>\\r\\n\\t\\t\\t\\t\\t<tmEf>2020-01-09 00:00</tmEf>\\r\\n\\t\\t\\t\\t\\t<wf>구름많음</wf>\\r\\n\\t\\t\\t\\t\\t<tmn>0</tmn>\\r\\n\\t\\t\\t\\t\\t<tmx>8</tmx>\\r\\n\\t\\t\\t\\t\\t<reliability></reliability>\\r\\n\\t\\t\\t\\t\\t<rnSt>40</rnSt>\\r\\n\\t\\t\\t\\t</data>\\r\\n\\r\\n\\t\\t\\t\\t\\r\\n\\t\\t\\t\\t<data>\\r\\n\\t\\t\\t\\t\\t<mode>A01</mode>\\r\\n\\t\\t\\t\\t\\t<tmEf>2020-01-10 00:00</tmEf>\\r\\n\\t\\t\\t\\t\\t<wf>구름많음</wf>\\r\\n\\t\\t\\t\\t\\t<tmn>-1</tmn>\\r\\n\\t\\t\\t\\t\\t<tmx>10</tmx>\\r\\n\\t\\t\\t\\t\\t<reliability></reliability>\\r\\n\\t\\t\\t\\t\\t<rnSt>30</rnSt>\\r\\n\\t\\t\\t\\t</data>\\r\\n\\r\\n\\r\\n\\t\\t</location>\\r\\n\\r\\n\\t\\t<location wl_ver=\"3\">\\r\\n\\t\\t\\t\\t<province>부산ㆍ울산ㆍ경상남도</province>\\r\\n\\t\\t\\t\\t<city>거창</city>\\r\\n\\t\\t\\t\\t\\r\\n\\t\\t\\t\\t<data>\\r\\n\\t\\t\\t\\t\\t<mode>A02</mode>\\r\\n\\t\\t\\t\\t\\t<tmEf>2020-01-03 00:00</tmEf>\\r\\n\\t\\t\\t\\t\\t<wf>구름많음</wf>\\r\\n\\t\\t\\t\\t\\t<tmn>-4</tmn>\\r\\n\\t\\t\\t\\t\\t<tmx>8</tmx>\\r\\n\\t\\t\\t\\t\\t<reliability></reliability>\\r\\n\\t\\t\\t\\t\\t<rnSt>30</rnSt>\\r\\n\\t\\t\\t\\t</data>\\r\\n\\r\\n\\t\\t\\t\\t\\r\\n\\t\\t\\t\\t<data>\\r\\n\\t\\t\\t\\t\\t<mode>A02</mode>\\r\\n\\t\\t\\t\\t\\t<tmEf>2020-01-03 12:00</tmEf>\\r\\n\\t\\t\\t\\t\\t<wf>구름많음</wf>\\r\\n\\t\\t\\t\\t\\t<tmn>-4</tmn>\\r\\n\\t\\t\\t\\t\\t<tmx>8</tmx>\\r\\n\\t\\t\\t\\t\\t<reliability></reliability>\\r\\n\\t\\t\\t\\t\\t<rnSt>30</rnSt>\\r\\n\\t\\t\\t\\t</data>\\r\\n\\r\\n\\t\\t\\t\\t\\r\\n\\t\\t\\t\\t<data>\\r\\n\\t\\t\\t\\t\\t<mode>A02</mode>\\r\\n\\t\\t\\t\\t\\t<tmEf>2020-01-04 00:00</tmEf>\\r\\n\\t\\t\\t\\t\\t<wf>맑음</wf>\\r\\n\\t\\t\\t\\t\\t<tmn>-3</tmn>\\r\\n\\t\\t\\t\\t\\t<tmx>9</tmx>\\r\\n\\t\\t\\t\\t\\t<reliability></reliability>\\r\\n\\t\\t\\t\\t\\t<rnSt>0</rnSt>\\r\\n\\t\\t\\t\\t</data>\\r\\n\\r\\n\\t\\t\\t\\t\\r\\n\\t\\t\\t\\t<data>\\r\\n\\t\\t\\t\\t\\t<mode>A02</mode>\\r\\n\\t\\t\\t\\t\\t<tmEf>2020-01-04 12:00</tmEf>\\r\\n\\t\\t\\t\\t\\t<wf>맑음</wf>\\r\\n\\t\\t\\t\\t\\t<tmn>-3</tmn>\\r\\n\\t\\t\\t\\t\\t<tmx>9</tmx>\\r\\n\\t\\t\\t\\t\\t<reliability></reliability>\\r\\n\\t\\t\\t\\t\\t<rnSt>0</rnSt>\\r\\n\\t\\t\\t\\t</data>\\r\\n\\r\\n\\t\\t\\t\\t\\r\\n\\t\\t\\t\\t<data>\\r\\n\\t\\t\\t\\t\\t<mode>A02</mode>\\r\\n\\t\\t\\t\\t\\t<tmEf>2020-01-05 00:00</tmEf>\\r\\n\\t\\t\\t\\t\\t<wf>맑음</wf>\\r\\n\\t\\t\\t\\t\\t<tmn>-6</tmn>\\r\\n\\t\\t\\t\\t\\t<tmx>9</tmx>\\r\\n\\t\\t\\t\\t\\t<reliability></reliability>\\r\\n\\t\\t\\t\\t\\t<rnSt>0</rnSt>\\r\\n\\t\\t\\t\\t</data>\\r\\n\\r\\n\\t\\t\\t\\t\\r\\n\\t\\t\\t\\t<data>\\r\\n\\t\\t\\t\\t\\t<mode>A02</mode>\\r\\n\\t\\t\\t\\t\\t<tmEf>2020-01-05 12:00</tmEf>\\r\\n\\t\\t\\t\\t\\t<wf>구름많음</wf>\\r\\n\\t\\t\\t\\t\\t<tmn>-6</tmn>\\r\\n\\t\\t\\t\\t\\t<tmx>9</tmx>\\r\\n\\t\\t\\t\\t\\t<reliability></reliability>\\r\\n\\t\\t\\t\\t\\t<rnSt>30</rnSt>\\r\\n\\t\\t\\t\\t</data>\\r\\n\\r\\n\\t\\t\\t\\t\\r\\n\\t\\t\\t\\t<data>\\r\\n\\t\\t\\t\\t\\t<mode>A02</mode>\\r\\n\\t\\t\\t\\t\\t<tmEf>2020-01-06 00:00</tmEf>\\r\\n\\t\\t\\t\\t\\t<wf>구름많음</wf>\\r\\n\\t\\t\\t\\t\\t<tmn>-3</tmn>\\r\\n\\t\\t\\t\\t\\t<tmx>7</tmx>\\r\\n\\t\\t\\t\\t\\t<reliability></reliability>\\r\\n\\t\\t\\t\\t\\t<rnSt>30</rnSt>\\r\\n\\t\\t\\t\\t</data>\\r\\n\\r\\n\\t\\t\\t\\t\\r\\n\\t\\t\\t\\t<data>\\r\\n\\t\\t\\t\\t\\t<mode>A02</mode>\\r\\n\\t\\t\\t\\t\\t<tmEf>2020-01-06 12:00</tmEf>\\r\\n\\t\\t\\t\\t\\t<wf>흐리고 비</wf>\\r\\n\\t\\t\\t\\t\\t<tmn>-3</tmn>\\r\\n\\t\\t\\t\\t\\t<tmx>7</tmx>\\r\\n\\t\\t\\t\\t\\t<reliability></reliability>\\r\\n\\t\\t\\t\\t\\t<rnSt>60</rnSt>\\r\\n\\t\\t\\t\\t</data>\\r\\n\\r\\n\\t\\t\\t\\t\\r\\n\\t\\t\\t\\t<data>\\r\\n\\t\\t\\t\\t\\t<mode>A02</mode>\\r\\n\\t\\t\\t\\t\\t<tmEf>2020-01-07 00:00</tmEf>\\r\\n\\t\\t\\t\\t\\t<wf>흐리고 비</wf>\\r\\n\\t\\t\\t\\t\\t<tmn>0</tmn>\\r\\n\\t\\t\\t\\t\\t<tmx>9</tmx>\\r\\n\\t\\t\\t\\t\\t<reliability></reliability>\\r\\n\\t\\t\\t\\t\\t<rnSt>80</rnSt>\\r\\n\\t\\t\\t\\t</data>\\r\\n\\r\\n\\t\\t\\t\\t\\r\\n\\t\\t\\t\\t<data>\\r\\n\\t\\t\\t\\t\\t<mode>A02</mode>\\r\\n\\t\\t\\t\\t\\t<tmEf>2020-01-07 12:00</tmEf>\\r\\n\\t\\t\\t\\t\\t<wf>흐리고 비</wf>\\r\\n\\t\\t\\t\\t\\t<tmn>0</tmn>\\r\\n\\t\\t\\t\\t\\t<tmx>9</tmx>\\r\\n\\t\\t\\t\\t\\t<reliability></reliability>\\r\\n\\t\\t\\t\\t\\t<rnSt>80</rnSt>\\r\\n\\t\\t\\t\\t</data>\\r\\n\\r\\n\\t\\t\\t\\t\\r\\n\\t\\t\\t\\t<data>\\r\\n\\t\\t\\t\\t\\t<mode>A01</mode>\\r\\n\\t\\t\\t\\t\\t<tmEf>2020-01-08 00:00</tmEf>\\r\\n\\t\\t\\t\\t\\t<wf>흐리고 비</wf>\\r\\n\\t\\t\\t\\t\\t<tmn>1</tmn>\\r\\n\\t\\t\\t\\t\\t<tmx>7</tmx>\\r\\n\\t\\t\\t\\t\\t<reliability></reliability>\\r\\n\\t\\t\\t\\t\\t<rnSt>70</rnSt>\\r\\n\\t\\t\\t\\t</data>\\r\\n\\r\\n\\t\\t\\t\\t\\r\\n\\t\\t\\t\\t<data>\\r\\n\\t\\t\\t\\t\\t<mode>A01</mode>\\r\\n\\t\\t\\t\\t\\t<tmEf>2020-01-09 00:00</tmEf>\\r\\n\\t\\t\\t\\t\\t<wf>구름많음</wf>\\r\\n\\t\\t\\t\\t\\t<tmn>-4</tmn>\\r\\n\\t\\t\\t\\t\\t<tmx>6</tmx>\\r\\n\\t\\t\\t\\t\\t<reliability></reliability>\\r\\n\\t\\t\\t\\t\\t<rnSt>40</rnSt>\\r\\n\\t\\t\\t\\t</data>\\r\\n\\r\\n\\t\\t\\t\\t\\r\\n\\t\\t\\t\\t<data>\\r\\n\\t\\t\\t\\t\\t<mode>A01</mode>\\r\\n\\t\\t\\t\\t\\t<tmEf>2020-01-10 00:00</tmEf>\\r\\n\\t\\t\\t\\t\\t<wf>구름많음</wf>\\r\\n\\t\\t\\t\\t\\t<tmn>-3</tmn>\\r\\n\\t\\t\\t\\t\\t<tmx>8</tmx>\\r\\n\\t\\t\\t\\t\\t<reliability></reliability>\\r\\n\\t\\t\\t\\t\\t<rnSt>30</rnSt>\\r\\n\\t\\t\\t\\t</data>\\r\\n\\r\\n\\r\\n\\t\\t</location>\\r\\n\\r\\n\\t\\t<location wl_ver=\"3\">\\r\\n\\t\\t\\t\\t<province>부산ㆍ울산ㆍ경상남도</province>\\r\\n\\t\\t\\t\\t<city>통영</city>\\r\\n\\t\\t\\t\\t\\r\\n\\t\\t\\t\\t<data>\\r\\n\\t\\t\\t\\t\\t<mode>A02</mode>\\r\\n\\t\\t\\t\\t\\t<tmEf>2020-01-03 00:00</tmEf>\\r\\n\\t\\t\\t\\t\\t<wf>구름많음</wf>\\r\\n\\t\\t\\t\\t\\t<tmn>2</tmn>\\r\\n\\t\\t\\t\\t\\t<tmx>11</tmx>\\r\\n\\t\\t\\t\\t\\t<reliability></reliability>\\r\\n\\t\\t\\t\\t\\t<rnSt>30</rnSt>\\r\\n\\t\\t\\t\\t</data>\\r\\n\\r\\n\\t\\t\\t\\t\\r\\n\\t\\t\\t\\t<data>\\r\\n\\t\\t\\t\\t\\t<mode>A02</mode>\\r\\n\\t\\t\\t\\t\\t<tmEf>2020-01-03 12:00</tmEf>\\r\\n\\t\\t\\t\\t\\t<wf>구름많음</wf>\\r\\n\\t\\t\\t\\t\\t<tmn>2</tmn>\\r\\n\\t\\t\\t\\t\\t<tmx>11</tmx>\\r\\n\\t\\t\\t\\t\\t<reliability></reliability>\\r\\n\\t\\t\\t\\t\\t<rnSt>30</rnSt>\\r\\n\\t\\t\\t\\t</data>\\r\\n\\r\\n\\t\\t\\t\\t\\r\\n\\t\\t\\t\\t<data>\\r\\n\\t\\t\\t\\t\\t<mode>A02</mode>\\r\\n\\t\\t\\t\\t\\t<tmEf>2020-01-04 00:00</tmEf>\\r\\n\\t\\t\\t\\t\\t<wf>맑음</wf>\\r\\n\\t\\t\\t\\t\\t<tmn>3</tmn>\\r\\n\\t\\t\\t\\t\\t<tmx>11</tmx>\\r\\n\\t\\t\\t\\t\\t<reliability></reliability>\\r\\n\\t\\t\\t\\t\\t<rnSt>0</rnSt>\\r\\n\\t\\t\\t\\t</data>\\r\\n\\r\\n\\t\\t\\t\\t\\r\\n\\t\\t\\t\\t<data>\\r\\n\\t\\t\\t\\t\\t<mode>A02</mode>\\r\\n\\t\\t\\t\\t\\t<tmEf>2020-01-04 12:00</tmEf>\\r\\n\\t\\t\\t\\t\\t<wf>맑음</wf>\\r\\n\\t\\t\\t\\t\\t<tmn>3</tmn>\\r\\n\\t\\t\\t\\t\\t<tmx>11</tmx>\\r\\n\\t\\t\\t\\t\\t<reliability></reliability>\\r\\n\\t\\t\\t\\t\\t<rnSt>0</rnSt>\\r\\n\\t\\t\\t\\t</data>\\r\\n\\r\\n\\t\\t\\t\\t\\r\\n\\t\\t\\t\\t<data>\\r\\n\\t\\t\\t\\t\\t<mode>A02</mode>\\r\\n\\t\\t\\t\\t\\t<tmEf>2020-01-05 00:00</tmEf>\\r\\n\\t\\t\\t\\t\\t<wf>맑음</wf>\\r\\n\\t\\t\\t\\t\\t<tmn>1</tmn>\\r\\n\\t\\t\\t\\t\\t<tmx>10</tmx>\\r\\n\\t\\t\\t\\t\\t<reliability></reliability>\\r\\n\\t\\t\\t\\t\\t<rnSt>0</rnSt>\\r\\n\\t\\t\\t\\t</data>\\r\\n\\r\\n\\t\\t\\t\\t\\r\\n\\t\\t\\t\\t<data>\\r\\n\\t\\t\\t\\t\\t<mode>A02</mode>\\r\\n\\t\\t\\t\\t\\t<tmEf>2020-01-05 12:00</tmEf>\\r\\n\\t\\t\\t\\t\\t<wf>구름많음</wf>\\r\\n\\t\\t\\t\\t\\t<tmn>1</tmn>\\r\\n\\t\\t\\t\\t\\t<tmx>10</tmx>\\r\\n\\t\\t\\t\\t\\t<reliability></reliability>\\r\\n\\t\\t\\t\\t\\t<rnSt>30</rnSt>\\r\\n\\t\\t\\t\\t</data>\\r\\n\\r\\n\\t\\t\\t\\t\\r\\n\\t\\t\\t\\t<data>\\r\\n\\t\\t\\t\\t\\t<mode>A02</mode>\\r\\n\\t\\t\\t\\t\\t<tmEf>2020-01-06 00:00</tmEf>\\r\\n\\t\\t\\t\\t\\t<wf>구름많음</wf>\\r\\n\\t\\t\\t\\t\\t<tmn>4</tmn>\\r\\n\\t\\t\\t\\t\\t<tmx>10</tmx>\\r\\n\\t\\t\\t\\t\\t<reliability></reliability>\\r\\n\\t\\t\\t\\t\\t<rnSt>30</rnSt>\\r\\n\\t\\t\\t\\t</data>\\r\\n\\r\\n\\t\\t\\t\\t\\r\\n\\t\\t\\t\\t<data>\\r\\n\\t\\t\\t\\t\\t<mode>A02</mode>\\r\\n\\t\\t\\t\\t\\t<tmEf>2020-01-06 12:00</tmEf>\\r\\n\\t\\t\\t\\t\\t<wf>흐리고 비</wf>\\r\\n\\t\\t\\t\\t\\t<tmn>4</tmn>\\r\\n\\t\\t\\t\\t\\t<tmx>10</tmx>\\r\\n\\t\\t\\t\\t\\t<reliability></reliability>\\r\\n\\t\\t\\t\\t\\t<rnSt>60</rnSt>\\r\\n\\t\\t\\t\\t</data>\\r\\n\\r\\n\\t\\t\\t\\t\\r\\n\\t\\t\\t\\t<data>\\r\\n\\t\\t\\t\\t\\t<mode>A02</mode>\\r\\n\\t\\t\\t\\t\\t<tmEf>2020-01-07 00:00</tmEf>\\r\\n\\t\\t\\t\\t\\t<wf>흐리고 비</wf>\\r\\n\\t\\t\\t\\t\\t<tmn>7</tmn>\\r\\n\\t\\t\\t\\t\\t<tmx>12</tmx>\\r\\n\\t\\t\\t\\t\\t<reliability></reliability>\\r\\n\\t\\t\\t\\t\\t<rnSt>80</rnSt>\\r\\n\\t\\t\\t\\t</data>\\r\\n\\r\\n\\t\\t\\t\\t\\r\\n\\t\\t\\t\\t<data>\\r\\n\\t\\t\\t\\t\\t<mode>A02</mode>\\r\\n\\t\\t\\t\\t\\t<tmEf>2020-01-07 12:00</tmEf>\\r\\n\\t\\t\\t\\t\\t<wf>흐리고 비</wf>\\r\\n\\t\\t\\t\\t\\t<tmn>7</tmn>\\r\\n\\t\\t\\t\\t\\t<tmx>12</tmx>\\r\\n\\t\\t\\t\\t\\t<reliability></reliability>\\r\\n\\t\\t\\t\\t\\t<rnSt>80</rnSt>\\r\\n\\t\\t\\t\\t</data>\\r\\n\\r\\n\\t\\t\\t\\t\\r\\n\\t\\t\\t\\t<data>\\r\\n\\t\\t\\t\\t\\t<mode>A01</mode>\\r\\n\\t\\t\\t\\t\\t<tmEf>2020-01-08 00:00</tmEf>\\r\\n\\t\\t\\t\\t\\t<wf>흐리고 비</wf>\\r\\n\\t\\t\\t\\t\\t<tmn>6</tmn>\\r\\n\\t\\t\\t\\t\\t<tmx>10</tmx>\\r\\n\\t\\t\\t\\t\\t<reliability></reliability>\\r\\n\\t\\t\\t\\t\\t<rnSt>70</rnSt>\\r\\n\\t\\t\\t\\t</data>\\r\\n\\r\\n\\t\\t\\t\\t\\r\\n\\t\\t\\t\\t<data>\\r\\n\\t\\t\\t\\t\\t<mode>A01</mode>\\r\\n\\t\\t\\t\\t\\t<tmEf>2020-01-09 00:00</tmEf>\\r\\n\\t\\t\\t\\t\\t<wf>구름많음</wf>\\r\\n\\t\\t\\t\\t\\t<tmn>3</tmn>\\r\\n\\t\\t\\t\\t\\t<tmx>9</tmx>\\r\\n\\t\\t\\t\\t\\t<reliability></reliability>\\r\\n\\t\\t\\t\\t\\t<rnSt>40</rnSt>\\r\\n\\t\\t\\t\\t</data>\\r\\n\\r\\n\\t\\t\\t\\t\\r\\n\\t\\t\\t\\t<data>\\r\\n\\t\\t\\t\\t\\t<mode>A01</mode>\\r\\n\\t\\t\\t\\t\\t<tmEf>2020-01-10 00:00</tmEf>\\r\\n\\t\\t\\t\\t\\t<wf>구름많음</wf>\\r\\n\\t\\t\\t\\t\\t<tmn>2</tmn>\\r\\n\\t\\t\\t\\t\\t<tmx>10</tmx>\\r\\n\\t\\t\\t\\t\\t<reliability></reliability>\\r\\n\\t\\t\\t\\t\\t<rnSt>30</rnSt>\\r\\n\\t\\t\\t\\t</data>\\r\\n\\r\\n\\r\\n\\t\\t</location>\\r\\n\\r\\n\\r\\n\\r\\n\\t\\t<location wl_ver=\"3\">\\r\\n\\t\\t\\t\\t<province>대구ㆍ경상북도</province>\\r\\n\\t\\t\\t\\t<city>대구</city>\\r\\n\\t\\t\\t\\t\\r\\n\\t\\t\\t\\t<data>\\r\\n\\t\\t\\t\\t\\t<mode>A02</mode>\\r\\n\\t\\t\\t\\t\\t<tmEf>2020-01-03 00:00</tmEf>\\r\\n\\t\\t\\t\\t\\t<wf>구름많음</wf>\\r\\n\\t\\t\\t\\t\\t<tmn>0</tmn>\\r\\n\\t\\t\\t\\t\\t<tmx>9</tmx>\\r\\n\\t\\t\\t\\t\\t<reliability></reliability>\\r\\n\\t\\t\\t\\t\\t<rnSt>30</rnSt>\\r\\n\\t\\t\\t\\t</data>\\r\\n\\r\\n\\t\\t\\t\\t\\r\\n\\t\\t\\t\\t<data>\\r\\n\\t\\t\\t\\t\\t<mode>A02</mode>\\r\\n\\t\\t\\t\\t\\t<tmEf>2020-01-03 12:00</tmEf>\\r\\n\\t\\t\\t\\t\\t<wf>구름많음</wf>\\r\\n\\t\\t\\t\\t\\t<tmn>0</tmn>\\r\\n\\t\\t\\t\\t\\t<tmx>9</tmx>\\r\\n\\t\\t\\t\\t\\t<reliability></reliability>\\r\\n\\t\\t\\t\\t\\t<rnSt>30</rnSt>\\r\\n\\t\\t\\t\\t</data>\\r\\n\\r\\n\\t\\t\\t\\t\\r\\n\\t\\t\\t\\t<data>\\r\\n\\t\\t\\t\\t\\t<mode>A02</mode>\\r\\n\\t\\t\\t\\t\\t<tmEf>2020-01-04 00:00</tmEf>\\r\\n\\t\\t\\t\\t\\t<wf>맑음</wf>\\r\\n\\t\\t\\t\\t\\t<tmn>1</tmn>\\r\\n\\t\\t\\t\\t\\t<tmx>9</tmx>\\r\\n\\t\\t\\t\\t\\t<reliability></reliability>\\r\\n\\t\\t\\t\\t\\t<rnSt>10</rnSt>\\r\\n\\t\\t\\t\\t</data>\\r\\n\\r\\n\\t\\t\\t\\t\\r\\n\\t\\t\\t\\t<data>\\r\\n\\t\\t\\t\\t\\t<mode>A02</mode>\\r\\n\\t\\t\\t\\t\\t<tmEf>2020-01-04 12:00</tmEf>\\r\\n\\t\\t\\t\\t\\t<wf>맑음</wf>\\r\\n\\t\\t\\t\\t\\t<tmn>1</tmn>\\r\\n\\t\\t\\t\\t\\t<tmx>9</tmx>\\r\\n\\t\\t\\t\\t\\t<reliability></reliability>\\r\\n\\t\\t\\t\\t\\t<rnSt>0</rnSt>\\r\\n\\t\\t\\t\\t</data>\\r\\n\\r\\n\\t\\t\\t\\t\\r\\n\\t\\t\\t\\t<data>\\r\\n\\t\\t\\t\\t\\t<mode>A02</mode>\\r\\n\\t\\t\\t\\t\\t<tmEf>2020-01-05 00:00</tmEf>\\r\\n\\t\\t\\t\\t\\t<wf>맑음</wf>\\r\\n\\t\\t\\t\\t\\t<tmn>-2</tmn>\\r\\n\\t\\t\\t\\t\\t<tmx>9</tmx>\\r\\n\\t\\t\\t\\t\\t<reliability></reliability>\\r\\n\\t\\t\\t\\t\\t<rnSt>0</rnSt>\\r\\n\\t\\t\\t\\t</data>\\r\\n\\r\\n\\t\\t\\t\\t\\r\\n\\t\\t\\t\\t<data>\\r\\n\\t\\t\\t\\t\\t<mode>A02</mode>\\r\\n\\t\\t\\t\\t\\t<tmEf>2020-01-05 12:00</tmEf>\\r\\n\\t\\t\\t\\t\\t<wf>구름많음</wf>\\r\\n\\t\\t\\t\\t\\t<tmn>-2</tmn>\\r\\n\\t\\t\\t\\t\\t<tmx>9</tmx>\\r\\n\\t\\t\\t\\t\\t<reliability></reliability>\\r\\n\\t\\t\\t\\t\\t<rnSt>30</rnSt>\\r\\n\\t\\t\\t\\t</data>\\r\\n\\r\\n\\t\\t\\t\\t\\r\\n\\t\\t\\t\\t<data>\\r\\n\\t\\t\\t\\t\\t<mode>A02</mode>\\r\\n\\t\\t\\t\\t\\t<tmEf>2020-01-06 00:00</tmEf>\\r\\n\\t\\t\\t\\t\\t<wf>구름많음</wf>\\r\\n\\t\\t\\t\\t\\t<tmn>-1</tmn>\\r\\n\\t\\t\\t\\t\\t<tmx>7</tmx>\\r\\n\\t\\t\\t\\t\\t<reliability></reliability>\\r\\n\\t\\t\\t\\t\\t<rnSt>30</rnSt>\\r\\n\\t\\t\\t\\t</data>\\r\\n\\r\\n\\t\\t\\t\\t\\r\\n\\t\\t\\t\\t<data>\\r\\n\\t\\t\\t\\t\\t<mode>A02</mode>\\r\\n\\t\\t\\t\\t\\t<tmEf>2020-01-06 12:00</tmEf>\\r\\n\\t\\t\\t\\t\\t<wf>흐리고 비</wf>\\r\\n\\t\\t\\t\\t\\t<tmn>-1</tmn>\\r\\n\\t\\t\\t\\t\\t<tmx>7</tmx>\\r\\n\\t\\t\\t\\t\\t<reliability></reliability>\\r\\n\\t\\t\\t\\t\\t<rnSt>70</rnSt>\\r\\n\\t\\t\\t\\t</data>\\r\\n\\r\\n\\t\\t\\t\\t\\r\\n\\t\\t\\t\\t<data>\\r\\n\\t\\t\\t\\t\\t<mode>A02</mode>\\r\\n\\t\\t\\t\\t\\t<tmEf>2020-01-07 00:00</tmEf>\\r\\n\\t\\t\\t\\t\\t<wf>흐리고 비</wf>\\r\\n\\t\\t\\t\\t\\t<tmn>2</tmn>\\r\\n\\t\\t\\t\\t\\t<tmx>8</tmx>\\r\\n\\t\\t\\t\\t\\t<reliability></reliability>\\r\\n\\t\\t\\t\\t\\t<rnSt>70</rnSt>\\r\\n\\t\\t\\t\\t</data>\\r\\n\\r\\n\\t\\t\\t\\t\\r\\n\\t\\t\\t\\t<data>\\r\\n\\t\\t\\t\\t\\t<mode>A02</mode>\\r\\n\\t\\t\\t\\t\\t<tmEf>2020-01-07 12:00</tmEf>\\r\\n\\t\\t\\t\\t\\t<wf>흐리고 비</wf>\\r\\n\\t\\t\\t\\t\\t<tmn>2</tmn>\\r\\n\\t\\t\\t\\t\\t<tmx>8</tmx>\\r\\n\\t\\t\\t\\t\\t<reliability></reliability>\\r\\n\\t\\t\\t\\t\\t<rnSt>70</rnSt>\\r\\n\\t\\t\\t\\t</data>\\r\\n\\r\\n\\t\\t\\t\\t\\r\\n\\t\\t\\t\\t<data>\\r\\n\\t\\t\\t\\t\\t<mode>A01</mode>\\r\\n\\t\\t\\t\\t\\t<tmEf>2020-01-08 00:00</tmEf>\\r\\n\\t\\t\\t\\t\\t<wf>흐리고 비</wf>\\r\\n\\t\\t\\t\\t\\t<tmn>3</tmn>\\r\\n\\t\\t\\t\\t\\t<tmx>7</tmx>\\r\\n\\t\\t\\t\\t\\t<reliability></reliability>\\r\\n\\t\\t\\t\\t\\t<rnSt>60</rnSt>\\r\\n\\t\\t\\t\\t</data>\\r\\n\\r\\n\\t\\t\\t\\t\\r\\n\\t\\t\\t\\t<data>\\r\\n\\t\\t\\t\\t\\t<mode>A01</mode>\\r\\n\\t\\t\\t\\t\\t<tmEf>2020-01-09 00:00</tmEf>\\r\\n\\t\\t\\t\\t\\t<wf>구름많음</wf>\\r\\n\\t\\t\\t\\t\\t<tmn>1</tmn>\\r\\n\\t\\t\\t\\t\\t<tmx>7</tmx>\\r\\n\\t\\t\\t\\t\\t<reliability></reliability>\\r\\n\\t\\t\\t\\t\\t<rnSt>40</rnSt>\\r\\n\\t\\t\\t\\t</data>\\r\\n\\r\\n\\t\\t\\t\\t\\r\\n\\t\\t\\t\\t<data>\\r\\n\\t\\t\\t\\t\\t<mode>A01</mode>\\r\\n\\t\\t\\t\\t\\t<tmEf>2020-01-10 00:00</tmEf>\\r\\n\\t\\t\\t\\t\\t<wf>구름많음</wf>\\r\\n\\t\\t\\t\\t\\t<tmn>0</tmn>\\r\\n\\t\\t\\t\\t\\t<tmx>8</tmx>\\r\\n\\t\\t\\t\\t\\t<reliability></reliability>\\r\\n\\t\\t\\t\\t\\t<rnSt>30</rnSt>\\r\\n\\t\\t\\t\\t</data>\\r\\n\\r\\n\\r\\n\\t\\t</location>\\r\\n\\r\\n\\t\\t<location wl_ver=\"3\">\\r\\n\\t\\t\\t\\t<province>대구ㆍ경상북도</province>\\r\\n\\t\\t\\t\\t<city>안동</city>\\r\\n\\t\\t\\t\\t\\r\\n\\t\\t\\t\\t<data>\\r\\n\\t\\t\\t\\t\\t<mode>A02</mode>\\r\\n\\t\\t\\t\\t\\t<tmEf>2020-01-03 00:00</tmEf>\\r\\n\\t\\t\\t\\t\\t<wf>구름많음</wf>\\r\\n\\t\\t\\t\\t\\t<tmn>-4</tmn>\\r\\n\\t\\t\\t\\t\\t<tmx>7</tmx>\\r\\n\\t\\t\\t\\t\\t<reliability></reliability>\\r\\n\\t\\t\\t\\t\\t<rnSt>30</rnSt>\\r\\n\\t\\t\\t\\t</data>\\r\\n\\r\\n\\t\\t\\t\\t\\r\\n\\t\\t\\t\\t<data>\\r\\n\\t\\t\\t\\t\\t<mode>A02</mode>\\r\\n\\t\\t\\t\\t\\t<tmEf>2020-01-03 12:00</tmEf>\\r\\n\\t\\t\\t\\t\\t<wf>구름많음</wf>\\r\\n\\t\\t\\t\\t\\t<tmn>-4</tmn>\\r\\n\\t\\t\\t\\t\\t<tmx>7</tmx>\\r\\n\\t\\t\\t\\t\\t<reliability></reliability>\\r\\n\\t\\t\\t\\t\\t<rnSt>30</rnSt>\\r\\n\\t\\t\\t\\t</data>\\r\\n\\r\\n\\t\\t\\t\\t\\r\\n\\t\\t\\t\\t<data>\\r\\n\\t\\t\\t\\t\\t<mode>A02</mode>\\r\\n\\t\\t\\t\\t\\t<tmEf>2020-01-04 00:00</tmEf>\\r\\n\\t\\t\\t\\t\\t<wf>맑음</wf>\\r\\n\\t\\t\\t\\t\\t<tmn>-2</tmn>\\r\\n\\t\\t\\t\\t\\t<tmx>7</tmx>\\r\\n\\t\\t\\t\\t\\t<reliability></reliability>\\r\\n\\t\\t\\t\\t\\t<rnSt>10</rnSt>\\r\\n\\t\\t\\t\\t</data>\\r\\n\\r\\n\\t\\t\\t\\t\\r\\n\\t\\t\\t\\t<data>\\r\\n\\t\\t\\t\\t\\t<mode>A02</mode>\\r\\n\\t\\t\\t\\t\\t<tmEf>2020-01-04 12:00</tmEf>\\r\\n\\t\\t\\t\\t\\t<wf>맑음</wf>\\r\\n\\t\\t\\t\\t\\t<tmn>-2</tmn>\\r\\n\\t\\t\\t\\t\\t<tmx>7</tmx>\\r\\n\\t\\t\\t\\t\\t<reliability></reliability>\\r\\n\\t\\t\\t\\t\\t<rnSt>0</rnSt>\\r\\n\\t\\t\\t\\t</data>\\r\\n\\r\\n\\t\\t\\t\\t\\r\\n\\t\\t\\t\\t<data>\\r\\n\\t\\t\\t\\t\\t<mode>A02</mode>\\r\\n\\t\\t\\t\\t\\t<tmEf>2020-01-05 00:00</tmEf>\\r\\n\\t\\t\\t\\t\\t<wf>맑음</wf>\\r\\n\\t\\t\\t\\t\\t<tmn>-6</tmn>\\r\\n\\t\\t\\t\\t\\t<tmx>7</tmx>\\r\\n\\t\\t\\t\\t\\t<reliability></reliability>\\r\\n\\t\\t\\t\\t\\t<rnSt>0</rnSt>\\r\\n\\t\\t\\t\\t</data>\\r\\n\\r\\n\\t\\t\\t\\t\\r\\n\\t\\t\\t\\t<data>\\r\\n\\t\\t\\t\\t\\t<mode>A02</mode>\\r\\n\\t\\t\\t\\t\\t<tmEf>2020-01-05 12:00</tmEf>\\r\\n\\t\\t\\t\\t\\t<wf>구름많음</wf>\\r\\n\\t\\t\\t\\t\\t<tmn>-6</tmn>\\r\\n\\t\\t\\t\\t\\t<tmx>7</tmx>\\r\\n\\t\\t\\t\\t\\t<reliability></reliability>\\r\\n\\t\\t\\t\\t\\t<rnSt>30</rnSt>\\r\\n\\t\\t\\t\\t</data>\\r\\n\\r\\n\\t\\t\\t\\t\\r\\n\\t\\t\\t\\t<data>\\r\\n\\t\\t\\t\\t\\t<mode>A02</mode>\\r\\n\\t\\t\\t\\t\\t<tmEf>2020-01-06 00:00</tmEf>\\r\\n\\t\\t\\t\\t\\t<wf>구름많음</wf>\\r\\n\\t\\t\\t\\t\\t<tmn>-4</tmn>\\r\\n\\t\\t\\t\\t\\t<tmx>6</tmx>\\r\\n\\t\\t\\t\\t\\t<reliability></reliability>\\r\\n\\t\\t\\t\\t\\t<rnSt>30</rnSt>\\r\\n\\t\\t\\t\\t</data>\\r\\n\\r\\n\\t\\t\\t\\t\\r\\n\\t\\t\\t\\t<data>\\r\\n\\t\\t\\t\\t\\t<mode>A02</mode>\\r\\n\\t\\t\\t\\t\\t<tmEf>2020-01-06 12:00</tmEf>\\r\\n\\t\\t\\t\\t\\t<wf>흐리고 비</wf>\\r\\n\\t\\t\\t\\t\\t<tmn>-4</tmn>\\r\\n\\t\\t\\t\\t\\t<tmx>6</tmx>\\r\\n\\t\\t\\t\\t\\t<reliability></reliability>\\r\\n\\t\\t\\t\\t\\t<rnSt>70</rnSt>\\r\\n\\t\\t\\t\\t</data>\\r\\n\\r\\n\\t\\t\\t\\t\\r\\n\\t\\t\\t\\t<data>\\r\\n\\t\\t\\t\\t\\t<mode>A02</mode>\\r\\n\\t\\t\\t\\t\\t<tmEf>2020-01-07 00:00</tmEf>\\r\\n\\t\\t\\t\\t\\t<wf>흐리고 비</wf>\\r\\n\\t\\t\\t\\t\\t<tmn>0</tmn>\\r\\n\\t\\t\\t\\t\\t<tmx>7</tmx>\\r\\n\\t\\t\\t\\t\\t<reliability></reliability>\\r\\n\\t\\t\\t\\t\\t<rnSt>70</rnSt>\\r\\n\\t\\t\\t\\t</data>\\r\\n\\r\\n\\t\\t\\t\\t\\r\\n\\t\\t\\t\\t<data>\\r\\n\\t\\t\\t\\t\\t<mode>A02</mode>\\r\\n\\t\\t\\t\\t\\t<tmEf>2020-01-07 12:00</tmEf>\\r\\n\\t\\t\\t\\t\\t<wf>흐리고 비</wf>\\r\\n\\t\\t\\t\\t\\t<tmn>0</tmn>\\r\\n\\t\\t\\t\\t\\t<tmx>7</tmx>\\r\\n\\t\\t\\t\\t\\t<reliability></reliability>\\r\\n\\t\\t\\t\\t\\t<rnSt>70</rnSt>\\r\\n\\t\\t\\t\\t</data>\\r\\n\\r\\n\\t\\t\\t\\t\\r\\n\\t\\t\\t\\t<data>\\r\\n\\t\\t\\t\\t\\t<mode>A01</mode>\\r\\n\\t\\t\\t\\t\\t<tmEf>2020-01-08 00:00</tmEf>\\r\\n\\t\\t\\t\\t\\t<wf>흐리고 비</wf>\\r\\n\\t\\t\\t\\t\\t<tmn>1</tmn>\\r\\n\\t\\t\\t\\t\\t<tmx>6</tmx>\\r\\n\\t\\t\\t\\t\\t<reliability></reliability>\\r\\n\\t\\t\\t\\t\\t<rnSt>60</rnSt>\\r\\n\\t\\t\\t\\t</data>\\r\\n\\r\\n\\t\\t\\t\\t\\r\\n\\t\\t\\t\\t<data>\\r\\n\\t\\t\\t\\t\\t<mode>A01</mode>\\r\\n\\t\\t\\t\\t\\t<tmEf>2020-01-09 00:00</tmEf>\\r\\n\\t\\t\\t\\t\\t<wf>구름많음</wf>\\r\\n\\t\\t\\t\\t\\t<tmn>-2</tmn>\\r\\n\\t\\t\\t\\t\\t<tmx>6</tmx>\\r\\n\\t\\t\\t\\t\\t<reliability></reliability>\\r\\n\\t\\t\\t\\t\\t<rnSt>40</rnSt>\\r\\n\\t\\t\\t\\t</data>\\r\\n\\r\\n\\t\\t\\t\\t\\r\\n\\t\\t\\t\\t<data>\\r\\n\\t\\t\\t\\t\\t<mode>A01</mode>\\r\\n\\t\\t\\t\\t\\t<tmEf>2020-01-10 00:00</tmEf>\\r\\n\\t\\t\\t\\t\\t<wf>구름많음</wf>\\r\\n\\t\\t\\t\\t\\t<tmn>-3</tmn>\\r\\n\\t\\t\\t\\t\\t<tmx>7</tmx>\\r\\n\\t\\t\\t\\t\\t<reliability></reliability>\\r\\n\\t\\t\\t\\t\\t<rnSt>30</rnSt>\\r\\n\\t\\t\\t\\t</data>\\r\\n\\r\\n\\r\\n\\t\\t</location>\\r\\n\\r\\n\\t\\t<location wl_ver=\"3\">\\r\\n\\t\\t\\t\\t<province>대구ㆍ경상북도</province>\\r\\n\\t\\t\\t\\t<city>포항</city>\\r\\n\\t\\t\\t\\t\\r\\n\\t\\t\\t\\t<data>\\r\\n\\t\\t\\t\\t\\t<mode>A02</mode>\\r\\n\\t\\t\\t\\t\\t<tmEf>2020-01-03 00:00</tmEf>\\r\\n\\t\\t\\t\\t\\t<wf>구름많음</wf>\\r\\n\\t\\t\\t\\t\\t<tmn>1</tmn>\\r\\n\\t\\t\\t\\t\\t<tmx>10</tmx>\\r\\n\\t\\t\\t\\t\\t<reliability></reliability>\\r\\n\\t\\t\\t\\t\\t<rnSt>30</rnSt>\\r\\n\\t\\t\\t\\t</data>\\r\\n\\r\\n\\t\\t\\t\\t\\r\\n\\t\\t\\t\\t<data>\\r\\n\\t\\t\\t\\t\\t<mode>A02</mode>\\r\\n\\t\\t\\t\\t\\t<tmEf>2020-01-03 12:00</tmEf>\\r\\n\\t\\t\\t\\t\\t<wf>구름많음</wf>\\r\\n\\t\\t\\t\\t\\t<tmn>1</tmn>\\r\\n\\t\\t\\t\\t\\t<tmx>10</tmx>\\r\\n\\t\\t\\t\\t\\t<reliability></reliability>\\r\\n\\t\\t\\t\\t\\t<rnSt>30</rnSt>\\r\\n\\t\\t\\t\\t</data>\\r\\n\\r\\n\\t\\t\\t\\t\\r\\n\\t\\t\\t\\t<data>\\r\\n\\t\\t\\t\\t\\t<mode>A02</mode>\\r\\n\\t\\t\\t\\t\\t<tmEf>2020-01-04 00:00</tmEf>\\r\\n\\t\\t\\t\\t\\t<wf>맑음</wf>\\r\\n\\t\\t\\t\\t\\t<tmn>2</tmn>\\r\\n\\t\\t\\t\\t\\t<tmx>10</tmx>\\r\\n\\t\\t\\t\\t\\t<reliability></reliability>\\r\\n\\t\\t\\t\\t\\t<rnSt>10</rnSt>\\r\\n\\t\\t\\t\\t</data>\\r\\n\\r\\n\\t\\t\\t\\t\\r\\n\\t\\t\\t\\t<data>\\r\\n\\t\\t\\t\\t\\t<mode>A02</mode>\\r\\n\\t\\t\\t\\t\\t<tmEf>2020-01-04 12:00</tmEf>\\r\\n\\t\\t\\t\\t\\t<wf>맑음</wf>\\r\\n\\t\\t\\t\\t\\t<tmn>2</tmn>\\r\\n\\t\\t\\t\\t\\t<tmx>10</tmx>\\r\\n\\t\\t\\t\\t\\t<reliability></reliability>\\r\\n\\t\\t\\t\\t\\t<rnSt>0</rnSt>\\r\\n\\t\\t\\t\\t</data>\\r\\n\\r\\n\\t\\t\\t\\t\\r\\n\\t\\t\\t\\t<data>\\r\\n\\t\\t\\t\\t\\t<mode>A02</mode>\\r\\n\\t\\t\\t\\t\\t<tmEf>2020-01-05 00:00</tmEf>\\r\\n\\t\\t\\t\\t\\t<wf>맑음</wf>\\r\\n\\t\\t\\t\\t\\t<tmn>0</tmn>\\r\\n\\t\\t\\t\\t\\t<tmx>10</tmx>\\r\\n\\t\\t\\t\\t\\t<reliability></reliability>\\r\\n\\t\\t\\t\\t\\t<rnSt>0</rnSt>\\r\\n\\t\\t\\t\\t</data>\\r\\n\\r\\n\\t\\t\\t\\t\\r\\n\\t\\t\\t\\t<data>\\r\\n\\t\\t\\t\\t\\t<mode>A02</mode>\\r\\n\\t\\t\\t\\t\\t<tmEf>2020-01-05 12:00</tmEf>\\r\\n\\t\\t\\t\\t\\t<wf>구름많음</wf>\\r\\n\\t\\t\\t\\t\\t<tmn>0</tmn>\\r\\n\\t\\t\\t\\t\\t<tmx>10</tmx>\\r\\n\\t\\t\\t\\t\\t<reliability></reliability>\\r\\n\\t\\t\\t\\t\\t<rnSt>30</rnSt>\\r\\n\\t\\t\\t\\t</data>\\r\\n\\r\\n\\t\\t\\t\\t\\r\\n\\t\\t\\t\\t<data>\\r\\n\\t\\t\\t\\t\\t<mode>A02</mode>\\r\\n\\t\\t\\t\\t\\t<tmEf>2020-01-06 00:00</tmEf>\\r\\n\\t\\t\\t\\t\\t<wf>구름많음</wf>\\r\\n\\t\\t\\t\\t\\t<tmn>2</tmn>\\r\\n\\t\\t\\t\\t\\t<tmx>9</tmx>\\r\\n\\t\\t\\t\\t\\t<reliability></reliability>\\r\\n\\t\\t\\t\\t\\t<rnSt>30</rnSt>\\r\\n\\t\\t\\t\\t</data>\\r\\n\\r\\n\\t\\t\\t\\t\\r\\n\\t\\t\\t\\t<data>\\r\\n\\t\\t\\t\\t\\t<mode>A02</mode>\\r\\n\\t\\t\\t\\t\\t<tmEf>2020-01-06 12:00</tmEf>\\r\\n\\t\\t\\t\\t\\t<wf>흐리고 비</wf>\\r\\n\\t\\t\\t\\t\\t<tmn>2</tmn>\\r\\n\\t\\t\\t\\t\\t<tmx>9</tmx>\\r\\n\\t\\t\\t\\t\\t<reliability></reliability>\\r\\n\\t\\t\\t\\t\\t<rnSt>70</rnSt>\\r\\n\\t\\t\\t\\t</data>\\r\\n\\r\\n\\t\\t\\t\\t\\r\\n\\t\\t\\t\\t<data>\\r\\n\\t\\t\\t\\t\\t<mode>A02</mode>\\r\\n\\t\\t\\t\\t\\t<tmEf>2020-01-07 00:00</tmEf>\\r\\n\\t\\t\\t\\t\\t<wf>흐리고 비</wf>\\r\\n\\t\\t\\t\\t\\t<tmn>4</tmn>\\r\\n\\t\\t\\t\\t\\t<tmx>10</tmx>\\r\\n\\t\\t\\t\\t\\t<reliability></reliability>\\r\\n\\t\\t\\t\\t\\t<rnSt>70</rnSt>\\r\\n\\t\\t\\t\\t</data>\\r\\n\\r\\n\\t\\t\\t\\t\\r\\n\\t\\t\\t\\t<data>\\r\\n\\t\\t\\t\\t\\t<mode>A02</mode>\\r\\n\\t\\t\\t\\t\\t<tmEf>2020-01-07 12:00</tmEf>\\r\\n\\t\\t\\t\\t\\t<wf>흐리고 비</wf>\\r\\n\\t\\t\\t\\t\\t<tmn>4</tmn>\\r\\n\\t\\t\\t\\t\\t<tmx>10</tmx>\\r\\n\\t\\t\\t\\t\\t<reliability></reliability>\\r\\n\\t\\t\\t\\t\\t<rnSt>70</rnSt>\\r\\n\\t\\t\\t\\t</data>\\r\\n\\r\\n\\t\\t\\t\\t\\r\\n\\t\\t\\t\\t<data>\\r\\n\\t\\t\\t\\t\\t<mode>A01</mode>\\r\\n\\t\\t\\t\\t\\t<tmEf>2020-01-08 00:00</tmEf>\\r\\n\\t\\t\\t\\t\\t<wf>흐리고 비</wf>\\r\\n\\t\\t\\t\\t\\t<tmn>5</tmn>\\r\\n\\t\\t\\t\\t\\t<tmx>9</tmx>\\r\\n\\t\\t\\t\\t\\t<reliability></reliability>\\r\\n\\t\\t\\t\\t\\t<rnSt>60</rnSt>\\r\\n\\t\\t\\t\\t</data>\\r\\n\\r\\n\\t\\t\\t\\t\\r\\n\\t\\t\\t\\t<data>\\r\\n\\t\\t\\t\\t\\t<mode>A01</mode>\\r\\n\\t\\t\\t\\t\\t<tmEf>2020-01-09 00:00</tmEf>\\r\\n\\t\\t\\t\\t\\t<wf>구름많음</wf>\\r\\n\\t\\t\\t\\t\\t<tmn>3</tmn>\\r\\n\\t\\t\\t\\t\\t<tmx>8</tmx>\\r\\n\\t\\t\\t\\t\\t<reliability></reliability>\\r\\n\\t\\t\\t\\t\\t<rnSt>40</rnSt>\\r\\n\\t\\t\\t\\t</data>\\r\\n\\r\\n\\t\\t\\t\\t\\r\\n\\t\\t\\t\\t<data>\\r\\n\\t\\t\\t\\t\\t<mode>A01</mode>\\r\\n\\t\\t\\t\\t\\t<tmEf>2020-01-10 00:00</tmEf>\\r\\n\\t\\t\\t\\t\\t<wf>구름많음</wf>\\r\\n\\t\\t\\t\\t\\t<tmn>2</tmn>\\r\\n\\t\\t\\t\\t\\t<tmx>9</tmx>\\r\\n\\t\\t\\t\\t\\t<reliability></reliability>\\r\\n\\t\\t\\t\\t\\t<rnSt>30</rnSt>\\r\\n\\t\\t\\t\\t</data>\\r\\n\\r\\n\\r\\n\\t\\t</location>\\r\\n\\r\\n\\t\\t<location wl_ver=\"3\">\\r\\n\\t\\t\\t\\t<province>대구ㆍ경상북도</province>\\r\\n\\t\\t\\t\\t<city>경주</city>\\r\\n\\t\\t\\t\\t\\r\\n\\t\\t\\t\\t<data>\\r\\n\\t\\t\\t\\t\\t<mode>A02</mode>\\r\\n\\t\\t\\t\\t\\t<tmEf>2020-01-03 00:00</tmEf>\\r\\n\\t\\t\\t\\t\\t<wf>구름많음</wf>\\r\\n\\t\\t\\t\\t\\t<tmn>-1</tmn>\\r\\n\\t\\t\\t\\t\\t<tmx>9</tmx>\\r\\n\\t\\t\\t\\t\\t<reliability></reliability>\\r\\n\\t\\t\\t\\t\\t<rnSt>30</rnSt>\\r\\n\\t\\t\\t\\t</data>\\r\\n\\r\\n\\t\\t\\t\\t\\r\\n\\t\\t\\t\\t<data>\\r\\n\\t\\t\\t\\t\\t<mode>A02</mode>\\r\\n\\t\\t\\t\\t\\t<tmEf>2020-01-03 12:00</tmEf>\\r\\n\\t\\t\\t\\t\\t<wf>구름많음</wf>\\r\\n\\t\\t\\t\\t\\t<tmn>-1</tmn>\\r\\n\\t\\t\\t\\t\\t<tmx>9</tmx>\\r\\n\\t\\t\\t\\t\\t<reliability></reliability>\\r\\n\\t\\t\\t\\t\\t<rnSt>30</rnSt>\\r\\n\\t\\t\\t\\t</data>\\r\\n\\r\\n\\t\\t\\t\\t\\r\\n\\t\\t\\t\\t<data>\\r\\n\\t\\t\\t\\t\\t<mode>A02</mode>\\r\\n\\t\\t\\t\\t\\t<tmEf>2020-01-04 00:00</tmEf>\\r\\n\\t\\t\\t\\t\\t<wf>맑음</wf>\\r\\n\\t\\t\\t\\t\\t<tmn>0</tmn>\\r\\n\\t\\t\\t\\t\\t<tmx>9</tmx>\\r\\n\\t\\t\\t\\t\\t<reliability></reliability>\\r\\n\\t\\t\\t\\t\\t<rnSt>10</rnSt>\\r\\n\\t\\t\\t\\t</data>\\r\\n\\r\\n\\t\\t\\t\\t\\r\\n\\t\\t\\t\\t<data>\\r\\n\\t\\t\\t\\t\\t<mode>A02</mode>\\r\\n\\t\\t\\t\\t\\t<tmEf>2020-01-04 12:00</tmEf>\\r\\n\\t\\t\\t\\t\\t<wf>맑음</wf>\\r\\n\\t\\t\\t\\t\\t<tmn>0</tmn>\\r\\n\\t\\t\\t\\t\\t<tmx>9</tmx>\\r\\n\\t\\t\\t\\t\\t<reliability></reliability>\\r\\n\\t\\t\\t\\t\\t<rnSt>0</rnSt>\\r\\n\\t\\t\\t\\t</data>\\r\\n\\r\\n\\t\\t\\t\\t\\r\\n\\t\\t\\t\\t<data>\\r\\n\\t\\t\\t\\t\\t<mode>A02</mode>\\r\\n\\t\\t\\t\\t\\t<tmEf>2020-01-05 00:00</tmEf>\\r\\n\\t\\t\\t\\t\\t<wf>맑음</wf>\\r\\n\\t\\t\\t\\t\\t<tmn>-3</tmn>\\r\\n\\t\\t\\t\\t\\t<tmx>9</tmx>\\r\\n\\t\\t\\t\\t\\t<reliability></reliability>\\r\\n\\t\\t\\t\\t\\t<rnSt>0</rnSt>\\r\\n\\t\\t\\t\\t</data>\\r\\n\\r\\n\\t\\t\\t\\t\\r\\n\\t\\t\\t\\t<data>\\r\\n\\t\\t\\t\\t\\t<mode>A02</mode>\\r\\n\\t\\t\\t\\t\\t<tmEf>2020-01-05 12:00</tmEf>\\r\\n\\t\\t\\t\\t\\t<wf>구름많음</wf>\\r\\n\\t\\t\\t\\t\\t<tmn>-3</tmn>\\r\\n\\t\\t\\t\\t\\t<tmx>9</tmx>\\r\\n\\t\\t\\t\\t\\t<reliability></reliability>\\r\\n\\t\\t\\t\\t\\t<rnSt>30</rnSt>\\r\\n\\t\\t\\t\\t</data>\\r\\n\\r\\n\\t\\t\\t\\t\\r\\n\\t\\t\\t\\t<data>\\r\\n\\t\\t\\t\\t\\t<mode>A02</mode>\\r\\n\\t\\t\\t\\t\\t<tmEf>2020-01-06 00:00</tmEf>\\r\\n\\t\\t\\t\\t\\t<wf>구름많음</wf>\\r\\n\\t\\t\\t\\t\\t<tmn>-2</tmn>\\r\\n\\t\\t\\t\\t\\t<tmx>9</tmx>\\r\\n\\t\\t\\t\\t\\t<reliability></reliability>\\r\\n\\t\\t\\t\\t\\t<rnSt>30</rnSt>\\r\\n\\t\\t\\t\\t</data>\\r\\n\\r\\n\\t\\t\\t\\t\\r\\n\\t\\t\\t\\t<data>\\r\\n\\t\\t\\t\\t\\t<mode>A02</mode>\\r\\n\\t\\t\\t\\t\\t<tmEf>2020-01-06 12:00</tmEf>\\r\\n\\t\\t\\t\\t\\t<wf>흐리고 비</wf>\\r\\n\\t\\t\\t\\t\\t<tmn>-2</tmn>\\r\\n\\t\\t\\t\\t\\t<tmx>9</tmx>\\r\\n\\t\\t\\t\\t\\t<reliability></reliability>\\r\\n\\t\\t\\t\\t\\t<rnSt>70</rnSt>\\r\\n\\t\\t\\t\\t</data>\\r\\n\\r\\n\\t\\t\\t\\t\\r\\n\\t\\t\\t\\t<data>\\r\\n\\t\\t\\t\\t\\t<mode>A02</mode>\\r\\n\\t\\t\\t\\t\\t<tmEf>2020-01-07 00:00</tmEf>\\r\\n\\t\\t\\t\\t\\t<wf>흐리고 비</wf>\\r\\n\\t\\t\\t\\t\\t<tmn>3</tmn>\\r\\n\\t\\t\\t\\t\\t<tmx>9</tmx>\\r\\n\\t\\t\\t\\t\\t<reliability></reliability>\\r\\n\\t\\t\\t\\t\\t<rnSt>70</rnSt>\\r\\n\\t\\t\\t\\t</data>\\r\\n\\r\\n\\t\\t\\t\\t\\r\\n\\t\\t\\t\\t<data>\\r\\n\\t\\t\\t\\t\\t<mode>A02</mode>\\r\\n\\t\\t\\t\\t\\t<tmEf>2020-01-07 12:00</tmEf>\\r\\n\\t\\t\\t\\t\\t<wf>흐리고 비</wf>\\r\\n\\t\\t\\t\\t\\t<tmn>3</tmn>\\r\\n\\t\\t\\t\\t\\t<tmx>9</tmx>\\r\\n\\t\\t\\t\\t\\t<reliability></reliability>\\r\\n\\t\\t\\t\\t\\t<rnSt>70</rnSt>\\r\\n\\t\\t\\t\\t</data>\\r\\n\\r\\n\\t\\t\\t\\t\\r\\n\\t\\t\\t\\t<data>\\r\\n\\t\\t\\t\\t\\t<mode>A01</mode>\\r\\n\\t\\t\\t\\t\\t<tmEf>2020-01-08 00:00</tmEf>\\r\\n\\t\\t\\t\\t\\t<wf>흐리고 비</wf>\\r\\n\\t\\t\\t\\t\\t<tmn>4</tmn>\\r\\n\\t\\t\\t\\t\\t<tmx>7</tmx>\\r\\n\\t\\t\\t\\t\\t<reliability></reliability>\\r\\n\\t\\t\\t\\t\\t<rnSt>60</rnSt>\\r\\n\\t\\t\\t\\t</data>\\r\\n\\r\\n\\t\\t\\t\\t\\r\\n\\t\\t\\t\\t<data>\\r\\n\\t\\t\\t\\t\\t<mode>A01</mode>\\r\\n\\t\\t\\t\\t\\t<tmEf>2020-01-09 00:00</tmEf>\\r\\n\\t\\t\\t\\t\\t<wf>구름많음</wf>\\r\\n\\t\\t\\t\\t\\t<tmn>2</tmn>\\r\\n\\t\\t\\t\\t\\t<tmx>7</tmx>\\r\\n\\t\\t\\t\\t\\t<reliability></reliability>\\r\\n\\t\\t\\t\\t\\t<rnSt>40</rnSt>\\r\\n\\t\\t\\t\\t</data>\\r\\n\\r\\n\\t\\t\\t\\t\\r\\n\\t\\t\\t\\t<data>\\r\\n\\t\\t\\t\\t\\t<mode>A01</mode>\\r\\n\\t\\t\\t\\t\\t<tmEf>2020-01-10 00:00</tmEf>\\r\\n\\t\\t\\t\\t\\t<wf>구름많음</wf>\\r\\n\\t\\t\\t\\t\\t<tmn>0</tmn>\\r\\n\\t\\t\\t\\t\\t<tmx>8</tmx>\\r\\n\\t\\t\\t\\t\\t<reliability></reliability>\\r\\n\\t\\t\\t\\t\\t<rnSt>30</rnSt>\\r\\n\\t\\t\\t\\t</data>\\r\\n\\r\\n\\r\\n\\t\\t</location>\\r\\n\\r\\n\\t\\t<location wl_ver=\"3\">\\r\\n\\t\\t\\t\\t<province>대구ㆍ경상북도</province>\\r\\n\\t\\t\\t\\t<city>울진</city>\\r\\n\\t\\t\\t\\t\\r\\n\\t\\t\\t\\t<data>\\r\\n\\t\\t\\t\\t\\t<mode>A02</mode>\\r\\n\\t\\t\\t\\t\\t<tmEf>2020-01-03 00:00</tmEf>\\r\\n\\t\\t\\t\\t\\t<wf>구름많음</wf>\\r\\n\\t\\t\\t\\t\\t<tmn>0</tmn>\\r\\n\\t\\t\\t\\t\\t<tmx>11</tmx>\\r\\n\\t\\t\\t\\t\\t<reliability></reliability>\\r\\n\\t\\t\\t\\t\\t<rnSt>30</rnSt>\\r\\n\\t\\t\\t\\t</data>\\r\\n\\r\\n\\t\\t\\t\\t\\r\\n\\t\\t\\t\\t<data>\\r\\n\\t\\t\\t\\t\\t<mode>A02</mode>\\r\\n\\t\\t\\t\\t\\t<tmEf>2020-01-03 12:00</tmEf>\\r\\n\\t\\t\\t\\t\\t<wf>구름많음</wf>\\r\\n\\t\\t\\t\\t\\t<tmn>0</tmn>\\r\\n\\t\\t\\t\\t\\t<tmx>11</tmx>\\r\\n\\t\\t\\t\\t\\t<reliability></reliability>\\r\\n\\t\\t\\t\\t\\t<rnSt>30</rnSt>\\r\\n\\t\\t\\t\\t</data>\\r\\n\\r\\n\\t\\t\\t\\t\\r\\n\\t\\t\\t\\t<data>\\r\\n\\t\\t\\t\\t\\t<mode>A02</mode>\\r\\n\\t\\t\\t\\t\\t<tmEf>2020-01-04 00:00</tmEf>\\r\\n\\t\\t\\t\\t\\t<wf>맑음</wf>\\r\\n\\t\\t\\t\\t\\t<tmn>1</tmn>\\r\\n\\t\\t\\t\\t\\t<tmx>10</tmx>\\r\\n\\t\\t\\t\\t\\t<reliability></reliability>\\r\\n\\t\\t\\t\\t\\t<rnSt>10</rnSt>\\r\\n\\t\\t\\t\\t</data>\\r\\n\\r\\n\\t\\t\\t\\t\\r\\n\\t\\t\\t\\t<data>\\r\\n\\t\\t\\t\\t\\t<mode>A02</mode>\\r\\n\\t\\t\\t\\t\\t<tmEf>2020-01-04 12:00</tmEf>\\r\\n\\t\\t\\t\\t\\t<wf>맑음</wf>\\r\\n\\t\\t\\t\\t\\t<tmn>1</tmn>\\r\\n\\t\\t\\t\\t\\t<tmx>10</tmx>\\r\\n\\t\\t\\t\\t\\t<reliability></reliability>\\r\\n\\t\\t\\t\\t\\t<rnSt>0</rnSt>\\r\\n\\t\\t\\t\\t</data>\\r\\n\\r\\n\\t\\t\\t\\t\\r\\n\\t\\t\\t\\t<data>\\r\\n\\t\\t\\t\\t\\t<mode>A02</mode>\\r\\n\\t\\t\\t\\t\\t<tmEf>2020-01-05 00:00</tmEf>\\r\\n\\t\\t\\t\\t\\t<wf>맑음</wf>\\r\\n\\t\\t\\t\\t\\t<tmn>-1</tmn>\\r\\n\\t\\t\\t\\t\\t<tmx>9</tmx>\\r\\n\\t\\t\\t\\t\\t<reliability></reliability>\\r\\n\\t\\t\\t\\t\\t<rnSt>0</rnSt>\\r\\n\\t\\t\\t\\t</data>\\r\\n\\r\\n\\t\\t\\t\\t\\r\\n\\t\\t\\t\\t<data>\\r\\n\\t\\t\\t\\t\\t<mode>A02</mode>\\r\\n\\t\\t\\t\\t\\t<tmEf>2020-01-05 12:00</tmEf>\\r\\n\\t\\t\\t\\t\\t<wf>구름많음</wf>\\r\\n\\t\\t\\t\\t\\t<tmn>-1</tmn>\\r\\n\\t\\t\\t\\t\\t<tmx>9</tmx>\\r\\n\\t\\t\\t\\t\\t<reliability></reliability>\\r\\n\\t\\t\\t\\t\\t<rnSt>30</rnSt>\\r\\n\\t\\t\\t\\t</data>\\r\\n\\r\\n\\t\\t\\t\\t\\r\\n\\t\\t\\t\\t<data>\\r\\n\\t\\t\\t\\t\\t<mode>A02</mode>\\r\\n\\t\\t\\t\\t\\t<tmEf>2020-01-06 00:00</tmEf>\\r\\n\\t\\t\\t\\t\\t<wf>구름많음</wf>\\r\\n\\t\\t\\t\\t\\t<tmn>1</tmn>\\r\\n\\t\\t\\t\\t\\t<tmx>10</tmx>\\r\\n\\t\\t\\t\\t\\t<reliability></reliability>\\r\\n\\t\\t\\t\\t\\t<rnSt>30</rnSt>\\r\\n\\t\\t\\t\\t</data>\\r\\n\\r\\n\\t\\t\\t\\t\\r\\n\\t\\t\\t\\t<data>\\r\\n\\t\\t\\t\\t\\t<mode>A02</mode>\\r\\n\\t\\t\\t\\t\\t<tmEf>2020-01-06 12:00</tmEf>\\r\\n\\t\\t\\t\\t\\t<wf>흐리고 비</wf>\\r\\n\\t\\t\\t\\t\\t<tmn>1</tmn>\\r\\n\\t\\t\\t\\t\\t<tmx>10</tmx>\\r\\n\\t\\t\\t\\t\\t<reliability></reliability>\\r\\n\\t\\t\\t\\t\\t<rnSt>70</rnSt>\\r\\n\\t\\t\\t\\t</data>\\r\\n\\r\\n\\t\\t\\t\\t\\r\\n\\t\\t\\t\\t<data>\\r\\n\\t\\t\\t\\t\\t<mode>A02</mode>\\r\\n\\t\\t\\t\\t\\t<tmEf>2020-01-07 00:00</tmEf>\\r\\n\\t\\t\\t\\t\\t<wf>흐리고 비</wf>\\r\\n\\t\\t\\t\\t\\t<tmn>3</tmn>\\r\\n\\t\\t\\t\\t\\t<tmx>9</tmx>\\r\\n\\t\\t\\t\\t\\t<reliability></reliability>\\r\\n\\t\\t\\t\\t\\t<rnSt>70</rnSt>\\r\\n\\t\\t\\t\\t</data>\\r\\n\\r\\n\\t\\t\\t\\t\\r\\n\\t\\t\\t\\t<data>\\r\\n\\t\\t\\t\\t\\t<mode>A02</mode>\\r\\n\\t\\t\\t\\t\\t<tmEf>2020-01-07 12:00</tmEf>\\r\\n\\t\\t\\t\\t\\t<wf>흐리고 비</wf>\\r\\n\\t\\t\\t\\t\\t<tmn>3</tmn>\\r\\n\\t\\t\\t\\t\\t<tmx>9</tmx>\\r\\n\\t\\t\\t\\t\\t<reliability></reliability>\\r\\n\\t\\t\\t\\t\\t<rnSt>70</rnSt>\\r\\n\\t\\t\\t\\t</data>\\r\\n\\r\\n\\t\\t\\t\\t\\r\\n\\t\\t\\t\\t<data>\\r\\n\\t\\t\\t\\t\\t<mode>A01</mode>\\r\\n\\t\\t\\t\\t\\t<tmEf>2020-01-08 00:00</tmEf>\\r\\n\\t\\t\\t\\t\\t<wf>흐리고 비</wf>\\r\\n\\t\\t\\t\\t\\t<tmn>3</tmn>\\r\\n\\t\\t\\t\\t\\t<tmx>8</tmx>\\r\\n\\t\\t\\t\\t\\t<reliability></reliability>\\r\\n\\t\\t\\t\\t\\t<rnSt>60</rnSt>\\r\\n\\t\\t\\t\\t</data>\\r\\n\\r\\n\\t\\t\\t\\t\\r\\n\\t\\t\\t\\t<data>\\r\\n\\t\\t\\t\\t\\t<mode>A01</mode>\\r\\n\\t\\t\\t\\t\\t<tmEf>2020-01-09 00:00</tmEf>\\r\\n\\t\\t\\t\\t\\t<wf>구름많음</wf>\\r\\n\\t\\t\\t\\t\\t<tmn>1</tmn>\\r\\n\\t\\t\\t\\t\\t<tmx>8</tmx>\\r\\n\\t\\t\\t\\t\\t<reliability></reliability>\\r\\n\\t\\t\\t\\t\\t<rnSt>40</rnSt>\\r\\n\\t\\t\\t\\t</data>\\r\\n\\r\\n\\t\\t\\t\\t\\r\\n\\t\\t\\t\\t<data>\\r\\n\\t\\t\\t\\t\\t<mode>A01</mode>\\r\\n\\t\\t\\t\\t\\t<tmEf>2020-01-10 00:00</tmEf>\\r\\n\\t\\t\\t\\t\\t<wf>구름많음</wf>\\r\\n\\t\\t\\t\\t\\t<tmn>0</tmn>\\r\\n\\t\\t\\t\\t\\t<tmx>10</tmx>\\r\\n\\t\\t\\t\\t\\t<reliability></reliability>\\r\\n\\t\\t\\t\\t\\t<rnSt>30</rnSt>\\r\\n\\t\\t\\t\\t</data>\\r\\n\\r\\n\\r\\n\\t\\t</location>\\r\\n\\r\\n\\t\\t<location wl_ver=\"3\">\\r\\n\\t\\t\\t\\t<province>대구ㆍ경상북도</province>\\r\\n\\t\\t\\t\\t<city>울릉도</city>\\r\\n\\t\\t\\t\\t\\r\\n\\t\\t\\t\\t<data>\\r\\n\\t\\t\\t\\t\\t<mode>A02</mode>\\r\\n\\t\\t\\t\\t\\t<tmEf>2020-01-03 00:00</tmEf>\\r\\n\\t\\t\\t\\t\\t<wf>구름많음</wf>\\r\\n\\t\\t\\t\\t\\t<tmn>4</tmn>\\r\\n\\t\\t\\t\\t\\t<tmx>9</tmx>\\r\\n\\t\\t\\t\\t\\t<reliability></reliability>\\r\\n\\t\\t\\t\\t\\t<rnSt>30</rnSt>\\r\\n\\t\\t\\t\\t</data>\\r\\n\\r\\n\\t\\t\\t\\t\\r\\n\\t\\t\\t\\t<data>\\r\\n\\t\\t\\t\\t\\t<mode>A02</mode>\\r\\n\\t\\t\\t\\t\\t<tmEf>2020-01-03 12:00</tmEf>\\r\\n\\t\\t\\t\\t\\t<wf>구름많음</wf>\\r\\n\\t\\t\\t\\t\\t<tmn>4</tmn>\\r\\n\\t\\t\\t\\t\\t<tmx>9</tmx>\\r\\n\\t\\t\\t\\t\\t<reliability></reliability>\\r\\n\\t\\t\\t\\t\\t<rnSt>30</rnSt>\\r\\n\\t\\t\\t\\t</data>\\r\\n\\r\\n\\t\\t\\t\\t\\r\\n\\t\\t\\t\\t<data>\\r\\n\\t\\t\\t\\t\\t<mode>A02</mode>\\r\\n\\t\\t\\t\\t\\t<tmEf>2020-01-04 00:00</tmEf>\\r\\n\\t\\t\\t\\t\\t<wf>맑음</wf>\\r\\n\\t\\t\\t\\t\\t<tmn>5</tmn>\\r\\n\\t\\t\\t\\t\\t<tmx>7</tmx>\\r\\n\\t\\t\\t\\t\\t<reliability></reliability>\\r\\n\\t\\t\\t\\t\\t<rnSt>10</rnSt>\\r\\n\\t\\t\\t\\t</data>\\r\\n\\r\\n\\t\\t\\t\\t\\r\\n\\t\\t\\t\\t<data>\\r\\n\\t\\t\\t\\t\\t<mode>A02</mode>\\r\\n\\t\\t\\t\\t\\t<tmEf>2020-01-04 12:00</tmEf>\\r\\n\\t\\t\\t\\t\\t<wf>맑음</wf>\\r\\n\\t\\t\\t\\t\\t<tmn>5</tmn>\\r\\n\\t\\t\\t\\t\\t<tmx>7</tmx>\\r\\n\\t\\t\\t\\t\\t<reliability></reliability>\\r\\n\\t\\t\\t\\t\\t<rnSt>0</rnSt>\\r\\n\\t\\t\\t\\t</data>\\r\\n\\r\\n\\t\\t\\t\\t\\r\\n\\t\\t\\t\\t<data>\\r\\n\\t\\t\\t\\t\\t<mode>A02</mode>\\r\\n\\t\\t\\t\\t\\t<tmEf>2020-01-05 00:00</tmEf>\\r\\n\\t\\t\\t\\t\\t<wf>맑음</wf>\\r\\n\\t\\t\\t\\t\\t<tmn>3</tmn>\\r\\n\\t\\t\\t\\t\\t<tmx>6</tmx>\\r\\n\\t\\t\\t\\t\\t<reliability></reliability>\\r\\n\\t\\t\\t\\t\\t<rnSt>0</rnSt>\\r\\n\\t\\t\\t\\t</data>\\r\\n\\r\\n\\t\\t\\t\\t\\r\\n\\t\\t\\t\\t<data>\\r\\n\\t\\t\\t\\t\\t<mode>A02</mode>\\r\\n\\t\\t\\t\\t\\t<tmEf>2020-01-05 12:00</tmEf>\\r\\n\\t\\t\\t\\t\\t<wf>구름많음</wf>\\r\\n\\t\\t\\t\\t\\t<tmn>3</tmn>\\r\\n\\t\\t\\t\\t\\t<tmx>6</tmx>\\r\\n\\t\\t\\t\\t\\t<reliability></reliability>\\r\\n\\t\\t\\t\\t\\t<rnSt>30</rnSt>\\r\\n\\t\\t\\t\\t</data>\\r\\n\\r\\n\\t\\t\\t\\t\\r\\n\\t\\t\\t\\t<data>\\r\\n\\t\\t\\t\\t\\t<mode>A02</mode>\\r\\n\\t\\t\\t\\t\\t<tmEf>2020-01-06 00:00</tmEf>\\r\\n\\t\\t\\t\\t\\t<wf>구름많음</wf>\\r\\n\\t\\t\\t\\t\\t<tmn>4</tmn>\\r\\n\\t\\t\\t\\t\\t<tmx>8</tmx>\\r\\n\\t\\t\\t\\t\\t<reliability></reliability>\\r\\n\\t\\t\\t\\t\\t<rnSt>30</rnSt>\\r\\n\\t\\t\\t\\t</data>\\r\\n\\r\\n\\t\\t\\t\\t\\r\\n\\t\\t\\t\\t<data>\\r\\n\\t\\t\\t\\t\\t<mode>A02</mode>\\r\\n\\t\\t\\t\\t\\t<tmEf>2020-01-06 12:00</tmEf>\\r\\n\\t\\t\\t\\t\\t<wf>흐리고 비</wf>\\r\\n\\t\\t\\t\\t\\t<tmn>4</tmn>\\r\\n\\t\\t\\t\\t\\t<tmx>8</tmx>\\r\\n\\t\\t\\t\\t\\t<reliability></reliability>\\r\\n\\t\\t\\t\\t\\t<rnSt>70</rnSt>\\r\\n\\t\\t\\t\\t</data>\\r\\n\\r\\n\\t\\t\\t\\t\\r\\n\\t\\t\\t\\t<data>\\r\\n\\t\\t\\t\\t\\t<mode>A02</mode>\\r\\n\\t\\t\\t\\t\\t<tmEf>2020-01-07 00:00</tmEf>\\r\\n\\t\\t\\t\\t\\t<wf>흐리고 비</wf>\\r\\n\\t\\t\\t\\t\\t<tmn>5</tmn>\\r\\n\\t\\t\\t\\t\\t<tmx>7</tmx>\\r\\n\\t\\t\\t\\t\\t<reliability></reliability>\\r\\n\\t\\t\\t\\t\\t<rnSt>70</rnSt>\\r\\n\\t\\t\\t\\t</data>\\r\\n\\r\\n\\t\\t\\t\\t\\r\\n\\t\\t\\t\\t<data>\\r\\n\\t\\t\\t\\t\\t<mode>A02</mode>\\r\\n\\t\\t\\t\\t\\t<tmEf>2020-01-07 12:00</tmEf>\\r\\n\\t\\t\\t\\t\\t<wf>흐리고 비</wf>\\r\\n\\t\\t\\t\\t\\t<tmn>5</tmn>\\r\\n\\t\\t\\t\\t\\t<tmx>7</tmx>\\r\\n\\t\\t\\t\\t\\t<reliability></reliability>\\r\\n\\t\\t\\t\\t\\t<rnSt>70</rnSt>\\r\\n\\t\\t\\t\\t</data>\\r\\n\\r\\n\\t\\t\\t\\t\\r\\n\\t\\t\\t\\t<data>\\r\\n\\t\\t\\t\\t\\t<mode>A01</mode>\\r\\n\\t\\t\\t\\t\\t<tmEf>2020-01-08 00:00</tmEf>\\r\\n\\t\\t\\t\\t\\t<wf>흐리고 비</wf>\\r\\n\\t\\t\\t\\t\\t<tmn>3</tmn>\\r\\n\\t\\t\\t\\t\\t<tmx>6</tmx>\\r\\n\\t\\t\\t\\t\\t<reliability></reliability>\\r\\n\\t\\t\\t\\t\\t<rnSt>60</rnSt>\\r\\n\\t\\t\\t\\t</data>\\r\\n\\r\\n\\t\\t\\t\\t\\r\\n\\t\\t\\t\\t<data>\\r\\n\\t\\t\\t\\t\\t<mode>A01</mode>\\r\\n\\t\\t\\t\\t\\t<tmEf>2020-01-09 00:00</tmEf>\\r\\n\\t\\t\\t\\t\\t<wf>구름많음</wf>\\r\\n\\t\\t\\t\\t\\t<tmn>2</tmn>\\r\\n\\t\\t\\t\\t\\t<tmx>5</tmx>\\r\\n\\t\\t\\t\\t\\t<reliability></reliability>\\r\\n\\t\\t\\t\\t\\t<rnSt>40</rnSt>\\r\\n\\t\\t\\t\\t</data>\\r\\n\\r\\n\\t\\t\\t\\t\\r\\n\\t\\t\\t\\t<data>\\r\\n\\t\\t\\t\\t\\t<mode>A01</mode>\\r\\n\\t\\t\\t\\t\\t<tmEf>2020-01-10 00:00</tmEf>\\r\\n\\t\\t\\t\\t\\t<wf>구름많음</wf>\\r\\n\\t\\t\\t\\t\\t<tmn>4</tmn>\\r\\n\\t\\t\\t\\t\\t<tmx>7</tmx>\\r\\n\\t\\t\\t\\t\\t<reliability></reliability>\\r\\n\\t\\t\\t\\t\\t<rnSt>30</rnSt>\\r\\n\\t\\t\\t\\t</data>\\r\\n\\r\\n\\r\\n\\t\\t</location>\\r\\n\\r\\n\\r\\n\\r\\n\\t\\t<location wl_ver=\"3\">\\r\\n\\t\\t\\t\\t<province>제주도</province>\\r\\n\\t\\t\\t\\t<city>제주</city>\\r\\n\\t\\t\\t\\t\\r\\n\\t\\t\\t\\t<data>\\r\\n\\t\\t\\t\\t\\t<mode>A02</mode>\\r\\n\\t\\t\\t\\t\\t<tmEf>2020-01-03 00:00</tmEf>\\r\\n\\t\\t\\t\\t\\t<wf>구름많음</wf>\\r\\n\\t\\t\\t\\t\\t<tmn>7</tmn>\\r\\n\\t\\t\\t\\t\\t<tmx>12</tmx>\\r\\n\\t\\t\\t\\t\\t<reliability></reliability>\\r\\n\\t\\t\\t\\t\\t<rnSt>40</rnSt>\\r\\n\\t\\t\\t\\t</data>\\r\\n\\r\\n\\t\\t\\t\\t\\r\\n\\t\\t\\t\\t<data>\\r\\n\\t\\t\\t\\t\\t<mode>A02</mode>\\r\\n\\t\\t\\t\\t\\t<tmEf>2020-01-03 12:00</tmEf>\\r\\n\\t\\t\\t\\t\\t<wf>구름많음</wf>\\r\\n\\t\\t\\t\\t\\t<tmn>7</tmn>\\r\\n\\t\\t\\t\\t\\t<tmx>12</tmx>\\r\\n\\t\\t\\t\\t\\t<reliability></reliability>\\r\\n\\t\\t\\t\\t\\t<rnSt>40</rnSt>\\r\\n\\t\\t\\t\\t</data>\\r\\n\\r\\n\\t\\t\\t\\t\\r\\n\\t\\t\\t\\t<data>\\r\\n\\t\\t\\t\\t\\t<mode>A02</mode>\\r\\n\\t\\t\\t\\t\\t<tmEf>2020-01-04 00:00</tmEf>\\r\\n\\t\\t\\t\\t\\t<wf>구름많음</wf>\\r\\n\\t\\t\\t\\t\\t<tmn>8</tmn>\\r\\n\\t\\t\\t\\t\\t<tmx>11</tmx>\\r\\n\\t\\t\\t\\t\\t<reliability></reliability>\\r\\n\\t\\t\\t\\t\\t<rnSt>30</rnSt>\\r\\n\\t\\t\\t\\t</data>\\r\\n\\r\\n\\t\\t\\t\\t\\r\\n\\t\\t\\t\\t<data>\\r\\n\\t\\t\\t\\t\\t<mode>A02</mode>\\r\\n\\t\\t\\t\\t\\t<tmEf>2020-01-04 12:00</tmEf>\\r\\n\\t\\t\\t\\t\\t<wf>맑음</wf>\\r\\n\\t\\t\\t\\t\\t<tmn>8</tmn>\\r\\n\\t\\t\\t\\t\\t<tmx>11</tmx>\\r\\n\\t\\t\\t\\t\\t<reliability></reliability>\\r\\n\\t\\t\\t\\t\\t<rnSt>10</rnSt>\\r\\n\\t\\t\\t\\t</data>\\r\\n\\r\\n\\t\\t\\t\\t\\r\\n\\t\\t\\t\\t<data>\\r\\n\\t\\t\\t\\t\\t<mode>A02</mode>\\r\\n\\t\\t\\t\\t\\t<tmEf>2020-01-05 00:00</tmEf>\\r\\n\\t\\t\\t\\t\\t<wf>맑음</wf>\\r\\n\\t\\t\\t\\t\\t<tmn>5</tmn>\\r\\n\\t\\t\\t\\t\\t<tmx>10</tmx>\\r\\n\\t\\t\\t\\t\\t<reliability></reliability>\\r\\n\\t\\t\\t\\t\\t<rnSt>0</rnSt>\\r\\n\\t\\t\\t\\t</data>\\r\\n\\r\\n\\t\\t\\t\\t\\r\\n\\t\\t\\t\\t<data>\\r\\n\\t\\t\\t\\t\\t<mode>A02</mode>\\r\\n\\t\\t\\t\\t\\t<tmEf>2020-01-05 12:00</tmEf>\\r\\n\\t\\t\\t\\t\\t<wf>구름많음</wf>\\r\\n\\t\\t\\t\\t\\t<tmn>5</tmn>\\r\\n\\t\\t\\t\\t\\t<tmx>10</tmx>\\r\\n\\t\\t\\t\\t\\t<reliability></reliability>\\r\\n\\t\\t\\t\\t\\t<rnSt>30</rnSt>\\r\\n\\t\\t\\t\\t</data>\\r\\n\\r\\n\\t\\t\\t\\t\\r\\n\\t\\t\\t\\t<data>\\r\\n\\t\\t\\t\\t\\t<mode>A02</mode>\\r\\n\\t\\t\\t\\t\\t<tmEf>2020-01-06 00:00</tmEf>\\r\\n\\t\\t\\t\\t\\t<wf>구름많음</wf>\\r\\n\\t\\t\\t\\t\\t<tmn>8</tmn>\\r\\n\\t\\t\\t\\t\\t<tmx>14</tmx>\\r\\n\\t\\t\\t\\t\\t<reliability></reliability>\\r\\n\\t\\t\\t\\t\\t<rnSt>30</rnSt>\\r\\n\\t\\t\\t\\t</data>\\r\\n\\r\\n\\t\\t\\t\\t\\r\\n\\t\\t\\t\\t<data>\\r\\n\\t\\t\\t\\t\\t<mode>A02</mode>\\r\\n\\t\\t\\t\\t\\t<tmEf>2020-01-06 12:00</tmEf>\\r\\n\\t\\t\\t\\t\\t<wf>흐리고 비</wf>\\r\\n\\t\\t\\t\\t\\t<tmn>8</tmn>\\r\\n\\t\\t\\t\\t\\t<tmx>14</tmx>\\r\\n\\t\\t\\t\\t\\t<reliability></reliability>\\r\\n\\t\\t\\t\\t\\t<rnSt>60</rnSt>\\r\\n\\t\\t\\t\\t</data>\\r\\n\\r\\n\\t\\t\\t\\t\\r\\n\\t\\t\\t\\t<data>\\r\\n\\t\\t\\t\\t\\t<mode>A02</mode>\\r\\n\\t\\t\\t\\t\\t<tmEf>2020-01-07 00:00</tmEf>\\r\\n\\t\\t\\t\\t\\t<wf>흐리고 비</wf>\\r\\n\\t\\t\\t\\t\\t<tmn>12</tmn>\\r\\n\\t\\t\\t\\t\\t<tmx>15</tmx>\\r\\n\\t\\t\\t\\t\\t<reliability></reliability>\\r\\n\\t\\t\\t\\t\\t<rnSt>70</rnSt>\\r\\n\\t\\t\\t\\t</data>\\r\\n\\r\\n\\t\\t\\t\\t\\r\\n\\t\\t\\t\\t<data>\\r\\n\\t\\t\\t\\t\\t<mode>A02</mode>\\r\\n\\t\\t\\t\\t\\t<tmEf>2020-01-07 12:00</tmEf>\\r\\n\\t\\t\\t\\t\\t<wf>흐리고 비</wf>\\r\\n\\t\\t\\t\\t\\t<tmn>12</tmn>\\r\\n\\t\\t\\t\\t\\t<tmx>15</tmx>\\r\\n\\t\\t\\t\\t\\t<reliability></reliability>\\r\\n\\t\\t\\t\\t\\t<rnSt>70</rnSt>\\r\\n\\t\\t\\t\\t</data>\\r\\n\\r\\n\\t\\t\\t\\t\\r\\n\\t\\t\\t\\t<data>\\r\\n\\t\\t\\t\\t\\t<mode>A01</mode>\\r\\n\\t\\t\\t\\t\\t<tmEf>2020-01-08 00:00</tmEf>\\r\\n\\t\\t\\t\\t\\t<wf>흐리고 비</wf>\\r\\n\\t\\t\\t\\t\\t<tmn>10</tmn>\\r\\n\\t\\t\\t\\t\\t<tmx>12</tmx>\\r\\n\\t\\t\\t\\t\\t<reliability></reliability>\\r\\n\\t\\t\\t\\t\\t<rnSt>80</rnSt>\\r\\n\\t\\t\\t\\t</data>\\r\\n\\r\\n\\t\\t\\t\\t\\r\\n\\t\\t\\t\\t<data>\\r\\n\\t\\t\\t\\t\\t<mode>A01</mode>\\r\\n\\t\\t\\t\\t\\t<tmEf>2020-01-09 00:00</tmEf>\\r\\n\\t\\t\\t\\t\\t<wf>구름많음</wf>\\r\\n\\t\\t\\t\\t\\t<tmn>7</tmn>\\r\\n\\t\\t\\t\\t\\t<tmx>9</tmx>\\r\\n\\t\\t\\t\\t\\t<reliability></reliability>\\r\\n\\t\\t\\t\\t\\t<rnSt>40</rnSt>\\r\\n\\t\\t\\t\\t</data>\\r\\n\\r\\n\\t\\t\\t\\t\\r\\n\\t\\t\\t\\t<data>\\r\\n\\t\\t\\t\\t\\t<mode>A01</mode>\\r\\n\\t\\t\\t\\t\\t<tmEf>2020-01-10 00:00</tmEf>\\r\\n\\t\\t\\t\\t\\t<wf>구름많음</wf>\\r\\n\\t\\t\\t\\t\\t<tmn>7</tmn>\\r\\n\\t\\t\\t\\t\\t<tmx>11</tmx>\\r\\n\\t\\t\\t\\t\\t<reliability></reliability>\\r\\n\\t\\t\\t\\t\\t<rnSt>30</rnSt>\\r\\n\\t\\t\\t\\t</data>\\r\\n\\r\\n\\r\\n\\t\\t</location>\\r\\n\\r\\n\\t\\t<location wl_ver=\"3\">\\r\\n\\t\\t\\t\\t<province>제주도</province>\\r\\n\\t\\t\\t\\t<city>서귀포</city>\\r\\n\\t\\t\\t\\t\\r\\n\\t\\t\\t\\t<data>\\r\\n\\t\\t\\t\\t\\t<mode>A02</mode>\\r\\n\\t\\t\\t\\t\\t<tmEf>2020-01-03 00:00</tmEf>\\r\\n\\t\\t\\t\\t\\t<wf>구름많음</wf>\\r\\n\\t\\t\\t\\t\\t<tmn>7</tmn>\\r\\n\\t\\t\\t\\t\\t<tmx>14</tmx>\\r\\n\\t\\t\\t\\t\\t<reliability></reliability>\\r\\n\\t\\t\\t\\t\\t<rnSt>40</rnSt>\\r\\n\\t\\t\\t\\t</data>\\r\\n\\r\\n\\t\\t\\t\\t\\r\\n\\t\\t\\t\\t<data>\\r\\n\\t\\t\\t\\t\\t<mode>A02</mode>\\r\\n\\t\\t\\t\\t\\t<tmEf>2020-01-03 12:00</tmEf>\\r\\n\\t\\t\\t\\t\\t<wf>구름많음</wf>\\r\\n\\t\\t\\t\\t\\t<tmn>7</tmn>\\r\\n\\t\\t\\t\\t\\t<tmx>14</tmx>\\r\\n\\t\\t\\t\\t\\t<reliability></reliability>\\r\\n\\t\\t\\t\\t\\t<rnSt>40</rnSt>\\r\\n\\t\\t\\t\\t</data>\\r\\n\\r\\n\\t\\t\\t\\t\\r\\n\\t\\t\\t\\t<data>\\r\\n\\t\\t\\t\\t\\t<mode>A02</mode>\\r\\n\\t\\t\\t\\t\\t<tmEf>2020-01-04 00:00</tmEf>\\r\\n\\t\\t\\t\\t\\t<wf>구름많음</wf>\\r\\n\\t\\t\\t\\t\\t<tmn>9</tmn>\\r\\n\\t\\t\\t\\t\\t<tmx>14</tmx>\\r\\n\\t\\t\\t\\t\\t<reliability></reliability>\\r\\n\\t\\t\\t\\t\\t<rnSt>30</rnSt>\\r\\n\\t\\t\\t\\t</data>\\r\\n\\r\\n\\t\\t\\t\\t\\r\\n\\t\\t\\t\\t<data>\\r\\n\\t\\t\\t\\t\\t<mode>A02</mode>\\r\\n\\t\\t\\t\\t\\t<tmEf>2020-01-04 12:00</tmEf>\\r\\n\\t\\t\\t\\t\\t<wf>맑음</wf>\\r\\n\\t\\t\\t\\t\\t<tmn>9</tmn>\\r\\n\\t\\t\\t\\t\\t<tmx>14</tmx>\\r\\n\\t\\t\\t\\t\\t<reliability></reliability>\\r\\n\\t\\t\\t\\t\\t<rnSt>10</rnSt>\\r\\n\\t\\t\\t\\t</data>\\r\\n\\r\\n\\t\\t\\t\\t\\r\\n\\t\\t\\t\\t<data>\\r\\n\\t\\t\\t\\t\\t<mode>A02</mode>\\r\\n\\t\\t\\t\\t\\t<tmEf>2020-01-05 00:00</tmEf>\\r\\n\\t\\t\\t\\t\\t<wf>맑음</wf>\\r\\n\\t\\t\\t\\t\\t<tmn>6</tmn>\\r\\n\\t\\t\\t\\t\\t<tmx>14</tmx>\\r\\n\\t\\t\\t\\t\\t<reliability></reliability>\\r\\n\\t\\t\\t\\t\\t<rnSt>0</rnSt>\\r\\n\\t\\t\\t\\t</data>\\r\\n\\r\\n\\t\\t\\t\\t\\r\\n\\t\\t\\t\\t<data>\\r\\n\\t\\t\\t\\t\\t<mode>A02</mode>\\r\\n\\t\\t\\t\\t\\t<tmEf>2020-01-05 12:00</tmEf>\\r\\n\\t\\t\\t\\t\\t<wf>구름많음</wf>\\r\\n\\t\\t\\t\\t\\t<tmn>6</tmn>\\r\\n\\t\\t\\t\\t\\t<tmx>14</tmx>\\r\\n\\t\\t\\t\\t\\t<reliability></reliability>\\r\\n\\t\\t\\t\\t\\t<rnSt>30</rnSt>\\r\\n\\t\\t\\t\\t</data>\\r\\n\\r\\n\\t\\t\\t\\t\\r\\n\\t\\t\\t\\t<data>\\r\\n\\t\\t\\t\\t\\t<mode>A02</mode>\\r\\n\\t\\t\\t\\t\\t<tmEf>2020-01-06 00:00</tmEf>\\r\\n\\t\\t\\t\\t\\t<wf>구름많음</wf>\\r\\n\\t\\t\\t\\t\\t<tmn>10</tmn>\\r\\n\\t\\t\\t\\t\\t<tmx>15</tmx>\\r\\n\\t\\t\\t\\t\\t<reliability></reliability>\\r\\n\\t\\t\\t\\t\\t<rnSt>30</rnSt>\\r\\n\\t\\t\\t\\t</data>\\r\\n\\r\\n\\t\\t\\t\\t\\r\\n\\t\\t\\t\\t<data>\\r\\n\\t\\t\\t\\t\\t<mode>A02</mode>\\r\\n\\t\\t\\t\\t\\t<tmEf>2020-01-06 12:00</tmEf>\\r\\n\\t\\t\\t\\t\\t<wf>흐리고 비</wf>\\r\\n\\t\\t\\t\\t\\t<tmn>10</tmn>\\r\\n\\t\\t\\t\\t\\t<tmx>15</tmx>\\r\\n\\t\\t\\t\\t\\t<reliability></reliability>\\r\\n\\t\\t\\t\\t\\t<rnSt>60</rnSt>\\r\\n\\t\\t\\t\\t</data>\\r\\n\\r\\n\\t\\t\\t\\t\\r\\n\\t\\t\\t\\t<data>\\r\\n\\t\\t\\t\\t\\t<mode>A02</mode>\\r\\n\\t\\t\\t\\t\\t<tmEf>2020-01-07 00:00</tmEf>\\r\\n\\t\\t\\t\\t\\t<wf>흐리고 비</wf>\\r\\n\\t\\t\\t\\t\\t<tmn>12</tmn>\\r\\n\\t\\t\\t\\t\\t<tmx>16</tmx>\\r\\n\\t\\t\\t\\t\\t<reliability></reliability>\\r\\n\\t\\t\\t\\t\\t<rnSt>70</rnSt>\\r\\n\\t\\t\\t\\t</data>\\r\\n\\r\\n\\t\\t\\t\\t\\r\\n\\t\\t\\t\\t<data>\\r\\n\\t\\t\\t\\t\\t<mode>A02</mode>\\r\\n\\t\\t\\t\\t\\t<tmEf>2020-01-07 12:00</tmEf>\\r\\n\\t\\t\\t\\t\\t<wf>흐리고 비</wf>\\r\\n\\t\\t\\t\\t\\t<tmn>12</tmn>\\r\\n\\t\\t\\t\\t\\t<tmx>16</tmx>\\r\\n\\t\\t\\t\\t\\t<reliability></reliability>\\r\\n\\t\\t\\t\\t\\t<rnSt>70</rnSt>\\r\\n\\t\\t\\t\\t</data>\\r\\n\\r\\n\\t\\t\\t\\t\\r\\n\\t\\t\\t\\t<data>\\r\\n\\t\\t\\t\\t\\t<mode>A01</mode>\\r\\n\\t\\t\\t\\t\\t<tmEf>2020-01-08 00:00</tmEf>\\r\\n\\t\\t\\t\\t\\t<wf>흐리고 비</wf>\\r\\n\\t\\t\\t\\t\\t<tmn>10</tmn>\\r\\n\\t\\t\\t\\t\\t<tmx>13</tmx>\\r\\n\\t\\t\\t\\t\\t<reliability></reliability>\\r\\n\\t\\t\\t\\t\\t<rnSt>80</rnSt>\\r\\n\\t\\t\\t\\t</data>\\r\\n\\r\\n\\t\\t\\t\\t\\r\\n\\t\\t\\t\\t<data>\\r\\n\\t\\t\\t\\t\\t<mode>A01</mode>\\r\\n\\t\\t\\t\\t\\t<tmEf>2020-01-09 00:00</tmEf>\\r\\n\\t\\t\\t\\t\\t<wf>구름많음</wf>\\r\\n\\t\\t\\t\\t\\t<tmn>7</tmn>\\r\\n\\t\\t\\t\\t\\t<tmx>11</tmx>\\r\\n\\t\\t\\t\\t\\t<reliability></reliability>\\r\\n\\t\\t\\t\\t\\t<rnSt>40</rnSt>\\r\\n\\t\\t\\t\\t</data>\\r\\n\\r\\n\\t\\t\\t\\t\\r\\n\\t\\t\\t\\t<data>\\r\\n\\t\\t\\t\\t\\t<mode>A01</mode>\\r\\n\\t\\t\\t\\t\\t<tmEf>2020-01-10 00:00</tmEf>\\r\\n\\t\\t\\t\\t\\t<wf>구름많음</wf>\\r\\n\\t\\t\\t\\t\\t<tmn>6</tmn>\\r\\n\\t\\t\\t\\t\\t<tmx>13</tmx>\\r\\n\\t\\t\\t\\t\\t<reliability></reliability>\\r\\n\\t\\t\\t\\t\\t<rnSt>30</rnSt>\\r\\n\\t\\t\\t\\t</data>\\r\\n\\r\\n\\r\\n\\t\\t</location>\\r\\n\\r\\n\\r\\n\\t\\r\\n\\r\\n\\t</body>\\r\\n</description>\\r\\n</item>\\r\\n</channel>\\r\\n</rss>\\t'"
      ]
     },
     "execution_count": 28,
     "metadata": {},
     "output_type": "execute_result"
    }
   ],
   "source": [
    "data=urllib.request.urlopen(url).read()\n",
    "text=data.decode('utf-8')\n",
    "text"
   ]
  },
  {
   "cell_type": "code",
   "execution_count": null,
   "metadata": {},
   "outputs": [],
   "source": [
    "\"\"\"\n",
    "파이썬 문자열 인코딩\n",
    "인코딩(encoding): 유니코드 -> 바이트 열\n",
    "디코딩(decoding): 바이트 열 -> 유니코드\n",
    "\n",
    "인코딩: 문자 표현 -> 2진수 열(바이트 열)\n",
    "인코딩 방식:ASCII, EUC-KR, CP949...\n",
    "비트가 다르고 7bit, 16bit. 다른 나라에서 만들고 그래서 각자 만들어서. \n",
    "인코딩하고 디코딩시 달라지는 이유. \n",
    "\n",
    "=> 유니코드(Unicode) universal\n",
    "\n",
    "인코딩 방식을 통일하고자 => 유니코드 탄생\n",
    "유니코등(UTF-8, UTF-16, UTF-32, ... )\n",
    "UTF-8이 가장 일반적으로 사용됨\n",
    "\n",
    "파이썬 문자열 자료형은 UTF-8\n",
    "\n",
    "\"\"\""
   ]
  },
  {
   "cell_type": "code",
   "execution_count": 35,
   "metadata": {},
   "outputs": [
    {
     "data": {
      "text/plain": [
       "bytearray(b'\\xec\\x95\\x88\\xeb\\x85\\x95')"
      ]
     },
     "execution_count": 35,
     "metadata": {},
     "output_type": "execute_result"
    }
   ],
   "source": [
    "text=\"안녕\" #유니코드\n",
    "len(text) #2byte. 16진수\n",
    "\n",
    "l=bytearray(text, 'utf-8')#유니코드 -> 바이트\n",
    "len(l) #4bit #2진수 1자리 표현- 1 bit. 8진수- 4bit 필요\n",
    "l\n",
    "\n",
    "#다른 방식, 다른비트로 인코딩이 되어 진다.\n"
   ]
  },
  {
   "cell_type": "code",
   "execution_count": 40,
   "metadata": {},
   "outputs": [
    {
     "name": "stdout",
     "output_type": "stream",
     "text": [
      "<class 'bytes'>\n",
      "10\n",
      "<class 'bytes'>\n",
      "10\n",
      "<class 'bytes'>\n",
      "15\n"
     ]
    }
   ],
   "source": [
    "test = \"안녕하세요\" #인토딩:문자 -> 바이트(byte)열\n",
    "type(test)\n",
    "s1=test.encode('cp949') #cp949 인코딩된 결과가 저장.\n",
    "print(type(s1))\n",
    "print(len(s1)) #2byte * 2개\n",
    "\n",
    "s2=test.encode('euc-kr')\n",
    "print(type(s2))\n",
    "print(len(s2))#2byte * 2개\n",
    "\n",
    "s3=test.encode('utf-8')\n",
    "print(type(s3))\n",
    "print(len(s3)) #5byte * 3개 "
   ]
  },
  {
   "cell_type": "code",
   "execution_count": 45,
   "metadata": {},
   "outputs": [
    {
     "ename": "UnicodeDecodeError",
     "evalue": "'utf-8' codec can't decode byte 0xbe in position 0: invalid start byte",
     "output_type": "error",
     "traceback": [
      "\u001b[1;31m---------------------------------------------------------------------------\u001b[0m",
      "\u001b[1;31mUnicodeDecodeError\u001b[0m                        Traceback (most recent call last)",
      "\u001b[1;32m<ipython-input-45-69a5797d59da>\u001b[0m in \u001b[0;36m<module>\u001b[1;34m\u001b[0m\n\u001b[0;32m      1\u001b[0m \u001b[0ms1\u001b[0m\u001b[1;33m.\u001b[0m\u001b[0mdecode\u001b[0m\u001b[1;33m(\u001b[0m\u001b[1;34m'cp949'\u001b[0m\u001b[1;33m)\u001b[0m\u001b[1;33m\u001b[0m\u001b[1;33m\u001b[0m\u001b[0m\n\u001b[0;32m      2\u001b[0m \u001b[0ms1\u001b[0m\u001b[1;33m.\u001b[0m\u001b[0mdecode\u001b[0m\u001b[1;33m(\u001b[0m\u001b[1;34m'euc-kr'\u001b[0m\u001b[1;33m)\u001b[0m\u001b[1;33m\u001b[0m\u001b[1;33m\u001b[0m\u001b[0m\n\u001b[1;32m----> 3\u001b[1;33m \u001b[0ms1\u001b[0m\u001b[1;33m.\u001b[0m\u001b[0mdecode\u001b[0m\u001b[1;33m(\u001b[0m\u001b[1;34m'utf-8'\u001b[0m\u001b[1;33m)\u001b[0m\u001b[1;33m\u001b[0m\u001b[1;33m\u001b[0m\u001b[0m\n\u001b[0m",
      "\u001b[1;31mUnicodeDecodeError\u001b[0m: 'utf-8' codec can't decode byte 0xbe in position 0: invalid start byte"
     ]
    }
   ],
   "source": [
    "s1.decode('cp949')\n",
    "s1.decode('euc-kr')\n",
    "#s1.decode('utf-8') #UnicodeDecodeError"
   ]
  },
  {
   "cell_type": "code",
   "execution_count": null,
   "metadata": {},
   "outputs": [],
   "source": [
    "# 스크리핑(scraping) - 국내(데이터 3법때문에 안됨, 회사별로 되는곳이 있고 아닌곳도 있다.)\n",
    "# 1. 불특정 사이트에서 개인정보들을 비식별로 끌어오는데, 회사에 통보나 동의 없이\n",
    "# 2. 로그인을 통해 개인정보 스크래핑(다른사람꺼 하면 불법)\n"
   ]
  },
  {
   "cell_type": "code",
   "execution_count": null,
   "metadata": {},
   "outputs": [],
   "source": [
    "\"\"\"\n",
    "데이터 수집 과정\n",
    "1) 수집 대상 웹사이트에서 개발자 도구를 활용하여 스크랩 대상에 대한\n",
    "선택자를 복사.\n",
    "\n",
    "2)파이썬에서 urlretrieve, urlopen 등을 사용하여 웹페이지를 가져온다\n",
    "\n",
    "3)파서를 사용하여 파싱한다(파싱; parsing) parse- 처리하다\n",
    "파싱: 가져온 웹 문서에서 태그를 기준으로 원하는 데이터를 추출\n",
    "\n",
    "4)데이터에 대한 전처리를 수행\n",
    "\n",
    "5)모델링\n",
    "\n",
    "\n",
    "\n",
    "\"\"\"\n",
    "#1번 개발자 도구를 활용해서 스크랩 대상 가져오는 예시\n",
    "#mw-content-text > div > div:nth-child(77) > table > tbody > tr > td"
   ]
  },
  {
   "cell_type": "code",
   "execution_count": 52,
   "metadata": {},
   "outputs": [],
   "source": [
    "import urllib.request as req\n",
    "from bs4 import BeautifulSoup"
   ]
  },
  {
   "cell_type": "code",
   "execution_count": 57,
   "metadata": {},
   "outputs": [
    {
     "name": "stdout",
     "output_type": "stream",
     "text": [
      "\n",
      "\n",
      "\n",
      "1,156.50\n",
      "\n",
      "\n",
      "원\n",
      "\n"
     ]
    }
   ],
   "source": [
    "url=\"https://finance.naver.com/marketindex/exchangeDetail.nhn?marketindexCd=FX_USDKRW\"\n",
    "res=req.urlopen(url)\n",
    "#print(res)\n",
    "soup=BeautifulSoup(res, 'html.parser')\n",
    "#print(soup)\n",
    "p=soup.select_one(\"#content > div.spot > div.today > p.no_today\").text\n",
    "print(p)\n",
    "\n",
    "# 쿨러 - 스크래핑 tool\n"
   ]
  },
  {
   "cell_type": "markdown",
   "metadata": {},
   "source": [
    "# 새해 연습문제 25항\n",
    "###  문제 1 \n",
    "다음(Daum)의 주가가 89,000원이고 네이버(Naver)의 주가가 751,000원이라고 가정하고, 어떤 사람이 다음 주식 100주와 네이버 주식 20주를 가지고 있을 때 그 사람이 가지고 있는 주식의 총액을 계산하는 프로그램을 작성하세요."
   ]
  },
  {
   "cell_type": "code",
   "execution_count": 94,
   "metadata": {},
   "outputs": [
    {
     "name": "stdout",
     "output_type": "stream",
     "text": [
      "총액: [23920000]원\n"
     ]
    }
   ],
   "source": [
    "#문제 1번\n",
    "Daum =[89000]\n",
    "Naver=[751000]\n",
    "Sum= [Daum[i]*100+Naver[i]*20 for i in range(len(Daum))]\n",
    "print(\"총액: {0}원\".format(Sum))"
   ]
  },
  {
   "cell_type": "markdown",
   "metadata": {},
   "source": [
    "### 문제 2\n",
    "문제 1에서 구한 주식 총액에서 다음과 네이버의 주가가 각각 5%, 10% 하락한 경우에 손실액을 구하는 프로그램을 작성하세요."
   ]
  },
  {
   "cell_type": "code",
   "execution_count": 101,
   "metadata": {},
   "outputs": [
    {
     "name": "stdout",
     "output_type": "stream",
     "text": [
      "손실금액: [1947000.0]원 \n"
     ]
    }
   ],
   "source": [
    "# 문제 2번\n",
    "Daum =[89000]\n",
    "Naver=[751000]\n",
    "Sum= [Daum[i]*100+Naver[i]*20 for i in range(len(Daum))]\n",
    "\n",
    "Loss=[Daum[i]*100*0.05 + Naver[i]*20*0.1 for i in range(len(Daum))]\n",
    "print(\"손실금액: %s원 \" %Loss)\n"
   ]
  },
  {
   "cell_type": "code",
   "execution_count": 102,
   "metadata": {},
   "outputs": [
    {
     "name": "stdout",
     "output_type": "stream",
     "text": [
      "10.0\n"
     ]
    }
   ],
   "source": [
    "#문제 3번\n",
    "F=50\n",
    "C = (F-32)/1.8\n",
    "print(C)"
   ]
  },
  {
   "cell_type": "code",
   "execution_count": 106,
   "metadata": {},
   "outputs": [
    {
     "name": "stdout",
     "output_type": "stream",
     "text": [
      "pizza pizza pizza pizza pizza pizza pizza pizza pizza pizza \n"
     ]
    }
   ],
   "source": [
    "#문제 4번\n",
    "print(\"pizza \"*10)\n"
   ]
  },
  {
   "cell_type": "code",
   "execution_count": 130,
   "metadata": {},
   "outputs": [
    {
     "name": "stdout",
     "output_type": "stream",
     "text": [
      "700000.0\n"
     ]
    }
   ],
   "source": [
    "#문제 5번\n",
    "Naver=[1000000]\n",
    "res = []\n",
    "\n",
    "for Loss in range(3):\n",
    "    Loss= [Naver[0]*0.3]\n",
    "    res= Naver[0] - Loss[0]\n",
    "    \n",
    "\n",
    "print(res)    \n"
   ]
  },
  {
   "cell_type": "code",
   "execution_count": 131,
   "metadata": {},
   "outputs": [
    {
     "name": "stdout",
     "output_type": "stream",
     "text": [
      "700000.0\n"
     ]
    }
   ],
   "source": [
    "def storck():\n",
    "    Naver=1000000\n",
    "    res = 0\n",
    "    for i in range(2):\n",
    "        Loss= Naver*0.3\n",
    "        res += loss\n",
    "    return res\n",
    "print(res)\n",
    "#print(Naver - Loss\n"
   ]
  },
  {
   "cell_type": "code",
   "execution_count": 7,
   "metadata": {},
   "outputs": [
    {
     "data": {
      "text/plain": [
       "'이름: 파이썬 생년원일: 2014년 12월 12일 주민등록번호: 20141212-1623210'"
      ]
     },
     "execution_count": 7,
     "metadata": {},
     "output_type": "execute_result"
    }
   ],
   "source": [
    "# 문제 6번\n",
    "# 다음 형식과 같이 이름, 생년월일, 주민등록번호를 출력하는 프로그램을 작성해 보세요. \n",
    "# 이름: 파이썬 생년월일: 2014년 12월 12일 주민등록번호: 20141212-1623210\n",
    "# 포맷팅. \n",
    "\n",
    "\n",
    "\"이름: {Name} 생년원일: {Birth} 주민등록번호: {ID}\".format(Name= \"파이썬\",Birth=\"2014년 12월 12일\",ID= \"20141212-1623210\")\n",
    " \n",
    "\"이름: {0} 생년원일: {1} 주민등록번호: {2}\".format(\"파이썬\",\"2014년 12월 12일\", \"20141212-1623210\")\n"
   ]
  },
  {
   "cell_type": "code",
   "execution_count": 63,
   "metadata": {},
   "outputs": [
    {
     "name": "stdout",
     "output_type": "stream",
     "text": [
      "KaKao Daum\n"
     ]
    }
   ],
   "source": [
    "#문제 7번\n",
    "# s라는 변수에 'Daum KaKao'라는 문자열이 바인딩돼 있다고 했을 때 \n",
    "#문자열의 슬라이싱 기능과 연결하기를 이용해 s의 값을 'KaKao Daum'으로 변경해 보세요.\n",
    "# 순서 바꾸는거\n",
    "s=\"Daum KaKao\"\n",
    "print(s[5:], s[0:4])"
   ]
  },
  {
   "cell_type": "code",
   "execution_count": 66,
   "metadata": {},
   "outputs": [
    {
     "name": "stdout",
     "output_type": "stream",
     "text": [
      "hi world\n"
     ]
    }
   ],
   "source": [
    "#문제 8\n",
    "#a라는 변수에 'hello world'라는 문자열이 바인딩돼 있다고 했을 때 \n",
    "#a의 값을 'hi world'로 변경해 보세요.\n",
    "a = \"hello world\"\n",
    "x=a.replace(\"hello\",\"hi\")\n",
    "print(x)\n"
   ]
  },
  {
   "cell_type": "code",
   "execution_count": 68,
   "metadata": {},
   "outputs": [
    {
     "name": "stdout",
     "output_type": "stream",
     "text": [
      "bcdefa\n"
     ]
    }
   ],
   "source": [
    "#문제 9\n",
    "#x라는 변수에 'abcdef'라는 문자열이 바인딩돼 있다고 했을 때 \n",
    "#x의 값을 'bcdefa'로 변경해 보세요.\n",
    "x='abcdef'\n",
    "print(x[1:]+x[0])"
   ]
  },
  {
   "cell_type": "code",
   "execution_count": 2,
   "metadata": {},
   "outputs": [
    {
     "name": "stdout",
     "output_type": "stream",
     "text": [
      "['488,500', '500,500', '501,000', '461,500', '474,500']\n"
     ]
    }
   ],
   "source": [
    "#문제 10\n",
    "import re\n",
    "\"\"\"2015년 9월 초의 네이버 종가는 표 3.2와 같습니다. 09/07의 종가를 \n",
    "리스트의 첫 번째 항목으로 입력해서 naver_closing_price라는 \n",
    "이름의 리스트를 만들어보세요.\n",
    "\n",
    "\n",
    "표 3.2 네이버 종가\"\"\"\n",
    "\n",
    "Naver_Stock= \"\"\"날짜 요일 종가\n",
    "09/11 금 488,500\n",
    "09/10 목 500,500\n",
    "09/09 수 501,000\n",
    "09/08 화 461,500\n",
    "09/07 월 474,500\"\"\"\n",
    "\n",
    "pat=re.compile(\"\\d+,\\d+\",re.MULTILINE)\n",
    "naver_closing_price= pat.findall(Naver_Stock)\n",
    "print(naver_closing_price)\n",
    "\n"
   ]
  },
  {
   "cell_type": "code",
   "execution_count": 3,
   "metadata": {},
   "outputs": [
    {
     "name": "stdout",
     "output_type": "stream",
     "text": [
      "501,000원\n"
     ]
    }
   ],
   "source": [
    "\"\"\"문제 11\n",
    "문제 10에서 만든 naver_closing_price를 이용해 해당 주에 종가를 \n",
    "기준으로 가장 높았던 가격을 출력하세요. \n",
    "(힌트: 리스트에서 최댓값을 찾는 함수는 max()이고, \n",
    "화면에 출력하는 함수는 print()입니다.)\"\"\"\n",
    "max_price=max(naver_closing_price)\n",
    "print(max_price+\"원\")"
   ]
  },
  {
   "cell_type": "code",
   "execution_count": 4,
   "metadata": {},
   "outputs": [
    {
     "name": "stdout",
     "output_type": "stream",
     "text": [
      "461,500원\n"
     ]
    }
   ],
   "source": [
    "\"\"\"문제 12\n",
    "문제 10에서 만든 naver_closing_price를 이용해 해당 주에 종가를 \n",
    "기준으로 가장 낮았던 가격을 출력하세요. \n",
    "(힌트: 리스트에서 최솟값을 찾는 함수는 min()이고, \n",
    "화면에 출력하는 함수는 print()입니다.)\n",
    "\"\"\"\n",
    "min_price=min(naver_closing_price)\n",
    "print(min_price+\"원\")"
   ]
  },
  {
   "cell_type": "code",
   "execution_count": 5,
   "metadata": {},
   "outputs": [
    {
     "name": "stdout",
     "output_type": "stream",
     "text": [
      "39500 원\n"
     ]
    }
   ],
   "source": [
    "\"\"\"문제 13\n",
    "문제 10에서 만든 naver_closing_price를 이용해 해당 주에서 \n",
    "가장 종가가 높았던 요일과 가장 종가가 낮았던 요일의 가격 차를 \n",
    "화면에 출력하세요..\n",
    "\"\"\"\n",
    "# Lowest_price=min_price.split(',')\n",
    "# Higtest_price=max_price.split(',')\n",
    "Lowest_price=min_price.replace(\",\",\"\")\n",
    "Higtest_price=max_price.replace(\",\",\"\")\n",
    "\n",
    "\n",
    "print(int(Higtest_price)-int(Lowest_price),\"원\")"
   ]
  },
  {
   "cell_type": "code",
   "execution_count": 8,
   "metadata": {},
   "outputs": [
    {
     "name": "stdout",
     "output_type": "stream",
     "text": [
      "501,000원\n"
     ]
    }
   ],
   "source": [
    "#문제 14. 문제 10에서 만든 naver_closing_price를 이용해 수요일의 종가를 화면에 출력하세요.\n",
    "\n",
    "print(naver_closing_price[2]+'원')\n",
    "\n"
   ]
  },
  {
   "cell_type": "code",
   "execution_count": 13,
   "metadata": {},
   "outputs": [
    {
     "name": "stdout",
     "output_type": "stream",
     "text": [
      "{'09/11': '488,500', '09/10': '500,500', '09/09': '501,000', '09/08': '461,500', '09/07': '474,500'}\n"
     ]
    }
   ],
   "source": [
    "#문제 15. 문제 10의 정보를 이용해 날짜를 키값으로, 종가를 딕셔너리 값으로 하는 \n",
    "#naver_closing_price2라는 딕셔너리 생성\n",
    "\n",
    "naver_closing_price2= {}\n",
    "\n",
    "Naver_Stock= \"\"\"\n",
    "날짜 요일 종가\n",
    "09/11 금 488,500\n",
    "09/10 목 500,500\n",
    "09/09 수 501,000\n",
    "09/08 화 461,500\n",
    "09/07 월 474,500\"\"\"\n",
    "\n",
    "day =re.findall('\\d+/\\d+',Naver_Stock, re.MULTILINE)\n",
    "Stock_price=re.findall('\\d+,\\d+',Naver_Stock, re.MULTILINE)\n",
    "\n",
    "for i in range(len(day)):\n",
    "    naver_closing_price2[day[i]]=Stock_price[i]\n",
    "\n",
    "print(naver_closing_price2)\n"
   ]
  },
  {
   "cell_type": "code",
   "execution_count": 15,
   "metadata": {},
   "outputs": [
    {
     "name": "stdout",
     "output_type": "stream",
     "text": [
      "501,000원\n"
     ]
    }
   ],
   "source": [
    "#문제 16. 문제 15에서 만든 naver_closing_price2 딕셔너리를 이용해 09/09일의 종가를 출력하세요.\n",
    "\n",
    "print(naver_closing_price2['09/09']+'원')\n",
    "\n",
    "\n"
   ]
  },
  {
   "cell_type": "code",
   "execution_count": 28,
   "metadata": {},
   "outputs": [
    {
     "name": "stdout",
     "output_type": "stream",
     "text": [
      "101호에 신물을 배달하지 않았습니다.\n",
      "102호에 신문을 배달하였습니다.\n",
      "103호에 신문을 배달하였습니다.\n",
      "104호에 신문을 배달하였습니다.\n",
      "201호에 신문을 배달하였습니다.\n",
      "202호에 신문을 배달하였습니다.\n",
      "203호에 신물을 배달하지 않았습니다.\n",
      "204호에 신문을 배달하였습니다.\n",
      "301호에 신물을 배달하지 않았습니다.\n",
      "302호에 신문을 배달하였습니다.\n",
      "303호에 신문을 배달하였습니다.\n",
      "304호에 신문을 배달하였습니다.\n",
      "401호에 신문을 배달하였습니다.\n",
      "402호에 신문을 배달하였습니다.\n",
      "403호에 신문을 배달하였습니다.\n",
      "404호에 신물을 배달하지 않았습니다.\n"
     ]
    }
   ],
   "source": [
    "#문제 17. 중첩 루프를 이용해 신문 배달을 하는 프로그램을 작성하세요.단, 아래에서 arrears 리스트는 신문 구독료가 미납된 세대에 대한 정보를 포함하고 있는데,해당 세대에는 신문을 배달하지 않아야 합니다.\n",
    "apart = [[101, 102, 103, 104],[201, 202, 203, 204],[301, 302, 303, 304], [401, 402, 403, 404]]\n",
    "\n",
    "arrears = [101, 203, 301, 404]\n",
    "\n",
    "for i in apart:\n",
    "    for j in i:\n",
    "        if j not in arrears:\n",
    "            print(\"{}호에 신문을 배달하였습니다.\".format(j))\n",
    "            \n",
    "        else: \n",
    "            print(\"{}호에 신문을 배달하지 않았습니다.\".format(j))\n",
    "            \n",
    "    "
   ]
  },
  {
   "cell_type": "code",
   "execution_count": 43,
   "metadata": {},
   "outputs": [
    {
     "name": "stdout",
     "output_type": "stream",
     "text": [
      "두개의 수를 넣으세요: 1 2\n",
      "1.5\n"
     ]
    }
   ],
   "source": [
    "#문제 18. 두 개의 정수 값을 받아 두 값의 평균을 구하는 함수를 작성하세요.def myaverage(a, b): 함수 구현\n",
    "def myaverage(a,b):\n",
    "    average = (a+b)/2 \n",
    "    return average\n",
    "\n",
    "a,b = map(int, input(\"Put 2 number: \").split())\n",
    "\n",
    "print(myaverage(a,b))\n",
    "\n"
   ]
  },
  {
   "cell_type": "code",
   "execution_count": 47,
   "metadata": {
    "scrolled": true
   },
   "outputs": [
    {
     "name": "stdout",
     "output_type": "stream",
     "text": [
      "리스트 값을 입력하시오: 1 2 3 4 5 \n",
      "(5, 1)\n"
     ]
    }
   ],
   "source": [
    "#문제 19. 함수의 인자로 리스트를 받은 후 리스트 내에 있는 모든 정수 값에 대한 최댓값과 최솟값을 반환하는 함수를 작성하세요.def get_max_min(data_list): 함수 구현\n",
    "\n",
    "def get_max_min(data_list):\n",
    "    maximum= max(data_list)\n",
    "    minimum= min(data_list)\n",
    "    return maximum, minimum\n",
    "\n",
    "num=list(map(int,input(\"Write list vaule: \").split()))\n",
    "\n",
    "print(get_max_min(num))\n",
    "    \n",
    "    \n"
   ]
  },
  {
   "cell_type": "code",
   "execution_count": 54,
   "metadata": {
    "scrolled": true
   },
   "outputs": [
    {
     "name": "stdout",
     "output_type": "stream",
     "text": [
      "Insert address: C:/Users/dlaod/Downloads\n"
     ]
    },
    {
     "data": {
      "text/plain": [
       "['C:/Users/dlaod/Downloads\\\\123.txt']"
      ]
     },
     "execution_count": 54,
     "metadata": {},
     "output_type": "execute_result"
    }
   ],
   "source": [
    "#문제 20. 절대 경로를 입력받은 후 해당 경로에 있는 \n",
    "#*.txt 파일의 목록을 파이썬 리스트로 반환하는 함수를 작성하세요.\n",
    "#def get_txt_list(path): 함수 구현\n",
    "import glob\n",
    "def get_txt_list(path):\n",
    "    file_list= glob.glob(path+'\\*.txt')\n",
    "    return file_list\n",
    "\n",
    "path = input(\"Insert address: \")\n",
    "get_txt_list(path)\n",
    "\n",
    "        \n",
    "    \n",
    "\n"
   ]
  },
  {
   "cell_type": "code",
   "execution_count": 8,
   "metadata": {},
   "outputs": [
    {
     "data": {
      "text/plain": [
       "[]"
      ]
     },
     "execution_count": 8,
     "metadata": {},
     "output_type": "execute_result"
    }
   ],
   "source": [
    "def get_txt_list(path):\n",
    "    import os\n",
    "    resList=[]\n",
    "    files =os.listdir(path)\n",
    "    for x in files:\n",
    "        if x.endswith(\"txt\"):\n",
    "            resList.append(x)\n",
    "        return resList\n",
    "\n",
    "get_txt_list(\"C:/Users/student\")\n",
    "            "
   ]
  },
  {
   "cell_type": "code",
   "execution_count": 16,
   "metadata": {
    "scrolled": false
   },
   "outputs": [
    {
     "name": "stdout",
     "output_type": "stream",
     "text": [
      "put your weight(kg), hight(m): 54, 1.64\n",
      "표준\n"
     ]
    },
    {
     "data": {
      "text/plain": [
       "20.08"
      ]
     },
     "execution_count": 16,
     "metadata": {},
     "output_type": "execute_result"
    }
   ],
   "source": [
    "#문제 21번.\n",
    "\"\"\"체질량 지수(BMI; Body Mass Index)는 인간의 비만도를 나타내는 지수로서체중과 키의 관계로 아래의 수식을 통해 계산합니다.여기서 중요한 점은 체중의 단위는 킬로그램(kg)이고 신장의 단위는 미터(m)라는 점입니다.\n",
    "\n",
    "BMI=체중(kg)/신장(m)2일반적으로 BMI 값에 따라 다음과 같이 체형을 분류하고 있습니다.\n",
    "\n",
    "BMI <18.5, 마른체형18.5 <= BMI < 25.0, 표준25.0 <= BMI < 30.0, 비만BMI >= 30.0, 고도 비만함수의 인자로 체중(kg)과 신장(cm)을 받은 후BMI 값에 따라 ‘마른체형’, ‘표준’, ‘비만’, ‘고도 비만’ 중 하나를 출력하는 함수를 작성하세요.\n",
    "\"\"\"\n",
    "def Cal_BMI(weight, height):\n",
    "    BMI=round(weight/(height)**2, 2)\n",
    "    if BMI < 18.5:\n",
    "        print(\"마른체형\")\n",
    "    elif 18.5 <= BMI < 25.0:\n",
    "        print(\"표준\")\n",
    "    elif 25.0 <= BMI < 30.0:\n",
    "        print(\"비만\")\n",
    "    elif BMI > 30.0:\n",
    "        print(\"고도비만\")\n",
    "    else: print(\"Error\")\n",
    "    return BMI\n",
    "\n",
    "weight,height = map(float,input(\"put your weight(kg), height(m): \").split(\", \"))\n",
    "\n",
    "Cal_BMI(weight, height)\n",
    "    \n",
    "    \n"
   ]
  },
  {
   "cell_type": "code",
   "execution_count": null,
   "metadata": {},
   "outputs": [
    {
     "name": "stdout",
     "output_type": "stream",
     "text": [
      "put your weight(kg), hight(m): 84, 1.86\n",
      "24.28\n",
      "표준\n"
     ]
    }
   ],
   "source": [
    "#문제 22번. 사용자로부터 키(cm)와 몸무게(kg)를 입력받은 후 BMI 값과 BMI 값에 따른 체형 정보를 화면에 출력하는 프로그램을 작성해 보세요. \n",
    "#파이썬에서 사용자 입력을 받을 때는 input 함수를 사용하며, 작성된 프로그램은 계속해서 사용자로부터 키와 몸무게를 입력받은 후 BMI 및 체형 정보를 출력해야 합니다(무한 루프 구조).\n",
    "\n",
    "def Cal_BMI(weight, height):\n",
    "    BMI=round(weight/(height)**2, 2)\n",
    "    print(BMI)\n",
    "    if BMI < 18.5:\n",
    "        print(\"마른체형\")\n",
    "    elif 18.5 <= BMI < 25.0:\n",
    "        print(\"표준\")\n",
    "    elif 25.0 <= BMI < 30.0:\n",
    "        print(\"비만\")\n",
    "    elif BMI > 30.0:\n",
    "        print(\"고도비만\")\n",
    "    else: print(\"Error\")\n",
    "    return BMI\n",
    "\n",
    "while True:\n",
    "    \n",
    "    weight,height = map(float,input(\"put your weight(kg), height(m): \").split(\", \"))\n",
    "    Cal_BMI(weight, height)\n",
    "    \n"
   ]
  },
  {
   "cell_type": "code",
   "execution_count": 4,
   "metadata": {},
   "outputs": [
    {
     "name": "stdout",
     "output_type": "stream",
     "text": [
      "Put width & height: 4 5\n"
     ]
    },
    {
     "data": {
      "text/plain": [
       "10.0"
      ]
     },
     "execution_count": 4,
     "metadata": {},
     "output_type": "execute_result"
    }
   ],
   "source": [
    "#문제 23번. 삼각형의 밑변과 높이를 입력받은 후 삼각형의 면적을 계산하는 함수를 작성하세요.\n",
    "\n",
    "def get_triangle_area(width,height):\n",
    "    area=(width*height)/2\n",
    "    return area\n",
    "\n",
    "width, height = map(int,input(\"Put width & height: \").split())\n",
    "get_triangle_area(width,height)\n"
   ]
  },
  {
   "cell_type": "code",
   "execution_count": null,
   "metadata": {},
   "outputs": [],
   "source": [
    "#문제 24번. 함수의 인자로 시작과 끝을 나타내는 숫자를 받아 시작부터 끝까지의 모든 정수값의 합을 반환하는 함수를 작성하세요(시작값과 끝값을 포함).\n",
    "\n",
    "def add_start_to_end(start, end):\n",
    "    sum = 0\n",
    "    \n",
    "\n"
   ]
  },
  {
   "cell_type": "code",
   "execution_count": null,
   "metadata": {},
   "outputs": [],
   "source": [
    "#문제 25번. 함수의 인자로 문자열을 포함하는 리스트가 입력될 때 각 문자열의 첫 세 글자로만 구성된 리스트를 반환하는 함수를 작성하세요. 예를 들어, 함수의 입력으로 ['Seoul', 'Daegu', 'Kwangju', 'Jeju']가 입력될 때 함수의 반환값은 ['Seo', 'Dae', 'Kwa', 'Jej']입니다.\n",
    "\n",
    "\n"
   ]
  },
  {
   "cell_type": "code",
   "execution_count": 72,
   "metadata": {},
   "outputs": [
    {
     "name": "stdout",
     "output_type": "stream",
     "text": [
      "1 2 3 1 2 3\n",
      "처음; [0, 2, 2, 2, 0, 0, 0, 0, 0, 0]\n",
      "[0, 1, 2, 2, 0, 0, 0, 0, 0, 0]\n",
      "[0, 1, 1, 2, 0, 0, 0, 0, 0, 0]\n",
      "[0, 1, 1, 1, 0, 0, 0, 0, 0, 0]\n",
      "[0, 0, 1, 1, 0, 0, 0, 0, 0, 0]\n",
      "[0, 0, 0, 1, 0, 0, 0, 0, 0, 0]\n",
      "[0, 0, 0, 0, 0, 0, 0, 0, 0, 0]\n",
      "baby-gin 입니다.\n"
     ]
    }
   ],
   "source": [
    "#계수정렬: 숫자에 유용, 밀집한것에 유용.\n",
    "counting_list = [0]*10\n",
    "num_list = list(map(int, input().split(' ')))\n",
    "\n",
    "\n",
    "for i in num_list:\n",
    "    counting_list[i] += 1\n",
    "\n",
    "print(\"처음;\",counting_list)\n",
    "  \n",
    "triplet = 0\n",
    "run = 0\n",
    "temp=[]\n",
    "\n",
    "while counting_list != [0]*10:\n",
    "       \n",
    "    for j in range(len(counting_list)):\n",
    "     \n",
    "        if counting_list[j] >= 3:\n",
    "            triplet += 1\n",
    "            counting_list[j] -= 3\n",
    "            print(counting_list)\n",
    "            break \n",
    "         \n",
    "        elif 0 < counting_list[j] < 3:\n",
    "            counting_list[j] -= 1\n",
    "            temp.append(j)\n",
    "            print(counting_list)\n",
    "       \n",
    "    if len(temp) == 3:\n",
    "        if temp[0]+2 == temp[1]+1 == temp[2]:\n",
    "            run += 1\n",
    "            temp=[]\n",
    "           \n",
    "        else:\n",
    "            temp=[]\n",
    "\n",
    "           \n",
    "if triplet + run == 2:\n",
    "    print(\"baby-gin 입니다.\")\n",
    "\n",
    "else:\n",
    "    print(\"baby-gin이 아닙니다.\")\n",
    "\n"
   ]
  },
  {
   "cell_type": "code",
   "execution_count": null,
   "metadata": {},
   "outputs": [],
   "source": []
  },
  {
   "cell_type": "code",
   "execution_count": null,
   "metadata": {},
   "outputs": [],
   "source": []
  },
  {
   "cell_type": "code",
   "execution_count": null,
   "metadata": {},
   "outputs": [],
   "source": []
  }
 ],
 "metadata": {
  "kernelspec": {
   "display_name": "Python 3",
   "language": "python",
   "name": "python3"
  },
  "language_info": {
   "codemirror_mode": {
    "name": "ipython",
    "version": 3
   },
   "file_extension": ".py",
   "mimetype": "text/x-python",
   "name": "python",
   "nbconvert_exporter": "python",
   "pygments_lexer": "ipython3",
   "version": "3.7.4"
  }
 },
 "nbformat": 4,
 "nbformat_minor": 2
}
