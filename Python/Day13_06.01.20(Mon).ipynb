{
 "cells": [
  {
   "cell_type": "code",
   "execution_count": null,
   "metadata": {},
   "outputs": [],
   "source": [
    "#오늘부터 Numpy(전처리), Pandas(분석) 병행 => 데이터 분석\n",
    "#이전 시간 웹에서 스크랩핑, 이젠 DB에서 수집.\n",
    "#신경망 공부해야한다. word2vec, \n",
    "\"\"\"\n",
    "*전처리: 결측치(데이터 누락- 입력자의 실수, 수집이 잘 안된경우), 표준화/정규화 \n",
    "- 어떻게 처리할지 기준이 필요(평균으로 할지, )\n",
    "e.g., 한학생 국어 점수 누락- 반평균, 학교 평균, 전국 평균, \n",
    "비슷한 학생들의 평균, 이전 국어 점수들의 평균 \n",
    "\n",
    "*다른쪽으로 대체 하는쪽으로 생각하는게 중요하다.\n",
    "나름대로 잘 정의를 해야한다. \n",
    "=> KNN or 회구 분석으로 대체 하는 경우가 많다.\n",
    "\n",
    "* 정규화: 분자: (각 속성값) - (최소)/분모:속성의 값 (최대) - (최소)\n",
    "=> 0 ~ 1 사이로 표현. 임계치 설정해서 분류를 할 수 있다.\n",
    "e.g., 각 국어점수 - 최소/국어점수의 최대-최소\n",
    "\n",
    "* 표준화: 평균; 0, 표준편차; 1 \n",
    "각 국어점수 - 평균 / 국어점수 표준편차\n",
    "\n",
    "* 원핫 인코딩(One-hot Incoding): 현실의 추상적인 것을 이진화. 하나만 1로 나타내서 코딩\n",
    "- 100000, 0100000, 0001000, ...  \n",
    "    A        B        C\n",
    "- \"분류\"를 해야하는 경우.(추상화 시킨것을 코딩에 매칭)\n",
    "문장 추출 -> 단어(5개) 추출 -> 원핫인코딩 -> 5차원\n",
    "e.g., 국어; 10000 영어; 01000 수학; 00100 과학; 00010 윤리;000001 -> 5차원\n",
    "\n",
    "\n",
    "컴퓨터가 각각의 해당하는 것을 구분할수 있도록 하는것\n",
    "사이즈가 작은 경우에는 경제적이고 효율적이다. 연산시에도 좋음.\n",
    "단점: 사이즈가 큰 경우 메모리의 공간이 너무 많이 차지함.(10만개 같은 경우)\n",
    "경제적이지 못하고 효율적이지 못하다.(비경제, 비효율) \n",
    "\n",
    "* 밀집벡터\n",
    "문장 추출 -> 단어(5개) 추출 -> 밀집벡터(0 ~ 1의 값으로 표현), Word2Vec 알고리즘\n",
    "훨씬 경제적이다. 차원(2차원 표현)수가 적어서 효율적이다.\n",
    "국어[0.2, 0.7]\n",
    "수학[0.1, 0.3]\n",
    "단점: 차원이 줄어들면서 축의 의미가 애매해진다.(축은 데이터의 특성, 일반화의 특성을 나타내는데  \n",
    "\"\"\"\n"
   ]
  },
  {
   "cell_type": "code",
   "execution_count": null,
   "metadata": {},
   "outputs": [],
   "source": [
    "#numpy - 추치 연산에 전문화된 프로그램\n",
    "#matplotlib, seaborn 시각화, \n",
    "\"\"\"\n",
    "1. 리스트: 속도느림, 메모리 용량 차지 많다.\n",
    "2. 배열(array):속도빠름, 메모리 적게 차지\n",
    "넘파이 배열과 리스트의 차이점\n",
    "-배열은 모두 같은 자료형, 원소 개수 변경 못함.\n",
    "-리스트는 다른 자료형 넣을수 있고, 원소 갯수 변경 가능.\n",
    "-배열은 파이썬에서 제공하지 않음.\n",
    "-파이썬 환경에서 넘파이 패키지를 활용하여 배열을 사용할 수 있음.\n",
    "\n",
    "3. 넘파이: 수치해석 패키지, 다차원 배열 구조. \n",
    "벡터, 행렬을 사용하는 선행대수 계산시 사용.\n",
    "넘파이 배열 연산 빠름(벡터화 연산)\n",
    "\n",
    "\"\"\"\n"
   ]
  },
  {
   "cell_type": "code",
   "execution_count": 4,
   "metadata": {},
   "outputs": [
    {
     "data": {
      "text/plain": [
       "numpy.ndarray"
      ]
     },
     "execution_count": 4,
     "metadata": {},
     "output_type": "execute_result"
    }
   ],
   "source": [
    "#1차원 배열\n",
    "import numpy\n",
    "\n",
    "ar=numpy.array([0,1,2,3,4])\n",
    "ar\n",
    "type(ar) #numpy.ndarray(nd:n dimension)\n",
    "#이미지 데이터를 행렬로 나타낸다. 픽셀의 값을 그런식으로 표현.\n",
    "\n"
   ]
  },
  {
   "cell_type": "code",
   "execution_count": null,
   "metadata": {},
   "outputs": [],
   "source": [
    "# 100*100 크기의 이미지(픽셀:10000개) - 1만 차원, 픽셀 하나당 1개 차원.\n",
    "# 0~255사이의 gray scale\n",
    "# => 몇 차원? 1만 차원.\n",
    "# 고화질 이미지 데이터를 처리할려면 컴퓨터의 성능이 좌우. \n",
    "# 고속 처리 기술이 필요하기때문에 기술이 발달. -> 하둡\n",
    "# 배열이 속도가 빠르다(벡터 연산)\n",
    "# => 삼성 8k TV AI기술 적용한거. \n",
    "\n",
    "# 공부하는 내용을 회사 직무에 어떻게 적용할지 생각하면서 공부하고, 자기소개서에 \n",
    "# 녹여야 한다.\n",
    "\n",
    "\n"
   ]
  },
  {
   "cell_type": "code",
   "execution_count": 2,
   "metadata": {},
   "outputs": [
    {
     "name": "stdout",
     "output_type": "stream",
     "text": [
      "[0, 2, 4, 6, 8, 10, 12, 14, 16, 18]\n"
     ]
    }
   ],
   "source": [
    "data = list(range(0,10))\n",
    "#data에 저장된 모든 값들에 대해 2배\n",
    "\n",
    "ans=[]\n",
    "for d in data:\n",
    "    ans.append(2*d)\n",
    "     \n",
    "print(ans)\n",
    "\n",
    "#시간 복잡도: 연산 결과가 나오기까지 수행되는 라인의 수(CPU와 관련, 연산속도)\n",
    "#공간 복잡도(Memory): \n",
    "\n",
    "\n"
   ]
  },
  {
   "cell_type": "code",
   "execution_count": null,
   "metadata": {},
   "outputs": [],
   "source": [
    "#시간 복잡도의 예; CPU와 관련, 연산속도와 관련\n",
    "data = list(range(0,10))\n",
    "#data에 저장된 모든 값들에 대해 2배\n",
    "sum=0\n",
    "d=100\n",
    "print(d*(d+1)/2)  #0(1)\n",
    "\n",
    "\n",
    "for d in data:\n",
    "    sum += d #0(n)\n",
    "     \n",
    "print(ans)\n",
    "\n",
    "#컴퓨터의 능력도 좋아져야 하지만, 알고리즘의 능력도 좋아야 시간을 줄일수 있다."
   ]
  },
  {
   "cell_type": "code",
   "execution_count": 3,
   "metadata": {},
   "outputs": [
    {
     "name": "stdout",
     "output_type": "stream",
     "text": [
      "[0, 2, 4, 6, 8, 10, 12, 14, 16, 18, 20]\n"
     ]
    }
   ],
   "source": [
    "ans=[]\n",
    "data = list(range(0,11))\n",
    "for d in data:\n",
    "    ans.append(d*2)\n",
    "print(ans)\n",
    "\n"
   ]
  },
  {
   "cell_type": "code",
   "execution_count": 10,
   "metadata": {},
   "outputs": [
    {
     "data": {
      "text/plain": [
       "array([ 0,  2,  4,  6,  8, 10, 12, 14, 16, 18, 20])"
      ]
     },
     "execution_count": 10,
     "metadata": {},
     "output_type": "execute_result"
    }
   ],
   "source": [
    "import numpy as np\n",
    "x=np.array(data)\n",
    "x*2 #벡터화 연산:for 문 사용 x, 한번의 연산. 리스트와 다르다.\n",
    "# data*2 # 똑같은 자신 2번 나온다."
   ]
  },
  {
   "cell_type": "code",
   "execution_count": 13,
   "metadata": {},
   "outputs": [],
   "source": [
    "a=np.array([1,2,3])#요소간 연산. Element wise product(sum, add)\n",
    "b=np.array([4,5,6])\n",
    "a2=[1,2,3]\n",
    "b2=[4,5,6]\n",
    "\n",
    "\n",
    "\n"
   ]
  },
  {
   "cell_type": "code",
   "execution_count": 20,
   "metadata": {},
   "outputs": [
    {
     "data": {
      "text/plain": [
       "array([ 6,  9, 12])"
      ]
     },
     "execution_count": 20,
     "metadata": {},
     "output_type": "execute_result"
    }
   ],
   "source": [
    "2*a2+b2 #리스트의 덧셈은 append와 같다. [1, 2, 3, 1, 2, 3, 4, 5, 6]\n",
    "2*a+b #요소간 연산. Element wise product(sum, add). => 벡터화 연산\n",
    "#array([ 6,  9, 12])\n",
    "\n",
    "\n"
   ]
  },
  {
   "cell_type": "code",
   "execution_count": 27,
   "metadata": {},
   "outputs": [
    {
     "data": {
      "text/plain": [
       "array([False, False,  True])"
      ]
     },
     "execution_count": 27,
     "metadata": {},
     "output_type": "execute_result"
    }
   ],
   "source": [
    "#a\n",
    "#a2==2 #False\n",
    "a==2 #array([False,  True, False]). 각각의 요소에 대해 가능. #논리연산 사용가능\n",
    "#a2>2 #type Error: not supported 'list' and 'int'\n",
    "a>2 #array([False, False,  True]), 비교연산에서 사용가능\n",
    "\n"
   ]
  },
  {
   "cell_type": "code",
   "execution_count": null,
   "metadata": {},
   "outputs": [],
   "source": [
    "#2차원 배열(행렬, matrix)\n",
    "#가로줄: 행 column, 세로줄: 열 row\n",
    "\n"
   ]
  },
  {
   "cell_type": "code",
   "execution_count": 28,
   "metadata": {},
   "outputs": [
    {
     "data": {
      "text/plain": [
       "array([[0, 1, 2],\n",
       "       [3, 4, 5]])"
      ]
     },
     "execution_count": 28,
     "metadata": {},
     "output_type": "execute_result"
    }
   ],
   "source": [
    "#2차원 배열: 리스트의 리스트\n",
    "m=np.array([[0,1,2],[3,4,5]])\n",
    "m\n",
    "#열: 안쪽 리스트 길이. 가로 크기\n",
    "#행: 바깥쪽 리스트의 길이. 세로 크기\n",
    "#2행 3열\n",
    "# 0 1 2 \n",
    "# 3 4 5\n",
    "# array([[0, 1, 2],\n",
    "#        [3, 4, 5]])\n"
   ]
  },
  {
   "cell_type": "code",
   "execution_count": 32,
   "metadata": {
    "scrolled": false
   },
   "outputs": [
    {
     "data": {
      "text/plain": [
       "3"
      ]
     },
     "execution_count": 32,
     "metadata": {},
     "output_type": "execute_result"
    }
   ],
   "source": [
    "len(m) #2, 행의 갯수\n",
    "m[0] #array([0, 1, 2])\n",
    "m[1] #array([3, 4, 5])\n",
    "len(m[0]) #3, 열의 갯수\n"
   ]
  },
  {
   "cell_type": "code",
   "execution_count": 42,
   "metadata": {},
   "outputs": [
    {
     "name": "stdout",
     "output_type": "stream",
     "text": [
      "3\n",
      "(2, 3, 4)\n"
     ]
    }
   ],
   "source": [
    "#3차원배열: 리스트의 리스트의 리스트\n",
    "m=np.array([[[1,2,3,4],\n",
    "         [5,6,7,8],\n",
    "         [9,10,11,12]],\n",
    "        [[31,2,3,4],\n",
    "         [35,6,7,8],\n",
    "         [39,10,11,12]]])\n",
    "#2행 3열. 요소(4개): 4깊이(면)\n",
    "#2*3*4 \n",
    "len(m) #2. 3번째 대괄호 기준으로 안에 2개로된 대괄호 2개 존재\n",
    "len(m[0]) #3 # 2개로 된 대괄호 안에 1개 괄호들로 이루어진 갯수\n",
    "len(m[0][0]) #4\n",
    "print(m.ndim) #3, 3차원\n",
    "print(m.shape) #(2, 3, 4)"
   ]
  },
  {
   "cell_type": "code",
   "execution_count": 38,
   "metadata": {},
   "outputs": [
    {
     "data": {
      "text/plain": [
       "(3,)"
      ]
     },
     "execution_count": 38,
     "metadata": {},
     "output_type": "execute_result"
    }
   ],
   "source": [
    "a=np.array([4,5,6])\n",
    "a.ndim#배열의 차원. #we\n",
    "a.shape #배열의 크기 #(3,)\n",
    "\n"
   ]
  },
  {
   "cell_type": "raw",
   "metadata": {},
   "source": []
  },
  {
   "cell_type": "code",
   "execution_count": 40,
   "metadata": {},
   "outputs": [
    {
     "data": {
      "text/plain": [
       "(2, 3)"
      ]
     },
     "execution_count": 40,
     "metadata": {},
     "output_type": "execute_result"
    }
   ],
   "source": [
    "a=np.array([[0,1,2],[3,4,5]])\n",
    "a.ndim #배열의 차원.\n",
    "a.shape"
   ]
  },
  {
   "cell_type": "code",
   "execution_count": 63,
   "metadata": {
    "scrolled": true
   },
   "outputs": [
    {
     "name": "stdout",
     "output_type": "stream",
     "text": [
      "504\n"
     ]
    }
   ],
   "source": [
    "#카페 업로드\n",
    "#1번\n",
    "import numpy as np\n",
    "a=[3,2,1,-4,-7,-9,8,-5,3,-1]\n",
    "#연속으로 숫자 3개를 곱했을때 얻어지는 결과값이 가장 큰 구간이 어디인지 출력,.\n",
    "cont_mul=[]\n",
    "for i in range(len(a)-3):\n",
    "    cont_mul += [a[i]*a[i+1]*a[i+2]]\n",
    "    \n",
    "maxium_peri=max(cont_mul)\n",
    "print(maxium_peri)\n",
    "print()\n",
    "\n"
   ]
  },
  {
   "cell_type": "code",
   "execution_count": null,
   "metadata": {},
   "outputs": [],
   "source": [
    "#2번\n",
    "#숫자 2*2 영역을 구성하는 수를 곱했을때 얻어지는 결과값이 가장 큰 구간이 어디인지 출력,.\n",
    "c=np.array[[3, 1,-2],\n",
    "           [2, 1,-3],\n",
    "           [-2,0,-7]]\n",
    "\n"
   ]
  },
  {
   "cell_type": "code",
   "execution_count": 56,
   "metadata": {},
   "outputs": [
    {
     "data": {
      "text/plain": [
       "6"
      ]
     },
     "execution_count": 56,
     "metadata": {},
     "output_type": "execute_result"
    }
   ],
   "source": [
    "a=np.array([3,2,1,-4,-7,-9,8,-5,3,-1])\n",
    "a[0]* a[1]\n"
   ]
  },
  {
   "cell_type": "code",
   "execution_count": 76,
   "metadata": {},
   "outputs": [
    {
     "data": {
      "text/plain": [
       "array([[1, 2],\n",
       "       [5, 6]])"
      ]
     },
     "execution_count": 76,
     "metadata": {},
     "output_type": "execute_result"
    }
   ],
   "source": [
    "#array slicing 슬라이싱(참조)\n",
    "ar=np.array([[1,2,3,4],[5,6,7,8]])\n",
    "ar\n",
    "ar[0]\n",
    "ar[0,:]#첫번째 행 전체 #array([1, 2, 3, 4])\n",
    "ar[:,1]#2번째 열 전체 #array([2, 6])\n",
    "\n",
    "ar[1,1:] #array([6, 7, 8]) #두번째 행에서 두번째 열부터 마지막까지\n",
    "\n",
    "ar[:2, :2] #표기방법이 다양하다.\n",
    "ar[:, :2]\n",
    "ar[:, 0:2]"
   ]
  },
  {
   "cell_type": "code",
   "execution_count": 101,
   "metadata": {},
   "outputs": [
    {
     "data": {
      "text/plain": [
       "6"
      ]
     },
     "execution_count": 101,
     "metadata": {},
     "output_type": "execute_result"
    }
   ],
   "source": [
    "#Indexing 인덱싱: 데이터 1개를 참조\n",
    "#slicing 슬라이싱: 데이터 여러개를 참조\n",
    "ar=np.array([0,1,2])\n",
    "ar[1] #1\n",
    "ar[-1] #2\n",
    "\n",
    "\n",
    "ar=np.array([[1,2,3,4],[5,6,7,8]])\n",
    "ar[0][0] #1\n",
    "ar[0]#다차원 배열에서는 컴마\n",
    "\n",
    "#6추출\n",
    "ar[1][1]\n",
    "ar[1,1]\n",
    "ar[-1,1]"
   ]
  },
  {
   "cell_type": "code",
   "execution_count": 93,
   "metadata": {},
   "outputs": [
    {
     "data": {
      "text/plain": [
       "array([4, 5])"
      ]
     },
     "execution_count": 93,
     "metadata": {},
     "output_type": "execute_result"
    }
   ],
   "source": [
    "#불린 참조:조건에 대해 만족하는 값을 추출\n",
    "ar=np.array([2,3,4,5])\n",
    "bidx=np.array([True, True, False, True])#논리값\n",
    "ar[bidx]#array([2, 3, 5])#True 값만 가지는 것만 추출. boolin 참조.\n",
    "ar[ar != 4] #array([2, 3, 5])\n",
    "\n",
    "#ar 요소값이 짝수인것들만 추출\n",
    "ar %2 ==0 #array([ True, False,  True, False])\n",
    "ar[ar %2 ==0] #array([2, 4])\n",
    "\n",
    "#ar 요소값이 3보다 큰 값들만 추출\n",
    "ar>3 #array([False, False,  True,  True])\n",
    "ar[ar>3] #array([4, 5])\n"
   ]
  },
  {
   "cell_type": "code",
   "execution_count": 102,
   "metadata": {},
   "outputs": [
    {
     "data": {
      "text/plain": [
       "array([2, 2, 3, 3])"
      ]
     },
     "execution_count": 102,
     "metadata": {},
     "output_type": "execute_result"
    }
   ],
   "source": [
    "#정수 참조 추출\n",
    "ar=np.array([2,3,4,5])\n",
    "idx=np.array([0,3])\n",
    "ar[idx] #array([2, 5])\n",
    "\n",
    "idx=np.array([0,0,1,1])\n",
    "ar[idx] #array([2, 2, 3, 3])\n",
    "\n"
   ]
  },
  {
   "cell_type": "code",
   "execution_count": 127,
   "metadata": {},
   "outputs": [
    {
     "data": {
      "text/plain": [
       "array([[1, 4],\n",
       "       [5, 8]])"
      ]
     },
     "execution_count": 127,
     "metadata": {},
     "output_type": "execute_result"
    }
   ],
   "source": [
    "ar=np.array([[1,2,3,4],[5,6,7,8]])\n",
    "ar[:,[0,3]]\n",
    "#ar[0,[0,3]]#array([1, 4])\n",
    "#[[1,5],\n",
    "# [4,8]]\n",
    "ar[:,[True,False,False,True]]\n"
   ]
  },
  {
   "cell_type": "code",
   "execution_count": 140,
   "metadata": {},
   "outputs": [
    {
     "data": {
      "text/plain": [
       "array([[25, 26, 27, 28],\n",
       "       [ 1,  2,  3,  4],\n",
       "       [35, 36, 37, 38]])"
      ]
     },
     "execution_count": 140,
     "metadata": {},
     "output_type": "execute_result"
    }
   ],
   "source": [
    "ar=np.array([[1,2,3,4],[5,6,7,8]])\n",
    "ar[:]#ar 전체 행\n",
    "ar#ar 배열 전체\n",
    "ar[:,:] #전체 행 전체 열\n",
    "ar=np.array([[1,2,3,4],\n",
    "             [15,16,17,18],\n",
    "             [25,26,27,28],\n",
    "             [35,36,37,38]])\n",
    "ar[[2,0],:]\n",
    "ar[[2,0,-1],:]\n",
    "ar[[2,0],:]\n"
   ]
  },
  {
   "cell_type": "code",
   "execution_count": null,
   "metadata": {},
   "outputs": [],
   "source": [
    "#원데이터:csv, tsv, txt, xls, xlsx, json,\n",
    "\n",
    "#pandas:원데이터를 데이터프레임(엑셀 시트)으로 읽어서\n",
    "#Numpy: 원데이터를 다차원배열으로 읽어서 처리한다.\n"
   ]
  },
  {
   "cell_type": "code",
   "execution_count": 161,
   "metadata": {},
   "outputs": [
    {
     "data": {
      "text/plain": [
       "pandas.core.frame.DataFrame"
      ]
     },
     "execution_count": 161,
     "metadata": {},
     "output_type": "execute_result"
    }
   ],
   "source": [
    "import pandas as pd\n",
    "csvTest=pd.read_csv(\"text_csv.csv\") # read_csv는 \",\"로 구분하는 함수\n",
    "#csvTest\n",
    "type(csvTest)"
   ]
  },
  {
   "cell_type": "code",
   "execution_count": 165,
   "metadata": {},
   "outputs": [
    {
     "data": {
      "text/html": [
       "<div>\n",
       "<style scoped>\n",
       "    .dataframe tbody tr th:only-of-type {\n",
       "        vertical-align: middle;\n",
       "    }\n",
       "\n",
       "    .dataframe tbody tr th {\n",
       "        vertical-align: top;\n",
       "    }\n",
       "\n",
       "    .dataframe thead th {\n",
       "        text-align: right;\n",
       "    }\n",
       "</style>\n",
       "<table border=\"1\" class=\"dataframe\">\n",
       "  <thead>\n",
       "    <tr style=\"text-align: right;\">\n",
       "      <th></th>\n",
       "      <th>ID</th>\n",
       "      <th>LAST_NAME</th>\n",
       "      <th>AGE</th>\n",
       "    </tr>\n",
       "  </thead>\n",
       "  <tbody>\n",
       "    <tr>\n",
       "      <td>0</td>\n",
       "      <td>1</td>\n",
       "      <td>KIM</td>\n",
       "      <td>25</td>\n",
       "    </tr>\n",
       "    <tr>\n",
       "      <td>1</td>\n",
       "      <td>2</td>\n",
       "      <td>LEE</td>\n",
       "      <td>22</td>\n",
       "    </tr>\n",
       "    <tr>\n",
       "      <td>2</td>\n",
       "      <td>3</td>\n",
       "      <td>PARK</td>\n",
       "      <td>33</td>\n",
       "    </tr>\n",
       "    <tr>\n",
       "      <td>3</td>\n",
       "      <td>4</td>\n",
       "      <td>CHOI</td>\n",
       "      <td>24</td>\n",
       "    </tr>\n",
       "    <tr>\n",
       "      <td>4</td>\n",
       "      <td>5</td>\n",
       "      <td>CHO</td>\n",
       "      <td>30</td>\n",
       "    </tr>\n",
       "  </tbody>\n",
       "</table>\n",
       "</div>"
      ],
      "text/plain": [
       "   ID LAST_NAME  AGE\n",
       "0   1       KIM   25\n",
       "1   2       LEE   22\n",
       "2   3      PARK   33\n",
       "3   4      CHOI   24\n",
       "4   5       CHO   30"
      ]
     },
     "execution_count": 165,
     "metadata": {},
     "output_type": "execute_result"
    }
   ],
   "source": [
    "csvTest"
   ]
  },
  {
   "cell_type": "code",
   "execution_count": 162,
   "metadata": {},
   "outputs": [
    {
     "data": {
      "text/plain": [
       "(5, 3)"
      ]
     },
     "execution_count": 162,
     "metadata": {},
     "output_type": "execute_result"
    }
   ],
   "source": [
    "csvTest.shape # (5,3): 튜플\n"
   ]
  },
  {
   "cell_type": "code",
   "execution_count": 168,
   "metadata": {},
   "outputs": [
    {
     "data": {
      "text/html": [
       "<div>\n",
       "<style scoped>\n",
       "    .dataframe tbody tr th:only-of-type {\n",
       "        vertical-align: middle;\n",
       "    }\n",
       "\n",
       "    .dataframe tbody tr th {\n",
       "        vertical-align: top;\n",
       "    }\n",
       "\n",
       "    .dataframe thead th {\n",
       "        text-align: right;\n",
       "    }\n",
       "</style>\n",
       "<table border=\"1\" class=\"dataframe\">\n",
       "  <thead>\n",
       "    <tr style=\"text-align: right;\">\n",
       "      <th></th>\n",
       "      <th>ID</th>\n",
       "      <th>LAST_NAME</th>\n",
       "      <th>AGE</th>\n",
       "    </tr>\n",
       "  </thead>\n",
       "  <tbody>\n",
       "    <tr>\n",
       "      <td>0</td>\n",
       "      <td>1</td>\n",
       "      <td>KIM</td>\n",
       "      <td>25</td>\n",
       "    </tr>\n",
       "    <tr>\n",
       "      <td>1</td>\n",
       "      <td>2</td>\n",
       "      <td>LEE</td>\n",
       "      <td>22</td>\n",
       "    </tr>\n",
       "    <tr>\n",
       "      <td>2</td>\n",
       "      <td>3</td>\n",
       "      <td>PARK</td>\n",
       "      <td>33</td>\n",
       "    </tr>\n",
       "    <tr>\n",
       "      <td>3</td>\n",
       "      <td>4</td>\n",
       "      <td>CHOI</td>\n",
       "      <td>24</td>\n",
       "    </tr>\n",
       "    <tr>\n",
       "      <td>4</td>\n",
       "      <td>5</td>\n",
       "      <td>CHO</td>\n",
       "      <td>30</td>\n",
       "    </tr>\n",
       "  </tbody>\n",
       "</table>\n",
       "</div>"
      ],
      "text/plain": [
       "   ID LAST_NAME  AGE\n",
       "0   1       KIM   25\n",
       "1   2       LEE   22\n",
       "2   3      PARK   33\n",
       "3   4      CHOI   24\n",
       "4   5       CHO   30"
      ]
     },
     "execution_count": 168,
     "metadata": {},
     "output_type": "execute_result"
    }
   ],
   "source": [
    "# test_text.txt\n",
    "# 구분자:|\n",
    "text=pd.read_csv(\"test_text.txt\", sep=\"|\") #첫번째 줄을 Header로 읽어 버린다. \n",
    "text\n",
    "#text.shape (5, 3)\n",
    "#text.shape (5,1)\n",
    "#행 인덱스 : 맨 왼쪽.\n",
    "#ID 제목쪽: 열 인덱스(ID, LAST_NAME, AGE)"
   ]
  },
  {
   "cell_type": "code",
   "execution_count": 187,
   "metadata": {},
   "outputs": [
    {
     "data": {
      "text/plain": [
       "array([[3, 4],\n",
       "       [8, 9]])"
      ]
     },
     "execution_count": 187,
     "metadata": {},
     "output_type": "execute_result"
    }
   ],
   "source": [
    "#문제1번\n",
    "k = np.array([[ 0,  1,  2,  3,  4],\n",
    "              [ 5,  6,  7,  8,  9],\n",
    "              [10, 11, 12, 13, 14]])\n",
    "k[1,2] # \\value  7 indexing\n",
    "k[2,4] #value 14 indexing\n",
    "k[1,1:3] #array [6,7] slicing\n",
    "k[1:,2] #array [7,12] slicing\n",
    "k[:2,3:5] #array [[3,4],[8,9]] slicing"
   ]
  },
  {
   "cell_type": "code",
   "execution_count": 211,
   "metadata": {},
   "outputs": [
    {
     "data": {
      "text/plain": [
       "array([9])"
      ]
     },
     "execution_count": 211,
     "metadata": {},
     "output_type": "execute_result"
    }
   ],
   "source": [
    "#문제 2번\n",
    "x = np.array([1, 2, 3, 4, 5, 6, 7, 8, 9, 10,\n",
    "              11, 12, 13, 14, 15, 16, 17, 18, 19, 20])\n",
    "\n",
    "a2=x[x % 3 ==0] #3의 배수 #array([ 3,  6,  9, 12, 15, 18])\n",
    "b2=x[x % 4==1] #4로 나누면 1이 남는 수 #array([ 1,  5,  9, 13, 17])\n",
    "\n",
    "x[(x % 3 ==0) & (x % 4==1)] #array([9])\n",
    "# img[(img < 200) & (img > 150)] = 0\n",
    "# img[(img >= 200) | (img <= 150)] = 0"
   ]
  },
  {
   "cell_type": "code",
   "execution_count": 224,
   "metadata": {},
   "outputs": [
    {
     "ename": "TypeError",
     "evalue": "data type not understood",
     "output_type": "error",
     "traceback": [
      "\u001b[1;31m---------------------------------------------------------------------------\u001b[0m",
      "\u001b[1;31mTypeError\u001b[0m                                 Traceback (most recent call last)",
      "\u001b[1;32m<ipython-input-224-ddc4d91ac316>\u001b[0m in \u001b[0;36m<module>\u001b[1;34m\u001b[0m\n\u001b[0;32m      1\u001b[0m \u001b[1;32mimport\u001b[0m \u001b[0mnumpy\u001b[0m \u001b[1;32mas\u001b[0m \u001b[0mnp\u001b[0m\u001b[1;33m\u001b[0m\u001b[1;33m\u001b[0m\u001b[0m\n\u001b[1;32m----> 2\u001b[1;33m \u001b[0ma\u001b[0m\u001b[1;33m=\u001b[0m\u001b[0mnp\u001b[0m\u001b[1;33m.\u001b[0m\u001b[0marray\u001b[0m\u001b[1;33m(\u001b[0m\u001b[1;33m[\u001b[0m\u001b[1;36m0\u001b[0m\u001b[1;33m]\u001b[0m\u001b[1;33m*\u001b[0m\u001b[1;36m100\u001b[0m\u001b[1;33m,\u001b[0m\u001b[1;33m[\u001b[0m\u001b[1;36m0\u001b[0m\u001b[1;33m]\u001b[0m\u001b[1;33m*\u001b[0m\u001b[1;36m100\u001b[0m\u001b[1;33m)\u001b[0m\u001b[1;33m\u001b[0m\u001b[1;33m\u001b[0m\u001b[0m\n\u001b[0m\u001b[0;32m      3\u001b[0m \u001b[0ma\u001b[0m\u001b[1;33m\u001b[0m\u001b[1;33m\u001b[0m\u001b[0m\n",
      "\u001b[1;31mTypeError\u001b[0m: data type not understood"
     ]
    }
   ],
   "source": [
    "import numpy as np\n",
    "a=np.array([0]*100,[0]*100)\n",
    "a\n"
   ]
  },
  {
   "cell_type": "code",
   "execution_count": 1,
   "metadata": {},
   "outputs": [
    {
     "name": "stdout",
     "output_type": "stream",
     "text": [
      "문제1\n",
      "[6, -8, 28, -252, 504, 360, -120, 15]\n",
      "max는 : 504\n",
      "( -7 , -9 , 8 ), data[4~6] 구간\n"
     ]
    }
   ],
   "source": [
    "listdata=[]\n",
    "data=[3,2,1,-4,-7,-9,8,-5,3,-1]\n",
    "print(\"문제1\")\n",
    "for i in range(0,8):\n",
    "    listdata.append(data[i]*data[i+1]*data[i+2])\n",
    "print(listdata)\n",
    "for i in range(0,8):\n",
    "    if listdata[i]==max(listdata):\n",
    "        print(\"max는 :\",max(listdata))\n",
    "        print(\"(\",data[i],\",\",data[i+1],\",\",data[i+2],\"), \",end=\"\")\n",
    "        print(\"data[\",i,\"~\",i+2,\"] 구간\",sep=\"\")"
   ]
  },
  {
   "cell_type": "code",
   "execution_count": 6,
   "metadata": {},
   "outputs": [
    {
     "name": "stdout",
     "output_type": "stream",
     "text": [
      "74200607\n",
      "[[0 0 0 0 0 0 0 0]\n",
      " [0 0 0 0 0 0 0 0]\n",
      " [1 0 0 0 0 0 0 1]\n",
      " [1 0 0 0 0 1 0 1]\n",
      " [1 0 0 0 0 1 0 1]\n",
      " [1 1 0 0 0 1 0 1]\n",
      " [1 1 0 0 0 1 0 1]\n",
      " [1 1 1 0 0 1 0 1]\n",
      " [1 1 1 0 0 1 0 1]]\n",
      "--------------------\n",
      "6\n",
      "[0, 6]\n"
     ]
    }
   ],
   "source": [
    "import numpy as np\n",
    "# 각 열의 상자개수  입력받기\n",
    "a = input() #74200607\n",
    "\n",
    "# 100x100 matrix 생성 대신 8x9\n",
    "h = 8\n",
    "v = 9\n",
    "room = np.array([[0]*h]*v)\n",
    "\n",
    "# 입력 받은 상자 개수대로 상자 위치 표시(상자가 있으면 1, 없으면 0)\n",
    "for i in range(h):\n",
    "    j = 0\n",
    "    for k in range(int(a[i])):\n",
    "        room[-(j+1),i] = 1\n",
    "        j += 1\n",
    "# 룸\n",
    "print(room)\n",
    "print('-'*20)\n",
    "\n",
    "#낙차 값구하기\n",
    "c = 0\n",
    "for i in range(v):\n",
    "    for j in range(h):\n",
    "# 0의 개수가 상자가 낙차할 거리 => room[j,i]이 1일때 그 위치 오른쪽의 0의 개수 체크\n",
    "# 0의 개수가 저장되어 있는 0의 개수보다 크면 그값과 그 위치 저장\n",
    "# 위치는 회전된 위치로 저장\n",
    "        if room[i,j] == 1 and list(room[i,j:]).count(0) > c: \n",
    "            c = list(room[i,j:]).count(0)\n",
    "            location = [j,room.shape[0]-(i+1)]\n",
    "print(c)\n",
    "print(location)\n"
   ]
  },
  {
   "cell_type": "code",
   "execution_count": null,
   "metadata": {},
   "outputs": [],
   "source": []
  }
 ],
 "metadata": {
  "kernelspec": {
   "display_name": "Python 3",
   "language": "python",
   "name": "python3"
  },
  "language_info": {
   "codemirror_mode": {
    "name": "ipython",
    "version": 3
   },
   "file_extension": ".py",
   "mimetype": "text/x-python",
   "name": "python",
   "nbconvert_exporter": "python",
   "pygments_lexer": "ipython3",
   "version": "3.7.4"
  }
 },
 "nbformat": 4,
 "nbformat_minor": 2
}
