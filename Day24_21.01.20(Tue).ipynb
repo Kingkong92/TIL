{
 "cells": [
  {
   "cell_type": "code",
   "execution_count": 1,
   "metadata": {},
   "outputs": [],
   "source": [
    "#배열 축 추가:np.newaxis, np.tile\n",
    "import numpy as np\n",
    "\n"
   ]
  },
  {
   "cell_type": "code",
   "execution_count": 2,
   "metadata": {},
   "outputs": [
    {
     "data": {
      "text/plain": [
       "(4,)"
      ]
     },
     "execution_count": 2,
     "metadata": {},
     "output_type": "execute_result"
    }
   ],
   "source": [
    "a=np.array([1,2,3,4])\n",
    "a\n",
    "a.shape #(4,)"
   ]
  },
  {
   "cell_type": "code",
   "execution_count": 3,
   "metadata": {},
   "outputs": [
    {
     "data": {
      "text/plain": [
       "(4, 1)"
      ]
     },
     "execution_count": 3,
     "metadata": {},
     "output_type": "execute_result"
    }
   ],
   "source": [
    "a41=a[:,np.newaxis] #(4, 1)\n",
    "a41 #4행 1열로 만든다.\n",
    "a41.shape"
   ]
  },
  {
   "cell_type": "code",
   "execution_count": 4,
   "metadata": {},
   "outputs": [
    {
     "data": {
      "text/plain": [
       "(1, 4)"
      ]
     },
     "execution_count": 4,
     "metadata": {},
     "output_type": "execute_result"
    }
   ],
   "source": [
    "a41=a[np.newaxis,:]#(1, 4)\n",
    "a41.shape "
   ]
  },
  {
   "cell_type": "code",
   "execution_count": 5,
   "metadata": {},
   "outputs": [
    {
     "data": {
      "text/plain": [
       "array([[[ 0,  1,  2,  3,  4]],\n",
       "\n",
       "       [[ 5,  6,  7,  8,  9]],\n",
       "\n",
       "       [[10, 11, 12, 13, 14]]])"
      ]
     },
     "execution_count": 5,
     "metadata": {},
     "output_type": "execute_result"
    }
   ],
   "source": [
    "b=np.arange(15).reshape(3,5)\n",
    "b\n",
    "b351=b[:, :, np.newaxis]\n",
    "b351\n",
    "b351.shape #(3, 5, 1)\n",
    "b351=b[:, np.newaxis,:]\n",
    "b351\n",
    "#b351.shape #(3, 1, 5)"
   ]
  },
  {
   "cell_type": "code",
   "execution_count": 6,
   "metadata": {},
   "outputs": [
    {
     "data": {
      "text/plain": [
       "array([[0, 1, 2, 3],\n",
       "       [4, 5, 6, 7],\n",
       "       [0, 1, 2, 3],\n",
       "       [4, 5, 6, 7]])"
      ]
     },
     "execution_count": 6,
     "metadata": {},
     "output_type": "execute_result"
    }
   ],
   "source": [
    "a=np.array([0,1,2,3])\n",
    "a8=np.tile(a,2) #array([0, 1, 2, 3, 0, 1, 2, 3])\n",
    "a8\n",
    "\n",
    "a32=np.tile(a,(3,2))\n",
    "a32\n",
    "# array([[0, 1, 2, 3, 0, 1, 2, 3],\n",
    "#        [0, 1, 2, 3, 0, 1, 2, 3],\n",
    "#        [0, 1, 2, 3, 0, 1, 2, 3]])\n",
    "\n",
    "b=np.arange(8).reshape(2,4)\n",
    "b\n",
    "# array([[0, 1, 2, 3],\n",
    "#        [4, 5, 6, 7]])\n",
    "b28=np.tile(b,2)\n",
    "b28\n",
    "# array([[0, 1, 2, 3, 0, 1, 2, 3],\n",
    "#        [4, 5, 6, 7, 4, 5, 6, 7]])\n",
    "\n",
    "b44=np.tile(b,(2,1))\n",
    "b44\n",
    "# array([[0, 1, 2, 3],\n",
    "#        [4, 5, 6, 7],\n",
    "#        [0, 1, 2, 3],\n",
    "#        [4, 5, 6, 7]])"
   ]
  },
  {
   "cell_type": "code",
   "execution_count": 7,
   "metadata": {},
   "outputs": [
    {
     "data": {
      "text/plain": [
       "array([[ 0,  5, 10],\n",
       "       [ 1,  6, 11],\n",
       "       [ 2,  7, 12],\n",
       "       [ 3,  8, 13],\n",
       "       [ 4,  9, 14]])"
      ]
     },
     "execution_count": 7,
     "metadata": {},
     "output_type": "execute_result"
    }
   ],
   "source": [
    "#행렬의 내적: aT * a : (전치 행렬) * (원래 행렬)\n",
    "a=np.arange(15).reshape(3,5)\n",
    "a\n",
    "# array([[ 0,  1,  2,  3,  4],\n",
    "#        [ 5,  6,  7,  8,  9],\n",
    "#        [10, 11, 12, 13, 14]])\n",
    "\n",
    "a.T\n",
    "# array([[ 0,  5, 10],\n",
    "#        [ 1,  6, 11],\n",
    "#        [ 2,  7, 12],\n",
    "#        [ 3,  8, 13],\n",
    "#        [ 4,  9, 14]])\n",
    "\n",
    "np.transpose(a)\n",
    "# array([[ 0,  5, 10],\n",
    "#        [ 1,  6, 11],\n",
    "#        [ 2,  7, 12],\n",
    "#        [ 3,  8, 13],\n",
    "#        [ 4,  9, 14]])"
   ]
  },
  {
   "cell_type": "code",
   "execution_count": 8,
   "metadata": {},
   "outputs": [
    {
     "data": {
      "text/plain": [
       "array([ 0, 10, 10,  3,  4])"
      ]
     },
     "execution_count": 8,
     "metadata": {},
     "output_type": "execute_result"
    }
   ],
   "source": [
    "a=np.arange(10)\n",
    "a #array([0, 1, 2, 3, 4, 5, 6, 7, 8, 9])\n",
    "ai=a[0:5] ##array([0, 1, 2, 3, 4])\n",
    "ai[1:3]=10\n",
    "ai #array([ 0, 10, 10,  3,  4])\n",
    "# a #함께 바뀐다. 어제 배웠던 부분(참조) #array([ 0, 10, 10,  3,  4,  5,  6,  7,  8,  9])\n"
   ]
  },
  {
   "cell_type": "code",
   "execution_count": 9,
   "metadata": {},
   "outputs": [],
   "source": [
    "arr=np.arange(20).reshape(5,4)\n",
    "arr\n",
    "# array([[ 0,  1,  2,  3],\n",
    "#        [ 4,  5,  6,  7],\n",
    "#        [ 8,  9, 10, 11],\n",
    "#        [12, 13, 14, 15],\n",
    "#        [16, 17, 18, 19]])\n",
    "abc=np.array(['a','a','b','c','c'])\n"
   ]
  },
  {
   "cell_type": "code",
   "execution_count": 10,
   "metadata": {},
   "outputs": [
    {
     "data": {
      "text/plain": [
       "array([[99, 99, 99, 99],\n",
       "       [99, 99, 99, 99],\n",
       "       [ 8,  9, 10, 11],\n",
       "       [12, 13, 14, 15],\n",
       "       [16, 17, 18, 19]])"
      ]
     },
     "execution_count": 10,
     "metadata": {},
     "output_type": "execute_result"
    }
   ],
   "source": [
    "abc=='a' #array([ True,  True, False, False, False])\n",
    "arr[abc=='a']\n",
    "# array([[0, 1, 2, 3],\n",
    "#        [4, 5, 6, 7]])\n",
    "arr[abc=='a',:]\n",
    "# array([[0, 1, 2, 3],\n",
    "#        [4, 5, 6, 7]])\n",
    "arr[abc=='a',:2]\n",
    "# array([[0, 1],\n",
    "#        [4, 5]])\n",
    "arr[abc=='a',2] #array([2, 6])\n",
    "\n",
    "arr[abc !='a']\n",
    "# array([[ 8,  9, 10, 11],\n",
    "#        [12, 13, 14, 15],\n",
    "#        [16, 17, 18, 19]])\n",
    "arr[~(abc =='a')]\n",
    "# array([[ 8,  9, 10, 11],\n",
    "#        [12, 13, 14, 15],\n",
    "#        [16, 17, 18, 19]])\n",
    "arr[(abc=='a') |(abc=='b')] #True,True,True,Flase,Flase\n",
    "# array([[ 0,  1,  2,  3],\n",
    "#        [ 4,  5,  6,  7],\n",
    "#        [ 8,  9, 10, 11]])\n",
    "arr[(abc!='a') &(abc!='b')] #c에 해당하는것\n",
    "# array([[12, 13, 14, 15],\n",
    "#        [16, 17, 18, 19]])\n",
    "# arr[(abc!='a') and (abc!='b')] #value Error\n",
    "# arr[(abc!='a') or (abc!='b')] #value Error\n",
    "\n",
    "# arr에서 abc배열을 이용하여 'a'와 같은 행은 모두 99로 변경(불린 참조)\n",
    "abc==\"a\" #array([ True,  True, False, False, False])\n",
    "arr[(abc)=='a']=99\n",
    "# array([[99, 99, 99, 99],\n",
    "#        [99, 99, 99, 99]])\n",
    "arr"
   ]
  },
  {
   "cell_type": "code",
   "execution_count": 11,
   "metadata": {},
   "outputs": [
    {
     "data": {
      "text/plain": [
       "array([[ 0,  0,  0,  0],\n",
       "       [ 0,  0,  0,  0],\n",
       "       [ 8,  9, 10, 11],\n",
       "       [12, 13, 14, 15],\n",
       "       [16, 17, 18, 19]])"
      ]
     },
     "execution_count": 11,
     "metadata": {},
     "output_type": "execute_result"
    }
   ],
   "source": [
    "#arr배열에서 20보다 큰 값은 모두 0으로 변경(불린 참조 사용, if or for문 사용 금지)\n",
    "arr>20\n",
    "arr[arr>20]=0\n",
    "arr\n"
   ]
  },
  {
   "cell_type": "code",
   "execution_count": 12,
   "metadata": {},
   "outputs": [
    {
     "data": {
      "text/plain": [
       "array([[ 0,  0,  0,  0],\n",
       "       [ 0,  0,  0,  0],\n",
       "       [10, 10, 10, 10],\n",
       "       [10, 10, 10, 10],\n",
       "       [16, 17, 18, 19]])"
      ]
     },
     "execution_count": 12,
     "metadata": {},
     "output_type": "execute_result"
    }
   ],
   "source": [
    "#arr배열에서 8이상 15이하 값은 모두 10으로 변경(불린 참조 사용, if or for문 사용 금지)\n",
    "(arr>= 8) & (arr<=15)\n",
    "# array([[False, False, False, False],\n",
    "#        [False, False, False, False],\n",
    "#        [ True,  True,  True,  True],\n",
    "#        [ True,  True,  True,  True],\n",
    "#        [False, False, False, False]])\n",
    "arr[(arr>= 8) & (arr<=15)]=10\n",
    "arr"
   ]
  },
  {
   "cell_type": "code",
   "execution_count": 13,
   "metadata": {},
   "outputs": [],
   "source": [
    "#arr[8<=arr <=15] Value Error 문법오류\n",
    "#arr[8<=arr & arr <=15] #Value Error  괄호 없어서 연산자 우선순위 오류.\n"
   ]
  },
  {
   "cell_type": "code",
   "execution_count": 14,
   "metadata": {},
   "outputs": [
    {
     "data": {
      "text/plain": [
       "array([-3., -2.,  0.,  1.,  3.,  4.])"
      ]
     },
     "execution_count": 14,
     "metadata": {},
     "output_type": "execute_result"
    }
   ],
   "source": [
    "#numpy에서 복소수 사용 가능\n",
    "\n",
    "a=np.array([-3.5,-2.2,0,1.6,3.14,4.05])\n",
    "np.around(a) #0.5 기준 내림 혹은 올림\n",
    "np.round_(a,1) #소수이하 첫째자리까지 출력\n",
    "np.rint(a) #가까운 정수로 올림 또는 내림\n",
    "np.fix(a) # 0 방향으로 가까운 정수로 올림 또는 내림\n",
    "np.ceil(a) #해당값보다 크거나 같은 가장 작은 정수로 올림.\n",
    "np.floor(a)#r해당값보다 작거나 같은 경우 가장 큰 정수값으로 내림 \n",
    "np.trunc(a) #소수 이하 버림\n",
    "\n",
    "\n"
   ]
  },
  {
   "cell_type": "code",
   "execution_count": 15,
   "metadata": {},
   "outputs": [
    {
     "data": {
      "text/plain": [
       "array([[1, 2],\n",
       "       [3, 4]])"
      ]
     },
     "execution_count": 15,
     "metadata": {},
     "output_type": "execute_result"
    }
   ],
   "source": [
    "a=np.array([1,2,3,4])\n",
    "c=np.arange(1,5).reshape(2,2)\n",
    "c"
   ]
  },
  {
   "cell_type": "code",
   "execution_count": 16,
   "metadata": {},
   "outputs": [
    {
     "data": {
      "text/plain": [
       "array([ 2, 12])"
      ]
     },
     "execution_count": 16,
     "metadata": {},
     "output_type": "execute_result"
    }
   ],
   "source": [
    "#배열 요소값 곱셈\n",
    "np.prod(c) #24\n",
    "np.prod(c, axis=0) #array([3, 8]) # 열기준 곱셈\n",
    "np.prod(c, axis=1) #array([ 2, 12]) #행기준 곱셈\n"
   ]
  },
  {
   "cell_type": "code",
   "execution_count": 17,
   "metadata": {},
   "outputs": [
    {
     "data": {
      "text/plain": [
       "array([3, 7])"
      ]
     },
     "execution_count": 17,
     "metadata": {},
     "output_type": "execute_result"
    }
   ],
   "source": [
    "np.sum(a) #10 #스칼라 #0차원\n",
    "a # array([1, 2, 3, 4])\n",
    "np.sum(a, keepdims=True) #array([10])\n",
    "np.sum(c, axis=0) #array([4, 6])\n",
    "np.sum(c, axis=1) #array([3, 7])"
   ]
  },
  {
   "cell_type": "code",
   "execution_count": 18,
   "metadata": {},
   "outputs": [
    {
     "data": {
      "text/plain": [
       "array([2., 3.])"
      ]
     },
     "execution_count": 18,
     "metadata": {},
     "output_type": "execute_result"
    }
   ],
   "source": [
    "d=np.array([[1,2], [3,np.nan]])\n",
    "d\n",
    "# array([[ 1.,  2.],\n",
    "#        [ 3., nan]])\n",
    "np.prod(d) #nan\n",
    "np.prod(d, axis=0) #array([ 3., nan])\n",
    "np.prod(d, axis=1) #array([ 2., nan])\n",
    "\n",
    "#np.nanprod:곱셈할때 nan을 '1'로 간주해서 곱셈.\n",
    "np.nanprod(d, axis=0) #array([3., 2.])\n",
    "np.nanprod(d, axis=1) #array([2., 3.])"
   ]
  },
  {
   "cell_type": "code",
   "execution_count": 19,
   "metadata": {},
   "outputs": [
    {
     "data": {
      "text/plain": [
       "6.0"
      ]
     },
     "execution_count": 19,
     "metadata": {},
     "output_type": "execute_result"
    }
   ],
   "source": [
    "#np.nansum:덧셈할때 nan을 '0'으로 간주해서 곱셈.\n",
    "d\n",
    "np.sum(d) #nan\n",
    "np.nansum(d) #6.0 #nan은 0으로 취급."
   ]
  },
  {
   "cell_type": "code",
   "execution_count": 20,
   "metadata": {},
   "outputs": [
    {
     "data": {
      "text/plain": [
       "array([[ 1,  2,  3],\n",
       "       [ 4, 10, 18]], dtype=int32)"
      ]
     },
     "execution_count": 20,
     "metadata": {},
     "output_type": "execute_result"
    }
   ],
   "source": [
    "a #array([1, 2, 3, 4])\n",
    "b=np.arange(1,7).reshape(2,3)\n",
    "b\n",
    "# array([[1, 2, 3],\n",
    "#        [4, 5, 6]])\n",
    "\n",
    "#np.cumprod: 누적 곱\n",
    "np.cumprod(a) #array([ 1,  2,  6, 24], dtype=int32)\n",
    "np.cumprod(b)  #array([  1,   2,   6,  24, 120, 720], dtype=int32)\n",
    "np.cumprod(b, axis=0) #열\n",
    "# array([[ 1,  2,  3],\n",
    "#        [ 4, 10, 18]], dtype=int32)\n",
    "\n",
    "#np.cumsum: 누적 합\n"
   ]
  },
  {
   "cell_type": "code",
   "execution_count": 21,
   "metadata": {},
   "outputs": [
    {
     "data": {
      "text/plain": [
       "array([-16.60964047,   0.        ,   1.        ,   3.32192809])"
      ]
     },
     "execution_count": 21,
     "metadata": {},
     "output_type": "execute_result"
    }
   ],
   "source": [
    "#지수함수, 로그함수\n",
    "\n",
    "# 자연상수 e, y=logx or y=ln(x)\n",
    "\n",
    "# 지수함수: np.exp(), 밑이 자연상수 e인 지수 함수로 변환.\n",
    "x=np.array([0.00001, 1, 2, 10])\n",
    "np.exp(x)\n",
    "#array([1.00001000e+00, 2.71828183e+00, 7.38905610e+00, 2.20264658e+04])\n",
    "\n",
    "np.log(x) \n",
    "#array([-11.51292546,   0.        ,   0.69314718,   2.30258509])\n",
    "\n",
    "np.log2(x)\n",
    "# array([-16.60964047,   0.        ,   1.        ,   3.32192809])"
   ]
  },
  {
   "cell_type": "code",
   "execution_count": null,
   "metadata": {},
   "outputs": [],
   "source": []
  },
  {
   "cell_type": "code",
   "execution_count": 22,
   "metadata": {},
   "outputs": [
    {
     "data": {
      "text/html": [
       "<div>\n",
       "<style scoped>\n",
       "    .dataframe tbody tr th:only-of-type {\n",
       "        vertical-align: middle;\n",
       "    }\n",
       "\n",
       "    .dataframe tbody tr th {\n",
       "        vertical-align: top;\n",
       "    }\n",
       "\n",
       "    .dataframe thead th {\n",
       "        text-align: right;\n",
       "    }\n",
       "</style>\n",
       "<table border=\"1\" class=\"dataframe\">\n",
       "  <thead>\n",
       "    <tr style=\"text-align: right;\">\n",
       "      <th></th>\n",
       "      <th>반</th>\n",
       "      <th>번호</th>\n",
       "      <th>국어</th>\n",
       "      <th>영어</th>\n",
       "      <th>수학</th>\n",
       "    </tr>\n",
       "  </thead>\n",
       "  <tbody>\n",
       "    <tr>\n",
       "      <td>0</td>\n",
       "      <td>A</td>\n",
       "      <td>1</td>\n",
       "      <td>90</td>\n",
       "      <td>100</td>\n",
       "      <td>80</td>\n",
       "    </tr>\n",
       "    <tr>\n",
       "      <td>1</td>\n",
       "      <td>A</td>\n",
       "      <td>2</td>\n",
       "      <td>80</td>\n",
       "      <td>90</td>\n",
       "      <td>100</td>\n",
       "    </tr>\n",
       "    <tr>\n",
       "      <td>2</td>\n",
       "      <td>A</td>\n",
       "      <td>3</td>\n",
       "      <td>90</td>\n",
       "      <td>100</td>\n",
       "      <td>80</td>\n",
       "    </tr>\n",
       "    <tr>\n",
       "      <td>3</td>\n",
       "      <td>A</td>\n",
       "      <td>4</td>\n",
       "      <td>70</td>\n",
       "      <td>80</td>\n",
       "      <td>90</td>\n",
       "    </tr>\n",
       "    <tr>\n",
       "      <td>4</td>\n",
       "      <td>A</td>\n",
       "      <td>5</td>\n",
       "      <td>100</td>\n",
       "      <td>70</td>\n",
       "      <td>80</td>\n",
       "    </tr>\n",
       "    <tr>\n",
       "      <td>5</td>\n",
       "      <td>B</td>\n",
       "      <td>1</td>\n",
       "      <td>80</td>\n",
       "      <td>90</td>\n",
       "      <td>100</td>\n",
       "    </tr>\n",
       "    <tr>\n",
       "      <td>6</td>\n",
       "      <td>B</td>\n",
       "      <td>2</td>\n",
       "      <td>90</td>\n",
       "      <td>100</td>\n",
       "      <td>70</td>\n",
       "    </tr>\n",
       "    <tr>\n",
       "      <td>7</td>\n",
       "      <td>B</td>\n",
       "      <td>3</td>\n",
       "      <td>100</td>\n",
       "      <td>70</td>\n",
       "      <td>80</td>\n",
       "    </tr>\n",
       "    <tr>\n",
       "      <td>8</td>\n",
       "      <td>B</td>\n",
       "      <td>4</td>\n",
       "      <td>70</td>\n",
       "      <td>80</td>\n",
       "      <td>90</td>\n",
       "    </tr>\n",
       "    <tr>\n",
       "      <td>9</td>\n",
       "      <td>B</td>\n",
       "      <td>5</td>\n",
       "      <td>80</td>\n",
       "      <td>90</td>\n",
       "      <td>100</td>\n",
       "    </tr>\n",
       "  </tbody>\n",
       "</table>\n",
       "</div>"
      ],
      "text/plain": [
       "   반  번호   국어   영어   수학\n",
       "0  A   1   90  100   80\n",
       "1  A   2   80   90  100\n",
       "2  A   3   90  100   80\n",
       "3  A   4   70   80   90\n",
       "4  A   5  100   70   80\n",
       "5  B   1   80   90  100\n",
       "6  B   2   90  100   70\n",
       "7  B   3  100   70   80\n",
       "8  B   4   70   80   90\n",
       "9  B   5   80   90  100"
      ]
     },
     "execution_count": 22,
     "metadata": {},
     "output_type": "execute_result"
    }
   ],
   "source": [
    "#문제 1번. 데이터프레임 생성\n",
    "import pandas as pd\n",
    "df_score2=pd.DataFrame({'반': ['A','A','A','A','A',\"B\",\"B\",\"B\",\"B\",\"B\"],\n",
    "      '번호':[1,2,3,4,5,1,2,3,4,5],\n",
    "      '국어':[90,80,90,70,100,80,90,100,70,80],\n",
    "      '영어':[100,90,100,80,70,90,100,70,80,90],\n",
    "      '수학':[80,100,80,90,80,100,70,80,90,100]})\n",
    "df_score2"
   ]
  },
  {
   "cell_type": "code",
   "execution_count": 23,
   "metadata": {},
   "outputs": [
    {
     "data": {
      "text/html": [
       "<div>\n",
       "<style scoped>\n",
       "    .dataframe tbody tr th:only-of-type {\n",
       "        vertical-align: middle;\n",
       "    }\n",
       "\n",
       "    .dataframe tbody tr th {\n",
       "        vertical-align: top;\n",
       "    }\n",
       "\n",
       "    .dataframe thead th {\n",
       "        text-align: right;\n",
       "    }\n",
       "</style>\n",
       "<table border=\"1\" class=\"dataframe\">\n",
       "  <thead>\n",
       "    <tr style=\"text-align: right;\">\n",
       "      <th></th>\n",
       "      <th></th>\n",
       "      <th>국어</th>\n",
       "      <th>수학</th>\n",
       "      <th>영어</th>\n",
       "    </tr>\n",
       "    <tr>\n",
       "      <th>반</th>\n",
       "      <th>번호</th>\n",
       "      <th></th>\n",
       "      <th></th>\n",
       "      <th></th>\n",
       "    </tr>\n",
       "  </thead>\n",
       "  <tbody>\n",
       "    <tr>\n",
       "      <td rowspan=\"5\" valign=\"top\">A</td>\n",
       "      <td>1</td>\n",
       "      <td>90</td>\n",
       "      <td>80</td>\n",
       "      <td>100</td>\n",
       "    </tr>\n",
       "    <tr>\n",
       "      <td>2</td>\n",
       "      <td>80</td>\n",
       "      <td>100</td>\n",
       "      <td>90</td>\n",
       "    </tr>\n",
       "    <tr>\n",
       "      <td>3</td>\n",
       "      <td>90</td>\n",
       "      <td>80</td>\n",
       "      <td>100</td>\n",
       "    </tr>\n",
       "    <tr>\n",
       "      <td>4</td>\n",
       "      <td>70</td>\n",
       "      <td>90</td>\n",
       "      <td>80</td>\n",
       "    </tr>\n",
       "    <tr>\n",
       "      <td>5</td>\n",
       "      <td>100</td>\n",
       "      <td>80</td>\n",
       "      <td>70</td>\n",
       "    </tr>\n",
       "    <tr>\n",
       "      <td rowspan=\"5\" valign=\"top\">B</td>\n",
       "      <td>1</td>\n",
       "      <td>80</td>\n",
       "      <td>100</td>\n",
       "      <td>90</td>\n",
       "    </tr>\n",
       "    <tr>\n",
       "      <td>2</td>\n",
       "      <td>90</td>\n",
       "      <td>70</td>\n",
       "      <td>100</td>\n",
       "    </tr>\n",
       "    <tr>\n",
       "      <td>3</td>\n",
       "      <td>100</td>\n",
       "      <td>80</td>\n",
       "      <td>70</td>\n",
       "    </tr>\n",
       "    <tr>\n",
       "      <td>4</td>\n",
       "      <td>70</td>\n",
       "      <td>90</td>\n",
       "      <td>80</td>\n",
       "    </tr>\n",
       "    <tr>\n",
       "      <td>5</td>\n",
       "      <td>80</td>\n",
       "      <td>100</td>\n",
       "      <td>90</td>\n",
       "    </tr>\n",
       "  </tbody>\n",
       "</table>\n",
       "</div>"
      ],
      "text/plain": [
       "       국어   수학   영어\n",
       "반 번호               \n",
       "A 1    90   80  100\n",
       "  2    80  100   90\n",
       "  3    90   80  100\n",
       "  4    70   90   80\n",
       "  5   100   80   70\n",
       "B 1    80  100   90\n",
       "  2    90   70  100\n",
       "  3   100   80   70\n",
       "  4    70   90   80\n",
       "  5    80  100   90"
      ]
     },
     "execution_count": 23,
     "metadata": {},
     "output_type": "execute_result"
    }
   ],
   "source": [
    "#문제 2번. 1차 행 인덱스 '반', 2차 행 인덱스 '번호'\n",
    "df_score3=df_score2.pivot_table(index=['반','번호'])\n",
    "df_score3"
   ]
  },
  {
   "cell_type": "code",
   "execution_count": 24,
   "metadata": {
    "scrolled": false
   },
   "outputs": [
    {
     "data": {
      "text/html": [
       "<div>\n",
       "<style scoped>\n",
       "    .dataframe tbody tr th:only-of-type {\n",
       "        vertical-align: middle;\n",
       "    }\n",
       "\n",
       "    .dataframe tbody tr th {\n",
       "        vertical-align: top;\n",
       "    }\n",
       "\n",
       "    .dataframe thead th {\n",
       "        text-align: right;\n",
       "    }\n",
       "</style>\n",
       "<table border=\"1\" class=\"dataframe\">\n",
       "  <thead>\n",
       "    <tr style=\"text-align: right;\">\n",
       "      <th></th>\n",
       "      <th>반</th>\n",
       "      <th>번호</th>\n",
       "      <th>국어</th>\n",
       "      <th>영어</th>\n",
       "      <th>수학</th>\n",
       "      <th>평균</th>\n",
       "    </tr>\n",
       "  </thead>\n",
       "  <tbody>\n",
       "    <tr>\n",
       "      <td>0</td>\n",
       "      <td>A</td>\n",
       "      <td>1</td>\n",
       "      <td>90</td>\n",
       "      <td>100</td>\n",
       "      <td>80</td>\n",
       "      <td>67.75</td>\n",
       "    </tr>\n",
       "    <tr>\n",
       "      <td>1</td>\n",
       "      <td>A</td>\n",
       "      <td>2</td>\n",
       "      <td>80</td>\n",
       "      <td>90</td>\n",
       "      <td>100</td>\n",
       "      <td>68.00</td>\n",
       "    </tr>\n",
       "    <tr>\n",
       "      <td>2</td>\n",
       "      <td>A</td>\n",
       "      <td>3</td>\n",
       "      <td>90</td>\n",
       "      <td>100</td>\n",
       "      <td>80</td>\n",
       "      <td>68.25</td>\n",
       "    </tr>\n",
       "    <tr>\n",
       "      <td>3</td>\n",
       "      <td>A</td>\n",
       "      <td>4</td>\n",
       "      <td>70</td>\n",
       "      <td>80</td>\n",
       "      <td>90</td>\n",
       "      <td>61.00</td>\n",
       "    </tr>\n",
       "    <tr>\n",
       "      <td>4</td>\n",
       "      <td>A</td>\n",
       "      <td>5</td>\n",
       "      <td>100</td>\n",
       "      <td>70</td>\n",
       "      <td>80</td>\n",
       "      <td>63.75</td>\n",
       "    </tr>\n",
       "    <tr>\n",
       "      <td>5</td>\n",
       "      <td>B</td>\n",
       "      <td>1</td>\n",
       "      <td>80</td>\n",
       "      <td>90</td>\n",
       "      <td>100</td>\n",
       "      <td>67.75</td>\n",
       "    </tr>\n",
       "    <tr>\n",
       "      <td>6</td>\n",
       "      <td>B</td>\n",
       "      <td>2</td>\n",
       "      <td>90</td>\n",
       "      <td>100</td>\n",
       "      <td>70</td>\n",
       "      <td>65.50</td>\n",
       "    </tr>\n",
       "    <tr>\n",
       "      <td>7</td>\n",
       "      <td>B</td>\n",
       "      <td>3</td>\n",
       "      <td>100</td>\n",
       "      <td>70</td>\n",
       "      <td>80</td>\n",
       "      <td>63.25</td>\n",
       "    </tr>\n",
       "    <tr>\n",
       "      <td>8</td>\n",
       "      <td>B</td>\n",
       "      <td>4</td>\n",
       "      <td>70</td>\n",
       "      <td>80</td>\n",
       "      <td>90</td>\n",
       "      <td>61.00</td>\n",
       "    </tr>\n",
       "    <tr>\n",
       "      <td>9</td>\n",
       "      <td>B</td>\n",
       "      <td>5</td>\n",
       "      <td>80</td>\n",
       "      <td>90</td>\n",
       "      <td>100</td>\n",
       "      <td>68.75</td>\n",
       "    </tr>\n",
       "  </tbody>\n",
       "</table>\n",
       "</div>"
      ],
      "text/plain": [
       "   반  번호   국어   영어   수학     평균\n",
       "0  A   1   90  100   80  67.75\n",
       "1  A   2   80   90  100  68.00\n",
       "2  A   3   90  100   80  68.25\n",
       "3  A   4   70   80   90  61.00\n",
       "4  A   5  100   70   80  63.75\n",
       "5  B   1   80   90  100  67.75\n",
       "6  B   2   90  100   70  65.50\n",
       "7  B   3  100   70   80  63.25\n",
       "8  B   4   70   80   90  61.00\n",
       "9  B   5   80   90  100  68.75"
      ]
     },
     "execution_count": 24,
     "metadata": {},
     "output_type": "execute_result"
    }
   ],
   "source": [
    "#문제 3번. 각 학생의 평균행 오른쪽에 추가\n",
    "\n",
    "#각 학생들의 합(행기준)\n",
    "df_score2.sum(axis=1)\n",
    "\n",
    "# 반  번호\n",
    "# A  1     270\n",
    "#    2     270\n",
    "#    3     270\n",
    "#    4     240\n",
    "#    5     250\n",
    "# B  1     270\n",
    "#    2     260\n",
    "#    3     250\n",
    "#    4     240\n",
    "#    5     270\n",
    "# dtype: int64\n",
    "\n",
    "#평균열 추가(행기준)\n",
    "df_score2.mean(axis=1)\n",
    "\n",
    "df_score2['평균']=df_score2.mean(axis=1)\n",
    "df_score2\n",
    "# 반  번호\n",
    "# A  1     90.000000\n",
    "#    2     90.000000\n",
    "#    3     90.000000\n",
    "#    4     80.000000\n",
    "#    5     83.333333\n",
    "# B  1     90.000000\n",
    "#    2     86.666667\n",
    "#    3     83.333333\n",
    "#    4     80.000000\n",
    "#    5     90.000000"
   ]
  },
  {
   "cell_type": "code",
   "execution_count": 25,
   "metadata": {},
   "outputs": [
    {
     "data": {
      "text/html": [
       "<div>\n",
       "<style scoped>\n",
       "    .dataframe tbody tr th:only-of-type {\n",
       "        vertical-align: middle;\n",
       "    }\n",
       "\n",
       "    .dataframe tbody tr th {\n",
       "        vertical-align: top;\n",
       "    }\n",
       "\n",
       "    .dataframe thead tr th {\n",
       "        text-align: left;\n",
       "    }\n",
       "\n",
       "    .dataframe thead tr:last-of-type th {\n",
       "        text-align: right;\n",
       "    }\n",
       "</style>\n",
       "<table border=\"1\" class=\"dataframe\">\n",
       "  <thead>\n",
       "    <tr>\n",
       "      <th></th>\n",
       "      <th colspan=\"2\" halign=\"left\">국어</th>\n",
       "      <th colspan=\"2\" halign=\"left\">수학</th>\n",
       "      <th colspan=\"2\" halign=\"left\">영어</th>\n",
       "    </tr>\n",
       "    <tr>\n",
       "      <th>반</th>\n",
       "      <th>A</th>\n",
       "      <th>B</th>\n",
       "      <th>A</th>\n",
       "      <th>B</th>\n",
       "      <th>A</th>\n",
       "      <th>B</th>\n",
       "    </tr>\n",
       "    <tr>\n",
       "      <th>번호</th>\n",
       "      <th></th>\n",
       "      <th></th>\n",
       "      <th></th>\n",
       "      <th></th>\n",
       "      <th></th>\n",
       "      <th></th>\n",
       "    </tr>\n",
       "  </thead>\n",
       "  <tbody>\n",
       "    <tr>\n",
       "      <td>1</td>\n",
       "      <td>90</td>\n",
       "      <td>80</td>\n",
       "      <td>80</td>\n",
       "      <td>100</td>\n",
       "      <td>100</td>\n",
       "      <td>90</td>\n",
       "    </tr>\n",
       "    <tr>\n",
       "      <td>2</td>\n",
       "      <td>80</td>\n",
       "      <td>90</td>\n",
       "      <td>100</td>\n",
       "      <td>70</td>\n",
       "      <td>90</td>\n",
       "      <td>100</td>\n",
       "    </tr>\n",
       "    <tr>\n",
       "      <td>3</td>\n",
       "      <td>90</td>\n",
       "      <td>100</td>\n",
       "      <td>80</td>\n",
       "      <td>80</td>\n",
       "      <td>100</td>\n",
       "      <td>70</td>\n",
       "    </tr>\n",
       "    <tr>\n",
       "      <td>4</td>\n",
       "      <td>70</td>\n",
       "      <td>70</td>\n",
       "      <td>90</td>\n",
       "      <td>90</td>\n",
       "      <td>80</td>\n",
       "      <td>80</td>\n",
       "    </tr>\n",
       "    <tr>\n",
       "      <td>5</td>\n",
       "      <td>100</td>\n",
       "      <td>80</td>\n",
       "      <td>80</td>\n",
       "      <td>100</td>\n",
       "      <td>70</td>\n",
       "      <td>90</td>\n",
       "    </tr>\n",
       "  </tbody>\n",
       "</table>\n",
       "</div>"
      ],
      "text/plain": [
       "     국어        수학        영어     \n",
       "반     A    B    A    B    A    B\n",
       "번호                              \n",
       "1    90   80   80  100  100   90\n",
       "2    80   90  100   70   90  100\n",
       "3    90  100   80   80  100   70\n",
       "4    70   70   90   90   80   80\n",
       "5   100   80   80  100   70   90"
      ]
     },
     "execution_count": 25,
     "metadata": {},
     "output_type": "execute_result"
    }
   ],
   "source": [
    "#문제 4번. 행 인덱스를 \"번호\", 1차 열 인덱스 \"국어\", \"영어\", \"수학\". 2차 열 인덱스 \"반\"\n",
    "\n",
    "df_score4=df_score3.pivot_table(index='번호', columns='반')\n",
    "df_score4\n",
    "\n",
    "# df1 = pd.pivot_table(df_score2,values=['국어','영어','수학'],index=['반','번호'])df1"
   ]
  },
  {
   "cell_type": "code",
   "execution_count": 26,
   "metadata": {},
   "outputs": [
    {
     "data": {
      "text/html": [
       "<div>\n",
       "<style scoped>\n",
       "    .dataframe tbody tr th:only-of-type {\n",
       "        vertical-align: middle;\n",
       "    }\n",
       "\n",
       "    .dataframe tbody tr th {\n",
       "        vertical-align: top;\n",
       "    }\n",
       "\n",
       "    .dataframe thead tr th {\n",
       "        text-align: left;\n",
       "    }\n",
       "\n",
       "    .dataframe thead tr:last-of-type th {\n",
       "        text-align: right;\n",
       "    }\n",
       "</style>\n",
       "<table border=\"1\" class=\"dataframe\">\n",
       "  <thead>\n",
       "    <tr>\n",
       "      <th></th>\n",
       "      <th colspan=\"2\" halign=\"left\">국어</th>\n",
       "      <th colspan=\"2\" halign=\"left\">수학</th>\n",
       "      <th colspan=\"2\" halign=\"left\">영어</th>\n",
       "    </tr>\n",
       "    <tr>\n",
       "      <th>반</th>\n",
       "      <th>A</th>\n",
       "      <th>B</th>\n",
       "      <th>A</th>\n",
       "      <th>B</th>\n",
       "      <th>A</th>\n",
       "      <th>B</th>\n",
       "    </tr>\n",
       "    <tr>\n",
       "      <th>번호</th>\n",
       "      <th></th>\n",
       "      <th></th>\n",
       "      <th></th>\n",
       "      <th></th>\n",
       "      <th></th>\n",
       "      <th></th>\n",
       "    </tr>\n",
       "  </thead>\n",
       "  <tbody>\n",
       "    <tr>\n",
       "      <td>1</td>\n",
       "      <td>90.0</td>\n",
       "      <td>80.0</td>\n",
       "      <td>80.0</td>\n",
       "      <td>100.0</td>\n",
       "      <td>100.0</td>\n",
       "      <td>90.0</td>\n",
       "    </tr>\n",
       "    <tr>\n",
       "      <td>2</td>\n",
       "      <td>80.0</td>\n",
       "      <td>90.0</td>\n",
       "      <td>100.0</td>\n",
       "      <td>70.0</td>\n",
       "      <td>90.0</td>\n",
       "      <td>100.0</td>\n",
       "    </tr>\n",
       "    <tr>\n",
       "      <td>3</td>\n",
       "      <td>90.0</td>\n",
       "      <td>100.0</td>\n",
       "      <td>80.0</td>\n",
       "      <td>80.0</td>\n",
       "      <td>100.0</td>\n",
       "      <td>70.0</td>\n",
       "    </tr>\n",
       "    <tr>\n",
       "      <td>4</td>\n",
       "      <td>70.0</td>\n",
       "      <td>70.0</td>\n",
       "      <td>90.0</td>\n",
       "      <td>90.0</td>\n",
       "      <td>80.0</td>\n",
       "      <td>80.0</td>\n",
       "    </tr>\n",
       "    <tr>\n",
       "      <td>5</td>\n",
       "      <td>100.0</td>\n",
       "      <td>80.0</td>\n",
       "      <td>80.0</td>\n",
       "      <td>100.0</td>\n",
       "      <td>70.0</td>\n",
       "      <td>90.0</td>\n",
       "    </tr>\n",
       "    <tr>\n",
       "      <td>평균</td>\n",
       "      <td>86.0</td>\n",
       "      <td>84.0</td>\n",
       "      <td>86.0</td>\n",
       "      <td>88.0</td>\n",
       "      <td>88.0</td>\n",
       "      <td>86.0</td>\n",
       "    </tr>\n",
       "  </tbody>\n",
       "</table>\n",
       "</div>"
      ],
      "text/plain": [
       "       국어            수학            영어       \n",
       "반       A      B      A      B      A      B\n",
       "번호                                          \n",
       "1    90.0   80.0   80.0  100.0  100.0   90.0\n",
       "2    80.0   90.0  100.0   70.0   90.0  100.0\n",
       "3    90.0  100.0   80.0   80.0  100.0   70.0\n",
       "4    70.0   70.0   90.0   90.0   80.0   80.0\n",
       "5   100.0   80.0   80.0  100.0   70.0   90.0\n",
       "평균   86.0   84.0   86.0   88.0   88.0   86.0"
      ]
     },
     "execution_count": 26,
     "metadata": {},
     "output_type": "execute_result"
    }
   ],
   "source": [
    "#문제 5. 각 반별 각 과목의 평균을 나타내는 행을 아래에 추가\n",
    "# df_score3['평균']=\n",
    "df_score4.loc['평균']=df_score4.mean(axis=0)\n",
    "df_score4\n",
    "#pd.merge(df_score3,mean_score3,how='outer')\n"
   ]
  },
  {
   "cell_type": "code",
   "execution_count": 27,
   "metadata": {},
   "outputs": [
    {
     "ename": "SyntaxError",
     "evalue": "unexpected EOF while parsing (<ipython-input-27-f0cafd822096>, line 6)",
     "output_type": "error",
     "traceback": [
      "\u001b[1;36m  File \u001b[1;32m\"<ipython-input-27-f0cafd822096>\"\u001b[1;36m, line \u001b[1;32m6\u001b[0m\n\u001b[1;33m    \u001b[0m\n\u001b[1;37m    ^\u001b[0m\n\u001b[1;31mSyntaxError\u001b[0m\u001b[1;31m:\u001b[0m unexpected EOF while parsing\n"
     ]
    }
   ],
   "source": [
    "#문제 6번.\n",
    "#양의 정수 I가 주어지면, 당신이 할 일은 I보다 큰 수 중 가장 작은 수 J를 찾습니다. \n",
    "# I의 이진수 형태에서의 1의 개수와 J의 이진수 형태에서의 1의 개수는 일치합니다.\n",
    "\n",
    "def binary(data):\n",
    "    "
   ]
  },
  {
   "cell_type": "code",
   "execution_count": null,
   "metadata": {},
   "outputs": [],
   "source": [
    "while 1 :\n",
    "    i = int(input())\n",
    "    if i == 0 : break\n",
    "        \n",
    "    i_2 = format(i, 'b') # 이진수 형식으로 표현\n",
    "    for j in range(i+1, 3*i) :\n",
    "        j_2 = format(j, 'b')\n",
    "        if j_2.count(\"1\") == i_2.count(\"1\") :\n",
    "            res = j\n",
    "            break\n",
    "    print(res)\n"
   ]
  },
  {
   "cell_type": "code",
   "execution_count": 28,
   "metadata": {},
   "outputs": [
    {
     "name": "stdout",
     "output_type": "stream",
     "text": [
      "83\n"
     ]
    }
   ],
   "source": [
    "n = 78\n",
    "n_over = n\n",
    "binary = \"\"\n",
    "while n >= 1:  # 이진수 만드는 부분\n",
    "    binary = str(n % 2) + binary\n",
    "    n //= 2\n",
    "numOne = binary.count('1') # 이진수 값에서 1 갯수 세기\n",
    "numOneX = 0\n",
    "while numOne != numOneX: # 이진수 값이 같을 때 까지 1 씩 더하면서 숫자 찾아나감\n",
    "    n_over += 1\n",
    "    n = n_over\n",
    "    checker = \"\"\n",
    "    while n >= 1:\n",
    "        checker = str(n % 2) + checker\n",
    "        n //= 2\n",
    "    numOneX = checker.count('1')\n",
    "print(n_over)\n"
   ]
  },
  {
   "cell_type": "code",
   "execution_count": null,
   "metadata": {},
   "outputs": [],
   "source": [
    "while True:\n",
    "    ipt=input('정수를 입력하세요 : ')\n",
    "    if ipt=='0':\n",
    "        break\n",
    "        \n",
    "    # 입력한 정수 -> 이진수 -> 1 개수 세기\n",
    "    cnt1=bin(int(ipt)).count('1')\n",
    "    res=0\n",
    "    # 1씩 더해가며 이진수로 변환했을 때 1 개수 세기\n",
    "    while res!=cnt1:\n",
    "        ipt=str(int(ipt)+1)\n",
    "        res=bin(int(ipt)).count('1')\n",
    "    \n",
    "    print(ipt)\n",
    "    \n"
   ]
  },
  {
   "cell_type": "code",
   "execution_count": null,
   "metadata": {},
   "outputs": [],
   "source": []
  }
 ],
 "metadata": {
  "kernelspec": {
   "display_name": "Python 3",
   "language": "python",
   "name": "python3"
  },
  "language_info": {
   "codemirror_mode": {
    "name": "ipython",
    "version": 3
   },
   "file_extension": ".py",
   "mimetype": "text/x-python",
   "name": "python",
   "nbconvert_exporter": "python",
   "pygments_lexer": "ipython3",
   "version": "3.7.4"
  }
 },
 "nbformat": 4,
 "nbformat_minor": 2
}
